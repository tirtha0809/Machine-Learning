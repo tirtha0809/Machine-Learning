{
  "cells": [
    {
      "cell_type": "markdown",
      "metadata": {
        "id": "view-in-github",
        "colab_type": "text"
      },
      "source": [
        "<a href=\"https://colab.research.google.com/github/tirtha0809/Machine-Learning/blob/main/REMOVE2_RF.ipynb\" target=\"_parent\"><img src=\"https://colab.research.google.com/assets/colab-badge.svg\" alt=\"Open In Colab\"/></a>"
      ]
    },
    {
      "cell_type": "markdown",
      "metadata": {
        "id": "d23c76a2"
      },
      "source": [
        "# Importing Libraries"
      ],
      "id": "d23c76a2"
    },
    {
      "cell_type": "code",
      "execution_count": 4,
      "metadata": {
        "id": "5b2cef0e"
      },
      "outputs": [],
      "source": [
        "import numpy as np\n",
        "import pandas as pd\n",
        "import tensorflow as tf\n",
        "import keras as kf\n",
        "from keras.models import Sequential\n",
        "from keras.layers import Dense\n",
        "from matplotlib import pyplot\n",
        "from os import makedirs\n",
        "from numpy import dstack\n",
        "from sklearn.linear_model import LogisticRegression\n",
        "from sklearn.neighbors import KNeighborsClassifier\n",
        "from sklearn.ensemble import GradientBoostingClassifier\n",
        "from sklearn.ensemble import RandomForestClassifier\n",
        "from sklearn.tree import DecisionTreeClassifier\n",
        "from xgboost import XGBClassifier\n",
        "from sklearn.svm import SVC\n",
        "from sklearn.naive_bayes import GaussianNB\n",
        "from sklearn.ensemble import AdaBoostClassifier\n",
        "from sklearn.preprocessing import StandardScaler\n",
        "from sklearn.model_selection import train_test_split\n",
        "from imblearn.over_sampling import SMOTE\n",
        "from sklearn.metrics import confusion_matrix, accuracy_score\n",
        "from sklearn.metrics import precision_score, recall_score, f1_score, accuracy_score,roc_auc_score,roc_curve,auc\n",
        "from statistics import mean\n",
        "import time"
      ],
      "id": "5b2cef0e"
    },
    {
      "cell_type": "code",
      "execution_count": 5,
      "metadata": {
        "colab": {
          "base_uri": "https://localhost:8080/"
        },
        "id": "obp1lLW3UQLZ",
        "outputId": "28e88691-bba9-429a-ca85-67d9d6853fe2"
      },
      "outputs": [
        {
          "output_type": "stream",
          "name": "stdout",
          "text": [
            "Drive already mounted at /content/drive; to attempt to forcibly remount, call drive.mount(\"/content/drive\", force_remount=True).\n"
          ]
        }
      ],
      "source": [
        "from google.colab import drive\n",
        "drive.mount('/content/drive')"
      ],
      "id": "obp1lLW3UQLZ"
    },
    {
      "cell_type": "markdown",
      "metadata": {
        "id": "78ab07f7"
      },
      "source": [
        "# Importing DataSet"
      ],
      "id": "78ab07f7"
    },
    {
      "cell_type": "code",
      "execution_count": 6,
      "metadata": {
        "colab": {
          "base_uri": "https://localhost:8080/"
        },
        "id": "9309e06d",
        "outputId": "d3a2d76e-a3d3-41b4-ae2d-f2ae899de311"
      },
      "outputs": [
        {
          "output_type": "stream",
          "name": "stdout",
          "text": [
            "3991\n"
          ]
        }
      ],
      "source": [
        "data = pd.read_csv('/content/drive/MyDrive/LANDSLIDE/LandslideData .csv')\n",
        "dataset = data.dropna(axis = 0, how ='any')\n",
        "X =  dataset.iloc[:,1:-1].values\n",
        "y = dataset.iloc[:, -1].values\n",
        "print(len(dataset))"
      ],
      "id": "9309e06d"
    },
    {
      "cell_type": "code",
      "execution_count": 7,
      "metadata": {
        "id": "588acb2f"
      },
      "outputs": [],
      "source": [
        "#smote = SMOTE()"
      ],
      "id": "588acb2f"
    },
    {
      "cell_type": "code",
      "execution_count": 8,
      "metadata": {
        "id": "363487ad"
      },
      "outputs": [],
      "source": [
        "#x_smote, y_smote = smote.fit_resample(X, y)\n",
        "smote= SMOTE(k_neighbors = 3)\n",
        "x_smote,y_smote = smote.fit_resample(X,y)"
      ],
      "id": "363487ad"
    },
    {
      "cell_type": "code",
      "execution_count": 9,
      "metadata": {
        "id": "654f6958"
      },
      "outputs": [],
      "source": [
        "from keras.models import load_model"
      ],
      "id": "654f6958"
    },
    {
      "cell_type": "code",
      "execution_count": 10,
      "metadata": {
        "id": "67861b3e"
      },
      "outputs": [],
      "source": [
        "# create a custom function to load model\n",
        "def load_all_models(n_models):\n",
        "    all_models = list()\n",
        "    for i in range(n_models):\n",
        "        # filename\n",
        "        filename = 'north/model' + str(i + 1) + '.h5'\n",
        "        # load model\n",
        "        model = load_model(filename)\n",
        "        # Add a list of all the weaker learners\n",
        "        all_models.append(model)\n",
        "        #print('>loaded %s' % filename)\n",
        "    return all_models"
      ],
      "id": "67861b3e"
    },
    {
      "cell_type": "markdown",
      "metadata": {
        "id": "0c4c39db"
      },
      "source": [
        "## Stacking models"
      ],
      "id": "0c4c39db"
    },
    {
      "cell_type": "code",
      "execution_count": 11,
      "metadata": {
        "id": "db0754d0"
      },
      "outputs": [],
      "source": [
        "# create stacked model input dataset as outputs from the ensemble\n",
        "def stacked_dataset(members, inputX):\n",
        "    stackX = None\n",
        "    for model in members:\n",
        "        # make prediction\n",
        "        yhat = model.predict(inputX, verbose=0)\n",
        "        # stack predictions into [rows, members, probabilities]\n",
        "        if stackX is None:\n",
        "            stackX = yhat #\n",
        "        else:\n",
        "            stackX = dstack((stackX, yhat))\n",
        "    # flatten predictions to [rows, members x probabilities]\n",
        "    stackX = stackX.reshape((stackX.shape[0], stackX.shape[1]*stackX.shape[2]))\n",
        "    return stackX"
      ],
      "id": "db0754d0"
    },
    {
      "cell_type": "markdown",
      "metadata": {
        "id": "c1de75a1"
      },
      "source": [
        "## Fit meta-learner"
      ],
      "id": "c1de75a1"
    },
    {
      "cell_type": "code",
      "execution_count": 12,
      "metadata": {
        "id": "620c3aa9"
      },
      "outputs": [],
      "source": [
        "# fit a model based on the outputs from the ensemble members\n",
        "def fit_stacked_model(members, inputX, inputy):\n",
        "    # create dataset using ensemble\n",
        "    stackedX = stacked_dataset(members, inputX)\n",
        "    #print(\"Models Test time: \",(end-start) * 10**3, \"ms\")\n",
        "    # fit the meta learner\n",
        "    # model = LogisticRegression() #meta learner\n",
        "    # model = SVC(kernel = 'rbf',random_state = 0,probability= True)\n",
        "    #model = SVC(kernel = 'linear', random_state = 0,probability=True)\n",
        "    # model = GaussianNB()\n",
        "    #model = KNeighborsClassifier(n_neighbors = 3, metric = 'minkowski', p = 2)\n",
        "    # model = GradientBoostingClassifier(n_estimators=50,learning_rate=0.5, max_depth=6, random_state=0)\n",
        "    model = RandomForestClassifier(criterion = 'entropy', random_state = 0)\n",
        "    #model = DecisionTreeClassifier(max_depth=7,criterion = 'entropy', random_state = 0)\n",
        "    #model = XGBClassifier(n_estimators=50,learning_rate=0.5,max_depth=3)\n",
        "    #model = AdaBoostClassifier(random_state = 0)\n",
        "    # model = AdaBoostClassifier(n_estimators = 300, learning_rate = 1,random_state = 0)\n",
        "    #model.fit(X_train, y_train)\n",
        "    model.fit(stackedX, inputy)\n",
        "    return model"
      ],
      "id": "620c3aa9"
    },
    {
      "cell_type": "code",
      "execution_count": 13,
      "metadata": {
        "id": "46d953ea"
      },
      "outputs": [],
      "source": [
        "def stacked_prediction(members, model, inputX):\n",
        "    # create dataset using ensemble\n",
        "    stackedX = stacked_dataset(members, inputX)\n",
        "    # make a prediction\n",
        "    yhat = model.predict(stackedX)\n",
        "    return yhat"
      ],
      "id": "46d953ea"
    },
    {
      "cell_type": "code",
      "execution_count": 14,
      "metadata": {
        "id": "1bd5b4f1"
      },
      "outputs": [],
      "source": [
        "def stacked_prediction_proba(members,model,inputX):\n",
        "    # create dataset using ensemble\n",
        "    stackedX = stacked_dataset(members,inputX)\n",
        "    # make a prediction\n",
        "    yhatProb = model.predict_proba(stackedX)\n",
        "    return yhatProb"
      ],
      "id": "1bd5b4f1"
    },
    {
      "cell_type": "code",
      "execution_count": 15,
      "metadata": {
        "id": "86c41c29"
      },
      "outputs": [],
      "source": [
        "acc_train = []\n",
        "acc_test = []\n",
        "Precision_macro = []\n",
        "Precision_micro = []\n",
        "Recall_macro = []\n",
        "Recall_micro = []\n",
        "F1_macro = []\n",
        "F1_micro = []\n",
        "AUC_ovo = []\n",
        "AUC_ovr = []\n",
        "train_time = []\n",
        "test_time = []"
      ],
      "id": "86c41c29"
    },
    {
      "cell_type": "code",
      "execution_count": 16,
      "metadata": {
        "id": "--nkGullVeMc"
      },
      "outputs": [],
      "source": [
        "num_classes = 15"
      ],
      "id": "--nkGullVeMc"
    },
    {
      "cell_type": "code",
      "execution_count": 17,
      "metadata": {
        "colab": {
          "base_uri": "https://localhost:8080/"
        },
        "id": "426c21a7",
        "outputId": "6e035629-978e-4290-d4d7-a667bc286c69"
      },
      "outputs": [
        {
          "output_type": "stream",
          "name": "stdout",
          "text": [
            "[ 0.  1.  2.  3.  4.  5.  6.  7.  8.  9. 10. 11.]\n"
          ]
        },
        {
          "output_type": "stream",
          "name": "stderr",
          "text": [
            "/usr/local/lib/python3.10/dist-packages/keras/src/engine/training.py:3103: UserWarning: You are saving your model as an HDF5 file via `model.save()`. This file format is considered legacy. We recommend using instead the native Keras format, e.g. `model.save('my_model.keras')`.\n",
            "  saving_api.save_model(\n"
          ]
        },
        {
          "output_type": "stream",
          "name": "stdout",
          "text": [
            "Cross validation Train time:  1956981.5289974213 ms\n",
            "Cross validation Test time:  9150.267601013184 ms\n",
            "[ 0.  1.  2.  3.  4.  5.  6.  7.  8.  9. 10. 11.]\n"
          ]
        },
        {
          "output_type": "stream",
          "name": "stderr",
          "text": [
            "/usr/local/lib/python3.10/dist-packages/keras/src/engine/training.py:3103: UserWarning: You are saving your model as an HDF5 file via `model.save()`. This file format is considered legacy. We recommend using instead the native Keras format, e.g. `model.save('my_model.keras')`.\n",
            "  saving_api.save_model(\n"
          ]
        },
        {
          "output_type": "stream",
          "name": "stdout",
          "text": [
            "Cross validation Train time:  1952471.572637558 ms\n",
            "Cross validation Test time:  8788.605451583862 ms\n",
            "[ 0.  1.  2.  3.  4.  5.  6.  7.  8.  9. 10. 11.]\n"
          ]
        },
        {
          "output_type": "stream",
          "name": "stderr",
          "text": [
            "/usr/local/lib/python3.10/dist-packages/keras/src/engine/training.py:3103: UserWarning: You are saving your model as an HDF5 file via `model.save()`. This file format is considered legacy. We recommend using instead the native Keras format, e.g. `model.save('my_model.keras')`.\n",
            "  saving_api.save_model(\n"
          ]
        },
        {
          "output_type": "stream",
          "name": "stdout",
          "text": [
            "Cross validation Train time:  1928654.6359062195 ms\n",
            "Cross validation Test time:  7621.966123580933 ms\n",
            "[ 0.  1.  2.  3.  4.  5.  6.  7.  8.  9. 10. 11.]\n"
          ]
        },
        {
          "output_type": "stream",
          "name": "stderr",
          "text": [
            "/usr/local/lib/python3.10/dist-packages/keras/src/engine/training.py:3103: UserWarning: You are saving your model as an HDF5 file via `model.save()`. This file format is considered legacy. We recommend using instead the native Keras format, e.g. `model.save('my_model.keras')`.\n",
            "  saving_api.save_model(\n"
          ]
        },
        {
          "output_type": "stream",
          "name": "stdout",
          "text": [
            "Cross validation Train time:  1993679.8586845398 ms\n",
            "Cross validation Test time:  9397.96257019043 ms\n",
            "[ 0.  1.  2.  3.  4.  5.  6.  7.  8.  9. 10. 11.]\n"
          ]
        },
        {
          "output_type": "stream",
          "name": "stderr",
          "text": [
            "/usr/local/lib/python3.10/dist-packages/keras/src/engine/training.py:3103: UserWarning: You are saving your model as an HDF5 file via `model.save()`. This file format is considered legacy. We recommend using instead the native Keras format, e.g. `model.save('my_model.keras')`.\n",
            "  saving_api.save_model(\n"
          ]
        },
        {
          "output_type": "stream",
          "name": "stdout",
          "text": [
            "Cross validation Train time:  1902297.9147434235 ms\n",
            "Cross validation Test time:  8152.333736419678 ms\n"
          ]
        }
      ],
      "source": [
        "for i in range(0,5):\n",
        "\n",
        "    X_train_cv, X_test_cv, y_train_cv, y_test_cv = train_test_split(x_smote, y_smote, test_size = 0.25,random_state = i)\n",
        "    y_train_cv = y_train_cv - 1\n",
        "    y_test_cv = y_test_cv - 1\n",
        "\n",
        "    sc = StandardScaler()\n",
        "    X_train_cv = sc.fit_transform(X_train_cv)\n",
        "    X_test_cv = sc.transform(X_test_cv)\n",
        "    unique_labels = np.unique(y_train_cv)\n",
        "    print(unique_labels)\n",
        "\n",
        "    start = time.time()\n",
        "    # Model 1\n",
        "    ann1 = Sequential()\n",
        "    ann1.add(tf.keras.layers.Dense(units=15, activation='relu'))\n",
        "    ann1.add(tf.keras.layers.Dense(units=20, activation='relu'))\n",
        "    ann1.add(tf.keras.layers.Dense(units=num_classes, activation='softmax'))\n",
        "    ann1.compile(optimizer = 'adam', loss = kf.losses.SparseCategoricalCrossentropy(), metrics = [kf.metrics.CategoricalAccuracy()])\n",
        "    ann1.fit(X_train_cv, y_train_cv, batch_size = 128, epochs = 100,verbose=0)\n",
        "\n",
        "    # Model 2\n",
        "    ann2 = Sequential()\n",
        "    ann2.add(tf.keras.layers.Dense(units=10, activation='relu'))\n",
        "    ann2.add(tf.keras.layers.Dense(units=15, activation='relu'))\n",
        "    ann2.add(tf.keras.layers.Dense(units=25, activation='relu'))\n",
        "    ann2.add(tf.keras.layers.Dense(units=num_classes, activation='softmax'))\n",
        "    ann2.compile(optimizer = 'adam', loss = kf.losses.SparseCategoricalCrossentropy(), metrics = [kf.metrics.CategoricalAccuracy()])\n",
        "    ann2.fit(X_train_cv, y_train_cv, batch_size = 128, epochs = 150,verbose=0)\n",
        "\n",
        "    # Model 3\n",
        "    ann3 = Sequential()\n",
        "    ann3.add(tf.keras.layers.Dense(units=20, activation='relu'))\n",
        "    ann3.add(tf.keras.layers.Dense(units=25, activation='relu'))\n",
        "    ann3.add(tf.keras.layers.Dense(units=30, activation='relu'))\n",
        "    ann3.add(tf.keras.layers.Dense(units=num_classes, activation='softmax'))\n",
        "    ann3.compile(optimizer = 'adam', loss = kf.losses.SparseCategoricalCrossentropy(), metrics = [kf.metrics.CategoricalAccuracy()])\n",
        "    ann3.fit(X_train_cv, y_train_cv, batch_size = 128, epochs = 180,verbose=0)\n",
        "\n",
        "    # Model 4\n",
        "\n",
        "    ann4 = Sequential()\n",
        "    ann4.add(tf.keras.layers.Dense(units=30, activation='relu'))\n",
        "    ann4.add(tf.keras.layers.Dense(units=35, activation='relu'))\n",
        "    ann4.add(tf.keras.layers.Dense(units=40, activation='relu'))\n",
        "    ann4.add(tf.keras.layers.Dense(units=num_classes, activation='softmax'))\n",
        "    ann4.compile(optimizer = 'adam', loss = kf.losses.SparseCategoricalCrossentropy(), metrics = [kf.metrics.CategoricalAccuracy()])\n",
        "    ann4.fit(X_train_cv, y_train_cv, batch_size = 128, epochs = 200,verbose=0)\n",
        "\n",
        "    # Model 5\n",
        "\n",
        "    ann5 = Sequential()\n",
        "    ann5.add(tf.keras.layers.Dense(units=40, activation='relu'))\n",
        "    ann5.add(tf.keras.layers.Dense(units=50, activation='relu'))\n",
        "    ann5.add(tf.keras.layers.Dense(units=55, activation='relu'))\n",
        "    ann5.add(tf.keras.layers.Dense(units=num_classes, activation='softmax'))\n",
        "    ann5.compile(optimizer = 'adam', loss = kf.losses.SparseCategoricalCrossentropy(), metrics = [kf.metrics.CategoricalAccuracy()])\n",
        "    ann5.fit(X_train_cv, y_train_cv, batch_size = 128, epochs = 250,verbose=0)\n",
        "\n",
        "    # Model 6\n",
        "\n",
        "    ann6 = Sequential()\n",
        "    ann6.add(tf.keras.layers.Dense(units=35, activation='relu'))\n",
        "    ann6.add(tf.keras.layers.Dense(units=45, activation='relu'))\n",
        "    ann6.add(tf.keras.layers.Dense(units=50, activation='relu'))\n",
        "    ann6.add(tf.keras.layers.Dense(units=num_classes, activation='softmax'))\n",
        "    ann6.compile(optimizer = 'adam', loss = kf.losses.SparseCategoricalCrossentropy(), metrics = [kf.metrics.CategoricalAccuracy()])\n",
        "    ann6.fit(X_train_cv, y_train_cv, batch_size = 128, epochs = 300,verbose=0)\n",
        "\n",
        "    # Model 7\n",
        "\n",
        "    ann7 = Sequential()\n",
        "    ann7.add(tf.keras.layers.Dense(units=35, activation='relu'))\n",
        "    ann7.add(tf.keras.layers.Dense(units=45, activation='relu'))\n",
        "    ann7.add(tf.keras.layers.Dense(units=50, activation='relu'))\n",
        "    ann7.add(tf.keras.layers.Dense(units=num_classes, activation='softmax'))\n",
        "    ann7.compile(optimizer = 'adam', loss = kf.losses.SparseCategoricalCrossentropy(), metrics = [kf.metrics.CategoricalAccuracy()])\n",
        "    ann7.fit(X_train_cv, y_train_cv, batch_size = 128, epochs = 300,verbose=0)\n",
        "\n",
        "    # Model 8\n",
        "\n",
        "    ann8 = Sequential()\n",
        "    ann8.add(tf.keras.layers.Dense(units=35, activation='relu'))\n",
        "    ann8.add(tf.keras.layers.Dense(units=45, activation='relu'))\n",
        "    ann8.add(tf.keras.layers.Dense(units=50, activation='relu'))\n",
        "    ann8.add(tf.keras.layers.Dense(units=num_classes, activation='softmax'))\n",
        "    ann8.compile(optimizer = 'adam', loss = kf.losses.SparseCategoricalCrossentropy(), metrics = [kf.metrics.CategoricalAccuracy()])\n",
        "    ann8.fit(X_train_cv, y_train_cv, batch_size = 128, epochs = 300,verbose=0)\n",
        "\n",
        "    # Model 9\n",
        "\n",
        "    ann9 = Sequential()\n",
        "    ann9.add(tf.keras.layers.Dense(units=35, activation='relu'))\n",
        "    ann9.add(tf.keras.layers.Dense(units=45, activation='relu'))\n",
        "    ann9.add(tf.keras.layers.Dense(units=50, activation='relu'))\n",
        "    ann9.add(tf.keras.layers.Dense(units=num_classes, activation='softmax'))\n",
        "    ann9.compile(optimizer = 'adam', loss = kf.losses.SparseCategoricalCrossentropy(), metrics = [kf.metrics.CategoricalAccuracy()])\n",
        "    ann9.fit(X_train_cv, y_train_cv, batch_size = 128, epochs = 300,verbose=0)\n",
        "\n",
        "    # Model 10\n",
        "\n",
        "    ann10 = Sequential()\n",
        "    ann10.add(tf.keras.layers.Dense(units=35, activation='relu'))\n",
        "    ann10.add(tf.keras.layers.Dense(units=45, activation='relu'))\n",
        "    ann10.add(tf.keras.layers.Dense(units=50, activation='relu'))\n",
        "    ann10.add(tf.keras.layers.Dense(units=num_classes, activation='softmax'))\n",
        "    ann10.compile(optimizer = 'adam', loss = kf.losses.SparseCategoricalCrossentropy(), metrics = [kf.metrics.CategoricalAccuracy()])\n",
        "    ann10.fit(X_train_cv, y_train_cv, batch_size = 128, epochs = 300,verbose=0)\n",
        "    # Model 11\n",
        "\n",
        "    ann11 = Sequential()\n",
        "    ann11.add(tf.keras.layers.Dense(units=35, activation='relu'))\n",
        "    ann11.add(tf.keras.layers.Dense(units=45, activation='relu'))\n",
        "    ann11.add(tf.keras.layers.Dense(units=50, activation='relu'))\n",
        "    ann11.add(tf.keras.layers.Dense(units=num_classes, activation='softmax'))\n",
        "    ann11.compile(optimizer = 'adam', loss = kf.losses.SparseCategoricalCrossentropy(), metrics = [kf.metrics.CategoricalAccuracy()])\n",
        "    ann11.fit(X_train_cv, y_train_cv, batch_size = 128, epochs = 300,verbose=0)\n",
        "\n",
        "    # Model 12\n",
        "\n",
        "    ann12 = Sequential()\n",
        "    ann12.add(tf.keras.layers.Dense(units=35, activation='relu'))\n",
        "    ann12.add(tf.keras.layers.Dense(units=45, activation='relu'))\n",
        "    ann12.add(tf.keras.layers.Dense(units=50, activation='relu'))\n",
        "    ann12.add(tf.keras.layers.Dense(units=num_classes, activation='softmax'))\n",
        "    ann12.compile(optimizer = 'adam', loss = kf.losses.SparseCategoricalCrossentropy(), metrics = [kf.metrics.CategoricalAccuracy()])\n",
        "    ann12.fit(X_train_cv, y_train_cv, batch_size = 128, epochs = 300,verbose=0)\n",
        "\n",
        "    # Model 13\n",
        "\n",
        "    ann13 = Sequential()\n",
        "    ann13.add(tf.keras.layers.Dense(units=35, activation='relu'))\n",
        "    ann13.add(tf.keras.layers.Dense(units=45, activation='relu'))\n",
        "    ann13.add(tf.keras.layers.Dense(units=50, activation='relu'))\n",
        "    ann13.add(tf.keras.layers.Dense(units=num_classes, activation='softmax'))\n",
        "    ann13.compile(optimizer = 'adam', loss = kf.losses.SparseCategoricalCrossentropy(), metrics = [kf.metrics.CategoricalAccuracy()])\n",
        "    ann13.fit(X_train_cv, y_train_cv, batch_size = 128, epochs = 300,verbose=0)\n",
        "\n",
        "    # Model 14\n",
        "\n",
        "    ann14 = Sequential()\n",
        "    ann14.add(tf.keras.layers.Dense(units=35, activation='relu'))\n",
        "    ann14.add(tf.keras.layers.Dense(units=45, activation='relu'))\n",
        "    ann14.add(tf.keras.layers.Dense(units=50, activation='relu'))\n",
        "    ann14.add(tf.keras.layers.Dense(units=num_classes, activation='softmax'))\n",
        "    ann14.compile(optimizer = 'adam', loss = kf.losses.SparseCategoricalCrossentropy(), metrics = [kf.metrics.CategoricalAccuracy()])\n",
        "    ann14.fit(X_train_cv, y_train_cv, batch_size = 128, epochs = 300,verbose=0)\n",
        "\n",
        "    # Model 15\n",
        "\n",
        "    ann15 = Sequential()\n",
        "    ann15.add(tf.keras.layers.Dense(units=35, activation='relu'))\n",
        "    ann15.add(tf.keras.layers.Dense(units=45, activation='sigmoid'))\n",
        "    ann15.add(tf.keras.layers.Dense(units=50, activation='relu'))\n",
        "    ann15.add(tf.keras.layers.Dense(units=num_classes, activation='softmax'))\n",
        "    ann15.compile(optimizer = 'adam', loss = kf.losses.SparseCategoricalCrossentropy(), metrics = [kf.metrics.CategoricalAccuracy()])\n",
        "    ann15.fit(X_train_cv, y_train_cv, batch_size = 128, epochs = 300,verbose=0)\n",
        "\n",
        "    # Model 16\n",
        "\n",
        "    ann16 = Sequential()\n",
        "    ann16.add(tf.keras.layers.Dense(units=35, activation='relu'))\n",
        "    ann16.add(tf.keras.layers.Dense(units=45, activation= 'sigmoid'))\n",
        "    ann16.add(tf.keras.layers.Dense(units=50, activation='relu'))\n",
        "    ann16.add(tf.keras.layers.Dense(units=num_classes, activation='softmax'))\n",
        "    ann16.compile(optimizer = 'adam', loss = kf.losses.SparseCategoricalCrossentropy(), metrics = [kf.metrics.CategoricalAccuracy()])\n",
        "    ann16.fit(X_train_cv, y_train_cv, batch_size = 128, epochs = 300,verbose=0)\n",
        "\n",
        "    ann1.save('north/model1.h5')\n",
        "    ann2.save('north/model2.h5')\n",
        "    ann3.save('north/model3.h5')\n",
        "    ann4.save('north/model4.h5')\n",
        "    ann5.save('north/model5.h5')\n",
        "    ann6.save('north/model6.h5')\n",
        "    ann7.save('north/model7.h5')\n",
        "    ann8.save('north/model8.h5')\n",
        "    ann9.save('north/model9.h5')\n",
        "    ann10.save('north/model10.h5')\n",
        "    ann11.save('north/model11.h5')\n",
        "    ann12.save('north/model12.h5')\n",
        "    ann13.save('north/model13.h5')\n",
        "    ann14.save('north/model14.h5')\n",
        "    ann15.save('north/model15.h5')\n",
        "    ann16.save('north/model16.h5')\n",
        "\n",
        "    members = load_all_models(16)\n",
        "    model = fit_stacked_model(members, X_train_cv,y_train_cv)\n",
        "    end = time.time()\n",
        "    print(\"Cross validation Train time: \",(end-start) * 10**3, \"ms\")\n",
        "    t = (end-start)*1000\n",
        "    train_time.append(t)\n",
        "\n",
        "    start = time.time()\n",
        "    y_pred = stacked_prediction(members, model, X_test_cv)\n",
        "    end = time.time()\n",
        "\n",
        "    t = (end - start)*1000\n",
        "    test_time.append(t)\n",
        "\n",
        "    print(\"Cross validation Test time: \",(end-start) * 10**3, \"ms\")\n",
        "    y_test_prob = stacked_prediction_proba(members,model,X_test_cv)\n",
        "    y_train_pred = stacked_prediction(members, model, X_train_cv)\n",
        "\n",
        "    cm = confusion_matrix(y_test_cv, y_pred)\n",
        "\n",
        "\n",
        "    accuracy = accuracy_score(y_test_cv, y_pred)\n",
        "    acc_test.append(accuracy)\n",
        "    accuracy_train = accuracy_score(y_train_cv, y_train_pred)\n",
        "    acc_train.append(accuracy_train)\n",
        "\n",
        "    pre_macro = precision_score(y_test_cv, y_pred,average='macro')\n",
        "    Precision_macro.append(pre_macro)\n",
        "    pre_micro = precision_score(y_test_cv, y_pred,average='micro')\n",
        "    Precision_micro.append(pre_micro)\n",
        "\n",
        "    re_macro = recall_score(y_test_cv, y_pred,average='macro')\n",
        "    Recall_macro.append(re_macro)\n",
        "    re_micro = recall_score(y_test_cv, y_pred,average='micro')\n",
        "    Recall_micro.append(re_micro)\n",
        "\n",
        "    f1_macro = f1_score(y_test_cv, y_pred,average='macro')\n",
        "    F1_macro.append(f1_macro)\n",
        "    f1_micro = f1_score(y_test_cv, y_pred,average='micro')\n",
        "    F1_micro.append(f1_micro)\n",
        "\n",
        "    auc_ovo = roc_auc_score(y_test_cv,y_test_prob,multi_class='ovo')\n",
        "    AUC_ovo.append(auc_ovo)\n",
        "    auc_ovr = roc_auc_score(y_test_cv,y_test_prob,multi_class='ovr')\n",
        "    AUC_ovr.append(auc_ovr)"
      ],
      "id": "426c21a7"
    },
    {
      "cell_type": "code",
      "execution_count": 18,
      "metadata": {
        "id": "4631b43e"
      },
      "outputs": [],
      "source": [
        "result_cv = pd.DataFrame()\n",
        "result_cv[\"Train_acc\"] = acc_train\n",
        "result_cv[\"Test_acc\"] = acc_test\n",
        "result_cv[\"Precision(macro)\"] = Precision_macro\n",
        "result_cv[\"Precision(micro)\"] = Precision_micro\n",
        "result_cv[\"Recall(macro)\"] = Recall_macro\n",
        "result_cv[\"Recall(micro)\"] = Recall_micro\n",
        "result_cv[\"F1(macro)\"] = F1_macro\n",
        "result_cv[\"F1(micro)\"] = F1_micro\n",
        "result_cv[\"AUC(ovo)\"] = AUC_ovo\n",
        "result_cv[\"AUC(ovr)\"] = AUC_ovr\n",
        "result_cv[\"Train Time\"] = train_time\n",
        "result_cv[\"Test Time\"] = test_time"
      ],
      "id": "4631b43e"
    },
    {
      "cell_type": "code",
      "execution_count": 19,
      "metadata": {
        "colab": {
          "base_uri": "https://localhost:8080/"
        },
        "id": "6bf66a36",
        "outputId": "50f51d9d-909e-4304-d0bc-396216a9c6bb"
      },
      "outputs": [
        {
          "output_type": "execute_result",
          "data": {
            "text/plain": [
              "[1956981.5289974213,\n",
              " 1952471.572637558,\n",
              " 1928654.6359062195,\n",
              " 1993679.8586845398,\n",
              " 1902297.9147434235]"
            ]
          },
          "metadata": {},
          "execution_count": 19
        }
      ],
      "source": [
        "train_time"
      ],
      "id": "6bf66a36"
    },
    {
      "cell_type": "code",
      "execution_count": 20,
      "metadata": {
        "colab": {
          "base_uri": "https://localhost:8080/"
        },
        "id": "105fd285",
        "outputId": "9103da87-bb0a-4b88-c9ea-b09775afc72f"
      },
      "outputs": [
        {
          "output_type": "execute_result",
          "data": {
            "text/plain": [
              "[9150.267601013184,\n",
              " 8788.605451583862,\n",
              " 7621.966123580933,\n",
              " 9397.96257019043,\n",
              " 8152.333736419678]"
            ]
          },
          "metadata": {},
          "execution_count": 20
        }
      ],
      "source": [
        "test_time"
      ],
      "id": "105fd285"
    },
    {
      "cell_type": "code",
      "execution_count": 21,
      "metadata": {
        "id": "b92aa6da"
      },
      "outputs": [],
      "source": [
        "result_cv.to_csv(\"filename\", index=False)"
      ],
      "id": "b92aa6da"
    },
    {
      "cell_type": "code",
      "execution_count": 22,
      "metadata": {
        "id": "0663ab50"
      },
      "outputs": [],
      "source": [
        "result_cv_avg = pd.DataFrame()\n",
        "lst = []\n",
        "x = mean(acc_train)*100\n",
        "lst.append(x)\n",
        "result_cv_avg[\"Train_acc\"] = lst\n",
        "result_cv_avg[\"Test_acc\"] = mean(acc_test)*100\n",
        "result_cv_avg[\"SD\"] = np.std(acc_test)*100\n",
        "result_cv_avg[\"Precision(macro)\"] = mean(Precision_macro)\n",
        "result_cv_avg[\"Precision(micro)\"] = mean(Precision_micro)\n",
        "result_cv_avg[\"Recall(macro)\"] = mean(Recall_macro)\n",
        "result_cv_avg[\"Recall(micro)\"] = mean(Recall_micro)\n",
        "result_cv_avg[\"F1(macro)\"] = mean(F1_macro)\n",
        "result_cv_avg[\"F1(micro)\"] = mean(F1_micro)\n",
        "result_cv_avg[\"AUC(ovo)\"] = mean(AUC_ovo)\n",
        "result_cv_avg[\"AUC(ovr)\"] = mean(AUC_ovr)"
      ],
      "id": "0663ab50"
    },
    {
      "cell_type": "code",
      "execution_count": 23,
      "metadata": {
        "id": "b3d296c7"
      },
      "outputs": [],
      "source": [
        "result_cv_avg.to_csv(\"filename\", index=False)"
      ],
      "id": "b3d296c7"
    },
    {
      "cell_type": "code",
      "execution_count": 24,
      "metadata": {
        "colab": {
          "base_uri": "https://localhost:8080/"
        },
        "id": "d737dfcb",
        "outputId": "ff973ee7-1788-4b3e-cda0-f72a7e42b986"
      },
      "outputs": [
        {
          "output_type": "execute_result",
          "data": {
            "text/plain": [
              "[0.9996510642540252,\n",
              " 0.9994516723991825,\n",
              " 0.9995015203628932,\n",
              " 0.9994516723991825,\n",
              " 0.9996510642540252]"
            ]
          },
          "metadata": {},
          "execution_count": 24
        }
      ],
      "source": [
        "acc_train"
      ],
      "id": "d737dfcb"
    },
    {
      "cell_type": "code",
      "execution_count": 25,
      "metadata": {
        "colab": {
          "base_uri": "https://localhost:8080/"
        },
        "id": "5601cc70",
        "outputId": "aedd59ea-561c-43ee-fa88-f83de1e3b2ea"
      },
      "outputs": [
        {
          "output_type": "execute_result",
          "data": {
            "text/plain": [
              "[0.9440705847166143,\n",
              " 0.9392851802003889,\n",
              " 0.9473605503215193,\n",
              " 0.9445192163900105,\n",
              " 0.9424256019141618]"
            ]
          },
          "metadata": {},
          "execution_count": 25
        }
      ],
      "source": [
        "acc_test"
      ],
      "id": "5601cc70"
    },
    {
      "cell_type": "code",
      "execution_count": 26,
      "metadata": {
        "colab": {
          "base_uri": "https://localhost:8080/"
        },
        "id": "a183e93a",
        "outputId": "02044127-9e8a-483f-a54c-ce322283dcef"
      },
      "outputs": [
        {
          "output_type": "execute_result",
          "data": {
            "text/plain": [
              "[0.9417013365775145,\n",
              " 0.9379753656415334,\n",
              " 0.9440656558193642,\n",
              " 0.9440592979452189,\n",
              " 0.9402224835967669]"
            ]
          },
          "metadata": {},
          "execution_count": 26
        }
      ],
      "source": [
        "Precision_macro"
      ],
      "id": "a183e93a"
    },
    {
      "cell_type": "code",
      "execution_count": 27,
      "metadata": {
        "colab": {
          "base_uri": "https://localhost:8080/"
        },
        "id": "919cba03",
        "outputId": "165f8103-ff4e-47e8-a53b-507c3372efa2"
      },
      "outputs": [
        {
          "output_type": "execute_result",
          "data": {
            "text/plain": [
              "[0.9440705847166143,\n",
              " 0.9392851802003889,\n",
              " 0.9473605503215193,\n",
              " 0.9445192163900105,\n",
              " 0.9424256019141618]"
            ]
          },
          "metadata": {},
          "execution_count": 27
        }
      ],
      "source": [
        "Precision_micro"
      ],
      "id": "919cba03"
    },
    {
      "cell_type": "code",
      "execution_count": 28,
      "metadata": {
        "colab": {
          "base_uri": "https://localhost:8080/"
        },
        "id": "da5922e3",
        "outputId": "2b1bdea9-0c7c-431a-8b32-ef991e2491d8"
      },
      "outputs": [
        {
          "output_type": "execute_result",
          "data": {
            "text/plain": [
              "[0.9441334173319934,\n",
              " 0.939741156256093,\n",
              " 0.9458171059633393,\n",
              " 0.9457043064301818,\n",
              " 0.9415887006164173]"
            ]
          },
          "metadata": {},
          "execution_count": 28
        }
      ],
      "source": [
        "Recall_macro"
      ],
      "id": "da5922e3"
    },
    {
      "cell_type": "code",
      "execution_count": 29,
      "metadata": {
        "colab": {
          "base_uri": "https://localhost:8080/"
        },
        "id": "9da08914",
        "outputId": "d407327c-5560-4eed-ff5b-77757f5ab09c"
      },
      "outputs": [
        {
          "output_type": "execute_result",
          "data": {
            "text/plain": [
              "[0.9440705847166143,\n",
              " 0.9392851802003889,\n",
              " 0.9473605503215193,\n",
              " 0.9445192163900105,\n",
              " 0.9424256019141618]"
            ]
          },
          "metadata": {},
          "execution_count": 29
        }
      ],
      "source": [
        "Recall_micro"
      ],
      "id": "9da08914"
    },
    {
      "cell_type": "code",
      "execution_count": 30,
      "metadata": {
        "colab": {
          "base_uri": "https://localhost:8080/"
        },
        "id": "d06098bb",
        "outputId": "dee80968-fc70-457f-bed7-d36eead711f6"
      },
      "outputs": [
        {
          "output_type": "execute_result",
          "data": {
            "text/plain": [
              "[0.9419048840943441,\n",
              " 0.938173720696545,\n",
              " 0.9445587130364341,\n",
              " 0.944768863608299,\n",
              " 0.940727761112712]"
            ]
          },
          "metadata": {},
          "execution_count": 30
        }
      ],
      "source": [
        "F1_macro"
      ],
      "id": "d06098bb"
    },
    {
      "cell_type": "code",
      "execution_count": 31,
      "metadata": {
        "colab": {
          "base_uri": "https://localhost:8080/"
        },
        "id": "c98a6d5f",
        "outputId": "aa9b10dc-fb53-45ed-b82c-407da156270b"
      },
      "outputs": [
        {
          "output_type": "execute_result",
          "data": {
            "text/plain": [
              "[0.9440705847166143,\n",
              " 0.9392851802003889,\n",
              " 0.9473605503215193,\n",
              " 0.9445192163900106,\n",
              " 0.9424256019141618]"
            ]
          },
          "metadata": {},
          "execution_count": 31
        }
      ],
      "source": [
        "F1_micro"
      ],
      "id": "c98a6d5f"
    },
    {
      "cell_type": "code",
      "execution_count": 32,
      "metadata": {
        "colab": {
          "base_uri": "https://localhost:8080/"
        },
        "id": "ae3f919c",
        "outputId": "58c73ff0-87da-4b4a-9153-184a81baf367"
      },
      "outputs": [
        {
          "output_type": "execute_result",
          "data": {
            "text/plain": [
              "[0.9960132905154334,\n",
              " 0.9951626856551211,\n",
              " 0.995796567400562,\n",
              " 0.9958257885357333,\n",
              " 0.9949923760562249]"
            ]
          },
          "metadata": {},
          "execution_count": 32
        }
      ],
      "source": [
        "AUC_ovo"
      ],
      "id": "ae3f919c"
    },
    {
      "cell_type": "code",
      "execution_count": 33,
      "metadata": {
        "colab": {
          "base_uri": "https://localhost:8080/"
        },
        "id": "9bc6fd04",
        "outputId": "b4a79ee6-4f8a-450e-a40f-ab9cc89b2516"
      },
      "outputs": [
        {
          "output_type": "stream",
          "name": "stdout",
          "text": [
            "0\n"
          ]
        }
      ],
      "source": [
        "index = np.argmax(AUC_ovo)\n",
        "print(index)"
      ],
      "id": "9bc6fd04"
    },
    {
      "cell_type": "code",
      "execution_count": 34,
      "metadata": {
        "colab": {
          "base_uri": "https://localhost:8080/"
        },
        "id": "a85635c8",
        "outputId": "464be628-82a9-42c1-cad1-500a8a046fc5"
      },
      "outputs": [
        {
          "output_type": "execute_result",
          "data": {
            "text/plain": [
              "[0.9960435435974028,\n",
              " 0.9951665677680722,\n",
              " 0.9959278185306001,\n",
              " 0.9957476779829109,\n",
              " 0.9950491421258567]"
            ]
          },
          "metadata": {},
          "execution_count": 34
        }
      ],
      "source": [
        "AUC_ovr"
      ],
      "id": "a85635c8"
    },
    {
      "cell_type": "code",
      "execution_count": 35,
      "metadata": {
        "colab": {
          "base_uri": "https://localhost:8080/"
        },
        "id": "005129c3",
        "outputId": "cbf130f3-3381-44a5-ea66-a6c5cd180261"
      },
      "outputs": [
        {
          "output_type": "stream",
          "name": "stdout",
          "text": [
            "Accuracy(Train): 99.95 %\n",
            "Accuracy(Test): 94.35 %\n",
            "Standard Deviation: 0.27%\n",
            "Precision (macro): 0.942\n",
            "Precision (micro): 0.944\n",
            "Recall (macro): 0.943\n",
            "Recall (micro): 0.944\n",
            "F1 (macro): 0.942\n",
            "F1 (micro): 0.944\n",
            "AUC (ovo): 0.996\n",
            "AUC (ovr): 0.996\n"
          ]
        }
      ],
      "source": [
        " print(\"Accuracy(Train): {:.2f} %\".format(mean(acc_train)*100))\n",
        "print(\"Accuracy(Test): {:.2f} %\".format(mean(acc_test)*100))\n",
        "print(\"Standard Deviation: {:.2f}%\".format(np.std(acc_test)*100))\n",
        "print(\"Precision (macro): %.3f\" %mean(Precision_macro))\n",
        "print(\"Precision (micro): %.3f\" %mean(Precision_micro))\n",
        "print(\"Recall (macro): %.3f\" %mean(Recall_macro))\n",
        "print(\"Recall (micro): %.3f\" %mean(Recall_micro))\n",
        "print(\"F1 (macro): %.3f\" %mean(F1_macro))\n",
        "print(\"F1 (micro): %.3f\" %mean(F1_micro))\n",
        "print(\"AUC (ovo): %.3f\" %mean(AUC_ovo))\n",
        "print(\"AUC (ovr): %.3f\" %mean(AUC_ovr))"
      ],
      "id": "005129c3"
    },
    {
      "cell_type": "code",
      "execution_count": 36,
      "metadata": {
        "id": "c4760cea"
      },
      "outputs": [],
      "source": [
        "from numpy import interp"
      ],
      "id": "c4760cea"
    },
    {
      "cell_type": "code",
      "execution_count": 39,
      "metadata": {
        "colab": {
          "base_uri": "https://localhost:8080/"
        },
        "id": "804ffd5e",
        "outputId": "396f2839-e953-4157-f2d9-39a5a30ecffa"
      },
      "outputs": [
        {
          "output_type": "stream",
          "name": "stdout",
          "text": [
            "all_fpr:  [0.00000000e+00 1.62258640e-04 1.62654522e-04 1.62786912e-04\n",
            " 1.63052340e-04 1.63132137e-04 1.63371998e-04 1.63425396e-04\n",
            " 3.25309044e-04 3.25573824e-04 3.26264274e-04 3.26424025e-04\n",
            " 3.26743996e-04 4.86775921e-04 4.87963565e-04 4.89157019e-04\n",
            " 4.89636037e-04 4.90276189e-04 6.50618087e-04 6.51041667e-04\n",
            " 6.51996740e-04 6.52528548e-04 6.53701585e-04 8.13272609e-04\n",
            " 8.13802083e-04 8.15660685e-04 8.16060062e-04 8.20748523e-04\n",
            " 9.73551842e-04 9.75927131e-04 9.76721472e-04 9.78792822e-04\n",
            " 9.79272074e-04 9.83284169e-04 1.13858165e-03 1.13932292e-03\n",
            " 1.14099430e-03 1.14192496e-03 1.14397777e-03 1.29806912e-03\n",
            " 1.30123617e-03 1.30441872e-03 1.30505710e-03 1.30569610e-03\n",
            " 1.30697598e-03 1.31319764e-03 1.46389070e-03 1.46484375e-03\n",
            " 1.46508221e-03 1.46699267e-03 1.46818923e-03 1.46890811e-03\n",
            " 1.47082857e-03 1.62654522e-03 1.62760417e-03 1.63371998e-03\n",
            " 1.63880695e-03 1.78919974e-03 1.79036458e-03 1.79065603e-03\n",
            " 1.79357574e-03 1.79445351e-03 1.79533214e-03 1.95185426e-03\n",
            " 1.95312500e-03 1.95344294e-03 1.95758564e-03 1.95854415e-03\n",
            " 1.96046398e-03 1.96979645e-03 2.12071778e-03 2.12175616e-03\n",
            " 2.27162096e-03 2.27716331e-03 2.27864583e-03 2.28198859e-03\n",
            " 2.28384992e-03 2.28496817e-03 2.44140625e-03 2.44698206e-03\n",
            " 2.44818019e-03 2.45057997e-03 2.45821042e-03 2.60416667e-03\n",
            " 2.60459059e-03 2.61139220e-03 2.61480634e-03 2.77098615e-03\n",
            " 2.77188978e-03 2.77324633e-03 2.77460421e-03 2.77732397e-03\n",
            " 2.78597181e-03 2.92778139e-03 2.93637847e-03 2.93781622e-03\n",
            " 3.09244792e-03 3.25309044e-03 3.25520833e-03 3.26264274e-03\n",
            " 3.26424025e-03 3.26743996e-03 3.27761390e-03 3.41574496e-03\n",
            " 3.41796875e-03 3.42745226e-03 3.44714380e-03 3.57839948e-03\n",
            " 3.58072917e-03 3.58890701e-03 3.59418396e-03 3.90370852e-03\n",
            " 3.91517129e-03 3.93313668e-03 4.06636304e-03 4.06901042e-03\n",
            " 4.06967280e-03 4.07830343e-03 4.08030031e-03 4.08429995e-03\n",
            " 4.08563491e-03 4.23177083e-03 4.24351232e-03 4.39453125e-03\n",
            " 4.40241317e-03 4.43204202e-03 4.55432661e-03 4.55729167e-03\n",
            " 4.56397718e-03 4.56769984e-03 4.56993635e-03 4.57441595e-03\n",
            " 4.71698113e-03 4.73083197e-03 4.75254015e-03 4.88281250e-03\n",
            " 4.89396411e-03 5.04229018e-03 5.04557292e-03 5.05957238e-03\n",
            " 5.20494470e-03 5.20833333e-03 5.22022838e-03 5.22278440e-03\n",
            " 5.22790394e-03 5.25279054e-03 5.36759922e-03 5.37109375e-03\n",
            " 5.38336052e-03 5.53025374e-03 5.54649266e-03 5.54920842e-03\n",
            " 5.69754192e-03 5.85556278e-03 5.85937500e-03 5.87275693e-03\n",
            " 6.01821731e-03 6.02213542e-03 6.18087183e-03 6.18489583e-03\n",
            " 6.19598891e-03 6.19902121e-03 6.20205647e-03 6.22746640e-03\n",
            " 6.34765625e-03 6.36215334e-03 6.37150792e-03 6.40183848e-03\n",
            " 6.50618087e-03 6.68841762e-03 6.83148992e-03 6.83593750e-03\n",
            " 6.99414444e-03 6.99869792e-03 7.01468189e-03 7.15679896e-03\n",
            " 7.16145833e-03 7.17781403e-03 7.18132855e-03 7.32421875e-03\n",
            " 7.34094617e-03 7.35173991e-03 7.48210800e-03 7.48697917e-03\n",
            " 7.50407830e-03 7.51756823e-03 7.64476252e-03 7.66721044e-03\n",
            " 7.67096458e-03 7.78841473e-03 7.80741705e-03 7.81250000e-03\n",
            " 7.83034258e-03 7.97007157e-03 7.97526042e-03 7.99347471e-03\n",
            " 8.15660685e-03 8.29538061e-03 8.30078125e-03 8.31973899e-03\n",
            " 8.46354167e-03 8.62770633e-03 8.78334418e-03 8.80913540e-03\n",
            " 8.95182292e-03 8.97666068e-03 9.11458333e-03 9.13539967e-03\n",
            " 9.27130774e-03 9.29853181e-03 9.43396226e-03 9.44010417e-03\n",
            " 9.46166395e-03 9.52068286e-03 9.60286458e-03 9.66896100e-03\n",
            " 9.75927131e-03 9.76562500e-03 9.92838542e-03 9.94295029e-03\n",
            " 1.00911458e-02 1.01141925e-02 1.01191448e-02 1.01290639e-02\n",
            " 1.04098894e-02 1.04455688e-02 1.05725439e-02 1.05794271e-02\n",
            " 1.05984021e-02 1.06035889e-02 1.07421875e-02 1.08978530e-02\n",
            " 1.09049479e-02 1.09298532e-02 1.09352048e-02 1.10677083e-02\n",
            " 1.12231620e-02 1.13932292e-02 1.14192496e-02 1.15823817e-02\n",
            " 1.17187500e-02 1.17455139e-02 1.18737801e-02 1.19144769e-02\n",
            " 1.20364346e-02 1.20442708e-02 1.20717781e-02 1.23697917e-02\n",
            " 1.24162719e-02 1.25325521e-02 1.25611746e-02 1.25837555e-02\n",
            " 1.27243067e-02 1.27826942e-02 1.28497072e-02 1.28580729e-02\n",
            " 1.28874388e-02 1.30208333e-02 1.31750163e-02 1.31835938e-02\n",
            " 1.33376708e-02 1.33463542e-02 1.33768352e-02 1.35091146e-02\n",
            " 1.36718750e-02 1.37030995e-02 1.38346354e-02 1.38730211e-02\n",
            " 1.39527249e-02 1.39973958e-02 1.40362331e-02 1.41924959e-02\n",
            " 1.43229167e-02 1.44856771e-02 1.46484375e-02 1.46818923e-02\n",
            " 1.48015615e-02 1.48111979e-02 1.50081566e-02 1.51268705e-02\n",
            " 1.51367188e-02 1.52994792e-02 1.53419292e-02 1.54622396e-02\n",
            " 1.54975530e-02 1.56250000e-02 1.57877604e-02 1.58238173e-02\n",
            " 1.61132812e-02 1.61500816e-02 1.63132137e-02 1.64281067e-02\n",
            " 1.64388021e-02 1.64414781e-02 1.64844133e-02 1.65907612e-02\n",
            " 1.66015625e-02 1.66394780e-02 1.67643229e-02 1.67943910e-02\n",
            " 1.68108373e-02 1.69160703e-02 1.69270833e-02 1.70898438e-02\n",
            " 1.71288744e-02 1.71540598e-02 1.72920065e-02 1.74153646e-02\n",
            " 1.75666884e-02 1.78919974e-02 1.79036458e-02 1.79445351e-02\n",
            " 1.80546519e-02 1.80664062e-02 1.81907571e-02 1.82291667e-02\n",
            " 1.82707993e-02 1.82797454e-02 1.83799610e-02 1.83919271e-02\n",
            " 1.84429574e-02 1.85546875e-02 1.85970636e-02 1.88802083e-02\n",
            " 1.89233279e-02 1.93558881e-02 1.93684896e-02 1.94127243e-02\n",
            " 1.95185426e-02 1.95312500e-02 1.96940104e-02 1.99021207e-02\n",
            " 1.99118655e-02 2.00195312e-02 2.01691607e-02 2.02283850e-02\n",
            " 2.02382895e-02 2.03318152e-02 2.05078125e-02 2.07177814e-02\n",
            " 2.08333333e-02 2.09960938e-02 2.10440457e-02 2.13216146e-02\n",
            " 2.13703100e-02 2.14843750e-02 2.16330514e-02 2.16471354e-02\n",
            " 2.18098958e-02 2.19726562e-02 2.20228385e-02 2.20336217e-02\n",
            " 2.21354167e-02 2.21678892e-02 2.22836695e-02 2.22981771e-02\n",
            " 2.23491028e-02 2.24463240e-02 2.24609375e-02 2.25232577e-02\n",
            " 2.27864583e-02 2.28384992e-02 2.30016313e-02 2.32747396e-02\n",
            " 2.34375000e-02 2.36889397e-02 2.37630208e-02 2.39257812e-02\n",
            " 2.39804241e-02 2.40885417e-02 2.41435563e-02 2.41553778e-02\n",
            " 2.43185898e-02 2.43981783e-02 2.44140625e-02 2.44583060e-02\n",
            " 2.44698206e-02 2.46329527e-02 2.47234873e-02 2.47395833e-02\n",
            " 2.49023438e-02 2.49592170e-02 2.50487964e-02 2.51223491e-02\n",
            " 2.52278646e-02 2.53741054e-02 2.54486134e-02 2.55367599e-02\n",
            " 2.55533854e-02 2.57161458e-02 2.59380098e-02 2.60416667e-02\n",
            " 2.62044271e-02 2.63671875e-02 2.65299479e-02 2.65905383e-02\n",
            " 2.67536705e-02 2.67667700e-02 2.69168026e-02 2.69299820e-02\n",
            " 2.71809896e-02 2.72430669e-02 2.73437500e-02 2.74061990e-02\n",
            " 2.74886142e-02 2.76692708e-02 2.77324633e-02 2.78139232e-02\n",
            " 2.78320312e-02 2.81575521e-02 2.83018868e-02 2.83203125e-02\n",
            " 2.84830729e-02 2.85481240e-02 2.86458333e-02 2.88085938e-02\n",
            " 2.89713542e-02 2.91341146e-02 2.92006525e-02 2.92968750e-02\n",
            " 2.95269168e-02 2.96900489e-02 2.99479167e-02 3.03425775e-02\n",
            " 3.04361979e-02 3.05790501e-02 3.05989583e-02 3.06688418e-02\n",
            " 3.07617188e-02 3.09043591e-02 3.09951060e-02 3.10872396e-02\n",
            " 3.11734944e-02 3.12500000e-02 3.13213703e-02 3.13367064e-02\n",
            " 3.15411015e-02 3.15755208e-02 3.16476346e-02 3.17176318e-02\n",
            " 3.17382812e-02 3.18107667e-02 3.18802863e-02 3.19738989e-02\n",
            " 3.21370310e-02 3.23893229e-02 3.26264274e-02 3.27148438e-02\n",
            " 3.30403646e-02 3.35286458e-02 3.36052202e-02 3.36914062e-02\n",
            " 3.37683524e-02 3.38541667e-02 3.39480986e-02 3.40169271e-02\n",
            " 3.42577488e-02 3.43424479e-02 3.44208809e-02 3.46454131e-02\n",
            " 3.47471452e-02 3.48080677e-02 3.50704687e-02 3.50734095e-02\n",
            " 3.52365416e-02 3.53190104e-02 3.54586858e-02 3.55628059e-02\n",
            " 3.57259380e-02 3.58072917e-02 3.60522023e-02 3.61328125e-02\n",
            " 3.62153344e-02 3.68678630e-02 3.71093750e-02 3.72721354e-02\n",
            " 3.73572594e-02 3.75976562e-02 3.76835237e-02 3.77604167e-02\n",
            " 3.78281428e-02 3.80611581e-02 3.85742188e-02 3.86623165e-02\n",
            " 3.86812469e-02 3.88254486e-02 3.88997396e-02 3.90076710e-02\n",
            " 3.90625000e-02 3.92252604e-02 3.93148450e-02 3.93623943e-02\n",
            " 3.93880208e-02 3.95250488e-02 3.95507812e-02 3.98827934e-02\n",
            " 4.02936378e-02 4.04567700e-02 4.05273438e-02 4.06901042e-02\n",
            " 4.09461664e-02 4.11092985e-02 4.14355628e-02 4.18294271e-02\n",
            " 4.19454872e-02 4.19648666e-02 4.20880914e-02 4.21275211e-02\n",
            " 4.22719112e-02 4.23177083e-02 4.24143556e-02 4.24767195e-02\n",
            " 4.27781392e-02 4.29407938e-02 4.29687500e-02 4.30668842e-02\n",
            " 4.31315104e-02 4.32300163e-02 4.35562806e-02 4.37194127e-02\n",
            " 4.37825521e-02 4.50846354e-02 4.53507341e-02 4.54101562e-02\n",
            " 4.58984375e-02 4.60611979e-02 4.61663948e-02 4.62239583e-02\n",
            " 4.64926591e-02 4.66786355e-02 4.68750000e-02 4.69820555e-02\n",
            " 4.70377604e-02 4.73632812e-02 4.76345840e-02 4.76577749e-02\n",
            " 4.77040402e-02 4.78204294e-02 4.78515625e-02 4.79608483e-02\n",
            " 4.82871126e-02 4.86653646e-02 4.88281250e-02 4.89908854e-02\n",
            " 4.91027732e-02 4.91216656e-02 4.94791667e-02 4.95921697e-02\n",
            " 4.96096291e-02 4.96419271e-02 4.97553018e-02 4.99674479e-02\n",
            " 5.00815661e-02 5.02446982e-02 5.12695312e-02 5.14322917e-02\n",
            " 5.17128874e-02 5.17578125e-02 5.20391517e-02 5.23637557e-02\n",
            " 5.23654160e-02 5.28548124e-02 5.28971354e-02 5.29747351e-02\n",
            " 5.32226562e-02 5.35073409e-02 5.35133377e-02 5.35335401e-02\n",
            " 5.36704731e-02 5.36759922e-02 5.38599641e-02 5.40013012e-02\n",
            " 5.46875000e-02 5.48502604e-02 5.50130208e-02 5.55013021e-02\n",
            " 5.56640625e-02 5.59531555e-02 5.62784645e-02 5.62805873e-02\n",
            " 5.63151042e-02 5.64778646e-02 5.66068515e-02 5.69331158e-02\n",
            " 5.70962480e-02 5.74225122e-02 5.74544271e-02 5.75856444e-02\n",
            " 5.77487765e-02 5.79402644e-02 5.81054688e-02 5.84299004e-02\n",
            " 5.89192708e-02 5.92447917e-02 5.93800979e-02 5.98694943e-02\n",
            " 6.05220228e-02 6.10351562e-02 6.16639478e-02 6.16861979e-02\n",
            " 6.18087183e-02 6.20117188e-02 6.21340273e-02 6.21533442e-02\n",
            " 6.21744792e-02 6.23164763e-02 6.23372396e-02 6.26427406e-02\n",
            " 6.32726090e-02 6.34352635e-02 6.41276042e-02 6.44371941e-02\n",
            " 6.44531250e-02 6.49265905e-02 6.49414062e-02 6.52528548e-02\n",
            " 6.52669271e-02 6.54159869e-02 6.54296875e-02 6.57422512e-02\n",
            " 6.57744410e-02 6.59053834e-02 6.59179688e-02 6.67537131e-02\n",
            " 6.81892333e-02 6.85154976e-02 6.86786297e-02 6.88417618e-02\n",
            " 6.94986979e-02 6.96574225e-02 6.98242188e-02 6.99836868e-02\n",
            " 6.99869792e-02 7.01094950e-02 7.03125000e-02 7.06380208e-02\n",
            " 7.20559532e-02 7.23812622e-02 7.24283854e-02 7.25439167e-02\n",
            " 7.30794271e-02 7.32463295e-02 7.34094617e-02 7.34454056e-02\n",
            " 7.35198439e-02 7.35677083e-02 7.35725938e-02 7.36824984e-02\n",
            " 7.38932292e-02 7.38988581e-02 7.39350416e-02 7.40559896e-02\n",
            " 7.47145188e-02 7.50407830e-02 7.61718750e-02 7.63346354e-02\n",
            " 7.64973958e-02 7.65089723e-02 7.66601562e-02 7.68229167e-02\n",
            " 7.68352365e-02 7.69856771e-02 7.71615008e-02 7.72749551e-02\n",
            " 7.74739583e-02 7.76367188e-02 7.76508972e-02 7.77994792e-02\n",
            " 7.79771615e-02 7.83034258e-02 8.04241436e-02 8.05872757e-02\n",
            " 8.09135400e-02 8.10766721e-02 8.13802083e-02 8.14029364e-02\n",
            " 8.15429688e-02 8.16892222e-02 8.17292007e-02 8.18684896e-02\n",
            " 8.21940104e-02 8.26822917e-02 8.27484903e-02 8.30078125e-02\n",
            " 8.32791152e-02 8.33333333e-02 8.34013383e-02 8.34417697e-02\n",
            " 8.34960938e-02 8.45024470e-02 8.49918434e-02 8.52309694e-02\n",
            " 8.53181077e-02 8.55562785e-02 8.56443719e-02 8.59706362e-02\n",
            " 8.62969005e-02 8.75122911e-02 8.82161458e-02 8.83789062e-02\n",
            " 8.90299479e-02 8.96809896e-02 9.02120718e-02 9.05383361e-02\n",
            " 9.07014682e-02 9.08646003e-02 9.13539967e-02 9.15171289e-02\n",
            " 9.45638021e-02 9.49893912e-02 9.50520833e-02 9.51526032e-02\n",
            " 9.52691680e-02 9.53776042e-02 9.55403646e-02 9.56422393e-02\n",
            " 9.57585644e-02 9.59216966e-02 9.60848287e-02 9.61318753e-02\n",
            " 9.63541667e-02 9.66167859e-02 9.66796875e-02 9.67794405e-02\n",
            " 9.68424479e-02 9.71679688e-02 9.80806766e-02 9.82433312e-02\n",
            " 9.96737357e-02 1.00326264e-01 1.00489396e-01 1.00652529e-01\n",
            " 1.04003906e-01 1.04329427e-01 1.04654948e-01 1.05143229e-01\n",
            " 1.05383361e-01 1.05468750e-01 1.05546493e-01 1.05872757e-01\n",
            " 1.05957031e-01 1.06688418e-01 1.07276575e-01 1.11963441e-01\n",
            " 1.12071778e-01 1.12141927e-01 1.12289865e-01 1.12398042e-01\n",
            " 1.12467448e-01 1.12779501e-01 1.13213703e-01 1.13281250e-01\n",
            " 1.13370202e-01 1.13376835e-01 1.13695511e-01 1.13703100e-01\n",
            " 1.13866232e-01 1.13932292e-01 1.14257812e-01 1.14671438e-01\n",
            " 1.14746094e-01 1.15071615e-01 1.19249592e-01 1.19412724e-01\n",
            " 1.19575856e-01 1.19738989e-01 1.22558594e-01 1.22721354e-01\n",
            " 1.23046875e-01 1.24042380e-01 1.24348958e-01 1.24511719e-01\n",
            " 1.24837240e-01 1.25448613e-01 1.25611746e-01 1.25902823e-01\n",
            " 1.29753550e-01 1.30243186e-01 1.32626427e-01 1.32789560e-01\n",
            " 1.32888744e-01 1.33051399e-01 1.33115824e-01 1.33768352e-01\n",
            " 1.35003253e-01 1.35165908e-01 1.35579427e-01 1.36067708e-01\n",
            " 1.37369792e-01 1.37532552e-01 1.37858073e-01 1.41598695e-01\n",
            " 1.41761827e-01 1.42343520e-01 1.42414356e-01 1.47524914e-01\n",
            " 1.51712887e-01 1.51787172e-01 1.51876020e-01 1.52113596e-01\n",
            " 1.52440020e-01 1.52603232e-01 1.56204142e-01 1.58750813e-01\n",
            " 1.59238777e-01 1.59342448e-01 1.59505208e-01 1.59667969e-01\n",
            " 1.60214704e-01 1.61621094e-01 1.61783854e-01 1.75856444e-01\n",
            " 1.76019576e-01 1.86877754e-01 1.87367390e-01 1.87693814e-01\n",
            " 1.90793754e-01 1.91769681e-01 1.92094990e-01 1.92257645e-01\n",
            " 1.00000000e+00]\n",
            "mean_tpr:  [0.57336594 0.73321697 0.74639067 0.74642101 0.74647935 0.74679611\n",
            " 0.74874459 0.74875211 0.77327192 0.77606685 0.77930211 0.80625877\n",
            " 0.80743938 0.80881695 0.80882717 0.80883971 0.81241618 0.8124229\n",
            " 0.82322979 0.82323304 0.82324057 0.82339438 0.82339988 0.82785779\n",
            " 0.82786127 0.82801874 0.83010376 0.83011931 0.83062591 0.83403515\n",
            " 0.83403703 0.83404193 0.83419538 0.83423797 0.83758691 0.83790242\n",
            " 0.83792017 0.8385285  0.838539   0.83932772 0.84011697 0.84012721\n",
            " 0.85120048 0.85164837 0.85165015 0.85165879 0.85202265 0.85217744\n",
            " 0.85217766 0.85217941 0.85262934 0.85263033 0.8526356  0.85337199\n",
            " 0.85475611 0.85478442 0.85480797 0.85735944 0.85813439 0.85813575\n",
            " 0.85814931 0.86398821 0.86443993 0.86531084 0.86546897 0.86547058\n",
            " 0.86579084 0.86579395 0.86579842 0.86582018 0.86617205 0.86632423\n",
            " 0.86681108 0.8669837  0.86775585 0.86776514 0.86791992 0.86792097\n",
            " 0.86821111 0.8682162  0.86821784 0.86821894 0.86822244 0.86905671\n",
            " 0.86905704 0.86906229 0.86906804 0.86933115 0.86933267 0.87023262\n",
            " 0.87023553 0.87023888 0.87024953 0.87073337 0.87074396 0.87089322\n",
            " 0.87094182 0.87109643 0.87232417 0.87263041 0.872931   0.87293987\n",
            " 0.87296807 0.87350554 0.87351382 0.87354018 0.87358144 0.8738565\n",
            " 0.87477998 0.87628545 0.87628666 0.87651182 0.87651443 0.876535\n",
            " 0.87715137 0.87730787 0.87730863 0.87896423 0.87896469 0.87896469\n",
            " 0.87896469 0.8798855  0.8798855  0.87995435 0.8799728  0.88004219\n",
            " 0.88063775 0.8806447  0.88064774 0.88109827 0.88109929 0.88110066\n",
            " 0.88114398 0.88159703 0.88160362 0.88179668 0.88194968 0.88199476\n",
            " 0.88260963 0.88262709 0.88351514 0.88367811 0.88399948 0.88400424\n",
            " 0.88401144 0.88404645 0.88420791 0.88466991 0.88512434 0.88615422\n",
            " 0.88670753 0.88671006 0.88678055 0.88685566 0.88685566 0.88730449\n",
            " 0.88776831 0.88822872 0.88822872 0.88838218 0.88838218 0.88838218\n",
            " 0.8883961  0.88851262 0.88921723 0.88944243 0.88944831 0.88946738\n",
            " 0.88953297 0.89024597 0.8903359  0.89034293 0.89049331 0.89172971\n",
            " 0.89190971 0.89217988 0.89233335 0.89263257 0.89263257 0.89328987\n",
            " 0.89347611 0.89349975 0.89378522 0.89441439 0.89446002 0.8945084\n",
            " 0.89496451 0.8954725  0.89547895 0.89564507 0.89582655 0.8979823\n",
            " 0.89859756 0.89872932 0.89919461 0.89935281 0.89987855 0.90007125\n",
            " 0.90023393 0.90040693 0.90060596 0.90070958 0.90096241 0.9011283\n",
            " 0.90172159 0.90181047 0.90232196 0.90251933 0.90264417 0.90266055\n",
            " 0.90299045 0.90300541 0.90379582 0.90380351 0.90381421 0.90394747\n",
            " 0.90412954 0.90429582 0.90493089 0.90493279 0.9058729  0.90589039\n",
            " 0.90589718 0.90590948 0.9062577  0.90630195 0.90653658 0.90670277\n",
            " 0.9067259  0.90718106 0.90849305 0.90888123 0.9104336  0.91062184\n",
            " 0.91063013 0.91094881 0.91099606 0.9123159  0.9127911  0.91295635\n",
            " 0.91352649 0.91357815 0.91370809 0.91373964 0.91379714 0.91395579\n",
            " 0.91411063 0.91432075 0.91432959 0.91450516 0.91451061 0.9145149\n",
            " 0.91484084 0.91485194 0.91486468 0.91547855 0.91577777 0.9165859\n",
            " 0.91663303 0.91663565 0.91697332 0.91714581 0.91730474 0.91822555\n",
            " 0.91914636 0.91935486 0.92010353 0.92018765 0.92036232 0.9210741\n",
            " 0.92108597 0.92174999 0.92180473 0.9220265  0.92240174 0.92266003\n",
            " 0.92316679 0.92335319 0.92361886 0.92368881 0.92415034 0.92478276\n",
            " 0.9247876  0.92572408 0.9260279  0.92619797 0.92621917 0.92644147\n",
            " 0.92729052 0.92747868 0.92779915 0.92781411 0.92812244 0.92812531\n",
            " 0.92817139 0.92827167 0.92858879 0.92862454 0.92874226 0.92874226\n",
            " 0.92874226 0.92875292 0.92906097 0.92923093 0.92929008 0.92935136\n",
            " 0.92968695 0.93002739 0.93013784 0.93037529 0.93099767 0.93100181\n",
            " 0.93106346 0.93214432 0.9328002  0.93300278 0.93306535 0.93307469\n",
            " 0.93316918 0.93333773 0.93340201 0.93355408 0.93372141 0.93430021\n",
            " 0.93471234 0.9358449  0.93602737 0.93607356 0.93618405 0.93635079\n",
            " 0.93682768 0.937045   0.93705517 0.93715669 0.93715669 0.93715669\n",
            " 0.93715669 0.9371722  0.93737575 0.9375345  0.93762186 0.93782165\n",
            " 0.93788051 0.93822122 0.93823508 0.93862679 0.93873727 0.93920647\n",
            " 0.93976849 0.94033052 0.94040916 0.94042112 0.94082404 0.94088528\n",
            " 0.94110362 0.94159138 0.94159138 0.9416211  0.94162673 0.94176824\n",
            " 0.9423899  0.94241467 0.94259208 0.9427221  0.94310653 0.94322624\n",
            " 0.94387538 0.94410634 0.94443157 0.94445    0.94445937 0.9444668\n",
            " 0.94455457 0.94460705 0.94476973 0.9447954  0.94480208 0.94482191\n",
            " 0.94504049 0.94538629 0.94670006 0.94683738 0.94684827 0.94704178\n",
            " 0.94725822 0.94782812 0.94808307 0.94838469 0.94859504 0.94953564\n",
            " 0.94987641 0.95010692 0.95039212 0.95144467 0.95157641 0.95165402\n",
            " 0.95190037 0.95190814 0.95197887 0.95198509 0.95211223 0.95217294\n",
            " 0.9522714  0.95227359 0.95231428 0.95240345 0.95243465 0.9524375\n",
            " 0.95320548 0.95352383 0.95366499 0.95368301 0.95384218 0.9539058\n",
            " 0.95400136 0.95416054 0.95447318 0.95478582 0.95478816 0.95503325\n",
            " 0.95541497 0.95553606 0.95590483 0.95619013 0.95673968 0.9570104\n",
            " 0.95704813 0.95711467 0.9577318  0.95780405 0.95799962 0.95819976\n",
            " 0.95820279 0.95820279 0.95823643 0.95825773 0.95854155 0.95858934\n",
            " 0.95865548 0.95871967 0.95873861 0.95915557 0.95920473 0.95942054\n",
            " 0.95968552 0.95986394 0.95986394 0.96017087 0.96017087 0.96078475\n",
            " 0.96078475 0.96078475 0.96092985 0.96109168 0.96109168 0.96124732\n",
            " 0.96125489 0.96133523 0.96145893 0.96160713 0.96167428 0.96174243\n",
            " 0.96203595 0.96203924 0.96214692 0.96266175 0.96275395 0.96282267\n",
            " 0.96307996 0.96313365 0.96329096 0.96360044 0.96368084 0.96506469\n",
            " 0.9653     0.96622593 0.96622861 0.96623617 0.96623886 0.96627654\n",
            " 0.96634804 0.96659405 0.96713571 0.96717888 0.96719683 0.96732908\n",
            " 0.96732908 0.96743085 0.96748533 0.96795398 0.96804299 0.96812657\n",
            " 0.96817162 0.96828328 0.96830425 0.9688357  0.96949332 0.9700786\n",
            " 0.9702911  0.97060628 0.97075722 0.97100299 0.97149453 0.97188017\n",
            " 0.97188604 0.97188604 0.97203566 0.97203566 0.97206997 0.97208085\n",
            " 0.9721266  0.97221331 0.97263243 0.97281995 0.97285217 0.97303471\n",
            " 0.97309564 0.97324525 0.97339487 0.97339487 0.97340066 0.97382701\n",
            " 0.97400102 0.97415449 0.97430796 0.9746149  0.9746149  0.97466769\n",
            " 0.9750408  0.97512848 0.97522532 0.97522764 0.97524162 0.97532333\n",
            " 0.97539142 0.97539192 0.97539293 0.97539545 0.97539613 0.9753985\n",
            " 0.97540558 0.97569132 0.97596773 0.97639762 0.97651731 0.97652366\n",
            " 0.97664378 0.9769024  0.97691924 0.97695039 0.97710247 0.97720435\n",
            " 0.97733986 0.97760838 0.97876674 0.97878686 0.97882154 0.97897598\n",
            " 0.9791317  0.97913875 0.97913879 0.97929902 0.97929994 0.97930162\n",
            " 0.97930701 0.97955227 0.97955429 0.97956108 0.97960412 0.9796068\n",
            " 0.97969626 0.97977014 0.98012884 0.9804697  0.98050362 0.9806054\n",
            " 0.98063932 0.98069958 0.98076738 0.98076782 0.98092255 0.98092849\n",
            " 0.98125268 0.98131585 0.98134744 0.98141061 0.98141679 0.98142158\n",
            " 0.98157714 0.98163681 0.98168226 0.98177152 0.98190616 0.98214919\n",
            " 0.98218642 0.98248564 0.98248564 0.98275456 0.98308409 0.98308409\n",
            " 0.98308409 0.98308409 0.98319941 0.98336724 0.98338717 0.98353678\n",
            " 0.98353678 0.98356297 0.98398456 0.98409343 0.98455684 0.98473752\n",
            " 0.98473752 0.98518396 0.98519793 0.98534754 0.98534754 0.9856377\n",
            " 0.98565062 0.98565062 0.98565062 0.98565062 0.98565144 0.98581365\n",
            " 0.98609227 0.98628383 0.98645441 0.98647539 0.98655986 0.98655986\n",
            " 0.98671333 0.98671333 0.98671333 0.98671333 0.98671333 0.98671333\n",
            " 0.98683487 0.98686276 0.98686679 0.98686679 0.98686679 0.98686679\n",
            " 0.98686679 0.98704857 0.98711684 0.98716073 0.98716522 0.98716522\n",
            " 0.98716522 0.98716522 0.98716522 0.98716726 0.9872739  0.98732674\n",
            " 0.98762518 0.98764451 0.98781732 0.98781869 0.98782124 0.98797746\n",
            " 0.98797767 0.98798021 0.98798318 0.98798509 0.98798845 0.98814467\n",
            " 0.98829452 0.98829703 0.98846487 0.98849835 0.98946399 0.98948073\n",
            " 0.98951421 0.98953094 0.98956209 0.98956247 0.98956484 0.98956731\n",
            " 0.98956798 0.98957785 0.9896009  0.98963549 0.98964018 0.98965417\n",
            " 0.98979671 0.9898252  0.98982887 0.98983105 0.98999214 0.990283\n",
            " 0.99032529 0.99034596 0.99049557 0.99049557 0.99049557 0.99064518\n",
            " 0.99064518 0.99069162 0.99071852 0.99072474 0.99074962 0.9907745\n",
            " 0.99082817 0.99084868 0.99100855 0.99116842 0.99134879 0.99135904\n",
            " 0.99167205 0.99168902 0.99169152 0.99169552 0.99170017 0.99170017\n",
            " 0.99170017 0.99170017 0.99170017 0.992149   0.992149   0.992149\n",
            " 0.99215109 0.99215356 0.99215415 0.99215509 0.99215568 0.99215874\n",
            " 0.9922083  0.99221714 0.99245904 0.99250114 0.9929605  0.99297102\n",
            " 0.9936112  0.99365877 0.99370633 0.99377768 0.99407559 0.99411752\n",
            " 0.99411905 0.99412545 0.9941271  0.99417775 0.99423482 0.99468963\n",
            " 0.99469912 0.99470332 0.99470483 0.99470594 0.99470665 0.99470984\n",
            " 0.99471808 0.99471936 0.99472105 0.99472111 0.9947239  0.99472397\n",
            " 0.9947254  0.99472782 0.99473972 0.99475484 0.99475757 0.99476947\n",
            " 0.99507182 0.99507325 0.99522429 0.99522572 0.99525044 0.99525187\n",
            " 0.99540819 0.99541691 0.9954196  0.99542103 0.99542388 0.99559632\n",
            " 0.99560241 0.99563191 0.99602208 0.9960674  0.99632091 0.99632783\n",
            " 0.99633203 0.99633893 0.99634166 0.99636932 0.99644525 0.99645526\n",
            " 0.99648069 0.99649676 0.99653963 0.99669845 0.99670917 0.99688576\n",
            " 0.99689034 0.99690669 0.99690868 0.99729897 0.99761881 0.99762089\n",
            " 0.99762216 0.99762704 0.99763374 0.99763709 0.997711   0.99776327\n",
            " 0.99777329 0.99777542 0.9979299  0.99793091 0.99793433 0.9979431\n",
            " 0.99794412 0.99804737 0.99804755 0.99807328 0.99807444 0.99807521\n",
            " 0.99808256 0.99808487 0.99808564 0.99808603 1.        ]\n",
            "AUC =  0.9950544943312435\n"
          ]
        }
      ],
      "source": [
        "actual_classes = y_test_cv\n",
        "predicted_proba = y_test_prob\n",
        "\n",
        "fpr = dict()\n",
        "tpr = dict()\n",
        "roc_auc = dict()\n",
        "n_classes=12\n",
        "for i in range(n_classes):\n",
        "    fpr[i], tpr[i], _ = roc_curve(np.array(pd.get_dummies(actual_classes))[:, i], np.array(predicted_proba)[:, i])\n",
        "    roc_auc[i] = auc(fpr[i], tpr[i])\n",
        "#     print(\"fpr: \",fpr[i])\n",
        "#     print(\"tpr: \",tpr[i])\n",
        "#     print(\"roc_auc: \",roc_auc[i])\n",
        "\n",
        "all_fpr = np.unique(np.concatenate([fpr[i] for i in range(n_classes)]))\n",
        "print(\"all_fpr: \",all_fpr)\n",
        "mean_tpr = np.zeros_like(all_fpr)\n",
        "for i in range(n_classes):\n",
        "    mean_tpr += interp(all_fpr, fpr[i], tpr[i])\n",
        "mean_tpr /= n_classes\n",
        "\n",
        "fpr[\"macro\"] = all_fpr\n",
        "tpr[\"macro\"] = mean_tpr\n",
        "roc_auc[\"macro\"] = auc(fpr[\"macro\"], tpr[\"macro\"])\n",
        "print(\"mean_tpr: \",mean_tpr)\n",
        "print(\"AUC = \",roc_auc['macro'])"
      ],
      "id": "804ffd5e"
    },
    {
      "cell_type": "code",
      "execution_count": 40,
      "metadata": {
        "id": "f028e956"
      },
      "outputs": [],
      "source": [
        "roc_csv = pd.DataFrame()\n",
        "roc_csv[\"FPR(Macro)\"] = all_fpr\n",
        "roc_csv[\"TPR(Macro)\"] = mean_tpr"
      ],
      "id": "f028e956"
    },
    {
      "cell_type": "code",
      "execution_count": 41,
      "metadata": {
        "id": "769b9265"
      },
      "outputs": [],
      "source": [
        "roc_csv.to_csv(\"filename\", index=False)"
      ],
      "id": "769b9265"
    },
    {
      "cell_type": "code",
      "execution_count": 42,
      "metadata": {
        "colab": {
          "base_uri": "https://localhost:8080/",
          "height": 484
        },
        "id": "4okoIVD-OLTe",
        "outputId": "516fd1b9-2812-4584-eede-32e90eba8697"
      },
      "outputs": [
        {
          "output_type": "display_data",
          "data": {
            "text/plain": [
              "<Figure size 1100x500 with 2 Axes>"
            ],
            "image/png": "[encoded data removed]"
          },
          "metadata": {}
        }
      ],
      "source": [
        "import matplotlib.pyplot as plt\n",
        "import seaborn as sns\n",
        "from sklearn.metrics import confusion_matrix\n",
        "from sklearn.metrics import ConfusionMatrixDisplay\n",
        "import numpy as np\n",
        "\n",
        "# Assuming you have already calculated the confusion matrix 'cm' for 14 classes\n",
        "\n",
        "# Normalize the confusion matrix\n",
        "cm_normalized = cm.astype('float') / cm.sum(axis=1)[:, np.newaxis]\n",
        "sns.set(font_scale=1.2)\n",
        "# Plot the normalized confusion matrix heatmap\n",
        "fig=plt.figure(figsize=(11, 5))\n",
        "sns.heatmap(cm_normalized, annot=True, fmt='.1f', cmap='Blues', xticklabels=range(14), yticklabels=range(14))\n",
        "plt.xlabel('Predicted Labels')\n",
        "plt.ylabel('True Labels')\n",
        "fig.savefig('RRR',dpi=300, bbox_inches = 'tight')\n",
        "# plt.title('Normalized Confusion Matrix Heatmap')\n",
        "plt.show()"
      ],
      "id": "4okoIVD-OLTe"
    }
  ],
  "metadata": {
    "colab": {
      "provenance": [],
      "gpuType": "T4",
      "include_colab_link": true
    },
    "kernelspec": {
      "display_name": "Python 3",
      "name": "python3"
    },
    "language_info": {
      "codemirror_mode": {
        "name": "ipython",
        "version": 3
      },
      "file_extension": ".py",
      "mimetype": "text/x-python",
      "name": "python",
      "nbconvert_exporter": "python",
      "pygments_lexer": "ipython3",
      "version": "3.8.8"
    },
    "accelerator": "GPU"
  },
  "nbformat": 4,
  "nbformat_minor": 5
}