{
  "cells": [
    {
      "cell_type": "markdown",
      "metadata": {
        "id": "view-in-github",
        "colab_type": "text"
      },
      "source": [
        "<a href=\"https://colab.research.google.com/github/tirtha0809/Machine-Learning/blob/main/remove3_rf.ipynb\" target=\"_parent\"><img src=\"https://colab.research.google.com/assets/colab-badge.svg\" alt=\"Open In Colab\"/></a>"
      ]
    },
    {
      "cell_type": "markdown",
      "id": "d23c76a2",
      "metadata": {
        "id": "d23c76a2"
      },
      "source": [
        "# Importing Libraries"
      ]
    },
    {
      "cell_type": "code",
      "execution_count": 1,
      "id": "5b2cef0e",
      "metadata": {
        "id": "5b2cef0e"
      },
      "outputs": [],
      "source": [
        "import numpy as np\n",
        "import pandas as pd\n",
        "import tensorflow as tf\n",
        "import keras as kf\n",
        "from keras.models import Sequential\n",
        "from keras.layers import Dense\n",
        "from matplotlib import pyplot\n",
        "from os import makedirs\n",
        "from numpy import dstack\n",
        "from sklearn.linear_model import LogisticRegression\n",
        "from sklearn.neighbors import KNeighborsClassifier\n",
        "from sklearn.ensemble import GradientBoostingClassifier\n",
        "from sklearn.ensemble import RandomForestClassifier\n",
        "from sklearn.tree import DecisionTreeClassifier\n",
        "from xgboost import XGBClassifier\n",
        "from sklearn.svm import SVC\n",
        "from sklearn.naive_bayes import GaussianNB\n",
        "from sklearn.ensemble import AdaBoostClassifier\n",
        "from lightgbm import LGBMClassifier\n",
        "from sklearn.preprocessing import StandardScaler\n",
        "from sklearn.model_selection import train_test_split\n",
        "from imblearn.over_sampling import SMOTE\n",
        "from sklearn.metrics import confusion_matrix, accuracy_score\n",
        "from sklearn.metrics import precision_score, recall_score, f1_score, accuracy_score,roc_auc_score,roc_curve,auc\n",
        "from statistics import mean\n",
        "import time"
      ]
    },
    {
      "cell_type": "code",
      "execution_count": 2,
      "id": "obp1lLW3UQLZ",
      "metadata": {
        "colab": {
          "base_uri": "https://localhost:8080/"
        },
        "id": "obp1lLW3UQLZ",
        "outputId": "aaf4928b-a94c-4f8e-b91c-a23e30d1a1c2"
      },
      "outputs": [
        {
          "output_type": "stream",
          "name": "stdout",
          "text": [
            "Mounted at /content/drive\n"
          ]
        }
      ],
      "source": [
        "from google.colab import drive\n",
        "drive.mount('/content/drive')"
      ]
    },
    {
      "cell_type": "markdown",
      "id": "78ab07f7",
      "metadata": {
        "id": "78ab07f7"
      },
      "source": [
        "# Importing DataSet"
      ]
    },
    {
      "cell_type": "code",
      "execution_count": 3,
      "id": "9309e06d",
      "metadata": {
        "colab": {
          "base_uri": "https://localhost:8080/"
        },
        "id": "9309e06d",
        "outputId": "9f560821-868f-4330-eb82-76bd920a8c9f"
      },
      "outputs": [
        {
          "output_type": "stream",
          "name": "stdout",
          "text": [
            "3991\n"
          ]
        }
      ],
      "source": [
        "data = pd.read_csv('/content/drive/MyDrive/LANDSLIDE/LandslideData .csv') # 20 features\n",
        "dataset = data.dropna(axis = 0, how ='any')\n",
        "X =  dataset.iloc[:,1:-1].values\n",
        "y = dataset.iloc[:, -1].values\n",
        "print(len(dataset))"
      ]
    },
    {
      "cell_type": "code",
      "execution_count": 4,
      "id": "588acb2f",
      "metadata": {
        "id": "588acb2f"
      },
      "outputs": [],
      "source": [
        "#smote = SMOTE()"
      ]
    },
    {
      "cell_type": "code",
      "execution_count": 5,
      "id": "363487ad",
      "metadata": {
        "id": "363487ad"
      },
      "outputs": [],
      "source": [
        "#x_smote, y_smote = smote.fit_resample(X, y)\n",
        "smote= SMOTE(k_neighbors = 3)\n",
        "x_smote,y_smote = smote.fit_resample(X,y)"
      ]
    },
    {
      "cell_type": "code",
      "execution_count": 6,
      "id": "654f6958",
      "metadata": {
        "id": "654f6958"
      },
      "outputs": [],
      "source": [
        "from keras.models import load_model"
      ]
    },
    {
      "cell_type": "code",
      "execution_count": 7,
      "id": "67861b3e",
      "metadata": {
        "id": "67861b3e"
      },
      "outputs": [],
      "source": [
        "# create a custom function to load model\n",
        "def load_all_models(n_models):\n",
        "    all_models = list()\n",
        "    for i in range(n_models):\n",
        "        # filename\n",
        "        filename = 'north/model' + str(i + 1) + '.h5'\n",
        "        # load model\n",
        "        model = load_model(filename)\n",
        "        # Add a list of all the weaker learners\n",
        "        all_models.append(model)\n",
        "        #print('>loaded %s' % filename)\n",
        "    return all_models"
      ]
    },
    {
      "cell_type": "markdown",
      "id": "0c4c39db",
      "metadata": {
        "id": "0c4c39db"
      },
      "source": [
        "## Stacking models"
      ]
    },
    {
      "cell_type": "code",
      "execution_count": 8,
      "id": "db0754d0",
      "metadata": {
        "id": "db0754d0"
      },
      "outputs": [],
      "source": [
        "# create stacked model input dataset as outputs from the ensemble\n",
        "def stacked_dataset(members, inputX):\n",
        "    stackX = None\n",
        "    for model in members:\n",
        "        # make prediction\n",
        "        yhat = model.predict(inputX, verbose=0)\n",
        "        # stack predictions into [rows, members, probabilities]\n",
        "        if stackX is None:\n",
        "            stackX = yhat #\n",
        "        else:\n",
        "            stackX = dstack((stackX, yhat))\n",
        "    # flatten predictions to [rows, members x probabilities]\n",
        "    stackX = stackX.reshape((stackX.shape[0], stackX.shape[1]*stackX.shape[2]))\n",
        "    return stackX"
      ]
    },
    {
      "cell_type": "markdown",
      "id": "c1de75a1",
      "metadata": {
        "id": "c1de75a1"
      },
      "source": [
        "## Fit meta-learner"
      ]
    },
    {
      "cell_type": "code",
      "execution_count": 9,
      "id": "620c3aa9",
      "metadata": {
        "id": "620c3aa9"
      },
      "outputs": [],
      "source": [
        "# fit a model based on the outputs from the ensemble members\n",
        "def fit_stacked_model(members, inputX, inputy):\n",
        "    # create dataset using ensemble\n",
        "    stackedX = stacked_dataset(members, inputX)\n",
        "    #print(\"Models Test time: \",(end-start) * 10**3, \"ms\")\n",
        "    # fit the meta learner\n",
        "    #model = LogisticRegression() #meta learner\n",
        "    #model = SVC(kernel = 'rbf',random_state = 0,probability= True)\n",
        "    # model = SVC(kernel = 'linear', random_state = 0,probability=True)\n",
        "    #model = GaussianNB()\n",
        "    #model = KNeighborsClassifier(n_neighbors = 3, metric = 'minkowski', p = 2)\n",
        "    # model = GradientBoostingClassifier(n_estimators=50,learning_rate=0.5, max_depth=6, random_state=0)\n",
        "    model = RandomForestClassifier(criterion = 'entropy', random_state = 0)\n",
        "    # model = LGBMClassifier(random_state=0)\n",
        "    # model = DecisionTreeClassifier(max_depth=7,criterion = 'entropy', random_state = 0)\n",
        "    # model = XGBClassifier(n_estimators=50,learning_rate=0.5,max_depth=3)\n",
        "    #model = AdaBoostClassifier(n_estimators = 100, learning_rate = 1,random_state = 0)\n",
        "    #model.fit(X_train, y_train)\n",
        "    model.fit(stackedX, inputy)\n",
        "    return model"
      ]
    },
    {
      "cell_type": "code",
      "execution_count": 10,
      "id": "46d953ea",
      "metadata": {
        "id": "46d953ea"
      },
      "outputs": [],
      "source": [
        "def stacked_prediction(members, model, inputX):\n",
        "    # create dataset using ensemble\n",
        "    stackedX = stacked_dataset(members, inputX)\n",
        "    # make a prediction\n",
        "    yhat = model.predict(stackedX)\n",
        "    return yhat"
      ]
    },
    {
      "cell_type": "code",
      "execution_count": 11,
      "id": "1bd5b4f1",
      "metadata": {
        "id": "1bd5b4f1"
      },
      "outputs": [],
      "source": [
        "def stacked_prediction_proba(members,model,inputX):\n",
        "    # create dataset using ensemble\n",
        "    stackedX = stacked_dataset(members,inputX)\n",
        "    # make a prediction\n",
        "    yhatProb = model.predict_proba(stackedX)\n",
        "    return yhatProb"
      ]
    },
    {
      "cell_type": "code",
      "execution_count": 12,
      "id": "86c41c29",
      "metadata": {
        "id": "86c41c29"
      },
      "outputs": [],
      "source": [
        "acc_train = []\n",
        "acc_test = []\n",
        "Precision_macro = []\n",
        "Precision_micro = []\n",
        "Recall_macro = []\n",
        "Recall_micro = []\n",
        "F1_macro = []\n",
        "F1_micro = []\n",
        "AUC_ovo = []\n",
        "AUC_ovr = []\n",
        "train_time = []\n",
        "test_time = []"
      ]
    },
    {
      "cell_type": "code",
      "execution_count": 13,
      "id": "--nkGullVeMc",
      "metadata": {
        "id": "--nkGullVeMc"
      },
      "outputs": [],
      "source": [
        "num_classes = 13"
      ]
    },
    {
      "cell_type": "code",
      "execution_count": 14,
      "id": "426c21a7",
      "metadata": {
        "colab": {
          "base_uri": "https://localhost:8080/"
        },
        "id": "426c21a7",
        "outputId": "88b2a712-5280-4f78-bef9-8ab1b087188a"
      },
      "outputs": [
        {
          "output_type": "stream",
          "name": "stdout",
          "text": [
            "[ 0.  1.  2.  3.  4.  5.  6.  7.  8.  9. 10. 11.]\n"
          ]
        },
        {
          "output_type": "stream",
          "name": "stderr",
          "text": [
            "/usr/local/lib/python3.10/dist-packages/keras/src/engine/training.py:3103: UserWarning: You are saving your model as an HDF5 file via `model.save()`. This file format is considered legacy. We recommend using instead the native Keras format, e.g. `model.save('my_model.keras')`.\n",
            "  saving_api.save_model(\n"
          ]
        },
        {
          "output_type": "stream",
          "name": "stdout",
          "text": [
            "Cross validation Train time:  1770144.1729068756 ms\n",
            "Cross validation Test time:  8822.627782821655 ms\n",
            "[ 0.  1.  2.  3.  4.  5.  6.  7.  8.  9. 10. 11.]\n"
          ]
        },
        {
          "output_type": "stream",
          "name": "stderr",
          "text": [
            "/usr/local/lib/python3.10/dist-packages/keras/src/engine/training.py:3103: UserWarning: You are saving your model as an HDF5 file via `model.save()`. This file format is considered legacy. We recommend using instead the native Keras format, e.g. `model.save('my_model.keras')`.\n",
            "  saving_api.save_model(\n"
          ]
        },
        {
          "output_type": "stream",
          "name": "stdout",
          "text": [
            "Cross validation Train time:  1784187.8771781921 ms\n",
            "Cross validation Test time:  8784.126281738281 ms\n",
            "[ 0.  1.  2.  3.  4.  5.  6.  7.  8.  9. 10. 11.]\n"
          ]
        },
        {
          "output_type": "stream",
          "name": "stderr",
          "text": [
            "/usr/local/lib/python3.10/dist-packages/keras/src/engine/training.py:3103: UserWarning: You are saving your model as an HDF5 file via `model.save()`. This file format is considered legacy. We recommend using instead the native Keras format, e.g. `model.save('my_model.keras')`.\n",
            "  saving_api.save_model(\n"
          ]
        },
        {
          "output_type": "stream",
          "name": "stdout",
          "text": [
            "Cross validation Train time:  1744125.6456375122 ms\n",
            "Cross validation Test time:  9530.92360496521 ms\n",
            "[ 0.  1.  2.  3.  4.  5.  6.  7.  8.  9. 10. 11.]\n"
          ]
        },
        {
          "output_type": "stream",
          "name": "stderr",
          "text": [
            "/usr/local/lib/python3.10/dist-packages/keras/src/engine/training.py:3103: UserWarning: You are saving your model as an HDF5 file via `model.save()`. This file format is considered legacy. We recommend using instead the native Keras format, e.g. `model.save('my_model.keras')`.\n",
            "  saving_api.save_model(\n"
          ]
        },
        {
          "output_type": "stream",
          "name": "stdout",
          "text": [
            "Cross validation Train time:  1799436.3417625427 ms\n",
            "Cross validation Test time:  7537.484645843506 ms\n",
            "[ 0.  1.  2.  3.  4.  5.  6.  7.  8.  9. 10. 11.]\n"
          ]
        },
        {
          "output_type": "stream",
          "name": "stderr",
          "text": [
            "/usr/local/lib/python3.10/dist-packages/keras/src/engine/training.py:3103: UserWarning: You are saving your model as an HDF5 file via `model.save()`. This file format is considered legacy. We recommend using instead the native Keras format, e.g. `model.save('my_model.keras')`.\n",
            "  saving_api.save_model(\n"
          ]
        },
        {
          "output_type": "stream",
          "name": "stdout",
          "text": [
            "Cross validation Train time:  1727294.2378520966 ms\n",
            "Cross validation Test time:  10662.474632263184 ms\n"
          ]
        }
      ],
      "source": [
        "for i in range(0,5):\n",
        "\n",
        "    X_train_cv, X_test_cv, y_train_cv, y_test_cv = train_test_split(x_smote, y_smote, test_size = 0.25,random_state = i)\n",
        "    y_train_cv = y_train_cv - 1\n",
        "    y_test_cv = y_test_cv - 1\n",
        "\n",
        "    sc = StandardScaler()\n",
        "    X_train_cv = sc.fit_transform(X_train_cv)\n",
        "    X_test_cv = sc.transform(X_test_cv)\n",
        "    unique_labels = np.unique(y_train_cv)\n",
        "    print(unique_labels)\n",
        "\n",
        "    start = time.time()\n",
        "    # Model 1\n",
        "    ann1 = Sequential()\n",
        "    ann1.add(tf.keras.layers.Dense(units=15, activation='relu'))\n",
        "    ann1.add(tf.keras.layers.Dense(units=20, activation='relu'))\n",
        "    ann1.add(tf.keras.layers.Dense(units=num_classes, activation='softmax'))\n",
        "    ann1.compile(optimizer = 'adam', loss = kf.losses.SparseCategoricalCrossentropy(), metrics = [kf.metrics.CategoricalAccuracy()])\n",
        "    ann1.fit(X_train_cv, y_train_cv, batch_size = 128, epochs = 100,verbose=0)\n",
        "\n",
        "    # Model 2\n",
        "    ann2 = Sequential()\n",
        "    ann2.add(tf.keras.layers.Dense(units=10, activation='relu'))\n",
        "    ann2.add(tf.keras.layers.Dense(units=15, activation='relu'))\n",
        "    ann2.add(tf.keras.layers.Dense(units=25, activation='relu'))\n",
        "    ann2.add(tf.keras.layers.Dense(units=num_classes, activation='softmax'))\n",
        "    ann2.compile(optimizer = 'adam', loss = kf.losses.SparseCategoricalCrossentropy(), metrics = [kf.metrics.CategoricalAccuracy()])\n",
        "    ann2.fit(X_train_cv, y_train_cv, batch_size = 128, epochs = 150,verbose=0)\n",
        "\n",
        "    # Model 3\n",
        "    ann3 = Sequential()\n",
        "    ann3.add(tf.keras.layers.Dense(units=20, activation='relu'))\n",
        "    ann3.add(tf.keras.layers.Dense(units=25, activation='relu'))\n",
        "    ann3.add(tf.keras.layers.Dense(units=30, activation='relu'))\n",
        "    ann3.add(tf.keras.layers.Dense(units=num_classes, activation='softmax'))\n",
        "    ann3.compile(optimizer = 'adam', loss = kf.losses.SparseCategoricalCrossentropy(), metrics = [kf.metrics.CategoricalAccuracy()])\n",
        "    ann3.fit(X_train_cv, y_train_cv, batch_size = 128, epochs = 180,verbose=0)\n",
        "\n",
        "    # Model 4\n",
        "\n",
        "    ann4 = Sequential()\n",
        "    ann4.add(tf.keras.layers.Dense(units=30, activation='relu'))\n",
        "    ann4.add(tf.keras.layers.Dense(units=35, activation='relu'))\n",
        "    ann4.add(tf.keras.layers.Dense(units=40, activation='relu'))\n",
        "    ann4.add(tf.keras.layers.Dense(units=num_classes, activation='softmax'))\n",
        "    ann4.compile(optimizer = 'adam', loss = kf.losses.SparseCategoricalCrossentropy(), metrics = [kf.metrics.CategoricalAccuracy()])\n",
        "    ann4.fit(X_train_cv, y_train_cv, batch_size = 128, epochs = 200,verbose=0)\n",
        "\n",
        "    # Model 5\n",
        "\n",
        "    ann5 = Sequential()\n",
        "    ann5.add(tf.keras.layers.Dense(units=40, activation='relu'))\n",
        "    ann5.add(tf.keras.layers.Dense(units=50, activation='relu'))\n",
        "    ann5.add(tf.keras.layers.Dense(units=55, activation='relu'))\n",
        "    ann5.add(tf.keras.layers.Dense(units=num_classes, activation='softmax'))\n",
        "    ann5.compile(optimizer = 'adam', loss = kf.losses.SparseCategoricalCrossentropy(), metrics = [kf.metrics.CategoricalAccuracy()])\n",
        "    ann5.fit(X_train_cv, y_train_cv, batch_size = 128, epochs = 250,verbose=0)\n",
        "\n",
        "    # Model 6\n",
        "\n",
        "    ann6 = Sequential()\n",
        "    ann6.add(tf.keras.layers.Dense(units=35, activation='relu'))\n",
        "    ann6.add(tf.keras.layers.Dense(units=45, activation='relu'))\n",
        "    ann6.add(tf.keras.layers.Dense(units=50, activation='relu'))\n",
        "    ann6.add(tf.keras.layers.Dense(units=num_classes, activation='softmax'))\n",
        "    ann6.compile(optimizer = 'adam', loss = kf.losses.SparseCategoricalCrossentropy(), metrics = [kf.metrics.CategoricalAccuracy()])\n",
        "    ann6.fit(X_train_cv, y_train_cv, batch_size = 128, epochs = 300,verbose=0)\n",
        "\n",
        "    # Model 7\n",
        "\n",
        "    ann7 = Sequential()\n",
        "    ann7.add(tf.keras.layers.Dense(units=35, activation='relu'))\n",
        "    ann7.add(tf.keras.layers.Dense(units=45, activation='relu'))\n",
        "    ann7.add(tf.keras.layers.Dense(units=50, activation='relu'))\n",
        "    ann7.add(tf.keras.layers.Dense(units=num_classes, activation='softmax'))\n",
        "    ann7.compile(optimizer = 'adam', loss = kf.losses.SparseCategoricalCrossentropy(), metrics = [kf.metrics.CategoricalAccuracy()])\n",
        "    ann7.fit(X_train_cv, y_train_cv, batch_size = 128, epochs = 300,verbose=0)\n",
        "\n",
        "    # Model 8\n",
        "\n",
        "    ann8 = Sequential()\n",
        "    ann8.add(tf.keras.layers.Dense(units=35, activation='relu'))\n",
        "    ann8.add(tf.keras.layers.Dense(units=45, activation='relu'))\n",
        "    ann8.add(tf.keras.layers.Dense(units=50, activation='relu'))\n",
        "    ann8.add(tf.keras.layers.Dense(units=num_classes, activation='softmax'))\n",
        "    ann8.compile(optimizer = 'adam', loss = kf.losses.SparseCategoricalCrossentropy(), metrics = [kf.metrics.CategoricalAccuracy()])\n",
        "    ann8.fit(X_train_cv, y_train_cv, batch_size = 128, epochs = 300,verbose=0)\n",
        "\n",
        "    # Model 9\n",
        "\n",
        "    ann9 = Sequential()\n",
        "    ann9.add(tf.keras.layers.Dense(units=35, activation='relu'))\n",
        "    ann9.add(tf.keras.layers.Dense(units=45, activation='relu'))\n",
        "    ann9.add(tf.keras.layers.Dense(units=50, activation='relu'))\n",
        "    ann9.add(tf.keras.layers.Dense(units=num_classes, activation='softmax'))\n",
        "    ann9.compile(optimizer = 'adam', loss = kf.losses.SparseCategoricalCrossentropy(), metrics = [kf.metrics.CategoricalAccuracy()])\n",
        "    ann9.fit(X_train_cv, y_train_cv, batch_size = 128, epochs = 300,verbose=0)\n",
        "\n",
        "    # Model 10\n",
        "\n",
        "    ann10 = Sequential()\n",
        "    ann10.add(tf.keras.layers.Dense(units=35, activation='relu'))\n",
        "    ann10.add(tf.keras.layers.Dense(units=45, activation='relu'))\n",
        "    ann10.add(tf.keras.layers.Dense(units=50, activation='relu'))\n",
        "    ann10.add(tf.keras.layers.Dense(units=num_classes, activation='softmax'))\n",
        "    ann10.compile(optimizer = 'adam', loss = kf.losses.SparseCategoricalCrossentropy(), metrics = [kf.metrics.CategoricalAccuracy()])\n",
        "    ann10.fit(X_train_cv, y_train_cv, batch_size = 128, epochs = 300,verbose=0)\n",
        "    # Model 11\n",
        "\n",
        "    ann11 = Sequential()\n",
        "    ann11.add(tf.keras.layers.Dense(units=35, activation='relu'))\n",
        "    ann11.add(tf.keras.layers.Dense(units=45, activation='relu'))\n",
        "    ann11.add(tf.keras.layers.Dense(units=50, activation='relu'))\n",
        "    ann11.add(tf.keras.layers.Dense(units=num_classes, activation='softmax'))\n",
        "    ann11.compile(optimizer = 'adam', loss = kf.losses.SparseCategoricalCrossentropy(), metrics = [kf.metrics.CategoricalAccuracy()])\n",
        "    ann11.fit(X_train_cv, y_train_cv, batch_size = 128, epochs = 300,verbose=0)\n",
        "\n",
        "    # Model 12\n",
        "\n",
        "    ann12 = Sequential()\n",
        "    ann12.add(tf.keras.layers.Dense(units=35, activation='relu'))\n",
        "    ann12.add(tf.keras.layers.Dense(units=45, activation='relu'))\n",
        "    ann12.add(tf.keras.layers.Dense(units=50, activation='relu'))\n",
        "    ann12.add(tf.keras.layers.Dense(units=num_classes, activation='softmax'))\n",
        "    ann12.compile(optimizer = 'adam', loss = kf.losses.SparseCategoricalCrossentropy(), metrics = [kf.metrics.CategoricalAccuracy()])\n",
        "    ann12.fit(X_train_cv, y_train_cv, batch_size = 128, epochs = 300,verbose=0)\n",
        "\n",
        "    # Model 13\n",
        "\n",
        "    ann13 = Sequential()\n",
        "    ann13.add(tf.keras.layers.Dense(units=35, activation='relu'))\n",
        "    ann13.add(tf.keras.layers.Dense(units=45, activation='relu'))\n",
        "    ann13.add(tf.keras.layers.Dense(units=50, activation='relu'))\n",
        "    ann13.add(tf.keras.layers.Dense(units=num_classes, activation='softmax'))\n",
        "    ann13.compile(optimizer = 'adam', loss = kf.losses.SparseCategoricalCrossentropy(), metrics = [kf.metrics.CategoricalAccuracy()])\n",
        "    ann13.fit(X_train_cv, y_train_cv, batch_size = 128, epochs = 300,verbose=0)\n",
        "\n",
        "    # Model 14\n",
        "\n",
        "    ann14 = Sequential()\n",
        "    ann14.add(tf.keras.layers.Dense(units=35, activation='relu'))\n",
        "    ann14.add(tf.keras.layers.Dense(units=45, activation='relu'))\n",
        "    ann14.add(tf.keras.layers.Dense(units=50, activation='relu'))\n",
        "    ann14.add(tf.keras.layers.Dense(units=num_classes, activation='softmax'))\n",
        "    ann14.compile(optimizer = 'adam', loss = kf.losses.SparseCategoricalCrossentropy(), metrics = [kf.metrics.CategoricalAccuracy()])\n",
        "    ann14.fit(X_train_cv, y_train_cv, batch_size = 128, epochs = 300,verbose=0)\n",
        "\n",
        "    # Model 15\n",
        "\n",
        "    ann15 = Sequential()\n",
        "    ann15.add(tf.keras.layers.Dense(units=35, activation='relu'))\n",
        "    ann15.add(tf.keras.layers.Dense(units=45, activation='sigmoid'))\n",
        "    ann15.add(tf.keras.layers.Dense(units=50, activation='relu'))\n",
        "    ann15.add(tf.keras.layers.Dense(units=num_classes, activation='softmax'))\n",
        "    ann15.compile(optimizer = 'adam', loss = kf.losses.SparseCategoricalCrossentropy(), metrics = [kf.metrics.CategoricalAccuracy()])\n",
        "    ann15.fit(X_train_cv, y_train_cv, batch_size = 128, epochs = 300,verbose=0)\n",
        "\n",
        "    # Model 16\n",
        "\n",
        "    ann16 = Sequential()\n",
        "    ann16.add(tf.keras.layers.Dense(units=35, activation='relu'))\n",
        "    ann16.add(tf.keras.layers.Dense(units=45, activation='sigmoid'))\n",
        "    ann16.add(tf.keras.layers.Dense(units=50, activation='relu'))\n",
        "    ann16.add(tf.keras.layers.Dense(units=num_classes, activation='softmax'))\n",
        "    ann16.compile(optimizer = 'adam', loss = kf.losses.SparseCategoricalCrossentropy(), metrics = [kf.metrics.CategoricalAccuracy()])\n",
        "    ann16.fit(X_train_cv, y_train_cv, batch_size = 128, epochs = 300,verbose=0)\n",
        "\n",
        "    ann1.save('north/model1.h5')\n",
        "    ann2.save('north/model2.h5')\n",
        "    ann3.save('north/model3.h5')\n",
        "    ann4.save('north/model4.h5')\n",
        "    ann5.save('north/model5.h5')\n",
        "    ann6.save('north/model6.h5')\n",
        "    ann7.save('north/model7.h5')\n",
        "    ann8.save('north/model8.h5')\n",
        "    ann9.save('north/model9.h5')\n",
        "    ann10.save('north/model10.h5')\n",
        "    ann11.save('north/model11.h5')\n",
        "    ann12.save('north/model12.h5')\n",
        "    ann13.save('north/model13.h5')\n",
        "    ann14.save('north/model14.h5')\n",
        "    ann15.save('north/model15.h5')\n",
        "    ann16.save('north/model16.h5')\n",
        "\n",
        "    members = load_all_models(16)\n",
        "    model = fit_stacked_model(members, X_train_cv,y_train_cv)\n",
        "    end = time.time()\n",
        "    print(\"Cross validation Train time: \",(end-start) * 10**3, \"ms\")\n",
        "    t = (end-start)*1000\n",
        "    train_time.append(t)\n",
        "\n",
        "    start = time.time()\n",
        "    y_pred = stacked_prediction(members, model, X_test_cv)\n",
        "    end = time.time()\n",
        "\n",
        "    t = (end - start)*1000\n",
        "    test_time.append(t)\n",
        "\n",
        "    print(\"Cross validation Test time: \",(end-start) * 10**3, \"ms\")\n",
        "    y_test_prob = stacked_prediction_proba(members,model,X_test_cv)\n",
        "    y_train_pred = stacked_prediction(members, model, X_train_cv)\n",
        "\n",
        "    cm = confusion_matrix(y_test_cv, y_pred)\n",
        "\n",
        "\n",
        "    accuracy = accuracy_score(y_test_cv, y_pred)\n",
        "    acc_test.append(accuracy)\n",
        "    accuracy_train = accuracy_score(y_train_cv, y_train_pred)\n",
        "    acc_train.append(accuracy_train)\n",
        "\n",
        "    pre_macro = precision_score(y_test_cv, y_pred,average='macro')\n",
        "    Precision_macro.append(pre_macro)\n",
        "    pre_micro = precision_score(y_test_cv, y_pred,average='micro')\n",
        "    Precision_micro.append(pre_micro)\n",
        "\n",
        "    re_macro = recall_score(y_test_cv, y_pred,average='macro')\n",
        "    Recall_macro.append(re_macro)\n",
        "    re_micro = recall_score(y_test_cv, y_pred,average='micro')\n",
        "    Recall_micro.append(re_micro)\n",
        "\n",
        "    f1_macro = f1_score(y_test_cv, y_pred,average='macro')\n",
        "    F1_macro.append(f1_macro)\n",
        "    f1_micro = f1_score(y_test_cv, y_pred,average='micro')\n",
        "    F1_micro.append(f1_micro)\n",
        "\n",
        "    auc_ovo = roc_auc_score(y_test_cv,y_test_prob,multi_class='ovo')\n",
        "    AUC_ovo.append(auc_ovo)\n",
        "    auc_ovr = roc_auc_score(y_test_cv,y_test_prob,multi_class='ovr')\n",
        "    AUC_ovr.append(auc_ovr)\n"
      ]
    },
    {
      "cell_type": "code",
      "execution_count": 15,
      "id": "4631b43e",
      "metadata": {
        "id": "4631b43e"
      },
      "outputs": [],
      "source": [
        "result_cv = pd.DataFrame()\n",
        "result_cv[\"Train_acc\"] = acc_train\n",
        "result_cv[\"Test_acc\"] = acc_test\n",
        "result_cv[\"Precision(macro)\"] = Precision_macro\n",
        "result_cv[\"Precision(micro)\"] = Precision_micro\n",
        "result_cv[\"Recall(macro)\"] = Recall_macro\n",
        "result_cv[\"Recall(micro)\"] = Recall_micro\n",
        "result_cv[\"F1(macro)\"] = F1_macro\n",
        "result_cv[\"F1(micro)\"] = F1_micro\n",
        "result_cv[\"AUC(ovo)\"] = AUC_ovo\n",
        "result_cv[\"AUC(ovr)\"] = AUC_ovr\n",
        "result_cv[\"Train Time\"] = train_time\n",
        "result_cv[\"Test Time\"] = test_time"
      ]
    },
    {
      "cell_type": "code",
      "execution_count": 16,
      "id": "6bf66a36",
      "metadata": {
        "id": "6bf66a36",
        "colab": {
          "base_uri": "https://localhost:8080/"
        },
        "outputId": "abdcf654-0e95-429c-d71c-9bc6b6e1e5d9"
      },
      "outputs": [
        {
          "output_type": "execute_result",
          "data": {
            "text/plain": [
              "[1770144.1729068756,\n",
              " 1784187.8771781921,\n",
              " 1744125.6456375122,\n",
              " 1799436.3417625427,\n",
              " 1727294.2378520966]"
            ]
          },
          "metadata": {},
          "execution_count": 16
        }
      ],
      "source": [
        "train_time"
      ]
    },
    {
      "cell_type": "code",
      "execution_count": 17,
      "id": "105fd285",
      "metadata": {
        "id": "105fd285",
        "colab": {
          "base_uri": "https://localhost:8080/"
        },
        "outputId": "8af012da-0c32-4809-8eec-6bbbd763eb7a"
      },
      "outputs": [
        {
          "output_type": "execute_result",
          "data": {
            "text/plain": [
              "[8822.627782821655,\n",
              " 8784.126281738281,\n",
              " 9530.92360496521,\n",
              " 7537.484645843506,\n",
              " 10662.474632263184]"
            ]
          },
          "metadata": {},
          "execution_count": 17
        }
      ],
      "source": [
        "test_time"
      ]
    },
    {
      "cell_type": "code",
      "execution_count": 18,
      "id": "b92aa6da",
      "metadata": {
        "id": "b92aa6da"
      },
      "outputs": [],
      "source": [
        "result_cv.to_csv(\"filename\", index=False)"
      ]
    },
    {
      "cell_type": "code",
      "execution_count": 19,
      "id": "0663ab50",
      "metadata": {
        "id": "0663ab50"
      },
      "outputs": [],
      "source": [
        "result_cv_avg = pd.DataFrame()\n",
        "lst = []\n",
        "x = mean(acc_train)*100\n",
        "lst.append(x)\n",
        "result_cv_avg[\"Train_acc\"] = lst\n",
        "result_cv_avg[\"Test_acc\"] = mean(acc_test)*100\n",
        "result_cv_avg[\"SD\"] = np.std(acc_test)*100\n",
        "result_cv_avg[\"Precision(macro)\"] = mean(Precision_macro)\n",
        "result_cv_avg[\"Precision(micro)\"] = mean(Precision_micro)\n",
        "result_cv_avg[\"Recall(macro)\"] = mean(Recall_macro)\n",
        "result_cv_avg[\"Recall(micro)\"] = mean(Recall_micro)\n",
        "result_cv_avg[\"F1(macro)\"] = mean(F1_macro)\n",
        "result_cv_avg[\"F1(micro)\"] = mean(F1_micro)\n",
        "result_cv_avg[\"AUC(ovo)\"] = mean(AUC_ovo)\n",
        "result_cv_avg[\"AUC(ovr)\"] = mean(AUC_ovr)"
      ]
    },
    {
      "cell_type": "code",
      "execution_count": 20,
      "id": "b3d296c7",
      "metadata": {
        "id": "b3d296c7"
      },
      "outputs": [],
      "source": [
        "result_cv_avg.to_csv(\"filename\", index=False)"
      ]
    },
    {
      "cell_type": "code",
      "execution_count": 21,
      "id": "d737dfcb",
      "metadata": {
        "id": "d737dfcb",
        "colab": {
          "base_uri": "https://localhost:8080/"
        },
        "outputId": "6ebb7a80-4ebe-4c6a-a10d-4213467abd74"
      },
      "outputs": [
        {
          "output_type": "execute_result",
          "data": {
            "text/plain": [
              "[0.9997009122177359,\n",
              " 0.9995015203628932,\n",
              " 0.9996012162903145,\n",
              " 0.9994516723991825,\n",
              " 0.9997009122177359]"
            ]
          },
          "metadata": {},
          "execution_count": 21
        }
      ],
      "source": [
        "acc_train"
      ]
    },
    {
      "cell_type": "code",
      "execution_count": 22,
      "id": "5601cc70",
      "metadata": {
        "id": "5601cc70",
        "colab": {
          "base_uri": "https://localhost:8080/"
        },
        "outputId": "112f3b82-49f8-4927-db71-142e5ce3def1"
      },
      "outputs": [
        {
          "output_type": "execute_result",
          "data": {
            "text/plain": [
              "[0.9419769702407657,\n",
              " 0.943173321369822,\n",
              " 0.9433228652609541,\n",
              " 0.9440705847166143,\n",
              " 0.942874233587558]"
            ]
          },
          "metadata": {},
          "execution_count": 22
        }
      ],
      "source": [
        "acc_test"
      ]
    },
    {
      "cell_type": "code",
      "execution_count": 23,
      "id": "a183e93a",
      "metadata": {
        "id": "a183e93a",
        "colab": {
          "base_uri": "https://localhost:8080/"
        },
        "outputId": "3059f10a-d479-4c33-b898-ff929eccc97a"
      },
      "outputs": [
        {
          "output_type": "execute_result",
          "data": {
            "text/plain": [
              "[0.9396793763700142,\n",
              " 0.9413454559548172,\n",
              " 0.9401840718584564,\n",
              " 0.9440503712498335,\n",
              " 0.9408233011125381]"
            ]
          },
          "metadata": {},
          "execution_count": 23
        }
      ],
      "source": [
        "Precision_macro"
      ]
    },
    {
      "cell_type": "code",
      "execution_count": 24,
      "id": "919cba03",
      "metadata": {
        "id": "919cba03",
        "colab": {
          "base_uri": "https://localhost:8080/"
        },
        "outputId": "37d9ebc2-016e-4196-d501-434881a54f04"
      },
      "outputs": [
        {
          "output_type": "execute_result",
          "data": {
            "text/plain": [
              "[0.9419769702407657,\n",
              " 0.943173321369822,\n",
              " 0.9433228652609541,\n",
              " 0.9440705847166143,\n",
              " 0.942874233587558]"
            ]
          },
          "metadata": {},
          "execution_count": 24
        }
      ],
      "source": [
        "Precision_micro"
      ]
    },
    {
      "cell_type": "code",
      "execution_count": 25,
      "id": "da5922e3",
      "metadata": {
        "id": "da5922e3",
        "colab": {
          "base_uri": "https://localhost:8080/"
        },
        "outputId": "4e3d5b7b-a87d-45c7-9ce0-28b9bb659a99"
      },
      "outputs": [
        {
          "output_type": "execute_result",
          "data": {
            "text/plain": [
              "[0.9417687128884064,\n",
              " 0.9435733574161526,\n",
              " 0.9414734718316753,\n",
              " 0.9453419016621941,\n",
              " 0.9421285310797017]"
            ]
          },
          "metadata": {},
          "execution_count": 25
        }
      ],
      "source": [
        "Recall_macro"
      ]
    },
    {
      "cell_type": "code",
      "execution_count": 26,
      "id": "9da08914",
      "metadata": {
        "id": "9da08914",
        "colab": {
          "base_uri": "https://localhost:8080/"
        },
        "outputId": "b8f687fa-18e6-493f-cb65-fbd06eda980c"
      },
      "outputs": [
        {
          "output_type": "execute_result",
          "data": {
            "text/plain": [
              "[0.9419769702407657,\n",
              " 0.943173321369822,\n",
              " 0.9433228652609541,\n",
              " 0.9440705847166143,\n",
              " 0.942874233587558]"
            ]
          },
          "metadata": {},
          "execution_count": 26
        }
      ],
      "source": [
        "Recall_micro"
      ]
    },
    {
      "cell_type": "code",
      "execution_count": 27,
      "id": "d06098bb",
      "metadata": {
        "id": "d06098bb",
        "colab": {
          "base_uri": "https://localhost:8080/"
        },
        "outputId": "edd82af4-7a49-4640-d49d-15fbcd7d0603"
      },
      "outputs": [
        {
          "output_type": "execute_result",
          "data": {
            "text/plain": [
              "[0.9405414657985239,\n",
              " 0.9419729704136378,\n",
              " 0.9407153918380388,\n",
              " 0.9446432582424505,\n",
              " 0.9413668817954766]"
            ]
          },
          "metadata": {},
          "execution_count": 27
        }
      ],
      "source": [
        "F1_macro"
      ]
    },
    {
      "cell_type": "code",
      "execution_count": 28,
      "id": "c98a6d5f",
      "metadata": {
        "id": "c98a6d5f",
        "colab": {
          "base_uri": "https://localhost:8080/"
        },
        "outputId": "1bcac473-bc99-422e-c341-fa68d059a195"
      },
      "outputs": [
        {
          "output_type": "execute_result",
          "data": {
            "text/plain": [
              "[0.9419769702407657,\n",
              " 0.943173321369822,\n",
              " 0.9433228652609541,\n",
              " 0.9440705847166143,\n",
              " 0.942874233587558]"
            ]
          },
          "metadata": {},
          "execution_count": 28
        }
      ],
      "source": [
        "F1_micro"
      ]
    },
    {
      "cell_type": "code",
      "execution_count": 29,
      "id": "ae3f919c",
      "metadata": {
        "id": "ae3f919c",
        "colab": {
          "base_uri": "https://localhost:8080/"
        },
        "outputId": "2491e741-69dd-4ed5-8d38-80faa675106d"
      },
      "outputs": [
        {
          "output_type": "execute_result",
          "data": {
            "text/plain": [
              "[0.9949472480475358,\n",
              " 0.9957745771688896,\n",
              " 0.9951631557224083,\n",
              " 0.996107216364995,\n",
              " 0.9947220865479436]"
            ]
          },
          "metadata": {},
          "execution_count": 29
        }
      ],
      "source": [
        "AUC_ovo"
      ]
    },
    {
      "cell_type": "code",
      "execution_count": 30,
      "id": "9bc6fd04",
      "metadata": {
        "id": "9bc6fd04",
        "colab": {
          "base_uri": "https://localhost:8080/"
        },
        "outputId": "b8a98a90-459d-48cf-e697-3e21f68aba55"
      },
      "outputs": [
        {
          "output_type": "stream",
          "name": "stdout",
          "text": [
            "3\n"
          ]
        }
      ],
      "source": [
        "index = np.argmax(AUC_ovo)\n",
        "print(index)"
      ]
    },
    {
      "cell_type": "code",
      "execution_count": 31,
      "id": "a85635c8",
      "metadata": {
        "id": "a85635c8",
        "colab": {
          "base_uri": "https://localhost:8080/"
        },
        "outputId": "6ec2d6e4-83de-439e-c41b-34cb20cdcff7"
      },
      "outputs": [
        {
          "output_type": "execute_result",
          "data": {
            "text/plain": [
              "[0.994983822386239,\n",
              " 0.9957770889649514,\n",
              " 0.9953131610874818,\n",
              " 0.9960327440671274,\n",
              " 0.9947776386364575]"
            ]
          },
          "metadata": {},
          "execution_count": 31
        }
      ],
      "source": [
        "AUC_ovr"
      ]
    },
    {
      "cell_type": "code",
      "execution_count": 32,
      "id": "005129c3",
      "metadata": {
        "id": "005129c3",
        "colab": {
          "base_uri": "https://localhost:8080/"
        },
        "outputId": "e51a6091-8728-489c-c9f2-b89f5a03290e"
      },
      "outputs": [
        {
          "output_type": "stream",
          "name": "stdout",
          "text": [
            "Accuracy(Train): 99.96 %\n",
            "Accuracy(Test): 94.31 %\n",
            "Standard Deviation: 0.07%\n",
            "Precision (macro): 0.941\n",
            "Precision (micro): 0.943\n",
            "Recall (macro): 0.943\n",
            "Recall (micro): 0.943\n",
            "F1 (macro): 0.942\n",
            "F1 (micro): 0.943\n",
            "AUC (ovo): 0.995\n",
            "AUC (ovr): 0.995\n"
          ]
        }
      ],
      "source": [
        "print(\"Accuracy(Train): {:.2f} %\".format(mean(acc_train)*100))\n",
        "print(\"Accuracy(Test): {:.2f} %\".format(mean(acc_test)*100))\n",
        "print(\"Standard Deviation: {:.2f}%\".format(np.std(acc_test)*100))\n",
        "print(\"Precision (macro): %.3f\" %mean(Precision_macro))\n",
        "print(\"Precision (micro): %.3f\" %mean(Precision_micro))\n",
        "print(\"Recall (macro): %.3f\" %mean(Recall_macro))\n",
        "print(\"Recall (micro): %.3f\" %mean(Recall_micro))\n",
        "print(\"F1 (macro): %.3f\" %mean(F1_macro))\n",
        "print(\"F1 (micro): %.3f\" %mean(F1_micro))\n",
        "print(\"AUC (ovo): %.3f\" %mean(AUC_ovo))\n",
        "print(\"AUC (ovr): %.3f\" %mean(AUC_ovr))"
      ]
    },
    {
      "cell_type": "code",
      "execution_count": 33,
      "id": "c4760cea",
      "metadata": {
        "id": "c4760cea"
      },
      "outputs": [],
      "source": [
        "from numpy import interp"
      ]
    },
    {
      "cell_type": "code",
      "execution_count": 34,
      "id": "804ffd5e",
      "metadata": {
        "id": "804ffd5e",
        "colab": {
          "base_uri": "https://localhost:8080/"
        },
        "outputId": "76bfbbdb-6099-453e-b9be-61ceff0b670e"
      },
      "outputs": [
        {
          "output_type": "stream",
          "name": "stdout",
          "text": [
            "all_fpr:  [0.00000000e+00 1.62258640e-04 1.62654522e-04 1.62786912e-04\n",
            " 1.63052340e-04 1.63132137e-04 1.63212012e-04 1.63371998e-04\n",
            " 3.25309044e-04 3.25573824e-04 3.26264274e-04 3.26424025e-04\n",
            " 3.26743996e-04 3.26850793e-04 4.86775921e-04 4.87963565e-04\n",
            " 4.88281250e-04 4.91642085e-04 6.50618087e-04 6.51041667e-04\n",
            " 6.52848050e-04 6.56598818e-04 8.13272609e-04 8.13802083e-04\n",
            " 8.14995925e-04 8.15261699e-04 8.15660685e-04 8.16060062e-04\n",
            " 8.17126982e-04 9.75927131e-04 9.76562500e-04 9.79272074e-04\n",
            " 9.80552378e-04 1.13858165e-03 1.13932292e-03 1.14099430e-03\n",
            " 1.14192496e-03 1.14248409e-03 1.14716486e-03 1.29806912e-03\n",
            " 1.30123617e-03 1.30441872e-03 1.30569610e-03 1.31104556e-03\n",
            " 1.31319764e-03 1.46389070e-03 1.46484375e-03 1.46818923e-03\n",
            " 1.46890811e-03 1.47734734e-03 1.62654522e-03 1.62760417e-03\n",
            " 1.62786912e-03 1.63132137e-03 1.63212012e-03 1.63371998e-03\n",
            " 1.63880695e-03 1.78484504e-03 1.78919974e-03 1.79445351e-03\n",
            " 1.79767936e-03 1.80564675e-03 1.95185426e-03 1.95312500e-03\n",
            " 1.95662808e-03 1.95758564e-03 2.11450878e-03 2.11588542e-03\n",
            " 2.11622986e-03 2.11898941e-03 2.12071778e-03 2.12175616e-03\n",
            " 2.12453015e-03 2.13394616e-03 2.27716331e-03 2.27864583e-03\n",
            " 2.28496817e-03 2.28720797e-03 2.28795555e-03 2.43981783e-03\n",
            " 2.44140625e-03 2.44180368e-03 2.44578510e-03 2.45821042e-03\n",
            " 2.60247235e-03 2.60459059e-03 2.61011419e-03 2.61139220e-03\n",
            " 2.62209112e-03 2.76512687e-03 2.77460421e-03 2.77732397e-03\n",
            " 2.92778139e-03 2.92968750e-03 2.93016441e-03 2.93637847e-03\n",
            " 3.09043591e-03 3.09244792e-03 3.09951060e-03 3.10102824e-03\n",
            " 3.10406796e-03 3.25309044e-03 3.25520833e-03 3.26264274e-03\n",
            " 3.26424025e-03 3.26850793e-03 3.28299409e-03 3.41796875e-03\n",
            " 3.41852515e-03 3.42298289e-03 3.42409914e-03 3.42577488e-03\n",
            " 3.44149459e-03 3.57839948e-03 3.58072917e-03 3.58890701e-03\n",
            " 3.59066427e-03 3.59418396e-03 3.61129350e-03 3.73194873e-03\n",
            " 3.74348958e-03 3.75203915e-03 3.75387629e-03 3.90370852e-03\n",
            " 3.91517129e-03 3.91708830e-03 3.92092795e-03 4.06636304e-03\n",
            " 4.06901042e-03 4.06967280e-03 4.07830343e-03 4.09701737e-03\n",
            " 4.24143556e-03 4.24351232e-03 4.26789232e-03 4.39453125e-03\n",
            " 4.39524662e-03 4.55729167e-03 4.56769984e-03 4.56993635e-03\n",
            " 4.57441595e-03 4.72005208e-03 4.73083197e-03 4.88281250e-03\n",
            " 4.89636037e-03 4.90276189e-03 5.04557292e-03 5.05709625e-03\n",
            " 5.06453194e-03 5.08030154e-03 5.08864084e-03 5.22278440e-03\n",
            " 5.37109375e-03 5.38336052e-03 5.38599641e-03 5.39127594e-03\n",
            " 5.53025374e-03 5.53385417e-03 5.54197229e-03 5.54649266e-03\n",
            " 5.69290826e-03 5.69661458e-03 5.70962480e-03 5.71242043e-03\n",
            " 5.85937500e-03 5.87275693e-03 5.87563245e-03 6.01821731e-03\n",
            " 6.02213542e-03 6.03293657e-03 6.03884446e-03 6.18489583e-03\n",
            " 6.18590265e-03 6.20813593e-03 6.34765625e-03 6.36215334e-03\n",
            " 6.36526848e-03 6.52528548e-03 6.66883539e-03 6.67317708e-03\n",
            " 6.68841762e-03 6.71910849e-03 6.83593750e-03 6.85490452e-03\n",
            " 6.99414444e-03 6.99869792e-03 7.01468189e-03 7.15679896e-03\n",
            " 7.16145833e-03 7.17781403e-03 7.18132855e-03 7.32421875e-03\n",
            " 7.48210800e-03 7.48697917e-03 7.50407830e-03 7.51756823e-03\n",
            " 7.64973958e-03 7.66721044e-03 7.81250000e-03 7.84185591e-03\n",
            " 7.97526042e-03 7.99347471e-03 7.99738861e-03 8.13272609e-03\n",
            " 8.13802083e-03 8.15660685e-03 8.30078125e-03 8.45803513e-03\n",
            " 8.46354167e-03 8.48287113e-03 8.78334418e-03 8.80913540e-03\n",
            " 8.81344867e-03 8.94599870e-03 8.95182292e-03 8.97226754e-03\n",
            " 8.97666068e-03 9.01343822e-03 9.11458333e-03 9.27734375e-03\n",
            " 9.29853181e-03 9.35653316e-03 9.43396226e-03 9.46166395e-03\n",
            " 9.60286458e-03 9.62479608e-03 9.62950873e-03 9.75927131e-03\n",
            " 9.76562500e-03 9.76721472e-03 9.92838542e-03 9.95106036e-03\n",
            " 9.95593276e-03 1.00845804e-02 1.01141925e-02 1.01290639e-02\n",
            " 1.02539062e-02 1.02773246e-02 1.04098894e-02 1.04166667e-02\n",
            " 1.04404568e-02 1.04455688e-02 1.05794271e-02 1.07421875e-02\n",
            " 1.08978530e-02 1.09049479e-02 1.09298532e-02 1.10677083e-02\n",
            " 1.10929853e-02 1.10984168e-02 1.12304688e-02 1.12506114e-02\n",
            " 1.12616289e-02 1.13858165e-02 1.13932292e-02 1.14192496e-02\n",
            " 1.14248409e-02 1.15484710e-02 1.15559896e-02 1.17455139e-02\n",
            " 1.17512649e-02 1.18737801e-02 1.20364346e-02 1.20442708e-02\n",
            " 1.22070312e-02 1.23697917e-02 1.23980424e-02 1.25243982e-02\n",
            " 1.25325521e-02 1.25611746e-02 1.26953125e-02 1.27243067e-02\n",
            " 1.27305370e-02 1.28497072e-02 1.28580729e-02 1.28874388e-02\n",
            " 1.30208333e-02 1.30505710e-02 1.31835938e-02 1.32137031e-02\n",
            " 1.32374571e-02 1.33768352e-02 1.35399674e-02 1.36020977e-02\n",
            " 1.36629798e-02 1.37098090e-02 1.38346354e-02 1.39882889e-02\n",
            " 1.40362331e-02 1.41601562e-02 1.41924959e-02 1.44762524e-02\n",
            " 1.44856771e-02 1.45187602e-02 1.46818923e-02 1.46890811e-02\n",
            " 1.47034798e-02 1.48015615e-02 1.48111979e-02 1.48450245e-02\n",
            " 1.48522931e-02 1.49739583e-02 1.51712887e-02 1.52994792e-02\n",
            " 1.53219234e-02 1.54622396e-02 1.54975530e-02 1.56250000e-02\n",
            " 1.57774886e-02 1.57877604e-02 1.59225213e-02 1.59947772e-02\n",
            " 1.61500816e-02 1.62760417e-02 1.63212012e-02 1.66015625e-02\n",
            " 1.66394780e-02 1.67534157e-02 1.67643229e-02 1.68026101e-02\n",
            " 1.70787248e-02 1.70898438e-02 1.71288744e-02 1.73004733e-02\n",
            " 1.74153646e-02 1.74551387e-02 1.75666884e-02 1.75781250e-02\n",
            " 1.76182708e-02 1.77293429e-02 1.77408854e-02 1.77814029e-02\n",
            " 1.78919974e-02 1.79036458e-02 1.79533214e-02 1.80693472e-02\n",
            " 1.81165334e-02 1.82291667e-02 1.84429574e-02 1.85546875e-02\n",
            " 1.85970636e-02 1.86061694e-02 1.87052700e-02 1.87174479e-02\n",
            " 1.88802083e-02 1.89233279e-02 1.90429688e-02 1.91145238e-02\n",
            " 1.92057292e-02 1.92495922e-02 1.93558881e-02 1.95312500e-02\n",
            " 1.97389886e-02 1.98438517e-02 1.99021207e-02 2.00195312e-02\n",
            " 2.00652529e-02 2.00750775e-02 2.01691607e-02 2.01822917e-02\n",
            " 2.02382895e-02 2.03450521e-02 2.03915171e-02 2.04944697e-02\n",
            " 2.05078125e-02 2.07279256e-02 2.08333333e-02 2.08809135e-02\n",
            " 2.09824333e-02 2.09960938e-02 2.10440457e-02 2.10543496e-02\n",
            " 2.11406096e-02 2.11588542e-02 2.12071778e-02 2.13598565e-02\n",
            " 2.16471354e-02 2.16965742e-02 2.18098958e-02 2.19583604e-02\n",
            " 2.24463240e-02 2.24609375e-02 2.25232577e-02 2.26236979e-02\n",
            " 2.26753670e-02 2.26864697e-02 2.27864583e-02 2.29492188e-02\n",
            " 2.31119792e-02 2.31761058e-02 2.32747396e-02 2.33393178e-02\n",
            " 2.34375000e-02 2.34910277e-02 2.36002604e-02 2.37630208e-02\n",
            " 2.38172920e-02 2.39102147e-02 2.39804241e-02 2.41765374e-02\n",
            " 2.42355237e-02 2.43066884e-02 2.45768229e-02 2.47960848e-02\n",
            " 2.48082259e-02 2.49023438e-02 2.49592170e-02 2.52278646e-02\n",
            " 2.52978619e-02 2.53741054e-02 2.54486134e-02 2.57161458e-02\n",
            " 2.57748777e-02 2.58620690e-02 2.58789062e-02 2.60416667e-02\n",
            " 2.62044271e-02 2.62642741e-02 2.62771340e-02 2.63671875e-02\n",
            " 2.66035580e-02 2.66927083e-02 2.69299820e-02 2.70006506e-02\n",
            " 2.71809896e-02 2.74196181e-02 2.74886142e-02 2.75065104e-02\n",
            " 2.75828301e-02 2.78955954e-02 2.80587276e-02 2.81392323e-02\n",
            " 2.83203125e-02 2.83849918e-02 2.84645413e-02 2.85900997e-02\n",
            " 2.88085938e-02 2.90375204e-02 2.90517382e-02 2.92778139e-02\n",
            " 2.92968750e-02 2.93781622e-02 2.94596354e-02 2.97851562e-02\n",
            " 2.99479167e-02 3.00163132e-02 3.01106771e-02 3.01942223e-02\n",
            " 3.02734375e-02 3.04361979e-02 3.05057096e-02 3.05989583e-02\n",
            " 3.07617188e-02 3.08319739e-02 3.09951060e-02 3.10872396e-02\n",
            " 3.12296682e-02 3.13213703e-02 3.13923227e-02 3.14127604e-02\n",
            " 3.15549772e-02 3.15755208e-02 3.17382812e-02 3.19010417e-02\n",
            " 3.19738989e-02 3.20638021e-02 3.21370310e-02 3.22055953e-02\n",
            " 3.23001631e-02 3.24791905e-02 3.26264274e-02 3.26424025e-02\n",
            " 3.26850793e-02 3.28562134e-02 3.28776042e-02 3.29688265e-02\n",
            " 3.30403646e-02 3.33441770e-02 3.33658854e-02 3.34420881e-02\n",
            " 3.34584625e-02 3.35068315e-02 3.35286458e-02 3.36914062e-02\n",
            " 3.37683524e-02 3.38541667e-02 3.40946166e-02 3.41796875e-02\n",
            " 3.42577488e-02 3.44208809e-02 3.50905827e-02 3.53190104e-02\n",
            " 3.53996737e-02 3.54817708e-02 3.55802187e-02 3.56213403e-02\n",
            " 3.56445312e-02 3.57259380e-02 3.59066427e-02 3.59700521e-02\n",
            " 3.60522023e-02 3.61093038e-02 3.61328125e-02 3.64346129e-02\n",
            " 3.64583333e-02 3.67838542e-02 3.71093750e-02 3.72478855e-02\n",
            " 3.72721354e-02 3.73572594e-02 3.74105400e-02 3.75976562e-02\n",
            " 3.76835237e-02 3.77019749e-02 3.77358491e-02 3.78466558e-02\n",
            " 3.78985036e-02 3.79231771e-02 3.80859375e-02 3.81916109e-02\n",
            " 3.82238126e-02 3.83360522e-02 3.84114583e-02 3.86623165e-02\n",
            " 3.86812469e-02 3.90076710e-02 3.93880208e-02 3.97135417e-02\n",
            " 3.98042414e-02 3.98763021e-02 4.00390625e-02 4.00455803e-02\n",
            " 4.01305057e-02 4.03383214e-02 4.04567700e-02 4.05273438e-02\n",
            " 4.06901042e-02 4.07091267e-02 4.07830343e-02 4.08528646e-02\n",
            " 4.09461664e-02 4.09889395e-02 4.13411458e-02 4.17618271e-02\n",
            " 4.19534579e-02 4.21549479e-02 4.22512235e-02 4.23177083e-02\n",
            " 4.24528302e-02 4.24804688e-02 4.25774878e-02 4.27615472e-02\n",
            " 4.28059896e-02 4.29037520e-02 4.29247593e-02 4.31034483e-02\n",
            " 4.31315104e-02 4.32942708e-02 4.35776073e-02 4.37408193e-02\n",
            " 4.40456770e-02 4.40672433e-02 4.42708333e-02 4.43719413e-02\n",
            " 4.45350734e-02 4.47591146e-02 4.49218750e-02 4.57059206e-02\n",
            " 4.57356771e-02 4.58685751e-02 4.60312297e-02 4.63867188e-02\n",
            " 4.64926591e-02 4.66557912e-02 4.67122396e-02 4.68750000e-02\n",
            " 4.70377604e-02 4.71698113e-02 4.72005208e-02 4.73083197e-02\n",
            " 4.73324658e-02 4.74714519e-02 4.78204294e-02 4.79830839e-02\n",
            " 4.80143229e-02 4.81475437e-02 4.81770833e-02 4.84710475e-02\n",
            " 4.84739677e-02 4.87963565e-02 4.88003917e-02 4.88281250e-02\n",
            " 4.89636037e-02 4.93164062e-02 4.95679113e-02 4.97553018e-02\n",
            " 4.99184339e-02 5.02929688e-02 5.04078303e-02 5.04325118e-02\n",
            " 5.06184896e-02 5.09221479e-02 5.09440104e-02 5.14322917e-02\n",
            " 5.19205729e-02 5.22460938e-02 5.23654160e-02 5.26916803e-02\n",
            " 5.28548124e-02 5.30253741e-02 5.31810767e-02 5.32226562e-02\n",
            " 5.33442088e-02 5.33506831e-02 5.33854167e-02 5.35133377e-02\n",
            " 5.37109375e-02 5.38386467e-02 5.38736979e-02 5.39127594e-02\n",
            " 5.41992188e-02 5.45247396e-02 5.46519193e-02 5.56278465e-02\n",
            " 5.58268229e-02 5.61174551e-02 5.61523438e-02 5.64437194e-02\n",
            " 5.66406250e-02 5.67699837e-02 5.67977803e-02 5.68033854e-02\n",
            " 5.71242043e-02 5.72593801e-02 5.74544271e-02 5.76171875e-02\n",
            " 5.82682292e-02 5.85937500e-02 5.87563245e-02 5.90827485e-02\n",
            " 5.92459605e-02 5.93800979e-02 5.94075521e-02 5.97063622e-02\n",
            " 5.97330729e-02 6.00326264e-02 6.00585938e-02 6.01821731e-02\n",
            " 6.02213542e-02 6.03841146e-02 6.05074821e-02 6.05220228e-02\n",
            " 6.09616952e-02 6.11581002e-02 6.15234375e-02 6.16861979e-02\n",
            " 6.18489583e-02 6.21744792e-02 6.25000000e-02 6.28255208e-02\n",
            " 6.29472999e-02 6.29690049e-02 6.31321370e-02 6.32726090e-02\n",
            " 6.32952692e-02 6.37605725e-02 6.37846656e-02 6.39477977e-02\n",
            " 6.41109299e-02 6.46158854e-02 6.49414062e-02 6.51041667e-02\n",
            " 6.52669271e-02 6.65579119e-02 6.65690104e-02 6.67317708e-02\n",
            " 6.68945312e-02 6.69169251e-02 6.70473083e-02 6.70572917e-02\n",
            " 6.72433491e-02 6.73735726e-02 6.80261011e-02 6.86848958e-02\n",
            " 6.87122572e-02 6.90386812e-02 6.91731771e-02 6.96614583e-02\n",
            " 6.97787899e-02 6.98242188e-02 6.99414444e-02 7.02667534e-02\n",
            " 7.03099511e-02 7.07547170e-02 7.09624796e-02 7.10800260e-02\n",
            " 7.12890625e-02 7.21044046e-02 7.22656250e-02 7.23812622e-02\n",
            " 7.24306688e-02 7.27569331e-02 7.28692258e-02 7.33571893e-02\n",
            " 7.36824984e-02 7.38451529e-02 7.51953125e-02 7.53670473e-02\n",
            " 7.56835938e-02 7.60091146e-02 7.60195759e-02 7.63346354e-02\n",
            " 7.65089723e-02 7.71615008e-02 7.78521299e-02 7.80153419e-02\n",
            " 7.84505208e-02 7.85049780e-02 7.87760417e-02 7.88314020e-02\n",
            " 7.91578260e-02 7.94270833e-02 7.97526042e-02 8.00260247e-02\n",
            " 8.01886792e-02 8.06766428e-02 8.08392973e-02 8.09135400e-02\n",
            " 8.12174479e-02 8.12398042e-02 8.13272609e-02 8.13802083e-02\n",
            " 8.14899154e-02 8.15660685e-02 8.17057292e-02 8.17292007e-02\n",
            " 8.18684896e-02 8.21940104e-02 8.22588543e-02 8.24220663e-02\n",
            " 8.26822917e-02 8.27079935e-02 8.28450521e-02 8.28711256e-02\n",
            " 8.40923878e-02 8.42550423e-02 8.53936239e-02 8.57189330e-02\n",
            " 8.59706362e-02 8.60442420e-02 8.61337684e-02 8.62630208e-02\n",
            " 8.67513021e-02 8.70768229e-02 8.71125612e-02 8.72395833e-02\n",
            " 8.74388254e-02 8.90701468e-02 8.93554688e-02 8.97226754e-02\n",
            " 9.00065104e-02 9.03320312e-02 9.12355149e-02 9.15619390e-02\n",
            " 9.18883630e-02 9.20084981e-02 9.34747145e-02 9.35872396e-02\n",
            " 9.36378467e-02 9.38516591e-02 9.39127604e-02 9.39641109e-02\n",
            " 9.41272431e-02 9.41733312e-02 9.43365432e-02 9.43396226e-02\n",
            " 9.44010417e-02 9.44535073e-02 9.45022772e-02 9.45638021e-02\n",
            " 9.46629672e-02 9.49893912e-02 9.51528953e-02 9.54782043e-02\n",
            " 9.65742251e-02 9.67373573e-02 9.82433312e-02 9.92192583e-02\n",
            " 9.92838542e-02 9.95445673e-02 9.96093750e-02 9.96737357e-02\n",
            " 9.97072219e-02 9.99348958e-02 1.00000000e-01 1.00032531e-01\n",
            " 1.00585938e-01 1.02261554e-01 1.03532476e-01 1.04492188e-01\n",
            " 1.05108536e-01 1.05305990e-01 1.05546493e-01 1.05761384e-01\n",
            " 1.06199021e-01 1.06864021e-01 1.07839948e-01 1.08010506e-01\n",
            " 1.08327912e-01 1.08535988e-01 1.08699200e-01 1.08862412e-01\n",
            " 1.11743656e-01 1.11906311e-01 1.11908646e-01 1.12071778e-01\n",
            " 1.12231620e-01 1.12398042e-01 1.12467448e-01 1.12561175e-01\n",
            " 1.12719584e-01 1.12792969e-01 1.12887439e-01 1.13044893e-01\n",
            " 1.13207547e-01 1.13281250e-01 1.13444010e-01 1.18117955e-01\n",
            " 1.20776889e-01 1.20930990e-01 1.21103313e-01 1.21256510e-01\n",
            " 1.21502928e-01 1.21828237e-01 1.21907552e-01 1.22153546e-01\n",
            " 1.22289255e-01 1.22316200e-01 1.22349103e-01 1.22512235e-01\n",
            " 1.22966818e-01 1.23001631e-01 1.23714705e-01 1.24041129e-01\n",
            " 1.24918673e-01 1.25081327e-01 1.25894600e-01 1.26219909e-01\n",
            " 1.26382563e-01 1.31347656e-01 1.31673177e-01 1.31835938e-01\n",
            " 1.32626427e-01 1.32789560e-01 1.37605725e-01 1.37931034e-01\n",
            " 1.39720234e-01 1.40696161e-01 1.40858816e-01 1.43556281e-01\n",
            " 1.47054023e-01 1.47380447e-01 1.49828627e-01 1.50318263e-01\n",
            " 1.50481475e-01 1.58528646e-01 1.58691406e-01 1.59667969e-01\n",
            " 1.59726740e-01 1.59830729e-01 1.59889395e-01 1.60156250e-01\n",
            " 1.60377358e-01 1.61353286e-01 1.61678595e-01 1.62491867e-01\n",
            " 1.68026101e-01 1.68678630e-01 1.79859638e-01 1.80022850e-01\n",
            " 1.80349274e-01 1.80512486e-01 1.83613514e-01 1.92094990e-01\n",
            " 1.92420299e-01 1.93396226e-01 1.93721535e-01 1.00000000e+00]\n",
            "mean_tpr:  [0.65965149 0.76523243 0.76610846 0.76616176 0.76626712 0.7662988\n",
            " 0.76632494 0.76854697 0.79265326 0.79358629 0.79586545 0.79587096\n",
            " 0.79749469 0.79749599 0.79943945 0.80270063 0.80285826 0.80290758\n",
            " 0.80524045 0.80524707 0.80958055 0.8096299  0.81725736 0.81818413\n",
            " 0.81819757 0.81820057 0.81820506 0.81969844 0.81970771 0.82232387\n",
            " 0.82248467 0.83189349 0.8319048  0.83531061 0.83562198 0.83563119\n",
            " 0.83907737 0.84309651 0.84310728 0.84345441 0.84516237 0.8451697\n",
            " 0.84680954 0.8468316  0.84684047 0.84777112 0.84792852 0.84809666\n",
            " 0.84839958 0.8484618  0.85048939 0.8504972  0.85049865 0.85231293\n",
            " 0.85335971 0.85336558 0.85338424 0.85391997 0.85393595 0.85485788\n",
            " 0.85486095 0.85486852 0.85531671 0.85715833 0.85715833 0.85820561\n",
            " 0.85879196 0.85879575 0.85879702 0.85880722 0.85911283 0.85941174\n",
            " 0.85942026 0.85944919 0.86019839 0.86189109 0.86205336 0.86205609\n",
            " 0.862057   0.8623965  0.8630123  0.86301279 0.86301763 0.86303276\n",
            " 0.86320839 0.86321299 0.86352418 0.86352656 0.86353673 0.86413651\n",
            " 0.86443413 0.86443413 0.86458874 0.86459055 0.86459191 0.86520797\n",
            " 0.86667391 0.86699202 0.86701793 0.86701793 0.8670207  0.86715658\n",
            " 0.86746544 0.87285822 0.87286553 0.87288119 0.87293433 0.87342948\n",
            " 0.87343257 0.87345733 0.87346353 0.87422089 0.87425054 0.87450872\n",
            " 0.87451311 0.87556039 0.87586123 0.87586769 0.87589907 0.87612038\n",
            " 0.87629501 0.87735797 0.87735797 0.87749458 0.87782605 0.87783144\n",
            " 0.87783874 0.87811522 0.8791895  0.8791895  0.87933911 0.87933911\n",
            " 0.87933911 0.87948792 0.87948792 0.87964139 0.87964206 0.87994832\n",
            " 0.87995814 0.87996025 0.87996856 0.88069907 0.8807089  0.88129378\n",
            " 0.88131856 0.88132443 0.88160888 0.88162488 0.88162838 0.88163582\n",
            " 0.88163975 0.88229823 0.88265684 0.88296725 0.88311846 0.88312327\n",
            " 0.88324999 0.88402403 0.88404681 0.88435871 0.88490371 0.88522092\n",
            " 0.88524472 0.88524727 0.88524727 0.88631978 0.88632784 0.8868575\n",
            " 0.88733246 0.88735221 0.88736302 0.88811084 0.88811176 0.88813215\n",
            " 0.88856704 0.88873678 0.88874111 0.88931116 0.88957707 0.88958044\n",
            " 0.88973468 0.88975808 0.89030757 0.89032203 0.89038588 0.89039229\n",
            " 0.89042989 0.89069898 0.8907078  0.89105341 0.89106338 0.89162213\n",
            " 0.89221884 0.89253955 0.893138   0.893138   0.89329147 0.89390638\n",
            " 0.89542459 0.89547995 0.89573153 0.89603075 0.89603075 0.89621004\n",
            " 0.89697835 0.89758018 0.89789216 0.89821967 0.89822572 0.89824697\n",
            " 0.89830176 0.8987553  0.89875609 0.89875609 0.89875609 0.89920492\n",
            " 0.89950254 0.89950254 0.89950254 0.89980948 0.89996908 0.89999642\n",
            " 0.90003293 0.9001956  0.90102951 0.90117912 0.90117912 0.90117912\n",
            " 0.90256033 0.90256183 0.90302074 0.90305281 0.90307758 0.90388608\n",
            " 0.90433581 0.90435685 0.90468689 0.906183   0.9063376  0.90649107\n",
            " 0.90693991 0.90693991 0.90712389 0.90746792 0.9075034  0.90750502\n",
            " 0.90788037 0.90845522 0.90848481 0.90849117 0.90953649 0.90953649\n",
            " 0.90953649 0.90976295 0.91023687 0.91043393 0.91044413 0.91044413\n",
            " 0.91044413 0.9106824  0.91069359 0.91093189 0.91124826 0.9117239\n",
            " 0.9126032  0.91332902 0.91364768 0.91364768 0.91410808 0.91410808\n",
            " 0.91453804 0.91456463 0.9147363  0.91519158 0.91583741 0.91600498\n",
            " 0.91643028 0.91661245 0.91675809 0.91676266 0.91680984 0.91753551\n",
            " 0.9175603  0.91756974 0.91757899 0.91758611 0.91758611 0.91773099\n",
            " 0.9177762  0.91807476 0.91808213 0.91814681 0.91830243 0.91865598\n",
            " 0.91922312 0.91923492 0.91925529 0.91939401 0.91940764 0.91940764\n",
            " 0.91956645 0.92036354 0.92075374 0.92175168 0.9217546  0.92207982\n",
            " 0.9222509  0.92344565 0.92374914 0.92453693 0.92480514 0.92494895\n",
            " 0.92523782 0.92566352 0.92566352 0.9262774  0.92631315 0.92642058\n",
            " 0.92643087 0.92643087 0.9266841  0.92776857 0.92784117 0.92800297\n",
            " 0.9281113  0.9281113  0.9281113  0.92827564 0.9283138  0.92852125\n",
            " 0.9286853  0.92891027 0.92907541 0.92924627 0.92927361 0.92933745\n",
            " 0.92936342 0.92957887 0.92989809 0.9302184  0.93024171 0.93024171\n",
            " 0.93024171 0.93070212 0.93070212 0.931042   0.93130828 0.93157816\n",
            " 0.93192215 0.93192215 0.93198714 0.93209436 0.93222137 0.93222137\n",
            " 0.93224907 0.93267369 0.93277929 0.93278396 0.93282867 0.93436335\n",
            " 0.93436335 0.9343958  0.93445374 0.93464505 0.93482754 0.93509875\n",
            " 0.9351966  0.93539038 0.93551565 0.93552817 0.93591659 0.9359263\n",
            " 0.93601638 0.9366493  0.93674533 0.93718874 0.93833001 0.93842697\n",
            " 0.93854531 0.93856035 0.93860978 0.93861126 0.9387351  0.93892451\n",
            " 0.93916811 0.93922452 0.94003954 0.94009925 0.94031243 0.94033595\n",
            " 0.9405256  0.94067108 0.9409022  0.94092725 0.9420126  0.94202909\n",
            " 0.94236451 0.9424265  0.94247333 0.94260415 0.94264349 0.94284058\n",
            " 0.94302077 0.94304298 0.94307762 0.94333657 0.94366947 0.94456347\n",
            " 0.94462947 0.94471294 0.94479452 0.94508743 0.94509636 0.94510961\n",
            " 0.94618644 0.94621118 0.94715672 0.94716582 0.94717131 0.94734955\n",
            " 0.94741459 0.94743912 0.94757897 0.94762063 0.9478804  0.94794605\n",
            " 0.94811964 0.94812456 0.94820313 0.94882433 0.949097   0.94915773\n",
            " 0.94960126 0.94960126 0.94960126 0.94960126 0.9499082  0.94998015\n",
            " 0.94998679 0.9500924  0.95010131 0.95026254 0.95027499 0.95047822\n",
            " 0.9509635  0.95110294 0.95128089 0.95128089 0.95128605 0.95160359\n",
            " 0.95160812 0.95176766 0.95177826 0.95178283 0.95209268 0.95225215\n",
            " 0.95226142 0.9522674  0.95232082 0.95342991 0.95367218 0.95445499\n",
            " 0.95519142 0.95546744 0.9555223  0.95552815 0.95556054 0.95571663\n",
            " 0.95593191 0.95601109 0.95636585 0.95638359 0.956431   0.95662111\n",
            " 0.95664487 0.9567118  0.95722469 0.9574476  0.95761699 0.95788846\n",
            " 0.95793478 0.9580716  0.95813331 0.95813331 0.95820586 0.95828677\n",
            " 0.958586   0.95866402 0.95875664 0.95880059 0.95918574 0.95947058\n",
            " 0.9597209  0.95979831 0.95979831 0.95979831 0.95979831 0.9601743\n",
            " 0.96034468 0.96041498 0.9604286  0.96045116 0.96061392 0.96158686\n",
            " 0.96181679 0.96225233 0.96268786 0.96287318 0.9630591  0.96309273\n",
            " 0.96325617 0.96344065 0.96361682 0.96365467 0.96371855 0.96392752\n",
            " 0.96402529 0.96437876 0.96499263 0.96504245 0.96505763 0.96512696\n",
            " 0.96548048 0.96555658 0.96557473 0.96588759 0.96626723 0.96684791\n",
            " 0.96692419 0.96709105 0.96742824 0.96743355 0.96765233 0.96782159\n",
            " 0.96790075 0.96794791 0.96795436 0.96797305 0.96804567 0.96817832\n",
            " 0.96826759 0.96829282 0.96880753 0.96928464 0.96932837 0.96937436\n",
            " 0.96937817 0.96956476 0.96963208 0.96964585 0.96973992 0.969834\n",
            " 0.96985495 0.96985495 0.9698577  0.96988111 0.97003993 0.97022439\n",
            " 0.97036739 0.97044977 0.97060364 0.9706117  0.97068779 0.9708434\n",
            " 0.97085309 0.97090065 0.97108867 0.97125509 0.97125964 0.97152854\n",
            " 0.97166843 0.97197416 0.97199036 0.97213997 0.97229343 0.97229343\n",
            " 0.97260037 0.97260037 0.97260037 0.9726207  0.97262525 0.97295069\n",
            " 0.97310794 0.97318124 0.97319531 0.97323022 0.97323796 0.97331499\n",
            " 0.97331575 0.97340023 0.97340129 0.97356202 0.97359752 0.97368997\n",
            " 0.97387445 0.9741615  0.97438803 0.9745646  0.9745646  0.97457215\n",
            " 0.97478247 0.97501846 0.97503601 0.97519764 0.97551275 0.97577397\n",
            " 0.97583222 0.97589176 0.97607114 0.97610226 0.97613068 0.97621453\n",
            " 0.97644056 0.97644177 0.97644828 0.97659284 0.97681614 0.97684004\n",
            " 0.9768466  0.97687233 0.977061   0.97712193 0.97722068 0.97797848\n",
            " 0.97813298 0.97862362 0.97864095 0.97879794 0.97904669 0.97923126\n",
            " 0.97925817 0.97926346 0.97949034 0.97958593 0.97975138 0.97977435\n",
            " 0.98001968 0.98006561 0.98021118 0.98050347 0.98064961 0.98076972\n",
            " 0.98079043 0.98079043 0.98079043 0.98079043 0.98079043 0.98079043\n",
            " 0.98079043 0.9809439  0.98097713 0.98113066 0.98138352 0.98149647\n",
            " 0.98170658 0.98175634 0.98195956 0.98205908 0.98246553 0.98256504\n",
            " 0.98260227 0.9826089  0.98275852 0.98275852 0.98275852 0.98275852\n",
            " 0.98275852 0.98290813 0.98305774 0.98348817 0.98356778 0.98376105\n",
            " 0.98380086 0.98472268 0.9847266  0.9847266  0.98488007 0.98488007\n",
            " 0.98488007 0.98488007 0.9849327  0.98496954 0.98515412 0.9855131\n",
            " 0.98552027 0.98560581 0.98564105 0.98576899 0.98579974 0.98581164\n",
            " 0.98590377 0.98615942 0.98619337 0.98642635 0.9866848  0.98674637\n",
            " 0.98685587 0.98685587 0.98685587 0.9868801  0.98689046 0.98695882\n",
            " 0.98700166 0.98718781 0.98731192 0.98737397 0.98792282 0.98795665\n",
            " 0.98796457 0.98797271 0.98797297 0.98798085 0.98798521 0.98800153\n",
            " 0.9881565  0.98819313 0.98829077 0.98830299 0.98836382 0.98837624\n",
            " 0.98844948 0.9885099  0.98858294 0.98867294 0.98872241 0.98887082\n",
            " 0.98892029 0.98894287 0.98897471 0.98897471 0.98901482 0.98903909\n",
            " 0.9890894  0.98927393 0.98927393 0.98927393 0.98927393 0.98927393\n",
            " 0.98927393 0.98927393 0.98927393 0.98927393 0.9894274  0.98943208\n",
            " 0.98994617 0.99001464 0.99049393 0.99063086 0.99073682 0.99075004\n",
            " 0.99076612 0.99078933 0.99078933 0.99078933 0.99078933 0.99078933\n",
            " 0.99080378 0.99122133 0.99124202 0.99124202 0.99126466 0.99129062\n",
            " 0.99140526 0.99144668 0.99148811 0.99150335 0.99168941 0.99169471\n",
            " 0.99184432 0.99184432 0.99184432 0.99184432 0.99199393 0.99199393\n",
            " 0.99199393 0.99199393 0.99199393 0.99199393 0.99200081 0.99200949\n",
            " 0.99202994 0.99209722 0.99213092 0.99219797 0.99242389 0.9924345\n",
            " 0.99276262 0.99297526 0.99298933 0.99318379 0.99319369 0.99350275\n",
            " 0.99350275 0.99350275 0.99350275 0.99350539 0.99355017 0.99368576\n",
            " 0.99378861 0.99386627 0.99391615 0.99393213 0.99396705 0.99398086\n",
            " 0.994009   0.9940866  0.99420049 0.99422039 0.99425743 0.99428171\n",
            " 0.99430076 0.99446862 0.99480485 0.99482383 0.9948241  0.99483459\n",
            " 0.99484486 0.99485556 0.99486002 0.99486002 0.99493266 0.99496631\n",
            " 0.99500963 0.99501212 0.9950147  0.99501586 0.99501844 0.99528395\n",
            " 0.995435   0.99544376 0.99544648 0.99544891 0.9954528  0.99545795\n",
            " 0.9954592  0.99547509 0.99548385 0.99548559 0.99548772 0.99549567\n",
            " 0.99551784 0.99551954 0.99560974 0.99565103 0.99576203 0.99578261\n",
            " 0.99588548 0.99592663 0.99594721 0.99657525 0.99660055 0.9966132\n",
            " 0.99669282 0.99669657 0.99694118 0.99695771 0.99704858 0.99709814\n",
            " 0.9971064  0.99724341 0.99734523 0.99735474 0.99742601 0.99744026\n",
            " 0.99744501 0.99767928 0.99768028 0.99768625 0.99768661 0.99768724\n",
            " 0.9976876  0.99768923 0.99769079 0.99769764 0.99769993 0.99770565\n",
            " 0.99774454 0.99774514 0.99777346 0.99777388 0.9977747  0.99777512\n",
            " 0.99778297 0.997806   0.99780689 0.99780954 0.99781042 1.        ]\n",
            "AUC =  0.9947823065554036\n"
          ]
        }
      ],
      "source": [
        "actual_classes = y_test_cv\n",
        "predicted_proba = y_test_prob\n",
        "\n",
        "fpr = dict()\n",
        "tpr = dict()\n",
        "roc_auc = dict()\n",
        "n_classes=12\n",
        "for i in range(n_classes):\n",
        "    fpr[i], tpr[i], _ = roc_curve(np.array(pd.get_dummies(actual_classes))[:, i], np.array(predicted_proba)[:, i])\n",
        "    roc_auc[i] = auc(fpr[i], tpr[i])\n",
        "#     print(\"fpr: \",fpr[i])\n",
        "#     print(\"tpr: \",tpr[i])\n",
        "#     print(\"roc_auc: \",roc_auc[i])\n",
        "\n",
        "all_fpr = np.unique(np.concatenate([fpr[i] for i in range(n_classes)]))\n",
        "print(\"all_fpr: \",all_fpr)\n",
        "mean_tpr = np.zeros_like(all_fpr)\n",
        "for i in range(n_classes):\n",
        "    mean_tpr += interp(all_fpr, fpr[i], tpr[i])\n",
        "mean_tpr /= n_classes\n",
        "\n",
        "fpr[\"macro\"] = all_fpr\n",
        "tpr[\"macro\"] = mean_tpr\n",
        "roc_auc[\"macro\"] = auc(fpr[\"macro\"], tpr[\"macro\"])\n",
        "print(\"mean_tpr: \",mean_tpr)\n",
        "print(\"AUC = \",roc_auc['macro'])"
      ]
    },
    {
      "cell_type": "code",
      "execution_count": 35,
      "id": "f028e956",
      "metadata": {
        "id": "f028e956"
      },
      "outputs": [],
      "source": [
        "roc_csv = pd.DataFrame()\n",
        "roc_csv[\"FPR(Macro)\"] = all_fpr\n",
        "roc_csv[\"TPR(Macro)\"] = mean_tpr"
      ]
    },
    {
      "cell_type": "code",
      "execution_count": 36,
      "id": "769b9265",
      "metadata": {
        "id": "769b9265"
      },
      "outputs": [],
      "source": [
        "roc_csv.to_csv(\"filename\", index=False)"
      ]
    },
    {
      "cell_type": "code",
      "execution_count": 37,
      "id": "4okoIVD-OLTe",
      "metadata": {
        "id": "4okoIVD-OLTe",
        "colab": {
          "base_uri": "https://localhost:8080/",
          "height": 484
        },
        "outputId": "30c520a6-0234-41b6-ad74-e6a55505dc89"
      },
      "outputs": [
        {
          "output_type": "display_data",
          "data": {
            "text/plain": [
              "<Figure size 1100x500 with 2 Axes>"
            ],
            "image/png": "[encoded data removed]"
          },
          "metadata": {}
        }
      ],
      "source": [
        "import matplotlib.pyplot as plt\n",
        "import seaborn as sns\n",
        "from sklearn.metrics import confusion_matrix\n",
        "from sklearn.metrics import ConfusionMatrixDisplay\n",
        "import numpy as np\n",
        "\n",
        "# Assuming you have already calculated the confusion matrix 'cm' for 12 classes\n",
        "\n",
        "# Normalize the confusion matrix\n",
        "cm_normalized = cm.astype('float') / cm.sum(axis=1)[:, np.newaxis]\n",
        "sns.set(font_scale=1.2)\n",
        "# Plot the normalized confusion matrix heatmap\n",
        "fig=plt.figure(figsize=(11, 5))\n",
        "sns.heatmap(cm_normalized, annot=True, fmt='.1f', cmap='Blues', xticklabels=range(12), yticklabels=range(12))\n",
        "plt.xlabel('Predicted Labels')\n",
        "plt.ylabel('True Labels')\n",
        "fig.savefig('RRR',dpi=300, bbox_inches = 'tight')\n",
        "# plt.title('Normalized Confusion Matrix Heatmap')\n",
        "plt.show()"
      ]
    }
  ],
  "metadata": {
    "colab": {
      "provenance": [],
      "include_colab_link": true
    },
    "kernelspec": {
      "display_name": "Python 3",
      "name": "python3"
    },
    "language_info": {
      "codemirror_mode": {
        "name": "ipython",
        "version": 3
      },
      "file_extension": ".py",
      "mimetype": "text/x-python",
      "name": "python",
      "nbconvert_exporter": "python",
      "pygments_lexer": "ipython3",
      "version": "3.8.8"
    }
  },
  "nbformat": 4,
  "nbformat_minor": 5
}