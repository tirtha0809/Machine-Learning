{
  "cells": [
    {
      "cell_type": "markdown",
      "metadata": {
        "id": "view-in-github",
        "colab_type": "text"
      },
      "source": [
        "<a href=\"https://colab.research.google.com/github/tirtha0809/Machine-Learning/blob/main/final_svc_rbf.ipynb\" target=\"_parent\"><img src=\"https://colab.research.google.com/assets/colab-badge.svg\" alt=\"Open In Colab\"/></a>"
      ]
    },
    {
      "cell_type": "markdown",
      "metadata": {
        "id": "d23c76a2"
      },
      "source": [
        "# Importing Libraries"
      ],
      "id": "d23c76a2"
    },
    {
      "cell_type": "code",
      "execution_count": 1,
      "metadata": {
        "id": "5b2cef0e"
      },
      "outputs": [],
      "source": [
        "import numpy as np\n",
        "import pandas as pd\n",
        "import tensorflow as tf\n",
        "import keras as kf\n",
        "from keras.models import Sequential\n",
        "from keras.layers import Dense\n",
        "from matplotlib import pyplot\n",
        "from os import makedirs\n",
        "from numpy import dstack\n",
        "from sklearn.linear_model import LogisticRegression\n",
        "from sklearn.neighbors import KNeighborsClassifier\n",
        "from sklearn.ensemble import GradientBoostingClassifier\n",
        "from sklearn.ensemble import RandomForestClassifier\n",
        "from sklearn.tree import DecisionTreeClassifier\n",
        "from xgboost import XGBClassifier\n",
        "from sklearn.svm import SVC\n",
        "from sklearn.naive_bayes import GaussianNB\n",
        "from sklearn.ensemble import AdaBoostClassifier\n",
        "from sklearn.preprocessing import StandardScaler\n",
        "from sklearn.model_selection import train_test_split\n",
        "from imblearn.over_sampling import SMOTE\n",
        "from sklearn.metrics import confusion_matrix, accuracy_score\n",
        "from sklearn.metrics import precision_score, recall_score, f1_score, accuracy_score,roc_auc_score,roc_curve,auc\n",
        "from statistics import mean\n",
        "import time"
      ],
      "id": "5b2cef0e"
    },
    {
      "cell_type": "code",
      "execution_count": 2,
      "metadata": {
        "colab": {
          "base_uri": "https://localhost:8080/"
        },
        "id": "obp1lLW3UQLZ",
        "outputId": "8461271f-50c6-48a3-a1dc-85bd72228b55"
      },
      "outputs": [
        {
          "output_type": "stream",
          "name": "stdout",
          "text": [
            "Mounted at /content/drive\n"
          ]
        }
      ],
      "source": [
        "from google.colab import drive\n",
        "drive.mount('/content/drive')"
      ],
      "id": "obp1lLW3UQLZ"
    },
    {
      "cell_type": "markdown",
      "metadata": {
        "id": "78ab07f7"
      },
      "source": [
        "# Importing DataSet"
      ],
      "id": "78ab07f7"
    },
    {
      "cell_type": "code",
      "execution_count": 3,
      "metadata": {
        "colab": {
          "base_uri": "https://localhost:8080/"
        },
        "id": "9309e06d",
        "outputId": "27972abd-cd64-43f1-ef4c-16e231d6c08c"
      },
      "outputs": [
        {
          "output_type": "stream",
          "name": "stdout",
          "text": [
            "4378\n"
          ]
        }
      ],
      "source": [
        "data = pd.read_csv('/content/drive/MyDrive/LANDSLIDE/Merged_World_LandslideData.csv') # 20 features\n",
        "dataset = data.dropna(axis = 0, how ='any')\n",
        "X =  dataset.iloc[:,1:-1].values\n",
        "y = dataset.iloc[:, -1].values\n",
        "print(len(dataset))"
      ],
      "id": "9309e06d"
    },
    {
      "cell_type": "code",
      "execution_count": 4,
      "metadata": {
        "id": "588acb2f"
      },
      "outputs": [],
      "source": [
        "#smote = SMOTE()"
      ],
      "id": "588acb2f"
    },
    {
      "cell_type": "code",
      "execution_count": 5,
      "metadata": {
        "id": "363487ad"
      },
      "outputs": [],
      "source": [
        "#x_smote, y_smote = smote.fit_resample(X, y)\n",
        "smote= SMOTE(k_neighbors = 3)\n",
        "x_smote,y_smote = smote.fit_resample(X,y)"
      ],
      "id": "363487ad"
    },
    {
      "cell_type": "code",
      "execution_count": 6,
      "metadata": {
        "id": "654f6958"
      },
      "outputs": [],
      "source": [
        "from keras.models import load_model"
      ],
      "id": "654f6958"
    },
    {
      "cell_type": "code",
      "execution_count": 7,
      "metadata": {
        "id": "67861b3e"
      },
      "outputs": [],
      "source": [
        "# create a custom function to load model\n",
        "def load_all_models(n_models):\n",
        "    all_models = list()\n",
        "    for i in range(n_models):\n",
        "        # filename\n",
        "        filename = 'north/model' + str(i + 1) + '.h5'\n",
        "        # load model\n",
        "        model = load_model(filename)\n",
        "        # Add a list of all the weaker learners\n",
        "        all_models.append(model)\n",
        "        #print('>loaded %s' % filename)\n",
        "    return all_models"
      ],
      "id": "67861b3e"
    },
    {
      "cell_type": "markdown",
      "metadata": {
        "id": "0c4c39db"
      },
      "source": [
        "## Stacking models"
      ],
      "id": "0c4c39db"
    },
    {
      "cell_type": "code",
      "execution_count": 8,
      "metadata": {
        "id": "db0754d0"
      },
      "outputs": [],
      "source": [
        "# create stacked model input dataset as outputs from the ensemble\n",
        "def stacked_dataset(members, inputX):\n",
        "    stackX = None\n",
        "    for model in members:\n",
        "        # make prediction\n",
        "        yhat = model.predict(inputX, verbose=0)\n",
        "        # stack predictions into [rows, members, probabilities]\n",
        "        if stackX is None:\n",
        "            stackX = yhat #\n",
        "        else:\n",
        "            stackX = dstack((stackX, yhat))\n",
        "    # flatten predictions to [rows, members x probabilities]\n",
        "    stackX = stackX.reshape((stackX.shape[0], stackX.shape[1]*stackX.shape[2]))\n",
        "    return stackX"
      ],
      "id": "db0754d0"
    },
    {
      "cell_type": "markdown",
      "metadata": {
        "id": "c1de75a1"
      },
      "source": [
        "## Fit meta-learner"
      ],
      "id": "c1de75a1"
    },
    {
      "cell_type": "code",
      "execution_count": 9,
      "metadata": {
        "id": "620c3aa9"
      },
      "outputs": [],
      "source": [
        "# fit a model based on the outputs from the ensemble members\n",
        "def fit_stacked_model(members, inputX, inputy):\n",
        "    # create dataset using ensemble\n",
        "    stackedX = stacked_dataset(members, inputX)\n",
        "    #print(\"Models Test time: \",(end-start) * 10**3, \"ms\")\n",
        "    # fit the meta learner\n",
        "    #model = LogisticRegression() #meta learner\n",
        "    model = SVC(kernel = 'rbf',random_state = 0,probability= True)\n",
        "    #model = SVC(kernel = 'linear', random_state = 0,probability=True)\n",
        "    #model = GaussianNB()\n",
        "    #model = KNeighborsClassifier(n_neighbors = 3, metric = 'minkowski', p = 2)\n",
        "    #model = GradientBoostingClassifier(n_estimators=50,learning_rate=0.5, max_depth=6, random_state=0)\n",
        "    #model = RandomForestClassifier(criterion = 'entropy', random_state = 0)\n",
        "    #model = DecisionTreeClassifier(max_depth=7,criterion = 'entropy', random_state = 0)\n",
        "    #model = XGBClassifier(n_estimators=50,learning_rate=0.5,max_depth=3)\n",
        "    #model = AdaBoostClassifier(n_estimators = 100, learning_rate = 1,random_state = 0)\n",
        "    #model.fit(X_train, y_train)\n",
        "    model.fit(stackedX, inputy)\n",
        "    return model"
      ],
      "id": "620c3aa9"
    },
    {
      "cell_type": "code",
      "execution_count": 10,
      "metadata": {
        "id": "46d953ea"
      },
      "outputs": [],
      "source": [
        "def stacked_prediction(members, model, inputX):\n",
        "    # create dataset using ensemble\n",
        "    stackedX = stacked_dataset(members, inputX)\n",
        "    # make a prediction\n",
        "    yhat = model.predict(stackedX)\n",
        "    return yhat"
      ],
      "id": "46d953ea"
    },
    {
      "cell_type": "code",
      "execution_count": 11,
      "metadata": {
        "id": "1bd5b4f1"
      },
      "outputs": [],
      "source": [
        "def stacked_prediction_proba(members,model,inputX):\n",
        "    # create dataset using ensemble\n",
        "    stackedX = stacked_dataset(members,inputX)\n",
        "    # make a prediction\n",
        "    yhatProb = model.predict_proba(stackedX)\n",
        "    return yhatProb"
      ],
      "id": "1bd5b4f1"
    },
    {
      "cell_type": "code",
      "execution_count": 12,
      "metadata": {
        "id": "86c41c29"
      },
      "outputs": [],
      "source": [
        "acc_train = []\n",
        "acc_test = []\n",
        "Precision_macro = []\n",
        "Precision_micro = []\n",
        "Recall_macro = []\n",
        "Recall_micro = []\n",
        "F1_macro = []\n",
        "F1_micro = []\n",
        "AUC_ovo = []\n",
        "AUC_ovr = []\n",
        "train_time = []\n",
        "test_time = []"
      ],
      "id": "86c41c29"
    },
    {
      "cell_type": "code",
      "execution_count": 13,
      "metadata": {
        "id": "--nkGullVeMc"
      },
      "outputs": [],
      "source": [
        "num_classes = 15"
      ],
      "id": "--nkGullVeMc"
    },
    {
      "cell_type": "code",
      "execution_count": 14,
      "metadata": {
        "colab": {
          "base_uri": "https://localhost:8080/"
        },
        "id": "426c21a7",
        "outputId": "42bce9de-b1a5-455d-c773-52d97e8dc2ca"
      },
      "outputs": [
        {
          "metadata": {
            "tags": null
          },
          "name": "stdout",
          "output_type": "stream",
          "text": [
            "[ 0.  1.  3.  4.  5.  6.  7.  8.  9. 10. 11. 12. 13. 14.]\n"
          ]
        },
        {
          "metadata": {
            "tags": null
          },
          "name": "stderr",
          "output_type": "stream",
          "text": [
            "/usr/local/lib/python3.10/dist-packages/keras/src/engine/training.py:3103: UserWarning: You are saving your model as an HDF5 file via `model.save()`. This file format is considered legacy. We recommend using instead the native Keras format, e.g. `model.save('my_model.keras')`.\n",
            "  saving_api.save_model(\n"
          ]
        },
        {
          "metadata": {
            "tags": null
          },
          "name": "stdout",
          "output_type": "stream",
          "text": [
            "Cross validation Train time:  2083982.899427414 ms\n",
            "Cross validation Test time:  11370.518684387207 ms\n",
            "[ 0.  1.  3.  4.  5.  6.  7.  8.  9. 10. 11. 12. 13. 14.]\n"
          ]
        },
        {
          "metadata": {
            "tags": null
          },
          "name": "stderr",
          "output_type": "stream",
          "text": [
            "/usr/local/lib/python3.10/dist-packages/keras/src/engine/training.py:3103: UserWarning: You are saving your model as an HDF5 file via `model.save()`. This file format is considered legacy. We recommend using instead the native Keras format, e.g. `model.save('my_model.keras')`.\n",
            "  saving_api.save_model(\n"
          ]
        },
        {
          "metadata": {
            "tags": null
          },
          "name": "stdout",
          "output_type": "stream",
          "text": [
            "Cross validation Train time:  2106274.59192276 ms\n",
            "Cross validation Test time:  11237.02883720398 ms\n",
            "[ 0.  1.  3.  4.  5.  6.  7.  8.  9. 10. 11. 12. 13. 14.]\n"
          ]
        },
        {
          "metadata": {
            "tags": null
          },
          "name": "stderr",
          "output_type": "stream",
          "text": [
            "/usr/local/lib/python3.10/dist-packages/keras/src/engine/training.py:3103: UserWarning: You are saving your model as an HDF5 file via `model.save()`. This file format is considered legacy. We recommend using instead the native Keras format, e.g. `model.save('my_model.keras')`.\n",
            "  saving_api.save_model(\n"
          ]
        },
        {
          "metadata": {
            "tags": null
          },
          "name": "stdout",
          "output_type": "stream",
          "text": [
            "Cross validation Train time:  2181523.767232895 ms\n",
            "Cross validation Test time:  12306.182861328125 ms\n",
            "[ 0.  1.  3.  4.  5.  6.  7.  8.  9. 10. 11. 12. 13. 14.]\n"
          ]
        },
        {
          "metadata": {
            "tags": null
          },
          "name": "stderr",
          "output_type": "stream",
          "text": [
            "/usr/local/lib/python3.10/dist-packages/keras/src/engine/training.py:3103: UserWarning: You are saving your model as an HDF5 file via `model.save()`. This file format is considered legacy. We recommend using instead the native Keras format, e.g. `model.save('my_model.keras')`.\n",
            "  saving_api.save_model(\n"
          ]
        },
        {
          "metadata": {
            "tags": null
          },
          "name": "stdout",
          "output_type": "stream",
          "text": [
            "Cross validation Train time:  2463220.1521396637 ms\n",
            "Cross validation Test time:  11702.491998672485 ms\n",
            "[ 0.  1.  3.  4.  5.  6.  7.  8.  9. 10. 11. 12. 13. 14.]\n"
          ]
        },
        {
          "output_type": "stream",
          "name": "stderr",
          "text": [
            "/usr/local/lib/python3.10/dist-packages/keras/src/engine/training.py:3103: UserWarning: You are saving your model as an HDF5 file via `model.save()`. This file format is considered legacy. We recommend using instead the native Keras format, e.g. `model.save('my_model.keras')`.\n",
            "  saving_api.save_model(\n"
          ]
        },
        {
          "output_type": "stream",
          "name": "stdout",
          "text": [
            "Cross validation Train time:  2150155.579328537 ms\n",
            "Cross validation Test time:  12013.57626914978 ms\n"
          ]
        }
      ],
      "source": [
        "for i in range(0,5):\n",
        "\n",
        "    X_train_cv, X_test_cv, y_train_cv, y_test_cv = train_test_split(x_smote, y_smote, test_size = 0.25,random_state = i)\n",
        "    y_train_cv = y_train_cv - 1\n",
        "    y_test_cv = y_test_cv - 1\n",
        "\n",
        "    sc = StandardScaler()\n",
        "    X_train_cv = sc.fit_transform(X_train_cv)\n",
        "    X_test_cv = sc.transform(X_test_cv)\n",
        "    unique_labels = np.unique(y_train_cv)\n",
        "    print(unique_labels)\n",
        "\n",
        "    start = time.time()\n",
        "    # Model 1\n",
        "    ann1 = Sequential()\n",
        "    ann1.add(tf.keras.layers.Dense(units=15, activation='relu'))\n",
        "    ann1.add(tf.keras.layers.Dense(units=20, activation='relu'))\n",
        "    ann1.add(tf.keras.layers.Dense(units=num_classes, activation='softmax'))\n",
        "    ann1.compile(optimizer = 'adam', loss = kf.losses.SparseCategoricalCrossentropy(), metrics = [kf.metrics.CategoricalAccuracy()])\n",
        "    ann1.fit(X_train_cv, y_train_cv, batch_size = 128, epochs = 100,verbose=0)\n",
        "\n",
        "    # Model 2\n",
        "    ann2 = Sequential()\n",
        "    ann2.add(tf.keras.layers.Dense(units=10, activation='relu'))\n",
        "    ann2.add(tf.keras.layers.Dense(units=15, activation='relu'))\n",
        "    ann2.add(tf.keras.layers.Dense(units=25, activation='relu'))\n",
        "    ann2.add(tf.keras.layers.Dense(units=num_classes, activation='softmax'))\n",
        "    ann2.compile(optimizer = 'adam', loss = kf.losses.SparseCategoricalCrossentropy(), metrics = [kf.metrics.CategoricalAccuracy()])\n",
        "    ann2.fit(X_train_cv, y_train_cv, batch_size = 128, epochs = 150,verbose=0)\n",
        "\n",
        "    # Model 3\n",
        "    ann3 = Sequential()\n",
        "    ann3.add(tf.keras.layers.Dense(units=20, activation='relu'))\n",
        "    ann3.add(tf.keras.layers.Dense(units=25, activation='relu'))\n",
        "    ann3.add(tf.keras.layers.Dense(units=30, activation='relu'))\n",
        "    ann3.add(tf.keras.layers.Dense(units=num_classes, activation='softmax'))\n",
        "    ann3.compile(optimizer = 'adam', loss = kf.losses.SparseCategoricalCrossentropy(), metrics = [kf.metrics.CategoricalAccuracy()])\n",
        "    ann3.fit(X_train_cv, y_train_cv, batch_size = 128, epochs = 180,verbose=0)\n",
        "\n",
        "    # Model 4\n",
        "\n",
        "    ann4 = Sequential()\n",
        "    ann4.add(tf.keras.layers.Dense(units=30, activation='relu'))\n",
        "    ann4.add(tf.keras.layers.Dense(units=35, activation='relu'))\n",
        "    ann4.add(tf.keras.layers.Dense(units=40, activation='relu'))\n",
        "    ann4.add(tf.keras.layers.Dense(units=num_classes, activation='softmax'))\n",
        "    ann4.compile(optimizer = 'adam', loss = kf.losses.SparseCategoricalCrossentropy(), metrics = [kf.metrics.CategoricalAccuracy()])\n",
        "    ann4.fit(X_train_cv, y_train_cv, batch_size = 128, epochs = 200,verbose=0)\n",
        "\n",
        "    # Model 5\n",
        "\n",
        "    ann5 = Sequential()\n",
        "    ann5.add(tf.keras.layers.Dense(units=40, activation='relu'))\n",
        "    ann5.add(tf.keras.layers.Dense(units=50, activation='relu'))\n",
        "    ann5.add(tf.keras.layers.Dense(units=55, activation='relu'))\n",
        "    ann5.add(tf.keras.layers.Dense(units=num_classes, activation='softmax'))\n",
        "    ann5.compile(optimizer = 'adam', loss = kf.losses.SparseCategoricalCrossentropy(), metrics = [kf.metrics.CategoricalAccuracy()])\n",
        "    ann5.fit(X_train_cv, y_train_cv, batch_size = 128, epochs = 250,verbose=0)\n",
        "\n",
        "    # Model 6\n",
        "\n",
        "    ann6 = Sequential()\n",
        "    ann6.add(tf.keras.layers.Dense(units=35, activation='relu'))\n",
        "    ann6.add(tf.keras.layers.Dense(units=45, activation='relu'))\n",
        "    ann6.add(tf.keras.layers.Dense(units=50, activation='relu'))\n",
        "    ann6.add(tf.keras.layers.Dense(units=num_classes, activation='softmax'))\n",
        "    ann6.compile(optimizer = 'adam', loss = kf.losses.SparseCategoricalCrossentropy(), metrics = [kf.metrics.CategoricalAccuracy()])\n",
        "    ann6.fit(X_train_cv, y_train_cv, batch_size = 128, epochs = 300,verbose=0)\n",
        "\n",
        "    # Model 7\n",
        "\n",
        "    ann7 = Sequential()\n",
        "    ann7.add(tf.keras.layers.Dense(units=35, activation='relu'))\n",
        "    ann7.add(tf.keras.layers.Dense(units=45, activation='relu'))\n",
        "    ann7.add(tf.keras.layers.Dense(units=50, activation='relu'))\n",
        "    ann7.add(tf.keras.layers.Dense(units=num_classes, activation='softmax'))\n",
        "    ann7.compile(optimizer = 'adam', loss = kf.losses.SparseCategoricalCrossentropy(), metrics = [kf.metrics.CategoricalAccuracy()])\n",
        "    ann7.fit(X_train_cv, y_train_cv, batch_size = 128, epochs = 300,verbose=0)\n",
        "\n",
        "    # Model 8\n",
        "\n",
        "    ann8 = Sequential()\n",
        "    ann8.add(tf.keras.layers.Dense(units=35, activation='relu'))\n",
        "    ann8.add(tf.keras.layers.Dense(units=45, activation='relu'))\n",
        "    ann8.add(tf.keras.layers.Dense(units=50, activation='relu'))\n",
        "    ann8.add(tf.keras.layers.Dense(units=num_classes, activation='softmax'))\n",
        "    ann8.compile(optimizer = 'adam', loss = kf.losses.SparseCategoricalCrossentropy(), metrics = [kf.metrics.CategoricalAccuracy()])\n",
        "    ann8.fit(X_train_cv, y_train_cv, batch_size = 128, epochs = 300,verbose=0)\n",
        "\n",
        "    # Model 9\n",
        "\n",
        "    ann9 = Sequential()\n",
        "    ann9.add(tf.keras.layers.Dense(units=35, activation='relu'))\n",
        "    ann9.add(tf.keras.layers.Dense(units=45, activation='relu'))\n",
        "    ann9.add(tf.keras.layers.Dense(units=50, activation='relu'))\n",
        "    ann9.add(tf.keras.layers.Dense(units=num_classes, activation='softmax'))\n",
        "    ann9.compile(optimizer = 'adam', loss = kf.losses.SparseCategoricalCrossentropy(), metrics = [kf.metrics.CategoricalAccuracy()])\n",
        "    ann9.fit(X_train_cv, y_train_cv, batch_size = 128, epochs = 300,verbose=0)\n",
        "\n",
        "    # Model 10\n",
        "\n",
        "    ann10 = Sequential()\n",
        "    ann10.add(tf.keras.layers.Dense(units=35, activation='relu'))\n",
        "    ann10.add(tf.keras.layers.Dense(units=45, activation='relu'))\n",
        "    ann10.add(tf.keras.layers.Dense(units=50, activation='relu'))\n",
        "    ann10.add(tf.keras.layers.Dense(units=num_classes, activation='softmax'))\n",
        "    ann10.compile(optimizer = 'adam', loss = kf.losses.SparseCategoricalCrossentropy(), metrics = [kf.metrics.CategoricalAccuracy()])\n",
        "    ann10.fit(X_train_cv, y_train_cv, batch_size = 128, epochs = 300,verbose=0)\n",
        "    # Model 11\n",
        "\n",
        "    ann11 = Sequential()\n",
        "    ann11.add(tf.keras.layers.Dense(units=35, activation='relu'))\n",
        "    ann11.add(tf.keras.layers.Dense(units=45, activation='relu'))\n",
        "    ann11.add(tf.keras.layers.Dense(units=50, activation='relu'))\n",
        "    ann11.add(tf.keras.layers.Dense(units=num_classes, activation='softmax'))\n",
        "    ann11.compile(optimizer = 'adam', loss = kf.losses.SparseCategoricalCrossentropy(), metrics = [kf.metrics.CategoricalAccuracy()])\n",
        "    ann11.fit(X_train_cv, y_train_cv, batch_size = 128, epochs = 300,verbose=0)\n",
        "\n",
        "    # Model 12\n",
        "\n",
        "    ann12 = Sequential()\n",
        "    ann12.add(tf.keras.layers.Dense(units=35, activation='relu'))\n",
        "    ann12.add(tf.keras.layers.Dense(units=45, activation='relu'))\n",
        "    ann12.add(tf.keras.layers.Dense(units=50, activation='relu'))\n",
        "    ann12.add(tf.keras.layers.Dense(units=num_classes, activation='softmax'))\n",
        "    ann12.compile(optimizer = 'adam', loss = kf.losses.SparseCategoricalCrossentropy(), metrics = [kf.metrics.CategoricalAccuracy()])\n",
        "    ann12.fit(X_train_cv, y_train_cv, batch_size = 128, epochs = 300,verbose=0)\n",
        "\n",
        "    # Model 13\n",
        "\n",
        "    ann13 = Sequential()\n",
        "    ann13.add(tf.keras.layers.Dense(units=35, activation='relu'))\n",
        "    ann13.add(tf.keras.layers.Dense(units=45, activation='relu'))\n",
        "    ann13.add(tf.keras.layers.Dense(units=50, activation='relu'))\n",
        "    ann13.add(tf.keras.layers.Dense(units=num_classes, activation='softmax'))\n",
        "    ann13.compile(optimizer = 'adam', loss = kf.losses.SparseCategoricalCrossentropy(), metrics = [kf.metrics.CategoricalAccuracy()])\n",
        "    ann13.fit(X_train_cv, y_train_cv, batch_size = 128, epochs = 300,verbose=0)\n",
        "\n",
        "    # Model 14\n",
        "\n",
        "    ann14 = Sequential()\n",
        "    ann14.add(tf.keras.layers.Dense(units=35, activation='relu'))\n",
        "    ann14.add(tf.keras.layers.Dense(units=45, activation='relu'))\n",
        "    ann14.add(tf.keras.layers.Dense(units=50, activation='relu'))\n",
        "    ann14.add(tf.keras.layers.Dense(units=num_classes, activation='softmax'))\n",
        "    ann14.compile(optimizer = 'adam', loss = kf.losses.SparseCategoricalCrossentropy(), metrics = [kf.metrics.CategoricalAccuracy()])\n",
        "    ann14.fit(X_train_cv, y_train_cv, batch_size = 128, epochs = 300,verbose=0)\n",
        "\n",
        "    # Model 15\n",
        "\n",
        "    ann15 = Sequential()\n",
        "    ann15.add(tf.keras.layers.Dense(units=35, activation='relu'))\n",
        "    ann15.add(tf.keras.layers.Dense(units=45, activation='sigmoid'))\n",
        "    ann15.add(tf.keras.layers.Dense(units=50, activation='relu'))\n",
        "    ann15.add(tf.keras.layers.Dense(units=num_classes, activation='softmax'))\n",
        "    ann15.compile(optimizer = 'adam', loss = kf.losses.SparseCategoricalCrossentropy(), metrics = [kf.metrics.CategoricalAccuracy()])\n",
        "    ann15.fit(X_train_cv, y_train_cv, batch_size = 128, epochs = 300,verbose=0)\n",
        "\n",
        "    # Model 16\n",
        "\n",
        "    ann16 = Sequential()\n",
        "    ann16.add(tf.keras.layers.Dense(units=35, activation='relu'))\n",
        "    ann16.add(tf.keras.layers.Dense(units=45, activation= 'sigmoid'))\n",
        "    ann16.add(tf.keras.layers.Dense(units=50, activation='relu'))\n",
        "    ann16.add(tf.keras.layers.Dense(units=num_classes, activation='softmax'))\n",
        "    ann16.compile(optimizer = 'adam', loss = kf.losses.SparseCategoricalCrossentropy(), metrics = [kf.metrics.CategoricalAccuracy()])\n",
        "    ann16.fit(X_train_cv, y_train_cv, batch_size = 128, epochs = 300,verbose=0)\n",
        "\n",
        "    ann1.save('north/model1.h5')\n",
        "    ann2.save('north/model2.h5')\n",
        "    ann3.save('north/model3.h5')\n",
        "    ann4.save('north/model4.h5')\n",
        "    ann5.save('north/model5.h5')\n",
        "    ann6.save('north/model6.h5')\n",
        "    ann7.save('north/model7.h5')\n",
        "    ann8.save('north/model8.h5')\n",
        "    ann9.save('north/model9.h5')\n",
        "    ann10.save('north/model10.h5')\n",
        "    ann11.save('north/model11.h5')\n",
        "    ann12.save('north/model12.h5')\n",
        "    ann13.save('north/model13.h5')\n",
        "    ann14.save('north/model14.h5')\n",
        "    ann15.save('north/model15.h5')\n",
        "    ann16.save('north/model16.h5')\n",
        "\n",
        "    members = load_all_models(16)\n",
        "    model = fit_stacked_model(members, X_train_cv,y_train_cv)\n",
        "    end = time.time()\n",
        "    print(\"Cross validation Train time: \",(end-start) * 10**3, \"ms\")\n",
        "    t = (end-start)*1000\n",
        "    train_time.append(t)\n",
        "\n",
        "    start = time.time()\n",
        "    y_pred = stacked_prediction(members, model, X_test_cv)\n",
        "    end = time.time()\n",
        "\n",
        "    t = (end - start)*1000\n",
        "    test_time.append(t)\n",
        "\n",
        "    print(\"Cross validation Test time: \",(end-start) * 10**3, \"ms\")\n",
        "    y_test_prob = stacked_prediction_proba(members,model,X_test_cv)\n",
        "    y_train_pred = stacked_prediction(members, model, X_train_cv)\n",
        "\n",
        "    cm = confusion_matrix(y_test_cv, y_pred)\n",
        "\n",
        "\n",
        "    accuracy = accuracy_score(y_test_cv, y_pred)\n",
        "    acc_test.append(accuracy)\n",
        "    accuracy_train = accuracy_score(y_train_cv, y_train_pred)\n",
        "    acc_train.append(accuracy_train)\n",
        "\n",
        "    pre_macro = precision_score(y_test_cv, y_pred,average='macro')\n",
        "    Precision_macro.append(pre_macro)\n",
        "    pre_micro = precision_score(y_test_cv, y_pred,average='micro')\n",
        "    Precision_micro.append(pre_micro)\n",
        "\n",
        "    re_macro = recall_score(y_test_cv, y_pred,average='macro')\n",
        "    Recall_macro.append(re_macro)\n",
        "    re_micro = recall_score(y_test_cv, y_pred,average='micro')\n",
        "    Recall_micro.append(re_micro)\n",
        "\n",
        "    f1_macro = f1_score(y_test_cv, y_pred,average='macro')\n",
        "    F1_macro.append(f1_macro)\n",
        "    f1_micro = f1_score(y_test_cv, y_pred,average='micro')\n",
        "    F1_micro.append(f1_micro)\n",
        "\n",
        "    auc_ovo = roc_auc_score(y_test_cv,y_test_prob,multi_class='ovo')\n",
        "    AUC_ovo.append(auc_ovo)\n",
        "    auc_ovr = roc_auc_score(y_test_cv,y_test_prob,multi_class='ovr')\n",
        "    AUC_ovr.append(auc_ovr)\n"
      ],
      "id": "426c21a7"
    },
    {
      "cell_type": "code",
      "execution_count": 15,
      "metadata": {
        "id": "4631b43e"
      },
      "outputs": [],
      "source": [
        "result_cv = pd.DataFrame()\n",
        "result_cv[\"Train_acc\"] = acc_train\n",
        "result_cv[\"Test_acc\"] = acc_test\n",
        "result_cv[\"Precision(macro)\"] = Precision_macro\n",
        "result_cv[\"Precision(micro)\"] = Precision_micro\n",
        "result_cv[\"Recall(macro)\"] = Recall_macro\n",
        "result_cv[\"Recall(micro)\"] = Recall_micro\n",
        "result_cv[\"F1(macro)\"] = F1_macro\n",
        "result_cv[\"F1(micro)\"] = F1_micro\n",
        "result_cv[\"AUC(ovo)\"] = AUC_ovo\n",
        "result_cv[\"AUC(ovr)\"] = AUC_ovr\n",
        "result_cv[\"Train Time\"] = train_time\n",
        "result_cv[\"Test Time\"] = test_time"
      ],
      "id": "4631b43e"
    },
    {
      "cell_type": "code",
      "execution_count": 16,
      "metadata": {
        "colab": {
          "base_uri": "https://localhost:8080/"
        },
        "id": "6bf66a36",
        "outputId": "4e76135b-de0a-4e35-f249-457658d6a537"
      },
      "outputs": [
        {
          "output_type": "execute_result",
          "data": {
            "text/plain": [
              "[2083982.899427414,\n",
              " 2106274.59192276,\n",
              " 2181523.767232895,\n",
              " 2463220.1521396637,\n",
              " 2150155.579328537]"
            ]
          },
          "metadata": {},
          "execution_count": 16
        }
      ],
      "source": [
        "train_time"
      ],
      "id": "6bf66a36"
    },
    {
      "cell_type": "code",
      "execution_count": 17,
      "metadata": {
        "colab": {
          "base_uri": "https://localhost:8080/"
        },
        "id": "105fd285",
        "outputId": "d124918f-2a71-4359-fcaf-d51a7a3356ea"
      },
      "outputs": [
        {
          "output_type": "execute_result",
          "data": {
            "text/plain": [
              "[11370.518684387207,\n",
              " 11237.02883720398,\n",
              " 12306.182861328125,\n",
              " 11702.491998672485,\n",
              " 12013.57626914978]"
            ]
          },
          "metadata": {},
          "execution_count": 17
        }
      ],
      "source": [
        "test_time"
      ],
      "id": "105fd285"
    },
    {
      "cell_type": "code",
      "execution_count": 18,
      "metadata": {
        "id": "b92aa6da"
      },
      "outputs": [],
      "source": [
        "result_cv.to_csv(\"filename\", index=False)"
      ],
      "id": "b92aa6da"
    },
    {
      "cell_type": "code",
      "execution_count": 19,
      "metadata": {
        "id": "0663ab50"
      },
      "outputs": [],
      "source": [
        "result_cv_avg = pd.DataFrame()\n",
        "lst = []\n",
        "x = mean(acc_train)*100\n",
        "lst.append(x)\n",
        "result_cv_avg[\"Train_acc\"] = lst\n",
        "result_cv_avg[\"Test_acc\"] = mean(acc_test)*100\n",
        "result_cv_avg[\"SD\"] = np.std(acc_test)*100\n",
        "result_cv_avg[\"Precision(macro)\"] = mean(Precision_macro)\n",
        "result_cv_avg[\"Precision(micro)\"] = mean(Precision_micro)\n",
        "result_cv_avg[\"Recall(macro)\"] = mean(Recall_macro)\n",
        "result_cv_avg[\"Recall(micro)\"] = mean(Recall_micro)\n",
        "result_cv_avg[\"F1(macro)\"] = mean(F1_macro)\n",
        "result_cv_avg[\"F1(micro)\"] = mean(F1_micro)\n",
        "result_cv_avg[\"AUC(ovo)\"] = mean(AUC_ovo)\n",
        "result_cv_avg[\"AUC(ovr)\"] = mean(AUC_ovr)"
      ],
      "id": "0663ab50"
    },
    {
      "cell_type": "code",
      "execution_count": 20,
      "metadata": {
        "id": "b3d296c7"
      },
      "outputs": [],
      "source": [
        "result_cv_avg.to_csv(\"filename\", index=False)"
      ],
      "id": "b3d296c7"
    },
    {
      "cell_type": "code",
      "execution_count": 21,
      "metadata": {
        "colab": {
          "base_uri": "https://localhost:8080/"
        },
        "id": "d737dfcb",
        "outputId": "9afaf5fa-ab62-4f9c-ab8a-874eae9640bd"
      },
      "outputs": [
        {
          "output_type": "execute_result",
          "data": {
            "text/plain": [
              "[0.9977364937006192,\n",
              " 0.9970958787102285,\n",
              " 0.997480247704463,\n",
              " 0.9973948323724109,\n",
              " 0.9970958787102285]"
            ]
          },
          "metadata": {},
          "execution_count": 21
        }
      ],
      "source": [
        "acc_train"
      ],
      "id": "d737dfcb"
    },
    {
      "cell_type": "code",
      "execution_count": 22,
      "metadata": {
        "colab": {
          "base_uri": "https://localhost:8080/"
        },
        "id": "5601cc70",
        "outputId": "ed34eaea-a12f-4941-cd3b-92b65a8f38fb"
      },
      "outputs": [
        {
          "data": {
            "text/plain": [
              "[0.9358103779628443,\n",
              " 0.9351697629724536,\n",
              " 0.9404228058936579,\n",
              " 0.939654067905189,\n",
              " 0.9428571428571428]"
            ]
          },
          "execution_count": 22,
          "metadata": {},
          "output_type": "execute_result"
        }
      ],
      "source": [
        "acc_test"
      ],
      "id": "5601cc70"
    },
    {
      "cell_type": "code",
      "execution_count": 23,
      "metadata": {
        "colab": {
          "base_uri": "https://localhost:8080/"
        },
        "id": "a183e93a",
        "outputId": "f005b5f4-d32b-43bb-a6ba-d701e6540f4f"
      },
      "outputs": [
        {
          "output_type": "execute_result",
          "data": {
            "text/plain": [
              "[0.9372722484495327,\n",
              " 0.937639680057634,\n",
              " 0.9458475375955171,\n",
              " 0.9397212484754649,\n",
              " 0.942077823561443]"
            ]
          },
          "metadata": {},
          "execution_count": 23
        }
      ],
      "source": [
        "Precision_macro"
      ],
      "id": "a183e93a"
    },
    {
      "cell_type": "code",
      "execution_count": 24,
      "metadata": {
        "colab": {
          "base_uri": "https://localhost:8080/"
        },
        "id": "919cba03",
        "outputId": "f093fd5c-92b1-44bc-88c5-6744022cafea"
      },
      "outputs": [
        {
          "data": {
            "text/plain": [
              "[0.9358103779628443,\n",
              " 0.9351697629724536,\n",
              " 0.9404228058936579,\n",
              " 0.939654067905189,\n",
              " 0.9428571428571428]"
            ]
          },
          "execution_count": 24,
          "metadata": {},
          "output_type": "execute_result"
        }
      ],
      "source": [
        "Precision_micro"
      ],
      "id": "919cba03"
    },
    {
      "cell_type": "code",
      "execution_count": 25,
      "metadata": {
        "colab": {
          "base_uri": "https://localhost:8080/"
        },
        "id": "da5922e3",
        "outputId": "340af95d-c4e6-4847-899e-4f77bbc16b76"
      },
      "outputs": [
        {
          "output_type": "execute_result",
          "data": {
            "text/plain": [
              "[0.9358920624193453,\n",
              " 0.9366991771964261,\n",
              " 0.9398864759252518,\n",
              " 0.9396248593015664,\n",
              " 0.9409337543078146]"
            ]
          },
          "metadata": {},
          "execution_count": 25
        }
      ],
      "source": [
        "Recall_macro"
      ],
      "id": "da5922e3"
    },
    {
      "cell_type": "code",
      "execution_count": 26,
      "metadata": {
        "colab": {
          "base_uri": "https://localhost:8080/"
        },
        "id": "9da08914",
        "outputId": "825f7f65-0742-438d-ee3c-5d2e88ee38b2"
      },
      "outputs": [
        {
          "output_type": "execute_result",
          "data": {
            "text/plain": [
              "[0.9358103779628443,\n",
              " 0.9351697629724536,\n",
              " 0.9404228058936579,\n",
              " 0.939654067905189,\n",
              " 0.9428571428571428]"
            ]
          },
          "metadata": {},
          "execution_count": 26
        }
      ],
      "source": [
        "Recall_micro"
      ],
      "id": "9da08914"
    },
    {
      "cell_type": "code",
      "execution_count": 27,
      "metadata": {
        "colab": {
          "base_uri": "https://localhost:8080/"
        },
        "id": "d06098bb",
        "outputId": "4f3b3b93-4e3a-4332-c69c-381ff9ccd65e"
      },
      "outputs": [
        {
          "data": {
            "text/plain": [
              "[0.9364800673615291,\n",
              " 0.9369911545991038,\n",
              " 0.9412085792953125,\n",
              " 0.9396048177734269,\n",
              " 0.9414138543097615]"
            ]
          },
          "execution_count": 27,
          "metadata": {},
          "output_type": "execute_result"
        }
      ],
      "source": [
        "F1_macro"
      ],
      "id": "d06098bb"
    },
    {
      "cell_type": "code",
      "execution_count": 28,
      "metadata": {
        "colab": {
          "base_uri": "https://localhost:8080/"
        },
        "id": "c98a6d5f",
        "outputId": "718cd88e-0305-4b52-deea-fd1067cfba70"
      },
      "outputs": [
        {
          "output_type": "execute_result",
          "data": {
            "text/plain": [
              "[0.9358103779628443,\n",
              " 0.9351697629724536,\n",
              " 0.9404228058936579,\n",
              " 0.939654067905189,\n",
              " 0.9428571428571428]"
            ]
          },
          "metadata": {},
          "execution_count": 28
        }
      ],
      "source": [
        "F1_micro"
      ],
      "id": "c98a6d5f"
    },
    {
      "cell_type": "code",
      "execution_count": 29,
      "metadata": {
        "colab": {
          "base_uri": "https://localhost:8080/"
        },
        "id": "ae3f919c",
        "outputId": "131e1f6c-fa7e-417f-cb0e-e5e6eb180d63"
      },
      "outputs": [
        {
          "data": {
            "text/plain": [
              "[0.9949176653445937,\n",
              " 0.994679098875887,\n",
              " 0.9950497926130164,\n",
              " 0.9951186336388147,\n",
              " 0.9954931463477775]"
            ]
          },
          "execution_count": 29,
          "metadata": {},
          "output_type": "execute_result"
        }
      ],
      "source": [
        "AUC_ovo"
      ],
      "id": "ae3f919c"
    },
    {
      "cell_type": "code",
      "execution_count": 30,
      "metadata": {
        "colab": {
          "base_uri": "https://localhost:8080/"
        },
        "id": "9bc6fd04",
        "outputId": "b69835ce-8e3d-4238-82a5-cbc04be2f758"
      },
      "outputs": [
        {
          "metadata": {
            "tags": null
          },
          "name": "stdout",
          "output_type": "stream",
          "text": [
            "4\n"
          ]
        }
      ],
      "source": [
        "index = np.argmax(AUC_ovo)\n",
        "print(index)"
      ],
      "id": "9bc6fd04"
    },
    {
      "cell_type": "code",
      "execution_count": 31,
      "metadata": {
        "colab": {
          "base_uri": "https://localhost:8080/"
        },
        "id": "a85635c8",
        "outputId": "c9547834-8c1a-42d7-a9de-d67b8cd141f4"
      },
      "outputs": [
        {
          "output_type": "execute_result",
          "data": {
            "text/plain": [
              "[0.994910833764842,\n",
              " 0.9945911206975684,\n",
              " 0.9950436489888955,\n",
              " 0.9951290525100862,\n",
              " 0.9956289762603132]"
            ]
          },
          "metadata": {},
          "execution_count": 31
        }
      ],
      "source": [
        "AUC_ovr"
      ],
      "id": "a85635c8"
    },
    {
      "cell_type": "code",
      "execution_count": 32,
      "metadata": {
        "colab": {
          "base_uri": "https://localhost:8080/"
        },
        "id": "005129c3",
        "outputId": "38810d8d-2a4f-4cee-c720-c68c4c1f32ba"
      },
      "outputs": [
        {
          "metadata": {
            "tags": null
          },
          "name": "stdout",
          "output_type": "stream",
          "text": [
            "Accuracy(Train): 99.74 %\n",
            "Accuracy(Test): 93.88 %\n",
            "Standard Deviation: 0.29%\n",
            "Precision (macro): 0.941\n",
            "Precision (micro): 0.939\n",
            "Recall (macro): 0.939\n",
            "Recall (micro): 0.939\n",
            "F1 (macro): 0.939\n",
            "F1 (micro): 0.939\n",
            "AUC (ovo): 0.995\n",
            "AUC (ovr): 0.995\n"
          ]
        }
      ],
      "source": [
        "print(\"Accuracy(Train): {:.2f} %\".format(mean(acc_train)*100))\n",
        "print(\"Accuracy(Test): {:.2f} %\".format(mean(acc_test)*100))\n",
        "print(\"Standard Deviation: {:.2f}%\".format(np.std(acc_test)*100))\n",
        "print(\"Precision (macro): %.3f\" %mean(Precision_macro))\n",
        "print(\"Precision (micro): %.3f\" %mean(Precision_micro))\n",
        "print(\"Recall (macro): %.3f\" %mean(Recall_macro))\n",
        "print(\"Recall (micro): %.3f\" %mean(Recall_micro))\n",
        "print(\"F1 (macro): %.3f\" %mean(F1_macro))\n",
        "print(\"F1 (micro): %.3f\" %mean(F1_micro))\n",
        "print(\"AUC (ovo): %.3f\" %mean(AUC_ovo))\n",
        "print(\"AUC (ovr): %.3f\" %mean(AUC_ovr))"
      ],
      "id": "005129c3"
    },
    {
      "cell_type": "code",
      "execution_count": 33,
      "metadata": {
        "id": "c4760cea"
      },
      "outputs": [],
      "source": [
        "from numpy import interp"
      ],
      "id": "c4760cea"
    },
    {
      "cell_type": "code",
      "execution_count": 34,
      "metadata": {
        "colab": {
          "base_uri": "https://localhost:8080/"
        },
        "id": "804ffd5e",
        "outputId": "57b29469-d01e-42a9-8b18-0c3b9ad476f4"
      },
      "outputs": [
        {
          "output_type": "stream",
          "name": "stdout",
          "text": [
            "all_fpr:  [0.00000000e+00 1.37362637e-04 1.37419266e-04 1.37494844e-04\n",
            " 1.37760022e-04 1.37931034e-04 1.38677021e-04 2.74725275e-04\n",
            " 2.74989688e-04 2.75520044e-04 2.75862069e-04 2.77354042e-04\n",
            " 4.12087912e-04 4.12484532e-04 4.13280066e-04 4.13793103e-04\n",
            " 4.16031064e-04 5.49450549e-04 5.49677065e-04 5.49979376e-04\n",
            " 5.51040088e-04 5.51724138e-04 6.86813187e-04 6.87096331e-04\n",
            " 6.87474220e-04 6.88800110e-04 6.89655172e-04 8.24175824e-04\n",
            " 8.24969064e-04 8.26560132e-04 8.27586207e-04 8.32062127e-04\n",
            " 9.61538462e-04 9.61934863e-04 9.64320154e-04 9.65517241e-04\n",
            " 1.09890110e-03 1.09935413e-03 1.09995875e-03 1.10208018e-03\n",
            " 1.10344828e-03 1.10941617e-03 1.23626374e-03 1.23677340e-03\n",
            " 1.23745360e-03 1.23984020e-03 1.24137931e-03 1.24809319e-03\n",
            " 1.37362637e-03 1.37419266e-03 1.37760022e-03 1.37931034e-03\n",
            " 1.51536024e-03 1.51724138e-03 1.52544723e-03 1.64835165e-03\n",
            " 1.64903119e-03 1.64993813e-03 1.65517241e-03 1.66412425e-03\n",
            " 1.78571429e-03 1.78645046e-03 1.78743297e-03 1.79088029e-03\n",
            " 1.79310345e-03 1.92307692e-03 1.92386973e-03 1.92492782e-03\n",
            " 1.93103448e-03 2.06043956e-03 2.06128899e-03 2.06242266e-03\n",
            " 2.06896552e-03 2.19780220e-03 2.19870826e-03 2.19991750e-03\n",
            " 2.20416035e-03 2.20689655e-03 2.33516484e-03 2.33612753e-03\n",
            " 2.33741235e-03 2.34192037e-03 2.34482759e-03 2.47354679e-03\n",
            " 2.47490719e-03 2.47968040e-03 2.48275862e-03 2.61096606e-03\n",
            " 2.61240203e-03 2.61744042e-03 2.62068966e-03 2.74838532e-03\n",
            " 2.75862069e-03 2.88461538e-03 2.88580459e-03 2.88739172e-03\n",
            " 2.89296046e-03 2.89655172e-03 3.02197802e-03 3.02322386e-03\n",
            " 3.02488657e-03 3.03448276e-03 3.15934066e-03 3.16064312e-03\n",
            " 3.16848051e-03 3.17241379e-03 3.29670330e-03 3.29806239e-03\n",
            " 3.29987625e-03 3.30624053e-03 3.31034483e-03 3.43406593e-03\n",
            " 3.43548165e-03 3.44400055e-03 3.44827586e-03 3.57142857e-03\n",
            " 3.57290092e-03 3.57486594e-03 3.70879121e-03 3.71032019e-03\n",
            " 3.71236079e-03 3.72413793e-03 3.84773945e-03 3.86206897e-03\n",
            " 3.98515872e-03 4.12257799e-03 4.13793103e-03 4.25999725e-03\n",
            " 4.26234016e-03 4.27586207e-03 4.39741652e-03 4.41379310e-03\n",
            " 4.53296703e-03 4.53483578e-03 4.53732985e-03 4.55172414e-03\n",
            " 4.67032967e-03 4.67225505e-03 4.68384075e-03 4.80967432e-03\n",
            " 4.81231954e-03 4.82160077e-03 4.82758621e-03 4.94505495e-03\n",
            " 4.94709358e-03 4.96551724e-03 5.08241758e-03 5.09712082e-03\n",
            " 5.10344828e-03 5.22193211e-03 5.23488084e-03 5.24137931e-03\n",
            " 5.35935138e-03 5.36229891e-03 5.37264086e-03 5.37931034e-03\n",
            " 5.49677065e-03 5.49979376e-03 5.63418991e-03 5.65517241e-03\n",
            " 5.79310345e-03 5.90659341e-03 5.90902845e-03 5.91227829e-03\n",
            " 5.93103448e-03 6.04644771e-03 6.18386698e-03 6.32128624e-03\n",
            " 6.45870551e-03 6.46225767e-03 6.59340659e-03 6.59612478e-03\n",
            " 6.61248106e-03 6.62068966e-03 6.73354404e-03 6.75024108e-03\n",
            " 6.75862069e-03 6.87474220e-03 6.89655172e-03 7.03448276e-03\n",
            " 7.14285714e-03 7.14580184e-03 7.28322111e-03 7.30128117e-03\n",
            " 7.31034483e-03 7.55494505e-03 7.56221642e-03 7.58620690e-03\n",
            " 7.85232126e-03 7.97031744e-03 8.00000000e-03 8.10773670e-03\n",
            " 8.13793103e-03 8.24515597e-03 8.38257524e-03 8.51999450e-03\n",
            " 8.54112137e-03 8.55172414e-03 8.65741377e-03 8.79483304e-03\n",
            " 8.93225230e-03 8.93716486e-03 8.96551724e-03 9.06593407e-03\n",
            " 9.06967157e-03 9.10344828e-03 9.20709083e-03 9.24137931e-03\n",
            " 9.34451010e-03 9.50544152e-03 9.65517241e-03 9.75676790e-03\n",
            " 9.78096156e-03 9.89418717e-03 9.93103448e-03 1.00689655e-02\n",
            " 1.03064450e-02 1.04395604e-02 1.05812835e-02 1.07142857e-02\n",
            " 1.08561220e-02 1.11724138e-02 1.14057991e-02 1.14482759e-02\n",
            " 1.15432184e-02 1.15862069e-02 1.16806376e-02 1.17241379e-02\n",
            " 1.18180569e-02 1.19554762e-02 1.20879121e-02 1.22252747e-02\n",
            " 1.22758621e-02 1.23677340e-02 1.26373626e-02 1.26896552e-02\n",
            " 1.27799918e-02 1.28275862e-02 1.29174110e-02 1.30548303e-02\n",
            " 1.31922496e-02 1.32413793e-02 1.33241758e-02 1.33793103e-02\n",
            " 1.34670881e-02 1.36045074e-02 1.37419266e-02 1.37931034e-02\n",
            " 1.38736264e-02 1.39310345e-02 1.40109890e-02 1.40689655e-02\n",
            " 1.41483516e-02 1.41541844e-02 1.42068966e-02 1.42916037e-02\n",
            " 1.43448276e-02 1.44290229e-02 1.44827586e-02 1.45664422e-02\n",
            " 1.46206897e-02 1.47038615e-02 1.47119483e-02 1.48412807e-02\n",
            " 1.48965517e-02 1.51161193e-02 1.51724138e-02 1.53103448e-02\n",
            " 1.53909578e-02 1.54482759e-02 1.55219780e-02 1.58032156e-02\n",
            " 1.58424025e-02 1.60000000e-02 1.60868967e-02 1.62154734e-02\n",
            " 1.63528927e-02 1.64903119e-02 1.66896552e-02 1.67651505e-02\n",
            " 1.68956044e-02 1.69025697e-02 1.69655172e-02 1.70329670e-02\n",
            " 1.70399890e-02 1.72413793e-02 1.73076923e-02 1.75172414e-02\n",
            " 1.75896661e-02 1.76551724e-02 1.77270853e-02 1.77710428e-02\n",
            " 1.79310345e-02 1.80019239e-02 1.81318681e-02 1.81393431e-02\n",
            " 1.82692308e-02 1.85516009e-02 1.86206897e-02 1.88264395e-02\n",
            " 1.89560440e-02 1.89638587e-02 1.91012780e-02 1.91724138e-02\n",
            " 1.92386973e-02 1.95135358e-02 1.95862069e-02 1.97241379e-02\n",
            " 1.99257936e-02 2.01379310e-02 2.03380514e-02 2.04137931e-02\n",
            " 2.05517241e-02 2.06242266e-02 2.07417582e-02 2.08877285e-02\n",
            " 2.10251477e-02 2.11034483e-02 2.11625670e-02 2.12912088e-02\n",
            " 2.13117008e-02 2.14374055e-02 2.15748248e-02 2.17122441e-02\n",
            " 2.19310345e-02 2.21153846e-02 2.21245019e-02 2.23448276e-02\n",
            " 2.23993404e-02 2.24827586e-02 2.28115982e-02 2.30344828e-02\n",
            " 2.32238560e-02 2.33103448e-02 2.33612753e-02 2.34986945e-02\n",
            " 2.36361138e-02 2.37241379e-02 2.37735330e-02 2.39109523e-02\n",
            " 2.40000000e-02 2.41379310e-02 2.42758621e-02 2.46896552e-02\n",
            " 2.47252747e-02 2.47354679e-02 2.48275862e-02 2.51034483e-02\n",
            " 2.52413793e-02 2.53793103e-02 2.56974028e-02 2.60689655e-02\n",
            " 2.61096606e-02 2.65219184e-02 2.67586207e-02 2.70715954e-02\n",
            " 2.71724138e-02 2.72090147e-02 2.76098901e-02 2.76212725e-02\n",
            " 2.77241379e-02 2.81709496e-02 2.84457881e-02 2.86896552e-02\n",
            " 2.89655172e-02 2.91328844e-02 2.96551724e-02 2.96825615e-02\n",
            " 2.99310345e-02 2.99574000e-02 3.02068966e-02 3.02322386e-02\n",
            " 3.04827586e-02 3.06206897e-02 3.07819156e-02 3.08965517e-02\n",
            " 3.09193349e-02 3.11941734e-02 3.14863193e-02 3.15862069e-02\n",
            " 3.17438505e-02 3.25683661e-02 3.31034483e-02 3.33928817e-02\n",
            " 3.35303009e-02 3.36551724e-02 3.36677202e-02 3.37931034e-02\n",
            " 3.39310345e-02 3.39425587e-02 3.42173973e-02 3.43448276e-02\n",
            " 3.43548165e-02 3.46206897e-02 3.46296551e-02 3.47586207e-02\n",
            " 3.47670743e-02 3.49236904e-02 3.50419129e-02 3.51793321e-02\n",
            " 3.53167514e-02 3.54482759e-02 3.57290092e-02 3.60038477e-02\n",
            " 3.61412670e-02 3.62786863e-02 3.64137931e-02 3.65517241e-02\n",
            " 3.66909441e-02 3.68283633e-02 3.71034483e-02 3.73780404e-02\n",
            " 3.75154597e-02 3.76528789e-02 3.78840061e-02 3.79277175e-02\n",
            " 3.80651367e-02 3.84615385e-02 3.97141679e-02 3.98515872e-02\n",
            " 3.98620690e-02 4.01379310e-02 4.02758621e-02 4.04137931e-02\n",
            " 4.12257799e-02 4.15172414e-02 4.16551724e-02 4.19128762e-02\n",
            " 4.20329670e-02 4.20689655e-02 4.32870688e-02 4.33103448e-02\n",
            " 4.34482759e-02 4.38620690e-02 4.41379310e-02 4.45517241e-02\n",
            " 4.47986808e-02 4.49361000e-02 4.51923077e-02 4.57606156e-02\n",
            " 4.57931034e-02 4.60354542e-02 4.60607727e-02 4.60689655e-02\n",
            " 4.61728734e-02 4.64285714e-02 4.65851312e-02 4.67225505e-02\n",
            " 4.68384075e-02 4.68599698e-02 4.71724138e-02 4.72722276e-02\n",
            " 4.74096468e-02 4.78620690e-02 4.79593239e-02 4.82758621e-02\n",
            " 4.87838395e-02 4.89212588e-02 4.91960973e-02 4.93335166e-02\n",
            " 4.95172414e-02 4.96083551e-02 5.01580322e-02 5.05702900e-02\n",
            " 5.07077092e-02 5.15322248e-02 5.20604396e-02 5.26896552e-02\n",
            " 5.29064175e-02 5.39310345e-02 5.44827586e-02 5.50344828e-02\n",
            " 5.55862069e-02 5.56318681e-02 5.60000000e-02 5.63186813e-02\n",
            " 5.66167377e-02 5.68915762e-02 5.72413793e-02 5.76551724e-02\n",
            " 5.82657689e-02 5.85406074e-02 5.88965517e-02 5.90902845e-02\n",
            " 5.92277037e-02 5.93651230e-02 6.08275862e-02 6.12889927e-02\n",
            " 6.19310345e-02 6.22068966e-02 6.23448276e-02 6.25000000e-02\n",
            " 6.30754432e-02 6.41747973e-02 6.42758621e-02 6.45517241e-02\n",
            " 6.48618936e-02 6.53793103e-02 6.54115707e-02 6.54360105e-02\n",
            " 6.60689655e-02 6.63448276e-02 6.63735056e-02 6.64835165e-02\n",
            " 6.69231826e-02 6.80000000e-02 6.81379310e-02 6.84347946e-02\n",
            " 6.95172414e-02 7.00838258e-02 7.06043956e-02 7.13103448e-02\n",
            " 7.15862069e-02 7.17241379e-02 7.18620690e-02 7.18702762e-02\n",
            " 7.21451147e-02 7.26896552e-02 7.28275862e-02 7.31034483e-02\n",
            " 7.35193074e-02 7.43438230e-02 7.47586207e-02 7.51724138e-02\n",
            " 7.61379310e-02 7.73793103e-02 7.76418854e-02 7.79310345e-02\n",
            " 7.82068966e-02 7.83448276e-02 7.88965517e-02 7.92909166e-02\n",
            " 7.98405937e-02 8.09655172e-02 8.12413793e-02 8.13969476e-02\n",
            " 8.26206897e-02 8.28965517e-02 8.30468857e-02 8.45517241e-02\n",
            " 8.52468032e-02 8.57931034e-02 8.61618799e-02 8.86896552e-02\n",
            " 9.04827586e-02 9.08965517e-02 9.27580047e-02 9.31702625e-02\n",
            " 9.33076817e-02 9.46206897e-02 9.47586207e-02 9.53689707e-02\n",
            " 9.56438093e-02 9.60000000e-02 9.61379310e-02 9.69655172e-02\n",
            " 9.73793103e-02 9.75676790e-02 9.83448276e-02 1.01241379e-01\n",
            " 1.01965096e-01 1.02758621e-01 1.03751546e-01 1.04275862e-01\n",
            " 1.04438642e-01 1.05082418e-01 1.05517241e-01 1.08286382e-01\n",
            " 1.09931034e-01 1.10068966e-01 1.11034578e-01 1.11447025e-01\n",
            " 1.11584444e-01 1.12000000e-01 1.12827586e-01 1.16689655e-01\n",
            " 1.17103448e-01 1.17931034e-01 1.18317988e-01 1.22165728e-01\n",
            " 1.24689655e-01 1.25103448e-01 1.25379310e-01 1.25793103e-01\n",
            " 1.26068966e-01 1.27197802e-01 1.27472527e-01 1.28695174e-01\n",
            " 1.28827586e-01 1.29107658e-01 1.29382648e-01 1.30482759e-01\n",
            " 1.30685722e-01 1.32609592e-01 1.32965517e-01 1.33379310e-01\n",
            " 1.33571527e-01 1.35555862e-01 1.38182318e-01 1.42170330e-01\n",
            " 1.42445055e-01 1.43349414e-01 1.43625086e-01 1.43819607e-01\n",
            " 1.44094596e-01 1.44419828e-01 1.44696760e-01 1.45379310e-01\n",
            " 1.45879121e-01 1.46840659e-01 1.46901196e-01 1.47448276e-01\n",
            " 1.48687646e-01 1.49785229e-01 1.50062353e-01 1.51811544e-01\n",
            " 1.52087064e-01 1.55558609e-01 1.55831608e-01 1.56107660e-01\n",
            " 1.57487923e-01 1.57763975e-01 1.58507835e-01 1.58785189e-01\n",
            " 1.60551724e-01 1.60643122e-01 1.60827586e-01 1.61352657e-01\n",
            " 1.61628709e-01 1.61697407e-01 1.61974761e-01 1.63248451e-01\n",
            " 1.63335631e-01 1.63523744e-01 1.63611303e-01 1.63862069e-01\n",
            " 1.64137931e-01 1.64389234e-01 1.64665286e-01 1.65743561e-01\n",
            " 1.66020493e-01 1.66414315e-01 1.66689608e-01 1.67244007e-01\n",
            " 1.67521131e-01 1.68000000e-01 1.68237251e-01 1.68514412e-01\n",
            " 1.68543956e-01 1.71565934e-01 1.72533259e-01 1.72810421e-01\n",
            " 1.75724138e-01 1.91346154e-01 2.13103448e-01 2.23901099e-01\n",
            " 2.87481105e-01 2.89542394e-01 3.32142366e-01 3.61687509e-01\n",
            " 3.64573313e-01 4.81793103e-01 9.30906593e-01 9.85158719e-01\n",
            " 9.86206897e-01 1.00000000e+00]\n",
            "mean_tpr:  [0.64873793 0.65703725 0.6574431  0.66979541 0.689157   0.690444\n",
            " 0.7408288  0.74314172 0.7721428  0.77894552 0.78139115 0.78163306\n",
            " 0.79414196 0.79441087 0.79755134 0.80141235 0.8017731  0.81197718\n",
            " 0.81292415 0.81587796 0.8161396  0.8166544  0.82304896 0.82440178\n",
            " 0.82641574 0.8268082  0.8271943  0.82814668 0.83512842 0.83643664\n",
            " 0.83656534 0.83668559 0.83736586 0.83750114 0.84116415 0.84206505\n",
            " 0.84233716 0.842743   0.84354859 0.84459516 0.84613956 0.84625981\n",
            " 0.84653192 0.8466672  0.84841264 0.84854346 0.85163226 0.85175251\n",
            " 0.852977   0.85405925 0.85484418 0.85587378 0.85626625 0.85639495\n",
            " 0.8565152  0.85773969 0.85828081 0.85841508 0.85892988 0.85905013\n",
            " 0.86054673 0.86068201 0.86162186 0.86175268 0.86587108 0.8664153\n",
            " 0.86695643 0.86709069 0.87030819 0.87166874 0.87180402 0.87207255\n",
            " 0.87245865 0.8725947  0.87313583 0.87340436 0.87353518 0.87379258\n",
            " 0.87515312 0.8752884  0.8756912  0.87582202 0.87698032 0.87752144\n",
            " 0.87765571 0.87791735 0.87804605 0.8784519  0.87858616 0.87871698\n",
            " 0.87897438 0.87978607 0.88068697 0.88109513 0.88123042 0.88136468\n",
            " 0.88162632 0.88226982 0.88363037 0.8848479  0.88498217 0.88511087\n",
            " 0.88647141 0.88660669 0.88699916 0.88738526 0.88752131 0.88792715\n",
            " 0.88806142 0.88819224 0.88935054 0.8894866  0.88989244 0.89041573\n",
            " 0.89144533 0.89158138 0.89185194 0.89198621 0.89212226 0.89252811\n",
            " 0.89266237 0.89279107 0.89319692 0.89396912 0.89437496 0.89451024\n",
            " 0.89476764 0.89517349 0.89530775 0.89607995 0.89702692 0.89715562\n",
            " 0.89729168 0.89742696 0.89782975 0.89808715 0.8982232  0.89889961\n",
            " 0.89903043 0.89984212 0.89997639 0.90023803 0.90062413 0.90089624\n",
            " 0.9011668  0.9012955  0.90143156 0.9016932  0.902208   0.90234328\n",
            " 0.9024741  0.9027315  0.90354319 0.90367745 0.90380828 0.90393698\n",
            " 0.90407226 0.90420652 0.90447708 0.90460578 0.90473449 0.90487054\n",
            " 0.90500582 0.90514009 0.90539749 0.90553277 0.90647974 0.90661502\n",
            " 0.90715614 0.90742467 0.90756073 0.90769601 0.90795765 0.90847245\n",
            " 0.90914886 0.90927968 0.90940838 0.90954264 0.90967134 0.90980004\n",
            " 0.9099361  0.91020666 0.91128891 0.91141973 0.91154843 0.91168449\n",
            " 0.91195302 0.91208172 0.91221254 0.9124831  0.9126118  0.91274708\n",
            " 0.91287578 0.91368747 0.91409332 0.914905   0.91503583 0.91529323\n",
            " 0.91651076 0.9169166  0.91705188 0.91718615 0.91731485 0.9174509\n",
            " 0.91772147 0.91836497 0.91850025 0.91862895 0.91889951 0.91903033\n",
            " 0.91915903 0.92078241 0.92091323 0.92158964 0.92171834 0.92184704\n",
            " 0.92265873 0.92279478 0.92306534 0.92333745 0.92347273 0.92360143\n",
            " 0.923872   0.9241294  0.92426468 0.92439338 0.92466394 0.92479264\n",
            " 0.9250632  0.92519848 0.92533454 0.92547059 0.92559929 0.92573458\n",
            " 0.92587063 0.92651413 0.92705526 0.92731266 0.92744794 0.9277185\n",
            " 0.92785378 0.92836858 0.92850464 0.92863334 0.92917446 0.92958031\n",
            " 0.93012143 0.93025013 0.93038619 0.93064359 0.93077964 0.93103704\n",
            " 0.9311731  0.93130838 0.93143708 0.93157236 0.93195846 0.93209374\n",
            " 0.93247984 0.93315625 0.93328495 0.93355551 0.93368978 0.9342309\n",
            " 0.9343596  0.93449488 0.93526708 0.93539578 0.93566635 0.93592375\n",
            " 0.9360598  0.93619508 0.9363259  0.9364546  0.93672313 0.93712898\n",
            " 0.93726426 0.93753482 0.93766352 0.9377988  0.93793486 0.93888183\n",
            " 0.93901053 0.93914658 0.93941714 0.93954584 0.9396819  0.9398106\n",
            " 0.94035172 0.94048042 0.9406157  0.94074653 0.94087523 0.94114579\n",
            " 0.9414179  0.94182374 0.9419598  0.94209508 0.94222378 0.94235906\n",
            " 0.94249511 0.94276568 0.94290096 0.94302966 0.9434355  0.94424719\n",
            " 0.94437589 0.94450459 0.94463987 0.94476857 0.94490385 0.94503255\n",
            " 0.94516125 0.94529552 0.94556763 0.94583819 0.94597347 0.94610217\n",
            " 0.94637273 0.94650879 0.94664305 0.94718418 0.94799587 0.9492134\n",
            " 0.9494708  0.94960685 0.94974214 0.94999954 0.95013482 0.95026352\n",
            " 0.9503988  0.9505275  0.95066278 0.95079148 0.95133261 0.95146789\n",
            " 0.95187373 0.95200243 0.95227299 0.9529494  0.9530781  0.9532068\n",
            " 0.9533355  0.9534642  0.95360026 0.95427666 0.95440536 0.95453406\n",
            " 0.95466276 0.95479146 0.95492675 0.95505545 0.95532601 0.95546129\n",
            " 0.95558999 0.95572527 0.95585397 0.95612453 0.95639664 0.95653192\n",
            " 0.95666062 0.95693119 0.95706647 0.95719517 0.95732387 0.95745915\n",
            " 0.95758785 0.95772313 0.95798053 0.95825109 0.95837979 0.95851508\n",
            " 0.95877248 0.95890118 0.95957758 0.95970628 0.95984156 0.95997685\n",
            " 0.96011111 0.96036851 0.96077435 0.96090964 0.96103834 0.96117362\n",
            " 0.9613089  0.9614376  0.96157288 0.96170158 0.96183028 0.96210084\n",
            " 0.96250669 0.96263539 0.96277067 0.96289937 0.96357578 0.96383318\n",
            " 0.96396846 0.96410272 0.96464385 0.96491441 0.96518497 0.96531367\n",
            " 0.96599008 0.96612536 0.96666649 0.96693705 0.96706575 0.96758055\n",
            " 0.96771583 0.96785111 0.96810851 0.96851436 0.96864964 0.96878492\n",
            " 0.96891574 0.96932159 0.96945687 0.96959292 0.9697282  0.96986348\n",
            " 0.97024959 0.97037829 0.97050699 0.97063569 0.97077097 0.97089967\n",
            " 0.97102837 0.97116365 0.9712997  0.9714284  0.97156368 0.97182108\n",
            " 0.97194979 0.97220719 0.97233589 0.97246459 0.97259987 0.97273515\n",
            " 0.9728712  0.97314177 0.97327047 0.97340575 0.97354001 0.97366871\n",
            " 0.97380399 0.97394005 0.97407533 0.97421061 0.97434143 0.97447671\n",
            " 0.97460541 0.97474069 0.97487598 0.97500468 0.97513996 0.97526866\n",
            " 0.97540394 0.97580978 0.97662147 0.97702732 0.97728472 0.97742\n",
            " 0.97755528 0.97782584 0.97796112 0.97823169 0.97836774 0.97849644\n",
            " 0.97890228 0.97903098 0.97915968 0.97928838 0.97954578 0.97981789\n",
            " 0.97994659 0.98008265 0.98035321 0.98048849 0.98061719 0.98074589\n",
            " 0.98088117 0.98101646 0.98114516 0.98128044 0.981551   0.98168628\n",
            " 0.98181498 0.98195026 0.98207896 0.98220766 0.98233636 0.98247242\n",
            " 0.9826077  0.98274298 0.98287168 0.98300038 0.98313566 0.98339306\n",
            " 0.98366362 0.98379445 0.98379445 0.98379445 0.98406501 0.98420106\n",
            " 0.98433634 0.98446505 0.98472245 0.98485773 0.98498643 0.98512171\n",
            " 0.98525776 0.98538646 0.98551516 0.98564386 0.98577256 0.98590784\n",
            " 0.98604313 0.98617183 0.98630053 0.98642923 0.98656451 0.98669979\n",
            " 0.98682849 0.98708589 0.98721459 0.98734329 0.98747857 0.98760727\n",
            " 0.98773597 0.98786467 0.98812207 0.98825735 0.98852792 0.98865662\n",
            " 0.98878532 0.98891958 0.98904828 0.98917698 0.98931124 0.98943995\n",
            " 0.98957421 0.98970291 0.98983819 0.98996689 0.99009559 0.99022429\n",
            " 0.99035957 0.99049485 0.99063014 0.99075884 0.99101624 0.99115152\n",
            " 0.9912868  0.9914155  0.9915442  0.9916729  0.9918016  0.99193688\n",
            " 0.99206558 0.99219428 0.99232956 0.99258696 0.99272224 0.99297964\n",
            " 0.99311493 0.99325098 0.99337968 0.99351496 0.99364366 0.99377236\n",
            " 0.99390318 0.99390318 0.99403846 0.99416716 0.99429586 0.99442456\n",
            " 0.99455326 0.99468197 0.99495253 0.99508781 0.99521651 0.99521651\n",
            " 0.99521651 0.99534521 0.99547391 0.99547391 0.99547391 0.99560817\n",
            " 0.99573687 0.99573687 0.99573687 0.99586557 0.99600086 0.99613614\n",
            " 0.99626484 0.99639354 0.99652882 0.99665964 0.9967939  0.9967939\n",
            " 0.9967939  0.9967939  0.9967939  0.9967939  0.9967939  0.9967939\n",
            " 0.9967939  0.9969226  0.99705866 0.99719471 0.99732999 0.99745869\n",
            " 0.99759398 0.99759398 0.99759398 0.99759398 0.99759398 0.99772926\n",
            " 0.99772926 0.99772926 0.99772926 0.99772926 0.99772926 0.99772926\n",
            " 0.99772926 0.99786454 0.99786454 0.99786454 0.99786454 0.99786454\n",
            " 0.99786454 0.99786454 0.99786454 0.99786454 0.99786454 0.99786454\n",
            " 0.99786454 0.99786454 0.99786454 0.99786454 0.99786454 0.99786454\n",
            " 0.99786454 0.99786454 0.99786454 0.99799324 0.99799324 0.99799324\n",
            " 0.99812929 0.99826535 0.99826535 0.99826535 0.99839405 0.9985301\n",
            " 0.9986588  0.99879486 0.99893014 0.99906542 0.9992007  0.99933598\n",
            " 0.99947126 0.99959996 0.99973602 0.9998713  1.         1.        ]\n",
            "AUC =  0.9956994072080384\n"
          ]
        }
      ],
      "source": [
        "actual_classes = y_test_cv\n",
        "predicted_proba = y_test_prob\n",
        "\n",
        "fpr = dict()\n",
        "tpr = dict()\n",
        "roc_auc = dict()\n",
        "n_classes=14\n",
        "for i in range(n_classes):\n",
        "    fpr[i], tpr[i], _ = roc_curve(np.array(pd.get_dummies(actual_classes))[:, i], np.array(predicted_proba)[:, i])\n",
        "    roc_auc[i] = auc(fpr[i], tpr[i])\n",
        "#     print(\"fpr: \",fpr[i])\n",
        "#     print(\"tpr: \",tpr[i])\n",
        "#     print(\"roc_auc: \",roc_auc[i])\n",
        "\n",
        "all_fpr = np.unique(np.concatenate([fpr[i] for i in range(n_classes)]))\n",
        "print(\"all_fpr: \",all_fpr)\n",
        "mean_tpr = np.zeros_like(all_fpr)\n",
        "for i in range(n_classes):\n",
        "    mean_tpr += interp(all_fpr, fpr[i], tpr[i])\n",
        "mean_tpr /= n_classes\n",
        "\n",
        "fpr[\"macro\"] = all_fpr\n",
        "tpr[\"macro\"] = mean_tpr\n",
        "roc_auc[\"macro\"] = auc(fpr[\"macro\"], tpr[\"macro\"])\n",
        "print(\"mean_tpr: \",mean_tpr)\n",
        "print(\"AUC = \",roc_auc['macro'])"
      ],
      "id": "804ffd5e"
    },
    {
      "cell_type": "code",
      "execution_count": 35,
      "metadata": {
        "id": "f028e956"
      },
      "outputs": [],
      "source": [
        "roc_csv = pd.DataFrame()\n",
        "roc_csv[\"FPR(Macro)\"] = all_fpr\n",
        "roc_csv[\"TPR(Macro)\"] = mean_tpr"
      ],
      "id": "f028e956"
    },
    {
      "cell_type": "code",
      "execution_count": 36,
      "metadata": {
        "id": "769b9265"
      },
      "outputs": [],
      "source": [
        "roc_csv.to_csv(\"filename\", index=False)"
      ],
      "id": "769b9265"
    },
    {
      "cell_type": "code",
      "execution_count": 37,
      "metadata": {
        "colab": {
          "base_uri": "https://localhost:8080/",
          "height": 487
        },
        "id": "4okoIVD-OLTe",
        "outputId": "e14bcd9b-7b32-4015-d7b5-2c0007e8e5b8"
      },
      "outputs": [
        {
          "output_type": "display_data",
          "data": {
            "text/plain": [
              "<Figure size 700x500 with 2 Axes>"
            ],
            "image/png": "[encoded data removed]"
          },
          "metadata": {}
        }
      ],
      "source": [
        "import matplotlib.pyplot as plt\n",
        "import seaborn as sns\n",
        "from sklearn.metrics import confusion_matrix\n",
        "from sklearn.metrics import ConfusionMatrixDisplay\n",
        "import numpy as np\n",
        "\n",
        "\n",
        "# Normalize the confusion matrix\n",
        "cm_normalized = cm.astype('float') / cm.sum(axis=1)[:, np.newaxis]\n",
        "\n",
        "# Plot the normalized confusion matrix heatmap\n",
        "plt.figure(figsize=(7, 5))\n",
        "sns.heatmap(cm_normalized, annot=True, fmt='.2f', cmap='Blues', xticklabels=range(14), yticklabels=range(14))\n",
        "plt.xlabel('Predicted Labels')\n",
        "plt.ylabel('True Labels')\n",
        "plt.title('Normalized Confusion Matrix Heatmap')\n",
        "plt.show()\n"
      ],
      "id": "4okoIVD-OLTe"
    }
  ],
  "metadata": {
    "colab": {
      "provenance": [],
      "include_colab_link": true
    },
    "kernelspec": {
      "display_name": "Python 3",
      "language": "python",
      "name": "python3"
    },
    "language_info": {
      "codemirror_mode": {
        "name": "ipython",
        "version": 3
      },
      "file_extension": ".py",
      "mimetype": "text/x-python",
      "name": "python",
      "nbconvert_exporter": "python",
      "pygments_lexer": "ipython3",
      "version": "3.8.8"
    }
  },
  "nbformat": 4,
  "nbformat_minor": 5
}