{
  "cells": [
    {
      "cell_type": "markdown",
      "metadata": {
        "id": "view-in-github",
        "colab_type": "text"
      },
      "source": [
        "<a href=\"https://colab.research.google.com/github/tirtha0809/Machine-Learning/blob/main/LandSlide_RF_SMOTE.ipynb\" target=\"_parent\"><img src=\"https://colab.research.google.com/assets/colab-badge.svg\" alt=\"Open In Colab\"/></a>"
      ]
    },
    {
      "cell_type": "markdown",
      "metadata": {
        "id": "Ve6g9aWWwlbD"
      },
      "source": [
        "## Importing the libraries"
      ]
    },
    {
      "cell_type": "code",
      "execution_count": 89,
      "metadata": {
        "id": "4a41kCAxwhbK"
      },
      "outputs": [],
      "source": [
        "import numpy as np\n",
        "import matplotlib.pyplot as plt\n",
        "import pandas as pd\n",
        "from imblearn.over_sampling import SMOTE\n",
        "import time"
      ]
    },
    {
      "cell_type": "code",
      "execution_count": 90,
      "metadata": {
        "colab": {
          "base_uri": "https://localhost:8080/"
        },
        "id": "YI8glgJqDLRp",
        "outputId": "09aacc07-b39b-4b8c-ef94-40c5d533050f"
      },
      "outputs": [
        {
          "output_type": "stream",
          "name": "stdout",
          "text": [
            "Drive already mounted at /content/drive; to attempt to forcibly remount, call drive.mount(\"/content/drive\", force_remount=True).\n"
          ]
        }
      ],
      "source": [
        "from google.colab import drive\n",
        "drive.mount('/content/drive')"
      ]
    },
    {
      "cell_type": "markdown",
      "metadata": {
        "id": "XAHovqWUwr72"
      },
      "source": [
        "##Importing the dataset"
      ]
    },
    {
      "cell_type": "code",
      "execution_count": 91,
      "metadata": {
        "colab": {
          "base_uri": "https://localhost:8080/"
        },
        "id": "ogR7ZQ-zwuil",
        "outputId": "9e2aed48-4b0d-4913-ae90-34e708a7cdf7"
      },
      "outputs": [
        {
          "output_type": "execute_result",
          "data": {
            "text/plain": [
              "688104"
            ]
          },
          "metadata": {},
          "execution_count": 91
        }
      ],
      "source": [
        "df = pd.read_csv('/content/drive/MyDrive/LANDSLIDE/LandslideData .csv')\n",
        "df.size"
      ]
    },
    {
      "cell_type": "markdown",
      "metadata": {
        "id": "3TYf8Fz76vjM"
      },
      "source": [
        "##Taking care of missing value"
      ]
    },
    {
      "cell_type": "code",
      "execution_count": 92,
      "metadata": {
        "id": "sDnk8xea5yWr"
      },
      "outputs": [],
      "source": [
        "df.dropna(inplace=True)"
      ]
    },
    {
      "cell_type": "code",
      "execution_count": 93,
      "metadata": {
        "colab": {
          "base_uri": "https://localhost:8080/",
          "height": 273
        },
        "id": "LbP3S4dU1bjV",
        "outputId": "24ce35fd-28de-418d-83fb-ce543e8689af"
      },
      "outputs": [
        {
          "output_type": "execute_result",
          "data": {
            "text/plain": [
              "    Index  landslide_category  landslide_size  fatality_count  Latitude  \\\n",
              "0  1858.0                 7.0             2.0             0.0     16.92   \n",
              "1  1141.0                 6.0             2.0             4.0     30.38   \n",
              "4    55.0                 6.0             1.0             0.0     42.97   \n",
              "5  4000.0                 6.0             2.0             2.0     37.75   \n",
              "6  5609.0                 7.0             3.0             0.0     47.27   \n",
              "\n",
              "   Longitude  temp-2  temp-1  temp-0  maxt-2  ...  avgslope  LC_Type1_mean  \\\n",
              "0      73.59    26.3    26.5    26.2    27.7  ...    27.875       9.000000   \n",
              "1      78.09    26.7    27.2    25.8    28.1  ...    81.375       9.000000   \n",
              "4    -124.01    11.8     8.3     7.8    14.7  ...    88.875       1.000000   \n",
              "5     -25.20    14.0    14.1    15.8    17.0  ...   167.000       7.058824   \n",
              "6    -122.26    11.4    11.3    10.6    14.8  ...    40.000       6.764706   \n",
              "\n",
              "   LST_Day_1km_mean  NDVI_mean  NDWI_mean     aspect  elevation  \\\n",
              "0       15585.75010   0.276409   0.076935   85.79104       68.0   \n",
              "1       15080.14281   0.256626   0.161844  240.09620      828.0   \n",
              "4       14795.41238   0.490961   0.363601  173.99826       75.0   \n",
              "5       14609.53463   0.396181   0.306116   89.37942       68.0   \n",
              "6       14744.06481   0.352804   0.292128  110.89202       40.0   \n",
              "\n",
              "   precipitation_sum      slope  landslide_trigger  \n",
              "0        76083.62956  12.437977                1.0  \n",
              "1        49711.02632   3.715572                1.0  \n",
              "4        47384.80481  11.947599                1.0  \n",
              "5        20904.96219  56.214066                1.0  \n",
              "6        28623.51198  22.222166                1.0  \n",
              "\n",
              "[5 rows x 114 columns]"
            ],
            "text/html": [
              "\n",
              "  <div id=\"df-433cbe7d-5a7c-4349-a6e6-de3509c04073\" class=\"colab-df-container\">\n",
              "    <div>\n",
              "<style scoped>\n",
              "    .dataframe tbody tr th:only-of-type {\n",
              "        vertical-align: middle;\n",
              "    }\n",
              "\n",
              "    .dataframe tbody tr th {\n",
              "        vertical-align: top;\n",
              "    }\n",
              "\n",
              "    .dataframe thead th {\n",
              "        text-align: right;\n",
              "    }\n",
              "</style>\n",
              "<table border=\"1\" class=\"dataframe\">\n",
              "  <thead>\n",
              "    <tr style=\"text-align: right;\">\n",
              "      <th></th>\n",
              "      <th>Index</th>\n",
              "      <th>landslide_category</th>\n",
              "      <th>landslide_size</th>\n",
              "      <th>fatality_count</th>\n",
              "      <th>Latitude</th>\n",
              "      <th>Longitude</th>\n",
              "      <th>temp-2</th>\n",
              "      <th>temp-1</th>\n",
              "      <th>temp-0</th>\n",
              "      <th>maxt-2</th>\n",
              "      <th>...</th>\n",
              "      <th>avgslope</th>\n",
              "      <th>LC_Type1_mean</th>\n",
              "      <th>LST_Day_1km_mean</th>\n",
              "      <th>NDVI_mean</th>\n",
              "      <th>NDWI_mean</th>\n",
              "      <th>aspect</th>\n",
              "      <th>elevation</th>\n",
              "      <th>precipitation_sum</th>\n",
              "      <th>slope</th>\n",
              "      <th>landslide_trigger</th>\n",
              "    </tr>\n",
              "  </thead>\n",
              "  <tbody>\n",
              "    <tr>\n",
              "      <th>0</th>\n",
              "      <td>1858.0</td>\n",
              "      <td>7.0</td>\n",
              "      <td>2.0</td>\n",
              "      <td>0.0</td>\n",
              "      <td>16.92</td>\n",
              "      <td>73.59</td>\n",
              "      <td>26.3</td>\n",
              "      <td>26.5</td>\n",
              "      <td>26.2</td>\n",
              "      <td>27.7</td>\n",
              "      <td>...</td>\n",
              "      <td>27.875</td>\n",
              "      <td>9.000000</td>\n",
              "      <td>15585.75010</td>\n",
              "      <td>0.276409</td>\n",
              "      <td>0.076935</td>\n",
              "      <td>85.79104</td>\n",
              "      <td>68.0</td>\n",
              "      <td>76083.62956</td>\n",
              "      <td>12.437977</td>\n",
              "      <td>1.0</td>\n",
              "    </tr>\n",
              "    <tr>\n",
              "      <th>1</th>\n",
              "      <td>1141.0</td>\n",
              "      <td>6.0</td>\n",
              "      <td>2.0</td>\n",
              "      <td>4.0</td>\n",
              "      <td>30.38</td>\n",
              "      <td>78.09</td>\n",
              "      <td>26.7</td>\n",
              "      <td>27.2</td>\n",
              "      <td>25.8</td>\n",
              "      <td>28.1</td>\n",
              "      <td>...</td>\n",
              "      <td>81.375</td>\n",
              "      <td>9.000000</td>\n",
              "      <td>15080.14281</td>\n",
              "      <td>0.256626</td>\n",
              "      <td>0.161844</td>\n",
              "      <td>240.09620</td>\n",
              "      <td>828.0</td>\n",
              "      <td>49711.02632</td>\n",
              "      <td>3.715572</td>\n",
              "      <td>1.0</td>\n",
              "    </tr>\n",
              "    <tr>\n",
              "      <th>4</th>\n",
              "      <td>55.0</td>\n",
              "      <td>6.0</td>\n",
              "      <td>1.0</td>\n",
              "      <td>0.0</td>\n",
              "      <td>42.97</td>\n",
              "      <td>-124.01</td>\n",
              "      <td>11.8</td>\n",
              "      <td>8.3</td>\n",
              "      <td>7.8</td>\n",
              "      <td>14.7</td>\n",
              "      <td>...</td>\n",
              "      <td>88.875</td>\n",
              "      <td>1.000000</td>\n",
              "      <td>14795.41238</td>\n",
              "      <td>0.490961</td>\n",
              "      <td>0.363601</td>\n",
              "      <td>173.99826</td>\n",
              "      <td>75.0</td>\n",
              "      <td>47384.80481</td>\n",
              "      <td>11.947599</td>\n",
              "      <td>1.0</td>\n",
              "    </tr>\n",
              "    <tr>\n",
              "      <th>5</th>\n",
              "      <td>4000.0</td>\n",
              "      <td>6.0</td>\n",
              "      <td>2.0</td>\n",
              "      <td>2.0</td>\n",
              "      <td>37.75</td>\n",
              "      <td>-25.20</td>\n",
              "      <td>14.0</td>\n",
              "      <td>14.1</td>\n",
              "      <td>15.8</td>\n",
              "      <td>17.0</td>\n",
              "      <td>...</td>\n",
              "      <td>167.000</td>\n",
              "      <td>7.058824</td>\n",
              "      <td>14609.53463</td>\n",
              "      <td>0.396181</td>\n",
              "      <td>0.306116</td>\n",
              "      <td>89.37942</td>\n",
              "      <td>68.0</td>\n",
              "      <td>20904.96219</td>\n",
              "      <td>56.214066</td>\n",
              "      <td>1.0</td>\n",
              "    </tr>\n",
              "    <tr>\n",
              "      <th>6</th>\n",
              "      <td>5609.0</td>\n",
              "      <td>7.0</td>\n",
              "      <td>3.0</td>\n",
              "      <td>0.0</td>\n",
              "      <td>47.27</td>\n",
              "      <td>-122.26</td>\n",
              "      <td>11.4</td>\n",
              "      <td>11.3</td>\n",
              "      <td>10.6</td>\n",
              "      <td>14.8</td>\n",
              "      <td>...</td>\n",
              "      <td>40.000</td>\n",
              "      <td>6.764706</td>\n",
              "      <td>14744.06481</td>\n",
              "      <td>0.352804</td>\n",
              "      <td>0.292128</td>\n",
              "      <td>110.89202</td>\n",
              "      <td>40.0</td>\n",
              "      <td>28623.51198</td>\n",
              "      <td>22.222166</td>\n",
              "      <td>1.0</td>\n",
              "    </tr>\n",
              "  </tbody>\n",
              "</table>\n",
              "<p>5 rows × 114 columns</p>\n",
              "</div>\n",
              "    <div class=\"colab-df-buttons\">\n",
              "\n",
              "  <div class=\"colab-df-container\">\n",
              "    <button class=\"colab-df-convert\" onclick=\"convertToInteractive('df-433cbe7d-5a7c-4349-a6e6-de3509c04073')\"\n",
              "            title=\"Convert this dataframe to an interactive table.\"\n",
              "            style=\"display:none;\">\n",
              "\n",
              "  <svg xmlns=\"http://www.w3.org/2000/svg\" height=\"24px\" viewBox=\"0 -960 960 960\">\n",
              "    <path d=\"M120-120v-720h720v720H120Zm60-500h600v-160H180v160Zm220 220h160v-160H400v160Zm0 220h160v-160H400v160ZM180-400h160v-160H180v160Zm440 0h160v-160H620v160ZM180-180h160v-160H180v160Zm440 0h160v-160H620v160Z\"/>\n",
              "  </svg>\n",
              "    </button>\n",
              "\n",
              "  <style>\n",
              "    .colab-df-container {\n",
              "      display:flex;\n",
              "      gap: 12px;\n",
              "    }\n",
              "\n",
              "    .colab-df-convert {\n",
              "      background-color: #E8F0FE;\n",
              "      border: none;\n",
              "      border-radius: 50%;\n",
              "      cursor: pointer;\n",
              "      display: none;\n",
              "      fill: #1967D2;\n",
              "      height: 32px;\n",
              "      padding: 0 0 0 0;\n",
              "      width: 32px;\n",
              "    }\n",
              "\n",
              "    .colab-df-convert:hover {\n",
              "      background-color: #E2EBFA;\n",
              "      box-shadow: 0px 1px 2px rgba(60, 64, 67, 0.3), 0px 1px 3px 1px rgba(60, 64, 67, 0.15);\n",
              "      fill: #174EA6;\n",
              "    }\n",
              "\n",
              "    .colab-df-buttons div {\n",
              "      margin-bottom: 4px;\n",
              "    }\n",
              "\n",
              "    [theme=dark] .colab-df-convert {\n",
              "      background-color: #3B4455;\n",
              "      fill: #D2E3FC;\n",
              "    }\n",
              "\n",
              "    [theme=dark] .colab-df-convert:hover {\n",
              "      background-color: #434B5C;\n",
              "      box-shadow: 0px 1px 3px 1px rgba(0, 0, 0, 0.15);\n",
              "      filter: drop-shadow(0px 1px 2px rgba(0, 0, 0, 0.3));\n",
              "      fill: #FFFFFF;\n",
              "    }\n",
              "  </style>\n",
              "\n",
              "    <script>\n",
              "      const buttonEl =\n",
              "        document.querySelector('#df-433cbe7d-5a7c-4349-a6e6-de3509c04073 button.colab-df-convert');\n",
              "      buttonEl.style.display =\n",
              "        google.colab.kernel.accessAllowed ? 'block' : 'none';\n",
              "\n",
              "      async function convertToInteractive(key) {\n",
              "        const element = document.querySelector('#df-433cbe7d-5a7c-4349-a6e6-de3509c04073');\n",
              "        const dataTable =\n",
              "          await google.colab.kernel.invokeFunction('convertToInteractive',\n",
              "                                                    [key], {});\n",
              "        if (!dataTable) return;\n",
              "\n",
              "        const docLinkHtml = 'Like what you see? Visit the ' +\n",
              "          '<a target=\"_blank\" href=https://colab.research.google.com/notebooks/data_table.ipynb>data table notebook</a>'\n",
              "          + ' to learn more about interactive tables.';\n",
              "        element.innerHTML = '';\n",
              "        dataTable['output_type'] = 'display_data';\n",
              "        await google.colab.output.renderOutput(dataTable, element);\n",
              "        const docLink = document.createElement('div');\n",
              "        docLink.innerHTML = docLinkHtml;\n",
              "        element.appendChild(docLink);\n",
              "      }\n",
              "    </script>\n",
              "  </div>\n",
              "\n",
              "\n",
              "<div id=\"df-cb251183-cee9-406b-9ea5-011849f78a8c\">\n",
              "  <button class=\"colab-df-quickchart\" onclick=\"quickchart('df-cb251183-cee9-406b-9ea5-011849f78a8c')\"\n",
              "            title=\"Suggest charts\"\n",
              "            style=\"display:none;\">\n",
              "\n",
              "<svg xmlns=\"http://www.w3.org/2000/svg\" height=\"24px\"viewBox=\"0 0 24 24\"\n",
              "     width=\"24px\">\n",
              "    <g>\n",
              "        <path d=\"M19 3H5c-1.1 0-2 .9-2 2v14c0 1.1.9 2 2 2h14c1.1 0 2-.9 2-2V5c0-1.1-.9-2-2-2zM9 17H7v-7h2v7zm4 0h-2V7h2v10zm4 0h-2v-4h2v4z\"/>\n",
              "    </g>\n",
              "</svg>\n",
              "  </button>\n",
              "\n",
              "<style>\n",
              "  .colab-df-quickchart {\n",
              "      --bg-color: #E8F0FE;\n",
              "      --fill-color: #1967D2;\n",
              "      --hover-bg-color: #E2EBFA;\n",
              "      --hover-fill-color: #174EA6;\n",
              "      --disabled-fill-color: #AAA;\n",
              "      --disabled-bg-color: #DDD;\n",
              "  }\n",
              "\n",
              "  [theme=dark] .colab-df-quickchart {\n",
              "      --bg-color: #3B4455;\n",
              "      --fill-color: #D2E3FC;\n",
              "      --hover-bg-color: #434B5C;\n",
              "      --hover-fill-color: #FFFFFF;\n",
              "      --disabled-bg-color: #3B4455;\n",
              "      --disabled-fill-color: #666;\n",
              "  }\n",
              "\n",
              "  .colab-df-quickchart {\n",
              "    background-color: var(--bg-color);\n",
              "    border: none;\n",
              "    border-radius: 50%;\n",
              "    cursor: pointer;\n",
              "    display: none;\n",
              "    fill: var(--fill-color);\n",
              "    height: 32px;\n",
              "    padding: 0;\n",
              "    width: 32px;\n",
              "  }\n",
              "\n",
              "  .colab-df-quickchart:hover {\n",
              "    background-color: var(--hover-bg-color);\n",
              "    box-shadow: 0 1px 2px rgba(60, 64, 67, 0.3), 0 1px 3px 1px rgba(60, 64, 67, 0.15);\n",
              "    fill: var(--button-hover-fill-color);\n",
              "  }\n",
              "\n",
              "  .colab-df-quickchart-complete:disabled,\n",
              "  .colab-df-quickchart-complete:disabled:hover {\n",
              "    background-color: var(--disabled-bg-color);\n",
              "    fill: var(--disabled-fill-color);\n",
              "    box-shadow: none;\n",
              "  }\n",
              "\n",
              "  .colab-df-spinner {\n",
              "    border: 2px solid var(--fill-color);\n",
              "    border-color: transparent;\n",
              "    border-bottom-color: var(--fill-color);\n",
              "    animation:\n",
              "      spin 1s steps(1) infinite;\n",
              "  }\n",
              "\n",
              "  @keyframes spin {\n",
              "    0% {\n",
              "      border-color: transparent;\n",
              "      border-bottom-color: var(--fill-color);\n",
              "      border-left-color: var(--fill-color);\n",
              "    }\n",
              "    20% {\n",
              "      border-color: transparent;\n",
              "      border-left-color: var(--fill-color);\n",
              "      border-top-color: var(--fill-color);\n",
              "    }\n",
              "    30% {\n",
              "      border-color: transparent;\n",
              "      border-left-color: var(--fill-color);\n",
              "      border-top-color: var(--fill-color);\n",
              "      border-right-color: var(--fill-color);\n",
              "    }\n",
              "    40% {\n",
              "      border-color: transparent;\n",
              "      border-right-color: var(--fill-color);\n",
              "      border-top-color: var(--fill-color);\n",
              "    }\n",
              "    60% {\n",
              "      border-color: transparent;\n",
              "      border-right-color: var(--fill-color);\n",
              "    }\n",
              "    80% {\n",
              "      border-color: transparent;\n",
              "      border-right-color: var(--fill-color);\n",
              "      border-bottom-color: var(--fill-color);\n",
              "    }\n",
              "    90% {\n",
              "      border-color: transparent;\n",
              "      border-bottom-color: var(--fill-color);\n",
              "    }\n",
              "  }\n",
              "</style>\n",
              "\n",
              "  <script>\n",
              "    async function quickchart(key) {\n",
              "      const quickchartButtonEl =\n",
              "        document.querySelector('#' + key + ' button');\n",
              "      quickchartButtonEl.disabled = true;  // To prevent multiple clicks.\n",
              "      quickchartButtonEl.classList.add('colab-df-spinner');\n",
              "      try {\n",
              "        const charts = await google.colab.kernel.invokeFunction(\n",
              "            'suggestCharts', [key], {});\n",
              "      } catch (error) {\n",
              "        console.error('Error during call to suggestCharts:', error);\n",
              "      }\n",
              "      quickchartButtonEl.classList.remove('colab-df-spinner');\n",
              "      quickchartButtonEl.classList.add('colab-df-quickchart-complete');\n",
              "    }\n",
              "    (() => {\n",
              "      let quickchartButtonEl =\n",
              "        document.querySelector('#df-cb251183-cee9-406b-9ea5-011849f78a8c button');\n",
              "      quickchartButtonEl.style.display =\n",
              "        google.colab.kernel.accessAllowed ? 'block' : 'none';\n",
              "    })();\n",
              "  </script>\n",
              "</div>\n",
              "\n",
              "    </div>\n",
              "  </div>\n"
            ],
            "application/vnd.google.colaboratory.intrinsic+json": {
              "type": "dataframe",
              "variable_name": "df"
            }
          },
          "metadata": {},
          "execution_count": 93
        }
      ],
      "source": [
        "df.head()"
      ]
    },
    {
      "cell_type": "code",
      "execution_count": 94,
      "metadata": {
        "colab": {
          "base_uri": "https://localhost:8080/"
        },
        "id": "Dz2mMReY5PTc",
        "outputId": "8bfbef7a-d950-4497-b895-8d97e1c5bf6c"
      },
      "outputs": [
        {
          "output_type": "execute_result",
          "data": {
            "text/plain": [
              "454974"
            ]
          },
          "metadata": {},
          "execution_count": 94
        }
      ],
      "source": [
        "df.size"
      ]
    },
    {
      "cell_type": "code",
      "execution_count": 95,
      "metadata": {
        "id": "dEYWEKm06Fdu"
      },
      "outputs": [],
      "source": [
        "x = df.iloc[:,1:-1].values\n",
        "y= df.iloc[:,-1].values\n",
        "smote= SMOTE(k_neighbors = 3)\n",
        "x_smote,y_smote = smote.fit_resample(x,y)"
      ]
    },
    {
      "cell_type": "code",
      "execution_count": 96,
      "metadata": {
        "colab": {
          "base_uri": "https://localhost:8080/"
        },
        "id": "P3_kLn8eTlgM",
        "outputId": "a57e7513-b940-4805-b289-a0dbc666b009"
      },
      "outputs": [
        {
          "output_type": "stream",
          "name": "stdout",
          "text": [
            "3991\n"
          ]
        }
      ],
      "source": [
        "print(len(y))\n"
      ]
    },
    {
      "cell_type": "code",
      "execution_count": 97,
      "metadata": {
        "colab": {
          "base_uri": "https://localhost:8080/"
        },
        "id": "rZ1s7xnP7R9k",
        "outputId": "9ece0c22-7f08-4546-8f5f-87d64e7cde92"
      },
      "outputs": [
        {
          "output_type": "stream",
          "name": "stdout",
          "text": [
            "[[7.00000000e+00 2.00000000e+00 0.00000000e+00 ... 6.80000000e+01\n",
            "  7.60836296e+04 1.24379770e+01]\n",
            " [6.00000000e+00 2.00000000e+00 4.00000000e+00 ... 8.28000000e+02\n",
            "  4.97110263e+04 3.71557240e+00]\n",
            " [6.00000000e+00 1.00000000e+00 0.00000000e+00 ... 7.50000000e+01\n",
            "  4.73848048e+04 1.19475990e+01]\n",
            " ...\n",
            " [7.00000000e+00 2.00000000e+00 0.00000000e+00 ... 9.10000000e+01\n",
            "  3.59366855e+04 0.00000000e+00]\n",
            " [7.00000000e+00 2.00000000e+00 0.00000000e+00 ... 2.49000000e+02\n",
            "  3.42958039e+04 1.75379300e+01]\n",
            " [6.00000000e+00 2.00000000e+00 0.00000000e+00 ... 9.90000000e+01\n",
            "  2.58763367e+04 8.28910000e+00]]\n"
          ]
        }
      ],
      "source": [
        "print(x)"
      ]
    },
    {
      "cell_type": "code",
      "execution_count": 98,
      "metadata": {
        "colab": {
          "base_uri": "https://localhost:8080/"
        },
        "id": "p0Ab5_X99k0r",
        "outputId": "41e36b86-5569-45cc-d024-61d61911fa69"
      },
      "outputs": [
        {
          "output_type": "stream",
          "name": "stdout",
          "text": [
            "[ 1.  1.  1. ... 12. 12. 12.]\n"
          ]
        }
      ],
      "source": [
        "print(y)"
      ]
    },
    {
      "cell_type": "markdown",
      "metadata": {
        "id": "ItKQ-24Q9kFU"
      },
      "source": [
        "## Splitting the dataset into the Training set and Test set"
      ]
    },
    {
      "cell_type": "code",
      "execution_count": 99,
      "metadata": {
        "id": "UP4h1DE_-QMy"
      },
      "outputs": [],
      "source": [
        "from sklearn.model_selection import train_test_split\n",
        "x_train,x_test,y_train,y_test = train_test_split(x_smote,y_smote,test_size = 0.30,random_state=0)"
      ]
    },
    {
      "cell_type": "code",
      "source": [
        "unique_y = np.unique(y_train)\n",
        "print(unique_y)"
      ],
      "metadata": {
        "colab": {
          "base_uri": "https://localhost:8080/"
        },
        "id": "BNAAZPTWn5JS",
        "outputId": "8a283619-19fa-4869-c7fc-4308ad2bb2c5"
      },
      "execution_count": 100,
      "outputs": [
        {
          "output_type": "stream",
          "name": "stdout",
          "text": [
            "[ 1.  2.  3.  4.  5.  6.  7.  8.  9. 10. 11. 12.]\n"
          ]
        }
      ]
    },
    {
      "cell_type": "code",
      "execution_count": 101,
      "metadata": {
        "colab": {
          "base_uri": "https://localhost:8080/"
        },
        "id": "5m789z7X-fWU",
        "outputId": "00de4aff-7124-41bb-8743-3af922ad2e0e"
      },
      "outputs": [
        {
          "output_type": "stream",
          "name": "stdout",
          "text": [
            "[[6.00000000e+00 2.00000000e+00 3.61236320e-03 ... 2.12674887e+02\n",
            "  5.71943802e+04 3.25854964e+01]\n",
            " [3.79334781e+00 1.55866956e+00 2.44133044e+00 ... 2.44984295e+02\n",
            "  6.73119344e+04 5.93672065e+00]\n",
            " [6.06190370e+00 2.00000000e+00 2.81428889e+00 ... 1.56688640e+03\n",
            "  1.89746645e+04 1.82006053e+01]\n",
            " ...\n",
            " [7.00000000e+00 2.00000000e+00 7.06923890e-01 ... 2.83560518e+02\n",
            "  2.44250521e+04 1.31633727e+01]\n",
            " [9.58714256e+00 2.13761915e+00 0.00000000e+00 ... 3.61109719e+01\n",
            "  4.89714139e+04 3.92890559e+00]\n",
            " [6.00000000e+00 2.00000000e+00 0.00000000e+00 ... 1.19000000e+02\n",
            "  9.06664130e+04 2.73049600e+01]]\n"
          ]
        }
      ],
      "source": [
        "print(x_train)"
      ]
    },
    {
      "cell_type": "code",
      "execution_count": 102,
      "metadata": {
        "colab": {
          "base_uri": "https://localhost:8080/"
        },
        "id": "HcZhlTrw-fRM",
        "outputId": "193cfa2a-7613-45be-c587-6a78dba8b9d5"
      },
      "outputs": [
        {
          "output_type": "stream",
          "name": "stdout",
          "text": [
            "[[6.00000000e+00 2.00000000e+00 4.20751312e-01 ... 1.29588189e+02\n",
            "  4.94958649e+04 5.13374155e+00]\n",
            " [7.01547122e+00 2.00000000e+00 2.08917015e+01 ... 8.11998112e+02\n",
            "  4.59546152e+04 3.07818105e+01]\n",
            " [7.35403157e+00 2.45134386e+00 0.00000000e+00 ... 2.13870243e+02\n",
            "  7.47723757e+04 1.10232431e+00]\n",
            " ...\n",
            " [6.00000000e+00 2.00000000e+00 5.05495620e-01 ... 8.83856810e+02\n",
            "  4.67618644e+04 2.73307034e+01]\n",
            " [6.00000000e+00 2.22960821e+00 0.00000000e+00 ... 1.07947688e+03\n",
            "  3.69824999e+04 1.90623471e+01]\n",
            " [3.00000000e+00 2.00000000e+00 0.00000000e+00 ... 1.42700000e+03\n",
            "  7.39218079e+04 7.43369200e+00]]\n"
          ]
        }
      ],
      "source": [
        "print(x_test)"
      ]
    },
    {
      "cell_type": "code",
      "execution_count": 103,
      "metadata": {
        "colab": {
          "base_uri": "https://localhost:8080/"
        },
        "id": "zFPA5WvI-fJz",
        "outputId": "84b5c916-6e66-4c2c-e223-c7de30f1106e"
      },
      "outputs": [
        {
          "output_type": "stream",
          "name": "stdout",
          "text": [
            "[ 4. 10. 11. ...  4.  5.  9.]\n"
          ]
        }
      ],
      "source": [
        "print(y_train)"
      ]
    },
    {
      "cell_type": "code",
      "execution_count": 104,
      "metadata": {
        "colab": {
          "base_uri": "https://localhost:8080/"
        },
        "id": "a0S1ZkjX-e1u",
        "outputId": "052cfdbb-2536-4597-bc6f-ae3cba7dd708"
      },
      "outputs": [
        {
          "output_type": "stream",
          "name": "stdout",
          "text": [
            "[11.  6.  4. ...  1.  4.  3.]\n"
          ]
        }
      ],
      "source": [
        "print(y_test)"
      ]
    },
    {
      "cell_type": "markdown",
      "metadata": {
        "id": "hPsh6a6H_Iw4"
      },
      "source": [
        "## Feature Scaling"
      ]
    },
    {
      "cell_type": "code",
      "execution_count": 105,
      "metadata": {
        "id": "fgQ5D187_KPS"
      },
      "outputs": [],
      "source": [
        "from sklearn.preprocessing import StandardScaler\n",
        "sc = StandardScaler()\n",
        "x_train = sc.fit_transform(x_train)\n",
        "x_test = sc.transform(x_test)"
      ]
    },
    {
      "cell_type": "code",
      "execution_count": 106,
      "metadata": {
        "colab": {
          "base_uri": "https://localhost:8080/"
        },
        "id": "TvmsvQ8-APUk",
        "outputId": "24fedd62-b057-4781-dbc0-c98adfde40be"
      },
      "outputs": [
        {
          "output_type": "stream",
          "name": "stdout",
          "text": [
            "[[-0.40479579 -0.49349711 -0.16715248 ... -0.63820108  0.48274701\n",
            "   1.73312154]\n",
            " [-2.37324414 -1.45847871  0.17029236 ... -0.58143944  0.88452009\n",
            "  -1.04744832]\n",
            " [-0.34957447 -0.49349711  0.2219197  ...  1.7408975  -1.03497679\n",
            "   0.23218225]\n",
            " ...\n",
            " [ 0.48725614 -0.49349711 -0.06979551 ... -0.51366817 -0.81853921\n",
            "  -0.29340952]\n",
            " [ 2.79512165 -0.19258891 -0.16765253 ... -0.94839115  0.15620896\n",
            "  -1.2569465 ]\n",
            " [-0.40479579 -0.49349711 -0.16765253 ... -0.80277049  1.81193799\n",
            "   1.18214312]]\n"
          ]
        }
      ],
      "source": [
        "print(x_train)"
      ]
    },
    {
      "cell_type": "code",
      "execution_count": 107,
      "metadata": {
        "colab": {
          "base_uri": "https://localhost:8080/"
        },
        "id": "lDmZmYwVAQXH",
        "outputId": "4712131e-85ed-43ad-c21e-798363dcd476"
      },
      "outputs": [
        {
          "output_type": "stream",
          "name": "stdout",
          "text": [
            "[[-0.40479579 -0.49349711 -0.10940939 ... -0.78416901  0.17703517\n",
            "  -1.13123226]\n",
            " [ 0.50105727 -0.49349711  2.72431311 ...  0.41469872  0.03641039\n",
            "   1.54492249]\n",
            " [ 0.80307069  0.49337913 -0.16765253 ... -0.63610106  1.18077791\n",
            "  -1.55187587]\n",
            " ...\n",
            " [-0.40479579 -0.49349711 -0.09767853 ...  0.54094113  0.06846665\n",
            "   1.18482922]\n",
            " [-0.40479579  0.0085478  -0.16765253 ...  0.88460934 -0.31987675\n",
            "   0.32209757]\n",
            " [-3.08095158 -0.49349711 -0.16765253 ...  1.49514302  1.14700144\n",
            "  -0.89125227]]\n"
          ]
        }
      ],
      "source": [
        "print(x_test)"
      ]
    },
    {
      "cell_type": "markdown",
      "metadata": {
        "id": "KglIYDPsAnzv"
      },
      "source": [
        "## Training the Random forest model on the Training set"
      ]
    },
    {
      "cell_type": "code",
      "execution_count": 108,
      "metadata": {
        "id": "SMNHDz4nUcbG"
      },
      "outputs": [],
      "source": [
        "start = time.time()"
      ]
    },
    {
      "cell_type": "code",
      "execution_count": 109,
      "metadata": {
        "colab": {
          "base_uri": "https://localhost:8080/",
          "height": 74
        },
        "id": "4jqLvkI_ATM5",
        "outputId": "3a96609b-404c-4031-d18a-f524b9dcacbf"
      },
      "outputs": [
        {
          "output_type": "execute_result",
          "data": {
            "text/plain": [
              "RandomForestClassifier(criterion='entropy', random_state=1)"
            ],
            "text/html": [
              "<style>#sk-container-id-3 {color: black;background-color: white;}#sk-container-id-3 pre{padding: 0;}#sk-container-id-3 div.sk-toggleable {background-color: white;}#sk-container-id-3 label.sk-toggleable__label {cursor: pointer;display: block;width: 100%;margin-bottom: 0;padding: 0.3em;box-sizing: border-box;text-align: center;}#sk-container-id-3 label.sk-toggleable__label-arrow:before {content: \"▸\";float: left;margin-right: 0.25em;color: #696969;}#sk-container-id-3 label.sk-toggleable__label-arrow:hover:before {color: black;}#sk-container-id-3 div.sk-estimator:hover label.sk-toggleable__label-arrow:before {color: black;}#sk-container-id-3 div.sk-toggleable__content {max-height: 0;max-width: 0;overflow: hidden;text-align: left;background-color: #f0f8ff;}#sk-container-id-3 div.sk-toggleable__content pre {margin: 0.2em;color: black;border-radius: 0.25em;background-color: #f0f8ff;}#sk-container-id-3 input.sk-toggleable__control:checked~div.sk-toggleable__content {max-height: 200px;max-width: 100%;overflow: auto;}#sk-container-id-3 input.sk-toggleable__control:checked~label.sk-toggleable__label-arrow:before {content: \"▾\";}#sk-container-id-3 div.sk-estimator input.sk-toggleable__control:checked~label.sk-toggleable__label {background-color: #d4ebff;}#sk-container-id-3 div.sk-label input.sk-toggleable__control:checked~label.sk-toggleable__label {background-color: #d4ebff;}#sk-container-id-3 input.sk-hidden--visually {border: 0;clip: rect(1px 1px 1px 1px);clip: rect(1px, 1px, 1px, 1px);height: 1px;margin: -1px;overflow: hidden;padding: 0;position: absolute;width: 1px;}#sk-container-id-3 div.sk-estimator {font-family: monospace;background-color: #f0f8ff;border: 1px dotted black;border-radius: 0.25em;box-sizing: border-box;margin-bottom: 0.5em;}#sk-container-id-3 div.sk-estimator:hover {background-color: #d4ebff;}#sk-container-id-3 div.sk-parallel-item::after {content: \"\";width: 100%;border-bottom: 1px solid gray;flex-grow: 1;}#sk-container-id-3 div.sk-label:hover label.sk-toggleable__label {background-color: #d4ebff;}#sk-container-id-3 div.sk-serial::before {content: \"\";position: absolute;border-left: 1px solid gray;box-sizing: border-box;top: 0;bottom: 0;left: 50%;z-index: 0;}#sk-container-id-3 div.sk-serial {display: flex;flex-direction: column;align-items: center;background-color: white;padding-right: 0.2em;padding-left: 0.2em;position: relative;}#sk-container-id-3 div.sk-item {position: relative;z-index: 1;}#sk-container-id-3 div.sk-parallel {display: flex;align-items: stretch;justify-content: center;background-color: white;position: relative;}#sk-container-id-3 div.sk-item::before, #sk-container-id-3 div.sk-parallel-item::before {content: \"\";position: absolute;border-left: 1px solid gray;box-sizing: border-box;top: 0;bottom: 0;left: 50%;z-index: -1;}#sk-container-id-3 div.sk-parallel-item {display: flex;flex-direction: column;z-index: 1;position: relative;background-color: white;}#sk-container-id-3 div.sk-parallel-item:first-child::after {align-self: flex-end;width: 50%;}#sk-container-id-3 div.sk-parallel-item:last-child::after {align-self: flex-start;width: 50%;}#sk-container-id-3 div.sk-parallel-item:only-child::after {width: 0;}#sk-container-id-3 div.sk-dashed-wrapped {border: 1px dashed gray;margin: 0 0.4em 0.5em 0.4em;box-sizing: border-box;padding-bottom: 0.4em;background-color: white;}#sk-container-id-3 div.sk-label label {font-family: monospace;font-weight: bold;display: inline-block;line-height: 1.2em;}#sk-container-id-3 div.sk-label-container {text-align: center;}#sk-container-id-3 div.sk-container {/* jupyter's `normalize.less` sets `[hidden] { display: none; }` but bootstrap.min.css set `[hidden] { display: none !important; }` so we also need the `!important` here to be able to override the default hidden behavior on the sphinx rendered scikit-learn.org. See: https://github.com/scikit-learn/scikit-learn/issues/21755 */display: inline-block !important;position: relative;}#sk-container-id-3 div.sk-text-repr-fallback {display: none;}</style><div id=\"sk-container-id-3\" class=\"sk-top-container\"><div class=\"sk-text-repr-fallback\"><pre>RandomForestClassifier(criterion=&#x27;entropy&#x27;, random_state=1)</pre><b>In a Jupyter environment, please rerun this cell to show the HTML representation or trust the notebook. <br />On GitHub, the HTML representation is unable to render, please try loading this page with nbviewer.org.</b></div><div class=\"sk-container\" hidden><div class=\"sk-item\"><div class=\"sk-estimator sk-toggleable\"><input class=\"sk-toggleable__control sk-hidden--visually\" id=\"sk-estimator-id-3\" type=\"checkbox\" checked><label for=\"sk-estimator-id-3\" class=\"sk-toggleable__label sk-toggleable__label-arrow\">RandomForestClassifier</label><div class=\"sk-toggleable__content\"><pre>RandomForestClassifier(criterion=&#x27;entropy&#x27;, random_state=1)</pre></div></div></div></div></div>"
            ]
          },
          "metadata": {},
          "execution_count": 109
        }
      ],
      "source": [
        "from sklearn.ensemble import RandomForestClassifier\n",
        "classifier = RandomForestClassifier(n_estimators = 100, criterion = 'entropy', random_state = 1)\n",
        "classifier.fit(x_train, y_train)"
      ]
    },
    {
      "cell_type": "code",
      "execution_count": 110,
      "metadata": {
        "id": "H_nlo2neUlXv"
      },
      "outputs": [],
      "source": [
        "end = time.time()"
      ]
    },
    {
      "cell_type": "code",
      "execution_count": 111,
      "metadata": {
        "colab": {
          "base_uri": "https://localhost:8080/"
        },
        "id": "VQzSxjKmVJv4",
        "outputId": "e51010b5-1124-40a5-dd02-3e0a1dcddcbe"
      },
      "outputs": [
        {
          "output_type": "stream",
          "name": "stdout",
          "text": [
            "The time of execution of above program is : 52295.14002799988\n"
          ]
        }
      ],
      "source": [
        "print(\"The time of execution of above program is :\", (end-start)*1000)"
      ]
    },
    {
      "cell_type": "markdown",
      "metadata": {
        "id": "vgqxylThEPR3"
      },
      "source": [
        "## Predicting the Test set results"
      ]
    },
    {
      "cell_type": "code",
      "source": [
        "\n",
        "start = time.time()\n"
      ],
      "metadata": {
        "id": "dZl-k-_TzobV"
      },
      "execution_count": 112,
      "outputs": []
    },
    {
      "cell_type": "code",
      "execution_count": 113,
      "metadata": {
        "colab": {
          "base_uri": "https://localhost:8080/"
        },
        "id": "OB0-XQV5Av3r",
        "outputId": "c1ea1df5-d276-43cb-92b0-f87af65b2367"
      },
      "outputs": [
        {
          "output_type": "stream",
          "name": "stdout",
          "text": [
            "[[11. 11.]\n",
            " [ 6.  6.]\n",
            " [ 4.  4.]\n",
            " ...\n",
            " [ 1.  1.]\n",
            " [ 4.  4.]\n",
            " [ 3.  3.]]\n"
          ]
        }
      ],
      "source": [
        "y_pred = classifier.predict(x_test)\n",
        "print(np.concatenate((y_pred.reshape(len(y_pred),1), y_test.reshape(len(y_test),1)),1))"
      ]
    },
    {
      "cell_type": "code",
      "source": [
        "end = time.time()\n",
        "print((end - start) *1000)\n"
      ],
      "metadata": {
        "colab": {
          "base_uri": "https://localhost:8080/"
        },
        "id": "eHyGmLDpzp49",
        "outputId": "39cc89b0-6960-456c-f333-4b427e961891"
      },
      "execution_count": 114,
      "outputs": [
        {
          "output_type": "stream",
          "name": "stdout",
          "text": [
            "210.99853515625\n"
          ]
        }
      ]
    },
    {
      "cell_type": "markdown",
      "metadata": {
        "id": "g7NdXJISEhLS"
      },
      "source": [
        "##Making the Confusion Matrix"
      ]
    },
    {
      "cell_type": "code",
      "execution_count": 115,
      "metadata": {
        "colab": {
          "base_uri": "https://localhost:8080/"
        },
        "id": "KPO5Upg9EjI-",
        "outputId": "5846fee5-2de8-40b1-eeba-cfc74127f0b1"
      },
      "outputs": [
        {
          "output_type": "stream",
          "name": "stdout",
          "text": [
            "[[675   0   1   0   1   0   0   0   0   0   0   0]\n",
            " [  0 617  19   0   1   0   3   4   0  16   0   5]\n",
            " [  6  53 385   3   2   2   2  13   1 173   2  41]\n",
            " [  0   0   1 652   0   0   0   0   0   0   0   0]\n",
            " [  0   0   0   0 671   0   0   0   0   0   0   0]\n",
            " [  0   0   0   0   0 693   0   0   0   0   0   0]\n",
            " [  0   1   0   0   0   0 663   0   0   0   0   0]\n",
            " [  0   1   1   0   0   0   0 645   0   0   0   0]\n",
            " [  0   0   0   0   0   0   0   0 675   0   0   0]\n",
            " [  1  30 121   5   2   1   3   7   2 442   2  32]\n",
            " [  0   1   0   0   0   0   0   0   0   0 692   0]\n",
            " [  1   8  15   1   0   0   0   2   1  16   2 610]]\n",
            "Classification Report:\n",
            "              precision    recall  f1-score   support\n",
            "\n",
            "         1.0       0.99      1.00      0.99       677\n",
            "         2.0       0.87      0.93      0.90       665\n",
            "         3.0       0.71      0.56      0.63       683\n",
            "         4.0       0.99      1.00      0.99       653\n",
            "         5.0       0.99      1.00      1.00       671\n",
            "         6.0       1.00      1.00      1.00       693\n",
            "         7.0       0.99      1.00      0.99       664\n",
            "         8.0       0.96      1.00      0.98       647\n",
            "         9.0       0.99      1.00      1.00       675\n",
            "        10.0       0.68      0.68      0.68       648\n",
            "        11.0       0.99      1.00      0.99       693\n",
            "        12.0       0.89      0.93      0.91       656\n",
            "\n",
            "    accuracy                           0.92      8025\n",
            "   macro avg       0.92      0.92      0.92      8025\n",
            "weighted avg       0.92      0.92      0.92      8025\n",
            "\n",
            "Precision: 0.9202447766916121\n",
            "Recall: 0.9244133457337799\n",
            "F1 Score: 0.9214731692335797\n"
          ]
        }
      ],
      "source": [
        "from sklearn.metrics import confusion_matrix, accuracy_score\n",
        "from sklearn.metrics import precision_score, recall_score, f1_score, roc_auc_score\n",
        "from sklearn.metrics import classification_report\n",
        "cm = confusion_matrix(y_test, y_pred)\n",
        "print(cm)\n",
        "accu=accuracy_score(y_test, y_pred)\n",
        "\n",
        "# Calculate precision, recall, and F1 score\n",
        "precision = precision_score(y_test, y_pred, average='macro')\n",
        "recall = recall_score(y_test, y_pred, average='macro')\n",
        "f1 = f1_score(y_test, y_pred, average='macro')\n",
        "\n",
        "\n",
        "# Calculate classification report\n",
        "classification_rep = classification_report(y_test, y_pred)\n",
        "print(\"Classification Report:\")\n",
        "print(classification_rep)\n",
        "print(\"Precision:\", precision)\n",
        "print(\"Recall:\", recall)\n",
        "print(\"F1 Score:\", f1)\n",
        "\n",
        "df = pd.DataFrame()\n",
        "x = []\n",
        "x.append(accu)\n",
        "df[\"Accuracy\"] = x\n",
        "df[\"Precision\"] = precision\n",
        "df[\"Recall\"] = recall\n",
        "df[\"F1 Score\"] = f1\n",
        "df.to_csv('/content/drive/MyDrive/Colab Notebooks/file1.csv')"
      ]
    },
    {
      "cell_type": "code",
      "execution_count": 116,
      "metadata": {
        "colab": {
          "base_uri": "https://localhost:8080/",
          "height": 487
        },
        "id": "bzv7Ua4JOMuu",
        "outputId": "58e423ca-7c25-4d51-e0cc-bfd5cae3880c"
      },
      "outputs": [
        {
          "output_type": "display_data",
          "data": {
            "text/plain": [
              "<Figure size 700x500 with 2 Axes>"
            ],
            "image/png": "[encoded data removed]"
          },
          "metadata": {}
        }
      ],
      "source": [
        "import seaborn as sns\n",
        "import matplotlib.pyplot as plt\n",
        "\n",
        "# Assuming you have already calculated the confusion matrix 'cm' for 14 classes\n",
        "\n",
        "# Plot the confusion matrix heatmap\n",
        "plt.figure(figsize=(7, 5))\n",
        "sns.heatmap(cm, annot=True, fmt='d', cmap='Blues', xticklabels=range(14), yticklabels=range(14))\n",
        "plt.xlabel('Predicted Labels')\n",
        "plt.ylabel('True Labels')\n",
        "plt.title('Confusion Matrix Heatmap')\n",
        "plt.show()"
      ]
    },
    {
      "cell_type": "code",
      "execution_count": 117,
      "metadata": {
        "colab": {
          "base_uri": "https://localhost:8080/"
        },
        "id": "o-1HFLo5S66g",
        "outputId": "e876b6ac-89ea-4493-de8f-67480cb916ff"
      },
      "outputs": [
        {
          "output_type": "stream",
          "name": "stdout",
          "text": [
            "[[ 4.  4.]\n",
            " [10. 10.]\n",
            " [11. 11.]\n",
            " ...\n",
            " [ 4.  4.]\n",
            " [ 5.  5.]\n",
            " [ 9.  9.]]\n"
          ]
        }
      ],
      "source": [
        "y_pred1 = classifier.predict(x_train)\n",
        "print(np.concatenate((y_pred1.reshape(len(y_pred1),1), y_train.reshape(len(y_train),1)),1))"
      ]
    }
  ],
  "metadata": {
    "colab": {
      "provenance": [],
      "mount_file_id": "1OFAN5uNuWDdSkt-aIiSstktkFR6CwSsL",
      "authorship_tag": "ABX9TyMN5FJFp6XRWNyCT7b+tNOB",
      "include_colab_link": true
    },
    "kernelspec": {
      "display_name": "Python 3",
      "name": "python3"
    },
    "language_info": {
      "name": "python"
    }
  },
  "nbformat": 4,
  "nbformat_minor": 0
}