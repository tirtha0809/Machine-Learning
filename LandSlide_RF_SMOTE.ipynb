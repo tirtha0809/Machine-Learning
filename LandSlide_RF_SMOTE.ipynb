{
  "cells": [
    {
      "cell_type": "markdown",
      "metadata": {
        "id": "view-in-github",
        "colab_type": "text"
      },
      "source": [
        "<a href=\"https://colab.research.google.com/github/tirtha0809/Machine-Learning/blob/main/LandSlide_RF_SMOTE.ipynb\" target=\"_parent\"><img src=\"https://colab.research.google.com/assets/colab-badge.svg\" alt=\"Open In Colab\"/></a>"
      ]
    },
    {
      "cell_type": "markdown",
      "metadata": {
        "id": "Ve6g9aWWwlbD"
      },
      "source": [
        "## Importing the libraries"
      ]
    },
    {
      "cell_type": "code",
      "execution_count": 53,
      "metadata": {
        "id": "4a41kCAxwhbK"
      },
      "outputs": [],
      "source": [
        "import numpy as np\n",
        "import matplotlib.pyplot as plt\n",
        "import pandas as pd\n",
        "from imblearn.over_sampling import SMOTE\n",
        "import time"
      ]
    },
    {
      "cell_type": "code",
      "execution_count": 54,
      "metadata": {
        "colab": {
          "base_uri": "https://localhost:8080/"
        },
        "id": "YI8glgJqDLRp",
        "outputId": "69b51824-0e25-4f7b-d881-d657bd40518a"
      },
      "outputs": [
        {
          "output_type": "stream",
          "name": "stdout",
          "text": [
            "Drive already mounted at /content/drive; to attempt to forcibly remount, call drive.mount(\"/content/drive\", force_remount=True).\n"
          ]
        }
      ],
      "source": [
        "from google.colab import drive\n",
        "drive.mount('/content/drive')"
      ]
    },
    {
      "cell_type": "markdown",
      "metadata": {
        "id": "XAHovqWUwr72"
      },
      "source": [
        "##Importing the dataset"
      ]
    },
    {
      "cell_type": "code",
      "execution_count": 55,
      "metadata": {
        "colab": {
          "base_uri": "https://localhost:8080/"
        },
        "id": "ogR7ZQ-zwuil",
        "outputId": "4e44962d-e50b-495b-be04-e1d0dae0f076"
      },
      "outputs": [
        {
          "output_type": "execute_result",
          "data": {
            "text/plain": [
              "688104"
            ]
          },
          "metadata": {},
          "execution_count": 55
        }
      ],
      "source": [
        "df = pd.read_csv('/content/drive/MyDrive/LANDSLIDE/LandslideData .csv')\n",
        "df.size"
      ]
    },
    {
      "cell_type": "markdown",
      "metadata": {
        "id": "3TYf8Fz76vjM"
      },
      "source": [
        "##Taking care of missing value"
      ]
    },
    {
      "cell_type": "code",
      "execution_count": 56,
      "metadata": {
        "id": "sDnk8xea5yWr"
      },
      "outputs": [],
      "source": [
        "df.dropna(inplace=True)"
      ]
    },
    {
      "cell_type": "code",
      "execution_count": 57,
      "metadata": {
        "colab": {
          "base_uri": "https://localhost:8080/",
          "height": 273
        },
        "id": "LbP3S4dU1bjV",
        "outputId": "9b6d037b-53a9-4da2-c19c-386db7244cb7"
      },
      "outputs": [
        {
          "output_type": "execute_result",
          "data": {
            "text/plain": [
              "    Index  landslide_category  landslide_size  fatality_count  Latitude  \\\n",
              "0  1858.0                 7.0             2.0             0.0     16.92   \n",
              "1  1141.0                 6.0             2.0             4.0     30.38   \n",
              "4    55.0                 6.0             1.0             0.0     42.97   \n",
              "5  4000.0                 6.0             2.0             2.0     37.75   \n",
              "6  5609.0                 7.0             3.0             0.0     47.27   \n",
              "\n",
              "   Longitude  temp-2  temp-1  temp-0  maxt-2  ...  avgslope  LC_Type1_mean  \\\n",
              "0      73.59    26.3    26.5    26.2    27.7  ...    27.875       9.000000   \n",
              "1      78.09    26.7    27.2    25.8    28.1  ...    81.375       9.000000   \n",
              "4    -124.01    11.8     8.3     7.8    14.7  ...    88.875       1.000000   \n",
              "5     -25.20    14.0    14.1    15.8    17.0  ...   167.000       7.058824   \n",
              "6    -122.26    11.4    11.3    10.6    14.8  ...    40.000       6.764706   \n",
              "\n",
              "   LST_Day_1km_mean  NDVI_mean  NDWI_mean     aspect  elevation  \\\n",
              "0       15585.75010   0.276409   0.076935   85.79104       68.0   \n",
              "1       15080.14281   0.256626   0.161844  240.09620      828.0   \n",
              "4       14795.41238   0.490961   0.363601  173.99826       75.0   \n",
              "5       14609.53463   0.396181   0.306116   89.37942       68.0   \n",
              "6       14744.06481   0.352804   0.292128  110.89202       40.0   \n",
              "\n",
              "   precipitation_sum      slope  landslide_trigger  \n",
              "0        76083.62956  12.437977                1.0  \n",
              "1        49711.02632   3.715572                1.0  \n",
              "4        47384.80481  11.947599                1.0  \n",
              "5        20904.96219  56.214066                1.0  \n",
              "6        28623.51198  22.222166                1.0  \n",
              "\n",
              "[5 rows x 114 columns]"
            ],
            "text/html": [
              "\n",
              "  <div id=\"df-f901d5ee-3895-460a-9694-04e9b63cbcd3\" class=\"colab-df-container\">\n",
              "    <div>\n",
              "<style scoped>\n",
              "    .dataframe tbody tr th:only-of-type {\n",
              "        vertical-align: middle;\n",
              "    }\n",
              "\n",
              "    .dataframe tbody tr th {\n",
              "        vertical-align: top;\n",
              "    }\n",
              "\n",
              "    .dataframe thead th {\n",
              "        text-align: right;\n",
              "    }\n",
              "</style>\n",
              "<table border=\"1\" class=\"dataframe\">\n",
              "  <thead>\n",
              "    <tr style=\"text-align: right;\">\n",
              "      <th></th>\n",
              "      <th>Index</th>\n",
              "      <th>landslide_category</th>\n",
              "      <th>landslide_size</th>\n",
              "      <th>fatality_count</th>\n",
              "      <th>Latitude</th>\n",
              "      <th>Longitude</th>\n",
              "      <th>temp-2</th>\n",
              "      <th>temp-1</th>\n",
              "      <th>temp-0</th>\n",
              "      <th>maxt-2</th>\n",
              "      <th>...</th>\n",
              "      <th>avgslope</th>\n",
              "      <th>LC_Type1_mean</th>\n",
              "      <th>LST_Day_1km_mean</th>\n",
              "      <th>NDVI_mean</th>\n",
              "      <th>NDWI_mean</th>\n",
              "      <th>aspect</th>\n",
              "      <th>elevation</th>\n",
              "      <th>precipitation_sum</th>\n",
              "      <th>slope</th>\n",
              "      <th>landslide_trigger</th>\n",
              "    </tr>\n",
              "  </thead>\n",
              "  <tbody>\n",
              "    <tr>\n",
              "      <th>0</th>\n",
              "      <td>1858.0</td>\n",
              "      <td>7.0</td>\n",
              "      <td>2.0</td>\n",
              "      <td>0.0</td>\n",
              "      <td>16.92</td>\n",
              "      <td>73.59</td>\n",
              "      <td>26.3</td>\n",
              "      <td>26.5</td>\n",
              "      <td>26.2</td>\n",
              "      <td>27.7</td>\n",
              "      <td>...</td>\n",
              "      <td>27.875</td>\n",
              "      <td>9.000000</td>\n",
              "      <td>15585.75010</td>\n",
              "      <td>0.276409</td>\n",
              "      <td>0.076935</td>\n",
              "      <td>85.79104</td>\n",
              "      <td>68.0</td>\n",
              "      <td>76083.62956</td>\n",
              "      <td>12.437977</td>\n",
              "      <td>1.0</td>\n",
              "    </tr>\n",
              "    <tr>\n",
              "      <th>1</th>\n",
              "      <td>1141.0</td>\n",
              "      <td>6.0</td>\n",
              "      <td>2.0</td>\n",
              "      <td>4.0</td>\n",
              "      <td>30.38</td>\n",
              "      <td>78.09</td>\n",
              "      <td>26.7</td>\n",
              "      <td>27.2</td>\n",
              "      <td>25.8</td>\n",
              "      <td>28.1</td>\n",
              "      <td>...</td>\n",
              "      <td>81.375</td>\n",
              "      <td>9.000000</td>\n",
              "      <td>15080.14281</td>\n",
              "      <td>0.256626</td>\n",
              "      <td>0.161844</td>\n",
              "      <td>240.09620</td>\n",
              "      <td>828.0</td>\n",
              "      <td>49711.02632</td>\n",
              "      <td>3.715572</td>\n",
              "      <td>1.0</td>\n",
              "    </tr>\n",
              "    <tr>\n",
              "      <th>4</th>\n",
              "      <td>55.0</td>\n",
              "      <td>6.0</td>\n",
              "      <td>1.0</td>\n",
              "      <td>0.0</td>\n",
              "      <td>42.97</td>\n",
              "      <td>-124.01</td>\n",
              "      <td>11.8</td>\n",
              "      <td>8.3</td>\n",
              "      <td>7.8</td>\n",
              "      <td>14.7</td>\n",
              "      <td>...</td>\n",
              "      <td>88.875</td>\n",
              "      <td>1.000000</td>\n",
              "      <td>14795.41238</td>\n",
              "      <td>0.490961</td>\n",
              "      <td>0.363601</td>\n",
              "      <td>173.99826</td>\n",
              "      <td>75.0</td>\n",
              "      <td>47384.80481</td>\n",
              "      <td>11.947599</td>\n",
              "      <td>1.0</td>\n",
              "    </tr>\n",
              "    <tr>\n",
              "      <th>5</th>\n",
              "      <td>4000.0</td>\n",
              "      <td>6.0</td>\n",
              "      <td>2.0</td>\n",
              "      <td>2.0</td>\n",
              "      <td>37.75</td>\n",
              "      <td>-25.20</td>\n",
              "      <td>14.0</td>\n",
              "      <td>14.1</td>\n",
              "      <td>15.8</td>\n",
              "      <td>17.0</td>\n",
              "      <td>...</td>\n",
              "      <td>167.000</td>\n",
              "      <td>7.058824</td>\n",
              "      <td>14609.53463</td>\n",
              "      <td>0.396181</td>\n",
              "      <td>0.306116</td>\n",
              "      <td>89.37942</td>\n",
              "      <td>68.0</td>\n",
              "      <td>20904.96219</td>\n",
              "      <td>56.214066</td>\n",
              "      <td>1.0</td>\n",
              "    </tr>\n",
              "    <tr>\n",
              "      <th>6</th>\n",
              "      <td>5609.0</td>\n",
              "      <td>7.0</td>\n",
              "      <td>3.0</td>\n",
              "      <td>0.0</td>\n",
              "      <td>47.27</td>\n",
              "      <td>-122.26</td>\n",
              "      <td>11.4</td>\n",
              "      <td>11.3</td>\n",
              "      <td>10.6</td>\n",
              "      <td>14.8</td>\n",
              "      <td>...</td>\n",
              "      <td>40.000</td>\n",
              "      <td>6.764706</td>\n",
              "      <td>14744.06481</td>\n",
              "      <td>0.352804</td>\n",
              "      <td>0.292128</td>\n",
              "      <td>110.89202</td>\n",
              "      <td>40.0</td>\n",
              "      <td>28623.51198</td>\n",
              "      <td>22.222166</td>\n",
              "      <td>1.0</td>\n",
              "    </tr>\n",
              "  </tbody>\n",
              "</table>\n",
              "<p>5 rows × 114 columns</p>\n",
              "</div>\n",
              "    <div class=\"colab-df-buttons\">\n",
              "\n",
              "  <div class=\"colab-df-container\">\n",
              "    <button class=\"colab-df-convert\" onclick=\"convertToInteractive('df-f901d5ee-3895-460a-9694-04e9b63cbcd3')\"\n",
              "            title=\"Convert this dataframe to an interactive table.\"\n",
              "            style=\"display:none;\">\n",
              "\n",
              "  <svg xmlns=\"http://www.w3.org/2000/svg\" height=\"24px\" viewBox=\"0 -960 960 960\">\n",
              "    <path d=\"M120-120v-720h720v720H120Zm60-500h600v-160H180v160Zm220 220h160v-160H400v160Zm0 220h160v-160H400v160ZM180-400h160v-160H180v160Zm440 0h160v-160H620v160ZM180-180h160v-160H180v160Zm440 0h160v-160H620v160Z\"/>\n",
              "  </svg>\n",
              "    </button>\n",
              "\n",
              "  <style>\n",
              "    .colab-df-container {\n",
              "      display:flex;\n",
              "      gap: 12px;\n",
              "    }\n",
              "\n",
              "    .colab-df-convert {\n",
              "      background-color: #E8F0FE;\n",
              "      border: none;\n",
              "      border-radius: 50%;\n",
              "      cursor: pointer;\n",
              "      display: none;\n",
              "      fill: #1967D2;\n",
              "      height: 32px;\n",
              "      padding: 0 0 0 0;\n",
              "      width: 32px;\n",
              "    }\n",
              "\n",
              "    .colab-df-convert:hover {\n",
              "      background-color: #E2EBFA;\n",
              "      box-shadow: 0px 1px 2px rgba(60, 64, 67, 0.3), 0px 1px 3px 1px rgba(60, 64, 67, 0.15);\n",
              "      fill: #174EA6;\n",
              "    }\n",
              "\n",
              "    .colab-df-buttons div {\n",
              "      margin-bottom: 4px;\n",
              "    }\n",
              "\n",
              "    [theme=dark] .colab-df-convert {\n",
              "      background-color: #3B4455;\n",
              "      fill: #D2E3FC;\n",
              "    }\n",
              "\n",
              "    [theme=dark] .colab-df-convert:hover {\n",
              "      background-color: #434B5C;\n",
              "      box-shadow: 0px 1px 3px 1px rgba(0, 0, 0, 0.15);\n",
              "      filter: drop-shadow(0px 1px 2px rgba(0, 0, 0, 0.3));\n",
              "      fill: #FFFFFF;\n",
              "    }\n",
              "  </style>\n",
              "\n",
              "    <script>\n",
              "      const buttonEl =\n",
              "        document.querySelector('#df-f901d5ee-3895-460a-9694-04e9b63cbcd3 button.colab-df-convert');\n",
              "      buttonEl.style.display =\n",
              "        google.colab.kernel.accessAllowed ? 'block' : 'none';\n",
              "\n",
              "      async function convertToInteractive(key) {\n",
              "        const element = document.querySelector('#df-f901d5ee-3895-460a-9694-04e9b63cbcd3');\n",
              "        const dataTable =\n",
              "          await google.colab.kernel.invokeFunction('convertToInteractive',\n",
              "                                                    [key], {});\n",
              "        if (!dataTable) return;\n",
              "\n",
              "        const docLinkHtml = 'Like what you see? Visit the ' +\n",
              "          '<a target=\"_blank\" href=https://colab.research.google.com/notebooks/data_table.ipynb>data table notebook</a>'\n",
              "          + ' to learn more about interactive tables.';\n",
              "        element.innerHTML = '';\n",
              "        dataTable['output_type'] = 'display_data';\n",
              "        await google.colab.output.renderOutput(dataTable, element);\n",
              "        const docLink = document.createElement('div');\n",
              "        docLink.innerHTML = docLinkHtml;\n",
              "        element.appendChild(docLink);\n",
              "      }\n",
              "    </script>\n",
              "  </div>\n",
              "\n",
              "\n",
              "<div id=\"df-1fbcfe2c-8349-4ebd-8141-db9d68112256\">\n",
              "  <button class=\"colab-df-quickchart\" onclick=\"quickchart('df-1fbcfe2c-8349-4ebd-8141-db9d68112256')\"\n",
              "            title=\"Suggest charts\"\n",
              "            style=\"display:none;\">\n",
              "\n",
              "<svg xmlns=\"http://www.w3.org/2000/svg\" height=\"24px\"viewBox=\"0 0 24 24\"\n",
              "     width=\"24px\">\n",
              "    <g>\n",
              "        <path d=\"M19 3H5c-1.1 0-2 .9-2 2v14c0 1.1.9 2 2 2h14c1.1 0 2-.9 2-2V5c0-1.1-.9-2-2-2zM9 17H7v-7h2v7zm4 0h-2V7h2v10zm4 0h-2v-4h2v4z\"/>\n",
              "    </g>\n",
              "</svg>\n",
              "  </button>\n",
              "\n",
              "<style>\n",
              "  .colab-df-quickchart {\n",
              "      --bg-color: #E8F0FE;\n",
              "      --fill-color: #1967D2;\n",
              "      --hover-bg-color: #E2EBFA;\n",
              "      --hover-fill-color: #174EA6;\n",
              "      --disabled-fill-color: #AAA;\n",
              "      --disabled-bg-color: #DDD;\n",
              "  }\n",
              "\n",
              "  [theme=dark] .colab-df-quickchart {\n",
              "      --bg-color: #3B4455;\n",
              "      --fill-color: #D2E3FC;\n",
              "      --hover-bg-color: #434B5C;\n",
              "      --hover-fill-color: #FFFFFF;\n",
              "      --disabled-bg-color: #3B4455;\n",
              "      --disabled-fill-color: #666;\n",
              "  }\n",
              "\n",
              "  .colab-df-quickchart {\n",
              "    background-color: var(--bg-color);\n",
              "    border: none;\n",
              "    border-radius: 50%;\n",
              "    cursor: pointer;\n",
              "    display: none;\n",
              "    fill: var(--fill-color);\n",
              "    height: 32px;\n",
              "    padding: 0;\n",
              "    width: 32px;\n",
              "  }\n",
              "\n",
              "  .colab-df-quickchart:hover {\n",
              "    background-color: var(--hover-bg-color);\n",
              "    box-shadow: 0 1px 2px rgba(60, 64, 67, 0.3), 0 1px 3px 1px rgba(60, 64, 67, 0.15);\n",
              "    fill: var(--button-hover-fill-color);\n",
              "  }\n",
              "\n",
              "  .colab-df-quickchart-complete:disabled,\n",
              "  .colab-df-quickchart-complete:disabled:hover {\n",
              "    background-color: var(--disabled-bg-color);\n",
              "    fill: var(--disabled-fill-color);\n",
              "    box-shadow: none;\n",
              "  }\n",
              "\n",
              "  .colab-df-spinner {\n",
              "    border: 2px solid var(--fill-color);\n",
              "    border-color: transparent;\n",
              "    border-bottom-color: var(--fill-color);\n",
              "    animation:\n",
              "      spin 1s steps(1) infinite;\n",
              "  }\n",
              "\n",
              "  @keyframes spin {\n",
              "    0% {\n",
              "      border-color: transparent;\n",
              "      border-bottom-color: var(--fill-color);\n",
              "      border-left-color: var(--fill-color);\n",
              "    }\n",
              "    20% {\n",
              "      border-color: transparent;\n",
              "      border-left-color: var(--fill-color);\n",
              "      border-top-color: var(--fill-color);\n",
              "    }\n",
              "    30% {\n",
              "      border-color: transparent;\n",
              "      border-left-color: var(--fill-color);\n",
              "      border-top-color: var(--fill-color);\n",
              "      border-right-color: var(--fill-color);\n",
              "    }\n",
              "    40% {\n",
              "      border-color: transparent;\n",
              "      border-right-color: var(--fill-color);\n",
              "      border-top-color: var(--fill-color);\n",
              "    }\n",
              "    60% {\n",
              "      border-color: transparent;\n",
              "      border-right-color: var(--fill-color);\n",
              "    }\n",
              "    80% {\n",
              "      border-color: transparent;\n",
              "      border-right-color: var(--fill-color);\n",
              "      border-bottom-color: var(--fill-color);\n",
              "    }\n",
              "    90% {\n",
              "      border-color: transparent;\n",
              "      border-bottom-color: var(--fill-color);\n",
              "    }\n",
              "  }\n",
              "</style>\n",
              "\n",
              "  <script>\n",
              "    async function quickchart(key) {\n",
              "      const quickchartButtonEl =\n",
              "        document.querySelector('#' + key + ' button');\n",
              "      quickchartButtonEl.disabled = true;  // To prevent multiple clicks.\n",
              "      quickchartButtonEl.classList.add('colab-df-spinner');\n",
              "      try {\n",
              "        const charts = await google.colab.kernel.invokeFunction(\n",
              "            'suggestCharts', [key], {});\n",
              "      } catch (error) {\n",
              "        console.error('Error during call to suggestCharts:', error);\n",
              "      }\n",
              "      quickchartButtonEl.classList.remove('colab-df-spinner');\n",
              "      quickchartButtonEl.classList.add('colab-df-quickchart-complete');\n",
              "    }\n",
              "    (() => {\n",
              "      let quickchartButtonEl =\n",
              "        document.querySelector('#df-1fbcfe2c-8349-4ebd-8141-db9d68112256 button');\n",
              "      quickchartButtonEl.style.display =\n",
              "        google.colab.kernel.accessAllowed ? 'block' : 'none';\n",
              "    })();\n",
              "  </script>\n",
              "</div>\n",
              "\n",
              "    </div>\n",
              "  </div>\n"
            ],
            "application/vnd.google.colaboratory.intrinsic+json": {
              "type": "dataframe",
              "variable_name": "df"
            }
          },
          "metadata": {},
          "execution_count": 57
        }
      ],
      "source": [
        "df.head()"
      ]
    },
    {
      "cell_type": "code",
      "execution_count": 58,
      "metadata": {
        "colab": {
          "base_uri": "https://localhost:8080/"
        },
        "id": "Dz2mMReY5PTc",
        "outputId": "0521f3de-9d44-469a-97a3-f5ab601960d1"
      },
      "outputs": [
        {
          "output_type": "execute_result",
          "data": {
            "text/plain": [
              "454974"
            ]
          },
          "metadata": {},
          "execution_count": 58
        }
      ],
      "source": [
        "df.size"
      ]
    },
    {
      "cell_type": "code",
      "execution_count": 59,
      "metadata": {
        "id": "dEYWEKm06Fdu"
      },
      "outputs": [],
      "source": [
        "x = df.iloc[:,1:-1].values\n",
        "y= df.iloc[:,-1].values\n",
        "smote= SMOTE(k_neighbors = 3)\n",
        "x_smote,y_smote = smote.fit_resample(x,y)"
      ]
    },
    {
      "cell_type": "code",
      "execution_count": 60,
      "metadata": {
        "colab": {
          "base_uri": "https://localhost:8080/"
        },
        "id": "P3_kLn8eTlgM",
        "outputId": "93a6f6ab-ae48-4bdc-ade1-0003d26c1cc5"
      },
      "outputs": [
        {
          "output_type": "stream",
          "name": "stdout",
          "text": [
            "3991\n"
          ]
        }
      ],
      "source": [
        "print(len(y))\n"
      ]
    },
    {
      "cell_type": "code",
      "execution_count": 61,
      "metadata": {
        "colab": {
          "base_uri": "https://localhost:8080/"
        },
        "id": "rZ1s7xnP7R9k",
        "outputId": "14384c8e-1946-4b7f-da3a-cb72cc97a2b2"
      },
      "outputs": [
        {
          "output_type": "stream",
          "name": "stdout",
          "text": [
            "[[7.00000000e+00 2.00000000e+00 0.00000000e+00 ... 6.80000000e+01\n",
            "  7.60836296e+04 1.24379770e+01]\n",
            " [6.00000000e+00 2.00000000e+00 4.00000000e+00 ... 8.28000000e+02\n",
            "  4.97110263e+04 3.71557240e+00]\n",
            " [6.00000000e+00 1.00000000e+00 0.00000000e+00 ... 7.50000000e+01\n",
            "  4.73848048e+04 1.19475990e+01]\n",
            " ...\n",
            " [7.00000000e+00 2.00000000e+00 0.00000000e+00 ... 9.10000000e+01\n",
            "  3.59366855e+04 0.00000000e+00]\n",
            " [7.00000000e+00 2.00000000e+00 0.00000000e+00 ... 2.49000000e+02\n",
            "  3.42958039e+04 1.75379300e+01]\n",
            " [6.00000000e+00 2.00000000e+00 0.00000000e+00 ... 9.90000000e+01\n",
            "  2.58763367e+04 8.28910000e+00]]\n"
          ]
        }
      ],
      "source": [
        "print(x)"
      ]
    },
    {
      "cell_type": "code",
      "execution_count": 62,
      "metadata": {
        "colab": {
          "base_uri": "https://localhost:8080/"
        },
        "id": "p0Ab5_X99k0r",
        "outputId": "0301a142-c733-4422-931b-8ba1baa6bd78"
      },
      "outputs": [
        {
          "output_type": "stream",
          "name": "stdout",
          "text": [
            "[ 1.  1.  1. ... 12. 12. 12.]\n"
          ]
        }
      ],
      "source": [
        "print(y)"
      ]
    },
    {
      "cell_type": "markdown",
      "metadata": {
        "id": "ItKQ-24Q9kFU"
      },
      "source": [
        "## Splitting the dataset into the Training set and Test set"
      ]
    },
    {
      "cell_type": "code",
      "execution_count": 63,
      "metadata": {
        "id": "UP4h1DE_-QMy"
      },
      "outputs": [],
      "source": [
        "from sklearn.model_selection import train_test_split\n",
        "x_train,x_test,y_train,y_test = train_test_split(x_smote,y_smote,test_size = 0.30,random_state=0)"
      ]
    },
    {
      "cell_type": "code",
      "source": [
        "unique_y = np.unique(y_train)\n",
        "print(unique_y)"
      ],
      "metadata": {
        "colab": {
          "base_uri": "https://localhost:8080/"
        },
        "id": "BNAAZPTWn5JS",
        "outputId": "46cdabd4-3ddf-48b7-b930-1b68988fb2c6"
      },
      "execution_count": 64,
      "outputs": [
        {
          "output_type": "stream",
          "name": "stdout",
          "text": [
            "[ 1.  2.  3.  4.  5.  6.  7.  8.  9. 10. 11. 12.]\n"
          ]
        }
      ]
    },
    {
      "cell_type": "code",
      "execution_count": 65,
      "metadata": {
        "colab": {
          "base_uri": "https://localhost:8080/"
        },
        "id": "5m789z7X-fWU",
        "outputId": "9da16d14-20ff-4776-d563-cda1529a0444"
      },
      "outputs": [
        {
          "output_type": "stream",
          "name": "stdout",
          "text": [
            "[[6.00000000e+00 2.00000000e+00 0.00000000e+00 ... 8.51482209e+02\n",
            "  1.00075688e+05 1.21385181e+01]\n",
            " [7.00000000e+00 2.55231807e+00 0.00000000e+00 ... 2.93139084e+01\n",
            "  2.78212449e+04 1.57217272e+01]\n",
            " [8.13403258e+00 2.00000000e+00 2.88655808e-01 ... 1.11752139e+01\n",
            "  9.85691618e+04 5.46125435e+00]\n",
            " ...\n",
            " [6.13001406e+00 2.86998594e+00 0.00000000e+00 ... 2.33200562e+02\n",
            "  4.57903317e+04 1.75761251e+01]\n",
            " [8.97795298e+00 2.65931766e+00 0.00000000e+00 ... 3.55747993e+02\n",
            "  2.32112291e+04 2.25246443e+01]\n",
            " [6.00000000e+00 2.00000000e+00 0.00000000e+00 ... 1.19000000e+02\n",
            "  9.06664130e+04 2.73049600e+01]]\n"
          ]
        }
      ],
      "source": [
        "print(x_train)"
      ]
    },
    {
      "cell_type": "code",
      "execution_count": 66,
      "metadata": {
        "colab": {
          "base_uri": "https://localhost:8080/"
        },
        "id": "HcZhlTrw-fRM",
        "outputId": "8d45368e-c623-4070-f695-bd65ca4b732a"
      },
      "outputs": [
        {
          "output_type": "stream",
          "name": "stdout",
          "text": [
            "[[6.00000000e+00 2.09340943e+00 0.00000000e+00 ... 8.41323273e+01\n",
            "  4.86377598e+04 2.35448896e+00]\n",
            " [7.59336102e+00 2.00000000e+00 0.00000000e+00 ... 4.85228212e+02\n",
            "  4.72707864e+04 2.04165049e+01]\n",
            " [7.80376884e+00 2.60125628e+00 0.00000000e+00 ... 1.60351508e+02\n",
            "  7.72229051e+04 1.16042156e+00]\n",
            " ...\n",
            " [6.10938876e+00 2.00000000e+00 0.00000000e+00 ... 9.93345079e+02\n",
            "  8.73247898e+04 1.07012290e+01]\n",
            " [6.00000000e+00 2.00000000e+00 0.00000000e+00 ... 1.21257353e+03\n",
            "  2.51215838e+04 8.48123866e-02]\n",
            " [3.00000000e+00 2.00000000e+00 0.00000000e+00 ... 1.42700000e+03\n",
            "  7.39218079e+04 7.43369200e+00]]\n"
          ]
        }
      ],
      "source": [
        "print(x_test)"
      ]
    },
    {
      "cell_type": "code",
      "execution_count": 67,
      "metadata": {
        "colab": {
          "base_uri": "https://localhost:8080/"
        },
        "id": "zFPA5WvI-fJz",
        "outputId": "0206f1a2-89e5-42dc-c791-c481434b1487"
      },
      "outputs": [
        {
          "output_type": "stream",
          "name": "stdout",
          "text": [
            "[ 4. 10. 11. ...  4.  5.  9.]\n"
          ]
        }
      ],
      "source": [
        "print(y_train)"
      ]
    },
    {
      "cell_type": "code",
      "execution_count": 68,
      "metadata": {
        "colab": {
          "base_uri": "https://localhost:8080/"
        },
        "id": "a0S1ZkjX-e1u",
        "outputId": "4797d035-c6cb-40d4-a0e6-216b1f69cd2f"
      },
      "outputs": [
        {
          "output_type": "stream",
          "name": "stdout",
          "text": [
            "[11.  6.  4. ...  1.  4.  3.]\n"
          ]
        }
      ],
      "source": [
        "print(y_test)"
      ]
    },
    {
      "cell_type": "markdown",
      "metadata": {
        "id": "hPsh6a6H_Iw4"
      },
      "source": [
        "## Feature Scaling"
      ]
    },
    {
      "cell_type": "code",
      "execution_count": 69,
      "metadata": {
        "id": "fgQ5D187_KPS"
      },
      "outputs": [],
      "source": [
        "from sklearn.preprocessing import StandardScaler\n",
        "sc = StandardScaler()\n",
        "x_train = sc.fit_transform(x_train)\n",
        "x_test = sc.transform(x_test)"
      ]
    },
    {
      "cell_type": "code",
      "execution_count": 70,
      "metadata": {
        "colab": {
          "base_uri": "https://localhost:8080/"
        },
        "id": "TvmsvQ8-APUk",
        "outputId": "9ec8d9c1-0232-49e8-962a-fc1d5ca4e428"
      },
      "outputs": [
        {
          "output_type": "stream",
          "name": "stdout",
          "text": [
            "[[-0.39536076 -0.48819078 -0.17243396 ...  0.50156671  2.1787516\n",
            "  -0.41387173]\n",
            " [ 0.49232935  0.74027875 -0.17243396 ... -0.95983363 -0.69186446\n",
            "  -0.04309052]\n",
            " [ 1.49899885 -0.48819078 -0.13331762 ... -0.99207508  2.11889844\n",
            "  -1.10481768]\n",
            " ...\n",
            " [-0.27994857  1.44683773 -0.17243396 ... -0.59742605  0.02203419\n",
            "   0.14879776]\n",
            " [ 2.24813865  0.97826794 -0.17243396 ... -0.37959856 -0.87501701\n",
            "   0.66085771]\n",
            " [-0.39536076 -0.48819078 -0.17243396 ... -0.80041702  1.80492802\n",
            "   1.15551239]]\n"
          ]
        }
      ],
      "source": [
        "print(x_train)"
      ]
    },
    {
      "cell_type": "code",
      "execution_count": 71,
      "metadata": {
        "colab": {
          "base_uri": "https://localhost:8080/"
        },
        "id": "lDmZmYwVAQXH",
        "outputId": "0a285407-33c2-4780-ed55-711bddc9dafd"
      },
      "outputs": [
        {
          "output_type": "stream",
          "name": "stdout",
          "text": [
            "[[-0.39536076 -0.28042891 -0.17243396 ... -0.86239415  0.13516043\n",
            "  -1.42629771]\n",
            " [ 1.01905006 -0.48819078 -0.17243396 ... -0.14944807  0.08085158\n",
            "   0.44271291]\n",
            " [ 1.205827    0.84912743 -0.17243396 ... -0.72691491  1.2708273\n",
            "  -1.54985671]\n",
            " ...\n",
            " [-0.29825744 -0.48819078 -0.17243396 ...  0.7537273   1.67216778\n",
            "  -0.56259868]\n",
            " [-0.39536076 -0.48819078 -0.17243396 ...  1.14340486 -0.79912001\n",
            "  -1.66115796]\n",
            " [-3.05843109 -0.48819078 -0.17243396 ...  1.52454691  1.13967713\n",
            "  -0.90071494]]\n"
          ]
        }
      ],
      "source": [
        "print(x_test)"
      ]
    },
    {
      "cell_type": "markdown",
      "metadata": {
        "id": "KglIYDPsAnzv"
      },
      "source": [
        "## Training the Random forest model on the Training set"
      ]
    },
    {
      "cell_type": "code",
      "execution_count": 72,
      "metadata": {
        "id": "SMNHDz4nUcbG"
      },
      "outputs": [],
      "source": [
        "start = time.time()"
      ]
    },
    {
      "cell_type": "code",
      "execution_count": 73,
      "metadata": {
        "colab": {
          "base_uri": "https://localhost:8080/",
          "height": 74
        },
        "id": "4jqLvkI_ATM5",
        "outputId": "d9cb2a97-8a3f-4069-8036-e0ff43a98ae7"
      },
      "outputs": [
        {
          "output_type": "execute_result",
          "data": {
            "text/plain": [
              "RandomForestClassifier(criterion='entropy', random_state=1)"
            ],
            "text/html": [
              "<style>#sk-container-id-2 {color: black;background-color: white;}#sk-container-id-2 pre{padding: 0;}#sk-container-id-2 div.sk-toggleable {background-color: white;}#sk-container-id-2 label.sk-toggleable__label {cursor: pointer;display: block;width: 100%;margin-bottom: 0;padding: 0.3em;box-sizing: border-box;text-align: center;}#sk-container-id-2 label.sk-toggleable__label-arrow:before {content: \"▸\";float: left;margin-right: 0.25em;color: #696969;}#sk-container-id-2 label.sk-toggleable__label-arrow:hover:before {color: black;}#sk-container-id-2 div.sk-estimator:hover label.sk-toggleable__label-arrow:before {color: black;}#sk-container-id-2 div.sk-toggleable__content {max-height: 0;max-width: 0;overflow: hidden;text-align: left;background-color: #f0f8ff;}#sk-container-id-2 div.sk-toggleable__content pre {margin: 0.2em;color: black;border-radius: 0.25em;background-color: #f0f8ff;}#sk-container-id-2 input.sk-toggleable__control:checked~div.sk-toggleable__content {max-height: 200px;max-width: 100%;overflow: auto;}#sk-container-id-2 input.sk-toggleable__control:checked~label.sk-toggleable__label-arrow:before {content: \"▾\";}#sk-container-id-2 div.sk-estimator input.sk-toggleable__control:checked~label.sk-toggleable__label {background-color: #d4ebff;}#sk-container-id-2 div.sk-label input.sk-toggleable__control:checked~label.sk-toggleable__label {background-color: #d4ebff;}#sk-container-id-2 input.sk-hidden--visually {border: 0;clip: rect(1px 1px 1px 1px);clip: rect(1px, 1px, 1px, 1px);height: 1px;margin: -1px;overflow: hidden;padding: 0;position: absolute;width: 1px;}#sk-container-id-2 div.sk-estimator {font-family: monospace;background-color: #f0f8ff;border: 1px dotted black;border-radius: 0.25em;box-sizing: border-box;margin-bottom: 0.5em;}#sk-container-id-2 div.sk-estimator:hover {background-color: #d4ebff;}#sk-container-id-2 div.sk-parallel-item::after {content: \"\";width: 100%;border-bottom: 1px solid gray;flex-grow: 1;}#sk-container-id-2 div.sk-label:hover label.sk-toggleable__label {background-color: #d4ebff;}#sk-container-id-2 div.sk-serial::before {content: \"\";position: absolute;border-left: 1px solid gray;box-sizing: border-box;top: 0;bottom: 0;left: 50%;z-index: 0;}#sk-container-id-2 div.sk-serial {display: flex;flex-direction: column;align-items: center;background-color: white;padding-right: 0.2em;padding-left: 0.2em;position: relative;}#sk-container-id-2 div.sk-item {position: relative;z-index: 1;}#sk-container-id-2 div.sk-parallel {display: flex;align-items: stretch;justify-content: center;background-color: white;position: relative;}#sk-container-id-2 div.sk-item::before, #sk-container-id-2 div.sk-parallel-item::before {content: \"\";position: absolute;border-left: 1px solid gray;box-sizing: border-box;top: 0;bottom: 0;left: 50%;z-index: -1;}#sk-container-id-2 div.sk-parallel-item {display: flex;flex-direction: column;z-index: 1;position: relative;background-color: white;}#sk-container-id-2 div.sk-parallel-item:first-child::after {align-self: flex-end;width: 50%;}#sk-container-id-2 div.sk-parallel-item:last-child::after {align-self: flex-start;width: 50%;}#sk-container-id-2 div.sk-parallel-item:only-child::after {width: 0;}#sk-container-id-2 div.sk-dashed-wrapped {border: 1px dashed gray;margin: 0 0.4em 0.5em 0.4em;box-sizing: border-box;padding-bottom: 0.4em;background-color: white;}#sk-container-id-2 div.sk-label label {font-family: monospace;font-weight: bold;display: inline-block;line-height: 1.2em;}#sk-container-id-2 div.sk-label-container {text-align: center;}#sk-container-id-2 div.sk-container {/* jupyter's `normalize.less` sets `[hidden] { display: none; }` but bootstrap.min.css set `[hidden] { display: none !important; }` so we also need the `!important` here to be able to override the default hidden behavior on the sphinx rendered scikit-learn.org. See: https://github.com/scikit-learn/scikit-learn/issues/21755 */display: inline-block !important;position: relative;}#sk-container-id-2 div.sk-text-repr-fallback {display: none;}</style><div id=\"sk-container-id-2\" class=\"sk-top-container\"><div class=\"sk-text-repr-fallback\"><pre>RandomForestClassifier(criterion=&#x27;entropy&#x27;, random_state=1)</pre><b>In a Jupyter environment, please rerun this cell to show the HTML representation or trust the notebook. <br />On GitHub, the HTML representation is unable to render, please try loading this page with nbviewer.org.</b></div><div class=\"sk-container\" hidden><div class=\"sk-item\"><div class=\"sk-estimator sk-toggleable\"><input class=\"sk-toggleable__control sk-hidden--visually\" id=\"sk-estimator-id-2\" type=\"checkbox\" checked><label for=\"sk-estimator-id-2\" class=\"sk-toggleable__label sk-toggleable__label-arrow\">RandomForestClassifier</label><div class=\"sk-toggleable__content\"><pre>RandomForestClassifier(criterion=&#x27;entropy&#x27;, random_state=1)</pre></div></div></div></div></div>"
            ]
          },
          "metadata": {},
          "execution_count": 73
        }
      ],
      "source": [
        "from sklearn.ensemble import RandomForestClassifier\n",
        "classifier = RandomForestClassifier(n_estimators = 100, criterion = 'entropy', random_state = 1)\n",
        "classifier.fit(x_train, y_train)"
      ]
    },
    {
      "cell_type": "code",
      "execution_count": 74,
      "metadata": {
        "id": "H_nlo2neUlXv"
      },
      "outputs": [],
      "source": [
        "end = time.time()"
      ]
    },
    {
      "cell_type": "code",
      "execution_count": 75,
      "metadata": {
        "colab": {
          "base_uri": "https://localhost:8080/"
        },
        "id": "VQzSxjKmVJv4",
        "outputId": "0adefa83-f85f-40c5-b542-084ddb7ef4ae"
      },
      "outputs": [
        {
          "output_type": "stream",
          "name": "stdout",
          "text": [
            "The time of execution of above program is : 52721.72212600708\n"
          ]
        }
      ],
      "source": [
        "print(\"The time of execution of above program is :\", (end-start)*1000)"
      ]
    },
    {
      "cell_type": "markdown",
      "metadata": {
        "id": "vgqxylThEPR3"
      },
      "source": [
        "## Predicting the Test set results"
      ]
    },
    {
      "cell_type": "code",
      "source": [
        "\n",
        "start = time.time()\n"
      ],
      "metadata": {
        "id": "dZl-k-_TzobV"
      },
      "execution_count": 76,
      "outputs": []
    },
    {
      "cell_type": "code",
      "execution_count": 77,
      "metadata": {
        "colab": {
          "base_uri": "https://localhost:8080/"
        },
        "id": "OB0-XQV5Av3r",
        "outputId": "144f9fed-d561-49f3-9dd2-1853d0fb0bb4"
      },
      "outputs": [
        {
          "output_type": "stream",
          "name": "stdout",
          "text": [
            "[[11. 11.]\n",
            " [ 6.  6.]\n",
            " [ 4.  4.]\n",
            " ...\n",
            " [ 1.  1.]\n",
            " [ 4.  4.]\n",
            " [ 3.  3.]]\n"
          ]
        }
      ],
      "source": [
        "y_pred = classifier.predict(x_test)\n",
        "print(np.concatenate((y_pred.reshape(len(y_pred),1), y_test.reshape(len(y_test),1)),1))"
      ]
    },
    {
      "cell_type": "code",
      "source": [
        "end = time.time()\n",
        "print((end - start) *1000)\n"
      ],
      "metadata": {
        "colab": {
          "base_uri": "https://localhost:8080/"
        },
        "id": "eHyGmLDpzp49",
        "outputId": "8e3a6a45-e015-45f1-ebaf-7c56558f5063"
      },
      "execution_count": 78,
      "outputs": [
        {
          "output_type": "stream",
          "name": "stdout",
          "text": [
            "214.92862701416016\n"
          ]
        }
      ]
    },
    {
      "cell_type": "markdown",
      "metadata": {
        "id": "g7NdXJISEhLS"
      },
      "source": [
        "##Making the Confusion Matrix"
      ]
    },
    {
      "cell_type": "code",
      "execution_count": 79,
      "metadata": {
        "colab": {
          "base_uri": "https://localhost:8080/"
        },
        "id": "KPO5Upg9EjI-",
        "outputId": "d94829fd-aa3b-4eeb-dc32-423750e2a3b7"
      },
      "outputs": [
        {
          "output_type": "stream",
          "name": "stdout",
          "text": [
            "[[676   0   0   0   1   0   0   0   0   0   0   0]\n",
            " [  0 624  15   1   1   0   1   3   0  14   1   5]\n",
            " [  8  58 388   2   2   1   2  11   0 171   2  38]\n",
            " [  0   0   2 650   0   0   0   0   0   1   0   0]\n",
            " [  0   0   0   0 671   0   0   0   0   0   0   0]\n",
            " [  0   0   0   0   0 693   0   0   0   0   0   0]\n",
            " [  0   1   0   0   0   0 663   0   0   0   0   0]\n",
            " [  0   0   2   0   0   0   0 645   0   0   0   0]\n",
            " [  0   0   0   0   0   0   0   0 675   0   0   0]\n",
            " [  5  36 108   1   3   0   3   7   1 462   2  20]\n",
            " [  0   0   0   0   0   0   0   0   0   0 693   0]\n",
            " [  0  12  20   0   1   0   0   0   0  19   1 603]]\n",
            "Classification Report:\n",
            "              precision    recall  f1-score   support\n",
            "\n",
            "         1.0       0.98      1.00      0.99       677\n",
            "         2.0       0.85      0.94      0.89       665\n",
            "         3.0       0.73      0.57      0.64       683\n",
            "         4.0       0.99      1.00      0.99       653\n",
            "         5.0       0.99      1.00      0.99       671\n",
            "         6.0       1.00      1.00      1.00       693\n",
            "         7.0       0.99      1.00      0.99       664\n",
            "         8.0       0.97      1.00      0.98       647\n",
            "         9.0       1.00      1.00      1.00       675\n",
            "        10.0       0.69      0.71      0.70       648\n",
            "        11.0       0.99      1.00      1.00       693\n",
            "        12.0       0.91      0.92      0.91       656\n",
            "\n",
            "    accuracy                           0.93      8025\n",
            "   macro avg       0.92      0.93      0.92      8025\n",
            "weighted avg       0.92      0.93      0.93      8025\n",
            "\n",
            "Precision: 0.9240123070860125\n",
            "Recall: 0.9273274696774626\n",
            "F1 Score: 0.9246615008649394\n"
          ]
        }
      ],
      "source": [
        "from sklearn.metrics import confusion_matrix, accuracy_score\n",
        "from sklearn.metrics import precision_score, recall_score, f1_score, roc_auc_score\n",
        "from sklearn.metrics import classification_report\n",
        "cm = confusion_matrix(y_test, y_pred)\n",
        "print(cm)\n",
        "accu=accuracy_score(y_test, y_pred)\n",
        "\n",
        "# Calculate precision, recall, and F1 score\n",
        "precision = precision_score(y_test, y_pred, average='macro')\n",
        "recall = recall_score(y_test, y_pred, average='macro')\n",
        "f1 = f1_score(y_test, y_pred, average='macro')\n",
        "\n",
        "\n",
        "# Calculate classification report\n",
        "classification_rep = classification_report(y_test, y_pred)\n",
        "print(\"Classification Report:\")\n",
        "print(classification_rep)\n",
        "print(\"Precision:\", precision)\n",
        "print(\"Recall:\", recall)\n",
        "print(\"F1 Score:\", f1)\n",
        "\n",
        "df = pd.DataFrame()\n",
        "x = []\n",
        "x.append(accu)\n",
        "df[\"Accuracy\"] = x\n",
        "df[\"Precision\"] = precision\n",
        "df[\"Recall\"] = recall\n",
        "df[\"F1 Score\"] = f1\n",
        "df.to_csv('/content/drive/MyDrive/Colab Notebooks/file1.csv')"
      ]
    },
    {
      "cell_type": "code",
      "execution_count": 80,
      "metadata": {
        "colab": {
          "base_uri": "https://localhost:8080/",
          "height": 487
        },
        "id": "bzv7Ua4JOMuu",
        "outputId": "c9b32315-dfea-40f2-d828-66a138c74172"
      },
      "outputs": [
        {
          "output_type": "display_data",
          "data": {
            "text/plain": [
              "<Figure size 700x500 with 2 Axes>"
            ],
            "image/png": "[encoded data removed]"
          },
          "metadata": {}
        }
      ],
      "source": [
        "import seaborn as sns\n",
        "import matplotlib.pyplot as plt\n",
        "\n",
        "# Assuming you have already calculated the confusion matrix 'cm' for 14 classes\n",
        "\n",
        "# Plot the confusion matrix heatmap\n",
        "plt.figure(figsize=(7, 5))\n",
        "sns.heatmap(cm, annot=True, fmt='d', cmap='Blues', xticklabels=range(14), yticklabels=range(14))\n",
        "plt.xlabel('Predicted Labels')\n",
        "plt.ylabel('True Labels')\n",
        "plt.title('Confusion Matrix Heatmap')\n",
        "plt.show()"
      ]
    },
    {
      "cell_type": "code",
      "execution_count": 81,
      "metadata": {
        "colab": {
          "base_uri": "https://localhost:8080/"
        },
        "id": "o-1HFLo5S66g",
        "outputId": "62a1cc78-204b-4e05-dc2f-7e70d110abe6"
      },
      "outputs": [
        {
          "output_type": "stream",
          "name": "stdout",
          "text": [
            "[[ 4.  4.]\n",
            " [10. 10.]\n",
            " [11. 11.]\n",
            " ...\n",
            " [ 4.  4.]\n",
            " [ 5.  5.]\n",
            " [ 9.  9.]]\n"
          ]
        }
      ],
      "source": [
        "y_pred1 = classifier.predict(x_train)\n",
        "print(np.concatenate((y_pred1.reshape(len(y_pred1),1), y_train.reshape(len(y_train),1)),1))"
      ]
    },
    {
      "cell_type": "code",
      "execution_count": 82,
      "metadata": {
        "colab": {
          "base_uri": "https://localhost:8080/"
        },
        "id": "NnuS-r1TSa3m",
        "outputId": "f6dee8ad-84d1-48e4-f41d-c5a4afe6c458"
      },
      "outputs": [
        {
          "output_type": "stream",
          "name": "stdout",
          "text": [
            "[[1552    0    0    0    0    0    0    0    0    0    0    0]\n",
            " [   0 1564    0    0    0    0    0    0    0    0    0    0]\n",
            " [   0    0 1546    0    0    0    0    0    0    0    0    0]\n",
            " [   0    0    0 1576    0    0    0    0    0    0    0    0]\n",
            " [   0    0    0    0 1558    0    0    0    0    0    0    0]\n",
            " [   0    0    0    0    0 1536    0    0    0    0    0    0]\n",
            " [   0    0    0    0    0    0 1565    0    0    0    0    0]\n",
            " [   0    0    0    0    0    0    0 1582    0    0    0    0]\n",
            " [   0    0    0    0    0    0    0    0 1554    0    0    0]\n",
            " [   0    0    5    0    0    0    0    0    0 1576    0    0]\n",
            " [   0    0    0    0    0    0    0    0    0    0 1536    0]\n",
            " [   0    0    1    0    0    0    0    0    0    0    0 1572]]\n"
          ]
        },
        {
          "output_type": "execute_result",
          "data": {
            "text/plain": [
              "0.9996795385354911"
            ]
          },
          "metadata": {},
          "execution_count": 82
        }
      ],
      "source": [
        "dm = confusion_matrix(y_train, y_pred1)\n",
        "print(dm)\n",
        "accuracy_score(y_train, y_pred1)"
      ]
    }
  ],
  "metadata": {
    "colab": {
      "provenance": [],
      "mount_file_id": "1OFAN5uNuWDdSkt-aIiSstktkFR6CwSsL",
      "authorship_tag": "ABX9TyM/fjHknm5hmyD/SIfPKiBQ",
      "include_colab_link": true
    },
    "kernelspec": {
      "display_name": "Python 3",
      "name": "python3"
    },
    "language_info": {
      "name": "python"
    }
  },
  "nbformat": 4,
  "nbformat_minor": 0
}