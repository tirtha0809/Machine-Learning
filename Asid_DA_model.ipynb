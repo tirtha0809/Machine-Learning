{
  "cells": [
    {
      "cell_type": "markdown",
      "metadata": {
        "id": "view-in-github",
        "colab_type": "text"
      },
      "source": [
        "<a href=\"https://colab.research.google.com/github/tirtha0809/Machine-Learning/blob/main/Asid_DA_model.ipynb\" target=\"_parent\"><img src=\"https://colab.research.google.com/assets/colab-badge.svg\" alt=\"Open In Colab\"/></a>"
      ]
    },
    {
      "cell_type": "markdown",
      "metadata": {
        "id": "d23c76a2"
      },
      "source": [
        "# Importing Libraries"
      ],
      "id": "d23c76a2"
    },
    {
      "cell_type": "code",
      "execution_count": 1,
      "metadata": {
        "id": "5b2cef0e"
      },
      "outputs": [],
      "source": [
        "import numpy as np\n",
        "import pandas as pd\n",
        "import tensorflow as tf\n",
        "import keras as kf\n",
        "from keras.models import Sequential\n",
        "from keras.layers import Dense\n",
        "from matplotlib import pyplot\n",
        "from os import makedirs\n",
        "from numpy import dstack\n",
        "from sklearn.linear_model import LogisticRegression\n",
        "from sklearn.neighbors import KNeighborsClassifier\n",
        "from sklearn.ensemble import GradientBoostingClassifier\n",
        "from sklearn.ensemble import RandomForestClassifier\n",
        "from sklearn.tree import DecisionTreeClassifier\n",
        "from xgboost import XGBClassifier\n",
        "from sklearn.svm import SVC\n",
        "from sklearn.naive_bayes import GaussianNB\n",
        "from sklearn.ensemble import AdaBoostClassifier\n",
        "from sklearn.preprocessing import StandardScaler\n",
        "from sklearn.model_selection import train_test_split\n",
        "from imblearn.over_sampling import SMOTE\n",
        "from sklearn.metrics import confusion_matrix, accuracy_score\n",
        "from sklearn.metrics import precision_score, recall_score, f1_score, accuracy_score,roc_auc_score,roc_curve,auc\n",
        "from statistics import mean\n",
        "import time"
      ],
      "id": "5b2cef0e"
    },
    {
      "cell_type": "code",
      "execution_count": 2,
      "metadata": {
        "colab": {
          "base_uri": "https://localhost:8080/"
        },
        "id": "obp1lLW3UQLZ",
        "outputId": "0eeb6766-87e1-4f9a-b28c-870df2cfe592"
      },
      "outputs": [
        {
          "output_type": "stream",
          "name": "stdout",
          "text": [
            "Mounted at /content/drive\n"
          ]
        }
      ],
      "source": [
        "from google.colab import drive\n",
        "drive.mount('/content/drive')"
      ],
      "id": "obp1lLW3UQLZ"
    },
    {
      "cell_type": "markdown",
      "metadata": {
        "id": "78ab07f7"
      },
      "source": [
        "# Importing DataSet"
      ],
      "id": "78ab07f7"
    },
    {
      "cell_type": "code",
      "execution_count": 3,
      "metadata": {
        "colab": {
          "base_uri": "https://localhost:8080/"
        },
        "id": "9309e06d",
        "outputId": "c92adc3f-7700-4179-d033-e506fa36f1a5"
      },
      "outputs": [
        {
          "output_type": "stream",
          "name": "stdout",
          "text": [
            "3991\n"
          ]
        }
      ],
      "source": [
        "data = pd.read_csv('/content/drive/MyDrive/LANDSLIDE/LandslideData .csv')\n",
        "dataset = data.dropna(axis = 0, how ='any')\n",
        "X =  dataset.iloc[:,1:-1].values\n",
        "y = dataset.iloc[:, -1].values\n",
        "print(len(dataset))"
      ],
      "id": "9309e06d"
    },
    {
      "cell_type": "code",
      "execution_count": 4,
      "metadata": {
        "id": "588acb2f"
      },
      "outputs": [],
      "source": [
        "#smote = SMOTE()"
      ],
      "id": "588acb2f"
    },
    {
      "cell_type": "code",
      "execution_count": 5,
      "metadata": {
        "id": "363487ad"
      },
      "outputs": [],
      "source": [
        "#x_smote, y_smote = smote.fit_resample(X, y)\n",
        "smote= SMOTE(k_neighbors = 3)\n",
        "x_smote,y_smote = smote.fit_resample(X,y)"
      ],
      "id": "363487ad"
    },
    {
      "cell_type": "code",
      "execution_count": 6,
      "metadata": {
        "id": "654f6958"
      },
      "outputs": [],
      "source": [
        "from keras.models import load_model"
      ],
      "id": "654f6958"
    },
    {
      "cell_type": "code",
      "execution_count": 7,
      "metadata": {
        "id": "67861b3e"
      },
      "outputs": [],
      "source": [
        "# create a custom function to load model\n",
        "def load_all_models(n_models):\n",
        "    all_models = list()\n",
        "    for i in range(n_models):\n",
        "        # filename\n",
        "        filename = 'north/model' + str(i + 1) + '.h5'\n",
        "        # load model\n",
        "        model = load_model(filename)\n",
        "        # Add a list of all the weaker learners\n",
        "        all_models.append(model)\n",
        "        #print('>loaded %s' % filename)\n",
        "    return all_models"
      ],
      "id": "67861b3e"
    },
    {
      "cell_type": "markdown",
      "metadata": {
        "id": "0c4c39db"
      },
      "source": [
        "## Stacking models"
      ],
      "id": "0c4c39db"
    },
    {
      "cell_type": "code",
      "execution_count": 8,
      "metadata": {
        "id": "db0754d0"
      },
      "outputs": [],
      "source": [
        "# create stacked model input dataset as outputs from the ensemble\n",
        "def stacked_dataset(members, inputX):\n",
        "    stackX = None\n",
        "    for model in members:\n",
        "        # make prediction\n",
        "        yhat = model.predict(inputX, verbose=0)\n",
        "        # stack predictions into [rows, members, probabilities]\n",
        "        if stackX is None:\n",
        "            stackX = yhat #\n",
        "        else:\n",
        "            stackX = dstack((stackX, yhat))\n",
        "    # flatten predictions to [rows, members x probabilities]\n",
        "    stackX = stackX.reshape((stackX.shape[0], stackX.shape[1]*stackX.shape[2]))\n",
        "    return stackX"
      ],
      "id": "db0754d0"
    },
    {
      "cell_type": "markdown",
      "metadata": {
        "id": "c1de75a1"
      },
      "source": [
        "## Fit meta-learner"
      ],
      "id": "c1de75a1"
    },
    {
      "cell_type": "code",
      "execution_count": 9,
      "metadata": {
        "id": "620c3aa9"
      },
      "outputs": [],
      "source": [
        "# fit a model based on the outputs from the ensemble members\n",
        "def fit_stacked_model(members, inputX, inputy):\n",
        "    # create dataset using ensemble\n",
        "    stackedX = stacked_dataset(members, inputX)\n",
        "    #print(\"Models Test time: \",(end-start) * 10**3, \"ms\")\n",
        "    # fit the meta learner\n",
        "    # model = LogisticRegression() #meta learner\n",
        "    # model = SVC(kernel = 'rbf',random_state = 0,probability= True)\n",
        "    #model = SVC(kernel = 'linear', random_state = 0,probability=True)\n",
        "    # model = GaussianNB()\n",
        "    #model = KNeighborsClassifier(n_neighbors = 3, metric = 'minkowski', p = 2)\n",
        "    # model = GradientBoostingClassifier(n_estimators=50,learning_rate=0.5, max_depth=6, random_state=0)\n",
        "    model = RandomForestClassifier(criterion = 'entropy', random_state = 0)\n",
        "    #model = DecisionTreeClassifier(max_depth=7,criterion = 'entropy', random_state = 0)\n",
        "    # model = XGBClassifier(n_estimators=50,learning_rate=0.5,max_depth=3)\n",
        "    #model = AdaBoostClassifier(random_state = 0)\n",
        "    # model = AdaBoostClassifier(n_estimators = 300, learning_rate = 1,random_state = 0)\n",
        "    #model.fit(X_train, y_train)\n",
        "    model.fit(stackedX, inputy)\n",
        "    return model"
      ],
      "id": "620c3aa9"
    },
    {
      "cell_type": "code",
      "execution_count": 10,
      "metadata": {
        "id": "46d953ea"
      },
      "outputs": [],
      "source": [
        "def stacked_prediction(members, model, inputX):\n",
        "    # create dataset using ensemble\n",
        "    stackedX = stacked_dataset(members, inputX)\n",
        "    # make a prediction\n",
        "    yhat = model.predict(stackedX)\n",
        "    return yhat"
      ],
      "id": "46d953ea"
    },
    {
      "cell_type": "code",
      "execution_count": 11,
      "metadata": {
        "id": "1bd5b4f1"
      },
      "outputs": [],
      "source": [
        "def stacked_prediction_proba(members,model,inputX):\n",
        "    # create dataset using ensemble\n",
        "    stackedX = stacked_dataset(members,inputX)\n",
        "    # make a prediction\n",
        "    yhatProb = model.predict_proba(stackedX)\n",
        "    return yhatProb"
      ],
      "id": "1bd5b4f1"
    },
    {
      "cell_type": "code",
      "execution_count": 12,
      "metadata": {
        "id": "86c41c29"
      },
      "outputs": [],
      "source": [
        "acc_train = []\n",
        "acc_test = []\n",
        "Precision_macro = []\n",
        "Precision_micro = []\n",
        "Recall_macro = []\n",
        "Recall_micro = []\n",
        "F1_macro = []\n",
        "F1_micro = []\n",
        "AUC_ovo = []\n",
        "AUC_ovr = []\n",
        "train_time = []\n",
        "test_time = []"
      ],
      "id": "86c41c29"
    },
    {
      "cell_type": "code",
      "execution_count": 13,
      "metadata": {
        "id": "--nkGullVeMc"
      },
      "outputs": [],
      "source": [
        "num_classes = 15"
      ],
      "id": "--nkGullVeMc"
    },
    {
      "cell_type": "code",
      "execution_count": 14,
      "metadata": {
        "colab": {
          "base_uri": "https://localhost:8080/"
        },
        "id": "426c21a7",
        "outputId": "5599ae87-a775-4203-a737-824e4c0bd232"
      },
      "outputs": [
        {
          "output_type": "stream",
          "name": "stdout",
          "text": [
            "[ 0.  1.  2.  3.  4.  5.  6.  7.  8.  9. 10. 11.]\n"
          ]
        },
        {
          "output_type": "stream",
          "name": "stderr",
          "text": [
            "WARNING:absl:You are saving your model as an HDF5 file via `model.save()` or `keras.saving.save_model(model)`. This file format is considered legacy. We recommend using instead the native Keras format, e.g. `model.save('my_model.keras')` or `keras.saving.save_model(model, 'my_model.keras')`. \n",
            "WARNING:absl:You are saving your model as an HDF5 file via `model.save()` or `keras.saving.save_model(model)`. This file format is considered legacy. We recommend using instead the native Keras format, e.g. `model.save('my_model.keras')` or `keras.saving.save_model(model, 'my_model.keras')`. \n",
            "WARNING:absl:You are saving your model as an HDF5 file via `model.save()` or `keras.saving.save_model(model)`. This file format is considered legacy. We recommend using instead the native Keras format, e.g. `model.save('my_model.keras')` or `keras.saving.save_model(model, 'my_model.keras')`. \n",
            "WARNING:absl:You are saving your model as an HDF5 file via `model.save()` or `keras.saving.save_model(model)`. This file format is considered legacy. We recommend using instead the native Keras format, e.g. `model.save('my_model.keras')` or `keras.saving.save_model(model, 'my_model.keras')`. \n",
            "WARNING:absl:You are saving your model as an HDF5 file via `model.save()` or `keras.saving.save_model(model)`. This file format is considered legacy. We recommend using instead the native Keras format, e.g. `model.save('my_model.keras')` or `keras.saving.save_model(model, 'my_model.keras')`. \n",
            "WARNING:absl:You are saving your model as an HDF5 file via `model.save()` or `keras.saving.save_model(model)`. This file format is considered legacy. We recommend using instead the native Keras format, e.g. `model.save('my_model.keras')` or `keras.saving.save_model(model, 'my_model.keras')`. \n",
            "WARNING:absl:You are saving your model as an HDF5 file via `model.save()` or `keras.saving.save_model(model)`. This file format is considered legacy. We recommend using instead the native Keras format, e.g. `model.save('my_model.keras')` or `keras.saving.save_model(model, 'my_model.keras')`. \n",
            "WARNING:absl:You are saving your model as an HDF5 file via `model.save()` or `keras.saving.save_model(model)`. This file format is considered legacy. We recommend using instead the native Keras format, e.g. `model.save('my_model.keras')` or `keras.saving.save_model(model, 'my_model.keras')`. \n",
            "WARNING:absl:You are saving your model as an HDF5 file via `model.save()` or `keras.saving.save_model(model)`. This file format is considered legacy. We recommend using instead the native Keras format, e.g. `model.save('my_model.keras')` or `keras.saving.save_model(model, 'my_model.keras')`. \n",
            "WARNING:absl:You are saving your model as an HDF5 file via `model.save()` or `keras.saving.save_model(model)`. This file format is considered legacy. We recommend using instead the native Keras format, e.g. `model.save('my_model.keras')` or `keras.saving.save_model(model, 'my_model.keras')`. \n",
            "WARNING:absl:You are saving your model as an HDF5 file via `model.save()` or `keras.saving.save_model(model)`. This file format is considered legacy. We recommend using instead the native Keras format, e.g. `model.save('my_model.keras')` or `keras.saving.save_model(model, 'my_model.keras')`. \n",
            "WARNING:absl:You are saving your model as an HDF5 file via `model.save()` or `keras.saving.save_model(model)`. This file format is considered legacy. We recommend using instead the native Keras format, e.g. `model.save('my_model.keras')` or `keras.saving.save_model(model, 'my_model.keras')`. \n",
            "WARNING:absl:You are saving your model as an HDF5 file via `model.save()` or `keras.saving.save_model(model)`. This file format is considered legacy. We recommend using instead the native Keras format, e.g. `model.save('my_model.keras')` or `keras.saving.save_model(model, 'my_model.keras')`. \n",
            "WARNING:absl:You are saving your model as an HDF5 file via `model.save()` or `keras.saving.save_model(model)`. This file format is considered legacy. We recommend using instead the native Keras format, e.g. `model.save('my_model.keras')` or `keras.saving.save_model(model, 'my_model.keras')`. \n",
            "WARNING:absl:You are saving your model as an HDF5 file via `model.save()` or `keras.saving.save_model(model)`. This file format is considered legacy. We recommend using instead the native Keras format, e.g. `model.save('my_model.keras')` or `keras.saving.save_model(model, 'my_model.keras')`. \n",
            "WARNING:absl:You are saving your model as an HDF5 file via `model.save()` or `keras.saving.save_model(model)`. This file format is considered legacy. We recommend using instead the native Keras format, e.g. `model.save('my_model.keras')` or `keras.saving.save_model(model, 'my_model.keras')`. \n",
            "WARNING:absl:Compiled the loaded model, but the compiled metrics have yet to be built. `model.compile_metrics` will be empty until you train or evaluate the model.\n",
            "WARNING:absl:Compiled the loaded model, but the compiled metrics have yet to be built. `model.compile_metrics` will be empty until you train or evaluate the model.\n",
            "WARNING:absl:Compiled the loaded model, but the compiled metrics have yet to be built. `model.compile_metrics` will be empty until you train or evaluate the model.\n",
            "WARNING:absl:Compiled the loaded model, but the compiled metrics have yet to be built. `model.compile_metrics` will be empty until you train or evaluate the model.\n",
            "WARNING:absl:Compiled the loaded model, but the compiled metrics have yet to be built. `model.compile_metrics` will be empty until you train or evaluate the model.\n",
            "WARNING:absl:Compiled the loaded model, but the compiled metrics have yet to be built. `model.compile_metrics` will be empty until you train or evaluate the model.\n",
            "WARNING:absl:Compiled the loaded model, but the compiled metrics have yet to be built. `model.compile_metrics` will be empty until you train or evaluate the model.\n",
            "WARNING:absl:Compiled the loaded model, but the compiled metrics have yet to be built. `model.compile_metrics` will be empty until you train or evaluate the model.\n",
            "WARNING:absl:Compiled the loaded model, but the compiled metrics have yet to be built. `model.compile_metrics` will be empty until you train or evaluate the model.\n",
            "WARNING:absl:Compiled the loaded model, but the compiled metrics have yet to be built. `model.compile_metrics` will be empty until you train or evaluate the model.\n",
            "WARNING:absl:Compiled the loaded model, but the compiled metrics have yet to be built. `model.compile_metrics` will be empty until you train or evaluate the model.\n",
            "WARNING:absl:Compiled the loaded model, but the compiled metrics have yet to be built. `model.compile_metrics` will be empty until you train or evaluate the model.\n",
            "WARNING:absl:Compiled the loaded model, but the compiled metrics have yet to be built. `model.compile_metrics` will be empty until you train or evaluate the model.\n",
            "WARNING:absl:Compiled the loaded model, but the compiled metrics have yet to be built. `model.compile_metrics` will be empty until you train or evaluate the model.\n",
            "WARNING:absl:Compiled the loaded model, but the compiled metrics have yet to be built. `model.compile_metrics` will be empty until you train or evaluate the model.\n",
            "WARNING:absl:Compiled the loaded model, but the compiled metrics have yet to be built. `model.compile_metrics` will be empty until you train or evaluate the model.\n"
          ]
        },
        {
          "output_type": "stream",
          "name": "stdout",
          "text": [
            "Cross validation Train time:  617565.0389194489 ms\n",
            "Cross validation Test time:  11778.272867202759 ms\n",
            "[ 0.  1.  2.  3.  4.  5.  6.  7.  8.  9. 10. 11.]\n"
          ]
        },
        {
          "output_type": "stream",
          "name": "stderr",
          "text": [
            "WARNING:absl:You are saving your model as an HDF5 file via `model.save()` or `keras.saving.save_model(model)`. This file format is considered legacy. We recommend using instead the native Keras format, e.g. `model.save('my_model.keras')` or `keras.saving.save_model(model, 'my_model.keras')`. \n",
            "WARNING:absl:You are saving your model as an HDF5 file via `model.save()` or `keras.saving.save_model(model)`. This file format is considered legacy. We recommend using instead the native Keras format, e.g. `model.save('my_model.keras')` or `keras.saving.save_model(model, 'my_model.keras')`. \n",
            "WARNING:absl:You are saving your model as an HDF5 file via `model.save()` or `keras.saving.save_model(model)`. This file format is considered legacy. We recommend using instead the native Keras format, e.g. `model.save('my_model.keras')` or `keras.saving.save_model(model, 'my_model.keras')`. \n",
            "WARNING:absl:You are saving your model as an HDF5 file via `model.save()` or `keras.saving.save_model(model)`. This file format is considered legacy. We recommend using instead the native Keras format, e.g. `model.save('my_model.keras')` or `keras.saving.save_model(model, 'my_model.keras')`. \n",
            "WARNING:absl:You are saving your model as an HDF5 file via `model.save()` or `keras.saving.save_model(model)`. This file format is considered legacy. We recommend using instead the native Keras format, e.g. `model.save('my_model.keras')` or `keras.saving.save_model(model, 'my_model.keras')`. \n",
            "WARNING:absl:You are saving your model as an HDF5 file via `model.save()` or `keras.saving.save_model(model)`. This file format is considered legacy. We recommend using instead the native Keras format, e.g. `model.save('my_model.keras')` or `keras.saving.save_model(model, 'my_model.keras')`. \n",
            "WARNING:absl:You are saving your model as an HDF5 file via `model.save()` or `keras.saving.save_model(model)`. This file format is considered legacy. We recommend using instead the native Keras format, e.g. `model.save('my_model.keras')` or `keras.saving.save_model(model, 'my_model.keras')`. \n",
            "WARNING:absl:You are saving your model as an HDF5 file via `model.save()` or `keras.saving.save_model(model)`. This file format is considered legacy. We recommend using instead the native Keras format, e.g. `model.save('my_model.keras')` or `keras.saving.save_model(model, 'my_model.keras')`. \n",
            "WARNING:absl:You are saving your model as an HDF5 file via `model.save()` or `keras.saving.save_model(model)`. This file format is considered legacy. We recommend using instead the native Keras format, e.g. `model.save('my_model.keras')` or `keras.saving.save_model(model, 'my_model.keras')`. \n",
            "WARNING:absl:You are saving your model as an HDF5 file via `model.save()` or `keras.saving.save_model(model)`. This file format is considered legacy. We recommend using instead the native Keras format, e.g. `model.save('my_model.keras')` or `keras.saving.save_model(model, 'my_model.keras')`. \n",
            "WARNING:absl:You are saving your model as an HDF5 file via `model.save()` or `keras.saving.save_model(model)`. This file format is considered legacy. We recommend using instead the native Keras format, e.g. `model.save('my_model.keras')` or `keras.saving.save_model(model, 'my_model.keras')`. \n",
            "WARNING:absl:You are saving your model as an HDF5 file via `model.save()` or `keras.saving.save_model(model)`. This file format is considered legacy. We recommend using instead the native Keras format, e.g. `model.save('my_model.keras')` or `keras.saving.save_model(model, 'my_model.keras')`. \n",
            "WARNING:absl:You are saving your model as an HDF5 file via `model.save()` or `keras.saving.save_model(model)`. This file format is considered legacy. We recommend using instead the native Keras format, e.g. `model.save('my_model.keras')` or `keras.saving.save_model(model, 'my_model.keras')`. \n",
            "WARNING:absl:You are saving your model as an HDF5 file via `model.save()` or `keras.saving.save_model(model)`. This file format is considered legacy. We recommend using instead the native Keras format, e.g. `model.save('my_model.keras')` or `keras.saving.save_model(model, 'my_model.keras')`. \n",
            "WARNING:absl:You are saving your model as an HDF5 file via `model.save()` or `keras.saving.save_model(model)`. This file format is considered legacy. We recommend using instead the native Keras format, e.g. `model.save('my_model.keras')` or `keras.saving.save_model(model, 'my_model.keras')`. \n",
            "WARNING:absl:You are saving your model as an HDF5 file via `model.save()` or `keras.saving.save_model(model)`. This file format is considered legacy. We recommend using instead the native Keras format, e.g. `model.save('my_model.keras')` or `keras.saving.save_model(model, 'my_model.keras')`. \n",
            "WARNING:absl:Compiled the loaded model, but the compiled metrics have yet to be built. `model.compile_metrics` will be empty until you train or evaluate the model.\n",
            "WARNING:absl:Compiled the loaded model, but the compiled metrics have yet to be built. `model.compile_metrics` will be empty until you train or evaluate the model.\n",
            "WARNING:absl:Compiled the loaded model, but the compiled metrics have yet to be built. `model.compile_metrics` will be empty until you train or evaluate the model.\n",
            "WARNING:absl:Compiled the loaded model, but the compiled metrics have yet to be built. `model.compile_metrics` will be empty until you train or evaluate the model.\n",
            "WARNING:absl:Compiled the loaded model, but the compiled metrics have yet to be built. `model.compile_metrics` will be empty until you train or evaluate the model.\n",
            "WARNING:absl:Compiled the loaded model, but the compiled metrics have yet to be built. `model.compile_metrics` will be empty until you train or evaluate the model.\n",
            "WARNING:absl:Compiled the loaded model, but the compiled metrics have yet to be built. `model.compile_metrics` will be empty until you train or evaluate the model.\n",
            "WARNING:absl:Compiled the loaded model, but the compiled metrics have yet to be built. `model.compile_metrics` will be empty until you train or evaluate the model.\n",
            "WARNING:absl:Compiled the loaded model, but the compiled metrics have yet to be built. `model.compile_metrics` will be empty until you train or evaluate the model.\n",
            "WARNING:absl:Compiled the loaded model, but the compiled metrics have yet to be built. `model.compile_metrics` will be empty until you train or evaluate the model.\n",
            "WARNING:absl:Compiled the loaded model, but the compiled metrics have yet to be built. `model.compile_metrics` will be empty until you train or evaluate the model.\n",
            "WARNING:absl:Compiled the loaded model, but the compiled metrics have yet to be built. `model.compile_metrics` will be empty until you train or evaluate the model.\n",
            "WARNING:absl:Compiled the loaded model, but the compiled metrics have yet to be built. `model.compile_metrics` will be empty until you train or evaluate the model.\n",
            "WARNING:absl:Compiled the loaded model, but the compiled metrics have yet to be built. `model.compile_metrics` will be empty until you train or evaluate the model.\n",
            "WARNING:absl:Compiled the loaded model, but the compiled metrics have yet to be built. `model.compile_metrics` will be empty until you train or evaluate the model.\n",
            "WARNING:absl:Compiled the loaded model, but the compiled metrics have yet to be built. `model.compile_metrics` will be empty until you train or evaluate the model.\n"
          ]
        },
        {
          "output_type": "stream",
          "name": "stdout",
          "text": [
            "Cross validation Train time:  575883.3909034729 ms\n",
            "Cross validation Test time:  8925.503969192505 ms\n",
            "[ 0.  1.  2.  3.  4.  5.  6.  7.  8.  9. 10. 11.]\n"
          ]
        },
        {
          "output_type": "stream",
          "name": "stderr",
          "text": [
            "WARNING:absl:You are saving your model as an HDF5 file via `model.save()` or `keras.saving.save_model(model)`. This file format is considered legacy. We recommend using instead the native Keras format, e.g. `model.save('my_model.keras')` or `keras.saving.save_model(model, 'my_model.keras')`. \n",
            "WARNING:absl:You are saving your model as an HDF5 file via `model.save()` or `keras.saving.save_model(model)`. This file format is considered legacy. We recommend using instead the native Keras format, e.g. `model.save('my_model.keras')` or `keras.saving.save_model(model, 'my_model.keras')`. \n",
            "WARNING:absl:You are saving your model as an HDF5 file via `model.save()` or `keras.saving.save_model(model)`. This file format is considered legacy. We recommend using instead the native Keras format, e.g. `model.save('my_model.keras')` or `keras.saving.save_model(model, 'my_model.keras')`. \n",
            "WARNING:absl:You are saving your model as an HDF5 file via `model.save()` or `keras.saving.save_model(model)`. This file format is considered legacy. We recommend using instead the native Keras format, e.g. `model.save('my_model.keras')` or `keras.saving.save_model(model, 'my_model.keras')`. \n",
            "WARNING:absl:You are saving your model as an HDF5 file via `model.save()` or `keras.saving.save_model(model)`. This file format is considered legacy. We recommend using instead the native Keras format, e.g. `model.save('my_model.keras')` or `keras.saving.save_model(model, 'my_model.keras')`. \n",
            "WARNING:absl:You are saving your model as an HDF5 file via `model.save()` or `keras.saving.save_model(model)`. This file format is considered legacy. We recommend using instead the native Keras format, e.g. `model.save('my_model.keras')` or `keras.saving.save_model(model, 'my_model.keras')`. \n",
            "WARNING:absl:You are saving your model as an HDF5 file via `model.save()` or `keras.saving.save_model(model)`. This file format is considered legacy. We recommend using instead the native Keras format, e.g. `model.save('my_model.keras')` or `keras.saving.save_model(model, 'my_model.keras')`. \n",
            "WARNING:absl:You are saving your model as an HDF5 file via `model.save()` or `keras.saving.save_model(model)`. This file format is considered legacy. We recommend using instead the native Keras format, e.g. `model.save('my_model.keras')` or `keras.saving.save_model(model, 'my_model.keras')`. \n",
            "WARNING:absl:You are saving your model as an HDF5 file via `model.save()` or `keras.saving.save_model(model)`. This file format is considered legacy. We recommend using instead the native Keras format, e.g. `model.save('my_model.keras')` or `keras.saving.save_model(model, 'my_model.keras')`. \n",
            "WARNING:absl:You are saving your model as an HDF5 file via `model.save()` or `keras.saving.save_model(model)`. This file format is considered legacy. We recommend using instead the native Keras format, e.g. `model.save('my_model.keras')` or `keras.saving.save_model(model, 'my_model.keras')`. \n",
            "WARNING:absl:You are saving your model as an HDF5 file via `model.save()` or `keras.saving.save_model(model)`. This file format is considered legacy. We recommend using instead the native Keras format, e.g. `model.save('my_model.keras')` or `keras.saving.save_model(model, 'my_model.keras')`. \n",
            "WARNING:absl:You are saving your model as an HDF5 file via `model.save()` or `keras.saving.save_model(model)`. This file format is considered legacy. We recommend using instead the native Keras format, e.g. `model.save('my_model.keras')` or `keras.saving.save_model(model, 'my_model.keras')`. \n",
            "WARNING:absl:You are saving your model as an HDF5 file via `model.save()` or `keras.saving.save_model(model)`. This file format is considered legacy. We recommend using instead the native Keras format, e.g. `model.save('my_model.keras')` or `keras.saving.save_model(model, 'my_model.keras')`. \n",
            "WARNING:absl:You are saving your model as an HDF5 file via `model.save()` or `keras.saving.save_model(model)`. This file format is considered legacy. We recommend using instead the native Keras format, e.g. `model.save('my_model.keras')` or `keras.saving.save_model(model, 'my_model.keras')`. \n",
            "WARNING:absl:You are saving your model as an HDF5 file via `model.save()` or `keras.saving.save_model(model)`. This file format is considered legacy. We recommend using instead the native Keras format, e.g. `model.save('my_model.keras')` or `keras.saving.save_model(model, 'my_model.keras')`. \n",
            "WARNING:absl:You are saving your model as an HDF5 file via `model.save()` or `keras.saving.save_model(model)`. This file format is considered legacy. We recommend using instead the native Keras format, e.g. `model.save('my_model.keras')` or `keras.saving.save_model(model, 'my_model.keras')`. \n",
            "WARNING:absl:Compiled the loaded model, but the compiled metrics have yet to be built. `model.compile_metrics` will be empty until you train or evaluate the model.\n",
            "WARNING:absl:Compiled the loaded model, but the compiled metrics have yet to be built. `model.compile_metrics` will be empty until you train or evaluate the model.\n",
            "WARNING:absl:Compiled the loaded model, but the compiled metrics have yet to be built. `model.compile_metrics` will be empty until you train or evaluate the model.\n",
            "WARNING:absl:Compiled the loaded model, but the compiled metrics have yet to be built. `model.compile_metrics` will be empty until you train or evaluate the model.\n",
            "WARNING:absl:Compiled the loaded model, but the compiled metrics have yet to be built. `model.compile_metrics` will be empty until you train or evaluate the model.\n",
            "WARNING:absl:Compiled the loaded model, but the compiled metrics have yet to be built. `model.compile_metrics` will be empty until you train or evaluate the model.\n",
            "WARNING:absl:Compiled the loaded model, but the compiled metrics have yet to be built. `model.compile_metrics` will be empty until you train or evaluate the model.\n",
            "WARNING:absl:Compiled the loaded model, but the compiled metrics have yet to be built. `model.compile_metrics` will be empty until you train or evaluate the model.\n",
            "WARNING:absl:Compiled the loaded model, but the compiled metrics have yet to be built. `model.compile_metrics` will be empty until you train or evaluate the model.\n",
            "WARNING:absl:Compiled the loaded model, but the compiled metrics have yet to be built. `model.compile_metrics` will be empty until you train or evaluate the model.\n",
            "WARNING:absl:Compiled the loaded model, but the compiled metrics have yet to be built. `model.compile_metrics` will be empty until you train or evaluate the model.\n",
            "WARNING:absl:Compiled the loaded model, but the compiled metrics have yet to be built. `model.compile_metrics` will be empty until you train or evaluate the model.\n",
            "WARNING:absl:Compiled the loaded model, but the compiled metrics have yet to be built. `model.compile_metrics` will be empty until you train or evaluate the model.\n",
            "WARNING:absl:Compiled the loaded model, but the compiled metrics have yet to be built. `model.compile_metrics` will be empty until you train or evaluate the model.\n",
            "WARNING:absl:Compiled the loaded model, but the compiled metrics have yet to be built. `model.compile_metrics` will be empty until you train or evaluate the model.\n",
            "WARNING:absl:Compiled the loaded model, but the compiled metrics have yet to be built. `model.compile_metrics` will be empty until you train or evaluate the model.\n"
          ]
        },
        {
          "output_type": "stream",
          "name": "stdout",
          "text": [
            "Cross validation Train time:  584811.1629486084 ms\n",
            "Cross validation Test time:  9169.7838306427 ms\n",
            "[ 0.  1.  2.  3.  4.  5.  6.  7.  8.  9. 10. 11.]\n"
          ]
        },
        {
          "output_type": "stream",
          "name": "stderr",
          "text": [
            "WARNING:absl:You are saving your model as an HDF5 file via `model.save()` or `keras.saving.save_model(model)`. This file format is considered legacy. We recommend using instead the native Keras format, e.g. `model.save('my_model.keras')` or `keras.saving.save_model(model, 'my_model.keras')`. \n",
            "WARNING:absl:You are saving your model as an HDF5 file via `model.save()` or `keras.saving.save_model(model)`. This file format is considered legacy. We recommend using instead the native Keras format, e.g. `model.save('my_model.keras')` or `keras.saving.save_model(model, 'my_model.keras')`. \n",
            "WARNING:absl:You are saving your model as an HDF5 file via `model.save()` or `keras.saving.save_model(model)`. This file format is considered legacy. We recommend using instead the native Keras format, e.g. `model.save('my_model.keras')` or `keras.saving.save_model(model, 'my_model.keras')`. \n",
            "WARNING:absl:You are saving your model as an HDF5 file via `model.save()` or `keras.saving.save_model(model)`. This file format is considered legacy. We recommend using instead the native Keras format, e.g. `model.save('my_model.keras')` or `keras.saving.save_model(model, 'my_model.keras')`. \n",
            "WARNING:absl:You are saving your model as an HDF5 file via `model.save()` or `keras.saving.save_model(model)`. This file format is considered legacy. We recommend using instead the native Keras format, e.g. `model.save('my_model.keras')` or `keras.saving.save_model(model, 'my_model.keras')`. \n",
            "WARNING:absl:You are saving your model as an HDF5 file via `model.save()` or `keras.saving.save_model(model)`. This file format is considered legacy. We recommend using instead the native Keras format, e.g. `model.save('my_model.keras')` or `keras.saving.save_model(model, 'my_model.keras')`. \n",
            "WARNING:absl:You are saving your model as an HDF5 file via `model.save()` or `keras.saving.save_model(model)`. This file format is considered legacy. We recommend using instead the native Keras format, e.g. `model.save('my_model.keras')` or `keras.saving.save_model(model, 'my_model.keras')`. \n",
            "WARNING:absl:You are saving your model as an HDF5 file via `model.save()` or `keras.saving.save_model(model)`. This file format is considered legacy. We recommend using instead the native Keras format, e.g. `model.save('my_model.keras')` or `keras.saving.save_model(model, 'my_model.keras')`. \n",
            "WARNING:absl:You are saving your model as an HDF5 file via `model.save()` or `keras.saving.save_model(model)`. This file format is considered legacy. We recommend using instead the native Keras format, e.g. `model.save('my_model.keras')` or `keras.saving.save_model(model, 'my_model.keras')`. \n",
            "WARNING:absl:You are saving your model as an HDF5 file via `model.save()` or `keras.saving.save_model(model)`. This file format is considered legacy. We recommend using instead the native Keras format, e.g. `model.save('my_model.keras')` or `keras.saving.save_model(model, 'my_model.keras')`. \n",
            "WARNING:absl:You are saving your model as an HDF5 file via `model.save()` or `keras.saving.save_model(model)`. This file format is considered legacy. We recommend using instead the native Keras format, e.g. `model.save('my_model.keras')` or `keras.saving.save_model(model, 'my_model.keras')`. \n",
            "WARNING:absl:You are saving your model as an HDF5 file via `model.save()` or `keras.saving.save_model(model)`. This file format is considered legacy. We recommend using instead the native Keras format, e.g. `model.save('my_model.keras')` or `keras.saving.save_model(model, 'my_model.keras')`. \n",
            "WARNING:absl:You are saving your model as an HDF5 file via `model.save()` or `keras.saving.save_model(model)`. This file format is considered legacy. We recommend using instead the native Keras format, e.g. `model.save('my_model.keras')` or `keras.saving.save_model(model, 'my_model.keras')`. \n",
            "WARNING:absl:You are saving your model as an HDF5 file via `model.save()` or `keras.saving.save_model(model)`. This file format is considered legacy. We recommend using instead the native Keras format, e.g. `model.save('my_model.keras')` or `keras.saving.save_model(model, 'my_model.keras')`. \n",
            "WARNING:absl:You are saving your model as an HDF5 file via `model.save()` or `keras.saving.save_model(model)`. This file format is considered legacy. We recommend using instead the native Keras format, e.g. `model.save('my_model.keras')` or `keras.saving.save_model(model, 'my_model.keras')`. \n",
            "WARNING:absl:You are saving your model as an HDF5 file via `model.save()` or `keras.saving.save_model(model)`. This file format is considered legacy. We recommend using instead the native Keras format, e.g. `model.save('my_model.keras')` or `keras.saving.save_model(model, 'my_model.keras')`. \n",
            "WARNING:absl:Compiled the loaded model, but the compiled metrics have yet to be built. `model.compile_metrics` will be empty until you train or evaluate the model.\n",
            "WARNING:absl:Compiled the loaded model, but the compiled metrics have yet to be built. `model.compile_metrics` will be empty until you train or evaluate the model.\n",
            "WARNING:absl:Compiled the loaded model, but the compiled metrics have yet to be built. `model.compile_metrics` will be empty until you train or evaluate the model.\n",
            "WARNING:absl:Compiled the loaded model, but the compiled metrics have yet to be built. `model.compile_metrics` will be empty until you train or evaluate the model.\n",
            "WARNING:absl:Compiled the loaded model, but the compiled metrics have yet to be built. `model.compile_metrics` will be empty until you train or evaluate the model.\n",
            "WARNING:absl:Compiled the loaded model, but the compiled metrics have yet to be built. `model.compile_metrics` will be empty until you train or evaluate the model.\n",
            "WARNING:absl:Compiled the loaded model, but the compiled metrics have yet to be built. `model.compile_metrics` will be empty until you train or evaluate the model.\n",
            "WARNING:absl:Compiled the loaded model, but the compiled metrics have yet to be built. `model.compile_metrics` will be empty until you train or evaluate the model.\n",
            "WARNING:absl:Compiled the loaded model, but the compiled metrics have yet to be built. `model.compile_metrics` will be empty until you train or evaluate the model.\n",
            "WARNING:absl:Compiled the loaded model, but the compiled metrics have yet to be built. `model.compile_metrics` will be empty until you train or evaluate the model.\n",
            "WARNING:absl:Compiled the loaded model, but the compiled metrics have yet to be built. `model.compile_metrics` will be empty until you train or evaluate the model.\n",
            "WARNING:absl:Compiled the loaded model, but the compiled metrics have yet to be built. `model.compile_metrics` will be empty until you train or evaluate the model.\n",
            "WARNING:absl:Compiled the loaded model, but the compiled metrics have yet to be built. `model.compile_metrics` will be empty until you train or evaluate the model.\n",
            "WARNING:absl:Compiled the loaded model, but the compiled metrics have yet to be built. `model.compile_metrics` will be empty until you train or evaluate the model.\n",
            "WARNING:absl:Compiled the loaded model, but the compiled metrics have yet to be built. `model.compile_metrics` will be empty until you train or evaluate the model.\n",
            "WARNING:absl:Compiled the loaded model, but the compiled metrics have yet to be built. `model.compile_metrics` will be empty until you train or evaluate the model.\n"
          ]
        },
        {
          "output_type": "stream",
          "name": "stdout",
          "text": [
            "Cross validation Train time:  578101.2814044952 ms\n",
            "Cross validation Test time:  8695.40023803711 ms\n",
            "[ 0.  1.  2.  3.  4.  5.  6.  7.  8.  9. 10. 11.]\n"
          ]
        },
        {
          "output_type": "stream",
          "name": "stderr",
          "text": [
            "WARNING:absl:You are saving your model as an HDF5 file via `model.save()` or `keras.saving.save_model(model)`. This file format is considered legacy. We recommend using instead the native Keras format, e.g. `model.save('my_model.keras')` or `keras.saving.save_model(model, 'my_model.keras')`. \n",
            "WARNING:absl:You are saving your model as an HDF5 file via `model.save()` or `keras.saving.save_model(model)`. This file format is considered legacy. We recommend using instead the native Keras format, e.g. `model.save('my_model.keras')` or `keras.saving.save_model(model, 'my_model.keras')`. \n",
            "WARNING:absl:You are saving your model as an HDF5 file via `model.save()` or `keras.saving.save_model(model)`. This file format is considered legacy. We recommend using instead the native Keras format, e.g. `model.save('my_model.keras')` or `keras.saving.save_model(model, 'my_model.keras')`. \n",
            "WARNING:absl:You are saving your model as an HDF5 file via `model.save()` or `keras.saving.save_model(model)`. This file format is considered legacy. We recommend using instead the native Keras format, e.g. `model.save('my_model.keras')` or `keras.saving.save_model(model, 'my_model.keras')`. \n",
            "WARNING:absl:You are saving your model as an HDF5 file via `model.save()` or `keras.saving.save_model(model)`. This file format is considered legacy. We recommend using instead the native Keras format, e.g. `model.save('my_model.keras')` or `keras.saving.save_model(model, 'my_model.keras')`. \n",
            "WARNING:absl:You are saving your model as an HDF5 file via `model.save()` or `keras.saving.save_model(model)`. This file format is considered legacy. We recommend using instead the native Keras format, e.g. `model.save('my_model.keras')` or `keras.saving.save_model(model, 'my_model.keras')`. \n",
            "WARNING:absl:You are saving your model as an HDF5 file via `model.save()` or `keras.saving.save_model(model)`. This file format is considered legacy. We recommend using instead the native Keras format, e.g. `model.save('my_model.keras')` or `keras.saving.save_model(model, 'my_model.keras')`. \n",
            "WARNING:absl:You are saving your model as an HDF5 file via `model.save()` or `keras.saving.save_model(model)`. This file format is considered legacy. We recommend using instead the native Keras format, e.g. `model.save('my_model.keras')` or `keras.saving.save_model(model, 'my_model.keras')`. \n",
            "WARNING:absl:You are saving your model as an HDF5 file via `model.save()` or `keras.saving.save_model(model)`. This file format is considered legacy. We recommend using instead the native Keras format, e.g. `model.save('my_model.keras')` or `keras.saving.save_model(model, 'my_model.keras')`. \n",
            "WARNING:absl:You are saving your model as an HDF5 file via `model.save()` or `keras.saving.save_model(model)`. This file format is considered legacy. We recommend using instead the native Keras format, e.g. `model.save('my_model.keras')` or `keras.saving.save_model(model, 'my_model.keras')`. \n",
            "WARNING:absl:You are saving your model as an HDF5 file via `model.save()` or `keras.saving.save_model(model)`. This file format is considered legacy. We recommend using instead the native Keras format, e.g. `model.save('my_model.keras')` or `keras.saving.save_model(model, 'my_model.keras')`. \n",
            "WARNING:absl:You are saving your model as an HDF5 file via `model.save()` or `keras.saving.save_model(model)`. This file format is considered legacy. We recommend using instead the native Keras format, e.g. `model.save('my_model.keras')` or `keras.saving.save_model(model, 'my_model.keras')`. \n",
            "WARNING:absl:You are saving your model as an HDF5 file via `model.save()` or `keras.saving.save_model(model)`. This file format is considered legacy. We recommend using instead the native Keras format, e.g. `model.save('my_model.keras')` or `keras.saving.save_model(model, 'my_model.keras')`. \n",
            "WARNING:absl:You are saving your model as an HDF5 file via `model.save()` or `keras.saving.save_model(model)`. This file format is considered legacy. We recommend using instead the native Keras format, e.g. `model.save('my_model.keras')` or `keras.saving.save_model(model, 'my_model.keras')`. \n",
            "WARNING:absl:You are saving your model as an HDF5 file via `model.save()` or `keras.saving.save_model(model)`. This file format is considered legacy. We recommend using instead the native Keras format, e.g. `model.save('my_model.keras')` or `keras.saving.save_model(model, 'my_model.keras')`. \n",
            "WARNING:absl:You are saving your model as an HDF5 file via `model.save()` or `keras.saving.save_model(model)`. This file format is considered legacy. We recommend using instead the native Keras format, e.g. `model.save('my_model.keras')` or `keras.saving.save_model(model, 'my_model.keras')`. \n",
            "WARNING:absl:Compiled the loaded model, but the compiled metrics have yet to be built. `model.compile_metrics` will be empty until you train or evaluate the model.\n",
            "WARNING:absl:Compiled the loaded model, but the compiled metrics have yet to be built. `model.compile_metrics` will be empty until you train or evaluate the model.\n",
            "WARNING:absl:Compiled the loaded model, but the compiled metrics have yet to be built. `model.compile_metrics` will be empty until you train or evaluate the model.\n",
            "WARNING:absl:Compiled the loaded model, but the compiled metrics have yet to be built. `model.compile_metrics` will be empty until you train or evaluate the model.\n",
            "WARNING:absl:Compiled the loaded model, but the compiled metrics have yet to be built. `model.compile_metrics` will be empty until you train or evaluate the model.\n",
            "WARNING:absl:Compiled the loaded model, but the compiled metrics have yet to be built. `model.compile_metrics` will be empty until you train or evaluate the model.\n",
            "WARNING:absl:Compiled the loaded model, but the compiled metrics have yet to be built. `model.compile_metrics` will be empty until you train or evaluate the model.\n",
            "WARNING:absl:Compiled the loaded model, but the compiled metrics have yet to be built. `model.compile_metrics` will be empty until you train or evaluate the model.\n",
            "WARNING:absl:Compiled the loaded model, but the compiled metrics have yet to be built. `model.compile_metrics` will be empty until you train or evaluate the model.\n",
            "WARNING:absl:Compiled the loaded model, but the compiled metrics have yet to be built. `model.compile_metrics` will be empty until you train or evaluate the model.\n",
            "WARNING:absl:Compiled the loaded model, but the compiled metrics have yet to be built. `model.compile_metrics` will be empty until you train or evaluate the model.\n",
            "WARNING:absl:Compiled the loaded model, but the compiled metrics have yet to be built. `model.compile_metrics` will be empty until you train or evaluate the model.\n",
            "WARNING:absl:Compiled the loaded model, but the compiled metrics have yet to be built. `model.compile_metrics` will be empty until you train or evaluate the model.\n",
            "WARNING:absl:Compiled the loaded model, but the compiled metrics have yet to be built. `model.compile_metrics` will be empty until you train or evaluate the model.\n",
            "WARNING:absl:Compiled the loaded model, but the compiled metrics have yet to be built. `model.compile_metrics` will be empty until you train or evaluate the model.\n",
            "WARNING:absl:Compiled the loaded model, but the compiled metrics have yet to be built. `model.compile_metrics` will be empty until you train or evaluate the model.\n"
          ]
        },
        {
          "output_type": "stream",
          "name": "stdout",
          "text": [
            "Cross validation Train time:  576795.9222793579 ms\n",
            "Cross validation Test time:  8687.67523765564 ms\n"
          ]
        }
      ],
      "source": [
        "for i in range(5):\n",
        "    X_train_val, X_test_cv, y_train_val, y_test_cv = train_test_split(x_smote, y_smote, test_size=0.25, random_state=i)\n",
        "    X_train_cv, X_val_cv, y_train_cv, y_val_cv = train_test_split(X_train_val, y_train_val, test_size=0.25, random_state=i)\n",
        "    y_train_cv = y_train_cv - 1\n",
        "    y_val_cv = y_val_cv - 1\n",
        "    y_test_cv = y_test_cv - 1\n",
        "\n",
        "    sc = StandardScaler()\n",
        "    X_train_cv = sc.fit_transform(X_train_cv)\n",
        "    X_val_cv = sc.transform(X_val_cv)\n",
        "    X_test_cv = sc.transform(X_test_cv)\n",
        "    unique_labels = np.unique(y_train_cv)\n",
        "    print(unique_labels)\n",
        "\n",
        "    start = time.time()\n",
        "    # Model 1\n",
        "    ann1 = Sequential()\n",
        "    ann1.add(tf.keras.layers.Dense(units=10, activation='relu'))\n",
        "    ann1.add(tf.keras.layers.Dense(units=10, activation='relu'))\n",
        "    ann1.add(tf.keras.layers.Dense(units=10, activation='relu'))\n",
        "    ann1.add(tf.keras.layers.Dense(units=num_classes, activation='softmax'))\n",
        "    ann1.compile(optimizer = 'adam', loss = kf.losses.SparseCategoricalCrossentropy(), metrics = [kf.metrics.CategoricalAccuracy()])\n",
        "    ann1.fit(X_train_cv, y_train_cv, batch_size = 128, epochs = 100,verbose=0)\n",
        "\n",
        "    # Model 2\n",
        "    ann2 = Sequential()\n",
        "    ann2.add(tf.keras.layers.Dense(units=20, activation='relu'))\n",
        "    ann2.add(tf.keras.layers.Dense(units=20, activation='relu'))\n",
        "    ann2.add(tf.keras.layers.Dense(units=20, activation='relu'))\n",
        "    ann2.add(tf.keras.layers.Dense(units=num_classes, activation='softmax'))\n",
        "    ann2.compile(optimizer = 'adam', loss = kf.losses.SparseCategoricalCrossentropy(), metrics = [kf.metrics.CategoricalAccuracy()])\n",
        "    ann2.fit(X_train_cv, y_train_cv, batch_size = 128, epochs = 100,verbose=0)\n",
        "\n",
        "    # Model 3\n",
        "    ann3 = Sequential()\n",
        "    ann3.add(tf.keras.layers.Dense(units=30, activation='relu'))\n",
        "    ann3.add(tf.keras.layers.Dense(units=30, activation='relu'))\n",
        "    ann3.add(tf.keras.layers.Dense(units=30, activation='relu'))\n",
        "    ann3.add(tf.keras.layers.Dense(units=num_classes, activation='softmax'))\n",
        "    ann3.compile(optimizer = 'adam', loss = kf.losses.SparseCategoricalCrossentropy(), metrics = [kf.metrics.CategoricalAccuracy()])\n",
        "    ann3.fit(X_train_cv, y_train_cv, batch_size = 128, epochs = 100,verbose=0)\n",
        "\n",
        "    # Model 4\n",
        "\n",
        "    ann4 = Sequential()\n",
        "    ann4.add(tf.keras.layers.Dense(units=40, activation='relu'))\n",
        "    ann4.add(tf.keras.layers.Dense(units=40, activation='relu'))\n",
        "    ann4.add(tf.keras.layers.Dense(units=40, activation='relu'))\n",
        "    ann4.add(tf.keras.layers.Dense(units=num_classes, activation='softmax'))\n",
        "    ann4.compile(optimizer = 'adam', loss = kf.losses.SparseCategoricalCrossentropy(), metrics = [kf.metrics.CategoricalAccuracy()])\n",
        "    ann4.fit(X_train_cv, y_train_cv, batch_size = 128, epochs = 100,verbose=0)\n",
        "\n",
        "    # Model 5\n",
        "\n",
        "    ann5 = Sequential()\n",
        "    ann5.add(tf.keras.layers.Dense(units=15, activation='relu'))\n",
        "    ann5.add(tf.keras.layers.Dense(units=15, activation='relu'))\n",
        "    ann5.add(tf.keras.layers.Dense(units=15, activation='relu'))\n",
        "    ann5.add(tf.keras.layers.Dense(units=num_classes, activation='softmax'))\n",
        "    ann5.compile(optimizer = 'adam', loss = kf.losses.SparseCategoricalCrossentropy(), metrics = [kf.metrics.CategoricalAccuracy()])\n",
        "    ann5.fit(X_train_cv, y_train_cv, batch_size = 128, epochs = 100,verbose=0)\n",
        "\n",
        "    # Model 6\n",
        "\n",
        "    ann6 = Sequential()\n",
        "    ann6.add(tf.keras.layers.Dense(units=25, activation='relu'))\n",
        "    ann6.add(tf.keras.layers.Dense(units=25, activation='relu'))\n",
        "    ann6.add(tf.keras.layers.Dense(units=25, activation='relu'))\n",
        "    ann6.add(tf.keras.layers.Dense(units=num_classes, activation='softmax'))\n",
        "    ann6.compile(optimizer = 'adam', loss = kf.losses.SparseCategoricalCrossentropy(), metrics = [kf.metrics.CategoricalAccuracy()])\n",
        "    ann6.fit(X_train_cv, y_train_cv, batch_size = 128, epochs = 100,verbose=0)\n",
        "\n",
        "    # Model 7\n",
        "\n",
        "    ann7 = Sequential()\n",
        "    ann7.add(tf.keras.layers.Dense(units=35, activation='relu'))\n",
        "    ann7.add(tf.keras.layers.Dense(units=35, activation='relu'))\n",
        "    ann7.add(tf.keras.layers.Dense(units=35, activation='relu'))\n",
        "    ann7.add(tf.keras.layers.Dense(units=num_classes, activation='softmax'))\n",
        "    ann7.compile(optimizer = 'adam', loss = kf.losses.SparseCategoricalCrossentropy(), metrics = [kf.metrics.CategoricalAccuracy()])\n",
        "    ann7.fit(X_train_cv, y_train_cv, batch_size = 128, epochs = 100,verbose=0)\n",
        "\n",
        "    # Model 8\n",
        "\n",
        "    ann8 = Sequential()\n",
        "    ann8.add(tf.keras.layers.Dense(units=45, activation='relu'))\n",
        "    ann8.add(tf.keras.layers.Dense(units=45, activation='relu'))\n",
        "    ann8.add(tf.keras.layers.Dense(units=45, activation='relu'))\n",
        "    ann8.add(tf.keras.layers.Dense(units=num_classes, activation='softmax'))\n",
        "    ann8.compile(optimizer = 'adam', loss = kf.losses.SparseCategoricalCrossentropy(), metrics = [kf.metrics.CategoricalAccuracy()])\n",
        "    ann8.fit(X_train_cv, y_train_cv, batch_size = 128, epochs = 100,verbose=0)\n",
        "\n",
        "    # Model 9\n",
        "\n",
        "    ann9 = Sequential()\n",
        "    ann9.add(tf.keras.layers.Dense(units=50, activation='relu'))\n",
        "    ann9.add(tf.keras.layers.Dense(units=50, activation='relu'))\n",
        "    ann9.add(tf.keras.layers.Dense(units=50, activation='relu'))\n",
        "    ann9.add(tf.keras.layers.Dense(units=num_classes, activation='softmax'))\n",
        "    ann9.compile(optimizer = 'adam', loss = kf.losses.SparseCategoricalCrossentropy(), metrics = [kf.metrics.CategoricalAccuracy()])\n",
        "    ann9.fit(X_train_cv, y_train_cv, batch_size = 128, epochs = 150,verbose=0)\n",
        "\n",
        "    # Model 10\n",
        "\n",
        "    ann10 = Sequential()\n",
        "    ann10.add(tf.keras.layers.Dense(units=60, activation='relu'))\n",
        "    ann10.add(tf.keras.layers.Dense(units=60, activation='relu'))\n",
        "    ann10.add(tf.keras.layers.Dense(units=60, activation='relu'))\n",
        "    ann10.add(tf.keras.layers.Dense(units=num_classes, activation='softmax'))\n",
        "    ann10.compile(optimizer = 'adam', loss = kf.losses.SparseCategoricalCrossentropy(), metrics = [kf.metrics.CategoricalAccuracy()])\n",
        "    ann10.fit(X_train_cv, y_train_cv, batch_size = 128, epochs = 150,verbose=0)\n",
        "    # Model 11\n",
        "\n",
        "    ann11 = Sequential()\n",
        "    ann11.add(tf.keras.layers.Dense(units=70, activation='relu'))\n",
        "    ann11.add(tf.keras.layers.Dense(units=70, activation='relu'))\n",
        "    ann11.add(tf.keras.layers.Dense(units=70, activation='relu'))\n",
        "    ann11.add(tf.keras.layers.Dense(units=num_classes, activation='softmax'))\n",
        "    ann11.compile(optimizer = 'adam', loss = kf.losses.SparseCategoricalCrossentropy(), metrics = [kf.metrics.CategoricalAccuracy()])\n",
        "    ann11.fit(X_train_cv, y_train_cv, batch_size = 128, epochs = 150,verbose=0)\n",
        "\n",
        "    # Model 12\n",
        "\n",
        "    ann12 = Sequential()\n",
        "    ann12.add(tf.keras.layers.Dense(units=80, activation='relu'))\n",
        "    ann12.add(tf.keras.layers.Dense(units=80, activation='relu'))\n",
        "    ann12.add(tf.keras.layers.Dense(units=80, activation='relu'))\n",
        "    ann12.add(tf.keras.layers.Dense(units=num_classes, activation='softmax'))\n",
        "    ann12.compile(optimizer = 'adam', loss = kf.losses.SparseCategoricalCrossentropy(), metrics = [kf.metrics.CategoricalAccuracy()])\n",
        "    ann12.fit(X_train_cv, y_train_cv, batch_size = 128, epochs = 150,verbose=0)\n",
        "\n",
        "    # Model 13\n",
        "\n",
        "    ann13 = Sequential()\n",
        "    ann13.add(tf.keras.layers.Dense(units=55, activation='relu'))\n",
        "    ann13.add(tf.keras.layers.Dense(units=55, activation='relu'))\n",
        "    ann13.add(tf.keras.layers.Dense(units=55, activation='relu'))\n",
        "    ann13.add(tf.keras.layers.Dense(units=num_classes, activation='softmax'))\n",
        "    ann13.compile(optimizer = 'adam', loss = kf.losses.SparseCategoricalCrossentropy(), metrics = [kf.metrics.CategoricalAccuracy()])\n",
        "    ann13.fit(X_train_cv, y_train_cv, batch_size = 128, epochs = 150,verbose=0)\n",
        "\n",
        "    # Model 14\n",
        "\n",
        "    ann14 = Sequential()\n",
        "    ann14.add(tf.keras.layers.Dense(units=65, activation='relu'))\n",
        "    ann14.add(tf.keras.layers.Dense(units=65, activation='relu'))\n",
        "    ann14.add(tf.keras.layers.Dense(units=65, activation='relu'))\n",
        "    ann14.add(tf.keras.layers.Dense(units=num_classes, activation='softmax'))\n",
        "    ann14.compile(optimizer = 'adam', loss = kf.losses.SparseCategoricalCrossentropy(), metrics = [kf.metrics.CategoricalAccuracy()])\n",
        "    ann14.fit(X_train_cv, y_train_cv, batch_size = 128, epochs = 150,verbose=0)\n",
        "\n",
        "    # Model 15\n",
        "\n",
        "    ann15 = Sequential()\n",
        "    ann15.add(tf.keras.layers.Dense(units=75, activation='relu'))\n",
        "    ann15.add(tf.keras.layers.Dense(units=75, activation='relu'))\n",
        "    ann15.add(tf.keras.layers.Dense(units=75, activation='relu'))\n",
        "    ann15.add(tf.keras.layers.Dense(units=num_classes, activation='softmax'))\n",
        "    ann15.compile(optimizer = 'adam', loss = kf.losses.SparseCategoricalCrossentropy(), metrics = [kf.metrics.CategoricalAccuracy()])\n",
        "    ann15.fit(X_train_cv, y_train_cv, batch_size = 128, epochs = 150,verbose=0)\n",
        "\n",
        "    # Model 16\n",
        "\n",
        "    ann16 = Sequential()\n",
        "    ann16.add(tf.keras.layers.Dense(units=85, activation='relu'))\n",
        "    ann16.add(tf.keras.layers.Dense(units=85, activation= 'relu'))\n",
        "    ann16.add(tf.keras.layers.Dense(units=85, activation='relu'))\n",
        "    ann16.add(tf.keras.layers.Dense(units=num_classes, activation='softmax'))\n",
        "    ann16.compile(optimizer = 'adam', loss = kf.losses.SparseCategoricalCrossentropy(), metrics = [kf.metrics.CategoricalAccuracy()])\n",
        "    ann16.fit(X_train_cv, y_train_cv, batch_size = 128, epochs = 150,verbose=0)\n",
        "\n",
        "    ann1.save('north/model1.h5')\n",
        "    ann2.save('north/model2.h5')\n",
        "    ann3.save('north/model3.h5')\n",
        "    ann4.save('north/model4.h5')\n",
        "    ann5.save('north/model5.h5')\n",
        "    ann6.save('north/model6.h5')\n",
        "    ann7.save('north/model7.h5')\n",
        "    ann8.save('north/model8.h5')\n",
        "    ann9.save('north/model9.h5')\n",
        "    ann10.save('north/model10.h5')\n",
        "    ann11.save('north/model11.h5')\n",
        "    ann12.save('north/model12.h5')\n",
        "    ann13.save('north/model13.h5')\n",
        "    ann14.save('north/model14.h5')\n",
        "    ann15.save('north/model15.h5')\n",
        "    ann16.save('north/model16.h5')\n",
        "\n",
        "    members = load_all_models(16)\n",
        "    model = fit_stacked_model(members, X_train_cv,y_train_cv)\n",
        "    end = time.time()\n",
        "    print(\"Cross validation Train time: \",(end-start) * 10**3, \"ms\")\n",
        "    t = (end-start)*1000\n",
        "    train_time.append(t)\n",
        "\n",
        "    start = time.time()\n",
        "    y_pred = stacked_prediction(members, model, X_test_cv)\n",
        "    end = time.time()\n",
        "\n",
        "    t = (end - start)*1000\n",
        "    test_time.append(t)\n",
        "\n",
        "    print(\"Cross validation Test time: \",(end-start) * 10**3, \"ms\")\n",
        "    y_test_prob = stacked_prediction_proba(members,model,X_test_cv)\n",
        "    y_train_pred = stacked_prediction(members, model, X_train_cv)\n",
        "\n",
        "    cm = confusion_matrix(y_test_cv, y_pred)\n",
        "\n",
        "\n",
        "    accuracy = accuracy_score(y_test_cv, y_pred)\n",
        "    acc_test.append(accuracy)\n",
        "    accuracy_train = accuracy_score(y_train_cv, y_train_pred)\n",
        "    acc_train.append(accuracy_train)\n",
        "\n",
        "    pre_macro = precision_score(y_test_cv, y_pred,average='macro')\n",
        "    Precision_macro.append(pre_macro)\n",
        "    pre_micro = precision_score(y_test_cv, y_pred,average='micro')\n",
        "    Precision_micro.append(pre_micro)\n",
        "\n",
        "    re_macro = recall_score(y_test_cv, y_pred,average='macro')\n",
        "    Recall_macro.append(re_macro)\n",
        "    re_micro = recall_score(y_test_cv, y_pred,average='micro')\n",
        "    Recall_micro.append(re_micro)\n",
        "\n",
        "    f1_macro = f1_score(y_test_cv, y_pred,average='macro')\n",
        "    F1_macro.append(f1_macro)\n",
        "    f1_micro = f1_score(y_test_cv, y_pred,average='micro')\n",
        "    F1_micro.append(f1_micro)\n",
        "\n",
        "    auc_ovo = roc_auc_score(y_test_cv,y_test_prob,multi_class='ovo')\n",
        "    AUC_ovo.append(auc_ovo)\n",
        "    auc_ovr = roc_auc_score(y_test_cv,y_test_prob,multi_class='ovr')\n",
        "    AUC_ovr.append(auc_ovr)"
      ],
      "id": "426c21a7"
    },
    {
      "cell_type": "code",
      "execution_count": 15,
      "metadata": {
        "id": "4631b43e"
      },
      "outputs": [],
      "source": [
        "result_cv = pd.DataFrame()\n",
        "result_cv[\"Train_acc\"] = acc_train\n",
        "result_cv[\"Test_acc\"] = acc_test\n",
        "result_cv[\"Precision(macro)\"] = Precision_macro\n",
        "result_cv[\"Precision(micro)\"] = Precision_micro\n",
        "result_cv[\"Recall(macro)\"] = Recall_macro\n",
        "result_cv[\"Recall(micro)\"] = Recall_micro\n",
        "result_cv[\"F1(macro)\"] = F1_macro\n",
        "result_cv[\"F1(micro)\"] = F1_micro\n",
        "result_cv[\"AUC(ovo)\"] = AUC_ovo\n",
        "result_cv[\"AUC(ovr)\"] = AUC_ovr\n",
        "result_cv[\"Train Time\"] = train_time\n",
        "result_cv[\"Test Time\"] = test_time"
      ],
      "id": "4631b43e"
    },
    {
      "cell_type": "code",
      "execution_count": 16,
      "metadata": {
        "id": "6bf66a36",
        "colab": {
          "base_uri": "https://localhost:8080/"
        },
        "outputId": "6fc7f9d9-98dd-49c1-f7f0-cf5f52ba3c9a"
      },
      "outputs": [
        {
          "output_type": "execute_result",
          "data": {
            "text/plain": [
              "[617565.0389194489,\n",
              " 575883.3909034729,\n",
              " 584811.1629486084,\n",
              " 578101.2814044952,\n",
              " 576795.9222793579]"
            ]
          },
          "metadata": {},
          "execution_count": 16
        }
      ],
      "source": [
        "train_time"
      ],
      "id": "6bf66a36"
    },
    {
      "cell_type": "code",
      "execution_count": 17,
      "metadata": {
        "id": "105fd285",
        "colab": {
          "base_uri": "https://localhost:8080/"
        },
        "outputId": "fac699fa-2b7d-4d88-d4d0-9447e58824b6"
      },
      "outputs": [
        {
          "output_type": "execute_result",
          "data": {
            "text/plain": [
              "[11778.272867202759,\n",
              " 8925.503969192505,\n",
              " 9169.7838306427,\n",
              " 8695.40023803711,\n",
              " 8687.67523765564]"
            ]
          },
          "metadata": {},
          "execution_count": 17
        }
      ],
      "source": [
        "test_time"
      ],
      "id": "105fd285"
    },
    {
      "cell_type": "code",
      "execution_count": 18,
      "metadata": {
        "id": "b92aa6da"
      },
      "outputs": [],
      "source": [
        "result_cv.to_csv(\"filename\", index=False)"
      ],
      "id": "b92aa6da"
    },
    {
      "cell_type": "code",
      "execution_count": 19,
      "metadata": {
        "id": "0663ab50"
      },
      "outputs": [],
      "source": [
        "result_cv_avg = pd.DataFrame()\n",
        "lst = []\n",
        "x = mean(acc_train)*100\n",
        "lst.append(x)\n",
        "result_cv_avg[\"Train_acc\"] = lst\n",
        "result_cv_avg[\"Test_acc\"] = mean(acc_test)*100\n",
        "result_cv_avg[\"SD\"] = np.std(acc_test)*100\n",
        "result_cv_avg[\"Precision(macro)\"] = mean(Precision_macro)\n",
        "result_cv_avg[\"Precision(micro)\"] = mean(Precision_micro)\n",
        "result_cv_avg[\"Recall(macro)\"] = mean(Recall_macro)\n",
        "result_cv_avg[\"Recall(micro)\"] = mean(Recall_micro)\n",
        "result_cv_avg[\"F1(macro)\"] = mean(F1_macro)\n",
        "result_cv_avg[\"F1(micro)\"] = mean(F1_micro)\n",
        "result_cv_avg[\"AUC(ovo)\"] = mean(AUC_ovo)\n",
        "result_cv_avg[\"AUC(ovr)\"] = mean(AUC_ovr)"
      ],
      "id": "0663ab50"
    },
    {
      "cell_type": "code",
      "execution_count": 20,
      "metadata": {
        "id": "b3d296c7"
      },
      "outputs": [],
      "source": [
        "result_cv_avg.to_csv(\"filename\", index=False)"
      ],
      "id": "b3d296c7"
    },
    {
      "cell_type": "code",
      "execution_count": 21,
      "metadata": {
        "id": "d737dfcb",
        "colab": {
          "base_uri": "https://localhost:8080/"
        },
        "outputId": "cc3ad5e0-44eb-4efb-8023-34a908e0df54"
      },
      "outputs": [
        {
          "output_type": "execute_result",
          "data": {
            "text/plain": [
              "[0.9996676636756398,\n",
              " 0.9994017946161515,\n",
              " 0.9995347291458957,\n",
              " 0.9994682618810236,\n",
              " 0.9996676636756398]"
            ]
          },
          "metadata": {},
          "execution_count": 21
        }
      ],
      "source": [
        "acc_train"
      ],
      "id": "d737dfcb"
    },
    {
      "cell_type": "code",
      "execution_count": 22,
      "metadata": {
        "id": "5601cc70",
        "colab": {
          "base_uri": "https://localhost:8080/"
        },
        "outputId": "625e82c5-44ff-4dec-dda7-b6e31cd7c5f8"
      },
      "outputs": [
        {
          "output_type": "execute_result",
          "data": {
            "text/plain": [
              "[0.9280693883654852,\n",
              " 0.936593390160012,\n",
              " 0.9349484073575595,\n",
              " 0.9361447584866158,\n",
              " 0.9358456707043518]"
            ]
          },
          "metadata": {},
          "execution_count": 22
        }
      ],
      "source": [
        "acc_test"
      ],
      "id": "5601cc70"
    },
    {
      "cell_type": "code",
      "execution_count": 23,
      "metadata": {
        "id": "a183e93a",
        "colab": {
          "base_uri": "https://localhost:8080/"
        },
        "outputId": "473c4e73-e158-466d-eecb-5be7612e7ea5"
      },
      "outputs": [
        {
          "output_type": "execute_result",
          "data": {
            "text/plain": [
              "[0.9237874070952937,\n",
              " 0.9339013794284932,\n",
              " 0.9298765137720085,\n",
              " 0.9348647874812838,\n",
              " 0.9330808939948927]"
            ]
          },
          "metadata": {},
          "execution_count": 23
        }
      ],
      "source": [
        "Precision_macro"
      ],
      "id": "a183e93a"
    },
    {
      "cell_type": "code",
      "execution_count": 24,
      "metadata": {
        "id": "919cba03",
        "colab": {
          "base_uri": "https://localhost:8080/"
        },
        "outputId": "8ed2057b-0a8b-43d2-fa30-82f53e6cc2ac"
      },
      "outputs": [
        {
          "output_type": "execute_result",
          "data": {
            "text/plain": [
              "[0.9280693883654852,\n",
              " 0.936593390160012,\n",
              " 0.9349484073575595,\n",
              " 0.9361447584866158,\n",
              " 0.9358456707043518]"
            ]
          },
          "metadata": {},
          "execution_count": 24
        }
      ],
      "source": [
        "Precision_micro"
      ],
      "id": "919cba03"
    },
    {
      "cell_type": "code",
      "execution_count": 25,
      "metadata": {
        "id": "da5922e3",
        "colab": {
          "base_uri": "https://localhost:8080/"
        },
        "outputId": "06b8728c-4e5a-411e-b000-5df3d3a2dddd"
      },
      "outputs": [
        {
          "output_type": "execute_result",
          "data": {
            "text/plain": [
              "[0.9278095843503954,\n",
              " 0.9369430750190929,\n",
              " 0.9328192290771552,\n",
              " 0.9374932123973458,\n",
              " 0.9349724216636984]"
            ]
          },
          "metadata": {},
          "execution_count": 25
        }
      ],
      "source": [
        "Recall_macro"
      ],
      "id": "da5922e3"
    },
    {
      "cell_type": "code",
      "execution_count": 26,
      "metadata": {
        "id": "9da08914",
        "colab": {
          "base_uri": "https://localhost:8080/"
        },
        "outputId": "0714023a-2ff9-475c-e15c-0c5f0673ebe5"
      },
      "outputs": [
        {
          "output_type": "execute_result",
          "data": {
            "text/plain": [
              "[0.9280693883654852,\n",
              " 0.936593390160012,\n",
              " 0.9349484073575595,\n",
              " 0.9361447584866158,\n",
              " 0.9358456707043518]"
            ]
          },
          "metadata": {},
          "execution_count": 26
        }
      ],
      "source": [
        "Recall_micro"
      ],
      "id": "9da08914"
    },
    {
      "cell_type": "code",
      "execution_count": 27,
      "metadata": {
        "id": "d06098bb",
        "colab": {
          "base_uri": "https://localhost:8080/"
        },
        "outputId": "b4c3f67f-e8f7-40b3-8207-2ba2a82210d3"
      },
      "outputs": [
        {
          "output_type": "execute_result",
          "data": {
            "text/plain": [
              "[0.9252464785090431,\n",
              " 0.9349287780728067,\n",
              " 0.9310783434890698,\n",
              " 0.9358661386538056,\n",
              " 0.9338324964026188]"
            ]
          },
          "metadata": {},
          "execution_count": 27
        }
      ],
      "source": [
        "F1_macro"
      ],
      "id": "d06098bb"
    },
    {
      "cell_type": "code",
      "execution_count": 28,
      "metadata": {
        "id": "c98a6d5f",
        "colab": {
          "base_uri": "https://localhost:8080/"
        },
        "outputId": "e36a7195-25e8-495d-8284-7141826b9935"
      },
      "outputs": [
        {
          "output_type": "execute_result",
          "data": {
            "text/plain": [
              "[0.9280693883654852,\n",
              " 0.936593390160012,\n",
              " 0.9349484073575595,\n",
              " 0.9361447584866158,\n",
              " 0.9358456707043518]"
            ]
          },
          "metadata": {},
          "execution_count": 28
        }
      ],
      "source": [
        "F1_micro"
      ],
      "id": "c98a6d5f"
    },
    {
      "cell_type": "code",
      "execution_count": 29,
      "metadata": {
        "id": "ae3f919c",
        "colab": {
          "base_uri": "https://localhost:8080/"
        },
        "outputId": "cc319b7f-8080-4b2a-b536-361e1fecc410"
      },
      "outputs": [
        {
          "output_type": "execute_result",
          "data": {
            "text/plain": [
              "[0.9931090145641117,\n",
              " 0.9944394667045542,\n",
              " 0.9926430008188497,\n",
              " 0.9940758320301255,\n",
              " 0.9939418794248371]"
            ]
          },
          "metadata": {},
          "execution_count": 29
        }
      ],
      "source": [
        "AUC_ovo"
      ],
      "id": "ae3f919c"
    },
    {
      "cell_type": "code",
      "execution_count": 30,
      "metadata": {
        "id": "9bc6fd04",
        "colab": {
          "base_uri": "https://localhost:8080/"
        },
        "outputId": "7489e045-393a-46b2-e433-f8bca9616552"
      },
      "outputs": [
        {
          "output_type": "stream",
          "name": "stdout",
          "text": [
            "1\n"
          ]
        }
      ],
      "source": [
        "index = np.argmax(AUC_ovo)\n",
        "print(index)"
      ],
      "id": "9bc6fd04"
    },
    {
      "cell_type": "code",
      "execution_count": 31,
      "metadata": {
        "id": "a85635c8",
        "colab": {
          "base_uri": "https://localhost:8080/"
        },
        "outputId": "e6d48aee-893a-4c18-cc50-ff7a5487a8fc"
      },
      "outputs": [
        {
          "output_type": "execute_result",
          "data": {
            "text/plain": [
              "[0.993154784267801,\n",
              " 0.9944412632589396,\n",
              " 0.9928302587672354,\n",
              " 0.993991185467952,\n",
              " 0.9940063584453642]"
            ]
          },
          "metadata": {},
          "execution_count": 31
        }
      ],
      "source": [
        "AUC_ovr"
      ],
      "id": "a85635c8"
    },
    {
      "cell_type": "code",
      "execution_count": 32,
      "metadata": {
        "id": "005129c3",
        "colab": {
          "base_uri": "https://localhost:8080/"
        },
        "outputId": "0203b3ae-5873-4ce3-c28c-0c1f0a2e0e04"
      },
      "outputs": [
        {
          "output_type": "stream",
          "name": "stdout",
          "text": [
            "Accuracy(Train): 99.95 %\n",
            "Accuracy(Test): 93.43 %\n",
            "Standard Deviation: 0.32%\n",
            "Precision (macro): 0.931\n",
            "Precision (micro): 0.934\n",
            "Recall (macro): 0.934\n",
            "Recall (micro): 0.934\n",
            "F1 (macro): 0.932\n",
            "F1 (micro): 0.934\n",
            "AUC (ovo): 0.994\n",
            "AUC (ovr): 0.994\n"
          ]
        }
      ],
      "source": [
        " print(\"Accuracy(Train): {:.2f} %\".format(mean(acc_train)*100))\n",
        "print(\"Accuracy(Test): {:.2f} %\".format(mean(acc_test)*100))\n",
        "print(\"Standard Deviation: {:.2f}%\".format(np.std(acc_test)*100))\n",
        "print(\"Precision (macro): %.3f\" %mean(Precision_macro))\n",
        "print(\"Precision (micro): %.3f\" %mean(Precision_micro))\n",
        "print(\"Recall (macro): %.3f\" %mean(Recall_macro))\n",
        "print(\"Recall (micro): %.3f\" %mean(Recall_micro))\n",
        "print(\"F1 (macro): %.3f\" %mean(F1_macro))\n",
        "print(\"F1 (micro): %.3f\" %mean(F1_micro))\n",
        "print(\"AUC (ovo): %.3f\" %mean(AUC_ovo))\n",
        "print(\"AUC (ovr): %.3f\" %mean(AUC_ovr))"
      ],
      "id": "005129c3"
    },
    {
      "cell_type": "code",
      "execution_count": 33,
      "metadata": {
        "id": "c4760cea"
      },
      "outputs": [],
      "source": [
        "from numpy import interp"
      ],
      "id": "c4760cea"
    },
    {
      "cell_type": "code",
      "execution_count": 34,
      "metadata": {
        "id": "804ffd5e",
        "colab": {
          "base_uri": "https://localhost:8080/"
        },
        "outputId": "151ab2e6-b95f-43bc-d10f-8861fe90d5db"
      },
      "outputs": [
        {
          "output_type": "stream",
          "name": "stdout",
          "text": [
            "all_fpr:  [0.00000000e+00 1.62654522e-04 1.62786912e-04 1.63371998e-04\n",
            " 3.25309044e-04 3.25520833e-04 3.25573824e-04 3.25998370e-04\n",
            " 3.26104680e-04 3.26424025e-04 3.26743996e-04 3.26850793e-04\n",
            " 4.87963565e-04 4.88281250e-04 4.89396411e-04 4.89636037e-04\n",
            " 4.90115994e-04 6.49034561e-04 6.50618087e-04 6.51041667e-04\n",
            " 6.51996740e-04 6.52209359e-04 6.52848050e-04 6.53487992e-04\n",
            " 6.53701585e-04 8.13272609e-04 8.13802083e-04 8.15261699e-04\n",
            " 8.16060062e-04 8.16859990e-04 8.19403474e-04 8.20748523e-04\n",
            " 9.73551842e-04 9.75927131e-04 9.76562500e-04 9.78792822e-04\n",
            " 9.79272074e-04 1.13858165e-03 1.13932292e-03 1.14136638e-03\n",
            " 1.14397777e-03 1.14904793e-03 1.30123617e-03 1.30208333e-03\n",
            " 1.30505710e-03 1.30697598e-03 1.31319764e-03 1.46032776e-03\n",
            " 1.46508221e-03 1.46890811e-03 1.47082857e-03 1.47492625e-03\n",
            " 1.62654522e-03 1.62760417e-03 1.63132137e-03 1.63212012e-03\n",
            " 1.78919974e-03 1.79036458e-03 1.79065603e-03 1.79445351e-03\n",
            " 1.79709198e-03 1.80268764e-03 1.95185426e-03 1.95599022e-03\n",
            " 1.95662808e-03 1.95854415e-03 1.96110476e-03 1.96656834e-03\n",
            " 1.96979645e-03 2.11450878e-03 2.11588542e-03 2.12071778e-03\n",
            " 2.12383597e-03 2.27716331e-03 2.27864583e-03 2.27901677e-03\n",
            " 2.28384992e-03 2.28496817e-03 2.43981783e-03 2.44818019e-03\n",
            " 2.45138094e-03 2.46224557e-03 2.59613824e-03 2.60247235e-03\n",
            " 2.60416667e-03 2.60883744e-03 2.61011419e-03 2.61139220e-03\n",
            " 2.61480634e-03 2.62639527e-03 2.76512687e-03 2.76737750e-03\n",
            " 2.77324633e-03 2.77460421e-03 2.92778139e-03 2.93494212e-03\n",
            " 2.93637847e-03 2.93781622e-03 2.94069596e-03 2.94985251e-03\n",
            " 3.09043591e-03 3.09244792e-03 3.09698452e-03 3.09951060e-03\n",
            " 3.10508253e-03 3.11373320e-03 3.25520833e-03 3.26104680e-03\n",
            " 3.26264274e-03 3.26424025e-03 3.28299409e-03 3.41574496e-03\n",
            " 3.41796875e-03 3.42577488e-03 3.42745226e-03 3.43193332e-03\n",
            " 3.58072917e-03 3.58890701e-03 3.59066427e-03 3.59418396e-03\n",
            " 3.74105400e-03 3.74348958e-03 3.74409897e-03 3.75203915e-03\n",
            " 3.90370852e-03 3.90625000e-03 3.91325616e-03 3.91517129e-03\n",
            " 3.91708830e-03 3.93313668e-03 4.07830343e-03 4.08030031e-03\n",
            " 4.09701737e-03 4.23177083e-03 4.23245971e-03 4.24143556e-03\n",
            " 4.24767195e-03 4.26789232e-03 4.39453125e-03 4.40456770e-03\n",
            " 4.40672433e-03 4.55729167e-03 4.56397718e-03 4.56769984e-03\n",
            " 4.72005208e-03 4.73083197e-03 4.73314836e-03 4.73933649e-03\n",
            " 4.88281250e-03 4.89636037e-03 4.90115994e-03 5.04557292e-03\n",
            " 5.04639427e-03 5.05709625e-03 5.05957238e-03 5.20494470e-03\n",
            " 5.20833333e-03 5.22790394e-03 5.24418224e-03 5.37109375e-03\n",
            " 5.38336052e-03 5.53385417e-03 5.69290826e-03 5.69661458e-03\n",
            " 5.70962480e-03 5.71242043e-03 5.85556278e-03 5.85937500e-03\n",
            " 5.87275693e-03 5.88139193e-03 6.02213542e-03 6.03588907e-03\n",
            " 6.03884446e-03 6.18489583e-03 6.19902121e-03 6.36526848e-03\n",
            " 6.37150792e-03 6.40183848e-03 6.52528548e-03 6.52848050e-03\n",
            " 6.68841762e-03 6.69169251e-03 6.83593750e-03 6.85154976e-03\n",
            " 6.88298918e-03 6.99414444e-03 7.01468189e-03 7.02499592e-03\n",
            " 7.16145833e-03 7.17781403e-03 7.18132855e-03 7.32421875e-03\n",
            " 7.32541104e-03 7.34454056e-03 7.48210800e-03 7.48697917e-03\n",
            " 7.49796251e-03 7.51511191e-03 7.64476252e-03 7.66345997e-03\n",
            " 7.66721044e-03 7.80741705e-03 7.83034258e-03 7.84185591e-03\n",
            " 7.97526042e-03 7.99347471e-03 7.99738861e-03 8.13272609e-03\n",
            " 8.13802083e-03 8.15660685e-03 8.30078125e-03 8.31973899e-03\n",
            " 8.33469521e-03 8.45803513e-03 8.46354167e-03 8.48287113e-03\n",
            " 8.48702465e-03 8.59970793e-03 8.62068966e-03 8.62630208e-03\n",
            " 8.64600326e-03 8.78906250e-03 8.80913540e-03 8.81344867e-03\n",
            " 8.94599870e-03 8.95182292e-03 8.97226754e-03 8.97666068e-03\n",
            " 9.01343822e-03 9.13539967e-03 9.27734375e-03 9.43396226e-03\n",
            " 9.44010417e-03 9.60286458e-03 9.62479608e-03 9.62950873e-03\n",
            " 9.75927131e-03 9.76562500e-03 9.78792822e-03 9.92838542e-03\n",
            " 9.95106036e-03 1.00911458e-02 1.01141925e-02 1.01191448e-02\n",
            " 1.02472349e-02 1.02539062e-02 1.02773246e-02 1.02823568e-02\n",
            " 1.03414314e-02 1.04183624e-02 1.04404568e-02 1.05725439e-02\n",
            " 1.05794271e-02 1.06087808e-02 1.07351984e-02 1.07719928e-02\n",
            " 1.10605075e-02 1.10677083e-02 1.10929853e-02 1.12231620e-02\n",
            " 1.12561175e-02 1.15484710e-02 1.15559896e-02 1.15823817e-02\n",
            " 1.16355293e-02 1.17187500e-02 1.17455139e-02 1.17512649e-02\n",
            " 1.18815104e-02 1.19086460e-02 1.19144769e-02 1.20895279e-02\n",
            " 1.21990891e-02 1.22070312e-02 1.22409009e-02 1.23697917e-02\n",
            " 1.23980424e-02 1.24041129e-02 1.25325521e-02 1.25611746e-02\n",
            " 1.26870527e-02 1.26953125e-02 1.27243067e-02 1.28497072e-02\n",
            " 1.28580729e-02 1.28937490e-02 1.31835938e-02 1.32137031e-02\n",
            " 1.33376708e-02 1.33463542e-02 1.33768352e-02 1.35465970e-02\n",
            " 1.36718750e-02 1.38256344e-02 1.38346354e-02 1.38730211e-02\n",
            " 1.39973958e-02 1.40293638e-02 1.40362331e-02 1.41601562e-02\n",
            " 1.41924959e-02 1.43229167e-02 1.45187602e-02 1.45258691e-02\n",
            " 1.46484375e-02 1.46818923e-02 1.48111979e-02 1.49642160e-02\n",
            " 1.51367188e-02 1.51712887e-02 1.51787172e-02 1.52994792e-02\n",
            " 1.53419292e-02 1.53569678e-02 1.54622396e-02 1.54975530e-02\n",
            " 1.56250000e-02 1.56606852e-02 1.56683532e-02 1.57774886e-02\n",
            " 1.58238173e-02 1.59505208e-02 1.59869494e-02 1.59947772e-02\n",
            " 1.61132812e-02 1.61579892e-02 1.62760417e-02 1.64281067e-02\n",
            " 1.65059650e-02 1.66015625e-02 1.69160703e-02 1.69270833e-02\n",
            " 1.69657423e-02 1.72413793e-02 1.72920065e-02 1.73004733e-02\n",
            " 1.73998687e-02 1.74040338e-02 1.74153646e-02 1.75352343e-02\n",
            " 1.75781250e-02 1.77727050e-02 1.77814029e-02 1.77901094e-02\n",
            " 1.82291667e-02 1.82707993e-02 1.83799610e-02 1.83949210e-02\n",
            " 1.84339315e-02 1.85546875e-02 1.85970636e-02 1.87052700e-02\n",
            " 1.89233279e-02 1.90429688e-02 1.90864600e-02 1.92495922e-02\n",
            " 1.92590175e-02 1.93684896e-02 1.94127243e-02 1.95312500e-02\n",
            " 1.95854415e-02 1.96811971e-02 1.97389886e-02 2.00195312e-02\n",
            " 2.00652529e-02 2.00750775e-02 2.01691607e-02 2.01822917e-02\n",
            " 2.02283850e-02 2.03450521e-02 2.03915171e-02 2.04015016e-02\n",
            " 2.05078125e-02 2.05647136e-02 2.08197788e-02 2.08809135e-02\n",
            " 2.09960938e-02 2.11588542e-02 2.12071778e-02 2.13077424e-02\n",
            " 2.13807736e-02 2.14843750e-02 2.16330514e-02 2.16471354e-02\n",
            " 2.17071976e-02 2.18098958e-02 2.18597064e-02 2.20552197e-02\n",
            " 2.21859706e-02 2.21968337e-02 2.22836695e-02 2.22981771e-02\n",
            " 2.23308883e-02 2.24609375e-02 2.25122349e-02 2.25232577e-02\n",
            " 2.26236979e-02 2.26753670e-02 2.26864697e-02 2.27716331e-02\n",
            " 2.27864583e-02 2.28384992e-02 2.29492188e-02 2.30016313e-02\n",
            " 2.31647635e-02 2.34222511e-02 2.35025298e-02 2.36541599e-02\n",
            " 2.37630208e-02 2.38172920e-02 2.38289538e-02 2.39102147e-02\n",
            " 2.39257812e-02 2.39804241e-02 2.40885417e-02 2.41435563e-02\n",
            " 2.42513021e-02 2.43066884e-02 2.44140625e-02 2.44698206e-02\n",
            " 2.48861418e-02 2.49023438e-02 2.49714379e-02 2.50487964e-02\n",
            " 2.51223491e-02 2.52278646e-02 2.52854812e-02 2.52978619e-02\n",
            " 2.53906250e-02 2.54486134e-02 2.56117455e-02 2.56242859e-02\n",
            " 2.58789062e-02 2.60247235e-02 2.60416667e-02 2.63500325e-02\n",
            " 2.63671875e-02 2.64274062e-02 2.65299479e-02 2.66753416e-02\n",
            " 2.66927083e-02 2.68379961e-02 2.68554688e-02 2.70182292e-02\n",
            " 2.70799347e-02 2.71809896e-02 2.73259597e-02 2.73437500e-02\n",
            " 2.74886142e-02 2.75065104e-02 2.76692708e-02 2.80587276e-02\n",
            " 2.80724661e-02 2.81575521e-02 2.82218597e-02 2.83849918e-02\n",
            " 2.84830729e-02 2.85621022e-02 2.86458333e-02 2.88085938e-02\n",
            " 2.90375204e-02 2.90517382e-02 2.91151594e-02 2.91341146e-02\n",
            " 2.92006525e-02 2.92968750e-02 2.93637847e-02 2.94404684e-02\n",
            " 2.94596354e-02 2.96223958e-02 2.96900489e-02 2.97657775e-02\n",
            " 2.97851562e-02 2.99284320e-02 2.99479167e-02 3.00163132e-02\n",
            " 3.01106771e-02 3.04361979e-02 3.05790501e-02 3.07417046e-02\n",
            " 3.07617188e-02 3.09951060e-02 3.11734944e-02 3.12500000e-02\n",
            " 3.13213703e-02 3.13525936e-02 3.15755208e-02 3.16476346e-02\n",
            " 3.16631304e-02 3.17382812e-02 3.18107667e-02 3.21370310e-02\n",
            " 3.22265625e-02 3.23001631e-02 3.23159785e-02 3.23682498e-02\n",
            " 3.25309044e-02 3.27148438e-02 3.28562134e-02 3.28776042e-02\n",
            " 3.30188679e-02 3.31158238e-02 3.32789560e-02 3.33658854e-02\n",
            " 3.36052202e-02 3.38321405e-02 3.38541667e-02 3.39314845e-02\n",
            " 3.42577488e-02 3.43201041e-02 3.43424479e-02 3.47471452e-02\n",
            " 3.48307292e-02 3.49934896e-02 3.51562500e-02 3.52365416e-02\n",
            " 3.53190104e-02 3.54817708e-02 3.57259380e-02 3.58072917e-02\n",
            " 3.59700521e-02 3.61093038e-02 3.62153344e-02 3.62955729e-02\n",
            " 3.64583333e-02 3.65415987e-02 3.66210938e-02 3.67047308e-02\n",
            " 3.67092756e-02 3.67599219e-02 3.68678630e-02 3.68859148e-02\n",
            " 3.69466146e-02 3.70852310e-02 3.72721354e-02 3.73572594e-02\n",
            " 3.75203915e-02 3.75387629e-02 3.75731945e-02 3.75976562e-02\n",
            " 3.77604167e-02 3.78651869e-02 3.79231771e-02 3.80283989e-02\n",
            " 3.80611581e-02 3.80859375e-02 3.82486979e-02 3.84114583e-02\n",
            " 3.84991843e-02 3.87191635e-02 3.87369792e-02 3.88254486e-02\n",
            " 3.88997396e-02 3.89885808e-02 3.90625000e-02 3.94586662e-02\n",
            " 3.96411093e-02 4.00390625e-02 4.01305057e-02 4.02018229e-02\n",
            " 4.03645833e-02 4.04567700e-02 4.05009759e-02 4.05273438e-02\n",
            " 4.06199021e-02 4.06636304e-02 4.08528646e-02 4.10156250e-02\n",
            " 4.11783854e-02 4.13411458e-02 4.16395576e-02 4.17618271e-02\n",
            " 4.18294271e-02 4.18362364e-02 4.19249592e-02 4.20880914e-02\n",
            " 4.22719112e-02 4.23177083e-02 4.24528302e-02 4.24906030e-02\n",
            " 4.25774878e-02 4.26432292e-02 4.28059896e-02 4.30879713e-02\n",
            " 4.31315104e-02 4.32511833e-02 4.34570312e-02 4.35776073e-02\n",
            " 4.37194127e-02 4.39040313e-02 4.39453125e-02 4.40456770e-02\n",
            " 4.42708333e-02 4.45350734e-02 4.45963542e-02 4.52473958e-02\n",
            " 4.53507341e-02 4.56769984e-02 4.57059206e-02 4.57356771e-02\n",
            " 4.58685751e-02 4.60611979e-02 4.61938842e-02 4.64926591e-02\n",
            " 4.65494792e-02 4.70071568e-02 4.70377604e-02 4.71451876e-02\n",
            " 4.72005208e-02 4.74946956e-02 4.75260417e-02 4.76577749e-02\n",
            " 4.79608483e-02 4.83107557e-02 4.83398438e-02 4.84502447e-02\n",
            " 4.85026042e-02 4.86371797e-02 4.87765090e-02 4.88281250e-02\n",
            " 4.89396411e-02 4.89908854e-02 4.91027732e-02 4.99674479e-02\n",
            " 5.00815661e-02 5.01302083e-02 5.02929688e-02 5.04078303e-02\n",
            " 5.07340946e-02 5.10603589e-02 5.12234910e-02 5.14322917e-02\n",
            " 5.15497553e-02 5.17241379e-02 5.17578125e-02 5.18760196e-02\n",
            " 5.20833333e-02 5.22121015e-02 5.25716146e-02 5.28548124e-02\n",
            " 5.28806920e-02 5.30439040e-02 5.31810767e-02 5.35073409e-02\n",
            " 5.35335401e-02 5.38336052e-02 5.38386467e-02 5.38736979e-02\n",
            " 5.40364583e-02 5.41639558e-02 5.41992188e-02 5.45247396e-02\n",
            " 5.48502604e-02 5.51757812e-02 5.53017945e-02 5.56640625e-02\n",
            " 5.57911909e-02 5.58268229e-02 5.64437194e-02 5.72916667e-02\n",
            " 5.74544271e-02 5.76171875e-02 5.77806960e-02 5.85931125e-02\n",
            " 5.88907015e-02 5.90820312e-02 5.92459605e-02 5.93689005e-02\n",
            " 5.94091725e-02 5.95703125e-02 5.96942095e-02 5.97355965e-02\n",
            " 6.00195185e-02 6.00326264e-02 6.01821731e-02 6.01957586e-02\n",
            " 6.02213542e-02 6.03841146e-02 6.05074821e-02 6.05468750e-02\n",
            " 6.06701366e-02 6.07096354e-02 6.11581002e-02 6.11745514e-02\n",
            " 6.14834092e-02 6.18087183e-02 6.18270799e-02 6.21533442e-02\n",
            " 6.21744792e-02 6.23164763e-02 6.25000000e-02 6.29882812e-02\n",
            " 6.31510417e-02 6.44371941e-02 6.46003263e-02 6.49265905e-02\n",
            " 6.51041667e-02 6.54296875e-02 6.59053834e-02 6.59179688e-02\n",
            " 6.60807292e-02 6.62434896e-02 6.64062500e-02 6.68510085e-02\n",
            " 6.77993792e-02 6.78269356e-02 6.80261011e-02 6.81966146e-02\n",
            " 6.83148992e-02 6.85221354e-02 6.86402082e-02 6.86786297e-02\n",
            " 6.88028627e-02 6.90048940e-02 6.90104167e-02 6.91680261e-02\n",
            " 6.93359375e-02 6.94942904e-02 6.96614583e-02 6.96915293e-02\n",
            " 6.99836868e-02 7.01468189e-02 7.01811653e-02 7.04730832e-02\n",
            " 7.07993475e-02 7.14518229e-02 7.17773438e-02 7.18132855e-02\n",
            " 7.24283854e-02 7.27539062e-02 7.27569331e-02 7.32463295e-02\n",
            " 7.35677083e-02 7.35725938e-02 7.38932292e-02 7.38988581e-02\n",
            " 7.40619902e-02 7.42187500e-02 7.48166259e-02 7.48210800e-02\n",
            " 7.50325521e-02 7.51463891e-02 7.53580729e-02 7.55208333e-02\n",
            " 7.57970072e-02 7.58463542e-02 7.59596617e-02 7.60091146e-02\n",
            " 7.62849707e-02 7.66102798e-02 7.68352365e-02 7.69355888e-02\n",
            " 7.69983687e-02 7.78140294e-02 7.79771615e-02 7.95898438e-02\n",
            " 7.97526042e-02 8.00781250e-02 8.05872757e-02 8.12398042e-02\n",
            " 8.15429688e-02 8.18684896e-02 8.18923328e-02 8.22185971e-02\n",
            " 8.23567708e-02 8.25448613e-02 8.27484903e-02 8.28711256e-02\n",
            " 8.29117023e-02 8.42173984e-02 8.57747396e-02 8.61002604e-02\n",
            " 8.62969005e-02 8.64600326e-02 8.65885417e-02 8.70201692e-02\n",
            " 8.70768229e-02 8.71125612e-02 8.71828237e-02 8.72756933e-02\n",
            " 8.76019576e-02 8.81587508e-02 8.82544861e-02 8.84840599e-02\n",
            " 8.87438825e-02 8.89070147e-02 8.90701468e-02 8.92973325e-02\n",
            " 8.94599870e-02 8.98437500e-02 9.00065104e-02 9.01106051e-02\n",
            " 9.01692708e-02 9.04359141e-02 9.06575521e-02 9.09830729e-02\n",
            " 9.20065253e-02 9.21696574e-02 9.26590538e-02 9.33115824e-02\n",
            " 9.52148438e-02 9.53776042e-02 9.57031250e-02 9.60286458e-02\n",
            " 9.73898858e-02 9.75530179e-02 9.78792822e-02 9.80424144e-02\n",
            " 9.83686786e-02 9.85800555e-02 9.87432675e-02 9.89839397e-02\n",
            " 1.00048964e-01 1.00520494e-01 1.00683149e-01 1.01659076e-01\n",
            " 1.02147040e-01 1.02376302e-01 1.02635003e-01 1.02701823e-01\n",
            " 1.02773246e-01 1.02936378e-01 1.03049079e-01 1.03190104e-01\n",
            " 1.03262643e-01 1.03588907e-01 1.03678385e-01 1.05811493e-01\n",
            " 1.07504078e-01 1.08319739e-01 1.08646003e-01 1.08841314e-01\n",
            " 1.08972268e-01 1.09135400e-01 1.09375000e-01 1.09700521e-01\n",
            " 1.09863281e-01 1.10026042e-01 1.10514323e-01 1.15810020e-01\n",
            " 1.16297983e-01 1.16313214e-01 1.16460638e-01 1.16476346e-01\n",
            " 1.16965742e-01 1.17350260e-01 1.17513021e-01 1.17599219e-01\n",
            " 1.17618271e-01 1.17781403e-01 1.18164062e-01 1.18326823e-01\n",
            " 1.18575146e-01 1.18900455e-01 1.21919373e-01 1.22291530e-01\n",
            " 1.23714705e-01 1.24796085e-01 1.25285481e-01 1.25448613e-01\n",
            " 1.26264274e-01 1.26590538e-01 1.26753670e-01 1.30045573e-01\n",
            " 1.30696615e-01 1.30859375e-01 1.31347656e-01 1.33965038e-01\n",
            " 1.34094617e-01 1.36467144e-01 1.36629798e-01 1.37280416e-01\n",
            " 1.37768380e-01 1.38093689e-01 1.38744307e-01 1.44371941e-01\n",
            " 1.45024470e-01 1.46890811e-01 1.48359719e-01 1.58100195e-01\n",
            " 1.58262850e-01 1.58588159e-01 1.59342448e-01 1.59401431e-01\n",
            " 1.59505208e-01 1.59564086e-01 1.59889395e-01 1.60156250e-01\n",
            " 1.60214704e-01 1.60481771e-01 1.70962480e-01 1.71125612e-01\n",
            " 1.80675698e-01 1.81818182e-01 1.92908263e-01 1.93070917e-01\n",
            " 1.93396226e-01 1.94534808e-01 1.95185426e-01 1.00000000e+00]\n",
            "mean_tpr:  [0.5        0.73021506 0.73295992 0.7456728  0.77890442 0.77893818\n",
            " 0.78124437 0.78130965 0.78132599 0.79551199 0.79626249 0.79626737\n",
            " 0.80687646 0.80704475 0.80709046 0.8097746  0.80978095 0.81174017\n",
            " 0.81222351 0.81222793 0.81223969 0.81224231 0.8220716  0.82207948\n",
            " 0.8220823  0.82465476 0.82466176 0.82468242 0.82484254 0.82485678\n",
            " 0.82489977 0.82492251 0.82750536 0.82862776 0.82879257 0.83601162\n",
            " 0.83928965 0.84011209 0.84011451 0.84011732 0.84012092 0.84012789\n",
            " 0.84157411 0.84172874 0.84307933 0.84307933 0.84307933 0.84307933\n",
            " 0.84307933 0.84441862 0.84441862 0.84441862 0.84519166 0.84519166\n",
            " 0.84684439 0.84684809 0.84833814 0.84834461 0.84834609 0.84971187\n",
            " 0.84971921 0.8497348  0.85015018 0.85016956 0.85017255 0.85047914\n",
            " 0.85048997 0.85051308 0.85052674 0.85113885 0.85114206 0.85114648\n",
            " 0.8511479  0.85168162 0.85183576 0.85183628 0.85199265 0.85214303\n",
            " 0.85243022 0.85319773 0.85320379 0.85322436 0.85347787 0.85348987\n",
            " 0.85349147 0.8534944  0.85409365 0.85469086 0.85469614 0.85471405\n",
            " 0.85554692 0.85555254 0.85691369 0.85691583 0.85729738 0.85730841\n",
            " 0.85731062 0.85731416 0.85731861 0.85733276 0.85755006 0.85770664\n",
            " 0.85771508 0.85771978 0.85772503 0.85773319 0.85832699 0.858338\n",
            " 0.85893946 0.85939476 0.85949892 0.86023626 0.86178329 0.86241037\n",
            " 0.8625638  0.86258839 0.86463252 0.86602389 0.86617911 0.86618234\n",
            " 0.86647165 0.86785509 0.86785565 0.86786294 0.86888315 0.86935288\n",
            " 0.8693984  0.87000929 0.87075876 0.87080415 0.87196285 0.87196849\n",
            " 0.8720234  0.87261948 0.8726198  0.87337194 0.87337479 0.87338401\n",
            " 0.87359521 0.87390847 0.87391742 0.87461093 0.87463542 0.87479867\n",
            " 0.87553771 0.87555742 0.87556272 0.87557123 0.87638248 0.87640112\n",
            " 0.8764121  0.8768959  0.87689778 0.87722148 0.87722374 0.87759923\n",
            " 0.87775424 0.87780007 0.87783819 0.87890272 0.87909262 0.8797404\n",
            " 0.88011749 0.88043666 0.88049186 0.88050628 0.88133423 0.88165185\n",
            " 0.88167674 0.88168489 0.88212453 0.88212453 0.88212995 0.88301172\n",
            " 0.88303763 0.88303763 0.88304331 0.88307097 0.88318352 0.8831923\n",
            " 0.88363527 0.88363527 0.88464376 0.88481022 0.88484415 0.88496412\n",
            " 0.88528551 0.88534393 0.88611698 0.88620192 0.88635286 0.88679008\n",
            " 0.88679117 0.88695742 0.88695742 0.88711089 0.88711089 0.88711089\n",
            " 0.88711089 0.88712866 0.88758106 0.88771433 0.88771433 0.88772489\n",
            " 0.8880007  0.88801741 0.88801741 0.88801741 0.88801741 0.88803493\n",
            " 0.8883031  0.88855948 0.88862999 0.88936609 0.88969898 0.89001643\n",
            " 0.89046678 0.8906244  0.89065375 0.89081507 0.89116042 0.89149542\n",
            " 0.89270146 0.89270343 0.89270343 0.89270343 0.89272271 0.89273088\n",
            " 0.89281605 0.8930985  0.89329705 0.89336845 0.89352764 0.89444653\n",
            " 0.89476617 0.89477489 0.89495556 0.89572873 0.89634763 0.8965011\n",
            " 0.89697131 0.89766729 0.89785917 0.89786371 0.89809797 0.89857375\n",
            " 0.89862771 0.89864392 0.89878035 0.89895802 0.89900905 0.89907183\n",
            " 0.89953223 0.89953223 0.89976276 0.89982985 0.89998446 0.90013793\n",
            " 0.90043715 0.90043715 0.90043715 0.90099394 0.90115775 0.90126871\n",
            " 0.9014678  0.90270034 0.90272488 0.90272488 0.90287835 0.90306634\n",
            " 0.90307459 0.90332217 0.90347713 0.9037953  0.9037953  0.90548346\n",
            " 0.90563307 0.9056442  0.90587979 0.9064351  0.90667248 0.90730978\n",
            " 0.90748695 0.90760615 0.90760615 0.90762297 0.90775962 0.90790923\n",
            " 0.90790923 0.90883004 0.90945723 0.9096173  0.90988889 0.90988889\n",
            " 0.9103493  0.9103493  0.91065623 0.91083599 0.91084876 0.91123273\n",
            " 0.91153398 0.91217934 0.91232895 0.91232895 0.91278936 0.91293897\n",
            " 0.91451318 0.91455996 0.9146127  0.91468846 0.91470247 0.9149302\n",
            " 0.9149302  0.91494391 0.91580724 0.91613866 0.91625486 0.91632104\n",
            " 0.91634933 0.91701138 0.91717217 0.91753298 0.91755824 0.91756367\n",
            " 0.91789877 0.91790939 0.91793745 0.91804527 0.91808198 0.91889439\n",
            " 0.91889439 0.91889439 0.91889439 0.91889439 0.91889439 0.91890216\n",
            " 0.91899331 0.91899713 0.91962319 0.91986514 0.92010519 0.92031446\n",
            " 0.92077265 0.92092284 0.92119034 0.92127967 0.92151388 0.92154361\n",
            " 0.92162113 0.92197183 0.92201499 0.92227404 0.92294571 0.92311129\n",
            " 0.92345593 0.92377589 0.92378573 0.92388895 0.92388895 0.92441329\n",
            " 0.92452972 0.92482276 0.92529884 0.92564281 0.92587722 0.92589544\n",
            " 0.92598415 0.92630347 0.92645308 0.92660655 0.92669417 0.926713\n",
            " 0.92691348 0.92691348 0.92695999 0.92712075 0.92729523 0.92763184\n",
            " 0.92768622 0.92789161 0.92804077 0.92823347 0.92851001 0.92868967\n",
            " 0.92874476 0.92899241 0.92925033 0.92949613 0.92981012 0.92982378\n",
            " 0.92993295 0.92995119 0.92995119 0.93025813 0.93070696 0.93071707\n",
            " 0.93157653 0.93162391 0.93162391 0.93165497 0.93181737 0.93199833\n",
            " 0.93221849 0.93242932 0.93291909 0.93337729 0.93350107 0.93367956\n",
            " 0.93450849 0.93450849 0.93451918 0.93459371 0.93476146 0.93481157\n",
            " 0.93481157 0.93486344 0.93506385 0.93511465 0.93542159 0.93542159\n",
            " 0.93570795 0.93571909 0.93579919 0.93588887 0.93598579 0.93620572\n",
            " 0.93621485 0.93622817 0.93632794 0.93639031 0.93641615 0.93642044\n",
            " 0.93666094 0.93671079 0.93702084 0.9370774  0.9370887  0.93718514\n",
            " 0.93733057 0.93767385 0.9377066  0.9377066  0.9377066  0.93801354\n",
            " 0.93801354 0.93832048 0.93832048 0.93832048 0.93873026 0.93878088\n",
            " 0.93908782 0.93953665 0.93953665 0.93953665 0.93968824 0.94067123\n",
            " 0.94110088 0.94113712 0.94209633 0.9429383  0.94304328 0.94304328\n",
            " 0.94304328 0.94304328 0.94340524 0.94349597 0.94349597 0.94349597\n",
            " 0.94426331 0.94472372 0.94472372 0.94472372 0.94487718 0.94487718\n",
            " 0.94503528 0.94505154 0.94511723 0.94580426 0.94590371 0.9459783\n",
            " 0.94614095 0.94639758 0.94639758 0.94655105 0.94655105 0.94657968\n",
            " 0.94678413 0.94705426 0.94709809 0.94748127 0.94749779 0.94772177\n",
            " 0.94774218 0.94775896 0.94776546 0.94777675 0.94781188 0.94800508\n",
            " 0.94803562 0.9481937  0.94826861 0.94833846 0.94842606 0.94847274\n",
            " 0.94867564 0.94872617 0.94903382 0.94921025 0.94932342 0.94944036\n",
            " 0.94963573 0.95077629 0.95149797 0.95181021 0.95196898 0.95227081\n",
            " 0.95242697 0.95243227 0.95282006 0.95323122 0.95359321 0.95364032\n",
            " 0.95367619 0.95383227 0.95399103 0.95399375 0.95437618 0.95453447\n",
            " 0.9545389  0.95458831 0.9546936  0.95472225 0.95512353 0.95520828\n",
            " 0.95547602 0.95560833 0.95576215 0.95578509 0.95582808 0.95585863\n",
            " 0.95621532 0.95624735 0.95641855 0.95645071 0.95646417 0.95662939\n",
            " 0.95670659 0.95770459 0.9577462  0.95778328 0.95778628 0.95788461\n",
            " 0.95817159 0.958431   0.95844346 0.95851024 0.95854099 0.95860808\n",
            " 0.95862349 0.95878898 0.96004417 0.96005971 0.96006716 0.96006993\n",
            " 0.96007967 0.96009    0.9601347  0.96032662 0.96082547 0.96147779\n",
            " 0.96154828 0.96157716 0.96158427 0.96158499 0.96174393 0.96220993\n",
            " 0.96222927 0.96238274 0.96257385 0.96263086 0.96276201 0.96286985\n",
            " 0.96290665 0.96323628 0.96328717 0.96331423 0.96336076 0.96350172\n",
            " 0.96366748 0.96385911 0.96405543 0.96421458 0.96423598 0.96465986\n",
            " 0.96473471 0.96552988 0.96555866 0.96558967 0.96559242 0.96559242\n",
            " 0.96565508 0.96589936 0.96602447 0.9664558  0.96650937 0.96650937\n",
            " 0.96666284 0.96701504 0.96713969 0.96724761 0.96741257 0.96751058\n",
            " 0.96788568 0.96801766 0.9681821  0.9681821  0.9681821  0.96824554\n",
            " 0.96846084 0.96857985 0.9687844  0.9687844  0.96883715 0.96981607\n",
            " 0.96985096 0.96985096 0.97000443 0.97016951 0.97021346 0.97055663\n",
            " 0.97057861 0.97060673 0.97060673 0.97060673 0.9706174  0.97071058\n",
            " 0.97087401 0.97091481 0.97152868 0.97177843 0.97178758 0.97184529\n",
            " 0.97189379 0.97245799 0.97246725 0.97257335 0.97257719 0.97275734\n",
            " 0.97313062 0.97318259 0.97319801 0.97334036 0.97348272 0.97362507\n",
            " 0.97382979 0.97432626 0.97444663 0.97444768 0.97459527 0.97495367\n",
            " 0.97514182 0.97532998 0.97538196 0.97564022 0.97588443 0.97593523\n",
            " 0.97596158 0.97598134 0.97598661 0.97646813 0.97648436 0.97648978\n",
            " 0.97652698 0.9765287  0.9765287  0.97683438 0.97685437 0.97698148\n",
            " 0.97719415 0.97724334 0.97728102 0.97730561 0.97781972 0.97783337\n",
            " 0.97799516 0.97816557 0.97832593 0.97896568 0.97897804 0.97913636\n",
            " 0.97916056 0.97937842 0.97939989 0.97977161 0.97980725 0.97987854\n",
            " 0.97991733 0.98024423 0.98042292 0.98043119 0.9804871  0.98069648\n",
            " 0.98075239 0.98105767 0.98165047 0.98166769 0.98179218 0.98185065\n",
            " 0.98185065 0.98185065 0.98185065 0.98185065 0.98185065 0.98185065\n",
            " 0.98185065 0.98185065 0.98185065 0.98185065 0.98190175 0.9819161\n",
            " 0.9820555  0.98223308 0.98223897 0.98228901 0.98234495 0.98265627\n",
            " 0.98275578 0.98277524 0.98311665 0.98322059 0.9832227  0.98341394\n",
            " 0.98383427 0.98383882 0.98399665 0.98399673 0.98399895 0.98405182\n",
            " 0.98436623 0.98436857 0.98447978 0.98451818 0.98474305 0.98479794\n",
            " 0.9848911  0.98490774 0.98494596 0.98496264 0.98509115 0.98524271\n",
            " 0.98534751 0.98536178 0.9853707  0.9857859  0.9858091  0.98637675\n",
            " 0.98670456 0.9867463  0.98686494 0.98694219 0.98697807 0.98713597\n",
            " 0.9871363  0.98714074 0.98714262 0.98716207 0.98718313 0.98734375\n",
            " 0.98735271 0.98764103 0.98800105 0.98804707 0.98807487 0.98807656\n",
            " 0.9880779  0.98808237 0.98808296 0.98809125 0.98810757 0.98812914\n",
            " 0.9882049  0.98846186 0.98865566 0.98870897 0.98876931 0.9889568\n",
            " 0.98899468 0.98910532 0.98964835 0.9899887  0.99018532 0.99021291\n",
            " 0.99022847 0.99029916 0.99036132 0.99045261 0.99081386 0.99082989\n",
            " 0.99087796 0.99094205 0.99126864 0.99128476 0.99131701 0.99134925\n",
            " 0.9914841  0.99148829 0.99149667 0.99165047 0.99165886 0.99167865\n",
            " 0.99169224 0.99171228 0.99180096 0.99184022 0.99185127 0.99191757\n",
            " 0.99195072 0.99196629 0.99198387 0.99198919 0.99199488 0.99199679\n",
            " 0.99199812 0.99199977 0.99200062 0.99200445 0.99201234 0.9922004\n",
            " 0.99234962 0.99235919 0.99251263 0.99251492 0.99266607 0.99266798\n",
            " 0.99269077 0.99272173 0.99289068 0.99290616 0.9929526  0.99384866\n",
            " 0.99391125 0.99406281 0.99406943 0.99407014 0.99409211 0.99410938\n",
            " 0.99426285 0.99426285 0.99426285 0.99426285 0.99428733 0.99429774\n",
            " 0.99432339 0.99435698 0.99466876 0.99470719 0.99500297 0.99511465\n",
            " 0.99513388 0.99514029 0.99517233 0.99518515 0.99534117 0.99567177\n",
            " 0.99571158 0.99572153 0.99575139 0.99595446 0.99611412 0.99622222\n",
            " 0.99622963 0.99625927 0.9962815  0.99629633 0.99632597 0.99662732\n",
            " 0.99664326 0.9967104  0.99676323 0.99711359 0.99711815 0.99712725\n",
            " 0.99714836 0.99714904 0.99715023 0.99715091 0.99715467 0.99715774\n",
            " 0.99715842 0.9971615  0.99729582 0.99729602 0.99732204 0.99732515\n",
            " 0.9973614  0.99736194 0.997363   0.99736672 0.99736885 1.        ]\n",
            "AUC =  0.9940128304554694\n"
          ]
        }
      ],
      "source": [
        "actual_classes = y_test_cv\n",
        "predicted_proba = y_test_prob\n",
        "\n",
        "fpr = dict()\n",
        "tpr = dict()\n",
        "roc_auc = dict()\n",
        "n_classes=12\n",
        "for i in range(n_classes):\n",
        "    fpr[i], tpr[i], _ = roc_curve(np.array(pd.get_dummies(actual_classes))[:, i], np.array(predicted_proba)[:, i])\n",
        "    roc_auc[i] = auc(fpr[i], tpr[i])\n",
        "#     print(\"fpr: \",fpr[i])\n",
        "#     print(\"tpr: \",tpr[i])\n",
        "#     print(\"roc_auc: \",roc_auc[i])\n",
        "\n",
        "all_fpr = np.unique(np.concatenate([fpr[i] for i in range(n_classes)]))\n",
        "print(\"all_fpr: \",all_fpr)\n",
        "mean_tpr = np.zeros_like(all_fpr)\n",
        "for i in range(n_classes):\n",
        "    mean_tpr += interp(all_fpr, fpr[i], tpr[i])\n",
        "mean_tpr /= n_classes\n",
        "\n",
        "fpr[\"macro\"] = all_fpr\n",
        "tpr[\"macro\"] = mean_tpr\n",
        "roc_auc[\"macro\"] = auc(fpr[\"macro\"], tpr[\"macro\"])\n",
        "print(\"mean_tpr: \",mean_tpr)\n",
        "print(\"AUC = \",roc_auc['macro'])"
      ],
      "id": "804ffd5e"
    },
    {
      "cell_type": "code",
      "execution_count": 35,
      "metadata": {
        "id": "f028e956"
      },
      "outputs": [],
      "source": [
        "roc_csv = pd.DataFrame()\n",
        "roc_csv[\"FPR(Macro)\"] = all_fpr\n",
        "roc_csv[\"TPR(Macro)\"] = mean_tpr"
      ],
      "id": "f028e956"
    },
    {
      "cell_type": "code",
      "execution_count": 36,
      "metadata": {
        "id": "769b9265"
      },
      "outputs": [],
      "source": [
        "roc_csv.to_csv(\"filename\", index=False)"
      ],
      "id": "769b9265"
    },
    {
      "cell_type": "code",
      "execution_count": 37,
      "metadata": {
        "id": "4okoIVD-OLTe",
        "colab": {
          "base_uri": "https://localhost:8080/",
          "height": 484
        },
        "outputId": "56c121fd-3798-468c-bd3d-e6eef27a1ffe"
      },
      "outputs": [
        {
          "output_type": "display_data",
          "data": {
            "text/plain": [
              "<Figure size 1100x500 with 2 Axes>"
            ],
            "image/png": "[encoded data removed]"
          },
          "metadata": {}
        }
      ],
      "source": [
        "import matplotlib.pyplot as plt\n",
        "import seaborn as sns\n",
        "from sklearn.metrics import confusion_matrix\n",
        "from sklearn.metrics import ConfusionMatrixDisplay\n",
        "import numpy as np\n",
        "\n",
        "# Assuming you have already calculated the confusion matrix 'cm' for 14 classes\n",
        "\n",
        "# Normalize the confusion matrix\n",
        "cm_normalized = cm.astype('float') / cm.sum(axis=1)[:, np.newaxis]\n",
        "sns.set(font_scale=1.2)\n",
        "# Plot the normalized confusion matrix heatmap\n",
        "fig=plt.figure(figsize=(11, 5))\n",
        "sns.heatmap(cm_normalized, annot=True, fmt='.1f', cmap='Blues', xticklabels=range(12), yticklabels=range(12))\n",
        "plt.xlabel('Predicted Labels')\n",
        "plt.ylabel('True Labels')\n",
        "fig.savefig('RRR',dpi=300, bbox_inches = 'tight')\n",
        "# plt.title('Normalized Confusion Matrix Heatmap')\n",
        "plt.show()"
      ],
      "id": "4okoIVD-OLTe"
    }
  ],
  "metadata": {
    "colab": {
      "provenance": [],
      "gpuType": "T4",
      "include_colab_link": true
    },
    "kernelspec": {
      "display_name": "Python 3",
      "name": "python3"
    },
    "language_info": {
      "codemirror_mode": {
        "name": "ipython",
        "version": 3
      },
      "file_extension": ".py",
      "mimetype": "text/x-python",
      "name": "python",
      "nbconvert_exporter": "python",
      "pygments_lexer": "ipython3",
      "version": "3.8.8"
    },
    "accelerator": "GPU"
  },
  "nbformat": 4,
  "nbformat_minor": 5
}