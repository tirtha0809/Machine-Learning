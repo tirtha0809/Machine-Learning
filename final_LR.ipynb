{
  "cells": [
    {
      "cell_type": "markdown",
      "metadata": {
        "id": "view-in-github",
        "colab_type": "text"
      },
      "source": [
        "<a href=\"https://colab.research.google.com/github/tirtha0809/Machine-Learning/blob/main/final_LR.ipynb\" target=\"_parent\"><img src=\"https://colab.research.google.com/assets/colab-badge.svg\" alt=\"Open In Colab\"/></a>"
      ]
    },
    {
      "cell_type": "markdown",
      "metadata": {
        "id": "d23c76a2"
      },
      "source": [
        "# Importing Libraries"
      ],
      "id": "d23c76a2"
    },
    {
      "cell_type": "code",
      "execution_count": null,
      "metadata": {
        "id": "5b2cef0e"
      },
      "outputs": [],
      "source": [
        "import numpy as np\n",
        "import pandas as pd\n",
        "import tensorflow as tf\n",
        "import keras as kf\n",
        "from keras.models import Sequential\n",
        "from keras.layers import Dense\n",
        "from matplotlib import pyplot\n",
        "from os import makedirs\n",
        "from numpy import dstack\n",
        "from sklearn.linear_model import LogisticRegression\n",
        "from sklearn.neighbors import KNeighborsClassifier\n",
        "from sklearn.ensemble import GradientBoostingClassifier\n",
        "from sklearn.ensemble import RandomForestClassifier\n",
        "from sklearn.tree import DecisionTreeClassifier\n",
        "from xgboost import XGBClassifier\n",
        "from sklearn.svm import SVC\n",
        "from sklearn.naive_bayes import GaussianNB\n",
        "from sklearn.ensemble import AdaBoostClassifier\n",
        "from sklearn.preprocessing import StandardScaler\n",
        "from sklearn.model_selection import train_test_split\n",
        "from imblearn.over_sampling import SMOTE\n",
        "from sklearn.metrics import confusion_matrix, accuracy_score\n",
        "from sklearn.metrics import precision_score, recall_score, f1_score, accuracy_score,roc_auc_score,roc_curve,auc\n",
        "from statistics import mean\n",
        "import time"
      ],
      "id": "5b2cef0e"
    },
    {
      "cell_type": "code",
      "execution_count": null,
      "metadata": {
        "colab": {
          "base_uri": "https://localhost:8080/"
        },
        "id": "obp1lLW3UQLZ",
        "outputId": "c5af522f-b33b-4282-d730-e46701a17906"
      },
      "outputs": [
        {
          "name": "stdout",
          "output_type": "stream",
          "text": [
            "Mounted at /content/drive\n"
          ]
        }
      ],
      "source": [
        "from google.colab import drive\n",
        "drive.mount('/content/drive')"
      ],
      "id": "obp1lLW3UQLZ"
    },
    {
      "cell_type": "markdown",
      "metadata": {
        "id": "78ab07f7"
      },
      "source": [
        "# Importing DataSet"
      ],
      "id": "78ab07f7"
    },
    {
      "cell_type": "code",
      "execution_count": null,
      "metadata": {
        "colab": {
          "base_uri": "https://localhost:8080/"
        },
        "id": "9309e06d",
        "outputId": "959220fb-5c36-43fb-a345-972f4539fce3"
      },
      "outputs": [
        {
          "name": "stdout",
          "output_type": "stream",
          "text": [
            "4378\n"
          ]
        }
      ],
      "source": [
        "data = pd.read_csv('/content/drive/MyDrive/LANDSLIDE/Merged_World_LandslideData.csv') # 20 features\n",
        "dataset = data.dropna(axis = 0, how ='any')\n",
        "X =  dataset.iloc[:,1:-1].values\n",
        "y = dataset.iloc[:, -1].values\n",
        "print(len(dataset))"
      ],
      "id": "9309e06d"
    },
    {
      "cell_type": "code",
      "execution_count": null,
      "metadata": {
        "id": "588acb2f"
      },
      "outputs": [],
      "source": [
        "#smote = SMOTE()"
      ],
      "id": "588acb2f"
    },
    {
      "cell_type": "code",
      "execution_count": null,
      "metadata": {
        "id": "363487ad"
      },
      "outputs": [],
      "source": [
        "#x_smote, y_smote = smote.fit_resample(X, y)\n",
        "smote= SMOTE(k_neighbors = 3)\n",
        "x_smote,y_smote = smote.fit_resample(X,y)"
      ],
      "id": "363487ad"
    },
    {
      "cell_type": "code",
      "execution_count": null,
      "metadata": {
        "id": "654f6958"
      },
      "outputs": [],
      "source": [
        "from keras.models import load_model"
      ],
      "id": "654f6958"
    },
    {
      "cell_type": "code",
      "execution_count": null,
      "metadata": {
        "id": "67861b3e"
      },
      "outputs": [],
      "source": [
        "# create a custom function to load model\n",
        "def load_all_models(n_models):\n",
        "    all_models = list()\n",
        "    for i in range(n_models):\n",
        "        # filename\n",
        "        filename = 'north/model' + str(i + 1) + '.h5'\n",
        "        # load model\n",
        "        model = load_model(filename)\n",
        "        # Add a list of all the weaker learners\n",
        "        all_models.append(model)\n",
        "        #print('>loaded %s' % filename)\n",
        "    return all_models"
      ],
      "id": "67861b3e"
    },
    {
      "cell_type": "markdown",
      "metadata": {
        "id": "0c4c39db"
      },
      "source": [
        "## Stacking models"
      ],
      "id": "0c4c39db"
    },
    {
      "cell_type": "code",
      "execution_count": null,
      "metadata": {
        "id": "db0754d0"
      },
      "outputs": [],
      "source": [
        "# create stacked model input dataset as outputs from the ensemble\n",
        "def stacked_dataset(members, inputX):\n",
        "    stackX = None\n",
        "    for model in members:\n",
        "        # make prediction\n",
        "        yhat = model.predict(inputX, verbose=0)\n",
        "        # stack predictions into [rows, members, probabilities]\n",
        "        if stackX is None:\n",
        "            stackX = yhat #\n",
        "        else:\n",
        "            stackX = dstack((stackX, yhat))\n",
        "    # flatten predictions to [rows, members x probabilities]\n",
        "    stackX = stackX.reshape((stackX.shape[0], stackX.shape[1]*stackX.shape[2]))\n",
        "    return stackX"
      ],
      "id": "db0754d0"
    },
    {
      "cell_type": "markdown",
      "metadata": {
        "id": "c1de75a1"
      },
      "source": [
        "## Fit meta-learner"
      ],
      "id": "c1de75a1"
    },
    {
      "cell_type": "code",
      "execution_count": null,
      "metadata": {
        "id": "620c3aa9"
      },
      "outputs": [],
      "source": [
        "# fit a model based on the outputs from the ensemble members\n",
        "def fit_stacked_model(members, inputX, inputy):\n",
        "    # create dataset using ensemble\n",
        "    stackedX = stacked_dataset(members, inputX)\n",
        "    #print(\"Models Test time: \",(end-start) * 10**3, \"ms\")\n",
        "    # fit the meta learner\n",
        "    model = LogisticRegression() #meta learner\n",
        "    #model = SVC(kernel = 'rbf',random_state = 0,probability= True)\n",
        "    #model = SVC(kernel = 'linear', random_state = 0,probability=True)\n",
        "    #model = GaussianNB()\n",
        "    #model = KNeighborsClassifier(n_neighbors = 3, metric = 'minkowski', p = 2)\n",
        "    #model = GradientBoostingClassifier(n_estimators=50,learning_rate=0.5, max_depth=6, random_state=0)\n",
        "    #model = RandomForestClassifier(criterion = 'entropy', random_state = 0)\n",
        "    #model = DecisionTreeClassifier(max_depth=7,criterion = 'entropy', random_state = 0)\n",
        "    #model = XGBClassifier(n_estimators=50,learning_rate=0.5,max_depth=3)\n",
        "    #model = AdaBoostClassifier(n_estimators = 100, learning_rate = 1,random_state = 0)\n",
        "    #model.fit(X_train, y_train)\n",
        "    model.fit(stackedX, inputy)\n",
        "    return model"
      ],
      "id": "620c3aa9"
    },
    {
      "cell_type": "code",
      "execution_count": null,
      "metadata": {
        "id": "46d953ea"
      },
      "outputs": [],
      "source": [
        "def stacked_prediction(members, model, inputX):\n",
        "    # create dataset using ensemble\n",
        "    stackedX = stacked_dataset(members, inputX)\n",
        "    # make a prediction\n",
        "    yhat = model.predict(stackedX)\n",
        "    return yhat"
      ],
      "id": "46d953ea"
    },
    {
      "cell_type": "code",
      "execution_count": null,
      "metadata": {
        "id": "1bd5b4f1"
      },
      "outputs": [],
      "source": [
        "def stacked_prediction_proba(members,model,inputX):\n",
        "    # create dataset using ensemble\n",
        "    stackedX = stacked_dataset(members,inputX)\n",
        "    # make a prediction\n",
        "    yhatProb = model.predict_proba(stackedX)\n",
        "    return yhatProb"
      ],
      "id": "1bd5b4f1"
    },
    {
      "cell_type": "code",
      "execution_count": null,
      "metadata": {
        "id": "86c41c29"
      },
      "outputs": [],
      "source": [
        "acc_train = []\n",
        "acc_test = []\n",
        "Precision_macro = []\n",
        "Precision_micro = []\n",
        "Recall_macro = []\n",
        "Recall_micro = []\n",
        "F1_macro = []\n",
        "F1_micro = []\n",
        "AUC_ovo = []\n",
        "AUC_ovr = []\n",
        "train_time = []\n",
        "test_time = []"
      ],
      "id": "86c41c29"
    },
    {
      "cell_type": "code",
      "execution_count": null,
      "metadata": {
        "id": "--nkGullVeMc"
      },
      "outputs": [],
      "source": [
        "num_classes = 15"
      ],
      "id": "--nkGullVeMc"
    },
    {
      "cell_type": "code",
      "execution_count": null,
      "metadata": {
        "colab": {
          "background_save": true,
          "base_uri": "https://localhost:8080/"
        },
        "id": "426c21a7",
        "outputId": "c1944960-db88-45b8-bdd7-874a3fc23bdf"
      },
      "outputs": [
        {
          "name": "stdout",
          "output_type": "stream",
          "text": [
            "[ 0.  1.  3.  4.  5.  6.  7.  8.  9. 10. 11. 12. 13. 14.]\n"
          ]
        },
        {
          "name": "stderr",
          "output_type": "stream",
          "text": [
            "/usr/local/lib/python3.10/dist-packages/keras/src/engine/training.py:3103: UserWarning: You are saving your model as an HDF5 file via `model.save()`. This file format is considered legacy. We recommend using instead the native Keras format, e.g. `model.save('my_model.keras')`.\n",
            "  saving_api.save_model(\n"
          ]
        },
        {
          "name": "stdout",
          "output_type": "stream",
          "text": [
            "Cross validation Train time:  1840633.2080364227 ms\n",
            "Cross validation Test time:  9675.67491531372 ms\n",
            "[ 0.  1.  3.  4.  5.  6.  7.  8.  9. 10. 11. 12. 13. 14.]\n"
          ]
        },
        {
          "name": "stderr",
          "output_type": "stream",
          "text": [
            "/usr/local/lib/python3.10/dist-packages/keras/src/engine/training.py:3103: UserWarning: You are saving your model as an HDF5 file via `model.save()`. This file format is considered legacy. We recommend using instead the native Keras format, e.g. `model.save('my_model.keras')`.\n",
            "  saving_api.save_model(\n",
            "/usr/local/lib/python3.10/dist-packages/sklearn/linear_model/_logistic.py:458: ConvergenceWarning: lbfgs failed to converge (status=1):\n",
            "STOP: TOTAL NO. of ITERATIONS REACHED LIMIT.\n",
            "\n",
            "Increase the number of iterations (max_iter) or scale the data as shown in:\n",
            "    https://scikit-learn.org/stable/modules/preprocessing.html\n",
            "Please also refer to the documentation for alternative solver options:\n",
            "    https://scikit-learn.org/stable/modules/linear_model.html#logistic-regression\n",
            "  n_iter_i = _check_optimize_result(\n"
          ]
        },
        {
          "name": "stdout",
          "output_type": "stream",
          "text": [
            "Cross validation Train time:  1711389.405965805 ms\n",
            "Cross validation Test time:  8982.91540145874 ms\n",
            "[ 0.  1.  3.  4.  5.  6.  7.  8.  9. 10. 11. 12. 13. 14.]\n"
          ]
        },
        {
          "name": "stderr",
          "output_type": "stream",
          "text": [
            "/usr/local/lib/python3.10/dist-packages/keras/src/engine/training.py:3103: UserWarning: You are saving your model as an HDF5 file via `model.save()`. This file format is considered legacy. We recommend using instead the native Keras format, e.g. `model.save('my_model.keras')`.\n",
            "  saving_api.save_model(\n"
          ]
        },
        {
          "name": "stdout",
          "output_type": "stream",
          "text": [
            "Cross validation Train time:  1670976.95851326 ms\n",
            "Cross validation Test time:  8944.3039894104 ms\n",
            "[ 0.  1.  3.  4.  5.  6.  7.  8.  9. 10. 11. 12. 13. 14.]\n"
          ]
        },
        {
          "name": "stderr",
          "output_type": "stream",
          "text": [
            "/usr/local/lib/python3.10/dist-packages/keras/src/engine/training.py:3103: UserWarning: You are saving your model as an HDF5 file via `model.save()`. This file format is considered legacy. We recommend using instead the native Keras format, e.g. `model.save('my_model.keras')`.\n",
            "  saving_api.save_model(\n"
          ]
        },
        {
          "name": "stdout",
          "output_type": "stream",
          "text": [
            "Cross validation Train time:  1687007.6344013214 ms\n",
            "Cross validation Test time:  10613.105535507202 ms\n",
            "[ 0.  1.  3.  4.  5.  6.  7.  8.  9. 10. 11. 12. 13. 14.]\n"
          ]
        },
        {
          "name": "stderr",
          "output_type": "stream",
          "text": [
            "/usr/local/lib/python3.10/dist-packages/keras/src/engine/training.py:3103: UserWarning: You are saving your model as an HDF5 file via `model.save()`. This file format is considered legacy. We recommend using instead the native Keras format, e.g. `model.save('my_model.keras')`.\n",
            "  saving_api.save_model(\n"
          ]
        },
        {
          "name": "stdout",
          "output_type": "stream",
          "text": [
            "Cross validation Train time:  1764647.1736431122 ms\n",
            "Cross validation Test time:  9196.218013763428 ms\n"
          ]
        }
      ],
      "source": [
        "for i in range(0,5):\n",
        "\n",
        "    X_train_cv, X_test_cv, y_train_cv, y_test_cv = train_test_split(x_smote, y_smote, test_size = 0.25,random_state = i)\n",
        "    y_train_cv = y_train_cv - 1\n",
        "    y_test_cv = y_test_cv - 1\n",
        "\n",
        "    sc = StandardScaler()\n",
        "    X_train_cv = sc.fit_transform(X_train_cv)\n",
        "    X_test_cv = sc.transform(X_test_cv)\n",
        "    unique_labels = np.unique(y_train_cv)\n",
        "    print(unique_labels)\n",
        "\n",
        "    start = time.time()\n",
        "    # Model 1\n",
        "    ann1 = Sequential()\n",
        "    ann1.add(tf.keras.layers.Dense(units=15, activation='relu'))\n",
        "    ann1.add(tf.keras.layers.Dense(units=20, activation='relu'))\n",
        "    ann1.add(tf.keras.layers.Dense(units=num_classes, activation='softmax'))\n",
        "    ann1.compile(optimizer = 'adam', loss = kf.losses.SparseCategoricalCrossentropy(), metrics = [kf.metrics.CategoricalAccuracy()])\n",
        "    ann1.fit(X_train_cv, y_train_cv, batch_size = 128, epochs = 100,verbose=0)\n",
        "\n",
        "    # Model 2\n",
        "    ann2 = Sequential()\n",
        "    ann2.add(tf.keras.layers.Dense(units=10, activation='relu'))\n",
        "    ann2.add(tf.keras.layers.Dense(units=15, activation='relu'))\n",
        "    ann2.add(tf.keras.layers.Dense(units=25, activation='relu'))\n",
        "    ann2.add(tf.keras.layers.Dense(units=num_classes, activation='softmax'))\n",
        "    ann2.compile(optimizer = 'adam', loss = kf.losses.SparseCategoricalCrossentropy(), metrics = [kf.metrics.CategoricalAccuracy()])\n",
        "    ann2.fit(X_train_cv, y_train_cv, batch_size = 128, epochs = 150,verbose=0)\n",
        "\n",
        "    # Model 3\n",
        "    ann3 = Sequential()\n",
        "    ann3.add(tf.keras.layers.Dense(units=20, activation='relu'))\n",
        "    ann3.add(tf.keras.layers.Dense(units=25, activation='relu'))\n",
        "    ann3.add(tf.keras.layers.Dense(units=30, activation='relu'))\n",
        "    ann3.add(tf.keras.layers.Dense(units=num_classes, activation='softmax'))\n",
        "    ann3.compile(optimizer = 'adam', loss = kf.losses.SparseCategoricalCrossentropy(), metrics = [kf.metrics.CategoricalAccuracy()])\n",
        "    ann3.fit(X_train_cv, y_train_cv, batch_size = 128, epochs = 180,verbose=0)\n",
        "\n",
        "    # Model 4\n",
        "\n",
        "    ann4 = Sequential()\n",
        "    ann4.add(tf.keras.layers.Dense(units=30, activation='relu'))\n",
        "    ann4.add(tf.keras.layers.Dense(units=35, activation='relu'))\n",
        "    ann4.add(tf.keras.layers.Dense(units=40, activation='relu'))\n",
        "    ann4.add(tf.keras.layers.Dense(units=num_classes, activation='softmax'))\n",
        "    ann4.compile(optimizer = 'adam', loss = kf.losses.SparseCategoricalCrossentropy(), metrics = [kf.metrics.CategoricalAccuracy()])\n",
        "    ann4.fit(X_train_cv, y_train_cv, batch_size = 128, epochs = 200,verbose=0)\n",
        "\n",
        "    # Model 5\n",
        "\n",
        "    ann5 = Sequential()\n",
        "    ann5.add(tf.keras.layers.Dense(units=40, activation='relu'))\n",
        "    ann5.add(tf.keras.layers.Dense(units=50, activation='relu'))\n",
        "    ann5.add(tf.keras.layers.Dense(units=55, activation='relu'))\n",
        "    ann5.add(tf.keras.layers.Dense(units=num_classes, activation='softmax'))\n",
        "    ann5.compile(optimizer = 'adam', loss = kf.losses.SparseCategoricalCrossentropy(), metrics = [kf.metrics.CategoricalAccuracy()])\n",
        "    ann5.fit(X_train_cv, y_train_cv, batch_size = 128, epochs = 250,verbose=0)\n",
        "\n",
        "    # Model 6\n",
        "\n",
        "    ann6 = Sequential()\n",
        "    ann6.add(tf.keras.layers.Dense(units=35, activation='relu'))\n",
        "    ann6.add(tf.keras.layers.Dense(units=45, activation='relu'))\n",
        "    ann6.add(tf.keras.layers.Dense(units=50, activation='relu'))\n",
        "    ann6.add(tf.keras.layers.Dense(units=num_classes, activation='softmax'))\n",
        "    ann6.compile(optimizer = 'adam', loss = kf.losses.SparseCategoricalCrossentropy(), metrics = [kf.metrics.CategoricalAccuracy()])\n",
        "    ann6.fit(X_train_cv, y_train_cv, batch_size = 128, epochs = 300,verbose=0)\n",
        "\n",
        "    # Model 7\n",
        "\n",
        "    ann7 = Sequential()\n",
        "    ann7.add(tf.keras.layers.Dense(units=35, activation='relu'))\n",
        "    ann7.add(tf.keras.layers.Dense(units=45, activation='relu'))\n",
        "    ann7.add(tf.keras.layers.Dense(units=50, activation='relu'))\n",
        "    ann7.add(tf.keras.layers.Dense(units=num_classes, activation='softmax'))\n",
        "    ann7.compile(optimizer = 'adam', loss = kf.losses.SparseCategoricalCrossentropy(), metrics = [kf.metrics.CategoricalAccuracy()])\n",
        "    ann7.fit(X_train_cv, y_train_cv, batch_size = 128, epochs = 300,verbose=0)\n",
        "\n",
        "    # Model 8\n",
        "\n",
        "    ann8 = Sequential()\n",
        "    ann8.add(tf.keras.layers.Dense(units=35, activation='relu'))\n",
        "    ann8.add(tf.keras.layers.Dense(units=45, activation='relu'))\n",
        "    ann8.add(tf.keras.layers.Dense(units=50, activation='relu'))\n",
        "    ann8.add(tf.keras.layers.Dense(units=num_classes, activation='softmax'))\n",
        "    ann8.compile(optimizer = 'adam', loss = kf.losses.SparseCategoricalCrossentropy(), metrics = [kf.metrics.CategoricalAccuracy()])\n",
        "    ann8.fit(X_train_cv, y_train_cv, batch_size = 128, epochs = 300,verbose=0)\n",
        "\n",
        "    # Model 9\n",
        "\n",
        "    ann9 = Sequential()\n",
        "    ann9.add(tf.keras.layers.Dense(units=35, activation='relu'))\n",
        "    ann9.add(tf.keras.layers.Dense(units=45, activation='relu'))\n",
        "    ann9.add(tf.keras.layers.Dense(units=50, activation='relu'))\n",
        "    ann9.add(tf.keras.layers.Dense(units=num_classes, activation='softmax'))\n",
        "    ann9.compile(optimizer = 'adam', loss = kf.losses.SparseCategoricalCrossentropy(), metrics = [kf.metrics.CategoricalAccuracy()])\n",
        "    ann9.fit(X_train_cv, y_train_cv, batch_size = 128, epochs = 300,verbose=0)\n",
        "\n",
        "    # Model 10\n",
        "\n",
        "    ann10 = Sequential()\n",
        "    ann10.add(tf.keras.layers.Dense(units=35, activation='relu'))\n",
        "    ann10.add(tf.keras.layers.Dense(units=45, activation='relu'))\n",
        "    ann10.add(tf.keras.layers.Dense(units=50, activation='relu'))\n",
        "    ann10.add(tf.keras.layers.Dense(units=num_classes, activation='softmax'))\n",
        "    ann10.compile(optimizer = 'adam', loss = kf.losses.SparseCategoricalCrossentropy(), metrics = [kf.metrics.CategoricalAccuracy()])\n",
        "    ann10.fit(X_train_cv, y_train_cv, batch_size = 128, epochs = 300,verbose=0)\n",
        "    # Model 11\n",
        "\n",
        "    ann11 = Sequential()\n",
        "    ann11.add(tf.keras.layers.Dense(units=35, activation='relu'))\n",
        "    ann11.add(tf.keras.layers.Dense(units=45, activation='relu'))\n",
        "    ann11.add(tf.keras.layers.Dense(units=50, activation='relu'))\n",
        "    ann11.add(tf.keras.layers.Dense(units=num_classes, activation='softmax'))\n",
        "    ann11.compile(optimizer = 'adam', loss = kf.losses.SparseCategoricalCrossentropy(), metrics = [kf.metrics.CategoricalAccuracy()])\n",
        "    ann11.fit(X_train_cv, y_train_cv, batch_size = 128, epochs = 300,verbose=0)\n",
        "\n",
        "    # Model 12\n",
        "\n",
        "    ann12 = Sequential()\n",
        "    ann12.add(tf.keras.layers.Dense(units=35, activation='relu'))\n",
        "    ann12.add(tf.keras.layers.Dense(units=45, activation='relu'))\n",
        "    ann12.add(tf.keras.layers.Dense(units=50, activation='relu'))\n",
        "    ann12.add(tf.keras.layers.Dense(units=num_classes, activation='softmax'))\n",
        "    ann12.compile(optimizer = 'adam', loss = kf.losses.SparseCategoricalCrossentropy(), metrics = [kf.metrics.CategoricalAccuracy()])\n",
        "    ann12.fit(X_train_cv, y_train_cv, batch_size = 128, epochs = 300,verbose=0)\n",
        "\n",
        "    # Model 13\n",
        "\n",
        "    ann13 = Sequential()\n",
        "    ann13.add(tf.keras.layers.Dense(units=35, activation='relu'))\n",
        "    ann13.add(tf.keras.layers.Dense(units=45, activation='relu'))\n",
        "    ann13.add(tf.keras.layers.Dense(units=50, activation='relu'))\n",
        "    ann13.add(tf.keras.layers.Dense(units=num_classes, activation='softmax'))\n",
        "    ann13.compile(optimizer = 'adam', loss = kf.losses.SparseCategoricalCrossentropy(), metrics = [kf.metrics.CategoricalAccuracy()])\n",
        "    ann13.fit(X_train_cv, y_train_cv, batch_size = 128, epochs = 300,verbose=0)\n",
        "\n",
        "    # Model 14\n",
        "\n",
        "    ann14 = Sequential()\n",
        "    ann14.add(tf.keras.layers.Dense(units=35, activation='relu'))\n",
        "    ann14.add(tf.keras.layers.Dense(units=45, activation='relu'))\n",
        "    ann14.add(tf.keras.layers.Dense(units=50, activation='relu'))\n",
        "    ann14.add(tf.keras.layers.Dense(units=num_classes, activation='softmax'))\n",
        "    ann14.compile(optimizer = 'adam', loss = kf.losses.SparseCategoricalCrossentropy(), metrics = [kf.metrics.CategoricalAccuracy()])\n",
        "    ann14.fit(X_train_cv, y_train_cv, batch_size = 128, epochs = 300,verbose=0)\n",
        "\n",
        "    # Model 15\n",
        "\n",
        "    ann15 = Sequential()\n",
        "    ann15.add(tf.keras.layers.Dense(units=35, activation='relu'))\n",
        "    ann15.add(tf.keras.layers.Dense(units=45, activation='sigmoid'))\n",
        "    ann15.add(tf.keras.layers.Dense(units=50, activation='relu'))\n",
        "    ann15.add(tf.keras.layers.Dense(units=num_classes, activation='softmax'))\n",
        "    ann15.compile(optimizer = 'adam', loss = kf.losses.SparseCategoricalCrossentropy(), metrics = [kf.metrics.CategoricalAccuracy()])\n",
        "    ann15.fit(X_train_cv, y_train_cv, batch_size = 128, epochs = 300,verbose=0)\n",
        "\n",
        "    # Model 16\n",
        "\n",
        "    ann16 = Sequential()\n",
        "    ann16.add(tf.keras.layers.Dense(units=35, activation='relu'))\n",
        "    ann16.add(tf.keras.layers.Dense(units=45, activation= 'sigmoid'))\n",
        "    ann16.add(tf.keras.layers.Dense(units=50, activation='relu'))\n",
        "    ann16.add(tf.keras.layers.Dense(units=num_classes, activation='softmax'))\n",
        "    ann16.compile(optimizer = 'adam', loss = kf.losses.SparseCategoricalCrossentropy(), metrics = [kf.metrics.CategoricalAccuracy()])\n",
        "    ann16.fit(X_train_cv, y_train_cv, batch_size = 128, epochs = 300,verbose=0)\n",
        "\n",
        "    ann1.save('north/model1.h5')\n",
        "    ann2.save('north/model2.h5')\n",
        "    ann3.save('north/model3.h5')\n",
        "    ann4.save('north/model4.h5')\n",
        "    ann5.save('north/model5.h5')\n",
        "    ann6.save('north/model6.h5')\n",
        "    ann7.save('north/model7.h5')\n",
        "    ann8.save('north/model8.h5')\n",
        "    ann9.save('north/model9.h5')\n",
        "    ann10.save('north/model10.h5')\n",
        "    ann11.save('north/model11.h5')\n",
        "    ann12.save('north/model12.h5')\n",
        "    ann13.save('north/model13.h5')\n",
        "    ann14.save('north/model14.h5')\n",
        "    ann15.save('north/model15.h5')\n",
        "    ann16.save('north/model16.h5')\n",
        "\n",
        "    members = load_all_models(16)\n",
        "    model = fit_stacked_model(members, X_train_cv,y_train_cv)\n",
        "    end = time.time()\n",
        "    print(\"Cross validation Train time: \",(end-start) * 10**3, \"ms\")\n",
        "    t = (end-start)*1000\n",
        "    train_time.append(t)\n",
        "\n",
        "    start = time.time()\n",
        "    y_pred = stacked_prediction(members, model, X_test_cv)\n",
        "    end = time.time()\n",
        "\n",
        "    t = (end - start)*1000\n",
        "    test_time.append(t)\n",
        "\n",
        "    print(\"Cross validation Test time: \",(end-start) * 10**3, \"ms\")\n",
        "    y_test_prob = stacked_prediction_proba(members,model,X_test_cv)\n",
        "    y_train_pred = stacked_prediction(members, model, X_train_cv)\n",
        "\n",
        "    cm = confusion_matrix(y_test_cv, y_pred)\n",
        "\n",
        "\n",
        "    accuracy = accuracy_score(y_test_cv, y_pred)\n",
        "    acc_test.append(accuracy)\n",
        "    accuracy_train = accuracy_score(y_train_cv, y_train_pred)\n",
        "    acc_train.append(accuracy_train)\n",
        "\n",
        "    pre_macro = precision_score(y_test_cv, y_pred,average='macro')\n",
        "    Precision_macro.append(pre_macro)\n",
        "    pre_micro = precision_score(y_test_cv, y_pred,average='micro')\n",
        "    Precision_micro.append(pre_micro)\n",
        "\n",
        "    re_macro = recall_score(y_test_cv, y_pred,average='macro')\n",
        "    Recall_macro.append(re_macro)\n",
        "    re_micro = recall_score(y_test_cv, y_pred,average='micro')\n",
        "    Recall_micro.append(re_micro)\n",
        "\n",
        "    f1_macro = f1_score(y_test_cv, y_pred,average='macro')\n",
        "    F1_macro.append(f1_macro)\n",
        "    f1_micro = f1_score(y_test_cv, y_pred,average='micro')\n",
        "    F1_micro.append(f1_micro)\n",
        "\n",
        "    auc_ovo = roc_auc_score(y_test_cv,y_test_prob,multi_class='ovo')\n",
        "    AUC_ovo.append(auc_ovo)\n",
        "    auc_ovr = roc_auc_score(y_test_cv,y_test_prob,multi_class='ovr')\n",
        "    AUC_ovr.append(auc_ovr)\n"
      ],
      "id": "426c21a7"
    },
    {
      "cell_type": "code",
      "execution_count": null,
      "metadata": {
        "colab": {
          "background_save": true
        },
        "id": "4631b43e"
      },
      "outputs": [],
      "source": [
        "result_cv = pd.DataFrame()\n",
        "result_cv[\"Train_acc\"] = acc_train\n",
        "result_cv[\"Test_acc\"] = acc_test\n",
        "result_cv[\"Precision(macro)\"] = Precision_macro\n",
        "result_cv[\"Precision(micro)\"] = Precision_micro\n",
        "result_cv[\"Recall(macro)\"] = Recall_macro\n",
        "result_cv[\"Recall(micro)\"] = Recall_micro\n",
        "result_cv[\"F1(macro)\"] = F1_macro\n",
        "result_cv[\"F1(micro)\"] = F1_micro\n",
        "result_cv[\"AUC(ovo)\"] = AUC_ovo\n",
        "result_cv[\"AUC(ovr)\"] = AUC_ovr\n",
        "result_cv[\"Train Time\"] = train_time\n",
        "result_cv[\"Test Time\"] = test_time"
      ],
      "id": "4631b43e"
    },
    {
      "cell_type": "code",
      "execution_count": null,
      "metadata": {
        "colab": {
          "background_save": true
        },
        "id": "6bf66a36",
        "outputId": "a798d713-bd92-4032-e5fe-03598670e001"
      },
      "outputs": [
        {
          "data": {
            "text/plain": [
              "[1840633.2080364227,\n",
              " 1711389.405965805,\n",
              " 1670976.95851326,\n",
              " 1687007.6344013214,\n",
              " 1764647.1736431122]"
            ]
          },
          "execution_count": 16,
          "metadata": {},
          "output_type": "execute_result"
        }
      ],
      "source": [
        "train_time"
      ],
      "id": "6bf66a36"
    },
    {
      "cell_type": "code",
      "execution_count": null,
      "metadata": {
        "colab": {
          "background_save": true
        },
        "id": "105fd285",
        "outputId": "2fe20152-7aed-4b3e-c145-bbb8fd4cd505"
      },
      "outputs": [
        {
          "data": {
            "text/plain": [
              "[9675.67491531372,\n",
              " 8982.91540145874,\n",
              " 8944.3039894104,\n",
              " 10613.105535507202,\n",
              " 9196.218013763428]"
            ]
          },
          "execution_count": 17,
          "metadata": {},
          "output_type": "execute_result"
        }
      ],
      "source": [
        "test_time"
      ],
      "id": "105fd285"
    },
    {
      "cell_type": "code",
      "execution_count": null,
      "metadata": {
        "colab": {
          "background_save": true
        },
        "id": "b92aa6da"
      },
      "outputs": [],
      "source": [
        "result_cv.to_csv(\"filename\", index=False)"
      ],
      "id": "b92aa6da"
    },
    {
      "cell_type": "code",
      "execution_count": null,
      "metadata": {
        "colab": {
          "background_save": true
        },
        "id": "0663ab50"
      },
      "outputs": [],
      "source": [
        "result_cv_avg = pd.DataFrame()\n",
        "lst = []\n",
        "x = mean(acc_train)*100\n",
        "lst.append(x)\n",
        "result_cv_avg[\"Train_acc\"] = lst\n",
        "result_cv_avg[\"Test_acc\"] = mean(acc_test)*100\n",
        "result_cv_avg[\"SD\"] = np.std(acc_test)*100\n",
        "result_cv_avg[\"Precision(macro)\"] = mean(Precision_macro)\n",
        "result_cv_avg[\"Precision(micro)\"] = mean(Precision_micro)\n",
        "result_cv_avg[\"Recall(macro)\"] = mean(Recall_macro)\n",
        "result_cv_avg[\"Recall(micro)\"] = mean(Recall_micro)\n",
        "result_cv_avg[\"F1(macro)\"] = mean(F1_macro)\n",
        "result_cv_avg[\"F1(micro)\"] = mean(F1_micro)\n",
        "result_cv_avg[\"AUC(ovo)\"] = mean(AUC_ovo)\n",
        "result_cv_avg[\"AUC(ovr)\"] = mean(AUC_ovr)"
      ],
      "id": "0663ab50"
    },
    {
      "cell_type": "code",
      "execution_count": null,
      "metadata": {
        "colab": {
          "background_save": true
        },
        "id": "b3d296c7"
      },
      "outputs": [],
      "source": [
        "result_cv_avg.to_csv(\"filename\", index=False)"
      ],
      "id": "b3d296c7"
    },
    {
      "cell_type": "code",
      "execution_count": null,
      "metadata": {
        "colab": {
          "background_save": true
        },
        "id": "d737dfcb",
        "outputId": "3c8cab0d-9d64-4716-fab3-96b7246d82cf"
      },
      "outputs": [
        {
          "data": {
            "text/plain": [
              "[0.9976937860345932,\n",
              " 0.9971812940422806,\n",
              " 0.9978219090326713,\n",
              " 0.997522955370489,\n",
              " 0.9973094170403587]"
            ]
          },
          "execution_count": 21,
          "metadata": {},
          "output_type": "execute_result"
        }
      ],
      "source": [
        "acc_train"
      ],
      "id": "d737dfcb"
    },
    {
      "cell_type": "code",
      "execution_count": null,
      "metadata": {
        "colab": {
          "background_save": true
        },
        "id": "5601cc70",
        "outputId": "97d9fb66-0080-4762-9c59-b86bf6fbeeca"
      },
      "outputs": [
        {
          "data": {
            "text/plain": [
              "[0.9365791159513133,\n",
              " 0.9350416399743754,\n",
              " 0.9404228058936579,\n",
              " 0.9352978859705318,\n",
              " 0.9410634208840487]"
            ]
          },
          "execution_count": 22,
          "metadata": {},
          "output_type": "execute_result"
        }
      ],
      "source": [
        "acc_test"
      ],
      "id": "5601cc70"
    },
    {
      "cell_type": "code",
      "execution_count": null,
      "metadata": {
        "colab": {
          "background_save": true
        },
        "id": "a183e93a",
        "outputId": "326e5d88-06c4-4724-859c-6832af5706f4"
      },
      "outputs": [
        {
          "data": {
            "text/plain": [
              "[0.9367690061023077,\n",
              " 0.9366202942039299,\n",
              " 0.9392850770156188,\n",
              " 0.9343788675271144,\n",
              " 0.9376790466970022]"
            ]
          },
          "execution_count": 23,
          "metadata": {},
          "output_type": "execute_result"
        }
      ],
      "source": [
        "Precision_macro"
      ],
      "id": "a183e93a"
    },
    {
      "cell_type": "code",
      "execution_count": null,
      "metadata": {
        "colab": {
          "background_save": true
        },
        "id": "919cba03",
        "outputId": "b9915615-9ab4-4aa0-aca6-66f02acbf590"
      },
      "outputs": [
        {
          "data": {
            "text/plain": [
              "[0.9365791159513133,\n",
              " 0.9350416399743754,\n",
              " 0.9404228058936579,\n",
              " 0.9352978859705318,\n",
              " 0.9410634208840487]"
            ]
          },
          "execution_count": 24,
          "metadata": {},
          "output_type": "execute_result"
        }
      ],
      "source": [
        "Precision_micro"
      ],
      "id": "919cba03"
    },
    {
      "cell_type": "code",
      "execution_count": null,
      "metadata": {
        "colab": {
          "background_save": true
        },
        "id": "da5922e3",
        "outputId": "20fe0186-82ec-476a-b120-618ed838c24f"
      },
      "outputs": [
        {
          "data": {
            "text/plain": [
              "[0.9367624751446624,\n",
              " 0.9366766977663762,\n",
              " 0.9406140765614157,\n",
              " 0.9352762935248548,\n",
              " 0.9388687279664724]"
            ]
          },
          "execution_count": 25,
          "metadata": {},
          "output_type": "execute_result"
        }
      ],
      "source": [
        "Recall_macro"
      ],
      "id": "da5922e3"
    },
    {
      "cell_type": "code",
      "execution_count": null,
      "metadata": {
        "colab": {
          "background_save": true
        },
        "id": "9da08914",
        "outputId": "80d7b566-33ed-4cb4-a6f9-91d89a72ff32"
      },
      "outputs": [
        {
          "data": {
            "text/plain": [
              "[0.9365791159513133,\n",
              " 0.9350416399743754,\n",
              " 0.9404228058936579,\n",
              " 0.9352978859705318,\n",
              " 0.9410634208840487]"
            ]
          },
          "execution_count": 26,
          "metadata": {},
          "output_type": "execute_result"
        }
      ],
      "source": [
        "Recall_micro"
      ],
      "id": "9da08914"
    },
    {
      "cell_type": "code",
      "execution_count": null,
      "metadata": {
        "colab": {
          "background_save": true
        },
        "id": "d06098bb",
        "outputId": "0099ae6a-3b68-4e37-cadb-38b2a6858e08"
      },
      "outputs": [
        {
          "data": {
            "text/plain": [
              "[0.9366339547026313,\n",
              " 0.9364528878778655,\n",
              " 0.9397352547213063,\n",
              " 0.9346908190704307,\n",
              " 0.9380861340563926]"
            ]
          },
          "execution_count": 27,
          "metadata": {},
          "output_type": "execute_result"
        }
      ],
      "source": [
        "F1_macro"
      ],
      "id": "d06098bb"
    },
    {
      "cell_type": "code",
      "execution_count": null,
      "metadata": {
        "colab": {
          "background_save": true
        },
        "id": "c98a6d5f",
        "outputId": "32321c7f-0f3d-493c-aa75-f1a62d875e2c"
      },
      "outputs": [
        {
          "data": {
            "text/plain": [
              "[0.9365791159513133,\n",
              " 0.9350416399743754,\n",
              " 0.9404228058936579,\n",
              " 0.9352978859705318,\n",
              " 0.9410634208840487]"
            ]
          },
          "execution_count": 28,
          "metadata": {},
          "output_type": "execute_result"
        }
      ],
      "source": [
        "F1_micro"
      ],
      "id": "c98a6d5f"
    },
    {
      "cell_type": "code",
      "execution_count": null,
      "metadata": {
        "colab": {
          "background_save": true
        },
        "id": "ae3f919c",
        "outputId": "f7d43d31-a1b4-4682-9a42-32afb71653a4"
      },
      "outputs": [
        {
          "data": {
            "text/plain": [
              "[0.9950661398014824,\n",
              " 0.9952697929661082,\n",
              " 0.9956137413806501,\n",
              " 0.9954232694950242,\n",
              " 0.9956119498059675]"
            ]
          },
          "execution_count": 29,
          "metadata": {},
          "output_type": "execute_result"
        }
      ],
      "source": [
        "AUC_ovo"
      ],
      "id": "ae3f919c"
    },
    {
      "cell_type": "code",
      "execution_count": null,
      "metadata": {
        "colab": {
          "background_save": true
        },
        "id": "9bc6fd04",
        "outputId": "26f32b84-5b9e-4c42-cada-5c942d36838b"
      },
      "outputs": [
        {
          "name": "stdout",
          "output_type": "stream",
          "text": [
            "2\n"
          ]
        }
      ],
      "source": [
        "index = np.argmax(AUC_ovo)\n",
        "print(index)"
      ],
      "id": "9bc6fd04"
    },
    {
      "cell_type": "code",
      "execution_count": null,
      "metadata": {
        "colab": {
          "background_save": true
        },
        "id": "a85635c8",
        "outputId": "95d33ec3-9825-436b-b95d-8413b937b742"
      },
      "outputs": [
        {
          "data": {
            "text/plain": [
              "[0.9950496499262469,\n",
              " 0.9951948145738222,\n",
              " 0.9956152222497572,\n",
              " 0.9954479529539084,\n",
              " 0.9957446890586211]"
            ]
          },
          "execution_count": 31,
          "metadata": {},
          "output_type": "execute_result"
        }
      ],
      "source": [
        "AUC_ovr"
      ],
      "id": "a85635c8"
    },
    {
      "cell_type": "code",
      "execution_count": null,
      "metadata": {
        "colab": {
          "background_save": true
        },
        "id": "005129c3",
        "outputId": "beb49a1f-1cb2-4256-d659-03c3750e0460"
      },
      "outputs": [
        {
          "name": "stdout",
          "output_type": "stream",
          "text": [
            "Accuracy(Train): 99.75 %\n",
            "Accuracy(Test): 93.77 %\n",
            "Standard Deviation: 0.26%\n",
            "Precision (macro): 0.937\n",
            "Precision (micro): 0.938\n",
            "Recall (macro): 0.938\n",
            "Recall (micro): 0.938\n",
            "F1 (macro): 0.937\n",
            "F1 (micro): 0.938\n",
            "AUC (ovo): 0.995\n",
            "AUC (ovr): 0.995\n"
          ]
        }
      ],
      "source": [
        "print(\"Accuracy(Train): {:.2f} %\".format(mean(acc_train)*100))\n",
        "print(\"Accuracy(Test): {:.2f} %\".format(mean(acc_test)*100))\n",
        "print(\"Standard Deviation: {:.2f}%\".format(np.std(acc_test)*100))\n",
        "print(\"Precision (macro): %.3f\" %mean(Precision_macro))\n",
        "print(\"Precision (micro): %.3f\" %mean(Precision_micro))\n",
        "print(\"Recall (macro): %.3f\" %mean(Recall_macro))\n",
        "print(\"Recall (micro): %.3f\" %mean(Recall_micro))\n",
        "print(\"F1 (macro): %.3f\" %mean(F1_macro))\n",
        "print(\"F1 (micro): %.3f\" %mean(F1_micro))\n",
        "print(\"AUC (ovo): %.3f\" %mean(AUC_ovo))\n",
        "print(\"AUC (ovr): %.3f\" %mean(AUC_ovr))"
      ],
      "id": "005129c3"
    },
    {
      "cell_type": "code",
      "execution_count": null,
      "metadata": {
        "colab": {
          "background_save": true
        },
        "id": "c4760cea"
      },
      "outputs": [],
      "source": [
        "from numpy import interp"
      ],
      "id": "c4760cea"
    },
    {
      "cell_type": "code",
      "execution_count": null,
      "metadata": {
        "colab": {
          "background_save": true
        },
        "id": "804ffd5e",
        "outputId": "c8c8f2d0-155b-456b-df79-0dbb079cd13d"
      },
      "outputs": [
        {
          "name": "stdout",
          "output_type": "stream",
          "text": [
            "all_fpr:  [0.00000000e+00 1.37362637e-04 1.37494844e-04 1.37760022e-04\n",
            " 1.37931034e-04 1.38677021e-04 2.74725275e-04 2.74838532e-04\n",
            " 2.74989688e-04 2.75520044e-04 4.12087912e-04 4.12484532e-04\n",
            " 4.13280066e-04 4.13793103e-04 4.16031064e-04 5.49450549e-04\n",
            " 5.49677065e-04 5.49979376e-04 5.51040088e-04 5.51724138e-04\n",
            " 6.86813187e-04 6.87096331e-04 6.87474220e-04 6.88800110e-04\n",
            " 6.89655172e-04 8.24175824e-04 8.24515597e-04 8.24969064e-04\n",
            " 8.26560132e-04 9.61538462e-04 9.61934863e-04 9.62463908e-04\n",
            " 9.64320154e-04 9.65517241e-04 1.09890110e-03 1.09935413e-03\n",
            " 1.09995875e-03 1.10208018e-03 1.10344828e-03 1.23626374e-03\n",
            " 1.23677340e-03 1.23745360e-03 1.23984020e-03 1.24137931e-03\n",
            " 1.37362637e-03 1.37419266e-03 1.37760022e-03 1.37931034e-03\n",
            " 1.51098901e-03 1.51161193e-03 1.51536024e-03 1.51724138e-03\n",
            " 1.64835165e-03 1.64903119e-03 1.64993813e-03 1.65517241e-03\n",
            " 1.78571429e-03 1.78645046e-03 1.78743297e-03 1.79310345e-03\n",
            " 1.92307692e-03 1.92386973e-03 1.92492782e-03 1.92864031e-03\n",
            " 1.93103448e-03 2.06043956e-03 2.06128899e-03 2.06242266e-03\n",
            " 2.06640033e-03 2.06896552e-03 2.19780220e-03 2.19870826e-03\n",
            " 2.20689655e-03 2.33516484e-03 2.33741235e-03 2.34192037e-03\n",
            " 2.34482759e-03 2.47252747e-03 2.47490719e-03 2.61096606e-03\n",
            " 2.61240203e-03 2.74989688e-03 2.75520044e-03 2.75862069e-03\n",
            " 2.88580459e-03 2.89296046e-03 3.02197802e-03 3.02322386e-03\n",
            " 3.03072048e-03 3.03448276e-03 3.15934066e-03 3.16064312e-03\n",
            " 3.17241379e-03 3.31034483e-03 3.43548165e-03 3.57290092e-03\n",
            " 3.58176057e-03 3.58620690e-03 3.70879121e-03 3.71032019e-03\n",
            " 3.71236079e-03 3.71952060e-03 3.72413793e-03 3.98351648e-03\n",
            " 3.98515872e-03 3.98735047e-03 4.00000000e-03 4.12087912e-03\n",
            " 4.12257799e-03 4.13793103e-03 4.25824176e-03 4.25999725e-03\n",
            " 4.27056068e-03 4.27586207e-03 4.39560440e-03 4.40832071e-03\n",
            " 4.41379310e-03 4.53296703e-03 4.53483578e-03 4.53732985e-03\n",
            " 4.55172414e-03 4.67032967e-03 4.67225505e-03 4.68384075e-03\n",
            " 4.68965517e-03 4.80769231e-03 4.80967432e-03 4.81231954e-03\n",
            " 4.82160077e-03 4.94709358e-03 4.95936079e-03 4.96551724e-03\n",
            " 5.08241758e-03 5.08730923e-03 5.10344828e-03 5.21978022e-03\n",
            " 5.24137931e-03 5.35714286e-03 5.35935138e-03 5.37931034e-03\n",
            " 5.49450549e-03 5.51040088e-03 5.51724138e-03 5.63186813e-03\n",
            " 5.63418991e-03 5.77160918e-03 5.90659341e-03 5.90902845e-03\n",
            " 5.93103448e-03 6.04644771e-03 6.06144097e-03 6.18386698e-03\n",
            " 6.32128624e-03 6.45870551e-03 6.48275862e-03 6.62068966e-03\n",
            " 6.73354404e-03 6.86813187e-03 6.88800110e-03 6.89655172e-03\n",
            " 7.00838258e-03 7.14285714e-03 7.14580184e-03 7.17241379e-03\n",
            " 7.28322111e-03 7.31034483e-03 7.42064037e-03 7.42472157e-03\n",
            " 7.44827586e-03 7.55494505e-03 7.55805964e-03 7.58620690e-03\n",
            " 7.69547891e-03 7.72413793e-03 7.83289817e-03 7.83720610e-03\n",
            " 7.97031744e-03 7.97470095e-03 8.00000000e-03 8.10439560e-03\n",
            " 8.13793103e-03 8.24175824e-03 8.27586207e-03 8.38257524e-03\n",
            " 8.41379310e-03 8.51999450e-03 8.55172414e-03 8.65384615e-03\n",
            " 8.79483304e-03 8.92857143e-03 8.96551724e-03 9.10344828e-03\n",
            " 9.20709083e-03 9.34065934e-03 9.34451010e-03 9.37931034e-03\n",
            " 9.48714423e-03 9.61934863e-03 9.65517241e-03 9.75676790e-03\n",
            " 9.89418717e-03 1.00316064e-02 1.01648352e-02 1.01690257e-02\n",
            " 1.02068966e-02 1.03021978e-02 1.03064450e-02 1.03448276e-02\n",
            " 1.04438642e-02 1.05812835e-02 1.06206897e-02 1.07452817e-02\n",
            " 1.07586207e-02 1.08561220e-02 1.08965517e-02 1.09890110e-02\n",
            " 1.09935413e-02 1.10344828e-02 1.11309606e-02 1.12637363e-02\n",
            " 1.12745772e-02 1.13103448e-02 1.14120720e-02 1.15432184e-02\n",
            " 1.15862069e-02 1.16806376e-02 1.18620690e-02 1.21228819e-02\n",
            " 1.21379310e-02 1.22303147e-02 1.23677340e-02 1.24137931e-02\n",
            " 1.25517241e-02 1.26425725e-02 1.26896552e-02 1.27747253e-02\n",
            " 1.28275862e-02 1.30548303e-02 1.32249621e-02 1.33296688e-02\n",
            " 1.33793103e-02 1.34615385e-02 1.34670881e-02 1.36045074e-02\n",
            " 1.36119896e-02 1.36551724e-02 1.37419266e-02 1.40167652e-02\n",
            " 1.41483516e-02 1.42916037e-02 1.44230769e-02 1.44290229e-02\n",
            " 1.45664422e-02 1.46978022e-02 1.47038615e-02 1.48412807e-02\n",
            " 1.48780824e-02 1.49787000e-02 1.51098901e-02 1.51161193e-02\n",
            " 1.52535385e-02 1.52619277e-02 1.53103448e-02 1.53909578e-02\n",
            " 1.56657963e-02 1.57967033e-02 1.58119071e-02 1.60780541e-02\n",
            " 1.63528927e-02 1.66277312e-02 1.67651505e-02 1.70399890e-02\n",
            " 1.71034483e-02 1.73243503e-02 1.73793103e-02 1.75172414e-02\n",
            " 1.75896661e-02 1.78645046e-02 1.79310345e-02 1.80019239e-02\n",
            " 1.80465629e-02 1.80689655e-02 1.81393431e-02 1.82068966e-02\n",
            " 1.82767624e-02 1.84141817e-02 1.84827586e-02 1.86206897e-02\n",
            " 1.87586207e-02 1.90344828e-02 1.91724138e-02 1.92386973e-02\n",
            " 1.93761165e-02 1.94482759e-02 1.95135358e-02 1.96617627e-02\n",
            " 1.99257936e-02 2.04137931e-02 2.05517241e-02 2.07503092e-02\n",
            " 2.07617214e-02 2.08275862e-02 2.08877285e-02 2.09655172e-02\n",
            " 2.10251477e-02 2.11625670e-02 2.12413793e-02 2.12999863e-02\n",
            " 2.14285714e-02 2.16551724e-02 2.17122441e-02 2.18496633e-02\n",
            " 2.19310345e-02 2.22619211e-02 2.23448276e-02 2.23993404e-02\n",
            " 2.26741789e-02 2.28965517e-02 2.29490175e-02 2.30864367e-02\n",
            " 2.32366286e-02 2.36361138e-02 2.38620690e-02 2.39109523e-02\n",
            " 2.40000000e-02 2.42758621e-02 2.44606294e-02 2.45980486e-02\n",
            " 2.46896552e-02 2.49655172e-02 2.50000000e-02 2.50103064e-02\n",
            " 2.51034483e-02 2.55172414e-02 2.55599835e-02 2.56551724e-02\n",
            " 2.62068966e-02 2.62362637e-02 2.63844991e-02 2.64827586e-02\n",
            " 2.65219184e-02 2.65365049e-02 2.66206897e-02 2.68114946e-02\n",
            " 2.69341762e-02 2.72090147e-02 2.73464340e-02 2.76212725e-02\n",
            " 2.77586918e-02 2.77739585e-02 2.78620690e-02 2.78961110e-02\n",
            " 2.81379310e-02 2.84137931e-02 2.85832074e-02 2.87206266e-02\n",
            " 2.89954652e-02 2.90114121e-02 2.91328844e-02 2.91489069e-02\n",
            " 2.94077230e-02 2.95172414e-02 2.96825615e-02 2.98199808e-02\n",
            " 2.98363811e-02 2.99310345e-02 2.99574000e-02 3.02068966e-02\n",
            " 3.03696578e-02 3.04827586e-02 3.07586207e-02 3.07819156e-02\n",
            " 3.07988450e-02 3.09193349e-02 3.10567542e-02 3.11724138e-02\n",
            " 3.11941734e-02 3.13103448e-02 3.14690120e-02 3.16064312e-02\n",
            " 3.17307692e-02 3.18812698e-02 3.21561083e-02 3.25517241e-02\n",
            " 3.26896552e-02 3.29806239e-02 3.32413793e-02 3.36677202e-02\n",
            " 3.39425587e-02 3.40689655e-02 3.42068966e-02 3.42173973e-02\n",
            " 3.43448276e-02 3.44922358e-02 3.47670743e-02 3.48901099e-02\n",
            " 3.49044936e-02 3.51793321e-02 3.54395604e-02 3.54482759e-02\n",
            " 3.54541707e-02 3.57290092e-02 3.58664285e-02 3.60038477e-02\n",
            " 3.61379310e-02 3.64137931e-02 3.64161055e-02 3.69655172e-02\n",
            " 3.69657826e-02 3.71032019e-02 3.71034483e-02 3.73793103e-02\n",
            " 3.75172414e-02 3.80689655e-02 3.90270716e-02 3.91644909e-02\n",
            " 3.93019101e-02 3.94393294e-02 4.04012643e-02 4.06761028e-02\n",
            " 4.08135221e-02 4.09509413e-02 4.09655172e-02 4.12413793e-02\n",
            " 4.13631991e-02 4.16551724e-02 4.19128762e-02 4.25999725e-02\n",
            " 4.30344828e-02 4.33103448e-02 4.34244881e-02 4.35862069e-02\n",
            " 4.36993266e-02 4.37241379e-02 4.38367459e-02 4.40000000e-02\n",
            " 4.42490037e-02 4.42758621e-02 4.47986808e-02 4.51034483e-02\n",
            " 4.53483578e-02 4.53793103e-02 4.54857771e-02 4.57606156e-02\n",
            " 4.57931034e-02 4.58980349e-02 4.60354542e-02 4.61728734e-02\n",
            " 4.63102927e-02 4.69973890e-02 4.73103448e-02 4.74482759e-02\n",
            " 4.76844854e-02 4.78219046e-02 4.79593239e-02 4.86731748e-02\n",
            " 4.91034483e-02 4.93606490e-02 4.96083551e-02 4.98831936e-02\n",
            " 5.00206129e-02 5.03448276e-02 5.06868132e-02 5.15862069e-02\n",
            " 5.20000000e-02 5.26315789e-02 5.26896552e-02 5.27980201e-02\n",
            " 5.28998485e-02 5.29655172e-02 5.31034483e-02 5.34560945e-02\n",
            " 5.34854943e-02 5.35935138e-02 5.37309331e-02 5.37931034e-02\n",
            " 5.45554487e-02 5.46206897e-02 5.48965517e-02 5.51051257e-02\n",
            " 5.54482759e-02 5.55862069e-02 5.60670606e-02 5.62044799e-02\n",
            " 5.64137931e-02 5.66478757e-02 5.71664147e-02 5.75786725e-02\n",
            " 5.82068966e-02 5.85406074e-02 5.94482759e-02 6.04395604e-02\n",
            " 6.04644771e-02 6.11515735e-02 6.15638312e-02 6.16551724e-02\n",
            " 6.16758242e-02 6.19310345e-02 6.24827586e-02 6.26631854e-02\n",
            " 6.33502817e-02 6.38999588e-02 6.40373780e-02 6.41747973e-02\n",
            " 6.45870551e-02 6.46896552e-02 6.47244744e-02 6.48275862e-02\n",
            " 6.59310345e-02 6.60689655e-02 6.62360863e-02 6.63448276e-02\n",
            " 6.64827586e-02 6.67857634e-02 6.71980212e-02 6.73103448e-02\n",
            " 6.74728597e-02 6.77241379e-02 6.84137931e-02 6.85722138e-02\n",
            " 6.89655172e-02 6.91034483e-02 6.98089872e-02 7.02068966e-02\n",
            " 7.08965517e-02 7.09083413e-02 7.11724138e-02 7.13103448e-02\n",
            " 7.14482759e-02 7.15862069e-02 7.19780220e-02 7.24199533e-02\n",
            " 7.28275862e-02 7.32413793e-02 7.32444689e-02 7.33818881e-02\n",
            " 7.36567267e-02 7.53057579e-02 7.55862069e-02 7.58554349e-02\n",
            " 7.58620690e-02 7.64137931e-02 7.88965517e-02 7.94482759e-02\n",
            " 8.01379310e-02 8.04137931e-02 8.08025285e-02 8.14896248e-02\n",
            " 8.25889790e-02 8.26206897e-02 8.30344828e-02 8.34134946e-02\n",
            " 8.34482759e-02 8.36538462e-02 8.41379310e-02 8.41713735e-02\n",
            " 8.42758621e-02 8.55172414e-02 8.57931034e-02 8.60689655e-02\n",
            " 8.74482759e-02 8.76734918e-02 8.85517241e-02 8.95604396e-02\n",
            " 9.04218771e-02 9.21215454e-02 9.24369748e-02 9.25517241e-02\n",
            " 9.25747348e-02 9.26896552e-02 9.28090197e-02 9.50344828e-02\n",
            " 9.68275862e-02 9.70180019e-02 9.76551724e-02 9.98212567e-02\n",
            " 1.01103448e-01 1.01883679e-01 1.01965096e-01 1.03201869e-01\n",
            " 1.03310345e-01 1.03671112e-01 1.04275862e-01 1.05241379e-01\n",
            " 1.06730769e-01 1.07049608e-01 1.08413793e-01 1.09379310e-01\n",
            " 1.09660574e-01 1.11263736e-01 1.11538462e-01 1.19829600e-01\n",
            " 1.19862069e-01 1.23745360e-01 1.24020349e-01 1.26975402e-01\n",
            " 1.27609890e-01 1.27884615e-01 1.28827586e-01 1.28965517e-01\n",
            " 1.29448949e-01 1.29793103e-01 1.30068966e-01 1.30273464e-01\n",
            " 1.31217958e-01 1.31495081e-01 1.32965517e-01 1.32966277e-01\n",
            " 1.33241379e-01 1.33241569e-01 1.33885438e-01 1.34161491e-01\n",
            " 1.34299517e-01 1.34575569e-01 1.35492764e-01 1.35768436e-01\n",
            " 1.36502217e-01 1.36779379e-01 1.37419266e-01 1.38457308e-01\n",
            " 1.41379310e-01 1.43392040e-01 1.43669394e-01 1.44000000e-01\n",
            " 1.47265464e-01 1.47310345e-01 1.47540984e-01 1.47664835e-01\n",
            " 1.52551724e-01 1.53909578e-01 1.58994091e-01 1.61793103e-01\n",
            " 1.64000000e-01 1.64358903e-01 1.64635835e-01 1.65655172e-01\n",
            " 1.69668637e-01 1.69943627e-01 1.84689655e-01 1.88461538e-01\n",
            " 2.08551724e-01 2.14177564e-01 2.14344828e-01 2.14384701e-01\n",
            " 2.14452856e-01 2.14620690e-01 2.14630780e-01 2.14661863e-01\n",
            " 2.14906832e-01 2.15988973e-01 2.16264645e-01 2.16571983e-01\n",
            " 2.16701173e-01 2.16849106e-01 2.16977226e-01 2.39384362e-01\n",
            " 2.50450700e-01 2.50728054e-01 2.65768861e-01 2.80610142e-01\n",
            " 3.27744950e-01 3.37089460e-01 3.74038462e-01 3.85735880e-01\n",
            " 8.75979651e-01 9.05427859e-01 9.05704791e-01 9.65521978e-01\n",
            " 9.69492923e-01 1.00000000e+00]\n",
            "mean_tpr:  [0.70205349 0.70586302 0.73835496 0.77040624 0.77555425 0.779282\n",
            " 0.7900303  0.79043614 0.79137599 0.79346914 0.80217662 0.80539896\n",
            " 0.8116784  0.8120645  0.81218475 0.81545005 0.81572062 0.81988281\n",
            " 0.82132185 0.82145055 0.82961381 0.83029022 0.83512373 0.83525455\n",
            " 0.83898686 0.83980318 0.84007375 0.8424905  0.84327543 0.84341149\n",
            " 0.84503486 0.84530339 0.84648078 0.84956959 0.8498417  0.85227676\n",
            " 0.85348514 0.8538776  0.8542637  0.8557603  0.85589558 0.85723823\n",
            " 0.85867726 0.86009297 0.86090929 0.86172098 0.86198262 0.86249742\n",
            " 0.86263348 0.86276876 0.8630304  0.8634165  0.86368861 0.86422974\n",
            " 0.86449827 0.86758707 0.86799523 0.86813051 0.86853331 0.86891941\n",
            " 0.86959968 0.86973496 0.87027202 0.8707953  0.8719536  0.87263388\n",
            " 0.87398669 0.87412095 0.87451342 0.87554302 0.8764954  0.87663068\n",
            " 0.87688808 0.87756835 0.87837394 0.87850476 0.87940566 0.87967777\n",
            " 0.87981204 0.88021788 0.88035214 0.88048641 0.88074805 0.88100545\n",
            " 0.88154658 0.88193904 0.8820751  0.88221038 0.8823412  0.8827273\n",
            " 0.88286335 0.88462201 0.88475071 0.88565161 0.88605746 0.8864633\n",
            " 0.88659412 0.88736632 0.8880466  0.888723   0.88885727 0.88951138\n",
            " 0.88964008 0.88991218 0.89004747 0.89018173 0.89031043 0.89085465\n",
            " 0.89112521 0.89125391 0.89152602 0.8916613  0.89179212 0.89204952\n",
            " 0.89272979 0.89286062 0.89324672 0.89365488 0.89379016 0.89392443\n",
            " 0.89431053 0.89444658 0.89471714 0.89484796 0.89523406 0.89550617\n",
            " 0.89564146 0.89590998 0.89604081 0.89617609 0.89630691 0.89669301\n",
            " 0.89696512 0.89723365 0.89749105 0.8976271  0.898528   0.89866406\n",
            " 0.89961103 0.89973973 0.89987578 0.9000066  0.9001353  0.90027136\n",
            " 0.90081248 0.90135361 0.90176177 0.90189705 0.90241185 0.90376467\n",
            " 0.90389549 0.90403077 0.90457189 0.90538358 0.90564098 0.90576968\n",
            " 0.90590496 0.90604102 0.90630266 0.90643136 0.90656664 0.90683875\n",
            " 0.90737988 0.90750858 0.90791442 0.90804312 0.90912537 0.90925964\n",
            " 0.90951704 0.90965309 0.91087063 0.91112803 0.91166915 0.91205525\n",
            " 0.91232581 0.91246008 0.91313649 0.91327075 0.91339945 0.9135355\n",
            " 0.9137929  0.91392896 0.91431506 0.91458562 0.91471432 0.91498488\n",
            " 0.91511358 0.91524964 0.9155202  0.91565626 0.91578496 0.91591366\n",
            " 0.91604894 0.91618499 0.91659084 0.91671954 0.9168538  0.91698908\n",
            " 0.91763258 0.91817371 0.91830899 0.91871483 0.91885089 0.91993314\n",
            " 0.92019054 0.92046265 0.92059793 0.92111273 0.92124801 0.92165386\n",
            " 0.92178256 0.92191338 0.92204208 0.92217736 0.92230606 0.92244211\n",
            " 0.92271268 0.92309878 0.92336934 0.9237775  0.92391177 0.92429787\n",
            " 0.92443213 0.92456741 0.92469611 0.92483139 0.9250888  0.92521962\n",
            " 0.92534832 0.92561888 0.92575416 0.92588286 0.92665506 0.92706091\n",
            " 0.92744701 0.92758306 0.92771176 0.92879401 0.92892483 0.9298718\n",
            " 0.9300005  0.93027261 0.93081374 0.93094902 0.93108328 0.93159808\n",
            " 0.93173337 0.93227449 0.93241055 0.93308695 0.93322301 0.93349357\n",
            " 0.93376413 0.93390019 0.93403547 0.93417075 0.93430157 0.93457213\n",
            " 0.93470819 0.9353846  0.93551988 0.93565414 0.93578284 0.93591812\n",
            " 0.9360534  0.93618946 0.93632372 0.93686485 0.93700013 0.93713541\n",
            " 0.93727069 0.93740597 0.93779207 0.93792634 0.93805504 0.93869854\n",
            " 0.93883382 0.93910438 0.93923308 0.93990949 0.94004031 0.94016901\n",
            " 0.94030429 0.94043299 0.94070356 0.9411094  0.9412381  0.9413668\n",
            " 0.9414955  0.9417529  0.9420103  0.94214558 0.94228086 0.94240956\n",
            " 0.94254485 0.94267911 0.94281439 0.94294309 0.94307179 0.94334235\n",
            " 0.94347662 0.94399142 0.9441267  0.9442554  0.94439068 0.94466124\n",
            " 0.94478994 0.94492523 0.94506128 0.94518998 0.94573111 0.94586639\n",
            " 0.94599509 0.94721262 0.94734132 0.94761188 0.94801773 0.94814643\n",
            " 0.94828171 0.94841699 0.94855125 0.94868654 0.94881524 0.94935636\n",
            " 0.94974246 0.94987116 0.95041229 0.95054757 0.95080497 0.95093367\n",
            " 0.95106972 0.95161085 0.95173955 0.95186825 0.95200353 0.95213223\n",
            " 0.95238963 0.95252569 0.95266097 0.95278967 0.95292495 0.95305921\n",
            " 0.95331661 0.95345088 0.95358616 0.95372144 0.95453313 0.95466841\n",
            " 0.95520954 0.9553438  0.9554725  0.95574306 0.95600046 0.95612916\n",
            " 0.95626444 0.95653501 0.95667029 0.95680455 0.9572104  0.95734466\n",
            " 0.95747994 0.95760864 0.95774392 0.95801449 0.95814875 0.95827745\n",
            " 0.95841273 0.95854143 0.95894728 0.95907598 0.95933338 0.95960394\n",
            " 0.9597382  0.95987349 0.96000877 0.96013747 0.96040803 0.96053673\n",
            " 0.96067201 0.96080729 0.96094335 0.96107863 0.96121391 0.96134261\n",
            " 0.96160001 0.96173529 0.96186399 0.96213455 0.9625404  0.9626691\n",
            " 0.9627978  0.96293308 0.96306178 0.96333234 0.96360291 0.96373896\n",
            " 0.96387424 0.96400952 0.96414558 0.96427428 0.96440956 0.96468012\n",
            " 0.96495068 0.96508597 0.96521467 0.96534337 0.96561393 0.96600003\n",
            " 0.96627059 0.96667644 0.96693384 0.96706254 0.96719124 0.96731994\n",
            " 0.96745522 0.9675905  0.96772578 0.96826691 0.96840219 0.96853747\n",
            " 0.96880803 0.96948444 0.96961314 0.96974184 0.96987712 0.97026322\n",
            " 0.9703985  0.97053378 0.97066248 0.97079118 0.97106175 0.97119045\n",
            " 0.97132573 0.97145443 0.97172499 0.97198239 0.97211767 0.97250377\n",
            " 0.97277434 0.97290304 0.97303832 0.97355312 0.9736884  0.97395896\n",
            " 0.97408766 0.97422294 0.97462879 0.97516991 0.97530519 0.97544048\n",
            " 0.97556918 0.97569788 0.97583316 0.97610372 0.976239   0.97637327\n",
            " 0.97650197 0.97663623 0.97690679 0.97704207 0.97717736 0.97730606\n",
            " 0.97744211 0.97782821 0.97795691 0.97809219 0.97822089 0.97835516\n",
            " 0.97848598 0.97861468 0.97887208 0.97900736 0.97914162 0.97927691\n",
            " 0.97941219 0.97954089 0.97981145 0.97994015 0.98006885 0.98033941\n",
            " 0.98046811 0.98059681 0.98059681 0.98073209 0.98086079 0.98099506\n",
            " 0.98113034 0.98126562 0.98139432 0.9815296  0.9816583  0.98179436\n",
            " 0.98192964 0.98206492 0.9822002  0.9823289  0.98246496 0.98259366\n",
            " 0.98272236 0.98285764 0.98299292 0.9831282  0.98326348 0.98339876\n",
            " 0.98353405 0.98366275 0.98379803 0.98392673 0.98418413 0.98431283\n",
            " 0.98458339 0.98471209 0.98484079 0.98497607 0.98511135 0.98549745\n",
            " 0.98563273 0.98576143 0.98589014 0.98602542 0.98615412 0.98628282\n",
            " 0.9864181  0.9865468  0.9866755  0.98681078 0.98693948 0.98706818\n",
            " 0.98719688 0.98732558 0.98746163 0.98759692 0.98772562 0.98785432\n",
            " 0.98812488 0.98826016 0.98839544 0.98853072 0.98878812 0.9889234\n",
            " 0.98930951 0.98943821 0.98956691 0.98969561 0.98982431 0.98995301\n",
            " 0.99008829 0.99022357 0.99049413 0.99062283 0.99075153 0.99088681\n",
            " 0.99101551 0.99115157 0.99128027 0.99141109 0.99153979 0.99166849\n",
            " 0.99179719 0.99192589 0.99205459 0.99218987 0.99231857 0.99245463\n",
            " 0.99258991 0.99272417 0.99272417 0.99296184 0.99298369 0.99311239\n",
            " 0.99324666 0.99350406 0.99363276 0.99376804 0.99389674 0.994031\n",
            " 0.9941597  0.99429397 0.99442925 0.99456453 0.99469323 0.9948275\n",
            " 0.9949562  0.9950849  0.99522095 0.99535623 0.99548493 0.99561363\n",
            " 0.99574891 0.99574891 0.99574891 0.99588419 0.99601289 0.99601289\n",
            " 0.99601289 0.99614818 0.99614818 0.99614818 0.99627688 0.99640558\n",
            " 0.99654086 0.99654086 0.99654086 0.99667614 0.99667614 0.99667614\n",
            " 0.99667614 0.99667614 0.99667614 0.99667614 0.99667614 0.99667614\n",
            " 0.99667614 0.99667614 0.99667614 0.99667614 0.99667614 0.99667614\n",
            " 0.99681142 0.99694568 0.99707438 0.99707438 0.99707438 0.99720308\n",
            " 0.99720308 0.99733178 0.99733178 0.99746784 0.99759654 0.99773182\n",
            " 0.9978671  0.9979958  0.9981245  0.9981245  0.9981245  0.9982532\n",
            " 0.9982532  0.9982532  0.9983819  0.99851796 0.99864666 0.99864666\n",
            " 0.99864666 0.99864666 0.99864666 0.99864666 0.99864666 0.99864666\n",
            " 0.99864666 0.99864666 0.99864666 0.99864666 0.99864666 0.99864666\n",
            " 0.99864666 0.99878194 0.99878194 0.99878194 0.99891722 0.9990525\n",
            " 0.99918778 0.99932306 0.99945912 0.9995944  0.99972866 0.99972866\n",
            " 0.99972866 0.99986472 1.         1.        ]\n",
            "AUC =  0.9958102946810528\n"
          ]
        }
      ],
      "source": [
        "actual_classes = y_test_cv\n",
        "predicted_proba = y_test_prob\n",
        "\n",
        "fpr = dict()\n",
        "tpr = dict()\n",
        "roc_auc = dict()\n",
        "n_classes=14\n",
        "for i in range(n_classes):\n",
        "    fpr[i], tpr[i], _ = roc_curve(np.array(pd.get_dummies(actual_classes))[:, i], np.array(predicted_proba)[:, i])\n",
        "    roc_auc[i] = auc(fpr[i], tpr[i])\n",
        "#     print(\"fpr: \",fpr[i])\n",
        "#     print(\"tpr: \",tpr[i])\n",
        "#     print(\"roc_auc: \",roc_auc[i])\n",
        "\n",
        "all_fpr = np.unique(np.concatenate([fpr[i] for i in range(n_classes)]))\n",
        "print(\"all_fpr: \",all_fpr)\n",
        "mean_tpr = np.zeros_like(all_fpr)\n",
        "for i in range(n_classes):\n",
        "    mean_tpr += interp(all_fpr, fpr[i], tpr[i])\n",
        "mean_tpr /= n_classes\n",
        "\n",
        "fpr[\"macro\"] = all_fpr\n",
        "tpr[\"macro\"] = mean_tpr\n",
        "roc_auc[\"macro\"] = auc(fpr[\"macro\"], tpr[\"macro\"])\n",
        "print(\"mean_tpr: \",mean_tpr)\n",
        "print(\"AUC = \",roc_auc['macro'])"
      ],
      "id": "804ffd5e"
    },
    {
      "cell_type": "code",
      "execution_count": null,
      "metadata": {
        "colab": {
          "background_save": true
        },
        "id": "f028e956"
      },
      "outputs": [],
      "source": [
        "roc_csv = pd.DataFrame()\n",
        "roc_csv[\"FPR(Macro)\"] = all_fpr\n",
        "roc_csv[\"TPR(Macro)\"] = mean_tpr"
      ],
      "id": "f028e956"
    },
    {
      "cell_type": "code",
      "execution_count": null,
      "metadata": {
        "colab": {
          "background_save": true
        },
        "id": "769b9265"
      },
      "outputs": [],
      "source": [
        "roc_csv.to_csv(\"filename\", index=False)"
      ],
      "id": "769b9265"
    },
    {
      "cell_type": "code",
      "execution_count": null,
      "metadata": {
        "colab": {
          "background_save": true
        },
        "id": "4okoIVD-OLTe",
        "outputId": "095537ac-5af5-4145-87b2-acb7ef98dc5d"
      },
      "outputs": [
        {
          "data": {
            "image/png": "[encoded data removed]",
            "text/plain": [
              "<Figure size 700x500 with 2 Axes>"
            ]
          },
          "metadata": {},
          "output_type": "display_data"
        }
      ],
      "source": [
        "import matplotlib.pyplot as plt\n",
        "import seaborn as sns\n",
        "from sklearn.metrics import confusion_matrix\n",
        "from sklearn.metrics import ConfusionMatrixDisplay\n",
        "import numpy as np\n",
        "\n",
        "\n",
        "# Normalize the confusion matrix\n",
        "cm_normalized = cm.astype('float') / cm.sum(axis=1)[:, np.newaxis]\n",
        "\n",
        "# Plot the normalized confusion matrix heatmap\n",
        "plt.figure(figsize=(7, 5))\n",
        "sns.heatmap(cm_normalized, annot=True, fmt='.2f', cmap='Blues', xticklabels=range(14), yticklabels=range(14))\n",
        "plt.xlabel('Predicted Labels')\n",
        "plt.ylabel('True Labels')\n",
        "plt.title('Normalized Confusion Matrix Heatmap')\n",
        "plt.show()\n"
      ],
      "id": "4okoIVD-OLTe"
    }
  ],
  "metadata": {
    "colab": {
      "provenance": [],
      "include_colab_link": true
    },
    "kernelspec": {
      "display_name": "Python 3",
      "language": "python",
      "name": "python3"
    },
    "language_info": {
      "codemirror_mode": {
        "name": "ipython",
        "version": 3
      },
      "file_extension": ".py",
      "mimetype": "text/x-python",
      "name": "python",
      "nbconvert_exporter": "python",
      "pygments_lexer": "ipython3",
      "version": "3.8.8"
    }
  },
  "nbformat": 4,
  "nbformat_minor": 5
}