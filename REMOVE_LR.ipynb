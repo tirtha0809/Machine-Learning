{
  "cells": [
    {
      "cell_type": "markdown",
      "metadata": {
        "id": "view-in-github",
        "colab_type": "text"
      },
      "source": [
        "<a href=\"https://colab.research.google.com/github/tirtha0809/Machine-Learning/blob/main/REMOVE_LR.ipynb\" target=\"_parent\"><img src=\"https://colab.research.google.com/assets/colab-badge.svg\" alt=\"Open In Colab\"/></a>"
      ]
    },
    {
      "cell_type": "markdown",
      "metadata": {
        "id": "d23c76a2"
      },
      "source": [
        "# Importing Libraries"
      ],
      "id": "d23c76a2"
    },
    {
      "cell_type": "code",
      "execution_count": 1,
      "metadata": {
        "id": "5b2cef0e"
      },
      "outputs": [],
      "source": [
        "import numpy as np\n",
        "import pandas as pd\n",
        "import tensorflow as tf\n",
        "import keras as kf\n",
        "from keras.models import Sequential\n",
        "from keras.layers import Dense\n",
        "from matplotlib import pyplot\n",
        "from os import makedirs\n",
        "from numpy import dstack\n",
        "from sklearn.linear_model import LogisticRegression\n",
        "from sklearn.neighbors import KNeighborsClassifier\n",
        "from sklearn.ensemble import GradientBoostingClassifier\n",
        "from sklearn.ensemble import RandomForestClassifier\n",
        "from sklearn.tree import DecisionTreeClassifier\n",
        "from xgboost import XGBClassifier\n",
        "from sklearn.svm import SVC\n",
        "from sklearn.naive_bayes import GaussianNB\n",
        "from sklearn.ensemble import AdaBoostClassifier\n",
        "from sklearn.preprocessing import StandardScaler\n",
        "from sklearn.model_selection import train_test_split\n",
        "from imblearn.over_sampling import SMOTE\n",
        "from sklearn.metrics import confusion_matrix, accuracy_score\n",
        "from sklearn.metrics import precision_score, recall_score, f1_score, accuracy_score,roc_auc_score,roc_curve,auc\n",
        "from statistics import mean\n",
        "import time"
      ],
      "id": "5b2cef0e"
    },
    {
      "cell_type": "code",
      "execution_count": 2,
      "metadata": {
        "colab": {
          "base_uri": "https://localhost:8080/"
        },
        "id": "obp1lLW3UQLZ",
        "outputId": "6f7b7a48-b93a-4807-ea03-5155a3605667"
      },
      "outputs": [
        {
          "output_type": "stream",
          "name": "stdout",
          "text": [
            "Mounted at /content/drive\n"
          ]
        }
      ],
      "source": [
        "from google.colab import drive\n",
        "drive.mount('/content/drive')"
      ],
      "id": "obp1lLW3UQLZ"
    },
    {
      "cell_type": "markdown",
      "metadata": {
        "id": "78ab07f7"
      },
      "source": [
        "# Importing DataSet"
      ],
      "id": "78ab07f7"
    },
    {
      "cell_type": "code",
      "execution_count": 3,
      "metadata": {
        "colab": {
          "base_uri": "https://localhost:8080/"
        },
        "id": "9309e06d",
        "outputId": "90c8daa7-59ca-4297-cea5-4a43e8d3c4ac"
      },
      "outputs": [
        {
          "output_type": "stream",
          "name": "stdout",
          "text": [
            "3991\n"
          ]
        }
      ],
      "source": [
        "data = pd.read_csv('/content/drive/MyDrive/LANDSLIDE/LandslideData .csv')\n",
        "dataset = data.dropna(axis = 0, how ='any')\n",
        "X =  dataset.iloc[:,1:-1].values\n",
        "y = dataset.iloc[:, -1].values\n",
        "print(len(dataset))"
      ],
      "id": "9309e06d"
    },
    {
      "cell_type": "code",
      "execution_count": 4,
      "metadata": {
        "id": "588acb2f"
      },
      "outputs": [],
      "source": [
        "#smote = SMOTE()"
      ],
      "id": "588acb2f"
    },
    {
      "cell_type": "code",
      "execution_count": 5,
      "metadata": {
        "id": "363487ad"
      },
      "outputs": [],
      "source": [
        "#x_smote, y_smote = smote.fit_resample(X, y)\n",
        "smote= SMOTE(k_neighbors = 3)\n",
        "x_smote,y_smote = smote.fit_resample(X,y)"
      ],
      "id": "363487ad"
    },
    {
      "cell_type": "code",
      "execution_count": 6,
      "metadata": {
        "id": "654f6958"
      },
      "outputs": [],
      "source": [
        "from keras.models import load_model"
      ],
      "id": "654f6958"
    },
    {
      "cell_type": "code",
      "execution_count": 7,
      "metadata": {
        "id": "67861b3e"
      },
      "outputs": [],
      "source": [
        "# create a custom function to load model\n",
        "def load_all_models(n_models):\n",
        "    all_models = list()\n",
        "    for i in range(n_models):\n",
        "        # filename\n",
        "        filename = 'north/model' + str(i + 1) + '.h5'\n",
        "        # load model\n",
        "        model = load_model(filename)\n",
        "        # Add a list of all the weaker learners\n",
        "        all_models.append(model)\n",
        "        #print('>loaded %s' % filename)\n",
        "    return all_models"
      ],
      "id": "67861b3e"
    },
    {
      "cell_type": "markdown",
      "metadata": {
        "id": "0c4c39db"
      },
      "source": [
        "## Stacking models"
      ],
      "id": "0c4c39db"
    },
    {
      "cell_type": "code",
      "execution_count": 8,
      "metadata": {
        "id": "db0754d0"
      },
      "outputs": [],
      "source": [
        "# create stacked model input dataset as outputs from the ensemble\n",
        "def stacked_dataset(members, inputX):\n",
        "    stackX = None\n",
        "    for model in members:\n",
        "        # make prediction\n",
        "        yhat = model.predict(inputX, verbose=0)\n",
        "        # stack predictions into [rows, members, probabilities]\n",
        "        if stackX is None:\n",
        "            stackX = yhat #\n",
        "        else:\n",
        "            stackX = dstack((stackX, yhat))\n",
        "    # flatten predictions to [rows, members x probabilities]\n",
        "    stackX = stackX.reshape((stackX.shape[0], stackX.shape[1]*stackX.shape[2]))\n",
        "    return stackX"
      ],
      "id": "db0754d0"
    },
    {
      "cell_type": "markdown",
      "metadata": {
        "id": "c1de75a1"
      },
      "source": [
        "## Fit meta-learner"
      ],
      "id": "c1de75a1"
    },
    {
      "cell_type": "code",
      "execution_count": 9,
      "metadata": {
        "id": "620c3aa9"
      },
      "outputs": [],
      "source": [
        "# fit a model based on the outputs from the ensemble members\n",
        "def fit_stacked_model(members, inputX, inputy):\n",
        "    # create dataset using ensemble\n",
        "    stackedX = stacked_dataset(members, inputX)\n",
        "    #print(\"Models Test time: \",(end-start) * 10**3, \"ms\")\n",
        "    # fit the meta learner\n",
        "    model = LogisticRegression() #meta learner\n",
        "    # model = SVC(kernel = 'rbf',random_state = 0,probability= True)\n",
        "    #model = SVC(kernel = 'linear', random_state = 0,probability=True)\n",
        "    # model = GaussianNB()\n",
        "    #model = KNeighborsClassifier(n_neighbors = 3, metric = 'minkowski', p = 2)\n",
        "    # model = GradientBoostingClassifier(n_estimators=50,learning_rate=0.5, max_depth=6, random_state=0)\n",
        "    # model = RandomForestClassifier(criterion = 'entropy', random_state = 0)\n",
        "    #model = DecisionTreeClassifier(max_depth=7,criterion = 'entropy', random_state = 0)\n",
        "    #model = XGBClassifier(n_estimators=50,learning_rate=0.5,max_depth=3)\n",
        "    #model = AdaBoostClassifier(random_state = 0)\n",
        "    # model = AdaBoostClassifier(n_estimators = 300, learning_rate = 1,random_state = 0)\n",
        "    #model.fit(X_train, y_train)\n",
        "    model.fit(stackedX, inputy)\n",
        "    return model"
      ],
      "id": "620c3aa9"
    },
    {
      "cell_type": "code",
      "execution_count": 10,
      "metadata": {
        "id": "46d953ea"
      },
      "outputs": [],
      "source": [
        "def stacked_prediction(members, model, inputX):\n",
        "    # create dataset using ensemble\n",
        "    stackedX = stacked_dataset(members, inputX)\n",
        "    # make a prediction\n",
        "    yhat = model.predict(stackedX)\n",
        "    return yhat"
      ],
      "id": "46d953ea"
    },
    {
      "cell_type": "code",
      "execution_count": 11,
      "metadata": {
        "id": "1bd5b4f1"
      },
      "outputs": [],
      "source": [
        "def stacked_prediction_proba(members,model,inputX):\n",
        "    # create dataset using ensemble\n",
        "    stackedX = stacked_dataset(members,inputX)\n",
        "    # make a prediction\n",
        "    yhatProb = model.predict_proba(stackedX)\n",
        "    return yhatProb"
      ],
      "id": "1bd5b4f1"
    },
    {
      "cell_type": "code",
      "execution_count": 12,
      "metadata": {
        "id": "86c41c29"
      },
      "outputs": [],
      "source": [
        "acc_train = []\n",
        "acc_test = []\n",
        "Precision_macro = []\n",
        "Precision_micro = []\n",
        "Recall_macro = []\n",
        "Recall_micro = []\n",
        "F1_macro = []\n",
        "F1_micro = []\n",
        "AUC_ovo = []\n",
        "AUC_ovr = []\n",
        "train_time = []\n",
        "test_time = []"
      ],
      "id": "86c41c29"
    },
    {
      "cell_type": "code",
      "execution_count": 13,
      "metadata": {
        "id": "--nkGullVeMc"
      },
      "outputs": [],
      "source": [
        "num_classes = 15"
      ],
      "id": "--nkGullVeMc"
    },
    {
      "cell_type": "code",
      "execution_count": 14,
      "metadata": {
        "colab": {
          "base_uri": "https://localhost:8080/"
        },
        "id": "426c21a7",
        "outputId": "8e772ab5-1890-45bf-b935-e088d21916f1"
      },
      "outputs": [
        {
          "output_type": "stream",
          "name": "stdout",
          "text": [
            "[ 0.  1.  2.  3.  4.  5.  6.  7.  8.  9. 10. 11.]\n"
          ]
        },
        {
          "output_type": "stream",
          "name": "stderr",
          "text": [
            "/usr/local/lib/python3.10/dist-packages/keras/src/engine/training.py:3103: UserWarning: You are saving your model as an HDF5 file via `model.save()`. This file format is considered legacy. We recommend using instead the native Keras format, e.g. `model.save('my_model.keras')`.\n",
            "  saving_api.save_model(\n"
          ]
        },
        {
          "output_type": "stream",
          "name": "stdout",
          "text": [
            "Cross validation Train time:  1778278.157711029 ms\n",
            "Cross validation Test time:  8106.08172416687 ms\n",
            "[ 0.  1.  2.  3.  4.  5.  6.  7.  8.  9. 10. 11.]\n"
          ]
        },
        {
          "output_type": "stream",
          "name": "stderr",
          "text": [
            "/usr/local/lib/python3.10/dist-packages/keras/src/engine/training.py:3103: UserWarning: You are saving your model as an HDF5 file via `model.save()`. This file format is considered legacy. We recommend using instead the native Keras format, e.g. `model.save('my_model.keras')`.\n",
            "  saving_api.save_model(\n"
          ]
        },
        {
          "output_type": "stream",
          "name": "stdout",
          "text": [
            "Cross validation Train time:  1584714.6508693695 ms\n",
            "Cross validation Test time:  7577.402830123901 ms\n",
            "[ 0.  1.  2.  3.  4.  5.  6.  7.  8.  9. 10. 11.]\n"
          ]
        },
        {
          "output_type": "stream",
          "name": "stderr",
          "text": [
            "/usr/local/lib/python3.10/dist-packages/keras/src/engine/training.py:3103: UserWarning: You are saving your model as an HDF5 file via `model.save()`. This file format is considered legacy. We recommend using instead the native Keras format, e.g. `model.save('my_model.keras')`.\n",
            "  saving_api.save_model(\n"
          ]
        },
        {
          "output_type": "stream",
          "name": "stdout",
          "text": [
            "Cross validation Train time:  1550440.5386447906 ms\n",
            "Cross validation Test time:  7733.672380447388 ms\n",
            "[ 0.  1.  2.  3.  4.  5.  6.  7.  8.  9. 10. 11.]\n"
          ]
        },
        {
          "output_type": "stream",
          "name": "stderr",
          "text": [
            "/usr/local/lib/python3.10/dist-packages/keras/src/engine/training.py:3103: UserWarning: You are saving your model as an HDF5 file via `model.save()`. This file format is considered legacy. We recommend using instead the native Keras format, e.g. `model.save('my_model.keras')`.\n",
            "  saving_api.save_model(\n"
          ]
        },
        {
          "output_type": "stream",
          "name": "stdout",
          "text": [
            "Cross validation Train time:  1675517.8372859955 ms\n",
            "Cross validation Test time:  6992.727041244507 ms\n",
            "[ 0.  1.  2.  3.  4.  5.  6.  7.  8.  9. 10. 11.]\n"
          ]
        },
        {
          "output_type": "stream",
          "name": "stderr",
          "text": [
            "/usr/local/lib/python3.10/dist-packages/keras/src/engine/training.py:3103: UserWarning: You are saving your model as an HDF5 file via `model.save()`. This file format is considered legacy. We recommend using instead the native Keras format, e.g. `model.save('my_model.keras')`.\n",
            "  saving_api.save_model(\n"
          ]
        },
        {
          "output_type": "stream",
          "name": "stdout",
          "text": [
            "Cross validation Train time:  1478335.8108997345 ms\n",
            "Cross validation Test time:  7697.917461395264 ms\n"
          ]
        }
      ],
      "source": [
        "for i in range(0,5):\n",
        "\n",
        "    X_train_cv, X_test_cv, y_train_cv, y_test_cv = train_test_split(x_smote, y_smote, test_size = 0.25,random_state = i)\n",
        "    y_train_cv = y_train_cv - 1\n",
        "    y_test_cv = y_test_cv - 1\n",
        "\n",
        "    sc = StandardScaler()\n",
        "    X_train_cv = sc.fit_transform(X_train_cv)\n",
        "    X_test_cv = sc.transform(X_test_cv)\n",
        "    unique_labels = np.unique(y_train_cv)\n",
        "    print(unique_labels)\n",
        "\n",
        "    start = time.time()\n",
        "    # Model 1\n",
        "    ann1 = Sequential()\n",
        "    ann1.add(tf.keras.layers.Dense(units=15, activation='relu'))\n",
        "    ann1.add(tf.keras.layers.Dense(units=20, activation='relu'))\n",
        "    ann1.add(tf.keras.layers.Dense(units=num_classes, activation='softmax'))\n",
        "    ann1.compile(optimizer = 'adam', loss = kf.losses.SparseCategoricalCrossentropy(), metrics = [kf.metrics.CategoricalAccuracy()])\n",
        "    ann1.fit(X_train_cv, y_train_cv, batch_size = 128, epochs = 100,verbose=0)\n",
        "\n",
        "    # Model 2\n",
        "    ann2 = Sequential()\n",
        "    ann2.add(tf.keras.layers.Dense(units=10, activation='relu'))\n",
        "    ann2.add(tf.keras.layers.Dense(units=15, activation='relu'))\n",
        "    ann2.add(tf.keras.layers.Dense(units=25, activation='relu'))\n",
        "    ann2.add(tf.keras.layers.Dense(units=num_classes, activation='softmax'))\n",
        "    ann2.compile(optimizer = 'adam', loss = kf.losses.SparseCategoricalCrossentropy(), metrics = [kf.metrics.CategoricalAccuracy()])\n",
        "    ann2.fit(X_train_cv, y_train_cv, batch_size = 128, epochs = 150,verbose=0)\n",
        "\n",
        "    # Model 3\n",
        "    ann3 = Sequential()\n",
        "    ann3.add(tf.keras.layers.Dense(units=20, activation='relu'))\n",
        "    ann3.add(tf.keras.layers.Dense(units=25, activation='relu'))\n",
        "    ann3.add(tf.keras.layers.Dense(units=30, activation='relu'))\n",
        "    ann3.add(tf.keras.layers.Dense(units=num_classes, activation='softmax'))\n",
        "    ann3.compile(optimizer = 'adam', loss = kf.losses.SparseCategoricalCrossentropy(), metrics = [kf.metrics.CategoricalAccuracy()])\n",
        "    ann3.fit(X_train_cv, y_train_cv, batch_size = 128, epochs = 180,verbose=0)\n",
        "\n",
        "    # Model 4\n",
        "\n",
        "    ann4 = Sequential()\n",
        "    ann4.add(tf.keras.layers.Dense(units=30, activation='relu'))\n",
        "    ann4.add(tf.keras.layers.Dense(units=35, activation='relu'))\n",
        "    ann4.add(tf.keras.layers.Dense(units=40, activation='relu'))\n",
        "    ann4.add(tf.keras.layers.Dense(units=num_classes, activation='softmax'))\n",
        "    ann4.compile(optimizer = 'adam', loss = kf.losses.SparseCategoricalCrossentropy(), metrics = [kf.metrics.CategoricalAccuracy()])\n",
        "    ann4.fit(X_train_cv, y_train_cv, batch_size = 128, epochs = 200,verbose=0)\n",
        "\n",
        "    # Model 5\n",
        "\n",
        "    ann5 = Sequential()\n",
        "    ann5.add(tf.keras.layers.Dense(units=40, activation='relu'))\n",
        "    ann5.add(tf.keras.layers.Dense(units=50, activation='relu'))\n",
        "    ann5.add(tf.keras.layers.Dense(units=55, activation='relu'))\n",
        "    ann5.add(tf.keras.layers.Dense(units=num_classes, activation='softmax'))\n",
        "    ann5.compile(optimizer = 'adam', loss = kf.losses.SparseCategoricalCrossentropy(), metrics = [kf.metrics.CategoricalAccuracy()])\n",
        "    ann5.fit(X_train_cv, y_train_cv, batch_size = 128, epochs = 250,verbose=0)\n",
        "\n",
        "    # Model 6\n",
        "\n",
        "    ann6 = Sequential()\n",
        "    ann6.add(tf.keras.layers.Dense(units=35, activation='relu'))\n",
        "    ann6.add(tf.keras.layers.Dense(units=45, activation='relu'))\n",
        "    ann6.add(tf.keras.layers.Dense(units=50, activation='relu'))\n",
        "    ann6.add(tf.keras.layers.Dense(units=num_classes, activation='softmax'))\n",
        "    ann6.compile(optimizer = 'adam', loss = kf.losses.SparseCategoricalCrossentropy(), metrics = [kf.metrics.CategoricalAccuracy()])\n",
        "    ann6.fit(X_train_cv, y_train_cv, batch_size = 128, epochs = 300,verbose=0)\n",
        "\n",
        "    # Model 7\n",
        "\n",
        "    ann7 = Sequential()\n",
        "    ann7.add(tf.keras.layers.Dense(units=35, activation='relu'))\n",
        "    ann7.add(tf.keras.layers.Dense(units=45, activation='relu'))\n",
        "    ann7.add(tf.keras.layers.Dense(units=50, activation='relu'))\n",
        "    ann7.add(tf.keras.layers.Dense(units=num_classes, activation='softmax'))\n",
        "    ann7.compile(optimizer = 'adam', loss = kf.losses.SparseCategoricalCrossentropy(), metrics = [kf.metrics.CategoricalAccuracy()])\n",
        "    ann7.fit(X_train_cv, y_train_cv, batch_size = 128, epochs = 300,verbose=0)\n",
        "\n",
        "    # Model 8\n",
        "\n",
        "    ann8 = Sequential()\n",
        "    ann8.add(tf.keras.layers.Dense(units=35, activation='relu'))\n",
        "    ann8.add(tf.keras.layers.Dense(units=45, activation='relu'))\n",
        "    ann8.add(tf.keras.layers.Dense(units=50, activation='relu'))\n",
        "    ann8.add(tf.keras.layers.Dense(units=num_classes, activation='softmax'))\n",
        "    ann8.compile(optimizer = 'adam', loss = kf.losses.SparseCategoricalCrossentropy(), metrics = [kf.metrics.CategoricalAccuracy()])\n",
        "    ann8.fit(X_train_cv, y_train_cv, batch_size = 128, epochs = 300,verbose=0)\n",
        "\n",
        "    # Model 9\n",
        "\n",
        "    ann9 = Sequential()\n",
        "    ann9.add(tf.keras.layers.Dense(units=35, activation='relu'))\n",
        "    ann9.add(tf.keras.layers.Dense(units=45, activation='relu'))\n",
        "    ann9.add(tf.keras.layers.Dense(units=50, activation='relu'))\n",
        "    ann9.add(tf.keras.layers.Dense(units=num_classes, activation='softmax'))\n",
        "    ann9.compile(optimizer = 'adam', loss = kf.losses.SparseCategoricalCrossentropy(), metrics = [kf.metrics.CategoricalAccuracy()])\n",
        "    ann9.fit(X_train_cv, y_train_cv, batch_size = 128, epochs = 300,verbose=0)\n",
        "\n",
        "    # Model 10\n",
        "\n",
        "    ann10 = Sequential()\n",
        "    ann10.add(tf.keras.layers.Dense(units=35, activation='relu'))\n",
        "    ann10.add(tf.keras.layers.Dense(units=45, activation='relu'))\n",
        "    ann10.add(tf.keras.layers.Dense(units=50, activation='relu'))\n",
        "    ann10.add(tf.keras.layers.Dense(units=num_classes, activation='softmax'))\n",
        "    ann10.compile(optimizer = 'adam', loss = kf.losses.SparseCategoricalCrossentropy(), metrics = [kf.metrics.CategoricalAccuracy()])\n",
        "    ann10.fit(X_train_cv, y_train_cv, batch_size = 128, epochs = 300,verbose=0)\n",
        "    # Model 11\n",
        "\n",
        "    ann11 = Sequential()\n",
        "    ann11.add(tf.keras.layers.Dense(units=35, activation='relu'))\n",
        "    ann11.add(tf.keras.layers.Dense(units=45, activation='relu'))\n",
        "    ann11.add(tf.keras.layers.Dense(units=50, activation='relu'))\n",
        "    ann11.add(tf.keras.layers.Dense(units=num_classes, activation='softmax'))\n",
        "    ann11.compile(optimizer = 'adam', loss = kf.losses.SparseCategoricalCrossentropy(), metrics = [kf.metrics.CategoricalAccuracy()])\n",
        "    ann11.fit(X_train_cv, y_train_cv, batch_size = 128, epochs = 300,verbose=0)\n",
        "\n",
        "    # Model 12\n",
        "\n",
        "    ann12 = Sequential()\n",
        "    ann12.add(tf.keras.layers.Dense(units=35, activation='relu'))\n",
        "    ann12.add(tf.keras.layers.Dense(units=45, activation='relu'))\n",
        "    ann12.add(tf.keras.layers.Dense(units=50, activation='relu'))\n",
        "    ann12.add(tf.keras.layers.Dense(units=num_classes, activation='softmax'))\n",
        "    ann12.compile(optimizer = 'adam', loss = kf.losses.SparseCategoricalCrossentropy(), metrics = [kf.metrics.CategoricalAccuracy()])\n",
        "    ann12.fit(X_train_cv, y_train_cv, batch_size = 128, epochs = 300,verbose=0)\n",
        "\n",
        "    # Model 13\n",
        "\n",
        "    ann13 = Sequential()\n",
        "    ann13.add(tf.keras.layers.Dense(units=35, activation='relu'))\n",
        "    ann13.add(tf.keras.layers.Dense(units=45, activation='relu'))\n",
        "    ann13.add(tf.keras.layers.Dense(units=50, activation='relu'))\n",
        "    ann13.add(tf.keras.layers.Dense(units=num_classes, activation='softmax'))\n",
        "    ann13.compile(optimizer = 'adam', loss = kf.losses.SparseCategoricalCrossentropy(), metrics = [kf.metrics.CategoricalAccuracy()])\n",
        "    ann13.fit(X_train_cv, y_train_cv, batch_size = 128, epochs = 300,verbose=0)\n",
        "\n",
        "    # Model 14\n",
        "\n",
        "    ann14 = Sequential()\n",
        "    ann14.add(tf.keras.layers.Dense(units=35, activation='relu'))\n",
        "    ann14.add(tf.keras.layers.Dense(units=45, activation='relu'))\n",
        "    ann14.add(tf.keras.layers.Dense(units=50, activation='relu'))\n",
        "    ann14.add(tf.keras.layers.Dense(units=num_classes, activation='softmax'))\n",
        "    ann14.compile(optimizer = 'adam', loss = kf.losses.SparseCategoricalCrossentropy(), metrics = [kf.metrics.CategoricalAccuracy()])\n",
        "    ann14.fit(X_train_cv, y_train_cv, batch_size = 128, epochs = 300,verbose=0)\n",
        "\n",
        "    # Model 15\n",
        "\n",
        "    ann15 = Sequential()\n",
        "    ann15.add(tf.keras.layers.Dense(units=35, activation='relu'))\n",
        "    ann15.add(tf.keras.layers.Dense(units=45, activation='sigmoid'))\n",
        "    ann15.add(tf.keras.layers.Dense(units=50, activation='relu'))\n",
        "    ann15.add(tf.keras.layers.Dense(units=num_classes, activation='softmax'))\n",
        "    ann15.compile(optimizer = 'adam', loss = kf.losses.SparseCategoricalCrossentropy(), metrics = [kf.metrics.CategoricalAccuracy()])\n",
        "    ann15.fit(X_train_cv, y_train_cv, batch_size = 128, epochs = 300,verbose=0)\n",
        "\n",
        "    # Model 16\n",
        "\n",
        "    ann16 = Sequential()\n",
        "    ann16.add(tf.keras.layers.Dense(units=35, activation='relu'))\n",
        "    ann16.add(tf.keras.layers.Dense(units=45, activation= 'sigmoid'))\n",
        "    ann16.add(tf.keras.layers.Dense(units=50, activation='relu'))\n",
        "    ann16.add(tf.keras.layers.Dense(units=num_classes, activation='softmax'))\n",
        "    ann16.compile(optimizer = 'adam', loss = kf.losses.SparseCategoricalCrossentropy(), metrics = [kf.metrics.CategoricalAccuracy()])\n",
        "    ann16.fit(X_train_cv, y_train_cv, batch_size = 128, epochs = 300,verbose=0)\n",
        "\n",
        "    ann1.save('north/model1.h5')\n",
        "    ann2.save('north/model2.h5')\n",
        "    ann3.save('north/model3.h5')\n",
        "    ann4.save('north/model4.h5')\n",
        "    ann5.save('north/model5.h5')\n",
        "    ann6.save('north/model6.h5')\n",
        "    ann7.save('north/model7.h5')\n",
        "    ann8.save('north/model8.h5')\n",
        "    ann9.save('north/model9.h5')\n",
        "    ann10.save('north/model10.h5')\n",
        "    ann11.save('north/model11.h5')\n",
        "    ann12.save('north/model12.h5')\n",
        "    ann13.save('north/model13.h5')\n",
        "    ann14.save('north/model14.h5')\n",
        "    ann15.save('north/model15.h5')\n",
        "    ann16.save('north/model16.h5')\n",
        "\n",
        "    members = load_all_models(16)\n",
        "    model = fit_stacked_model(members, X_train_cv,y_train_cv)\n",
        "    end = time.time()\n",
        "    print(\"Cross validation Train time: \",(end-start) * 10**3, \"ms\")\n",
        "    t = (end-start)*1000\n",
        "    train_time.append(t)\n",
        "\n",
        "    start = time.time()\n",
        "    y_pred = stacked_prediction(members, model, X_test_cv)\n",
        "    end = time.time()\n",
        "\n",
        "    t = (end - start)*1000\n",
        "    test_time.append(t)\n",
        "\n",
        "    print(\"Cross validation Test time: \",(end-start) * 10**3, \"ms\")\n",
        "    y_test_prob = stacked_prediction_proba(members,model,X_test_cv)\n",
        "    y_train_pred = stacked_prediction(members, model, X_train_cv)\n",
        "\n",
        "    cm = confusion_matrix(y_test_cv, y_pred)\n",
        "\n",
        "\n",
        "    accuracy = accuracy_score(y_test_cv, y_pred)\n",
        "    acc_test.append(accuracy)\n",
        "    accuracy_train = accuracy_score(y_train_cv, y_train_pred)\n",
        "    acc_train.append(accuracy_train)\n",
        "\n",
        "    pre_macro = precision_score(y_test_cv, y_pred,average='macro')\n",
        "    Precision_macro.append(pre_macro)\n",
        "    pre_micro = precision_score(y_test_cv, y_pred,average='micro')\n",
        "    Precision_micro.append(pre_micro)\n",
        "\n",
        "    re_macro = recall_score(y_test_cv, y_pred,average='macro')\n",
        "    Recall_macro.append(re_macro)\n",
        "    re_micro = recall_score(y_test_cv, y_pred,average='micro')\n",
        "    Recall_micro.append(re_micro)\n",
        "\n",
        "    f1_macro = f1_score(y_test_cv, y_pred,average='macro')\n",
        "    F1_macro.append(f1_macro)\n",
        "    f1_micro = f1_score(y_test_cv, y_pred,average='micro')\n",
        "    F1_micro.append(f1_micro)\n",
        "\n",
        "    auc_ovo = roc_auc_score(y_test_cv,y_test_prob,multi_class='ovo')\n",
        "    AUC_ovo.append(auc_ovo)\n",
        "    auc_ovr = roc_auc_score(y_test_cv,y_test_prob,multi_class='ovr')\n",
        "    AUC_ovr.append(auc_ovr)"
      ],
      "id": "426c21a7"
    },
    {
      "cell_type": "code",
      "execution_count": 15,
      "metadata": {
        "id": "4631b43e"
      },
      "outputs": [],
      "source": [
        "result_cv = pd.DataFrame()\n",
        "result_cv[\"Train_acc\"] = acc_train\n",
        "result_cv[\"Test_acc\"] = acc_test\n",
        "result_cv[\"Precision(macro)\"] = Precision_macro\n",
        "result_cv[\"Precision(micro)\"] = Precision_micro\n",
        "result_cv[\"Recall(macro)\"] = Recall_macro\n",
        "result_cv[\"Recall(micro)\"] = Recall_micro\n",
        "result_cv[\"F1(macro)\"] = F1_macro\n",
        "result_cv[\"F1(micro)\"] = F1_micro\n",
        "result_cv[\"AUC(ovo)\"] = AUC_ovo\n",
        "result_cv[\"AUC(ovr)\"] = AUC_ovr\n",
        "result_cv[\"Train Time\"] = train_time\n",
        "result_cv[\"Test Time\"] = test_time"
      ],
      "id": "4631b43e"
    },
    {
      "cell_type": "code",
      "execution_count": 16,
      "metadata": {
        "colab": {
          "base_uri": "https://localhost:8080/"
        },
        "id": "6bf66a36",
        "outputId": "94f0a8a5-76db-44b9-a93e-cbfd9c668405"
      },
      "outputs": [
        {
          "output_type": "execute_result",
          "data": {
            "text/plain": [
              "[1778278.157711029,\n",
              " 1584714.6508693695,\n",
              " 1550440.5386447906,\n",
              " 1675517.8372859955,\n",
              " 1478335.8108997345]"
            ]
          },
          "metadata": {},
          "execution_count": 16
        }
      ],
      "source": [
        "train_time"
      ],
      "id": "6bf66a36"
    },
    {
      "cell_type": "code",
      "execution_count": 17,
      "metadata": {
        "colab": {
          "base_uri": "https://localhost:8080/"
        },
        "id": "105fd285",
        "outputId": "b6961f52-5104-4c27-eb11-31490fc4974e"
      },
      "outputs": [
        {
          "output_type": "execute_result",
          "data": {
            "text/plain": [
              "[8106.08172416687,\n",
              " 7577.402830123901,\n",
              " 7733.672380447388,\n",
              " 6992.727041244507,\n",
              " 7697.917461395264]"
            ]
          },
          "metadata": {},
          "execution_count": 17
        }
      ],
      "source": [
        "test_time"
      ],
      "id": "105fd285"
    },
    {
      "cell_type": "code",
      "execution_count": 18,
      "metadata": {
        "id": "b92aa6da"
      },
      "outputs": [],
      "source": [
        "result_cv.to_csv(\"filename\", index=False)"
      ],
      "id": "b92aa6da"
    },
    {
      "cell_type": "code",
      "execution_count": 19,
      "metadata": {
        "id": "0663ab50"
      },
      "outputs": [],
      "source": [
        "result_cv_avg = pd.DataFrame()\n",
        "lst = []\n",
        "x = mean(acc_train)*100\n",
        "lst.append(x)\n",
        "result_cv_avg[\"Train_acc\"] = lst\n",
        "result_cv_avg[\"Test_acc\"] = mean(acc_test)*100\n",
        "result_cv_avg[\"SD\"] = np.std(acc_test)*100\n",
        "result_cv_avg[\"Precision(macro)\"] = mean(Precision_macro)\n",
        "result_cv_avg[\"Precision(micro)\"] = mean(Precision_micro)\n",
        "result_cv_avg[\"Recall(macro)\"] = mean(Recall_macro)\n",
        "result_cv_avg[\"Recall(micro)\"] = mean(Recall_micro)\n",
        "result_cv_avg[\"F1(macro)\"] = mean(F1_macro)\n",
        "result_cv_avg[\"F1(micro)\"] = mean(F1_micro)\n",
        "result_cv_avg[\"AUC(ovo)\"] = mean(AUC_ovo)\n",
        "result_cv_avg[\"AUC(ovr)\"] = mean(AUC_ovr)"
      ],
      "id": "0663ab50"
    },
    {
      "cell_type": "code",
      "execution_count": 20,
      "metadata": {
        "id": "b3d296c7"
      },
      "outputs": [],
      "source": [
        "result_cv_avg.to_csv(\"filename\", index=False)"
      ],
      "id": "b3d296c7"
    },
    {
      "cell_type": "code",
      "execution_count": 21,
      "metadata": {
        "colab": {
          "base_uri": "https://localhost:8080/"
        },
        "id": "d737dfcb",
        "outputId": "d6b00bc8-6db4-41c0-88ff-7b9ba8076325"
      },
      "outputs": [
        {
          "output_type": "execute_result",
          "data": {
            "text/plain": [
              "[0.9992522805443398,\n",
              " 0.9990030407257864,\n",
              " 0.9992522805443398,\n",
              " 0.9988534968346543,\n",
              " 0.9990030407257864]"
            ]
          },
          "metadata": {},
          "execution_count": 21
        }
      ],
      "source": [
        "acc_train"
      ],
      "id": "d737dfcb"
    },
    {
      "cell_type": "code",
      "execution_count": 22,
      "metadata": {
        "colab": {
          "base_uri": "https://localhost:8080/"
        },
        "id": "5601cc70",
        "outputId": "8d5d7a5a-441a-4c78-b0a8-dbe981421aa2"
      },
      "outputs": [
        {
          "output_type": "execute_result",
          "data": {
            "text/plain": [
              "[0.9452669358456707,\n",
              " 0.9412292507851054,\n",
              " 0.9442201286077464,\n",
              " 0.9443696724988784,\n",
              " 0.9410797068939734]"
            ]
          },
          "metadata": {},
          "execution_count": 22
        }
      ],
      "source": [
        "acc_test"
      ],
      "id": "5601cc70"
    },
    {
      "cell_type": "code",
      "execution_count": 23,
      "metadata": {
        "colab": {
          "base_uri": "https://localhost:8080/"
        },
        "id": "a183e93a",
        "outputId": "301220bd-515c-4b09-9a2c-b018df3524ba"
      },
      "outputs": [
        {
          "output_type": "execute_result",
          "data": {
            "text/plain": [
              "[0.9429471669627235,\n",
              " 0.9391863327757184,\n",
              " 0.9407481645461132,\n",
              " 0.9440193303985299,\n",
              " 0.9404402010214797]"
            ]
          },
          "metadata": {},
          "execution_count": 23
        }
      ],
      "source": [
        "Precision_macro"
      ],
      "id": "a183e93a"
    },
    {
      "cell_type": "code",
      "execution_count": 24,
      "metadata": {
        "colab": {
          "base_uri": "https://localhost:8080/"
        },
        "id": "919cba03",
        "outputId": "7eb12da5-1f80-491b-cb91-48fce62f057d"
      },
      "outputs": [
        {
          "output_type": "execute_result",
          "data": {
            "text/plain": [
              "[0.9452669358456707,\n",
              " 0.9412292507851054,\n",
              " 0.9442201286077464,\n",
              " 0.9443696724988784,\n",
              " 0.9410797068939734]"
            ]
          },
          "metadata": {},
          "execution_count": 24
        }
      ],
      "source": [
        "Precision_micro"
      ],
      "id": "919cba03"
    },
    {
      "cell_type": "code",
      "execution_count": 25,
      "metadata": {
        "colab": {
          "base_uri": "https://localhost:8080/"
        },
        "id": "da5922e3",
        "outputId": "2448f989-19c4-4854-c4fa-096a6e5694fa"
      },
      "outputs": [
        {
          "output_type": "execute_result",
          "data": {
            "text/plain": [
              "[0.9450214566082172,\n",
              " 0.9414109413702798,\n",
              " 0.9424152913747418,\n",
              " 0.9455761243221937,\n",
              " 0.9403599504154533]"
            ]
          },
          "metadata": {},
          "execution_count": 25
        }
      ],
      "source": [
        "Recall_macro"
      ],
      "id": "da5922e3"
    },
    {
      "cell_type": "code",
      "execution_count": 26,
      "metadata": {
        "colab": {
          "base_uri": "https://localhost:8080/"
        },
        "id": "9da08914",
        "outputId": "965a949d-009c-42ed-d42e-5c5e7dca6f91"
      },
      "outputs": [
        {
          "output_type": "execute_result",
          "data": {
            "text/plain": [
              "[0.9452669358456707,\n",
              " 0.9412292507851054,\n",
              " 0.9442201286077464,\n",
              " 0.9443696724988784,\n",
              " 0.9410797068939734]"
            ]
          },
          "metadata": {},
          "execution_count": 26
        }
      ],
      "source": [
        "Recall_micro"
      ],
      "id": "9da08914"
    },
    {
      "cell_type": "code",
      "execution_count": 27,
      "metadata": {
        "colab": {
          "base_uri": "https://localhost:8080/"
        },
        "id": "d06098bb",
        "outputId": "1a01f536-3737-45a5-b0ca-851e49b5212d"
      },
      "outputs": [
        {
          "output_type": "execute_result",
          "data": {
            "text/plain": [
              "[0.943817188683695,\n",
              " 0.9401080849324078,\n",
              " 0.9414790352807314,\n",
              " 0.9446564729994577,\n",
              " 0.9403269080221519]"
            ]
          },
          "metadata": {},
          "execution_count": 27
        }
      ],
      "source": [
        "F1_macro"
      ],
      "id": "d06098bb"
    },
    {
      "cell_type": "code",
      "execution_count": 28,
      "metadata": {
        "colab": {
          "base_uri": "https://localhost:8080/"
        },
        "id": "c98a6d5f",
        "outputId": "7d1c58ab-6424-4259-d6b6-838a752a5f78"
      },
      "outputs": [
        {
          "output_type": "execute_result",
          "data": {
            "text/plain": [
              "[0.9452669358456707,\n",
              " 0.9412292507851054,\n",
              " 0.9442201286077464,\n",
              " 0.9443696724988784,\n",
              " 0.9410797068939734]"
            ]
          },
          "metadata": {},
          "execution_count": 28
        }
      ],
      "source": [
        "F1_micro"
      ],
      "id": "c98a6d5f"
    },
    {
      "cell_type": "code",
      "execution_count": 29,
      "metadata": {
        "colab": {
          "base_uri": "https://localhost:8080/"
        },
        "id": "ae3f919c",
        "outputId": "0800793f-1339-4f2d-ebd6-69d1b4239c34"
      },
      "outputs": [
        {
          "output_type": "execute_result",
          "data": {
            "text/plain": [
              "[0.995864271145471,\n",
              " 0.9958917640702102,\n",
              " 0.9956791758080796,\n",
              " 0.9959343118435094,\n",
              " 0.9950036881647581]"
            ]
          },
          "metadata": {},
          "execution_count": 29
        }
      ],
      "source": [
        "AUC_ovo"
      ],
      "id": "ae3f919c"
    },
    {
      "cell_type": "code",
      "execution_count": 30,
      "metadata": {
        "colab": {
          "base_uri": "https://localhost:8080/"
        },
        "id": "9bc6fd04",
        "outputId": "cb45aba6-d95f-4aa1-c61f-88f8fd366321"
      },
      "outputs": [
        {
          "output_type": "stream",
          "name": "stdout",
          "text": [
            "3\n"
          ]
        }
      ],
      "source": [
        "index = np.argmax(AUC_ovo)\n",
        "print(index)"
      ],
      "id": "9bc6fd04"
    },
    {
      "cell_type": "code",
      "execution_count": 31,
      "metadata": {
        "colab": {
          "base_uri": "https://localhost:8080/"
        },
        "id": "a85635c8",
        "outputId": "e9ef75fd-46dd-486b-b476-5a09a48c8bab"
      },
      "outputs": [
        {
          "output_type": "execute_result",
          "data": {
            "text/plain": [
              "[0.9958975609297357,\n",
              " 0.9958922724982956,\n",
              " 0.995829903549417,\n",
              " 0.9958597048801785,\n",
              " 0.9950637586647275]"
            ]
          },
          "metadata": {},
          "execution_count": 31
        }
      ],
      "source": [
        "AUC_ovr"
      ],
      "id": "a85635c8"
    },
    {
      "cell_type": "code",
      "execution_count": 32,
      "metadata": {
        "colab": {
          "base_uri": "https://localhost:8080/"
        },
        "id": "005129c3",
        "outputId": "2271993d-64a7-46a1-ad93-59b106107209"
      },
      "outputs": [
        {
          "output_type": "stream",
          "name": "stdout",
          "text": [
            "Accuracy(Train): 99.91 %\n",
            "Accuracy(Test): 94.32 %\n",
            "Standard Deviation: 0.17%\n",
            "Precision (macro): 0.941\n",
            "Precision (micro): 0.943\n",
            "Recall (macro): 0.943\n",
            "Recall (micro): 0.943\n",
            "F1 (macro): 0.942\n",
            "F1 (micro): 0.943\n",
            "AUC (ovo): 0.996\n",
            "AUC (ovr): 0.996\n"
          ]
        }
      ],
      "source": [
        " print(\"Accuracy(Train): {:.2f} %\".format(mean(acc_train)*100))\n",
        "print(\"Accuracy(Test): {:.2f} %\".format(mean(acc_test)*100))\n",
        "print(\"Standard Deviation: {:.2f}%\".format(np.std(acc_test)*100))\n",
        "print(\"Precision (macro): %.3f\" %mean(Precision_macro))\n",
        "print(\"Precision (micro): %.3f\" %mean(Precision_micro))\n",
        "print(\"Recall (macro): %.3f\" %mean(Recall_macro))\n",
        "print(\"Recall (micro): %.3f\" %mean(Recall_micro))\n",
        "print(\"F1 (macro): %.3f\" %mean(F1_macro))\n",
        "print(\"F1 (micro): %.3f\" %mean(F1_micro))\n",
        "print(\"AUC (ovo): %.3f\" %mean(AUC_ovo))\n",
        "print(\"AUC (ovr): %.3f\" %mean(AUC_ovr))"
      ],
      "id": "005129c3"
    },
    {
      "cell_type": "code",
      "execution_count": 33,
      "metadata": {
        "id": "c4760cea"
      },
      "outputs": [],
      "source": [
        "from numpy import interp"
      ],
      "id": "c4760cea"
    },
    {
      "cell_type": "code",
      "execution_count": 34,
      "metadata": {
        "colab": {
          "base_uri": "https://localhost:8080/"
        },
        "id": "804ffd5e",
        "outputId": "37dc56f7-a32b-45dc-f305-5d60bf3378a5"
      },
      "outputs": [
        {
          "output_type": "stream",
          "name": "stdout",
          "text": [
            "all_fpr:  [0.00000000e+00 1.62258640e-04 1.62654522e-04 1.62760417e-04\n",
            " 1.62786912e-04 1.63132137e-04 1.63212012e-04 1.63371998e-04\n",
            " 3.25309044e-04 3.25520833e-04 3.25573824e-04 3.26264274e-04\n",
            " 3.26424025e-04 3.26743996e-04 4.87963565e-04 4.88281250e-04\n",
            " 4.89396411e-04 4.89636037e-04 6.50618087e-04 6.51041667e-04\n",
            " 6.52528548e-04 6.52848050e-04 8.13272609e-04 8.13802083e-04\n",
            " 8.15660685e-04 8.16060062e-04 9.75927131e-04 9.76562500e-04\n",
            " 9.78792822e-04 9.79272074e-04 1.13858165e-03 1.13932292e-03\n",
            " 1.14192496e-03 1.14248409e-03 1.30123617e-03 1.30505710e-03\n",
            " 1.30569610e-03 1.46389070e-03 1.46484375e-03 1.46818923e-03\n",
            " 1.46890811e-03 1.62654522e-03 1.62760417e-03 1.63132137e-03\n",
            " 1.79036458e-03 1.79445351e-03 1.79709198e-03 1.95185426e-03\n",
            " 1.95312500e-03 2.12071778e-03 2.27864583e-03 2.28384992e-03\n",
            " 2.44140625e-03 2.44698206e-03 2.44818019e-03 2.60247235e-03\n",
            " 2.60416667e-03 2.61139220e-03 2.76692708e-03 2.77324633e-03\n",
            " 2.77460421e-03 2.92968750e-03 2.93781622e-03 3.09043591e-03\n",
            " 3.09244792e-03 3.09951060e-03 3.10102824e-03 3.25309044e-03\n",
            " 3.25520833e-03 3.26264274e-03 3.26424025e-03 3.42577488e-03\n",
            " 3.57839948e-03 3.58890701e-03 3.90625000e-03 3.91517129e-03\n",
            " 4.06636304e-03 4.06901042e-03 4.07830343e-03 4.08030031e-03\n",
            " 4.24143556e-03 4.24351232e-03 4.39167209e-03 4.40456770e-03\n",
            " 4.55729167e-03 4.56769984e-03 4.56993635e-03 4.71698113e-03\n",
            " 4.72005208e-03 4.73083197e-03 4.73314836e-03 4.88281250e-03\n",
            " 4.89396411e-03 4.89636037e-03 5.04229018e-03 5.04557292e-03\n",
            " 5.05709625e-03 5.20833333e-03 5.22022838e-03 5.22278440e-03\n",
            " 5.37109375e-03 5.38336052e-03 5.69661458e-03 5.70962480e-03\n",
            " 5.85937500e-03 6.01821731e-03 6.02213542e-03 6.03588907e-03\n",
            " 6.03884446e-03 6.19902121e-03 6.34765625e-03 6.51041667e-03\n",
            " 6.52528548e-03 6.67317708e-03 6.68841762e-03 6.83148992e-03\n",
            " 6.83593750e-03 6.85154976e-03 6.85490452e-03 6.99869792e-03\n",
            " 7.01468189e-03 7.16145833e-03 7.17781403e-03 7.32421875e-03\n",
            " 7.34094617e-03 7.50407830e-03 7.67096458e-03 7.81250000e-03\n",
            " 7.83417660e-03 7.97526042e-03 8.13802083e-03 8.15660685e-03\n",
            " 8.29538061e-03 8.30078125e-03 8.62630208e-03 8.64600326e-03\n",
            " 8.80913540e-03 8.97226754e-03 8.97666068e-03 9.11458333e-03\n",
            " 9.13539967e-03 9.27734375e-03 9.44010417e-03 9.46166395e-03\n",
            " 9.60286458e-03 9.76562500e-03 9.92838542e-03 9.95106036e-03\n",
            " 1.00911458e-02 1.01141925e-02 1.02539062e-02 1.02773246e-02\n",
            " 1.04166667e-02 1.09049479e-02 1.09298532e-02 1.10677083e-02\n",
            " 1.10929853e-02 1.12304688e-02 1.13932292e-02 1.15559896e-02\n",
            " 1.17187500e-02 1.17455139e-02 1.22070312e-02 1.22349103e-02\n",
            " 1.23697917e-02 1.23980424e-02 1.25243982e-02 1.25325521e-02\n",
            " 1.25611746e-02 1.26953125e-02 1.27243067e-02 1.28580729e-02\n",
            " 1.28874388e-02 1.30208333e-02 1.30505710e-02 1.35091146e-02\n",
            " 1.35399674e-02 1.35465970e-02 1.37030995e-02 1.38346354e-02\n",
            " 1.39973958e-02 1.41601562e-02 1.41924959e-02 1.46484375e-02\n",
            " 1.48111979e-02 1.50081566e-02 1.51712887e-02 1.54622396e-02\n",
            " 1.54975530e-02 1.56250000e-02 1.56606852e-02 1.57877604e-02\n",
            " 1.59505208e-02 1.61132812e-02 1.63132137e-02 1.64388021e-02\n",
            " 1.66015625e-02 1.66394780e-02 1.68108373e-02 1.69270833e-02\n",
            " 1.70898438e-02 1.71288744e-02 1.72526042e-02 1.72920065e-02\n",
            " 1.75781250e-02 1.76182708e-02 1.77408854e-02 1.80664062e-02\n",
            " 1.82707993e-02 1.83919271e-02 1.85546875e-02 1.88802083e-02\n",
            " 1.92057292e-02 1.94222295e-02 1.95312500e-02 1.95758564e-02\n",
            " 1.96940104e-02 1.97389886e-02 1.98567708e-02 2.00195312e-02\n",
            " 2.03450521e-02 2.05078125e-02 2.08333333e-02 2.09824333e-02\n",
            " 2.09960938e-02 2.10440457e-02 2.11588542e-02 2.12071778e-02\n",
            " 2.14703969e-02 2.14843750e-02 2.15334421e-02 2.19726562e-02\n",
            " 2.21354167e-02 2.24609375e-02 2.26236979e-02 2.27864583e-02\n",
            " 2.28384992e-02 2.29492188e-02 2.31119792e-02 2.32747396e-02\n",
            " 2.34375000e-02 2.36002604e-02 2.39804241e-02 2.40885417e-02\n",
            " 2.42513021e-02 2.43066884e-02 2.44698206e-02 2.46329527e-02\n",
            " 2.47395833e-02 2.49023438e-02 2.49592170e-02 2.51223491e-02\n",
            " 2.52854812e-02 2.57161458e-02 2.57748777e-02 2.58789062e-02\n",
            " 2.61011419e-02 2.63671875e-02 2.65299479e-02 2.65905383e-02\n",
            " 2.66927083e-02 2.67536705e-02 2.68554688e-02 2.70182292e-02\n",
            " 2.70799347e-02 2.71809896e-02 2.72430669e-02 2.73437500e-02\n",
            " 2.78955954e-02 2.79947917e-02 2.81575521e-02 2.82218597e-02\n",
            " 2.84830729e-02 2.86458333e-02 2.87112561e-02 2.89713542e-02\n",
            " 2.92968750e-02 2.93637847e-02 2.93781622e-02 2.95269168e-02\n",
            " 2.96223958e-02 2.97851562e-02 2.98531811e-02 3.02734375e-02\n",
            " 3.03425775e-02 3.06688418e-02 3.09244792e-02 3.10872396e-02\n",
            " 3.17382812e-02 3.19010417e-02 3.21370310e-02 3.22265625e-02\n",
            " 3.23001631e-02 3.23893229e-02 3.25520833e-02 3.27895595e-02\n",
            " 3.30403646e-02 3.32031250e-02 3.32789560e-02 3.33658854e-02\n",
            " 3.36914062e-02 3.38541667e-02 3.39314845e-02 3.40946166e-02\n",
            " 3.43424479e-02 3.45052083e-02 3.46679688e-02 3.47471452e-02\n",
            " 3.49934896e-02 3.51562500e-02 3.54817708e-02 3.56445312e-02\n",
            " 3.58072917e-02 3.59700521e-02 3.62153344e-02 3.65415987e-02\n",
            " 3.66210938e-02 3.69466146e-02 3.72721354e-02 3.73572594e-02\n",
            " 3.75203915e-02 3.75976562e-02 3.79231771e-02 3.80097879e-02\n",
            " 3.80859375e-02 3.82486979e-02 3.88997396e-02 3.92252604e-02\n",
            " 3.93148450e-02 3.94779772e-02 3.96411093e-02 3.99673736e-02\n",
            " 4.01305057e-02 4.02936378e-02 4.03645833e-02 4.06199021e-02\n",
            " 4.08528646e-02 4.11092985e-02 4.15039062e-02 4.20880914e-02\n",
            " 4.23177083e-02 4.26432292e-02 4.28059896e-02 4.29037520e-02\n",
            " 4.29687500e-02 4.30668842e-02 4.31315104e-02 4.34570312e-02\n",
            " 4.36197917e-02 4.39453125e-02 4.40456770e-02 4.42088091e-02\n",
            " 4.42708333e-02 4.44335938e-02 4.45350734e-02 4.47591146e-02\n",
            " 4.50846354e-02 4.53507341e-02 4.53729394e-02 4.56769984e-02\n",
            " 4.58984375e-02 4.64926591e-02 4.65494792e-02 4.70050596e-02\n",
            " 4.70377604e-02 4.73632812e-02 4.76345840e-02 4.76888021e-02\n",
            " 4.83398438e-02 4.91536458e-02 4.95921697e-02 4.97553018e-02\n",
            " 5.02446982e-02 5.05709625e-02 5.10603589e-02 5.13866232e-02\n",
            " 5.19205729e-02 5.20833333e-02 5.22022838e-02 5.23654160e-02\n",
            " 5.24088542e-02 5.25285481e-02 5.25716146e-02 5.27343750e-02\n",
            " 5.32226562e-02 5.35073409e-02 5.36704731e-02 5.43619792e-02\n",
            " 5.46492659e-02 5.46875000e-02 5.48502604e-02 5.49755302e-02\n",
            " 5.50130208e-02 5.51386623e-02 5.51757812e-02 5.54649266e-02\n",
            " 5.55013021e-02 5.61523438e-02 5.69609923e-02 5.74544271e-02\n",
            " 5.75856444e-02 5.77799479e-02 5.79119086e-02 5.82381729e-02\n",
            " 5.82682292e-02 5.84309896e-02 5.85644372e-02 5.89195365e-02\n",
            " 5.92169657e-02 5.94075521e-02 5.95432300e-02 5.95703125e-02\n",
            " 5.98958333e-02 6.01957586e-02 6.02213542e-02 6.05468750e-02\n",
            " 6.13376835e-02 6.16861979e-02 6.20117188e-02 6.23372396e-02\n",
            " 6.32952692e-02 6.36526848e-02 6.39477977e-02 6.40858816e-02\n",
            " 6.41109299e-02 6.44531250e-02 6.46003263e-02 6.47786458e-02\n",
            " 6.50897227e-02 6.59179688e-02 6.60807292e-02 6.61008650e-02\n",
            " 6.67537131e-02 6.68945312e-02 6.74065611e-02 6.77083333e-02\n",
            " 6.78710938e-02 6.81966146e-02 6.88417618e-02 6.88476562e-02\n",
            " 6.94942904e-02 6.98205546e-02 6.99836868e-02 7.08007812e-02\n",
            " 7.19401042e-02 7.19412724e-02 7.21044046e-02 7.24283854e-02\n",
            " 7.29166667e-02 7.29200653e-02 7.35725938e-02 7.38988581e-02\n",
            " 7.42187500e-02 7.55671617e-02 7.78521299e-02 7.80153419e-02\n",
            " 7.88314020e-02 7.92822186e-02 7.97526042e-02 8.20312500e-02\n",
            " 8.24658426e-02 8.25195312e-02 8.26822917e-02 8.27079935e-02\n",
            " 8.30078125e-02 8.36588542e-02 8.38216146e-02 8.41761827e-02\n",
            " 8.45438224e-02 8.49918434e-02 8.58495185e-02 8.71125612e-02\n",
            " 8.77650897e-02 8.84176183e-02 8.87044271e-02 8.87438825e-02\n",
            " 8.89070147e-02 8.93554688e-02 9.11908646e-02 9.31484502e-02\n",
            " 9.38516591e-02 9.40755208e-02 9.69004894e-02 9.71047495e-02\n",
            " 9.71679688e-02 9.73307292e-02 9.74300586e-02 9.90212072e-02\n",
            " 1.01141925e-01 1.01631321e-01 1.01794454e-01 1.01821731e-01\n",
            " 1.01957586e-01 1.05057096e-01 1.05143229e-01 1.06199021e-01\n",
            " 1.06414232e-01 1.06851550e-01 1.07747396e-01 1.08482871e-01\n",
            " 1.08561198e-01 1.08646003e-01 1.09298532e-01 1.11419250e-01\n",
            " 1.11490885e-01 1.12467448e-01 1.15397135e-01 1.17292007e-01\n",
            " 1.17618271e-01 1.18164062e-01 1.18977865e-01 1.19063110e-01\n",
            " 1.19471193e-01 1.22838499e-01 1.23001631e-01 1.25488281e-01\n",
            " 1.28221860e-01 1.28497072e-01 1.28548124e-01 1.28822381e-01\n",
            " 1.29635654e-01 1.31510417e-01 1.32300163e-01 1.34189980e-01\n",
            " 1.34747145e-01 1.37117762e-01 1.37357259e-01 1.37443071e-01\n",
            " 1.40208198e-01 1.41601562e-01 1.41831239e-01 1.42252604e-01\n",
            " 1.47460938e-01 1.47797716e-01 1.50878906e-01 1.51066254e-01\n",
            " 1.51387311e-01 1.51391828e-01 1.51711829e-01 1.52202284e-01\n",
            " 1.52404238e-01 1.52730236e-01 1.52780042e-01 1.53106147e-01\n",
            " 1.53619873e-01 1.53946723e-01 1.54484779e-01 1.54549910e-01\n",
            " 1.54629022e-01 1.54632484e-01 1.54810353e-01 1.54812398e-01\n",
            " 1.54876654e-01 1.54957001e-01 1.54957321e-01 1.55664222e-01\n",
            " 1.55990220e-01 1.56041089e-01 1.56071253e-01 1.56367194e-01\n",
            " 1.56398104e-01 1.57419567e-01 1.57747866e-01 1.58315652e-01\n",
            " 1.59128155e-01 1.59455916e-01 1.64188858e-01 1.64515602e-01\n",
            " 1.68108373e-01 1.70719765e-01 1.80512486e-01 1.81088168e-01\n",
            " 1.81415929e-01 1.89778646e-01 1.94059083e-01 1.97976171e-01\n",
            " 2.45187602e-01 2.63509115e-01 2.78971354e-01 3.46329527e-01\n",
            " 6.98368679e-01 9.99347471e-01 1.00000000e+00]\n",
            "mean_tpr:  [0.74491442 0.74904928 0.76667451 0.76698145 0.77280253 0.77594436\n",
            " 0.7906765  0.7952407  0.79570452 0.79938776 0.80183874 0.80333485\n",
            " 0.80839437 0.81325332 0.81680168 0.81695543 0.81935023 0.82321949\n",
            " 0.82507478 0.82522825 0.82612592 0.82627472 0.82797541 0.82920315\n",
            " 0.82935276 0.82965038 0.82980499 0.8307258  0.83252113 0.83296756\n",
            " 0.83992489 0.8413061  0.84190455 0.8442855  0.84490393 0.84774654\n",
            " 0.84789535 0.84851378 0.84897418 0.85286407 0.85375693 0.85391153\n",
            " 0.85452541 0.85661996 0.85754077 0.85873766 0.85888489 0.8590395\n",
            " 0.85919297 0.85934258 0.85964952 0.86398823 0.8641417  0.86444093\n",
            " 0.86458973 0.86474434 0.86551168 0.8658093  0.86626971 0.86716737\n",
            " 0.86731618 0.86823699 0.86853461 0.86899843 0.86930537 0.86990382\n",
            " 0.87020143 0.87081986 0.8711268  0.87262291 0.87277172 0.87307094\n",
            " 0.87338016 0.8739786  0.87413207 0.87428168 0.8747455  0.87505244\n",
            " 0.87535166 0.87550047 0.87654775 0.87669656 0.87685116 0.87744961\n",
            " 0.87821695 0.87881539 0.8789642  0.87911881 0.88019309 0.88109076\n",
            " 0.88138838 0.88169531 0.88259298 0.88318822 0.88334282 0.88364976\n",
            " 0.88394898 0.88425592 0.88485436 0.88500317 0.88561705 0.88651471\n",
            " 0.88666818 0.88741624 0.88849051 0.88879973 0.88910667 0.88925628\n",
            " 0.88940509 0.89015314 0.89061355 0.89076701 0.89106624 0.89137317\n",
            " 0.89152278 0.891832   0.89198547 0.89288313 0.89332956 0.89394344\n",
            " 0.89424266 0.89516347 0.89591152 0.89621846 0.8968169  0.89696652\n",
            " 0.89711532 0.89726879 0.8974176  0.89833841 0.89849188 0.89894071\n",
            " 0.89909532 0.89924879 0.8997092  0.89985881 0.90000842 0.90015803\n",
            " 0.90075327 0.9010602  0.90150904 0.90181597 0.904118   0.90426761\n",
            " 0.90488148 0.90503495 0.90610923 0.90670767 0.90793542 0.90823464\n",
            " 0.90838811 0.90868733 0.90899427 0.90930121 0.90945082 0.9105251\n",
            " 0.91067471 0.91144205 0.91159552 0.91174899 0.91190246 0.91205207\n",
            " 0.91281941 0.91296902 0.91358289 0.9137325  0.91388711 0.91404058\n",
            " 0.91419019 0.91434366 0.91449327 0.91464674 0.91479635 0.91541022\n",
            " 0.91555983 0.91586677 0.91601638 0.91646281 0.91661242 0.91676589\n",
            " 0.91707283 0.91722629 0.91767513 0.91890287 0.91920981 0.91950903\n",
            " 0.91965864 0.91996558 0.92011519 0.92042213 0.92057174 0.92072521\n",
            " 0.92087868 0.92103215 0.92118176 0.92133522 0.92164216 0.92179177\n",
            " 0.92194058 0.92224752 0.92270792 0.92285753 0.923011   0.92390867\n",
            " 0.92452254 0.92482176 0.92497523 0.92558911 0.92573872 0.92604565\n",
            " 0.92696646 0.92742687 0.92819421 0.92834302 0.92864996 0.92909879\n",
            " 0.92925226 0.92940187 0.92970881 0.93032268 0.93062962 0.93124349\n",
            " 0.93155043 0.93170504 0.93201197 0.93231119 0.93292507 0.93307468\n",
            " 0.93322929 0.93384316 0.93399277 0.93445318 0.93460664 0.93537399\n",
            " 0.93552745 0.93583439 0.935984   0.93675134 0.93690481 0.93705828\n",
            " 0.93721175 0.93797909 0.9381287  0.93874258 0.93889604 0.93904566\n",
            " 0.93919527 0.93949449 0.93980143 0.9404153  0.94056491 0.94116335\n",
            " 0.94131296 0.94146643 0.94161604 0.94192298 0.94237181 0.94283222\n",
            " 0.94344609 0.9435957  0.94374917 0.94389878 0.94420572 0.94451266\n",
            " 0.94466227 0.94542961 0.94557922 0.94588616 0.9464846  0.94709847\n",
            " 0.94740541 0.94755502 0.94786196 0.94801543 0.94816504 0.94847198\n",
            " 0.94923932 0.94998737 0.95013618 0.95058502 0.95089195 0.95104542\n",
            " 0.95119503 0.95150197 0.95165158 0.95180119 0.95195466 0.9522616\n",
            " 0.95241506 0.95256853 0.95301736 0.95317083 0.95361967 0.95423354\n",
            " 0.95438701 0.95453662 0.95469009 0.95484356 0.95499317 0.95514664\n",
            " 0.95576051 0.95591398 0.95606359 0.9562132  0.95682707 0.95698054\n",
            " 0.95713401 0.95728362 0.95743709 0.95759056 0.95774403 0.9583579\n",
            " 0.9588183  0.95912524 0.95927485 0.95942446 0.95957793 0.9597314\n",
            " 0.96003834 0.96033756 0.96048717 0.96064064 0.96079411 0.96094372\n",
            " 0.96125065 0.96140412 0.96171106 0.96232493 0.96277377 0.96307299\n",
            " 0.9632226  0.96337221 0.96367143 0.96382104 0.96397451 0.96412412\n",
            " 0.96427759 0.9644272  0.96458067 0.96473028 0.96488375 0.96503722\n",
            " 0.96534416 0.96549377 0.96564723 0.96579685 0.96595031 0.96610378\n",
            " 0.96625725 0.96641072 0.96656033 0.96670994 0.96686341 0.96701688\n",
            " 0.96716649 0.96731996 0.96747343 0.96762304 0.96777185 0.96807107\n",
            " 0.96822454 0.96837415 0.96868108 0.96882989 0.96898336 0.96913683\n",
            " 0.96928644 0.96959338 0.96974685 0.96990032 0.97004993 0.97019954\n",
            " 0.97034915 0.97049876 0.97079798 0.97094759 0.97110106 0.971408\n",
            " 0.97155761 0.97185683 0.9720103  0.97215991 0.97246685 0.97262032\n",
            " 0.97292725 0.97307686 0.97322647 0.97337994 0.97367916 0.97383263\n",
            " 0.9739861  0.97428532 0.97443879 0.9745884  0.97474187 0.97489148\n",
            " 0.97504495 0.97519842 0.97534723 0.9755007  0.97565031 0.97580378\n",
            " 0.97625261 0.97640222 0.97655569 0.97670916 0.97685877 0.97700758\n",
            " 0.97715719 0.97731066 0.97746027 0.9777672  0.97792067 0.97807028\n",
            " 0.97822375 0.97837722 0.97852683 0.9786803  0.97883377 0.97898724\n",
            " 0.97928646 0.97943527 0.97958488 0.97973949 0.98003871 0.98019218\n",
            " 0.98034179 0.98049526 0.98079448 0.98094795 0.98110142 0.98125022\n",
            " 0.98139903 0.9815525  0.98170131 0.98200825 0.98216172 0.98246865\n",
            " 0.98261827 0.98277173 0.98292134 0.98307096 0.98322057 0.98337403\n",
            " 0.9835275  0.98367711 0.98397634 0.98428327 0.98443674 0.98473596\n",
            " 0.98503519 0.98533441 0.98579481 0.98594362 0.98594362 0.98609243\n",
            " 0.98624124 0.98639085 0.98669779 0.98685126 0.98700586 0.98700586\n",
            " 0.98715933 0.98730894 0.98746241 0.98761588 0.98776935 0.98791896\n",
            " 0.98806777 0.98821738 0.98836619 0.9885158  0.98881502 0.98896463\n",
            " 0.9891181  0.98926771 0.98956694 0.9897204  0.98987002 0.99001963\n",
            " 0.99017423 0.9903277  0.99047731 0.99063192 0.99063192 0.99078539\n",
            " 0.99094    0.99108961 0.99123922 0.99153844 0.99168805 0.99184266\n",
            " 0.99199227 0.99214188 0.99229535 0.99244496 0.99259377 0.99274338\n",
            " 0.99289685 0.99304646 0.99319993 0.99334954 0.99364876 0.99379837\n",
            " 0.99395184 0.99410531 0.99425878 0.99440839 0.994558   0.99471147\n",
            " 0.99486494 0.99501954 0.99516835 0.99531796 0.99546757 0.99562104\n",
            " 0.99562104 0.99562104 0.99562104 0.99562104 0.99577565 0.99592912\n",
            " 0.99607873 0.99623334 0.99638295 0.99638295 0.99653256 0.99653256\n",
            " 0.99668717 0.99684063 0.99698944 0.99714291 0.99729638 0.99744599\n",
            " 0.99759946 0.99759946 0.99759946 0.99759946 0.99759946 0.99774907\n",
            " 0.99774907 0.99774907 0.99774907 0.99774907 0.99774907 0.99774907\n",
            " 0.99774907 0.99774907 0.99774907 0.99774907 0.99774907 0.99789868\n",
            " 0.99789868 0.99789868 0.99789868 0.99789868 0.99789868 0.99789868\n",
            " 0.99789868 0.99789868 0.99789868 0.99789868 0.99789868 0.99804749\n",
            " 0.99804749 0.99804749 0.99804749 0.99804749 0.9981963  0.99834511\n",
            " 0.99849392 0.99849392 0.99849392 0.99864739 0.9987962  0.99894501\n",
            " 0.99909462 0.99924809 0.99940156 0.99955117 0.99970078 1.\n",
            " 1.        ]\n",
            "AUC =  0.9951658410004205\n"
          ]
        }
      ],
      "source": [
        "actual_classes = y_test_cv\n",
        "predicted_proba = y_test_prob\n",
        "\n",
        "fpr = dict()\n",
        "tpr = dict()\n",
        "roc_auc = dict()\n",
        "n_classes=12\n",
        "for i in range(n_classes):\n",
        "    fpr[i], tpr[i], _ = roc_curve(np.array(pd.get_dummies(actual_classes))[:, i], np.array(predicted_proba)[:, i])\n",
        "    roc_auc[i] = auc(fpr[i], tpr[i])\n",
        "#     print(\"fpr: \",fpr[i])\n",
        "#     print(\"tpr: \",tpr[i])\n",
        "#     print(\"roc_auc: \",roc_auc[i])\n",
        "\n",
        "all_fpr = np.unique(np.concatenate([fpr[i] for i in range(n_classes)]))\n",
        "print(\"all_fpr: \",all_fpr)\n",
        "mean_tpr = np.zeros_like(all_fpr)\n",
        "for i in range(n_classes):\n",
        "    mean_tpr += interp(all_fpr, fpr[i], tpr[i])\n",
        "mean_tpr /= n_classes\n",
        "\n",
        "fpr[\"macro\"] = all_fpr\n",
        "tpr[\"macro\"] = mean_tpr\n",
        "roc_auc[\"macro\"] = auc(fpr[\"macro\"], tpr[\"macro\"])\n",
        "print(\"mean_tpr: \",mean_tpr)\n",
        "print(\"AUC = \",roc_auc['macro'])"
      ],
      "id": "804ffd5e"
    },
    {
      "cell_type": "code",
      "execution_count": 35,
      "metadata": {
        "id": "f028e956"
      },
      "outputs": [],
      "source": [
        "roc_csv = pd.DataFrame()\n",
        "roc_csv[\"FPR(Macro)\"] = all_fpr\n",
        "roc_csv[\"TPR(Macro)\"] = mean_tpr"
      ],
      "id": "f028e956"
    },
    {
      "cell_type": "code",
      "execution_count": 36,
      "metadata": {
        "id": "769b9265"
      },
      "outputs": [],
      "source": [
        "roc_csv.to_csv(\"filename\", index=False)"
      ],
      "id": "769b9265"
    },
    {
      "cell_type": "code",
      "execution_count": 38,
      "metadata": {
        "colab": {
          "base_uri": "https://localhost:8080/",
          "height": 484
        },
        "id": "4okoIVD-OLTe",
        "outputId": "598e6841-1e88-47e3-d402-84d965ec2ac0"
      },
      "outputs": [
        {
          "output_type": "display_data",
          "data": {
            "text/plain": [
              "<Figure size 1100x500 with 2 Axes>"
            ],
            "image/png": "[encoded data removed]"
          },
          "metadata": {}
        }
      ],
      "source": [
        "import matplotlib.pyplot as plt\n",
        "import seaborn as sns\n",
        "from sklearn.metrics import confusion_matrix\n",
        "from sklearn.metrics import ConfusionMatrixDisplay\n",
        "import numpy as np\n",
        "\n",
        "# Assuming you have already calculated the confusion matrix 'cm' for 14 classes\n",
        "\n",
        "# Normalize the confusion matrix\n",
        "cm_normalized = cm.astype('float') / cm.sum(axis=1)[:, np.newaxis]\n",
        "sns.set(font_scale=1.2)\n",
        "# Plot the normalized confusion matrix heatmap\n",
        "fig=plt.figure(figsize=(11, 5))\n",
        "sns.heatmap(cm_normalized, annot=True, fmt='.1f', cmap='Blues', xticklabels=range(12), yticklabels=range(12))\n",
        "plt.xlabel('Predicted Labels')\n",
        "plt.ylabel('True Labels')\n",
        "fig.savefig('RRR',dpi=300, bbox_inches = 'tight')\n",
        "# plt.title('Normalized Confusion Matrix Heatmap')\n",
        "plt.show()"
      ],
      "id": "4okoIVD-OLTe"
    }
  ],
  "metadata": {
    "colab": {
      "provenance": [],
      "gpuType": "T4",
      "include_colab_link": true
    },
    "kernelspec": {
      "display_name": "Python 3",
      "name": "python3"
    },
    "language_info": {
      "codemirror_mode": {
        "name": "ipython",
        "version": 3
      },
      "file_extension": ".py",
      "mimetype": "text/x-python",
      "name": "python",
      "nbconvert_exporter": "python",
      "pygments_lexer": "ipython3",
      "version": "3.8.8"
    },
    "accelerator": "GPU"
  },
  "nbformat": 4,
  "nbformat_minor": 5
}