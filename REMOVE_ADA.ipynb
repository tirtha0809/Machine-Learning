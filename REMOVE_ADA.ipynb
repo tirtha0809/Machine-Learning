{
  "cells": [
    {
      "cell_type": "markdown",
      "metadata": {
        "id": "view-in-github",
        "colab_type": "text"
      },
      "source": [
        "<a href=\"https://colab.research.google.com/github/tirtha0809/Machine-Learning/blob/main/REMOVE_ADA.ipynb\" target=\"_parent\"><img src=\"https://colab.research.google.com/assets/colab-badge.svg\" alt=\"Open In Colab\"/></a>"
      ]
    },
    {
      "cell_type": "markdown",
      "metadata": {
        "id": "d23c76a2"
      },
      "source": [
        "# Importing Libraries"
      ],
      "id": "d23c76a2"
    },
    {
      "cell_type": "code",
      "execution_count": 1,
      "metadata": {
        "id": "5b2cef0e"
      },
      "outputs": [],
      "source": [
        "import numpy as np\n",
        "import pandas as pd\n",
        "import tensorflow as tf\n",
        "import keras as kf\n",
        "from keras.models import Sequential\n",
        "from keras.layers import Dense\n",
        "from matplotlib import pyplot\n",
        "from os import makedirs\n",
        "from numpy import dstack\n",
        "from sklearn.linear_model import LogisticRegression\n",
        "from sklearn.neighbors import KNeighborsClassifier\n",
        "from sklearn.ensemble import GradientBoostingClassifier\n",
        "from sklearn.ensemble import RandomForestClassifier\n",
        "from sklearn.tree import DecisionTreeClassifier\n",
        "from xgboost import XGBClassifier\n",
        "from sklearn.svm import SVC\n",
        "from sklearn.naive_bayes import GaussianNB\n",
        "from sklearn.ensemble import AdaBoostClassifier\n",
        "from lightgbm import LGBMClassifier\n",
        "from sklearn.preprocessing import StandardScaler\n",
        "from sklearn.model_selection import train_test_split\n",
        "from imblearn.over_sampling import SMOTE\n",
        "from sklearn.metrics import confusion_matrix, accuracy_score\n",
        "from sklearn.metrics import precision_score, recall_score, f1_score, accuracy_score,roc_auc_score,roc_curve,auc\n",
        "from statistics import mean\n",
        "import time"
      ],
      "id": "5b2cef0e"
    },
    {
      "cell_type": "code",
      "execution_count": 2,
      "metadata": {
        "colab": {
          "base_uri": "https://localhost:8080/"
        },
        "id": "obp1lLW3UQLZ",
        "outputId": "d6c15d82-65ea-4d5d-df33-763bc5222c07"
      },
      "outputs": [
        {
          "output_type": "stream",
          "name": "stdout",
          "text": [
            "Mounted at /content/drive\n"
          ]
        }
      ],
      "source": [
        "from google.colab import drive\n",
        "drive.mount('/content/drive')"
      ],
      "id": "obp1lLW3UQLZ"
    },
    {
      "cell_type": "markdown",
      "metadata": {
        "id": "78ab07f7"
      },
      "source": [
        "# Importing DataSet"
      ],
      "id": "78ab07f7"
    },
    {
      "cell_type": "code",
      "execution_count": 3,
      "metadata": {
        "colab": {
          "base_uri": "https://localhost:8080/"
        },
        "id": "9309e06d",
        "outputId": "a536f749-1632-49f1-9057-5e6b0b922ab4"
      },
      "outputs": [
        {
          "output_type": "stream",
          "name": "stdout",
          "text": [
            "3991\n"
          ]
        }
      ],
      "source": [
        "data = pd.read_csv('/content/drive/MyDrive/LANDSLIDE/LandslideData .csv') # 20 features\n",
        "dataset = data.dropna(axis = 0, how ='any')\n",
        "X =  dataset.iloc[:,1:-1].values\n",
        "y = dataset.iloc[:, -1].values\n",
        "print(len(dataset))"
      ],
      "id": "9309e06d"
    },
    {
      "cell_type": "code",
      "execution_count": 4,
      "metadata": {
        "id": "588acb2f"
      },
      "outputs": [],
      "source": [
        "#smote = SMOTE()"
      ],
      "id": "588acb2f"
    },
    {
      "cell_type": "code",
      "execution_count": 5,
      "metadata": {
        "id": "363487ad"
      },
      "outputs": [],
      "source": [
        "#x_smote, y_smote = smote.fit_resample(X, y)\n",
        "smote= SMOTE(k_neighbors = 3)\n",
        "x_smote,y_smote = smote.fit_resample(X,y)"
      ],
      "id": "363487ad"
    },
    {
      "cell_type": "code",
      "execution_count": 6,
      "metadata": {
        "id": "654f6958"
      },
      "outputs": [],
      "source": [
        "from keras.models import load_model"
      ],
      "id": "654f6958"
    },
    {
      "cell_type": "code",
      "execution_count": 7,
      "metadata": {
        "id": "67861b3e"
      },
      "outputs": [],
      "source": [
        "# create a custom function to load model\n",
        "def load_all_models(n_models):\n",
        "    all_models = list()\n",
        "    for i in range(n_models):\n",
        "        # filename\n",
        "        filename = 'north/model' + str(i + 1) + '.h5'\n",
        "        # load model\n",
        "        model = load_model(filename)\n",
        "        # Add a list of all the weaker learners\n",
        "        all_models.append(model)\n",
        "        #print('>loaded %s' % filename)\n",
        "    return all_models"
      ],
      "id": "67861b3e"
    },
    {
      "cell_type": "markdown",
      "metadata": {
        "id": "0c4c39db"
      },
      "source": [
        "## Stacking models"
      ],
      "id": "0c4c39db"
    },
    {
      "cell_type": "code",
      "execution_count": 8,
      "metadata": {
        "id": "db0754d0"
      },
      "outputs": [],
      "source": [
        "# create stacked model input dataset as outputs from the ensemble\n",
        "def stacked_dataset(members, inputX):\n",
        "    stackX = None\n",
        "    for model in members:\n",
        "        # make prediction\n",
        "        yhat = model.predict(inputX, verbose=0)\n",
        "        # stack predictions into [rows, members, probabilities]\n",
        "        if stackX is None:\n",
        "            stackX = yhat #\n",
        "        else:\n",
        "            stackX = dstack((stackX, yhat))\n",
        "    # flatten predictions to [rows, members x probabilities]\n",
        "    stackX = stackX.reshape((stackX.shape[0], stackX.shape[1]*stackX.shape[2]))\n",
        "    return stackX"
      ],
      "id": "db0754d0"
    },
    {
      "cell_type": "markdown",
      "metadata": {
        "id": "c1de75a1"
      },
      "source": [
        "## Fit meta-learner"
      ],
      "id": "c1de75a1"
    },
    {
      "cell_type": "code",
      "execution_count": 9,
      "metadata": {
        "id": "620c3aa9"
      },
      "outputs": [],
      "source": [
        "# fit a model based on the outputs from the ensemble members\n",
        "def fit_stacked_model(members, inputX, inputy):\n",
        "    # create dataset using ensemble\n",
        "    stackedX = stacked_dataset(members, inputX)\n",
        "    #print(\"Models Test time: \",(end-start) * 10**3, \"ms\")\n",
        "    # fit the meta learner\n",
        "    #model = LogisticRegression() #meta learner\n",
        "    #model = SVC(kernel = 'rbf',random_state = 0,probability= True)\n",
        "    # model = SVC(kernel = 'linear', random_state = 0,probability=True)\n",
        "    #model = GaussianNB()\n",
        "    #model = KNeighborsClassifier(n_neighbors = 3, metric = 'minkowski', p = 2)\n",
        "    # model = GradientBoostingClassifier(n_estimators=50,learning_rate=0.5, max_depth=6, random_state=0)\n",
        "    # model = RandomForestClassifier(criterion = 'entropy', random_state = 0)\n",
        "    # model = LGBMClassifier(random_state=0)\n",
        "    # model = DecisionTreeClassifier(max_depth=7,criterion = 'entropy', random_state = 0)\n",
        "    # model = XGBClassifier(n_estimators=50,learning_rate=0.5,max_depth=3)\n",
        "    model = AdaBoostClassifier(n_estimators = 100, learning_rate = 1,random_state = 0)\n",
        "    #model.fit(X_train, y_train)\n",
        "    model.fit(stackedX, inputy)\n",
        "    return model"
      ],
      "id": "620c3aa9"
    },
    {
      "cell_type": "code",
      "execution_count": 10,
      "metadata": {
        "id": "46d953ea"
      },
      "outputs": [],
      "source": [
        "def stacked_prediction(members, model, inputX):\n",
        "    # create dataset using ensemble\n",
        "    stackedX = stacked_dataset(members, inputX)\n",
        "    # make a prediction\n",
        "    yhat = model.predict(stackedX)\n",
        "    return yhat"
      ],
      "id": "46d953ea"
    },
    {
      "cell_type": "code",
      "execution_count": 11,
      "metadata": {
        "id": "1bd5b4f1"
      },
      "outputs": [],
      "source": [
        "def stacked_prediction_proba(members,model,inputX):\n",
        "    # create dataset using ensemble\n",
        "    stackedX = stacked_dataset(members,inputX)\n",
        "    # make a prediction\n",
        "    yhatProb = model.predict_proba(stackedX)\n",
        "    return yhatProb"
      ],
      "id": "1bd5b4f1"
    },
    {
      "cell_type": "code",
      "execution_count": 12,
      "metadata": {
        "id": "86c41c29"
      },
      "outputs": [],
      "source": [
        "acc_train = []\n",
        "acc_test = []\n",
        "Precision_macro = []\n",
        "Precision_micro = []\n",
        "Recall_macro = []\n",
        "Recall_micro = []\n",
        "F1_macro = []\n",
        "F1_micro = []\n",
        "AUC_ovo = []\n",
        "AUC_ovr = []\n",
        "train_time = []\n",
        "test_time = []"
      ],
      "id": "86c41c29"
    },
    {
      "cell_type": "code",
      "execution_count": 13,
      "metadata": {
        "id": "--nkGullVeMc"
      },
      "outputs": [],
      "source": [
        "num_classes = 13"
      ],
      "id": "--nkGullVeMc"
    },
    {
      "cell_type": "code",
      "execution_count": 14,
      "metadata": {
        "colab": {
          "base_uri": "https://localhost:8080/"
        },
        "id": "426c21a7",
        "outputId": "4a9d4cb0-1f26-4bcd-fcd2-b351e0f838f7"
      },
      "outputs": [
        {
          "output_type": "stream",
          "name": "stdout",
          "text": [
            "[ 0.  1.  2.  3.  4.  5.  6.  7.  8.  9. 10. 11.]\n"
          ]
        },
        {
          "output_type": "stream",
          "name": "stderr",
          "text": [
            "/usr/local/lib/python3.10/dist-packages/keras/src/engine/training.py:3103: UserWarning: You are saving your model as an HDF5 file via `model.save()`. This file format is considered legacy. We recommend using instead the native Keras format, e.g. `model.save('my_model.keras')`.\n",
            "  saving_api.save_model(\n"
          ]
        },
        {
          "output_type": "stream",
          "name": "stdout",
          "text": [
            "Cross validation Train time:  1827494.166135788 ms\n",
            "Cross validation Test time:  8305.214643478394 ms\n"
          ]
        },
        {
          "output_type": "stream",
          "name": "stderr",
          "text": [
            "/usr/local/lib/python3.10/dist-packages/sklearn/metrics/_classification.py:1344: UndefinedMetricWarning: Precision is ill-defined and being set to 0.0 in labels with no predicted samples. Use `zero_division` parameter to control this behavior.\n",
            "  _warn_prf(average, modifier, msg_start, len(result))\n"
          ]
        },
        {
          "output_type": "stream",
          "name": "stdout",
          "text": [
            "[ 0.  1.  2.  3.  4.  5.  6.  7.  8.  9. 10. 11.]\n"
          ]
        },
        {
          "output_type": "stream",
          "name": "stderr",
          "text": [
            "/usr/local/lib/python3.10/dist-packages/keras/src/engine/training.py:3103: UserWarning: You are saving your model as an HDF5 file via `model.save()`. This file format is considered legacy. We recommend using instead the native Keras format, e.g. `model.save('my_model.keras')`.\n",
            "  saving_api.save_model(\n"
          ]
        },
        {
          "output_type": "stream",
          "name": "stdout",
          "text": [
            "Cross validation Train time:  1625501.2249946594 ms\n",
            "Cross validation Test time:  8642.60721206665 ms\n"
          ]
        },
        {
          "output_type": "stream",
          "name": "stderr",
          "text": [
            "/usr/local/lib/python3.10/dist-packages/sklearn/metrics/_classification.py:1344: UndefinedMetricWarning: Precision is ill-defined and being set to 0.0 in labels with no predicted samples. Use `zero_division` parameter to control this behavior.\n",
            "  _warn_prf(average, modifier, msg_start, len(result))\n"
          ]
        },
        {
          "output_type": "stream",
          "name": "stdout",
          "text": [
            "[ 0.  1.  2.  3.  4.  5.  6.  7.  8.  9. 10. 11.]\n"
          ]
        },
        {
          "output_type": "stream",
          "name": "stderr",
          "text": [
            "/usr/local/lib/python3.10/dist-packages/keras/src/engine/training.py:3103: UserWarning: You are saving your model as an HDF5 file via `model.save()`. This file format is considered legacy. We recommend using instead the native Keras format, e.g. `model.save('my_model.keras')`.\n",
            "  saving_api.save_model(\n"
          ]
        },
        {
          "output_type": "stream",
          "name": "stdout",
          "text": [
            "Cross validation Train time:  1824317.0101642609 ms\n",
            "Cross validation Test time:  6860.467195510864 ms\n"
          ]
        },
        {
          "output_type": "stream",
          "name": "stderr",
          "text": [
            "/usr/local/lib/python3.10/dist-packages/sklearn/metrics/_classification.py:1344: UndefinedMetricWarning: Precision is ill-defined and being set to 0.0 in labels with no predicted samples. Use `zero_division` parameter to control this behavior.\n",
            "  _warn_prf(average, modifier, msg_start, len(result))\n"
          ]
        },
        {
          "output_type": "stream",
          "name": "stdout",
          "text": [
            "[ 0.  1.  2.  3.  4.  5.  6.  7.  8.  9. 10. 11.]\n"
          ]
        },
        {
          "output_type": "stream",
          "name": "stderr",
          "text": [
            "/usr/local/lib/python3.10/dist-packages/keras/src/engine/training.py:3103: UserWarning: You are saving your model as an HDF5 file via `model.save()`. This file format is considered legacy. We recommend using instead the native Keras format, e.g. `model.save('my_model.keras')`.\n",
            "  saving_api.save_model(\n"
          ]
        },
        {
          "output_type": "stream",
          "name": "stdout",
          "text": [
            "Cross validation Train time:  1788978.4517288208 ms\n",
            "Cross validation Test time:  7526.8261432647705 ms\n"
          ]
        },
        {
          "output_type": "stream",
          "name": "stderr",
          "text": [
            "/usr/local/lib/python3.10/dist-packages/sklearn/metrics/_classification.py:1344: UndefinedMetricWarning: Precision is ill-defined and being set to 0.0 in labels with no predicted samples. Use `zero_division` parameter to control this behavior.\n",
            "  _warn_prf(average, modifier, msg_start, len(result))\n"
          ]
        },
        {
          "output_type": "stream",
          "name": "stdout",
          "text": [
            "[ 0.  1.  2.  3.  4.  5.  6.  7.  8.  9. 10. 11.]\n"
          ]
        },
        {
          "output_type": "stream",
          "name": "stderr",
          "text": [
            "/usr/local/lib/python3.10/dist-packages/keras/src/engine/training.py:3103: UserWarning: You are saving your model as an HDF5 file via `model.save()`. This file format is considered legacy. We recommend using instead the native Keras format, e.g. `model.save('my_model.keras')`.\n",
            "  saving_api.save_model(\n"
          ]
        },
        {
          "output_type": "stream",
          "name": "stdout",
          "text": [
            "Cross validation Train time:  1839142.8360939026 ms\n",
            "Cross validation Test time:  6913.203001022339 ms\n"
          ]
        },
        {
          "output_type": "stream",
          "name": "stderr",
          "text": [
            "/usr/local/lib/python3.10/dist-packages/sklearn/metrics/_classification.py:1344: UndefinedMetricWarning: Precision is ill-defined and being set to 0.0 in labels with no predicted samples. Use `zero_division` parameter to control this behavior.\n",
            "  _warn_prf(average, modifier, msg_start, len(result))\n"
          ]
        }
      ],
      "source": [
        "for i in range(0,5):\n",
        "\n",
        "    X_train_cv, X_test_cv, y_train_cv, y_test_cv = train_test_split(x_smote, y_smote, test_size = 0.25,random_state = i)\n",
        "    y_train_cv = y_train_cv - 1\n",
        "    y_test_cv = y_test_cv - 1\n",
        "\n",
        "    sc = StandardScaler()\n",
        "    X_train_cv = sc.fit_transform(X_train_cv)\n",
        "    X_test_cv = sc.transform(X_test_cv)\n",
        "    unique_labels = np.unique(y_train_cv)\n",
        "    print(unique_labels)\n",
        "\n",
        "    start = time.time()\n",
        "    # Model 1\n",
        "    ann1 = Sequential()\n",
        "    ann1.add(tf.keras.layers.Dense(units=15, activation='relu'))\n",
        "    ann1.add(tf.keras.layers.Dense(units=20, activation='relu'))\n",
        "    ann1.add(tf.keras.layers.Dense(units=num_classes, activation='softmax'))\n",
        "    ann1.compile(optimizer = 'adam', loss = kf.losses.SparseCategoricalCrossentropy(), metrics = [kf.metrics.CategoricalAccuracy()])\n",
        "    ann1.fit(X_train_cv, y_train_cv, batch_size = 128, epochs = 100,verbose=0)\n",
        "\n",
        "    # Model 2\n",
        "    ann2 = Sequential()\n",
        "    ann2.add(tf.keras.layers.Dense(units=10, activation='relu'))\n",
        "    ann2.add(tf.keras.layers.Dense(units=15, activation='relu'))\n",
        "    ann2.add(tf.keras.layers.Dense(units=25, activation='relu'))\n",
        "    ann2.add(tf.keras.layers.Dense(units=num_classes, activation='softmax'))\n",
        "    ann2.compile(optimizer = 'adam', loss = kf.losses.SparseCategoricalCrossentropy(), metrics = [kf.metrics.CategoricalAccuracy()])\n",
        "    ann2.fit(X_train_cv, y_train_cv, batch_size = 128, epochs = 150,verbose=0)\n",
        "\n",
        "    # Model 3\n",
        "    ann3 = Sequential()\n",
        "    ann3.add(tf.keras.layers.Dense(units=20, activation='relu'))\n",
        "    ann3.add(tf.keras.layers.Dense(units=25, activation='relu'))\n",
        "    ann3.add(tf.keras.layers.Dense(units=30, activation='relu'))\n",
        "    ann3.add(tf.keras.layers.Dense(units=num_classes, activation='softmax'))\n",
        "    ann3.compile(optimizer = 'adam', loss = kf.losses.SparseCategoricalCrossentropy(), metrics = [kf.metrics.CategoricalAccuracy()])\n",
        "    ann3.fit(X_train_cv, y_train_cv, batch_size = 128, epochs = 180,verbose=0)\n",
        "\n",
        "    # Model 4\n",
        "\n",
        "    ann4 = Sequential()\n",
        "    ann4.add(tf.keras.layers.Dense(units=30, activation='relu'))\n",
        "    ann4.add(tf.keras.layers.Dense(units=35, activation='relu'))\n",
        "    ann4.add(tf.keras.layers.Dense(units=40, activation='relu'))\n",
        "    ann4.add(tf.keras.layers.Dense(units=num_classes, activation='softmax'))\n",
        "    ann4.compile(optimizer = 'adam', loss = kf.losses.SparseCategoricalCrossentropy(), metrics = [kf.metrics.CategoricalAccuracy()])\n",
        "    ann4.fit(X_train_cv, y_train_cv, batch_size = 128, epochs = 200,verbose=0)\n",
        "\n",
        "    # Model 5\n",
        "\n",
        "    ann5 = Sequential()\n",
        "    ann5.add(tf.keras.layers.Dense(units=40, activation='relu'))\n",
        "    ann5.add(tf.keras.layers.Dense(units=50, activation='relu'))\n",
        "    ann5.add(tf.keras.layers.Dense(units=55, activation='relu'))\n",
        "    ann5.add(tf.keras.layers.Dense(units=num_classes, activation='softmax'))\n",
        "    ann5.compile(optimizer = 'adam', loss = kf.losses.SparseCategoricalCrossentropy(), metrics = [kf.metrics.CategoricalAccuracy()])\n",
        "    ann5.fit(X_train_cv, y_train_cv, batch_size = 128, epochs = 250,verbose=0)\n",
        "\n",
        "    # Model 6\n",
        "\n",
        "    ann6 = Sequential()\n",
        "    ann6.add(tf.keras.layers.Dense(units=35, activation='relu'))\n",
        "    ann6.add(tf.keras.layers.Dense(units=45, activation='relu'))\n",
        "    ann6.add(tf.keras.layers.Dense(units=50, activation='relu'))\n",
        "    ann6.add(tf.keras.layers.Dense(units=num_classes, activation='softmax'))\n",
        "    ann6.compile(optimizer = 'adam', loss = kf.losses.SparseCategoricalCrossentropy(), metrics = [kf.metrics.CategoricalAccuracy()])\n",
        "    ann6.fit(X_train_cv, y_train_cv, batch_size = 128, epochs = 300,verbose=0)\n",
        "\n",
        "    # Model 7\n",
        "\n",
        "    ann7 = Sequential()\n",
        "    ann7.add(tf.keras.layers.Dense(units=35, activation='relu'))\n",
        "    ann7.add(tf.keras.layers.Dense(units=45, activation='relu'))\n",
        "    ann7.add(tf.keras.layers.Dense(units=50, activation='relu'))\n",
        "    ann7.add(tf.keras.layers.Dense(units=num_classes, activation='softmax'))\n",
        "    ann7.compile(optimizer = 'adam', loss = kf.losses.SparseCategoricalCrossentropy(), metrics = [kf.metrics.CategoricalAccuracy()])\n",
        "    ann7.fit(X_train_cv, y_train_cv, batch_size = 128, epochs = 300,verbose=0)\n",
        "\n",
        "    # Model 8\n",
        "\n",
        "    ann8 = Sequential()\n",
        "    ann8.add(tf.keras.layers.Dense(units=35, activation='relu'))\n",
        "    ann8.add(tf.keras.layers.Dense(units=45, activation='relu'))\n",
        "    ann8.add(tf.keras.layers.Dense(units=50, activation='relu'))\n",
        "    ann8.add(tf.keras.layers.Dense(units=num_classes, activation='softmax'))\n",
        "    ann8.compile(optimizer = 'adam', loss = kf.losses.SparseCategoricalCrossentropy(), metrics = [kf.metrics.CategoricalAccuracy()])\n",
        "    ann8.fit(X_train_cv, y_train_cv, batch_size = 128, epochs = 300,verbose=0)\n",
        "\n",
        "    # Model 9\n",
        "\n",
        "    ann9 = Sequential()\n",
        "    ann9.add(tf.keras.layers.Dense(units=35, activation='relu'))\n",
        "    ann9.add(tf.keras.layers.Dense(units=45, activation='relu'))\n",
        "    ann9.add(tf.keras.layers.Dense(units=50, activation='relu'))\n",
        "    ann9.add(tf.keras.layers.Dense(units=num_classes, activation='softmax'))\n",
        "    ann9.compile(optimizer = 'adam', loss = kf.losses.SparseCategoricalCrossentropy(), metrics = [kf.metrics.CategoricalAccuracy()])\n",
        "    ann9.fit(X_train_cv, y_train_cv, batch_size = 128, epochs = 300,verbose=0)\n",
        "\n",
        "    # Model 10\n",
        "\n",
        "    ann10 = Sequential()\n",
        "    ann10.add(tf.keras.layers.Dense(units=35, activation='relu'))\n",
        "    ann10.add(tf.keras.layers.Dense(units=45, activation='relu'))\n",
        "    ann10.add(tf.keras.layers.Dense(units=50, activation='relu'))\n",
        "    ann10.add(tf.keras.layers.Dense(units=num_classes, activation='softmax'))\n",
        "    ann10.compile(optimizer = 'adam', loss = kf.losses.SparseCategoricalCrossentropy(), metrics = [kf.metrics.CategoricalAccuracy()])\n",
        "    ann10.fit(X_train_cv, y_train_cv, batch_size = 128, epochs = 300,verbose=0)\n",
        "    # Model 11\n",
        "\n",
        "    ann11 = Sequential()\n",
        "    ann11.add(tf.keras.layers.Dense(units=35, activation='relu'))\n",
        "    ann11.add(tf.keras.layers.Dense(units=45, activation='relu'))\n",
        "    ann11.add(tf.keras.layers.Dense(units=50, activation='relu'))\n",
        "    ann11.add(tf.keras.layers.Dense(units=num_classes, activation='softmax'))\n",
        "    ann11.compile(optimizer = 'adam', loss = kf.losses.SparseCategoricalCrossentropy(), metrics = [kf.metrics.CategoricalAccuracy()])\n",
        "    ann11.fit(X_train_cv, y_train_cv, batch_size = 128, epochs = 300,verbose=0)\n",
        "\n",
        "    # Model 12\n",
        "\n",
        "    ann12 = Sequential()\n",
        "    ann12.add(tf.keras.layers.Dense(units=35, activation='relu'))\n",
        "    ann12.add(tf.keras.layers.Dense(units=45, activation='relu'))\n",
        "    ann12.add(tf.keras.layers.Dense(units=50, activation='relu'))\n",
        "    ann12.add(tf.keras.layers.Dense(units=num_classes, activation='softmax'))\n",
        "    ann12.compile(optimizer = 'adam', loss = kf.losses.SparseCategoricalCrossentropy(), metrics = [kf.metrics.CategoricalAccuracy()])\n",
        "    ann12.fit(X_train_cv, y_train_cv, batch_size = 128, epochs = 300,verbose=0)\n",
        "\n",
        "    # Model 13\n",
        "\n",
        "    ann13 = Sequential()\n",
        "    ann13.add(tf.keras.layers.Dense(units=35, activation='relu'))\n",
        "    ann13.add(tf.keras.layers.Dense(units=45, activation='relu'))\n",
        "    ann13.add(tf.keras.layers.Dense(units=50, activation='relu'))\n",
        "    ann13.add(tf.keras.layers.Dense(units=num_classes, activation='softmax'))\n",
        "    ann13.compile(optimizer = 'adam', loss = kf.losses.SparseCategoricalCrossentropy(), metrics = [kf.metrics.CategoricalAccuracy()])\n",
        "    ann13.fit(X_train_cv, y_train_cv, batch_size = 128, epochs = 300,verbose=0)\n",
        "\n",
        "    # Model 14\n",
        "\n",
        "    ann14 = Sequential()\n",
        "    ann14.add(tf.keras.layers.Dense(units=35, activation='relu'))\n",
        "    ann14.add(tf.keras.layers.Dense(units=45, activation='relu'))\n",
        "    ann14.add(tf.keras.layers.Dense(units=50, activation='relu'))\n",
        "    ann14.add(tf.keras.layers.Dense(units=num_classes, activation='softmax'))\n",
        "    ann14.compile(optimizer = 'adam', loss = kf.losses.SparseCategoricalCrossentropy(), metrics = [kf.metrics.CategoricalAccuracy()])\n",
        "    ann14.fit(X_train_cv, y_train_cv, batch_size = 128, epochs = 300,verbose=0)\n",
        "\n",
        "    # Model 15\n",
        "\n",
        "    ann15 = Sequential()\n",
        "    ann15.add(tf.keras.layers.Dense(units=35, activation='relu'))\n",
        "    ann15.add(tf.keras.layers.Dense(units=45, activation='sigmoid'))\n",
        "    ann15.add(tf.keras.layers.Dense(units=50, activation='relu'))\n",
        "    ann15.add(tf.keras.layers.Dense(units=num_classes, activation='softmax'))\n",
        "    ann15.compile(optimizer = 'adam', loss = kf.losses.SparseCategoricalCrossentropy(), metrics = [kf.metrics.CategoricalAccuracy()])\n",
        "    ann15.fit(X_train_cv, y_train_cv, batch_size = 128, epochs = 300,verbose=0)\n",
        "\n",
        "    # Model 16\n",
        "\n",
        "    ann16 = Sequential()\n",
        "    ann16.add(tf.keras.layers.Dense(units=35, activation='relu'))\n",
        "    ann16.add(tf.keras.layers.Dense(units=45, activation='sigmoid'))\n",
        "    ann16.add(tf.keras.layers.Dense(units=50, activation='relu'))\n",
        "    ann16.add(tf.keras.layers.Dense(units=num_classes, activation='softmax'))\n",
        "    ann16.compile(optimizer = 'adam', loss = kf.losses.SparseCategoricalCrossentropy(), metrics = [kf.metrics.CategoricalAccuracy()])\n",
        "    ann16.fit(X_train_cv, y_train_cv, batch_size = 128, epochs = 300,verbose=0)\n",
        "\n",
        "    ann1.save('north/model1.h5')\n",
        "    ann2.save('north/model2.h5')\n",
        "    ann3.save('north/model3.h5')\n",
        "    ann4.save('north/model4.h5')\n",
        "    ann5.save('north/model5.h5')\n",
        "    ann6.save('north/model6.h5')\n",
        "    ann7.save('north/model7.h5')\n",
        "    ann8.save('north/model8.h5')\n",
        "    ann9.save('north/model9.h5')\n",
        "    ann10.save('north/model10.h5')\n",
        "    ann11.save('north/model11.h5')\n",
        "    ann12.save('north/model12.h5')\n",
        "    ann13.save('north/model13.h5')\n",
        "    ann14.save('north/model14.h5')\n",
        "    ann15.save('north/model15.h5')\n",
        "    ann16.save('north/model16.h5')\n",
        "\n",
        "    members = load_all_models(16)\n",
        "    model = fit_stacked_model(members, X_train_cv,y_train_cv)\n",
        "    end = time.time()\n",
        "    print(\"Cross validation Train time: \",(end-start) * 10**3, \"ms\")\n",
        "    t = (end-start)*1000\n",
        "    train_time.append(t)\n",
        "\n",
        "    start = time.time()\n",
        "    y_pred = stacked_prediction(members, model, X_test_cv)\n",
        "    end = time.time()\n",
        "\n",
        "    t = (end - start)*1000\n",
        "    test_time.append(t)\n",
        "\n",
        "    print(\"Cross validation Test time: \",(end-start) * 10**3, \"ms\")\n",
        "    y_test_prob = stacked_prediction_proba(members,model,X_test_cv)\n",
        "    y_train_pred = stacked_prediction(members, model, X_train_cv)\n",
        "\n",
        "    cm = confusion_matrix(y_test_cv, y_pred)\n",
        "\n",
        "\n",
        "    accuracy = accuracy_score(y_test_cv, y_pred)\n",
        "    acc_test.append(accuracy)\n",
        "    accuracy_train = accuracy_score(y_train_cv, y_train_pred)\n",
        "    acc_train.append(accuracy_train)\n",
        "\n",
        "    pre_macro = precision_score(y_test_cv, y_pred,average='macro')\n",
        "    Precision_macro.append(pre_macro)\n",
        "    pre_micro = precision_score(y_test_cv, y_pred,average='micro')\n",
        "    Precision_micro.append(pre_micro)\n",
        "\n",
        "    re_macro = recall_score(y_test_cv, y_pred,average='macro')\n",
        "    Recall_macro.append(re_macro)\n",
        "    re_micro = recall_score(y_test_cv, y_pred,average='micro')\n",
        "    Recall_micro.append(re_micro)\n",
        "\n",
        "    f1_macro = f1_score(y_test_cv, y_pred,average='macro')\n",
        "    F1_macro.append(f1_macro)\n",
        "    f1_micro = f1_score(y_test_cv, y_pred,average='micro')\n",
        "    F1_micro.append(f1_micro)\n",
        "\n",
        "    auc_ovo = roc_auc_score(y_test_cv,y_test_prob,multi_class='ovo')\n",
        "    AUC_ovo.append(auc_ovo)\n",
        "    auc_ovr = roc_auc_score(y_test_cv,y_test_prob,multi_class='ovr')\n",
        "    AUC_ovr.append(auc_ovr)\n"
      ],
      "id": "426c21a7"
    },
    {
      "cell_type": "code",
      "execution_count": 15,
      "metadata": {
        "id": "4631b43e"
      },
      "outputs": [],
      "source": [
        "result_cv = pd.DataFrame()\n",
        "result_cv[\"Train_acc\"] = acc_train\n",
        "result_cv[\"Test_acc\"] = acc_test\n",
        "result_cv[\"Precision(macro)\"] = Precision_macro\n",
        "result_cv[\"Precision(micro)\"] = Precision_micro\n",
        "result_cv[\"Recall(macro)\"] = Recall_macro\n",
        "result_cv[\"Recall(micro)\"] = Recall_micro\n",
        "result_cv[\"F1(macro)\"] = F1_macro\n",
        "result_cv[\"F1(micro)\"] = F1_micro\n",
        "result_cv[\"AUC(ovo)\"] = AUC_ovo\n",
        "result_cv[\"AUC(ovr)\"] = AUC_ovr\n",
        "result_cv[\"Train Time\"] = train_time\n",
        "result_cv[\"Test Time\"] = test_time"
      ],
      "id": "4631b43e"
    },
    {
      "cell_type": "code",
      "execution_count": 16,
      "metadata": {
        "colab": {
          "base_uri": "https://localhost:8080/"
        },
        "id": "6bf66a36",
        "outputId": "e7c61a24-9360-4d3e-d7fe-2c067430a6bc"
      },
      "outputs": [
        {
          "output_type": "execute_result",
          "data": {
            "text/plain": [
              "[1827494.166135788,\n",
              " 1625501.2249946594,\n",
              " 1824317.0101642609,\n",
              " 1788978.4517288208,\n",
              " 1839142.8360939026]"
            ]
          },
          "metadata": {},
          "execution_count": 16
        }
      ],
      "source": [
        "train_time"
      ],
      "id": "6bf66a36"
    },
    {
      "cell_type": "code",
      "execution_count": 17,
      "metadata": {
        "colab": {
          "base_uri": "https://localhost:8080/"
        },
        "id": "105fd285",
        "outputId": "570c9139-4f04-42cf-8351-1dd40a0509ab"
      },
      "outputs": [
        {
          "output_type": "execute_result",
          "data": {
            "text/plain": [
              "[8305.214643478394,\n",
              " 8642.60721206665,\n",
              " 6860.467195510864,\n",
              " 7526.8261432647705,\n",
              " 6913.203001022339]"
            ]
          },
          "metadata": {},
          "execution_count": 17
        }
      ],
      "source": [
        "test_time"
      ],
      "id": "105fd285"
    },
    {
      "cell_type": "code",
      "execution_count": 18,
      "metadata": {
        "id": "b92aa6da"
      },
      "outputs": [],
      "source": [
        "result_cv.to_csv(\"filename\", index=False)"
      ],
      "id": "b92aa6da"
    },
    {
      "cell_type": "code",
      "execution_count": 19,
      "metadata": {
        "id": "0663ab50"
      },
      "outputs": [],
      "source": [
        "result_cv_avg = pd.DataFrame()\n",
        "lst = []\n",
        "x = mean(acc_train)*100\n",
        "lst.append(x)\n",
        "result_cv_avg[\"Train_acc\"] = lst\n",
        "result_cv_avg[\"Test_acc\"] = mean(acc_test)*100\n",
        "result_cv_avg[\"SD\"] = np.std(acc_test)*100\n",
        "result_cv_avg[\"Precision(macro)\"] = mean(Precision_macro)\n",
        "result_cv_avg[\"Precision(micro)\"] = mean(Precision_micro)\n",
        "result_cv_avg[\"Recall(macro)\"] = mean(Recall_macro)\n",
        "result_cv_avg[\"Recall(micro)\"] = mean(Recall_micro)\n",
        "result_cv_avg[\"F1(macro)\"] = mean(F1_macro)\n",
        "result_cv_avg[\"F1(micro)\"] = mean(F1_micro)\n",
        "result_cv_avg[\"AUC(ovo)\"] = mean(AUC_ovo)\n",
        "result_cv_avg[\"AUC(ovr)\"] = mean(AUC_ovr)"
      ],
      "id": "0663ab50"
    },
    {
      "cell_type": "code",
      "execution_count": 20,
      "metadata": {
        "id": "b3d296c7"
      },
      "outputs": [],
      "source": [
        "result_cv_avg.to_csv(\"filename\", index=False)"
      ],
      "id": "b3d296c7"
    },
    {
      "cell_type": "code",
      "execution_count": 21,
      "metadata": {
        "colab": {
          "base_uri": "https://localhost:8080/"
        },
        "id": "d737dfcb",
        "outputId": "12fd074f-4575-45c6-9cdf-52329643c6a7"
      },
      "outputs": [
        {
          "output_type": "execute_result",
          "data": {
            "text/plain": [
              "[0.25158267284781416,\n",
              " 0.2528787199042919,\n",
              " 0.41947061462539253,\n",
              " 0.33592542744628884,\n",
              " 0.4170779123672798]"
            ]
          },
          "metadata": {},
          "execution_count": 21
        }
      ],
      "source": [
        "acc_train"
      ],
      "id": "d737dfcb"
    },
    {
      "cell_type": "code",
      "execution_count": 22,
      "metadata": {
        "colab": {
          "base_uri": "https://localhost:8080/"
        },
        "id": "5601cc70",
        "outputId": "7e9e2b65-6c2c-423c-e6c9-15f33d5d323b"
      },
      "outputs": [
        {
          "output_type": "execute_result",
          "data": {
            "text/plain": [
              "[0.2430088230895768,\n",
              " 0.24106475250486017,\n",
              " 0.3971885748467175,\n",
              " 0.3254075071033348,\n",
              " 0.4151338417825632]"
            ]
          },
          "metadata": {},
          "execution_count": 22
        }
      ],
      "source": [
        "acc_test"
      ],
      "id": "5601cc70"
    },
    {
      "cell_type": "code",
      "execution_count": 23,
      "metadata": {
        "colab": {
          "base_uri": "https://localhost:8080/"
        },
        "id": "a183e93a",
        "outputId": "d9a5fd0a-8460-4bc2-c3d3-a40a6ce70a64"
      },
      "outputs": [
        {
          "output_type": "execute_result",
          "data": {
            "text/plain": [
              "[0.1705709165386585,\n",
              " 0.2580405445573985,\n",
              " 0.32888018703561633,\n",
              " 0.2577383676333952,\n",
              " 0.34295939227733424]"
            ]
          },
          "metadata": {},
          "execution_count": 23
        }
      ],
      "source": [
        "Precision_macro"
      ],
      "id": "a183e93a"
    },
    {
      "cell_type": "code",
      "execution_count": 24,
      "metadata": {
        "colab": {
          "base_uri": "https://localhost:8080/"
        },
        "id": "919cba03",
        "outputId": "1f89ca50-fbc0-4303-fcda-5199a64db0cd"
      },
      "outputs": [
        {
          "output_type": "execute_result",
          "data": {
            "text/plain": [
              "[0.2430088230895768,\n",
              " 0.24106475250486017,\n",
              " 0.3971885748467175,\n",
              " 0.3254075071033348,\n",
              " 0.4151338417825632]"
            ]
          },
          "metadata": {},
          "execution_count": 24
        }
      ],
      "source": [
        "Precision_micro"
      ],
      "id": "919cba03"
    },
    {
      "cell_type": "code",
      "execution_count": 25,
      "metadata": {
        "colab": {
          "base_uri": "https://localhost:8080/"
        },
        "id": "da5922e3",
        "outputId": "b3bae59f-cd1b-42dd-9882-9b1aed37f0e7"
      },
      "outputs": [
        {
          "output_type": "execute_result",
          "data": {
            "text/plain": [
              "[0.24767942693937717,\n",
              " 0.24966939075482328,\n",
              " 0.40621104077622633,\n",
              " 0.3331855791962175,\n",
              " 0.4163798970292342]"
            ]
          },
          "metadata": {},
          "execution_count": 25
        }
      ],
      "source": [
        "Recall_macro"
      ],
      "id": "da5922e3"
    },
    {
      "cell_type": "code",
      "execution_count": 26,
      "metadata": {
        "colab": {
          "base_uri": "https://localhost:8080/"
        },
        "id": "9da08914",
        "outputId": "b459deca-9cf9-4ff1-d291-995309cbd20a"
      },
      "outputs": [
        {
          "output_type": "execute_result",
          "data": {
            "text/plain": [
              "[0.2430088230895768,\n",
              " 0.24106475250486017,\n",
              " 0.3971885748467175,\n",
              " 0.3254075071033348,\n",
              " 0.4151338417825632]"
            ]
          },
          "metadata": {},
          "execution_count": 26
        }
      ],
      "source": [
        "Recall_micro"
      ],
      "id": "9da08914"
    },
    {
      "cell_type": "code",
      "execution_count": 27,
      "metadata": {
        "colab": {
          "base_uri": "https://localhost:8080/"
        },
        "id": "d06098bb",
        "outputId": "3c66001b-3c76-4fca-ef5d-4009b5792d58"
      },
      "outputs": [
        {
          "output_type": "execute_result",
          "data": {
            "text/plain": [
              "[0.17869814304914852,\n",
              " 0.1813832108791215,\n",
              " 0.3395660134002873,\n",
              " 0.2653320697803533,\n",
              " 0.3509690708775397]"
            ]
          },
          "metadata": {},
          "execution_count": 27
        }
      ],
      "source": [
        "F1_macro"
      ],
      "id": "d06098bb"
    },
    {
      "cell_type": "code",
      "execution_count": 28,
      "metadata": {
        "colab": {
          "base_uri": "https://localhost:8080/"
        },
        "id": "c98a6d5f",
        "outputId": "bae99c6a-fdd5-45da-f5af-40ef3dab51bf"
      },
      "outputs": [
        {
          "output_type": "execute_result",
          "data": {
            "text/plain": [
              "[0.2430088230895768,\n",
              " 0.24106475250486017,\n",
              " 0.3971885748467175,\n",
              " 0.3254075071033348,\n",
              " 0.4151338417825632]"
            ]
          },
          "metadata": {},
          "execution_count": 28
        }
      ],
      "source": [
        "F1_micro"
      ],
      "id": "c98a6d5f"
    },
    {
      "cell_type": "code",
      "execution_count": 29,
      "metadata": {
        "colab": {
          "base_uri": "https://localhost:8080/"
        },
        "id": "ae3f919c",
        "outputId": "c665ff55-0321-4efc-a83c-8b15760903eb"
      },
      "outputs": [
        {
          "output_type": "execute_result",
          "data": {
            "text/plain": [
              "[0.6579070227244466,\n",
              " 0.6591273428407448,\n",
              " 0.7669586504964726,\n",
              " 0.7271661099245149,\n",
              " 0.7878379129481312]"
            ]
          },
          "metadata": {},
          "execution_count": 29
        }
      ],
      "source": [
        "AUC_ovo"
      ],
      "id": "ae3f919c"
    },
    {
      "cell_type": "code",
      "execution_count": 30,
      "metadata": {
        "colab": {
          "base_uri": "https://localhost:8080/"
        },
        "id": "9bc6fd04",
        "outputId": "0d197f00-92d2-4dfb-eff5-48574e2e77eb"
      },
      "outputs": [
        {
          "output_type": "stream",
          "name": "stdout",
          "text": [
            "4\n"
          ]
        }
      ],
      "source": [
        "index = np.argmax(AUC_ovo)\n",
        "print(index)"
      ],
      "id": "9bc6fd04"
    },
    {
      "cell_type": "code",
      "execution_count": 31,
      "metadata": {
        "colab": {
          "base_uri": "https://localhost:8080/"
        },
        "id": "a85635c8",
        "outputId": "369cb9cd-3722-4a53-986c-c6af43114dfa"
      },
      "outputs": [
        {
          "output_type": "execute_result",
          "data": {
            "text/plain": [
              "[0.6569538499278248,\n",
              " 0.6563675911869066,\n",
              " 0.7663487962450555,\n",
              " 0.7256065357414441,\n",
              " 0.7882281325099475]"
            ]
          },
          "metadata": {},
          "execution_count": 31
        }
      ],
      "source": [
        "AUC_ovr"
      ],
      "id": "a85635c8"
    },
    {
      "cell_type": "code",
      "execution_count": 32,
      "metadata": {
        "colab": {
          "base_uri": "https://localhost:8080/"
        },
        "id": "005129c3",
        "outputId": "d4a81143-7fd4-4982-ea5b-ba83f63f1162"
      },
      "outputs": [
        {
          "output_type": "stream",
          "name": "stdout",
          "text": [
            "Accuracy(Train): 33.54 %\n",
            "Accuracy(Test): 32.44 %\n",
            "Standard Deviation: 7.36%\n",
            "Precision (macro): 0.272\n",
            "Precision (micro): 0.324\n",
            "Recall (macro): 0.331\n",
            "Recall (micro): 0.324\n",
            "F1 (macro): 0.263\n",
            "F1 (micro): 0.324\n",
            "AUC (ovo): 0.720\n",
            "AUC (ovr): 0.719\n"
          ]
        }
      ],
      "source": [
        "print(\"Accuracy(Train): {:.2f} %\".format(mean(acc_train)*100))\n",
        "print(\"Accuracy(Test): {:.2f} %\".format(mean(acc_test)*100))\n",
        "print(\"Standard Deviation: {:.2f}%\".format(np.std(acc_test)*100))\n",
        "print(\"Precision (macro): %.3f\" %mean(Precision_macro))\n",
        "print(\"Precision (micro): %.3f\" %mean(Precision_micro))\n",
        "print(\"Recall (macro): %.3f\" %mean(Recall_macro))\n",
        "print(\"Recall (micro): %.3f\" %mean(Recall_micro))\n",
        "print(\"F1 (macro): %.3f\" %mean(F1_macro))\n",
        "print(\"F1 (micro): %.3f\" %mean(F1_micro))\n",
        "print(\"AUC (ovo): %.3f\" %mean(AUC_ovo))\n",
        "print(\"AUC (ovr): %.3f\" %mean(AUC_ovr))"
      ],
      "id": "005129c3"
    },
    {
      "cell_type": "code",
      "execution_count": 33,
      "metadata": {
        "id": "c4760cea"
      },
      "outputs": [],
      "source": [
        "from numpy import interp"
      ],
      "id": "c4760cea"
    },
    {
      "cell_type": "code",
      "execution_count": 34,
      "metadata": {
        "colab": {
          "base_uri": "https://localhost:8080/"
        },
        "id": "804ffd5e",
        "outputId": "107566bb-53aa-4f83-bd40-673d99f0fb79"
      },
      "outputs": [
        {
          "output_type": "stream",
          "name": "stdout",
          "text": [
            "all_fpr:  [0.00000000e+00 3.25998370e-04 4.86775921e-04 4.90276189e-04\n",
            " 6.51996740e-04 8.17126982e-04 1.13581048e-03 1.30740317e-03\n",
            " 1.46032776e-03 1.62999185e-03 1.79767936e-03 1.95599022e-03\n",
            " 2.12453015e-03 2.29809586e-03 2.77823174e-03 2.94165713e-03\n",
            " 2.95469468e-03 3.42298289e-03 4.07497963e-03 4.26789232e-03\n",
            " 4.43204202e-03 5.41694025e-03 5.74523966e-03 9.86539724e-02\n",
            " 9.93105712e-02 9.96894917e-02 9.99671701e-02 1.00506619e-01\n",
            " 1.00570497e-01 1.00896496e-01 1.00996895e-01 1.01323746e-01\n",
            " 1.01711491e-01 1.01814022e-01 1.02140873e-01 1.02363488e-01\n",
            " 1.02794574e-01 1.03341483e-01 1.03775127e-01 1.04156479e-01\n",
            " 1.04482478e-01 1.05082530e-01 1.05245955e-01 1.05297474e-01\n",
            " 1.06601467e-01 1.06927465e-01 1.07253464e-01 1.08231459e-01\n",
            " 1.08351038e-01 1.08720456e-01 1.09372453e-01 1.09658441e-01\n",
            " 1.09698452e-01 1.09821866e-01 1.10148717e-01 1.10312143e-01\n",
            " 1.10839446e-01 1.11165444e-01 1.11292695e-01 1.11619546e-01\n",
            " 1.11654442e-01 1.11946396e-01 1.12143439e-01 1.12469438e-01\n",
            " 1.12632437e-01 1.13090374e-01 1.13121434e-01 1.13744076e-01\n",
            " 1.13936430e-01 1.14561203e-01 1.14588427e-01 1.14724628e-01\n",
            " 1.14751426e-01 1.15868606e-01 1.15892421e-01 1.16195457e-01\n",
            " 1.16544417e-01 1.16685733e-01 1.16849158e-01 1.17033415e-01\n",
            " 1.17848411e-01 1.19137114e-01 1.19954241e-01 1.20281092e-01\n",
            " 1.90577807e-01 1.91562705e-01 1.92055154e-01 1.92383454e-01\n",
            " 1.92875903e-01 1.95173999e-01 1.96651346e-01 1.97143795e-01\n",
            " 1.98621142e-01 1.99770190e-01 1.99934340e-01 2.00590939e-01\n",
            " 2.01083388e-01 2.01411687e-01 2.01904137e-01 2.02068286e-01\n",
            " 2.03053185e-01 2.03873933e-01 2.05022981e-01 2.06336179e-01\n",
            " 2.09455023e-01 2.10275772e-01 2.10604071e-01 2.11424819e-01\n",
            " 2.11917269e-01 2.12738017e-01 2.12902167e-01 6.03080957e-01\n",
            " 6.04313021e-01 6.04924181e-01 6.05375287e-01 6.05567312e-01\n",
            " 6.06194690e-01 6.06600229e-01 6.07206913e-01 6.07341855e-01\n",
            " 6.07417089e-01 6.07846329e-01 6.08002602e-01 6.08022175e-01\n",
            " 6.08291170e-01 6.08560693e-01 6.08660264e-01 6.08815875e-01\n",
            " 6.09163541e-01 6.09270442e-01 6.09799772e-01 6.09954457e-01\n",
            " 6.10086502e-01 6.10141856e-01 6.10442420e-01 6.10455588e-01\n",
            " 6.10902562e-01 6.11255693e-01 6.11256117e-01 6.11446274e-01\n",
            " 6.11501389e-01 6.11555410e-01 6.11916002e-01 6.12231620e-01\n",
            " 6.12234910e-01 6.12887439e-01 6.12892723e-01 6.13077679e-01\n",
            " 6.13405441e-01 6.13513955e-01 6.13539967e-01 6.13565955e-01\n",
            " 6.13897083e-01 6.14055112e-01 6.14115341e-01 6.14195019e-01\n",
            " 6.14278713e-01 6.14518760e-01 6.14656439e-01 6.14768829e-01\n",
            " 6.14870373e-01 6.14932201e-01 6.15008953e-01 6.15033426e-01\n",
            " 6.15044248e-01 6.15309287e-01 6.15322056e-01 6.15497314e-01\n",
            " 6.15522583e-01 6.15535890e-01 6.15635711e-01 6.15660101e-01\n",
            " 6.15685635e-01 6.15798923e-01 6.15810020e-01 6.15863651e-01\n",
            " 6.16075805e-01 6.16148462e-01 6.16288559e-01 6.16311249e-01\n",
            " 6.16355293e-01 6.16476346e-01 6.16565921e-01 6.16623292e-01\n",
            " 6.16785947e-01 6.16827001e-01 6.16892665e-01 6.17010816e-01\n",
            " 6.17273910e-01 6.17316158e-01 6.17382781e-01 6.17431043e-01\n",
            " 6.17436565e-01 6.17450757e-01 6.17455139e-01 6.17642263e-01\n",
            " 6.17920679e-01 6.17939118e-01 6.17994100e-01 6.18036269e-01\n",
            " 6.18131420e-01 6.18199641e-01 6.18247103e-01 6.18264692e-01\n",
            " 6.18321862e-01 6.18575146e-01 6.18736739e-01 6.18753052e-01\n",
            " 6.18760196e-01 6.18783630e-01 6.18813504e-01 6.19063110e-01\n",
            " 6.19179873e-01 6.19343245e-01 6.19388419e-01 6.19389587e-01\n",
            " 6.19404200e-01 6.19469027e-01 6.19566987e-01 6.19632907e-01\n",
            " 6.19713728e-01 6.19761944e-01 6.19833361e-01 6.19902121e-01\n",
            " 6.19996733e-01 6.20088048e-01 6.20228385e-01 6.20364346e-01\n",
            " 6.20368859e-01 6.20527001e-01 6.20532071e-01 6.20543708e-01\n",
            " 6.20554649e-01 6.20577205e-01 6.20650221e-01 6.20706495e-01\n",
            " 6.20780072e-01 6.20976965e-01 6.21021707e-01 6.21184919e-01\n",
            " 6.21194856e-01 6.21229415e-01 6.21357643e-01 6.21392467e-01\n",
            " 6.21502928e-01 6.21511343e-01 6.21533442e-01 6.21665582e-01\n",
            " 6.21793825e-01 6.21927237e-01 6.22008790e-01 6.22022838e-01\n",
            " 6.22153546e-01 6.22185971e-01 6.22316200e-01 6.22512235e-01\n",
            " 6.22533833e-01 6.22653827e-01 6.22675367e-01 6.22884115e-01\n",
            " 6.22910521e-01 6.22966818e-01 6.23100801e-01 6.23148299e-01\n",
            " 6.23491028e-01 6.23535156e-01 6.23633099e-01 6.23654160e-01\n",
            " 6.23780091e-01 6.23838252e-01 6.23893805e-01 6.23980424e-01\n",
            " 6.24081033e-01 6.24105400e-01 6.24348958e-01 6.24450594e-01\n",
            " 6.24469821e-01 6.24549328e-01 6.24612371e-01 6.24632953e-01\n",
            " 6.24816566e-01 6.24837240e-01 6.25061264e-01 6.25122349e-01\n",
            " 6.25204851e-01 6.25243982e-01 6.25368732e-01 6.25427316e-01\n",
            " 6.25591644e-01 6.25714752e-01 6.25794880e-01 6.25813802e-01\n",
            " 6.26188135e-01 6.26219909e-01 6.26244492e-01 6.26368240e-01\n",
            " 6.26404037e-01 6.26427406e-01 6.26447090e-01 6.26515896e-01\n",
            " 6.26531612e-01 6.26545218e-01 6.26734128e-01 6.26753670e-01\n",
            " 6.26897340e-01 6.27007539e-01 6.27033182e-01 6.27055185e-01\n",
            " 6.27079935e-01 6.27099299e-01 6.27262351e-01 6.27278646e-01\n",
            " 6.27348472e-01 6.27406199e-01 6.27675216e-01 6.27683800e-01\n",
            " 6.27706332e-01 6.27713400e-01 6.27826942e-01 6.27869119e-01\n",
            " 6.27895595e-01 6.28039824e-01 6.28058728e-01 6.28077613e-01\n",
            " 6.28165332e-01 6.28255208e-01 6.28334418e-01 6.28384992e-01\n",
            " 6.28403718e-01 6.28417969e-01 6.28497072e-01 6.28529460e-01\n",
            " 6.28580729e-01 6.28683054e-01 6.28743490e-01 6.28874388e-01\n",
            " 6.28892875e-01 6.28906250e-01 6.28982192e-01 6.29008628e-01\n",
            " 6.29037520e-01 6.29231771e-01 6.29301868e-01 6.29310345e-01\n",
            " 6.29345520e-01 6.29496988e-01 6.29526917e-01 6.29635654e-01\n",
            " 6.29708136e-01 6.29853181e-01 6.29882812e-01 6.30045573e-01\n",
            " 6.30123617e-01 6.30179445e-01 6.30208333e-01 6.30310923e-01\n",
            " 6.30371094e-01 6.30448926e-01 6.30452540e-01 6.30533854e-01\n",
            " 6.30774236e-01 6.30814428e-01 6.30995106e-01 6.31022135e-01\n",
            " 6.31175607e-01 6.31184896e-01 6.31510417e-01 6.31760079e-01\n",
            " 6.31776005e-01 6.31810767e-01 6.32137031e-01 6.32161458e-01\n",
            " 6.32238126e-01 6.32324219e-01 6.32415601e-01 6.32486979e-01\n",
            " 6.32626427e-01 6.32726090e-01 6.32789560e-01 6.32812500e-01\n",
            " 6.32903120e-01 6.32907244e-01 6.32975260e-01 6.33262608e-01\n",
            " 6.33300781e-01 6.33556608e-01 6.33621392e-01 6.33626302e-01\n",
            " 6.33768352e-01 6.33789062e-01 6.33915456e-01 6.33951823e-01\n",
            " 6.34046724e-01 6.34217809e-01 6.34257749e-01 6.34273602e-01\n",
            " 6.34405092e-01 6.34515290e-01 6.34602865e-01 6.34747145e-01\n",
            " 6.34762759e-01 6.34868957e-01 6.34928385e-01 6.35165908e-01\n",
            " 6.35253906e-01 6.35357317e-01 6.35416667e-01 6.35579427e-01\n",
            " 6.35653871e-01 6.35742188e-01 6.93331170e-01 6.95602791e-01\n",
            " 6.96414084e-01 6.97549895e-01 7.00632809e-01 7.01930878e-01\n",
            " 7.02255395e-01 7.03228947e-01 7.03391206e-01 7.03877982e-01\n",
            " 7.04040240e-01 7.05176051e-01 7.05500568e-01 7.05987344e-01\n",
            " 7.06474120e-01 7.07123154e-01 7.07285413e-01 7.08258965e-01\n",
            " 7.08421223e-01 7.08907999e-01 7.09557034e-01 7.09719293e-01\n",
            " 7.10530586e-01 7.10855103e-01 7.12153172e-01 7.13126724e-01\n",
            " 7.14100276e-01 7.14749310e-01 7.15398345e-01 7.15560604e-01\n",
            " 7.16371897e-01 7.16696414e-01 7.17183190e-01 7.17994483e-01\n",
            " 7.19272370e-01 7.19436250e-01 7.19454811e-01 7.19764012e-01\n",
            " 7.20143767e-01 7.20307139e-01 7.20417823e-01 7.20554649e-01\n",
            " 7.20581035e-01 7.20633883e-01 7.20691342e-01 7.20717781e-01\n",
            " 7.20854394e-01 7.20907459e-01 7.21044046e-01 7.21146020e-01\n",
            " 7.21180499e-01 7.21191406e-01 7.21308807e-01 7.21354167e-01\n",
            " 7.21372804e-01 7.21535459e-01 7.21634381e-01 7.21679688e-01\n",
            " 7.21860768e-01 7.22213208e-01 7.22537725e-01 8.10226155e-01\n",
            " 8.10815226e-01 8.11000490e-01 8.11092985e-01 8.11185391e-01\n",
            " 8.11492756e-01 8.11523438e-01 8.11646064e-01 8.12104495e-01\n",
            " 8.12876936e-01 8.15158924e-01 8.15973920e-01 8.17126982e-01\n",
            " 8.17617258e-01 8.19070905e-01 8.19251512e-01 8.19578362e-01\n",
            " 8.20374898e-01 8.20537897e-01 8.20558915e-01 8.21026895e-01\n",
            " 8.21189894e-01 8.21678892e-01 8.21841891e-01 8.22029743e-01\n",
            " 8.23010296e-01 8.23663997e-01 9.02982629e-01 9.03283777e-01\n",
            " 9.03378489e-01 9.03425775e-01 9.03473015e-01 9.03630148e-01\n",
            " 9.03645833e-01 9.03708523e-01 9.03942885e-01 9.07742461e-01\n",
            " 9.09789181e-01 9.12836507e-01 9.13493106e-01 1.00000000e+00]\n",
            "mean_tpr:  [0.25       0.30615151 0.3338446  0.33384827 0.33401813 0.33419156\n",
            " 0.33452628 0.3347065  0.33486712 0.33504532 0.33522144 0.33538771\n",
            " 0.33556473 0.33574703 0.33625132 0.33642296 0.33643666 0.3369285\n",
            " 0.33761329 0.33781591 0.33798832 0.33902276 0.33936757 0.43694982\n",
            " 0.43763945 0.43803743 0.43832907 0.43889566 0.43896275 0.43930515\n",
            " 0.4394106  0.43975389 0.44016114 0.44026883 0.44061212 0.44084593\n",
            " 0.4412987  0.44187312 0.44232858 0.44272911 0.44307151 0.44370175\n",
            " 0.44387339 0.4439275  0.44529709 0.44563949 0.44598188 0.44700907\n",
            " 0.44713467 0.44752267 0.44820746 0.44850784 0.44854986 0.44867948\n",
            " 0.44902277 0.44919442 0.44974825 0.45009065 0.4502243  0.45056759\n",
            " 0.45060424 0.45091088 0.45111784 0.45146023 0.45163143 0.4521124\n",
            " 0.45214503 0.45279899 0.45300102 0.45365722 0.45368581 0.45382886\n",
            " 0.45385701 0.45503039 0.4550554  0.45537368 0.45574019 0.45588862\n",
            " 0.45606026 0.45625379 0.45710978 0.45846331 0.45932154 0.45966483\n",
            " 0.53349763 0.53453207 0.53504929 0.5353941  0.53591132 0.53832502\n",
            " 0.53987668 0.5403939  0.54194556 0.54315241 0.54332481 0.54401444\n",
            " 0.54453166 0.54487647 0.54539369 0.5455661  0.54660054 0.54746258\n",
            " 0.54866942 0.55004868 0.55332441 0.55418644 0.55453126 0.55539329\n",
            " 0.55591051 0.55677254 0.55694495 0.9667506  0.96787468 0.96834815\n",
            " 0.96863548 0.96875779 0.96907106 0.96927356 0.9695765  0.96964388\n",
            " 0.96968145 0.96989578 0.96997382 0.96998841 0.97018903 0.97039558\n",
            " 0.97047688 0.97060393 0.97075559 0.97080223 0.97114575 0.97124614\n",
            " 0.97141551 0.97146632 0.97174223 0.97175098 0.97204799 0.97252411\n",
            " 0.97252466 0.972774   0.97284627 0.9729144  0.97331438 0.97366447\n",
            " 0.97366707 0.97453322 0.97453781 0.9746985  0.97498326 0.97507754\n",
            " 0.97508969 0.97509985 0.97522924 0.975291   0.97531453 0.97534567\n",
            " 0.97537837 0.97547218 0.97551546 0.97556176 0.9756036  0.97562908\n",
            " 0.9756607  0.97567079 0.97567525 0.97578445 0.97579262 0.97590478\n",
            " 0.97592096 0.97592947 0.97599336 0.97599785 0.97600255 0.9760234\n",
            " 0.97602544 0.97603532 0.97607437 0.97608775 0.97626235 0.97626653\n",
            " 0.97627464 0.97629692 0.97630657 0.97631274 0.97633026 0.97633468\n",
            " 0.97634175 0.97635447 0.9763828  0.97638734 0.97639452 0.97639971\n",
            " 0.97640031 0.97640184 0.97640231 0.97642246 0.97645243 0.97645442\n",
            " 0.97646034 0.97646488 0.97647512 0.97648247 0.97648758 0.97648947\n",
            " 0.97649563 0.9765229  0.9765403  0.97654205 0.97654282 0.97654842\n",
            " 0.97655555 0.97661512 0.97664299 0.97668199 0.97684738 0.97699647\n",
            " 0.97699995 0.97701543 0.97703881 0.97705454 0.97707384 0.97708534\n",
            " 0.97710239 0.9771188  0.97717237 0.97722408 0.97730354 0.97731818\n",
            " 0.97731867 0.97733569 0.97733624 0.97733749 0.97733867 0.97734455\n",
            " 0.97736357 0.97737823 0.9773974  0.97747314 0.97749035 0.97755314\n",
            " 0.97756602 0.97761083 0.97777707 0.97782222 0.97796543 0.97797634\n",
            " 0.97798484 0.97801547 0.97804521 0.97807614 0.97808492 0.97808643\n",
            " 0.97822038 0.97825361 0.97826763 0.97903679 0.97903911 0.97905203\n",
            " 0.9790609  0.97918511 0.97921665 0.9792839  0.97944394 0.97950068\n",
            " 0.97991008 0.9799547  0.9800214  0.98002935 0.98013459 0.9801832\n",
            " 0.98022963 0.98030201 0.98037072 0.98038736 0.98058675 0.98069551\n",
            " 0.98086569 0.98099939 0.98110539 0.98114    0.98139262 0.98142106\n",
            " 0.98162366 0.9816789  0.98170307 0.98171453 0.98173414 0.98174334\n",
            " 0.98176917 0.98178851 0.98180111 0.98180408 0.98219626 0.98222955\n",
            " 0.98226699 0.98249306 0.98255845 0.98260115 0.9826371  0.9827628\n",
            " 0.98279152 0.98281637 0.9830717  0.98324179 0.98339231 0.98350776\n",
            " 0.98353462 0.98355768 0.98373322 0.98376238 0.98400798 0.98403252\n",
            " 0.98417428 0.98429147 0.98471423 0.98472772 0.98476313 0.98477424\n",
            " 0.98495267 0.98501895 0.98506056 0.98528722 0.98546654 0.98549621\n",
            " 0.98563407 0.98592878 0.98607815 0.98617352 0.98621456 0.98624579\n",
            " 0.98626998 0.98627988 0.98629555 0.98690573 0.98726612 0.98742956\n",
            " 0.98744699 0.98792001 0.98792001 0.98792001 0.98792001 0.98819224\n",
            " 0.9882351  0.98824028 0.98826179 0.9883544  0.9883727  0.9883727\n",
            " 0.9883727  0.9883727  0.98838629 0.98922826 0.98926405 0.98928965\n",
            " 0.98944312 0.98963659 0.98975006 0.98990466 0.98990466 0.98990466\n",
            " 0.98998022 0.98999285 0.99004964 0.99007796 0.99033528 0.99035085\n",
            " 0.99105009 0.99146867 0.99149537 0.99155365 0.9920109  0.99234087\n",
            " 0.99234087 0.99264781 0.99264781 0.99264781 0.99286316 0.99306476\n",
            " 0.99324429 0.99386898 0.99386898 0.99386898 0.99417592 0.99444686\n",
            " 0.99463632 0.99499815 0.99508978 0.99540366 0.99567154 0.99602387\n",
            " 0.99606251 0.99638056 0.99652143 0.99677538 0.99683466 0.99685335\n",
            " 0.99700832 0.99713821 0.99739489 0.99739489 0.99739492 0.99739511\n",
            " 0.99785562 0.99785603 0.99877699 0.99877717 0.99877728 0.9995449\n",
            " 0.99954503 0.99954519 0.99985246 0.99986458 0.99986891 0.99987497\n",
            " 0.99989142 0.99989834 0.99990008 0.99990527 0.99990614 0.99990873\n",
            " 0.9999096  0.99991566 0.99991739 0.99991999 0.99992258 0.99992605\n",
            " 0.99992691 0.99993211 0.99993297 0.99993557 0.99993903 0.9999399\n",
            " 0.99994423 0.99994596 0.99995289 0.99995808 0.99996327 0.99996674\n",
            " 0.9999702  0.99997107 0.9999754  0.99997713 0.99997972 0.99998405\n",
            " 0.99999087 0.99999175 0.99999184 0.99999349 0.99999552 0.99999639\n",
            " 0.99999698 0.99999771 0.99999781 0.999998   0.9999982  0.9999983\n",
            " 0.99999879 0.99999898 0.99999947 0.99999984 0.99999996 1.\n",
            " 1.         1.         1.         1.         1.         1.\n",
            " 1.         1.         1.         1.         1.         1.\n",
            " 1.         1.         1.         1.         1.         1.\n",
            " 1.         1.         1.         1.         1.         1.\n",
            " 1.         1.         1.         1.         1.         1.\n",
            " 1.         1.         1.         1.         1.         1.\n",
            " 1.         1.         1.         1.         1.         1.\n",
            " 1.         1.         1.         1.         1.         1.\n",
            " 1.         1.        ]\n",
            "AUC =  0.7882284391830785\n"
          ]
        }
      ],
      "source": [
        "actual_classes = y_test_cv\n",
        "predicted_proba = y_test_prob\n",
        "\n",
        "fpr = dict()\n",
        "tpr = dict()\n",
        "roc_auc = dict()\n",
        "n_classes=12\n",
        "for i in range(n_classes):\n",
        "    fpr[i], tpr[i], _ = roc_curve(np.array(pd.get_dummies(actual_classes))[:, i], np.array(predicted_proba)[:, i])\n",
        "    roc_auc[i] = auc(fpr[i], tpr[i])\n",
        "#     print(\"fpr: \",fpr[i])\n",
        "#     print(\"tpr: \",tpr[i])\n",
        "#     print(\"roc_auc: \",roc_auc[i])\n",
        "\n",
        "all_fpr = np.unique(np.concatenate([fpr[i] for i in range(n_classes)]))\n",
        "print(\"all_fpr: \",all_fpr)\n",
        "mean_tpr = np.zeros_like(all_fpr)\n",
        "for i in range(n_classes):\n",
        "    mean_tpr += interp(all_fpr, fpr[i], tpr[i])\n",
        "mean_tpr /= n_classes\n",
        "\n",
        "fpr[\"macro\"] = all_fpr\n",
        "tpr[\"macro\"] = mean_tpr\n",
        "roc_auc[\"macro\"] = auc(fpr[\"macro\"], tpr[\"macro\"])\n",
        "print(\"mean_tpr: \",mean_tpr)\n",
        "print(\"AUC = \",roc_auc['macro'])"
      ],
      "id": "804ffd5e"
    },
    {
      "cell_type": "code",
      "execution_count": 35,
      "metadata": {
        "id": "f028e956"
      },
      "outputs": [],
      "source": [
        "roc_csv = pd.DataFrame()\n",
        "roc_csv[\"FPR(Macro)\"] = all_fpr\n",
        "roc_csv[\"TPR(Macro)\"] = mean_tpr"
      ],
      "id": "f028e956"
    },
    {
      "cell_type": "code",
      "execution_count": 36,
      "metadata": {
        "id": "769b9265"
      },
      "outputs": [],
      "source": [
        "roc_csv.to_csv(\"filename\", index=False)"
      ],
      "id": "769b9265"
    },
    {
      "cell_type": "code",
      "execution_count": 37,
      "metadata": {
        "colab": {
          "base_uri": "https://localhost:8080/",
          "height": 484
        },
        "id": "4okoIVD-OLTe",
        "outputId": "362c2423-14cc-4712-e4bf-1608026f4137"
      },
      "outputs": [
        {
          "output_type": "display_data",
          "data": {
            "text/plain": [
              "<Figure size 1100x500 with 2 Axes>"
            ],
            "image/png": "[encoded data removed]"
          },
          "metadata": {}
        }
      ],
      "source": [
        "import matplotlib.pyplot as plt\n",
        "import seaborn as sns\n",
        "from sklearn.metrics import confusion_matrix\n",
        "from sklearn.metrics import ConfusionMatrixDisplay\n",
        "import numpy as np\n",
        "\n",
        "# Assuming you have already calculated the confusion matrix 'cm' for 12 classes\n",
        "\n",
        "# Normalize the confusion matrix\n",
        "cm_normalized = cm.astype('float') / cm.sum(axis=1)[:, np.newaxis]\n",
        "sns.set(font_scale=1.2)\n",
        "# Plot the normalized confusion matrix heatmap\n",
        "fig=plt.figure(figsize=(11, 5))\n",
        "sns.heatmap(cm_normalized, annot=True, fmt='.1f', cmap='Blues', xticklabels=range(12), yticklabels=range(12))\n",
        "plt.xlabel('Predicted Labels')\n",
        "plt.ylabel('True Labels')\n",
        "fig.savefig('RRR',dpi=300, bbox_inches = 'tight')\n",
        "# plt.title('Normalized Confusion Matrix Heatmap')\n",
        "plt.show()"
      ],
      "id": "4okoIVD-OLTe"
    }
  ],
  "metadata": {
    "colab": {
      "provenance": [],
      "include_colab_link": true
    },
    "kernelspec": {
      "display_name": "Python 3",
      "name": "python3"
    },
    "language_info": {
      "codemirror_mode": {
        "name": "ipython",
        "version": 3
      },
      "file_extension": ".py",
      "mimetype": "text/x-python",
      "name": "python",
      "nbconvert_exporter": "python",
      "pygments_lexer": "ipython3",
      "version": "3.8.8"
    },
    "accelerator": "TPU"
  },
  "nbformat": 4,
  "nbformat_minor": 5
}