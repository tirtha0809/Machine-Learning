{
  "cells": [
    {
      "cell_type": "markdown",
      "metadata": {
        "id": "view-in-github",
        "colab_type": "text"
      },
      "source": [
        "<a href=\"https://colab.research.google.com/github/tirtha0809/Machine-Learning/blob/main/REMOVE3_RF.ipynb\" target=\"_parent\"><img src=\"https://colab.research.google.com/assets/colab-badge.svg\" alt=\"Open In Colab\"/></a>"
      ]
    },
    {
      "cell_type": "markdown",
      "metadata": {
        "id": "d23c76a2"
      },
      "source": [
        "# Importing Libraries"
      ],
      "id": "d23c76a2"
    },
    {
      "cell_type": "code",
      "execution_count": 38,
      "metadata": {
        "id": "5b2cef0e"
      },
      "outputs": [],
      "source": [
        "import numpy as np\n",
        "import pandas as pd\n",
        "import tensorflow as tf\n",
        "import keras as kf\n",
        "from keras.models import Sequential\n",
        "from keras.layers import Dense\n",
        "from matplotlib import pyplot\n",
        "from os import makedirs\n",
        "from numpy import dstack\n",
        "from sklearn.linear_model import LogisticRegression\n",
        "from sklearn.neighbors import KNeighborsClassifier\n",
        "from sklearn.ensemble import GradientBoostingClassifier\n",
        "from sklearn.ensemble import RandomForestClassifier\n",
        "from sklearn.tree import DecisionTreeClassifier\n",
        "from xgboost import XGBClassifier\n",
        "from sklearn.svm import SVC\n",
        "from sklearn.naive_bayes import GaussianNB\n",
        "from sklearn.ensemble import AdaBoostClassifier\n",
        "from lightgbm import LGBMClassifier\n",
        "from sklearn.preprocessing import StandardScaler\n",
        "from sklearn.model_selection import train_test_split\n",
        "from imblearn.over_sampling import SMOTE\n",
        "from sklearn.metrics import confusion_matrix, accuracy_score\n",
        "from sklearn.metrics import precision_score, recall_score, f1_score, accuracy_score,roc_auc_score,roc_curve,auc\n",
        "from statistics import mean\n",
        "import time"
      ],
      "id": "5b2cef0e"
    },
    {
      "cell_type": "code",
      "execution_count": 39,
      "metadata": {
        "colab": {
          "base_uri": "https://localhost:8080/"
        },
        "id": "obp1lLW3UQLZ",
        "outputId": "e8e54453-83ef-4616-d6e4-f2f25aec6f3f"
      },
      "outputs": [
        {
          "output_type": "stream",
          "name": "stdout",
          "text": [
            "Drive already mounted at /content/drive; to attempt to forcibly remount, call drive.mount(\"/content/drive\", force_remount=True).\n"
          ]
        }
      ],
      "source": [
        "from google.colab import drive\n",
        "drive.mount('/content/drive')"
      ],
      "id": "obp1lLW3UQLZ"
    },
    {
      "cell_type": "markdown",
      "metadata": {
        "id": "78ab07f7"
      },
      "source": [
        "# Importing DataSet"
      ],
      "id": "78ab07f7"
    },
    {
      "cell_type": "code",
      "execution_count": 40,
      "metadata": {
        "colab": {
          "base_uri": "https://localhost:8080/"
        },
        "id": "9309e06d",
        "outputId": "3ee19a63-d255-402a-8374-5f0db57fc1cb"
      },
      "outputs": [
        {
          "output_type": "stream",
          "name": "stdout",
          "text": [
            "3991\n"
          ]
        }
      ],
      "source": [
        "data = pd.read_csv('/content/drive/MyDrive/LANDSLIDE/LandslideData .csv') # 20 features\n",
        "dataset = data.dropna(axis = 0, how ='any')\n",
        "X =  dataset.iloc[:,1:-1].values\n",
        "y = dataset.iloc[:, -1].values\n",
        "print(len(dataset))"
      ],
      "id": "9309e06d"
    },
    {
      "cell_type": "code",
      "execution_count": 41,
      "metadata": {
        "id": "588acb2f"
      },
      "outputs": [],
      "source": [
        "#smote = SMOTE()"
      ],
      "id": "588acb2f"
    },
    {
      "cell_type": "code",
      "execution_count": 42,
      "metadata": {
        "id": "363487ad"
      },
      "outputs": [],
      "source": [
        "#x_smote, y_smote = smote.fit_resample(X, y)\n",
        "smote= SMOTE(k_neighbors = 3)\n",
        "x_smote,y_smote = smote.fit_resample(X,y)"
      ],
      "id": "363487ad"
    },
    {
      "cell_type": "code",
      "execution_count": 43,
      "metadata": {
        "id": "654f6958"
      },
      "outputs": [],
      "source": [
        "from keras.models import load_model"
      ],
      "id": "654f6958"
    },
    {
      "cell_type": "code",
      "execution_count": 44,
      "metadata": {
        "id": "67861b3e"
      },
      "outputs": [],
      "source": [
        "# create a custom function to load model\n",
        "def load_all_models(n_models):\n",
        "    all_models = list()\n",
        "    for i in range(n_models):\n",
        "        # filename\n",
        "        filename = 'north/model' + str(i + 1) + '.h5'\n",
        "        # load model\n",
        "        model = load_model(filename)\n",
        "        # Add a list of all the weaker learners\n",
        "        all_models.append(model)\n",
        "        #print('>loaded %s' % filename)\n",
        "    return all_models"
      ],
      "id": "67861b3e"
    },
    {
      "cell_type": "markdown",
      "metadata": {
        "id": "0c4c39db"
      },
      "source": [
        "## Stacking models"
      ],
      "id": "0c4c39db"
    },
    {
      "cell_type": "code",
      "execution_count": 45,
      "metadata": {
        "id": "db0754d0"
      },
      "outputs": [],
      "source": [
        "# create stacked model input dataset as outputs from the ensemble\n",
        "def stacked_dataset(members, inputX):\n",
        "    stackX = None\n",
        "    for model in members:\n",
        "        # make prediction\n",
        "        yhat = model.predict(inputX, verbose=0)\n",
        "        # stack predictions into [rows, members, probabilities]\n",
        "        if stackX is None:\n",
        "            stackX = yhat #\n",
        "        else:\n",
        "            stackX = dstack((stackX, yhat))\n",
        "    # flatten predictions to [rows, members x probabilities]\n",
        "    stackX = stackX.reshape((stackX.shape[0], stackX.shape[1]*stackX.shape[2]))\n",
        "    return stackX"
      ],
      "id": "db0754d0"
    },
    {
      "cell_type": "markdown",
      "metadata": {
        "id": "c1de75a1"
      },
      "source": [
        "## Fit meta-learner"
      ],
      "id": "c1de75a1"
    },
    {
      "cell_type": "code",
      "execution_count": 46,
      "metadata": {
        "id": "620c3aa9"
      },
      "outputs": [],
      "source": [
        "# fit a model based on the outputs from the ensemble members\n",
        "def fit_stacked_model(members, inputX, inputy):\n",
        "    # create dataset using ensemble\n",
        "    stackedX = stacked_dataset(members, inputX)\n",
        "    #print(\"Models Test time: \",(end-start) * 10**3, \"ms\")\n",
        "    # fit the meta learner\n",
        "    #model = LogisticRegression() #meta learner\n",
        "    #model = SVC(kernel = 'rbf',random_state = 0,probability= True)\n",
        "    # model = SVC(kernel = 'linear', random_state = 0,probability=True)\n",
        "    #model = GaussianNB()\n",
        "    #model = KNeighborsClassifier(n_neighbors = 3, metric = 'minkowski', p = 2)\n",
        "    # model = GradientBoostingClassifier(n_estimators=50,learning_rate=0.5, max_depth=6, random_state=0)\n",
        "    model = RandomForestClassifier(criterion = 'entropy', random_state = 0)\n",
        "    # model = LGBMClassifier(random_state=0)\n",
        "    # model = DecisionTreeClassifier(max_depth=7,criterion = 'entropy', random_state = 0)\n",
        "    # model = XGBClassifier(n_estimators=50,learning_rate=0.5,max_depth=3)\n",
        "    #model = AdaBoostClassifier(n_estimators = 100, learning_rate = 1,random_state = 0)\n",
        "    #model.fit(X_train, y_train)\n",
        "    model.fit(stackedX, inputy)\n",
        "    return model"
      ],
      "id": "620c3aa9"
    },
    {
      "cell_type": "code",
      "execution_count": 47,
      "metadata": {
        "id": "46d953ea"
      },
      "outputs": [],
      "source": [
        "def stacked_prediction(members, model, inputX):\n",
        "    # create dataset using ensemble\n",
        "    stackedX = stacked_dataset(members, inputX)\n",
        "    # make a prediction\n",
        "    yhat = model.predict(stackedX)\n",
        "    return yhat"
      ],
      "id": "46d953ea"
    },
    {
      "cell_type": "code",
      "execution_count": 48,
      "metadata": {
        "id": "1bd5b4f1"
      },
      "outputs": [],
      "source": [
        "def stacked_prediction_proba(members,model,inputX):\n",
        "    # create dataset using ensemble\n",
        "    stackedX = stacked_dataset(members,inputX)\n",
        "    # make a prediction\n",
        "    yhatProb = model.predict_proba(stackedX)\n",
        "    return yhatProb"
      ],
      "id": "1bd5b4f1"
    },
    {
      "cell_type": "code",
      "execution_count": 49,
      "metadata": {
        "id": "86c41c29"
      },
      "outputs": [],
      "source": [
        "acc_train = []\n",
        "acc_test = []\n",
        "Precision_macro = []\n",
        "Precision_micro = []\n",
        "Recall_macro = []\n",
        "Recall_micro = []\n",
        "F1_macro = []\n",
        "F1_micro = []\n",
        "AUC_ovo = []\n",
        "AUC_ovr = []\n",
        "train_time = []\n",
        "test_time = []"
      ],
      "id": "86c41c29"
    },
    {
      "cell_type": "code",
      "execution_count": 50,
      "metadata": {
        "id": "--nkGullVeMc"
      },
      "outputs": [],
      "source": [
        "num_classes = 13"
      ],
      "id": "--nkGullVeMc"
    },
    {
      "cell_type": "code",
      "execution_count": 51,
      "metadata": {
        "colab": {
          "base_uri": "https://localhost:8080/"
        },
        "id": "426c21a7",
        "outputId": "11a85674-54dd-4c01-ca3d-dc5c8e2f13c2"
      },
      "outputs": [
        {
          "output_type": "stream",
          "name": "stdout",
          "text": [
            "[ 0.  1.  2.  3.  4.  5.  6.  7.  8.  9. 10. 11.]\n"
          ]
        },
        {
          "output_type": "stream",
          "name": "stderr",
          "text": [
            "/usr/local/lib/python3.10/dist-packages/keras/src/engine/training.py:3103: UserWarning: You are saving your model as an HDF5 file via `model.save()`. This file format is considered legacy. We recommend using instead the native Keras format, e.g. `model.save('my_model.keras')`.\n",
            "  saving_api.save_model(\n"
          ]
        },
        {
          "output_type": "stream",
          "name": "stdout",
          "text": [
            "Cross validation Train time:  1823993.4418201447 ms\n",
            "Cross validation Test time:  8056.392431259155 ms\n",
            "[ 0.  1.  2.  3.  4.  5.  6.  7.  8.  9. 10. 11.]\n"
          ]
        },
        {
          "output_type": "stream",
          "name": "stderr",
          "text": [
            "/usr/local/lib/python3.10/dist-packages/keras/src/engine/training.py:3103: UserWarning: You are saving your model as an HDF5 file via `model.save()`. This file format is considered legacy. We recommend using instead the native Keras format, e.g. `model.save('my_model.keras')`.\n",
            "  saving_api.save_model(\n"
          ]
        },
        {
          "output_type": "stream",
          "name": "stdout",
          "text": [
            "Cross validation Train time:  1727455.2643299103 ms\n",
            "Cross validation Test time:  8531.046152114868 ms\n",
            "[ 0.  1.  2.  3.  4.  5.  6.  7.  8.  9. 10. 11.]\n"
          ]
        },
        {
          "output_type": "stream",
          "name": "stderr",
          "text": [
            "/usr/local/lib/python3.10/dist-packages/keras/src/engine/training.py:3103: UserWarning: You are saving your model as an HDF5 file via `model.save()`. This file format is considered legacy. We recommend using instead the native Keras format, e.g. `model.save('my_model.keras')`.\n",
            "  saving_api.save_model(\n"
          ]
        },
        {
          "output_type": "stream",
          "name": "stdout",
          "text": [
            "Cross validation Train time:  1913423.4488010406 ms\n",
            "Cross validation Test time:  8629.985570907593 ms\n",
            "[ 0.  1.  2.  3.  4.  5.  6.  7.  8.  9. 10. 11.]\n"
          ]
        },
        {
          "output_type": "stream",
          "name": "stderr",
          "text": [
            "/usr/local/lib/python3.10/dist-packages/keras/src/engine/training.py:3103: UserWarning: You are saving your model as an HDF5 file via `model.save()`. This file format is considered legacy. We recommend using instead the native Keras format, e.g. `model.save('my_model.keras')`.\n",
            "  saving_api.save_model(\n"
          ]
        },
        {
          "output_type": "stream",
          "name": "stdout",
          "text": [
            "Cross validation Train time:  1728631.6480636597 ms\n",
            "Cross validation Test time:  8636.23332977295 ms\n",
            "[ 0.  1.  2.  3.  4.  5.  6.  7.  8.  9. 10. 11.]\n"
          ]
        },
        {
          "output_type": "stream",
          "name": "stderr",
          "text": [
            "/usr/local/lib/python3.10/dist-packages/keras/src/engine/training.py:3103: UserWarning: You are saving your model as an HDF5 file via `model.save()`. This file format is considered legacy. We recommend using instead the native Keras format, e.g. `model.save('my_model.keras')`.\n",
            "  saving_api.save_model(\n"
          ]
        },
        {
          "output_type": "stream",
          "name": "stdout",
          "text": [
            "Cross validation Train time:  1714157.93800354 ms\n",
            "Cross validation Test time:  9803.084135055542 ms\n"
          ]
        }
      ],
      "source": [
        "for i in range(0,5):\n",
        "\n",
        "    X_train_cv, X_test_cv, y_train_cv, y_test_cv = train_test_split(x_smote, y_smote, test_size = 0.25,random_state = i)\n",
        "    y_train_cv = y_train_cv - 1\n",
        "    y_test_cv = y_test_cv - 1\n",
        "\n",
        "    sc = StandardScaler()\n",
        "    X_train_cv = sc.fit_transform(X_train_cv)\n",
        "    X_test_cv = sc.transform(X_test_cv)\n",
        "    unique_labels = np.unique(y_train_cv)\n",
        "    print(unique_labels)\n",
        "\n",
        "    start = time.time()\n",
        "    # Model 1\n",
        "    ann1 = Sequential()\n",
        "    ann1.add(tf.keras.layers.Dense(units=15, activation='relu'))\n",
        "    ann1.add(tf.keras.layers.Dense(units=20, activation='relu'))\n",
        "    ann1.add(tf.keras.layers.Dense(units=num_classes, activation='softmax'))\n",
        "    ann1.compile(optimizer = 'adam', loss = kf.losses.SparseCategoricalCrossentropy(), metrics = [kf.metrics.CategoricalAccuracy()])\n",
        "    ann1.fit(X_train_cv, y_train_cv, batch_size = 128, epochs = 100,verbose=0)\n",
        "\n",
        "    # Model 2\n",
        "    ann2 = Sequential()\n",
        "    ann2.add(tf.keras.layers.Dense(units=10, activation='relu'))\n",
        "    ann2.add(tf.keras.layers.Dense(units=15, activation='relu'))\n",
        "    ann2.add(tf.keras.layers.Dense(units=25, activation='relu'))\n",
        "    ann2.add(tf.keras.layers.Dense(units=num_classes, activation='softmax'))\n",
        "    ann2.compile(optimizer = 'adam', loss = kf.losses.SparseCategoricalCrossentropy(), metrics = [kf.metrics.CategoricalAccuracy()])\n",
        "    ann2.fit(X_train_cv, y_train_cv, batch_size = 128, epochs = 150,verbose=0)\n",
        "\n",
        "    # Model 3\n",
        "    ann3 = Sequential()\n",
        "    ann3.add(tf.keras.layers.Dense(units=20, activation='relu'))\n",
        "    ann3.add(tf.keras.layers.Dense(units=25, activation='relu'))\n",
        "    ann3.add(tf.keras.layers.Dense(units=30, activation='relu'))\n",
        "    ann3.add(tf.keras.layers.Dense(units=num_classes, activation='softmax'))\n",
        "    ann3.compile(optimizer = 'adam', loss = kf.losses.SparseCategoricalCrossentropy(), metrics = [kf.metrics.CategoricalAccuracy()])\n",
        "    ann3.fit(X_train_cv, y_train_cv, batch_size = 128, epochs = 180,verbose=0)\n",
        "\n",
        "    # Model 4\n",
        "\n",
        "    ann4 = Sequential()\n",
        "    ann4.add(tf.keras.layers.Dense(units=30, activation='relu'))\n",
        "    ann4.add(tf.keras.layers.Dense(units=35, activation='relu'))\n",
        "    ann4.add(tf.keras.layers.Dense(units=40, activation='relu'))\n",
        "    ann4.add(tf.keras.layers.Dense(units=num_classes, activation='softmax'))\n",
        "    ann4.compile(optimizer = 'adam', loss = kf.losses.SparseCategoricalCrossentropy(), metrics = [kf.metrics.CategoricalAccuracy()])\n",
        "    ann4.fit(X_train_cv, y_train_cv, batch_size = 128, epochs = 200,verbose=0)\n",
        "\n",
        "    # Model 5\n",
        "\n",
        "    ann5 = Sequential()\n",
        "    ann5.add(tf.keras.layers.Dense(units=40, activation='relu'))\n",
        "    ann5.add(tf.keras.layers.Dense(units=50, activation='relu'))\n",
        "    ann5.add(tf.keras.layers.Dense(units=55, activation='relu'))\n",
        "    ann5.add(tf.keras.layers.Dense(units=num_classes, activation='softmax'))\n",
        "    ann5.compile(optimizer = 'adam', loss = kf.losses.SparseCategoricalCrossentropy(), metrics = [kf.metrics.CategoricalAccuracy()])\n",
        "    ann5.fit(X_train_cv, y_train_cv, batch_size = 128, epochs = 250,verbose=0)\n",
        "\n",
        "    # Model 6\n",
        "\n",
        "    ann6 = Sequential()\n",
        "    ann6.add(tf.keras.layers.Dense(units=35, activation='relu'))\n",
        "    ann6.add(tf.keras.layers.Dense(units=45, activation='relu'))\n",
        "    ann6.add(tf.keras.layers.Dense(units=50, activation='relu'))\n",
        "    ann6.add(tf.keras.layers.Dense(units=num_classes, activation='softmax'))\n",
        "    ann6.compile(optimizer = 'adam', loss = kf.losses.SparseCategoricalCrossentropy(), metrics = [kf.metrics.CategoricalAccuracy()])\n",
        "    ann6.fit(X_train_cv, y_train_cv, batch_size = 128, epochs = 300,verbose=0)\n",
        "\n",
        "    # Model 7\n",
        "\n",
        "    ann7 = Sequential()\n",
        "    ann7.add(tf.keras.layers.Dense(units=35, activation='relu'))\n",
        "    ann7.add(tf.keras.layers.Dense(units=45, activation='relu'))\n",
        "    ann7.add(tf.keras.layers.Dense(units=50, activation='relu'))\n",
        "    ann7.add(tf.keras.layers.Dense(units=num_classes, activation='softmax'))\n",
        "    ann7.compile(optimizer = 'adam', loss = kf.losses.SparseCategoricalCrossentropy(), metrics = [kf.metrics.CategoricalAccuracy()])\n",
        "    ann7.fit(X_train_cv, y_train_cv, batch_size = 128, epochs = 300,verbose=0)\n",
        "\n",
        "    # Model 8\n",
        "\n",
        "    ann8 = Sequential()\n",
        "    ann8.add(tf.keras.layers.Dense(units=35, activation='relu'))\n",
        "    ann8.add(tf.keras.layers.Dense(units=45, activation='relu'))\n",
        "    ann8.add(tf.keras.layers.Dense(units=50, activation='relu'))\n",
        "    ann8.add(tf.keras.layers.Dense(units=num_classes, activation='softmax'))\n",
        "    ann8.compile(optimizer = 'adam', loss = kf.losses.SparseCategoricalCrossentropy(), metrics = [kf.metrics.CategoricalAccuracy()])\n",
        "    ann8.fit(X_train_cv, y_train_cv, batch_size = 128, epochs = 300,verbose=0)\n",
        "\n",
        "    # Model 9\n",
        "\n",
        "    ann9 = Sequential()\n",
        "    ann9.add(tf.keras.layers.Dense(units=35, activation='relu'))\n",
        "    ann9.add(tf.keras.layers.Dense(units=45, activation='relu'))\n",
        "    ann9.add(tf.keras.layers.Dense(units=50, activation='relu'))\n",
        "    ann9.add(tf.keras.layers.Dense(units=num_classes, activation='softmax'))\n",
        "    ann9.compile(optimizer = 'adam', loss = kf.losses.SparseCategoricalCrossentropy(), metrics = [kf.metrics.CategoricalAccuracy()])\n",
        "    ann9.fit(X_train_cv, y_train_cv, batch_size = 128, epochs = 300,verbose=0)\n",
        "\n",
        "    # Model 10\n",
        "\n",
        "    ann10 = Sequential()\n",
        "    ann10.add(tf.keras.layers.Dense(units=35, activation='relu'))\n",
        "    ann10.add(tf.keras.layers.Dense(units=45, activation='relu'))\n",
        "    ann10.add(tf.keras.layers.Dense(units=50, activation='relu'))\n",
        "    ann10.add(tf.keras.layers.Dense(units=num_classes, activation='softmax'))\n",
        "    ann10.compile(optimizer = 'adam', loss = kf.losses.SparseCategoricalCrossentropy(), metrics = [kf.metrics.CategoricalAccuracy()])\n",
        "    ann10.fit(X_train_cv, y_train_cv, batch_size = 128, epochs = 300,verbose=0)\n",
        "    # Model 11\n",
        "\n",
        "    ann11 = Sequential()\n",
        "    ann11.add(tf.keras.layers.Dense(units=35, activation='relu'))\n",
        "    ann11.add(tf.keras.layers.Dense(units=45, activation='relu'))\n",
        "    ann11.add(tf.keras.layers.Dense(units=50, activation='relu'))\n",
        "    ann11.add(tf.keras.layers.Dense(units=num_classes, activation='softmax'))\n",
        "    ann11.compile(optimizer = 'adam', loss = kf.losses.SparseCategoricalCrossentropy(), metrics = [kf.metrics.CategoricalAccuracy()])\n",
        "    ann11.fit(X_train_cv, y_train_cv, batch_size = 128, epochs = 300,verbose=0)\n",
        "\n",
        "    # Model 12\n",
        "\n",
        "    ann12 = Sequential()\n",
        "    ann12.add(tf.keras.layers.Dense(units=35, activation='relu'))\n",
        "    ann12.add(tf.keras.layers.Dense(units=45, activation='relu'))\n",
        "    ann12.add(tf.keras.layers.Dense(units=50, activation='relu'))\n",
        "    ann12.add(tf.keras.layers.Dense(units=num_classes, activation='softmax'))\n",
        "    ann12.compile(optimizer = 'adam', loss = kf.losses.SparseCategoricalCrossentropy(), metrics = [kf.metrics.CategoricalAccuracy()])\n",
        "    ann12.fit(X_train_cv, y_train_cv, batch_size = 128, epochs = 300,verbose=0)\n",
        "\n",
        "    # Model 13\n",
        "\n",
        "    ann13 = Sequential()\n",
        "    ann13.add(tf.keras.layers.Dense(units=35, activation='relu'))\n",
        "    ann13.add(tf.keras.layers.Dense(units=45, activation='relu'))\n",
        "    ann13.add(tf.keras.layers.Dense(units=50, activation='relu'))\n",
        "    ann13.add(tf.keras.layers.Dense(units=num_classes, activation='softmax'))\n",
        "    ann13.compile(optimizer = 'adam', loss = kf.losses.SparseCategoricalCrossentropy(), metrics = [kf.metrics.CategoricalAccuracy()])\n",
        "    ann13.fit(X_train_cv, y_train_cv, batch_size = 128, epochs = 300,verbose=0)\n",
        "\n",
        "    # Model 14\n",
        "\n",
        "    ann14 = Sequential()\n",
        "    ann14.add(tf.keras.layers.Dense(units=35, activation='relu'))\n",
        "    ann14.add(tf.keras.layers.Dense(units=45, activation='relu'))\n",
        "    ann14.add(tf.keras.layers.Dense(units=50, activation='relu'))\n",
        "    ann14.add(tf.keras.layers.Dense(units=num_classes, activation='softmax'))\n",
        "    ann14.compile(optimizer = 'adam', loss = kf.losses.SparseCategoricalCrossentropy(), metrics = [kf.metrics.CategoricalAccuracy()])\n",
        "    ann14.fit(X_train_cv, y_train_cv, batch_size = 128, epochs = 300,verbose=0)\n",
        "\n",
        "    # Model 15\n",
        "\n",
        "    ann15 = Sequential()\n",
        "    ann15.add(tf.keras.layers.Dense(units=35, activation='relu'))\n",
        "    ann15.add(tf.keras.layers.Dense(units=45, activation='sigmoid'))\n",
        "    ann15.add(tf.keras.layers.Dense(units=50, activation='relu'))\n",
        "    ann15.add(tf.keras.layers.Dense(units=num_classes, activation='softmax'))\n",
        "    ann15.compile(optimizer = 'adam', loss = kf.losses.SparseCategoricalCrossentropy(), metrics = [kf.metrics.CategoricalAccuracy()])\n",
        "    ann15.fit(X_train_cv, y_train_cv, batch_size = 128, epochs = 300,verbose=0)\n",
        "\n",
        "    # Model 16\n",
        "\n",
        "    ann16 = Sequential()\n",
        "    ann16.add(tf.keras.layers.Dense(units=35, activation='relu'))\n",
        "    ann16.add(tf.keras.layers.Dense(units=45, activation='sigmoid'))\n",
        "    ann16.add(tf.keras.layers.Dense(units=50, activation='relu'))\n",
        "    ann16.add(tf.keras.layers.Dense(units=num_classes, activation='softmax'))\n",
        "    ann16.compile(optimizer = 'adam', loss = kf.losses.SparseCategoricalCrossentropy(), metrics = [kf.metrics.CategoricalAccuracy()])\n",
        "    ann16.fit(X_train_cv, y_train_cv, batch_size = 128, epochs = 300,verbose=0)\n",
        "\n",
        "    ann1.save('north/model1.h5')\n",
        "    ann2.save('north/model2.h5')\n",
        "    ann3.save('north/model3.h5')\n",
        "    ann4.save('north/model4.h5')\n",
        "    ann5.save('north/model5.h5')\n",
        "    ann6.save('north/model6.h5')\n",
        "    ann7.save('north/model7.h5')\n",
        "    ann8.save('north/model8.h5')\n",
        "    ann9.save('north/model9.h5')\n",
        "    ann10.save('north/model10.h5')\n",
        "    ann11.save('north/model11.h5')\n",
        "    ann12.save('north/model12.h5')\n",
        "    ann13.save('north/model13.h5')\n",
        "    ann14.save('north/model14.h5')\n",
        "    ann15.save('north/model15.h5')\n",
        "    ann16.save('north/model16.h5')\n",
        "\n",
        "    members = load_all_models(16)\n",
        "    model = fit_stacked_model(members, X_train_cv,y_train_cv)\n",
        "    end = time.time()\n",
        "    print(\"Cross validation Train time: \",(end-start) * 10**3, \"ms\")\n",
        "    t = (end-start)*1000\n",
        "    train_time.append(t)\n",
        "\n",
        "    start = time.time()\n",
        "    y_pred = stacked_prediction(members, model, X_test_cv)\n",
        "    end = time.time()\n",
        "\n",
        "    t = (end - start)*1000\n",
        "    test_time.append(t)\n",
        "\n",
        "    print(\"Cross validation Test time: \",(end-start) * 10**3, \"ms\")\n",
        "    y_test_prob = stacked_prediction_proba(members,model,X_test_cv)\n",
        "    y_train_pred = stacked_prediction(members, model, X_train_cv)\n",
        "\n",
        "    cm = confusion_matrix(y_test_cv, y_pred)\n",
        "\n",
        "\n",
        "    accuracy = accuracy_score(y_test_cv, y_pred)\n",
        "    acc_test.append(accuracy)\n",
        "    accuracy_train = accuracy_score(y_train_cv, y_train_pred)\n",
        "    acc_train.append(accuracy_train)\n",
        "\n",
        "    pre_macro = precision_score(y_test_cv, y_pred,average='macro')\n",
        "    Precision_macro.append(pre_macro)\n",
        "    pre_micro = precision_score(y_test_cv, y_pred,average='micro')\n",
        "    Precision_micro.append(pre_micro)\n",
        "\n",
        "    re_macro = recall_score(y_test_cv, y_pred,average='macro')\n",
        "    Recall_macro.append(re_macro)\n",
        "    re_micro = recall_score(y_test_cv, y_pred,average='micro')\n",
        "    Recall_micro.append(re_micro)\n",
        "\n",
        "    f1_macro = f1_score(y_test_cv, y_pred,average='macro')\n",
        "    F1_macro.append(f1_macro)\n",
        "    f1_micro = f1_score(y_test_cv, y_pred,average='micro')\n",
        "    F1_micro.append(f1_micro)\n",
        "\n",
        "    auc_ovo = roc_auc_score(y_test_cv,y_test_prob,multi_class='ovo')\n",
        "    AUC_ovo.append(auc_ovo)\n",
        "    auc_ovr = roc_auc_score(y_test_cv,y_test_prob,multi_class='ovr')\n",
        "    AUC_ovr.append(auc_ovr)\n"
      ],
      "id": "426c21a7"
    },
    {
      "cell_type": "code",
      "execution_count": 52,
      "metadata": {
        "id": "4631b43e"
      },
      "outputs": [],
      "source": [
        "result_cv = pd.DataFrame()\n",
        "result_cv[\"Train_acc\"] = acc_train\n",
        "result_cv[\"Test_acc\"] = acc_test\n",
        "result_cv[\"Precision(macro)\"] = Precision_macro\n",
        "result_cv[\"Precision(micro)\"] = Precision_micro\n",
        "result_cv[\"Recall(macro)\"] = Recall_macro\n",
        "result_cv[\"Recall(micro)\"] = Recall_micro\n",
        "result_cv[\"F1(macro)\"] = F1_macro\n",
        "result_cv[\"F1(micro)\"] = F1_micro\n",
        "result_cv[\"AUC(ovo)\"] = AUC_ovo\n",
        "result_cv[\"AUC(ovr)\"] = AUC_ovr\n",
        "result_cv[\"Train Time\"] = train_time\n",
        "result_cv[\"Test Time\"] = test_time"
      ],
      "id": "4631b43e"
    },
    {
      "cell_type": "code",
      "execution_count": 53,
      "metadata": {
        "colab": {
          "base_uri": "https://localhost:8080/"
        },
        "id": "6bf66a36",
        "outputId": "8438ba2e-b2b6-4221-e97a-3fe0cd933216"
      },
      "outputs": [
        {
          "output_type": "execute_result",
          "data": {
            "text/plain": [
              "[1823993.4418201447,\n",
              " 1727455.2643299103,\n",
              " 1913423.4488010406,\n",
              " 1728631.6480636597,\n",
              " 1714157.93800354]"
            ]
          },
          "metadata": {},
          "execution_count": 53
        }
      ],
      "source": [
        "train_time"
      ],
      "id": "6bf66a36"
    },
    {
      "cell_type": "code",
      "execution_count": 54,
      "metadata": {
        "colab": {
          "base_uri": "https://localhost:8080/"
        },
        "id": "105fd285",
        "outputId": "e0932f95-b3bc-40a7-8fd7-8bdc20fdc019"
      },
      "outputs": [
        {
          "output_type": "execute_result",
          "data": {
            "text/plain": [
              "[8056.392431259155,\n",
              " 8531.046152114868,\n",
              " 8629.985570907593,\n",
              " 8636.23332977295,\n",
              " 9803.084135055542]"
            ]
          },
          "metadata": {},
          "execution_count": 54
        }
      ],
      "source": [
        "test_time"
      ],
      "id": "105fd285"
    },
    {
      "cell_type": "code",
      "execution_count": 55,
      "metadata": {
        "id": "b92aa6da"
      },
      "outputs": [],
      "source": [
        "result_cv.to_csv(\"filename\", index=False)"
      ],
      "id": "b92aa6da"
    },
    {
      "cell_type": "code",
      "execution_count": 56,
      "metadata": {
        "id": "0663ab50"
      },
      "outputs": [],
      "source": [
        "result_cv_avg = pd.DataFrame()\n",
        "lst = []\n",
        "x = mean(acc_train)*100\n",
        "lst.append(x)\n",
        "result_cv_avg[\"Train_acc\"] = lst\n",
        "result_cv_avg[\"Test_acc\"] = mean(acc_test)*100\n",
        "result_cv_avg[\"SD\"] = np.std(acc_test)*100\n",
        "result_cv_avg[\"Precision(macro)\"] = mean(Precision_macro)\n",
        "result_cv_avg[\"Precision(micro)\"] = mean(Precision_micro)\n",
        "result_cv_avg[\"Recall(macro)\"] = mean(Recall_macro)\n",
        "result_cv_avg[\"Recall(micro)\"] = mean(Recall_micro)\n",
        "result_cv_avg[\"F1(macro)\"] = mean(F1_macro)\n",
        "result_cv_avg[\"F1(micro)\"] = mean(F1_micro)\n",
        "result_cv_avg[\"AUC(ovo)\"] = mean(AUC_ovo)\n",
        "result_cv_avg[\"AUC(ovr)\"] = mean(AUC_ovr)"
      ],
      "id": "0663ab50"
    },
    {
      "cell_type": "code",
      "execution_count": 57,
      "metadata": {
        "id": "b3d296c7"
      },
      "outputs": [],
      "source": [
        "result_cv_avg.to_csv(\"filename\", index=False)"
      ],
      "id": "b3d296c7"
    },
    {
      "cell_type": "code",
      "execution_count": 58,
      "metadata": {
        "colab": {
          "base_uri": "https://localhost:8080/"
        },
        "id": "d737dfcb",
        "outputId": "5acb671f-3d8f-488f-90e8-4208f713dc58"
      },
      "outputs": [
        {
          "output_type": "execute_result",
          "data": {
            "text/plain": [
              "[0.9997009122177359,\n",
              " 0.9995015203628932,\n",
              " 0.9996012162903145,\n",
              " 0.9994516723991825,\n",
              " 0.9997009122177359]"
            ]
          },
          "metadata": {},
          "execution_count": 58
        }
      ],
      "source": [
        "acc_train"
      ],
      "id": "d737dfcb"
    },
    {
      "cell_type": "code",
      "execution_count": 59,
      "metadata": {
        "colab": {
          "base_uri": "https://localhost:8080/"
        },
        "id": "5601cc70",
        "outputId": "a82e7cd6-39a9-468a-e7fb-2d21f62087fa"
      },
      "outputs": [
        {
          "output_type": "execute_result",
          "data": {
            "text/plain": [
              "[0.9467623747569912,\n",
              " 0.9439210408254822,\n",
              " 0.9491550770151039,\n",
              " 0.9484073575594437,\n",
              " 0.942874233587558]"
            ]
          },
          "metadata": {},
          "execution_count": 59
        }
      ],
      "source": [
        "acc_test"
      ],
      "id": "5601cc70"
    },
    {
      "cell_type": "code",
      "execution_count": 60,
      "metadata": {
        "colab": {
          "base_uri": "https://localhost:8080/"
        },
        "id": "a183e93a",
        "outputId": "73633cc6-54e4-455d-b924-4cfefb37b393"
      },
      "outputs": [
        {
          "output_type": "execute_result",
          "data": {
            "text/plain": [
              "[0.9456945055077887,\n",
              " 0.9425123811825179,\n",
              " 0.946128725775819,\n",
              " 0.9483794659705543,\n",
              " 0.940193735816378]"
            ]
          },
          "metadata": {},
          "execution_count": 60
        }
      ],
      "source": [
        "Precision_macro"
      ],
      "id": "a183e93a"
    },
    {
      "cell_type": "code",
      "execution_count": 61,
      "metadata": {
        "colab": {
          "base_uri": "https://localhost:8080/"
        },
        "id": "919cba03",
        "outputId": "604bad78-c8d7-48aa-ca62-a566abb8615f"
      },
      "outputs": [
        {
          "output_type": "execute_result",
          "data": {
            "text/plain": [
              "[0.9467623747569912,\n",
              " 0.9439210408254822,\n",
              " 0.9491550770151039,\n",
              " 0.9484073575594437,\n",
              " 0.942874233587558]"
            ]
          },
          "metadata": {},
          "execution_count": 61
        }
      ],
      "source": [
        "Precision_micro"
      ],
      "id": "919cba03"
    },
    {
      "cell_type": "code",
      "execution_count": 62,
      "metadata": {
        "colab": {
          "base_uri": "https://localhost:8080/"
        },
        "id": "da5922e3",
        "outputId": "894634bb-afd8-4e0e-e38f-c26ee0e51935"
      },
      "outputs": [
        {
          "output_type": "execute_result",
          "data": {
            "text/plain": [
              "[0.9465919479901745,\n",
              " 0.9443512298972281,\n",
              " 0.9475002350381269,\n",
              " 0.9495274202935383,\n",
              " 0.9420051324042191]"
            ]
          },
          "metadata": {},
          "execution_count": 62
        }
      ],
      "source": [
        "Recall_macro"
      ],
      "id": "da5922e3"
    },
    {
      "cell_type": "code",
      "execution_count": 63,
      "metadata": {
        "colab": {
          "base_uri": "https://localhost:8080/"
        },
        "id": "9da08914",
        "outputId": "00bafcb6-9fe4-4a6d-f9f9-30e7620205fd"
      },
      "outputs": [
        {
          "output_type": "execute_result",
          "data": {
            "text/plain": [
              "[0.9467623747569912,\n",
              " 0.9439210408254822,\n",
              " 0.9491550770151039,\n",
              " 0.9484073575594437,\n",
              " 0.942874233587558]"
            ]
          },
          "metadata": {},
          "execution_count": 63
        }
      ],
      "source": [
        "Recall_micro"
      ],
      "id": "9da08914"
    },
    {
      "cell_type": "code",
      "execution_count": 64,
      "metadata": {
        "colab": {
          "base_uri": "https://localhost:8080/"
        },
        "id": "d06098bb",
        "outputId": "a7bdb9e2-d3d4-4166-ebe8-e514937ec5a1"
      },
      "outputs": [
        {
          "output_type": "execute_result",
          "data": {
            "text/plain": [
              "[0.945976610597895,\n",
              " 0.9430531883799925,\n",
              " 0.9467078560896328,\n",
              " 0.9489030130406095,\n",
              " 0.9408100397364859]"
            ]
          },
          "metadata": {},
          "execution_count": 64
        }
      ],
      "source": [
        "F1_macro"
      ],
      "id": "d06098bb"
    },
    {
      "cell_type": "code",
      "execution_count": 65,
      "metadata": {
        "colab": {
          "base_uri": "https://localhost:8080/"
        },
        "id": "c98a6d5f",
        "outputId": "f426f978-9ad4-41b5-fa0f-aec07d6eb326"
      },
      "outputs": [
        {
          "output_type": "execute_result",
          "data": {
            "text/plain": [
              "[0.9467623747569912,\n",
              " 0.9439210408254822,\n",
              " 0.9491550770151039,\n",
              " 0.9484073575594437,\n",
              " 0.942874233587558]"
            ]
          },
          "metadata": {},
          "execution_count": 65
        }
      ],
      "source": [
        "F1_micro"
      ],
      "id": "c98a6d5f"
    },
    {
      "cell_type": "code",
      "execution_count": 66,
      "metadata": {
        "colab": {
          "base_uri": "https://localhost:8080/"
        },
        "id": "ae3f919c",
        "outputId": "c818b4d9-3b14-4186-b1ac-1b99289dc7fe"
      },
      "outputs": [
        {
          "output_type": "execute_result",
          "data": {
            "text/plain": [
              "[0.995133694987299,\n",
              " 0.9956578513108406,\n",
              " 0.9955941486580325,\n",
              " 0.9956116042780809,\n",
              " 0.9956250479991572]"
            ]
          },
          "metadata": {},
          "execution_count": 66
        }
      ],
      "source": [
        "AUC_ovo"
      ],
      "id": "ae3f919c"
    },
    {
      "cell_type": "code",
      "execution_count": 67,
      "metadata": {
        "colab": {
          "base_uri": "https://localhost:8080/"
        },
        "id": "9bc6fd04",
        "outputId": "88c21fe1-4a10-43dc-e14f-19b6e54f306d"
      },
      "outputs": [
        {
          "output_type": "stream",
          "name": "stdout",
          "text": [
            "1\n"
          ]
        }
      ],
      "source": [
        "index = np.argmax(AUC_ovo)\n",
        "print(index)"
      ],
      "id": "9bc6fd04"
    },
    {
      "cell_type": "code",
      "execution_count": 68,
      "metadata": {
        "colab": {
          "base_uri": "https://localhost:8080/"
        },
        "id": "a85635c8",
        "outputId": "cf4cf68a-4a73-438e-e385-a663610c9869"
      },
      "outputs": [
        {
          "output_type": "execute_result",
          "data": {
            "text/plain": [
              "[0.9951688191175991,\n",
              " 0.9956618743848998,\n",
              " 0.9957322222820145,\n",
              " 0.9955439037052437,\n",
              " 0.9956784550933576]"
            ]
          },
          "metadata": {},
          "execution_count": 68
        }
      ],
      "source": [
        "AUC_ovr"
      ],
      "id": "a85635c8"
    },
    {
      "cell_type": "code",
      "execution_count": 69,
      "metadata": {
        "colab": {
          "base_uri": "https://localhost:8080/"
        },
        "id": "005129c3",
        "outputId": "5f8ed0f8-cf93-46cb-831b-aed00ca1e15b"
      },
      "outputs": [
        {
          "output_type": "stream",
          "name": "stdout",
          "text": [
            "Accuracy(Train): 99.96 %\n",
            "Accuracy(Test): 94.62 %\n",
            "Standard Deviation: 0.25%\n",
            "Precision (macro): 0.945\n",
            "Precision (micro): 0.946\n",
            "Recall (macro): 0.946\n",
            "Recall (micro): 0.946\n",
            "F1 (macro): 0.945\n",
            "F1 (micro): 0.946\n",
            "AUC (ovo): 0.996\n",
            "AUC (ovr): 0.996\n"
          ]
        }
      ],
      "source": [
        "print(\"Accuracy(Train): {:.2f} %\".format(mean(acc_train)*100))\n",
        "print(\"Accuracy(Test): {:.2f} %\".format(mean(acc_test)*100))\n",
        "print(\"Standard Deviation: {:.2f}%\".format(np.std(acc_test)*100))\n",
        "print(\"Precision (macro): %.3f\" %mean(Precision_macro))\n",
        "print(\"Precision (micro): %.3f\" %mean(Precision_micro))\n",
        "print(\"Recall (macro): %.3f\" %mean(Recall_macro))\n",
        "print(\"Recall (micro): %.3f\" %mean(Recall_micro))\n",
        "print(\"F1 (macro): %.3f\" %mean(F1_macro))\n",
        "print(\"F1 (micro): %.3f\" %mean(F1_micro))\n",
        "print(\"AUC (ovo): %.3f\" %mean(AUC_ovo))\n",
        "print(\"AUC (ovr): %.3f\" %mean(AUC_ovr))"
      ],
      "id": "005129c3"
    },
    {
      "cell_type": "code",
      "execution_count": 70,
      "metadata": {
        "id": "c4760cea"
      },
      "outputs": [],
      "source": [
        "from numpy import interp"
      ],
      "id": "c4760cea"
    },
    {
      "cell_type": "code",
      "execution_count": 71,
      "metadata": {
        "colab": {
          "base_uri": "https://localhost:8080/"
        },
        "id": "804ffd5e",
        "outputId": "35707309-dad9-4172-d80d-6ccf2d9fd73e"
      },
      "outputs": [
        {
          "output_type": "stream",
          "name": "stdout",
          "text": [
            "all_fpr:  [0.00000000e+00 1.62654522e-04 1.62760417e-04 1.62786912e-04\n",
            " 1.63132137e-04 1.63212012e-04 1.63371998e-04 1.63425396e-04\n",
            " 3.25309044e-04 3.25573824e-04 3.25998370e-04 3.26424025e-04\n",
            " 3.26743996e-04 3.27761390e-04 4.87963565e-04 4.89396411e-04\n",
            " 4.89636037e-04 4.90276189e-04 4.91642085e-04 6.49034561e-04\n",
            " 6.50618087e-04 6.51041667e-04 6.51147648e-04 6.51996740e-04\n",
            " 6.52528548e-04 6.52848050e-04 6.53487992e-04 8.13272609e-04\n",
            " 8.14995925e-04 8.15660685e-04 8.16060062e-04 9.75927131e-04\n",
            " 9.76562500e-04 9.78792822e-04 9.79272074e-04 9.84898227e-04\n",
            " 1.13858165e-03 1.13932292e-03 1.14099430e-03 1.14136638e-03\n",
            " 1.14192496e-03 1.14248409e-03 1.14360399e-03 1.14397777e-03\n",
            " 1.14716486e-03 1.29806912e-03 1.30123617e-03 1.30208333e-03\n",
            " 1.30229530e-03 1.30399348e-03 1.30505710e-03 1.30569610e-03\n",
            " 1.31104556e-03 1.46389070e-03 1.46484375e-03 1.46508221e-03\n",
            " 1.46818923e-03 1.46890811e-03 1.47034798e-03 1.62654522e-03\n",
            " 1.62999185e-03 1.63132137e-03 1.63212012e-03 1.63880695e-03\n",
            " 1.64149705e-03 1.78919974e-03 1.79036458e-03 1.79065603e-03\n",
            " 1.79357574e-03 1.79445351e-03 1.79767936e-03 1.95185426e-03\n",
            " 1.95312500e-03 1.95344294e-03 1.95758564e-03 1.95854415e-03\n",
            " 1.96046398e-03 2.11450878e-03 2.11588542e-03 2.12071778e-03\n",
            " 2.13394616e-03 2.27864583e-03 2.28384992e-03 2.28496817e-03\n",
            " 2.28720797e-03 2.28795555e-03 2.43981783e-03 2.44140625e-03\n",
            " 2.44698206e-03 2.44818019e-03 2.45057997e-03 2.59613824e-03\n",
            " 2.60416667e-03 2.60883744e-03 2.61011419e-03 2.61139220e-03\n",
            " 2.62639527e-03 2.76692708e-03 2.77098615e-03 2.77324633e-03\n",
            " 2.77460421e-03 2.77732397e-03 2.79054498e-03 2.92778139e-03\n",
            " 2.93016441e-03 2.94069596e-03 3.09043591e-03 3.09951060e-03\n",
            " 3.10102824e-03 3.11373320e-03 3.11884439e-03 3.25309044e-03\n",
            " 3.25520833e-03 3.26264274e-03 3.26424025e-03 3.26850793e-03\n",
            " 3.41574496e-03 3.41796875e-03 3.42577488e-03 3.43081196e-03\n",
            " 3.57839948e-03 3.58715148e-03 3.58890701e-03 3.59066427e-03\n",
            " 3.74348958e-03 3.74898126e-03 3.75203915e-03 3.75387629e-03\n",
            " 3.90370852e-03 3.91517129e-03 4.06636304e-03 4.06901042e-03\n",
            " 4.06967280e-03 4.07830343e-03 4.08030031e-03 4.08429995e-03\n",
            " 4.10374261e-03 4.24143556e-03 4.24351232e-03 4.39167209e-03\n",
            " 4.39453125e-03 4.40456770e-03 4.55729167e-03 4.55803353e-03\n",
            " 4.56993635e-03 4.71698113e-03 4.72005208e-03 4.73083197e-03\n",
            " 4.76034143e-03 4.88281250e-03 4.89396411e-03 4.89636037e-03\n",
            " 4.90276189e-03 5.04557292e-03 5.20833333e-03 5.22022838e-03\n",
            " 5.22278440e-03 5.22790394e-03 5.37109375e-03 5.38336052e-03\n",
            " 5.53025374e-03 5.53385417e-03 5.53475501e-03 5.54649266e-03\n",
            " 5.54920842e-03 5.69290826e-03 5.69661458e-03 5.71242043e-03\n",
            " 5.73582432e-03 5.87275693e-03 6.01821731e-03 6.02213542e-03\n",
            " 6.03588907e-03 6.04476393e-03 6.18087183e-03 6.34352635e-03\n",
            " 6.34765625e-03 6.36215334e-03 6.36526848e-03 6.52848050e-03\n",
            " 6.66883539e-03 6.67317708e-03 6.68841762e-03 6.83593750e-03\n",
            " 6.83705030e-03 6.84819827e-03 6.85154976e-03 6.88298918e-03\n",
            " 6.99414444e-03 7.01468189e-03 7.01811653e-03 7.16145833e-03\n",
            " 7.18836791e-03 7.19071744e-03 7.31945348e-03 7.34094617e-03\n",
            " 7.34454056e-03 7.48210800e-03 7.48697917e-03 7.50407830e-03\n",
            " 7.50775257e-03 7.67096458e-03 7.71503611e-03 7.80741705e-03\n",
            " 7.81250000e-03 7.83034258e-03 7.97526042e-03 7.99738861e-03\n",
            " 8.13272609e-03 8.13802083e-03 8.14995925e-03 8.15660685e-03\n",
            " 8.30078125e-03 8.31973899e-03 8.46354167e-03 8.48287113e-03\n",
            " 8.48702465e-03 8.49534390e-03 8.62068966e-03 8.62630208e-03\n",
            " 8.65023666e-03 8.80913540e-03 8.95182292e-03 8.97226754e-03\n",
            " 8.97666068e-03 9.11458333e-03 9.13539967e-03 9.27130774e-03\n",
            " 9.29853181e-03 9.30308471e-03 9.44010417e-03 9.44164089e-03\n",
            " 9.46166395e-03 9.59661679e-03 9.60286458e-03 9.75927131e-03\n",
            " 9.78792822e-03 9.92838542e-03 1.00845804e-02 1.00911458e-02\n",
            " 1.02773246e-02 1.02823568e-02 1.02924359e-02 1.04098894e-02\n",
            " 1.04404568e-02 1.04455688e-02 1.05794271e-02 1.07351984e-02\n",
            " 1.09049479e-02 1.10605075e-02 1.12304688e-02 1.12561175e-02\n",
            " 1.12616289e-02 1.13263296e-02 1.14192496e-02 1.14248409e-02\n",
            " 1.14716486e-02 1.15559896e-02 1.15823817e-02 1.17187500e-02\n",
            " 1.17512649e-02 1.18815104e-02 1.19086460e-02 1.19144769e-02\n",
            " 1.20071394e-02 1.20442708e-02 1.20717781e-02 1.22409009e-02\n",
            " 1.23617437e-02 1.23697917e-02 1.23919778e-02 1.23980424e-02\n",
            " 1.24041129e-02 1.25325521e-02 1.25611746e-02 1.25673250e-02\n",
            " 1.28497072e-02 1.28874388e-02 1.30208333e-02 1.30505710e-02\n",
            " 1.31835938e-02 1.32201730e-02 1.32331318e-02 1.33463542e-02\n",
            " 1.33768352e-02 1.35091146e-02 1.35399674e-02 1.35465970e-02\n",
            " 1.36629798e-02 1.36718750e-02 1.37030995e-02 1.38662316e-02\n",
            " 1.39882889e-02 1.39973958e-02 1.40293638e-02 1.41601562e-02\n",
            " 1.41924959e-02 1.41994451e-02 1.43229167e-02 1.43556281e-02\n",
            " 1.44856771e-02 1.46818923e-02 1.46890811e-02 1.48111979e-02\n",
            " 1.48450245e-02 1.49642160e-02 1.49739583e-02 1.50155051e-02\n",
            " 1.51367188e-02 1.52895250e-02 1.52994792e-02 1.53419292e-02\n",
            " 1.56148341e-02 1.56606852e-02 1.59401431e-02 1.61132812e-02\n",
            " 1.61500816e-02 1.62760417e-02 1.63132137e-02 1.64388021e-02\n",
            " 1.66476253e-02 1.67643229e-02 1.68108373e-02 1.68328158e-02\n",
            " 1.69270833e-02 1.69657423e-02 1.72413793e-02 1.72526042e-02\n",
            " 1.72920065e-02 1.73004733e-02 1.74040338e-02 1.74551387e-02\n",
            " 1.74636853e-02 1.75781250e-02 1.76268973e-02 1.77293429e-02\n",
            " 1.77437734e-02 1.77814029e-02 1.79036458e-02 1.79445351e-02\n",
            " 1.79533214e-02 1.81076672e-02 1.82173064e-02 1.82291667e-02\n",
            " 1.82707993e-02 1.82976638e-02 1.84339315e-02 1.85546875e-02\n",
            " 1.85970636e-02 1.88679245e-02 1.88802083e-02 1.89233279e-02\n",
            " 1.89325934e-02 1.90429688e-02 1.91932336e-02 1.93684896e-02\n",
            " 1.94127243e-02 1.94222295e-02 1.95185426e-02 1.95312500e-02\n",
            " 1.96940104e-02 1.98567708e-02 1.99021207e-02 1.99934448e-02\n",
            " 2.01691607e-02 2.01822917e-02 2.02283850e-02 2.02382895e-02\n",
            " 2.05078125e-02 2.06705729e-02 2.07279256e-02 2.08333333e-02\n",
            " 2.08809135e-02 2.09960938e-02 2.11588542e-02 2.11753119e-02\n",
            " 2.12071778e-02 2.14703969e-02 2.16330514e-02 2.16471354e-02\n",
            " 2.18098958e-02 2.18597064e-02 2.18704097e-02 2.22836695e-02\n",
            " 2.22981771e-02 2.26089785e-02 2.27716331e-02 2.28384992e-02\n",
            " 2.29492188e-02 2.29828851e-02 2.31761058e-02 2.32747396e-02\n",
            " 2.35025298e-02 2.36002604e-02 2.36541599e-02 2.36657418e-02\n",
            " 2.39102147e-02 2.39257812e-02 2.39804241e-02 2.42513021e-02\n",
            " 2.43066884e-02 2.44140625e-02 2.44698206e-02 2.47234873e-02\n",
            " 2.47395833e-02 2.47960848e-02 2.49023438e-02 2.50651042e-02\n",
            " 2.51346499e-02 2.52278646e-02 2.55533854e-02 2.57161458e-02\n",
            " 2.57874980e-02 2.60247235e-02 2.60416667e-02 2.61011419e-02\n",
            " 2.61139220e-02 2.61873780e-02 2.62044271e-02 2.62642741e-02\n",
            " 2.63671875e-02 2.65126871e-02 2.65299479e-02 2.66753416e-02\n",
            " 2.66927083e-02 2.69168026e-02 2.70799347e-02 2.71809896e-02\n",
            " 2.73437500e-02 2.75065104e-02 2.78320312e-02 2.80587276e-02\n",
            " 2.80724661e-02 2.81575521e-02 2.82218597e-02 2.83018868e-02\n",
            " 2.83203125e-02 2.83849918e-02 2.84645413e-02 2.85900997e-02\n",
            " 2.87253142e-02 2.88085938e-02 2.88743883e-02 2.89525049e-02\n",
            " 2.89713542e-02 2.92968750e-02 2.94404684e-02 2.94596354e-02\n",
            " 2.96223958e-02 2.99479167e-02 3.01646829e-02 3.01794454e-02\n",
            " 3.01942223e-02 3.03425775e-02 3.04361979e-02 3.05206463e-02\n",
            " 3.07617188e-02 3.09244792e-02 3.11734944e-02 3.12500000e-02\n",
            " 3.13923227e-02 3.14127604e-02 3.16476346e-02 3.17176318e-02\n",
            " 3.17382812e-02 3.19738989e-02 3.22055953e-02 3.22265625e-02\n",
            " 3.23001631e-02 3.23893229e-02 3.24632953e-02 3.25520833e-02\n",
            " 3.26264274e-02 3.27148438e-02 3.28776042e-02 3.29526917e-02\n",
            " 3.30188679e-02 3.32789560e-02 3.34420881e-02 3.35068315e-02\n",
            " 3.37683524e-02 3.38321405e-02 3.39480986e-02 3.40946166e-02\n",
            " 3.41796875e-02 3.42577488e-02 3.43424479e-02 3.44377346e-02\n",
            " 3.45052083e-02 3.46679688e-02 3.50905827e-02 3.58131206e-02\n",
            " 3.62176336e-02 3.62955729e-02 3.63784666e-02 3.64583333e-02\n",
            " 3.66210938e-02 3.68859148e-02 3.70978332e-02 3.74105400e-02\n",
            " 3.75731945e-02 3.75976562e-02 3.76835237e-02 3.77019749e-02\n",
            " 3.78985036e-02 3.79231771e-02 3.80097879e-02 3.80283989e-02\n",
            " 3.82486979e-02 3.83360522e-02 3.83864671e-02 3.84991843e-02\n",
            " 3.85180349e-02 3.87117762e-02 3.91997398e-02 3.93148450e-02\n",
            " 3.94779772e-02 3.95507812e-02 3.96411093e-02 3.98042414e-02\n",
            " 3.98503578e-02 3.98763021e-02 4.01305057e-02 4.02936378e-02\n",
            " 4.03383214e-02 4.05273438e-02 4.08563491e-02 4.10156250e-02\n",
            " 4.11294271e-02 4.14355628e-02 4.14558512e-02 4.15986949e-02\n",
            " 4.17618271e-02 4.17822752e-02 4.19921875e-02 4.21549479e-02\n",
            " 4.22512235e-02 4.23177083e-02 4.24143556e-02 4.24804688e-02\n",
            " 4.27406199e-02 4.28059896e-02 4.35562806e-02 4.37540664e-02\n",
            " 4.38825449e-02 4.39453125e-02 4.41080729e-02 4.42088091e-02\n",
            " 4.44046845e-02 4.44335938e-02 4.45350734e-02 4.50846354e-02\n",
            " 4.52179571e-02 4.54101562e-02 4.58984375e-02 4.61663948e-02\n",
            " 4.62239583e-02 4.64926591e-02 4.65191932e-02 4.66557912e-02\n",
            " 4.66786355e-02 4.66818478e-02 4.67122396e-02 4.69820555e-02\n",
            " 4.70050596e-02 4.70071568e-02 4.71698113e-02 4.74714519e-02\n",
            " 4.74946956e-02 4.76888021e-02 4.78204294e-02 4.78515625e-02\n",
            " 4.81457385e-02 4.81475437e-02 4.81947394e-02 4.83107557e-02\n",
            " 4.83398438e-02 4.85026042e-02 4.86371797e-02 4.86653646e-02\n",
            " 4.88281250e-02 4.89396411e-02 4.89636037e-02 4.91027732e-02\n",
            " 4.92659054e-02 4.96419271e-02 4.97553018e-02 4.99184339e-02\n",
            " 4.99674479e-02 5.02929688e-02 5.07812500e-02 5.13988289e-02\n",
            " 5.15497553e-02 5.15614834e-02 5.17128874e-02 5.20391517e-02\n",
            " 5.23654160e-02 5.25374105e-02 5.28971354e-02 5.30598958e-02\n",
            " 5.32071160e-02 5.35481771e-02 5.38336052e-02 5.39967374e-02\n",
            " 5.40013012e-02 5.40231761e-02 5.43230016e-02 5.43266103e-02\n",
            " 5.44861338e-02 5.45128121e-02 5.46519193e-02 5.49755302e-02\n",
            " 5.50024482e-02 5.50130208e-02 5.51656602e-02 5.51757812e-02\n",
            " 5.53025374e-02 5.58268229e-02 5.64778646e-02 5.68033854e-02\n",
            " 5.69331158e-02 5.70962480e-02 5.74225122e-02 5.87565104e-02\n",
            " 5.88907015e-02 5.90820312e-02 5.92169657e-02 5.92447917e-02\n",
            " 5.92459605e-02 5.94075521e-02 5.95723845e-02 5.97330729e-02\n",
            " 5.98958333e-02 6.03884446e-02 6.05074821e-02 6.08482871e-02\n",
            " 6.09954457e-02 6.10114192e-02 6.10412926e-02 6.13207547e-02\n",
            " 6.13376835e-02 6.14834092e-02 6.26427406e-02 6.28255208e-02\n",
            " 6.31321370e-02 6.31510417e-02 6.32726090e-02 6.34584013e-02\n",
            " 6.37846656e-02 6.39477977e-02 6.42485361e-02 6.42903646e-02\n",
            " 6.45738452e-02 6.46158854e-02 6.48991542e-02 6.59053834e-02\n",
            " 6.62316476e-02 6.65579119e-02 6.67210440e-02 6.68945312e-02\n",
            " 6.70473083e-02 6.72104405e-02 6.75367047e-02 6.75455729e-02\n",
            " 6.75697731e-02 6.77083333e-02 6.78961972e-02 6.80594092e-02\n",
            " 6.82226212e-02 6.86660111e-02 6.94942904e-02 6.96574225e-02\n",
            " 6.98547413e-02 6.99869792e-02 7.03125000e-02 7.03443773e-02\n",
            " 7.04294079e-02 7.04730832e-02 7.05920625e-02 7.06362153e-02\n",
            " 7.06380208e-02 7.08340134e-02 7.09624796e-02 7.11263021e-02\n",
            " 7.12890625e-02 7.14518229e-02 7.17306441e-02 7.27065712e-02\n",
            " 7.30318803e-02 7.30831974e-02 7.32463295e-02 7.33571893e-02\n",
            " 7.34094617e-02 7.35198439e-02 7.35677083e-02 7.38451529e-02\n",
            " 7.38932292e-02 7.40078074e-02 7.47070312e-02 7.51953125e-02\n",
            " 7.61827080e-02 7.65089723e-02 7.68352365e-02 7.78521299e-02\n",
            " 7.80153419e-02 7.82877604e-02 7.83417660e-02 7.85049780e-02\n",
            " 7.89388021e-02 7.92643229e-02 7.94453507e-02 7.96084829e-02\n",
            " 7.99347471e-02 8.01370981e-02 8.03003101e-02 8.06845966e-02\n",
            " 8.07899461e-02 8.10019519e-02 8.12795822e-02 8.14899154e-02\n",
            " 8.17292007e-02 8.18923328e-02 8.20127430e-02 8.22185971e-02\n",
            " 8.23817292e-02 8.25044839e-02 8.26822917e-02 8.27911516e-02\n",
            " 8.28450521e-02 8.28711256e-02 8.31705729e-02 8.31973899e-02\n",
            " 8.33333333e-02 8.38216146e-02 8.39297332e-02 8.41471354e-02\n",
            " 8.50683149e-02 8.53181077e-02 8.56443719e-02 8.59706362e-02\n",
            " 8.61337684e-02 8.87044271e-02 8.88671875e-02 8.93554688e-02\n",
            " 8.95182292e-02 9.02562429e-02 9.03752039e-02 9.05383361e-02\n",
            " 9.05826669e-02 9.13539967e-02 9.13987269e-02 9.15171289e-02\n",
            " 9.20515750e-02 9.23779990e-02 9.28676351e-02 9.31940591e-02\n",
            " 9.35872396e-02 9.37500000e-02 9.42382812e-02 9.44535073e-02\n",
            " 9.45022772e-02 9.46166395e-02 9.49902407e-02 9.52691680e-02\n",
            " 9.53155498e-02 9.56408588e-02 9.62914769e-02 9.64541314e-02\n",
            " 9.82433312e-02 9.84860817e-02 9.88939493e-02 9.93819128e-02\n",
            " 9.95106036e-02 1.00163132e-01 1.00260417e-01 1.00652529e-01\n",
            " 1.01074219e-01 1.01399740e-01 1.03578464e-01 1.03639628e-01\n",
            " 1.03966052e-01 1.05271748e-01 1.05434960e-01 1.05709625e-01\n",
            " 1.05761384e-01 1.06199021e-01 1.06362153e-01 1.06389933e-01\n",
            " 1.06414232e-01 1.06740656e-01 1.08327912e-01 1.08490566e-01\n",
            " 1.08723958e-01 1.08815875e-01 1.08978530e-01 1.09049479e-01\n",
            " 1.09375000e-01 1.09466493e-01 1.09537760e-01 1.10442420e-01\n",
            " 1.11256117e-01 1.11419250e-01 1.11745514e-01 1.12719584e-01\n",
            " 1.13370202e-01 1.13695511e-01 1.14346129e-01 1.16536458e-01\n",
            " 1.16861979e-01 1.16965742e-01 1.17455139e-01 1.17513021e-01\n",
            " 1.17675781e-01 1.18328709e-01 1.18655133e-01 1.19144769e-01\n",
            " 1.19307981e-01 1.19960829e-01 1.20776889e-01 1.22185971e-01\n",
            " 1.22512235e-01 1.28497072e-01 1.28822381e-01 1.29472999e-01\n",
            " 1.29635654e-01 1.31099545e-01 1.32137031e-01 1.32324219e-01\n",
            " 1.32400781e-01 1.32463295e-01 1.32563435e-01 1.32649740e-01\n",
            " 1.32812500e-01 1.32952692e-01 1.33864671e-01 1.33951823e-01\n",
            " 1.34114583e-01 1.35693215e-01 1.35955606e-01 1.36118818e-01\n",
            " 1.36445242e-01 1.37914150e-01 1.38403787e-01 1.45350734e-01\n",
            " 1.45676998e-01 1.49648750e-01 1.54196487e-01 1.54521796e-01\n",
            " 1.55436198e-01 1.55823032e-01 1.55924479e-01 1.56087240e-01\n",
            " 1.56738281e-01 1.56798959e-01 1.56901042e-01 1.56961614e-01\n",
            " 1.57937541e-01 1.58100195e-01 1.59294924e-01 1.59784560e-01\n",
            " 1.60600620e-01 1.60927044e-01 1.61253468e-01 1.64763458e-01\n",
            " 1.65252855e-01 1.85100846e-01 1.85751464e-01 1.87703318e-01\n",
            " 1.87865973e-01 1.88191282e-01 1.92100539e-01 1.92426963e-01\n",
            " 1.92590175e-01 1.00000000e+00]\n",
            "mean_tpr:  [0.55502653 0.77393355 0.77437495 0.7777786  0.78223693 0.79925783\n",
            " 0.79933037 0.79933264 0.80745171 0.80792227 0.80793952 0.80914728\n",
            " 0.81652072 0.81653174 0.8227519  0.82277015 0.82545145 0.82545814\n",
            " 0.82547242 0.82711769 0.82728885 0.82759981 0.82760079 0.82760859\n",
            " 0.82955842 0.83223817 0.83253324 0.83330355 0.83330355 0.83330355\n",
            " 0.83642965 0.83825212 0.83840791 0.8412629  0.84230766 0.84234404\n",
            " 0.84380159 0.84380638 0.84381403 0.84381574 0.84396791 0.84397201\n",
            " 0.8439792  0.8439816  0.84400206 0.84497083 0.84499116 0.84530515\n",
            " 0.84530691 0.84532104 0.84562912 0.84637731 0.84641201 0.84771267\n",
            " 0.84787051 0.84787183 0.84863706 0.85146644 0.85147175 0.85374863\n",
            " 0.85376134 0.85406547 0.85406988 0.85410072 0.85411312 0.85494884\n",
            " 0.85495421 0.85495528 0.85496599 0.85496921 0.85497809 0.85555688\n",
            " 0.85602078 0.85602196 0.85693493 0.85708904 0.85710053 0.85817699\n",
            " 0.85925951 0.86093415 0.86095265 0.86161546 0.86176745 0.86207276\n",
            " 0.86208713 0.86209193 0.86322147 0.86369207 0.86494053 0.86554025\n",
            " 0.86555143 0.86622938 0.86657371 0.86660427 0.86765991 0.86781591\n",
            " 0.867914   0.86944668 0.86945408 0.86960781 0.86976096 0.86976471\n",
            " 0.86978289 0.87012629 0.87012957 0.87014406 0.87065927 0.87082136\n",
            " 0.87082554 0.87087208 0.8708908  0.87215559 0.87247029 0.87309597\n",
            " 0.87310328 0.87311894 0.87365907 0.87505267 0.87644265 0.87646608\n",
            " 0.87730733 0.87733141 0.87763546 0.87793308 0.87854695 0.87854695\n",
            " 0.87869656 0.87884537 0.8793775  0.87983156 0.8803643  0.88051898\n",
            " 0.88051959 0.88067721 0.88082787 0.88082975 0.88083892 0.88150228\n",
            " 0.88150516 0.88171089 0.88171486 0.88187368 0.88225065 0.88225239\n",
            " 0.88228029 0.88269206 0.88270066 0.88300974 0.88302319 0.88369289\n",
            " 0.88519409 0.88519848 0.88520728 0.88555721 0.88746927 0.88763524\n",
            " 0.88763524 0.88763524 0.88778871 0.88780028 0.88849755 0.88851085\n",
            " 0.88851333 0.88884484 0.88884858 0.88966469 0.89090106 0.89093783\n",
            " 0.89099227 0.89146042 0.89159868 0.89205908 0.89310636 0.89312671\n",
            " 0.89405721 0.89458474 0.89459421 0.8947839  0.89478822 0.89516366\n",
            " 0.89551316 0.89628654 0.89645012 0.89687418 0.89687727 0.89690823\n",
            " 0.89706715 0.89712562 0.89733238 0.89737058 0.89737696 0.89764358\n",
            " 0.89770632 0.8977118  0.89801195 0.89806206 0.89806714 0.89838714\n",
            " 0.89886119 0.89904258 0.89919822 0.89935273 0.89939446 0.89948191\n",
            " 0.90009818 0.90011501 0.90077851 0.9009792  0.90129648 0.9022297\n",
            " 0.90223518 0.90223823 0.90315904 0.90330865 0.90401123 0.90453148\n",
            " 0.90469182 0.90471492 0.90506303 0.90507861 0.90527132 0.90563522\n",
            " 0.9060072  0.90611291 0.90615577 0.90820581 0.90845088 0.90870016\n",
            " 0.9087501  0.9087501  0.90877092 0.9087726  0.90954258 0.90969034\n",
            " 0.90969718 0.90979468 0.90981255 0.91132427 0.91169031 0.91170569\n",
            " 0.9117909  0.91179166 0.91179166 0.91179166 0.91194128 0.91194409\n",
            " 0.91204216 0.91245003 0.91289451 0.91300848 0.91376706 0.91382518\n",
            " 0.91398344 0.91408264 0.9142251  0.9142388  0.9143535  0.91471363\n",
            " 0.91474097 0.91491064 0.9149145  0.91845975 0.91846297 0.91846901\n",
            " 0.918565   0.91860347 0.91867087 0.91893017 0.91911544 0.91958723\n",
            " 0.91958723 0.91973684 0.91988565 0.91988565 0.91991264 0.91992126\n",
            " 0.92047161 0.92052449 0.92126415 0.92126415 0.92157108 0.92167456\n",
            " 0.92171121 0.92218496 0.92236331 0.92294844 0.92303572 0.92306055\n",
            " 0.92352303 0.92371185 0.9237476  0.92378478 0.92392455 0.92439538\n",
            " 0.92461174 0.9250383  0.92507533 0.92507691 0.92523038 0.92526122\n",
            " 0.92538385 0.92553346 0.92553346 0.92553346 0.92556535 0.92574333\n",
            " 0.92575787 0.92585909 0.92630784 0.92639193 0.92716475 0.92720412\n",
            " 0.92748832 0.92768568 0.92790836 0.92835326 0.92836871 0.92869\n",
            " 0.9288789  0.92901163 0.92903543 0.93010971 0.93025852 0.93025852\n",
            " 0.93041198 0.93041198 0.93104396 0.9310697  0.93119719 0.93120518\n",
            " 0.93130282 0.93165023 0.93166221 0.93346162 0.93352845 0.93357543\n",
            " 0.93358205 0.9335993  0.93375277 0.93382988 0.93386257 0.93443674\n",
            " 0.93474405 0.9347773  0.93483511 0.93484777 0.93506163 0.93511856\n",
            " 0.93511856 0.93524276 0.9357088  0.93572857 0.93572857 0.93572857\n",
            " 0.93608279 0.93726326 0.93734668 0.93736751 0.93759614 0.93762631\n",
            " 0.93785921 0.93809212 0.93826386 0.93828051 0.93831256 0.93831495\n",
            " 0.93853816 0.93855852 0.94013759 0.94036569 0.94039199 0.94045406\n",
            " 0.94075126 0.94229086 0.9426148  0.94263204 0.94266541 0.94288075\n",
            " 0.94301381 0.94302534 0.94346543 0.94350618 0.94365638 0.94365638\n",
            " 0.94367017 0.94418539 0.94430041 0.94449731 0.94474939 0.94478731\n",
            " 0.94500494 0.94511603 0.94530662 0.94563149 0.94584181 0.94585273\n",
            " 0.94608324 0.94625139 0.94625139 0.94683601 0.9470703  0.94778221\n",
            " 0.94778221 0.94778221 0.94793568 0.94804223 0.94826698 0.94845777\n",
            " 0.94847371 0.94849509 0.94918359 0.94937438 0.94939074 0.94944513\n",
            " 0.94944902 0.94961226 0.94961226 0.94961226 0.95037961 0.95060533\n",
            " 0.95104067 0.95110739 0.95142224 0.95162601 0.95211075 0.95256568\n",
            " 0.95282204 0.9529963  0.95332811 0.95365993 0.95370969 0.95395809\n",
            " 0.95397105 0.95405127 0.95411191 0.95426076 0.9544485  0.95456881\n",
            " 0.95464382 0.95480199 0.95497233 0.95507724 0.95509808 0.95514075\n",
            " 0.95575894 0.95629398 0.9564623  0.95663823 0.95682902 0.95690366\n",
            " 0.95729401 0.9574702  0.95752053 0.95802579 0.95818365 0.95819333\n",
            " 0.95837443 0.95870003 0.95872858 0.95873735 0.95888786 0.95890947\n",
            " 0.9589364  0.9589364  0.95924334 0.95983728 0.96027422 0.96031774\n",
            " 0.96033174 0.96065562 0.96095879 0.96129658 0.96145091 0.96163446\n",
            " 0.9616654  0.96169737 0.96178625 0.96208609 0.96212454 0.9621398\n",
            " 0.96235106 0.9623661  0.96239343 0.96272719 0.96320765 0.96328126\n",
            " 0.9633671  0.96337382 0.96353205 0.96354353 0.96389213 0.96448814\n",
            " 0.96482181 0.9648861  0.96519117 0.96534464 0.96534464 0.96542787\n",
            " 0.96549448 0.96559276 0.96564389 0.96565157 0.96573254 0.96574994\n",
            " 0.96593525 0.96595851 0.96595851 0.96595851 0.96595851 0.96599969\n",
            " 0.96602346 0.96622621 0.96625239 0.96653245 0.96723783 0.96740422\n",
            " 0.96749043 0.96759567 0.96768366 0.96769296 0.96769558 0.96769706\n",
            " 0.96771155 0.96772084 0.96772339 0.96773416 0.96775291 0.96806892\n",
            " 0.96818271 0.96847137 0.9684905  0.9687748  0.96892862 0.96895415\n",
            " 0.96921625 0.96941948 0.96974813 0.9699016  0.97014234 0.97020468\n",
            " 0.97020468 0.97022866 0.97060497 0.97063161 0.97064891 0.97081084\n",
            " 0.97096431 0.97096431 0.97096431 0.97127124 0.97136693 0.97208672\n",
            " 0.97213563 0.97220614 0.97238526 0.97248356 0.97263703 0.97263703\n",
            " 0.97266136 0.97293625 0.97293625 0.97293625 0.97293625 0.97293625\n",
            " 0.97294328 0.97294392 0.97299365 0.97308586 0.97309297 0.97330577\n",
            " 0.97334601 0.97335553 0.97363038 0.97363207 0.97367617 0.97378456\n",
            " 0.97381174 0.9738615  0.97402953 0.97421819 0.97442141 0.97449756\n",
            " 0.9745066  0.97455909 0.97491984 0.97533008 0.97566396 0.97566396\n",
            " 0.97567745 0.97576701 0.97590136 0.97620565 0.97628002 0.97628257\n",
            " 0.97631552 0.97668573 0.97675673 0.97688178 0.97714334 0.97737974\n",
            " 0.97745475 0.97778199 0.97807694 0.978312   0.97831439 0.97832585\n",
            " 0.97848291 0.9784848  0.97856837 0.9785905  0.97874817 0.97941419\n",
            " 0.97943853 0.97944488 0.97945654 0.97945732 0.979467   0.97950707\n",
            " 0.97955683 0.97958171 0.9796324  0.97983328 0.98023505 0.98119808\n",
            " 0.98125277 0.98151598 0.98182884 0.9820162  0.98201652 0.98206098\n",
            " 0.98210633 0.98215054 0.98250226 0.9826894  0.98273463 0.9828641\n",
            " 0.98287952 0.9830308  0.98303393 0.98306321 0.98306498 0.98314708\n",
            " 0.98380016 0.98381931 0.98396386 0.98428838 0.98434413 0.98442932\n",
            " 0.98442932 0.98442932 0.98447529 0.98448168 0.98452501 0.98453144\n",
            " 0.98468921 0.98524964 0.98538148 0.98566294 0.98572886 0.98579897\n",
            " 0.98583498 0.98602304 0.98609995 0.98610408 0.98610963 0.98629486\n",
            " 0.98635059 0.98654781 0.98659623 0.98672775 0.98697344 0.98698443\n",
            " 0.98699772 0.98700662 0.98700662 0.98700662 0.98700662 0.98700662\n",
            " 0.98700662 0.98715623 0.98715623 0.98721784 0.98726094 0.98733902\n",
            " 0.9875189  0.98754532 0.98761079 0.98783997 0.98791636 0.98792841\n",
            " 0.98809331 0.9881037  0.9881086  0.98811895 0.98812344 0.98812932\n",
            " 0.98813034 0.98817598 0.98845453 0.98846489 0.98863283 0.98868832\n",
            " 0.98889342 0.98929953 0.98936125 0.98961774 0.98963012 0.98966754\n",
            " 0.98976701 0.98984164 0.9898994  0.99021328 0.99024257 0.99029449\n",
            " 0.99033636 0.99043495 0.99046198 0.99051637 0.99058759 0.99064155\n",
            " 0.99070294 0.99071759 0.9907284  0.99074689 0.99076154 0.99077256\n",
            " 0.99078853 0.99078853 0.99078853 0.99078853 0.99078853 0.99078853\n",
            " 0.99080771 0.9908766  0.99089186 0.99092253 0.99108353 0.99112718\n",
            " 0.99113817 0.99129877 0.99130426 0.99166286 0.99168008 0.99173175\n",
            " 0.99174898 0.99196625 0.99200127 0.99203204 0.9920404  0.99218586\n",
            " 0.99219429 0.99221662 0.99234464 0.99242283 0.99254011 0.9926183\n",
            " 0.99271248 0.99287424 0.99289912 0.99292654 0.99293027 0.99293901\n",
            " 0.99305323 0.99313851 0.9931486  0.99321937 0.99336091 0.99339629\n",
            " 0.99394014 0.99399295 0.99408168 0.99418783 0.99451505 0.99486416\n",
            " 0.9948716  0.9948716  0.99507497 0.99511349 0.99537131 0.99537855\n",
            " 0.99541718 0.99557169 0.99559101 0.99592273 0.99592273 0.99592273\n",
            " 0.99607234 0.99607404 0.99607553 0.99609548 0.99619253 0.99620247\n",
            " 0.99621674 0.99622236 0.99623231 0.99623665 0.99625655 0.99626214\n",
            " 0.9962665  0.99632181 0.99637156 0.99637156 0.99652117 0.99660492\n",
            " 0.99666086 0.99668883 0.99674477 0.9969331  0.99696109 0.99711962\n",
            " 0.99711962 0.99712145 0.9971266  0.99716093 0.99717809 0.99720383\n",
            " 0.99721241 0.99724674 0.99728965 0.99736373 0.99737057 0.997589\n",
            " 0.99760088 0.99762462 0.99763056 0.99768399 0.99772186 0.99772578\n",
            " 0.99772578 0.99772578 0.99772578 0.99772578 0.99772578 0.99772578\n",
            " 0.99774779 0.99774989 0.99775382 0.99782601 0.99783801 0.99784547\n",
            " 0.9978604  0.99792757 0.99794996 0.99831711 0.99832648 0.99853393\n",
            " 0.99877147 0.99878846 0.99883622 0.99884808 0.99885118 0.99885617\n",
            " 0.99887612 0.99887798 0.9988811  0.99888302 0.9989138  0.99891894\n",
            " 0.99895663 0.99896859 0.99898852 0.9989965  0.99900447 0.9990902\n",
            " 0.99909065 0.99911227 0.99911298 0.99911511 0.99911528 0.99911564\n",
            " 0.9991199  0.99912025 0.99912043 1.        ]\n",
            "AUC =  0.9956832303132405\n"
          ]
        }
      ],
      "source": [
        "actual_classes = y_test_cv\n",
        "predicted_proba = y_test_prob\n",
        "\n",
        "fpr = dict()\n",
        "tpr = dict()\n",
        "roc_auc = dict()\n",
        "n_classes=12\n",
        "for i in range(n_classes):\n",
        "    fpr[i], tpr[i], _ = roc_curve(np.array(pd.get_dummies(actual_classes))[:, i], np.array(predicted_proba)[:, i])\n",
        "    roc_auc[i] = auc(fpr[i], tpr[i])\n",
        "#     print(\"fpr: \",fpr[i])\n",
        "#     print(\"tpr: \",tpr[i])\n",
        "#     print(\"roc_auc: \",roc_auc[i])\n",
        "\n",
        "all_fpr = np.unique(np.concatenate([fpr[i] for i in range(n_classes)]))\n",
        "print(\"all_fpr: \",all_fpr)\n",
        "mean_tpr = np.zeros_like(all_fpr)\n",
        "for i in range(n_classes):\n",
        "    mean_tpr += interp(all_fpr, fpr[i], tpr[i])\n",
        "mean_tpr /= n_classes\n",
        "\n",
        "fpr[\"macro\"] = all_fpr\n",
        "tpr[\"macro\"] = mean_tpr\n",
        "roc_auc[\"macro\"] = auc(fpr[\"macro\"], tpr[\"macro\"])\n",
        "print(\"mean_tpr: \",mean_tpr)\n",
        "print(\"AUC = \",roc_auc['macro'])"
      ],
      "id": "804ffd5e"
    },
    {
      "cell_type": "code",
      "execution_count": 72,
      "metadata": {
        "id": "f028e956"
      },
      "outputs": [],
      "source": [
        "roc_csv = pd.DataFrame()\n",
        "roc_csv[\"FPR(Macro)\"] = all_fpr\n",
        "roc_csv[\"TPR(Macro)\"] = mean_tpr"
      ],
      "id": "f028e956"
    },
    {
      "cell_type": "code",
      "execution_count": 73,
      "metadata": {
        "id": "769b9265"
      },
      "outputs": [],
      "source": [
        "roc_csv.to_csv(\"filename\", index=False)"
      ],
      "id": "769b9265"
    },
    {
      "cell_type": "code",
      "execution_count": 74,
      "metadata": {
        "colab": {
          "base_uri": "https://localhost:8080/",
          "height": 484
        },
        "id": "4okoIVD-OLTe",
        "outputId": "2f9f40e6-1a19-4fd4-b370-87bc92661f73"
      },
      "outputs": [
        {
          "output_type": "display_data",
          "data": {
            "text/plain": [
              "<Figure size 1100x500 with 2 Axes>"
            ],
            "image/png": "[encoded data removed]"
          },
          "metadata": {}
        }
      ],
      "source": [
        "import matplotlib.pyplot as plt\n",
        "import seaborn as sns\n",
        "from sklearn.metrics import confusion_matrix\n",
        "from sklearn.metrics import ConfusionMatrixDisplay\n",
        "import numpy as np\n",
        "\n",
        "# Assuming you have already calculated the confusion matrix 'cm' for 12 classes\n",
        "\n",
        "# Normalize the confusion matrix\n",
        "cm_normalized = cm.astype('float') / cm.sum(axis=1)[:, np.newaxis]\n",
        "sns.set(font_scale=1.2)\n",
        "# Plot the normalized confusion matrix heatmap\n",
        "fig=plt.figure(figsize=(11, 5))\n",
        "sns.heatmap(cm_normalized, annot=True, fmt='.1f', cmap='Blues', xticklabels=range(12), yticklabels=range(12))\n",
        "plt.xlabel('Predicted Labels')\n",
        "plt.ylabel('True Labels')\n",
        "fig.savefig('RRR',dpi=300, bbox_inches = 'tight')\n",
        "# plt.title('Normalized Confusion Matrix Heatmap')\n",
        "plt.show()"
      ],
      "id": "4okoIVD-OLTe"
    }
  ],
  "metadata": {
    "colab": {
      "provenance": [],
      "include_colab_link": true
    },
    "kernelspec": {
      "display_name": "Python 3",
      "name": "python3"
    },
    "language_info": {
      "codemirror_mode": {
        "name": "ipython",
        "version": 3
      },
      "file_extension": ".py",
      "mimetype": "text/x-python",
      "name": "python",
      "nbconvert_exporter": "python",
      "pygments_lexer": "ipython3",
      "version": "3.8.8"
    },
    "accelerator": "TPU"
  },
  "nbformat": 4,
  "nbformat_minor": 5
}