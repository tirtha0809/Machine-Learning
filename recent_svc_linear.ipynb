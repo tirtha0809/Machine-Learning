{
  "cells": [
    {
      "cell_type": "markdown",
      "metadata": {
        "id": "view-in-github",
        "colab_type": "text"
      },
      "source": [
        "<a href=\"https://colab.research.google.com/github/tirtha0809/Machine-Learning/blob/main/recent_svc_linear.ipynb\" target=\"_parent\"><img src=\"https://colab.research.google.com/assets/colab-badge.svg\" alt=\"Open In Colab\"/></a>"
      ]
    },
    {
      "cell_type": "markdown",
      "metadata": {
        "id": "d23c76a2"
      },
      "source": [
        "# Importing Libraries"
      ],
      "id": "d23c76a2"
    },
    {
      "cell_type": "code",
      "execution_count": 1,
      "metadata": {
        "id": "5b2cef0e"
      },
      "outputs": [],
      "source": [
        "import numpy as np\n",
        "import pandas as pd\n",
        "import tensorflow as tf\n",
        "import keras as kf\n",
        "from keras.models import Sequential\n",
        "from keras.layers import Dense\n",
        "from matplotlib import pyplot\n",
        "from os import makedirs\n",
        "from numpy import dstack\n",
        "from sklearn.linear_model import LogisticRegression\n",
        "from sklearn.neighbors import KNeighborsClassifier\n",
        "from sklearn.ensemble import GradientBoostingClassifier\n",
        "from sklearn.ensemble import RandomForestClassifier\n",
        "from sklearn.tree import DecisionTreeClassifier\n",
        "from xgboost import XGBClassifier\n",
        "from sklearn.svm import SVC\n",
        "from sklearn.naive_bayes import GaussianNB\n",
        "from sklearn.ensemble import AdaBoostClassifier\n",
        "from sklearn.preprocessing import StandardScaler\n",
        "from sklearn.model_selection import train_test_split\n",
        "from imblearn.over_sampling import SMOTE\n",
        "from sklearn.metrics import confusion_matrix, accuracy_score\n",
        "from sklearn.metrics import precision_score, recall_score, f1_score, accuracy_score,roc_auc_score,roc_curve,auc\n",
        "from statistics import mean\n",
        "import time"
      ],
      "id": "5b2cef0e"
    },
    {
      "cell_type": "code",
      "execution_count": 2,
      "metadata": {
        "colab": {
          "base_uri": "https://localhost:8080/"
        },
        "id": "obp1lLW3UQLZ",
        "outputId": "bed9d532-da5e-41da-a725-61f73a293981"
      },
      "outputs": [
        {
          "output_type": "stream",
          "name": "stdout",
          "text": [
            "Mounted at /content/drive\n"
          ]
        }
      ],
      "source": [
        "from google.colab import drive\n",
        "drive.mount('/content/drive')"
      ],
      "id": "obp1lLW3UQLZ"
    },
    {
      "cell_type": "markdown",
      "metadata": {
        "id": "78ab07f7"
      },
      "source": [
        "# Importing DataSet"
      ],
      "id": "78ab07f7"
    },
    {
      "cell_type": "code",
      "execution_count": 3,
      "metadata": {
        "colab": {
          "base_uri": "https://localhost:8080/"
        },
        "id": "9309e06d",
        "outputId": "f470326d-7e2e-47af-95d1-3760cd7f5bd7"
      },
      "outputs": [
        {
          "output_type": "stream",
          "name": "stdout",
          "text": [
            "4378\n"
          ]
        }
      ],
      "source": [
        "data = pd.read_csv('/content/drive/MyDrive/LANDSLIDE/Merged_World_LandslideData.csv') # 20 features\n",
        "dataset = data.dropna(axis = 0, how ='any')\n",
        "X =  dataset.iloc[:,1:-1].values\n",
        "y = dataset.iloc[:, -1].values\n",
        "print(len(dataset))"
      ],
      "id": "9309e06d"
    },
    {
      "cell_type": "code",
      "execution_count": 4,
      "metadata": {
        "id": "588acb2f"
      },
      "outputs": [],
      "source": [
        "#smote = SMOTE()"
      ],
      "id": "588acb2f"
    },
    {
      "cell_type": "code",
      "execution_count": 5,
      "metadata": {
        "id": "363487ad"
      },
      "outputs": [],
      "source": [
        "#x_smote, y_smote = smote.fit_resample(X, y)\n",
        "smote= SMOTE(k_neighbors = 3)\n",
        "x_smote,y_smote = smote.fit_resample(X,y)"
      ],
      "id": "363487ad"
    },
    {
      "cell_type": "code",
      "execution_count": 6,
      "metadata": {
        "id": "654f6958"
      },
      "outputs": [],
      "source": [
        "from keras.models import load_model"
      ],
      "id": "654f6958"
    },
    {
      "cell_type": "code",
      "execution_count": 7,
      "metadata": {
        "id": "67861b3e"
      },
      "outputs": [],
      "source": [
        "# create a custom function to load model\n",
        "def load_all_models(n_models):\n",
        "    all_models = list()\n",
        "    for i in range(n_models):\n",
        "        # filename\n",
        "        filename = 'north/model' + str(i + 1) + '.h5'\n",
        "        # load model\n",
        "        model = load_model(filename)\n",
        "        # Add a list of all the weaker learners\n",
        "        all_models.append(model)\n",
        "        #print('>loaded %s' % filename)\n",
        "    return all_models"
      ],
      "id": "67861b3e"
    },
    {
      "cell_type": "markdown",
      "metadata": {
        "id": "0c4c39db"
      },
      "source": [
        "## Stacking models"
      ],
      "id": "0c4c39db"
    },
    {
      "cell_type": "code",
      "execution_count": 8,
      "metadata": {
        "id": "db0754d0"
      },
      "outputs": [],
      "source": [
        "# create stacked model input dataset as outputs from the ensemble\n",
        "def stacked_dataset(members, inputX):\n",
        "    stackX = None\n",
        "    for model in members:\n",
        "        # make prediction\n",
        "        yhat = model.predict(inputX, verbose=0)\n",
        "        # stack predictions into [rows, members, probabilities]\n",
        "        if stackX is None:\n",
        "            stackX = yhat #\n",
        "        else:\n",
        "            stackX = dstack((stackX, yhat))\n",
        "    # flatten predictions to [rows, members x probabilities]\n",
        "    stackX = stackX.reshape((stackX.shape[0], stackX.shape[1]*stackX.shape[2]))\n",
        "    return stackX"
      ],
      "id": "db0754d0"
    },
    {
      "cell_type": "markdown",
      "metadata": {
        "id": "c1de75a1"
      },
      "source": [
        "## Fit meta-learner"
      ],
      "id": "c1de75a1"
    },
    {
      "cell_type": "code",
      "execution_count": 9,
      "metadata": {
        "id": "620c3aa9"
      },
      "outputs": [],
      "source": [
        "# fit a model based on the outputs from the ensemble members\n",
        "def fit_stacked_model(members, inputX, inputy):\n",
        "    # create dataset using ensemble\n",
        "    stackedX = stacked_dataset(members, inputX)\n",
        "    #print(\"Models Test time: \",(end-start) * 10**3, \"ms\")\n",
        "    # fit the meta learner\n",
        "    #model = LogisticRegression() #meta learner\n",
        "    #model = SVC(kernel = 'rbf',random_state = 0,probability= True)\n",
        "    model = SVC(kernel = 'linear', random_state = 0,probability=True)\n",
        "    #model = GaussianNB()\n",
        "    #model = KNeighborsClassifier(n_neighbors = 3, metric = 'minkowski', p = 2)\n",
        "    #model = GradientBoostingClassifier(n_estimators=50,learning_rate=0.5, max_depth=6, random_state=0)\n",
        "    #model = RandomForestClassifier(criterion = 'entropy', random_state = 0)\n",
        "    #model = DecisionTreeClassifier(max_depth=7,criterion = 'entropy', random_state = 0)\n",
        "    #model = XGBClassifier(n_estimators=50,learning_rate=0.5,max_depth=3)\n",
        "    #model = AdaBoostClassifier(n_estimators = 100, learning_rate = 1,random_state = 0)\n",
        "    #model.fit(X_train, y_train)\n",
        "    model.fit(stackedX, inputy)\n",
        "    return model"
      ],
      "id": "620c3aa9"
    },
    {
      "cell_type": "code",
      "execution_count": 10,
      "metadata": {
        "id": "46d953ea"
      },
      "outputs": [],
      "source": [
        "def stacked_prediction(members, model, inputX):\n",
        "    # create dataset using ensemble\n",
        "    stackedX = stacked_dataset(members, inputX)\n",
        "    # make a prediction\n",
        "    yhat = model.predict(stackedX)\n",
        "    return yhat"
      ],
      "id": "46d953ea"
    },
    {
      "cell_type": "code",
      "execution_count": 11,
      "metadata": {
        "id": "1bd5b4f1"
      },
      "outputs": [],
      "source": [
        "def stacked_prediction_proba(members,model,inputX):\n",
        "    # create dataset using ensemble\n",
        "    stackedX = stacked_dataset(members,inputX)\n",
        "    # make a prediction\n",
        "    yhatProb = model.predict_proba(stackedX)\n",
        "    return yhatProb"
      ],
      "id": "1bd5b4f1"
    },
    {
      "cell_type": "code",
      "execution_count": 12,
      "metadata": {
        "id": "86c41c29"
      },
      "outputs": [],
      "source": [
        "acc_train = []\n",
        "acc_test = []\n",
        "Precision_macro = []\n",
        "Precision_micro = []\n",
        "Recall_macro = []\n",
        "Recall_micro = []\n",
        "F1_macro = []\n",
        "F1_micro = []\n",
        "AUC_ovo = []\n",
        "AUC_ovr = []\n",
        "train_time = []\n",
        "test_time = []"
      ],
      "id": "86c41c29"
    },
    {
      "cell_type": "code",
      "execution_count": 13,
      "metadata": {
        "id": "--nkGullVeMc"
      },
      "outputs": [],
      "source": [
        "num_classes = 15"
      ],
      "id": "--nkGullVeMc"
    },
    {
      "cell_type": "code",
      "execution_count": 14,
      "metadata": {
        "colab": {
          "base_uri": "https://localhost:8080/"
        },
        "id": "426c21a7",
        "outputId": "5237ac56-23d0-4def-9ff5-7708c8d21dbf"
      },
      "outputs": [
        {
          "output_type": "stream",
          "name": "stdout",
          "text": [
            "[ 0.  1.  3.  4.  5.  6.  7.  8.  9. 10. 11. 12. 13. 14.]\n"
          ]
        },
        {
          "output_type": "stream",
          "name": "stderr",
          "text": [
            "/usr/local/lib/python3.10/dist-packages/keras/src/engine/training.py:3103: UserWarning: You are saving your model as an HDF5 file via `model.save()`. This file format is considered legacy. We recommend using instead the native Keras format, e.g. `model.save('my_model.keras')`.\n",
            "  saving_api.save_model(\n"
          ]
        },
        {
          "output_type": "stream",
          "name": "stdout",
          "text": [
            "Cross validation Train time:  1936511.355638504 ms\n",
            "Cross validation Test time:  9235.005378723145 ms\n",
            "[ 0.  1.  3.  4.  5.  6.  7.  8.  9. 10. 11. 12. 13. 14.]\n"
          ]
        },
        {
          "output_type": "stream",
          "name": "stderr",
          "text": [
            "/usr/local/lib/python3.10/dist-packages/keras/src/engine/training.py:3103: UserWarning: You are saving your model as an HDF5 file via `model.save()`. This file format is considered legacy. We recommend using instead the native Keras format, e.g. `model.save('my_model.keras')`.\n",
            "  saving_api.save_model(\n"
          ]
        },
        {
          "output_type": "stream",
          "name": "stdout",
          "text": [
            "Cross validation Train time:  1910178.1566143036 ms\n",
            "Cross validation Test time:  10044.493198394775 ms\n",
            "[ 0.  1.  3.  4.  5.  6.  7.  8.  9. 10. 11. 12. 13. 14.]\n"
          ]
        },
        {
          "output_type": "stream",
          "name": "stderr",
          "text": [
            "/usr/local/lib/python3.10/dist-packages/keras/src/engine/training.py:3103: UserWarning: You are saving your model as an HDF5 file via `model.save()`. This file format is considered legacy. We recommend using instead the native Keras format, e.g. `model.save('my_model.keras')`.\n",
            "  saving_api.save_model(\n"
          ]
        },
        {
          "output_type": "stream",
          "name": "stdout",
          "text": [
            "Cross validation Train time:  1848587.058544159 ms\n",
            "Cross validation Test time:  9533.38885307312 ms\n",
            "[ 0.  1.  3.  4.  5.  6.  7.  8.  9. 10. 11. 12. 13. 14.]\n"
          ]
        },
        {
          "output_type": "stream",
          "name": "stderr",
          "text": [
            "/usr/local/lib/python3.10/dist-packages/keras/src/engine/training.py:3103: UserWarning: You are saving your model as an HDF5 file via `model.save()`. This file format is considered legacy. We recommend using instead the native Keras format, e.g. `model.save('my_model.keras')`.\n",
            "  saving_api.save_model(\n"
          ]
        },
        {
          "output_type": "stream",
          "name": "stdout",
          "text": [
            "Cross validation Train time:  1793603.4638881683 ms\n",
            "Cross validation Test time:  10791.713953018188 ms\n",
            "[ 0.  1.  3.  4.  5.  6.  7.  8.  9. 10. 11. 12. 13. 14.]\n"
          ]
        },
        {
          "output_type": "stream",
          "name": "stderr",
          "text": [
            "/usr/local/lib/python3.10/dist-packages/keras/src/engine/training.py:3103: UserWarning: You are saving your model as an HDF5 file via `model.save()`. This file format is considered legacy. We recommend using instead the native Keras format, e.g. `model.save('my_model.keras')`.\n",
            "  saving_api.save_model(\n"
          ]
        },
        {
          "output_type": "stream",
          "name": "stdout",
          "text": [
            "Cross validation Train time:  1809139.5192146301 ms\n",
            "Cross validation Test time:  8110.167503356934 ms\n"
          ]
        }
      ],
      "source": [
        "for i in range(0,5):\n",
        "\n",
        "    X_train_cv, X_test_cv, y_train_cv, y_test_cv = train_test_split(x_smote, y_smote, test_size = 0.25,random_state = i)\n",
        "    y_train_cv = y_train_cv - 1\n",
        "    y_test_cv = y_test_cv - 1\n",
        "\n",
        "    sc = StandardScaler()\n",
        "    X_train_cv = sc.fit_transform(X_train_cv)\n",
        "    X_test_cv = sc.transform(X_test_cv)\n",
        "    unique_labels = np.unique(y_train_cv)\n",
        "    print(unique_labels)\n",
        "\n",
        "    start = time.time()\n",
        "    # Model 1\n",
        "    ann1 = Sequential()\n",
        "    ann1.add(tf.keras.layers.Dense(units=15, activation='relu'))\n",
        "    ann1.add(tf.keras.layers.Dense(units=20, activation='relu'))\n",
        "    ann1.add(tf.keras.layers.Dense(units=num_classes, activation='softmax'))\n",
        "    ann1.compile(optimizer = 'adam', loss = kf.losses.SparseCategoricalCrossentropy(), metrics = [kf.metrics.CategoricalAccuracy()])\n",
        "    ann1.fit(X_train_cv, y_train_cv, batch_size = 128, epochs = 100,verbose=0)\n",
        "\n",
        "    # Model 2\n",
        "    ann2 = Sequential()\n",
        "    ann2.add(tf.keras.layers.Dense(units=10, activation='relu'))\n",
        "    ann2.add(tf.keras.layers.Dense(units=15, activation='relu'))\n",
        "    ann2.add(tf.keras.layers.Dense(units=25, activation='relu'))\n",
        "    ann2.add(tf.keras.layers.Dense(units=num_classes, activation='softmax'))\n",
        "    ann2.compile(optimizer = 'adam', loss = kf.losses.SparseCategoricalCrossentropy(), metrics = [kf.metrics.CategoricalAccuracy()])\n",
        "    ann2.fit(X_train_cv, y_train_cv, batch_size = 128, epochs = 150,verbose=0)\n",
        "\n",
        "    # Model 3\n",
        "    ann3 = Sequential()\n",
        "    ann3.add(tf.keras.layers.Dense(units=20, activation='relu'))\n",
        "    ann3.add(tf.keras.layers.Dense(units=25, activation='relu'))\n",
        "    ann3.add(tf.keras.layers.Dense(units=30, activation='relu'))\n",
        "    ann3.add(tf.keras.layers.Dense(units=num_classes, activation='softmax'))\n",
        "    ann3.compile(optimizer = 'adam', loss = kf.losses.SparseCategoricalCrossentropy(), metrics = [kf.metrics.CategoricalAccuracy()])\n",
        "    ann3.fit(X_train_cv, y_train_cv, batch_size = 128, epochs = 180,verbose=0)\n",
        "\n",
        "    # Model 4\n",
        "\n",
        "    ann4 = Sequential()\n",
        "    ann4.add(tf.keras.layers.Dense(units=30, activation='relu'))\n",
        "    ann4.add(tf.keras.layers.Dense(units=35, activation='relu'))\n",
        "    ann4.add(tf.keras.layers.Dense(units=40, activation='relu'))\n",
        "    ann4.add(tf.keras.layers.Dense(units=num_classes, activation='softmax'))\n",
        "    ann4.compile(optimizer = 'adam', loss = kf.losses.SparseCategoricalCrossentropy(), metrics = [kf.metrics.CategoricalAccuracy()])\n",
        "    ann4.fit(X_train_cv, y_train_cv, batch_size = 128, epochs = 200,verbose=0)\n",
        "\n",
        "    # Model 5\n",
        "\n",
        "    ann5 = Sequential()\n",
        "    ann5.add(tf.keras.layers.Dense(units=40, activation='relu'))\n",
        "    ann5.add(tf.keras.layers.Dense(units=50, activation='relu'))\n",
        "    ann5.add(tf.keras.layers.Dense(units=55, activation='relu'))\n",
        "    ann5.add(tf.keras.layers.Dense(units=num_classes, activation='softmax'))\n",
        "    ann5.compile(optimizer = 'adam', loss = kf.losses.SparseCategoricalCrossentropy(), metrics = [kf.metrics.CategoricalAccuracy()])\n",
        "    ann5.fit(X_train_cv, y_train_cv, batch_size = 128, epochs = 250,verbose=0)\n",
        "\n",
        "    # Model 6\n",
        "\n",
        "    ann6 = Sequential()\n",
        "    ann6.add(tf.keras.layers.Dense(units=35, activation='relu'))\n",
        "    ann6.add(tf.keras.layers.Dense(units=45, activation='relu'))\n",
        "    ann6.add(tf.keras.layers.Dense(units=50, activation='relu'))\n",
        "    ann6.add(tf.keras.layers.Dense(units=num_classes, activation='softmax'))\n",
        "    ann6.compile(optimizer = 'adam', loss = kf.losses.SparseCategoricalCrossentropy(), metrics = [kf.metrics.CategoricalAccuracy()])\n",
        "    ann6.fit(X_train_cv, y_train_cv, batch_size = 128, epochs = 300,verbose=0)\n",
        "\n",
        "    # Model 7\n",
        "\n",
        "    ann7 = Sequential()\n",
        "    ann7.add(tf.keras.layers.Dense(units=35, activation='relu'))\n",
        "    ann7.add(tf.keras.layers.Dense(units=45, activation='relu'))\n",
        "    ann7.add(tf.keras.layers.Dense(units=50, activation='relu'))\n",
        "    ann7.add(tf.keras.layers.Dense(units=num_classes, activation='softmax'))\n",
        "    ann7.compile(optimizer = 'adam', loss = kf.losses.SparseCategoricalCrossentropy(), metrics = [kf.metrics.CategoricalAccuracy()])\n",
        "    ann7.fit(X_train_cv, y_train_cv, batch_size = 128, epochs = 300,verbose=0)\n",
        "\n",
        "    # Model 8\n",
        "\n",
        "    ann8 = Sequential()\n",
        "    ann8.add(tf.keras.layers.Dense(units=35, activation='relu'))\n",
        "    ann8.add(tf.keras.layers.Dense(units=45, activation='relu'))\n",
        "    ann8.add(tf.keras.layers.Dense(units=50, activation='relu'))\n",
        "    ann8.add(tf.keras.layers.Dense(units=num_classes, activation='softmax'))\n",
        "    ann8.compile(optimizer = 'adam', loss = kf.losses.SparseCategoricalCrossentropy(), metrics = [kf.metrics.CategoricalAccuracy()])\n",
        "    ann8.fit(X_train_cv, y_train_cv, batch_size = 128, epochs = 300,verbose=0)\n",
        "\n",
        "    # Model 9\n",
        "\n",
        "    ann9 = Sequential()\n",
        "    ann9.add(tf.keras.layers.Dense(units=35, activation='relu'))\n",
        "    ann9.add(tf.keras.layers.Dense(units=45, activation='relu'))\n",
        "    ann9.add(tf.keras.layers.Dense(units=50, activation='relu'))\n",
        "    ann9.add(tf.keras.layers.Dense(units=num_classes, activation='softmax'))\n",
        "    ann9.compile(optimizer = 'adam', loss = kf.losses.SparseCategoricalCrossentropy(), metrics = [kf.metrics.CategoricalAccuracy()])\n",
        "    ann9.fit(X_train_cv, y_train_cv, batch_size = 128, epochs = 300,verbose=0)\n",
        "\n",
        "    # Model 10\n",
        "\n",
        "    ann10 = Sequential()\n",
        "    ann10.add(tf.keras.layers.Dense(units=35, activation='relu'))\n",
        "    ann10.add(tf.keras.layers.Dense(units=45, activation='relu'))\n",
        "    ann10.add(tf.keras.layers.Dense(units=50, activation='relu'))\n",
        "    ann10.add(tf.keras.layers.Dense(units=num_classes, activation='softmax'))\n",
        "    ann10.compile(optimizer = 'adam', loss = kf.losses.SparseCategoricalCrossentropy(), metrics = [kf.metrics.CategoricalAccuracy()])\n",
        "    ann10.fit(X_train_cv, y_train_cv, batch_size = 128, epochs = 300,verbose=0)\n",
        "    # Model 11\n",
        "\n",
        "    ann11 = Sequential()\n",
        "    ann11.add(tf.keras.layers.Dense(units=35, activation='relu'))\n",
        "    ann11.add(tf.keras.layers.Dense(units=45, activation='relu'))\n",
        "    ann11.add(tf.keras.layers.Dense(units=50, activation='relu'))\n",
        "    ann11.add(tf.keras.layers.Dense(units=num_classes, activation='softmax'))\n",
        "    ann11.compile(optimizer = 'adam', loss = kf.losses.SparseCategoricalCrossentropy(), metrics = [kf.metrics.CategoricalAccuracy()])\n",
        "    ann11.fit(X_train_cv, y_train_cv, batch_size = 128, epochs = 300,verbose=0)\n",
        "\n",
        "    # Model 12\n",
        "\n",
        "    ann12 = Sequential()\n",
        "    ann12.add(tf.keras.layers.Dense(units=35, activation='relu'))\n",
        "    ann12.add(tf.keras.layers.Dense(units=45, activation='relu'))\n",
        "    ann12.add(tf.keras.layers.Dense(units=50, activation='relu'))\n",
        "    ann12.add(tf.keras.layers.Dense(units=num_classes, activation='softmax'))\n",
        "    ann12.compile(optimizer = 'adam', loss = kf.losses.SparseCategoricalCrossentropy(), metrics = [kf.metrics.CategoricalAccuracy()])\n",
        "    ann12.fit(X_train_cv, y_train_cv, batch_size = 128, epochs = 300,verbose=0)\n",
        "\n",
        "    # Model 13\n",
        "\n",
        "    ann13 = Sequential()\n",
        "    ann13.add(tf.keras.layers.Dense(units=35, activation='relu'))\n",
        "    ann13.add(tf.keras.layers.Dense(units=45, activation='relu'))\n",
        "    ann13.add(tf.keras.layers.Dense(units=50, activation='relu'))\n",
        "    ann13.add(tf.keras.layers.Dense(units=num_classes, activation='softmax'))\n",
        "    ann13.compile(optimizer = 'adam', loss = kf.losses.SparseCategoricalCrossentropy(), metrics = [kf.metrics.CategoricalAccuracy()])\n",
        "    ann13.fit(X_train_cv, y_train_cv, batch_size = 128, epochs = 300,verbose=0)\n",
        "\n",
        "    # Model 14\n",
        "\n",
        "    ann14 = Sequential()\n",
        "    ann14.add(tf.keras.layers.Dense(units=35, activation='relu'))\n",
        "    ann14.add(tf.keras.layers.Dense(units=45, activation='relu'))\n",
        "    ann14.add(tf.keras.layers.Dense(units=50, activation='relu'))\n",
        "    ann14.add(tf.keras.layers.Dense(units=num_classes, activation='softmax'))\n",
        "    ann14.compile(optimizer = 'adam', loss = kf.losses.SparseCategoricalCrossentropy(), metrics = [kf.metrics.CategoricalAccuracy()])\n",
        "    ann14.fit(X_train_cv, y_train_cv, batch_size = 128, epochs = 300,verbose=0)\n",
        "\n",
        "    # Model 15\n",
        "\n",
        "    ann15 = Sequential()\n",
        "    ann15.add(tf.keras.layers.Dense(units=35, activation='relu'))\n",
        "    ann15.add(tf.keras.layers.Dense(units=45, activation='sigmoid'))\n",
        "    ann15.add(tf.keras.layers.Dense(units=50, activation='relu'))\n",
        "    ann15.add(tf.keras.layers.Dense(units=num_classes, activation='softmax'))\n",
        "    ann15.compile(optimizer = 'adam', loss = kf.losses.SparseCategoricalCrossentropy(), metrics = [kf.metrics.CategoricalAccuracy()])\n",
        "    ann15.fit(X_train_cv, y_train_cv, batch_size = 128, epochs = 300,verbose=0)\n",
        "\n",
        "    # Model 16\n",
        "\n",
        "    ann16 = Sequential()\n",
        "    ann16.add(tf.keras.layers.Dense(units=35, activation='relu'))\n",
        "    ann16.add(tf.keras.layers.Dense(units=45, activation= 'sigmoid'))\n",
        "    ann16.add(tf.keras.layers.Dense(units=50, activation='relu'))\n",
        "    ann16.add(tf.keras.layers.Dense(units=num_classes, activation='softmax'))\n",
        "    ann16.compile(optimizer = 'adam', loss = kf.losses.SparseCategoricalCrossentropy(), metrics = [kf.metrics.CategoricalAccuracy()])\n",
        "    ann16.fit(X_train_cv, y_train_cv, batch_size = 128, epochs = 300,verbose=0)\n",
        "\n",
        "    ann1.save('north/model1.h5')\n",
        "    ann2.save('north/model2.h5')\n",
        "    ann3.save('north/model3.h5')\n",
        "    ann4.save('north/model4.h5')\n",
        "    ann5.save('north/model5.h5')\n",
        "    ann6.save('north/model6.h5')\n",
        "    ann7.save('north/model7.h5')\n",
        "    ann8.save('north/model8.h5')\n",
        "    ann9.save('north/model9.h5')\n",
        "    ann10.save('north/model10.h5')\n",
        "    ann11.save('north/model11.h5')\n",
        "    ann12.save('north/model12.h5')\n",
        "    ann13.save('north/model13.h5')\n",
        "    ann14.save('north/model14.h5')\n",
        "    ann15.save('north/model15.h5')\n",
        "    ann16.save('north/model16.h5')\n",
        "\n",
        "    members = load_all_models(16)\n",
        "    model = fit_stacked_model(members, X_train_cv,y_train_cv)\n",
        "    end = time.time()\n",
        "    print(\"Cross validation Train time: \",(end-start) * 10**3, \"ms\")\n",
        "    t = (end-start)*1000\n",
        "    train_time.append(t)\n",
        "\n",
        "    start = time.time()\n",
        "    y_pred = stacked_prediction(members, model, X_test_cv)\n",
        "    end = time.time()\n",
        "\n",
        "    t = (end - start)*1000\n",
        "    test_time.append(t)\n",
        "\n",
        "    print(\"Cross validation Test time: \",(end-start) * 10**3, \"ms\")\n",
        "    y_test_prob = stacked_prediction_proba(members,model,X_test_cv)\n",
        "    y_train_pred = stacked_prediction(members, model, X_train_cv)\n",
        "\n",
        "    cm = confusion_matrix(y_test_cv, y_pred)\n",
        "\n",
        "\n",
        "    accuracy = accuracy_score(y_test_cv, y_pred)\n",
        "    acc_test.append(accuracy)\n",
        "    accuracy_train = accuracy_score(y_train_cv, y_train_pred)\n",
        "    acc_train.append(accuracy_train)\n",
        "\n",
        "    pre_macro = precision_score(y_test_cv, y_pred,average='macro')\n",
        "    Precision_macro.append(pre_macro)\n",
        "    pre_micro = precision_score(y_test_cv, y_pred,average='micro')\n",
        "    Precision_micro.append(pre_micro)\n",
        "\n",
        "    re_macro = recall_score(y_test_cv, y_pred,average='macro')\n",
        "    Recall_macro.append(re_macro)\n",
        "    re_micro = recall_score(y_test_cv, y_pred,average='micro')\n",
        "    Recall_micro.append(re_micro)\n",
        "\n",
        "    f1_macro = f1_score(y_test_cv, y_pred,average='macro')\n",
        "    F1_macro.append(f1_macro)\n",
        "    f1_micro = f1_score(y_test_cv, y_pred,average='micro')\n",
        "    F1_micro.append(f1_micro)\n",
        "\n",
        "    auc_ovo = roc_auc_score(y_test_cv,y_test_prob,multi_class='ovo')\n",
        "    AUC_ovo.append(auc_ovo)\n",
        "    auc_ovr = roc_auc_score(y_test_cv,y_test_prob,multi_class='ovr')\n",
        "    AUC_ovr.append(auc_ovr)\n"
      ],
      "id": "426c21a7"
    },
    {
      "cell_type": "code",
      "execution_count": 15,
      "metadata": {
        "id": "4631b43e"
      },
      "outputs": [],
      "source": [
        "result_cv = pd.DataFrame()\n",
        "result_cv[\"Train_acc\"] = acc_train\n",
        "result_cv[\"Test_acc\"] = acc_test\n",
        "result_cv[\"Precision(macro)\"] = Precision_macro\n",
        "result_cv[\"Precision(micro)\"] = Precision_micro\n",
        "result_cv[\"Recall(macro)\"] = Recall_macro\n",
        "result_cv[\"Recall(micro)\"] = Recall_micro\n",
        "result_cv[\"F1(macro)\"] = F1_macro\n",
        "result_cv[\"F1(micro)\"] = F1_micro\n",
        "result_cv[\"AUC(ovo)\"] = AUC_ovo\n",
        "result_cv[\"AUC(ovr)\"] = AUC_ovr\n",
        "result_cv[\"Train Time\"] = train_time\n",
        "result_cv[\"Test Time\"] = test_time"
      ],
      "id": "4631b43e"
    },
    {
      "cell_type": "code",
      "execution_count": 16,
      "metadata": {
        "colab": {
          "base_uri": "https://localhost:8080/"
        },
        "id": "6bf66a36",
        "outputId": "2dbf6d64-90fd-4aa2-84d9-bc1014883fe9"
      },
      "outputs": [
        {
          "output_type": "execute_result",
          "data": {
            "text/plain": [
              "[1936511.355638504,\n",
              " 1910178.1566143036,\n",
              " 1848587.058544159,\n",
              " 1793603.4638881683,\n",
              " 1809139.5192146301]"
            ]
          },
          "metadata": {},
          "execution_count": 16
        }
      ],
      "source": [
        "train_time"
      ],
      "id": "6bf66a36"
    },
    {
      "cell_type": "code",
      "execution_count": 17,
      "metadata": {
        "colab": {
          "base_uri": "https://localhost:8080/"
        },
        "id": "105fd285",
        "outputId": "1e903570-88d2-456c-cba6-b9bdbb9fbe44"
      },
      "outputs": [
        {
          "output_type": "execute_result",
          "data": {
            "text/plain": [
              "[9235.005378723145,\n",
              " 10044.493198394775,\n",
              " 9533.38885307312,\n",
              " 10791.713953018188,\n",
              " 8110.167503356934]"
            ]
          },
          "metadata": {},
          "execution_count": 17
        }
      ],
      "source": [
        "test_time"
      ],
      "id": "105fd285"
    },
    {
      "cell_type": "code",
      "execution_count": 18,
      "metadata": {
        "id": "b92aa6da"
      },
      "outputs": [],
      "source": [
        "result_cv.to_csv(\"filename\", index=False)"
      ],
      "id": "b92aa6da"
    },
    {
      "cell_type": "code",
      "execution_count": 19,
      "metadata": {
        "id": "0663ab50"
      },
      "outputs": [],
      "source": [
        "result_cv_avg = pd.DataFrame()\n",
        "lst = []\n",
        "x = mean(acc_train)*100\n",
        "lst.append(x)\n",
        "result_cv_avg[\"Train_acc\"] = lst\n",
        "result_cv_avg[\"Test_acc\"] = mean(acc_test)*100\n",
        "result_cv_avg[\"SD\"] = np.std(acc_test)*100\n",
        "result_cv_avg[\"Precision(macro)\"] = mean(Precision_macro)\n",
        "result_cv_avg[\"Precision(micro)\"] = mean(Precision_micro)\n",
        "result_cv_avg[\"Recall(macro)\"] = mean(Recall_macro)\n",
        "result_cv_avg[\"Recall(micro)\"] = mean(Recall_micro)\n",
        "result_cv_avg[\"F1(macro)\"] = mean(F1_macro)\n",
        "result_cv_avg[\"F1(micro)\"] = mean(F1_micro)\n",
        "result_cv_avg[\"AUC(ovo)\"] = mean(AUC_ovo)\n",
        "result_cv_avg[\"AUC(ovr)\"] = mean(AUC_ovr)"
      ],
      "id": "0663ab50"
    },
    {
      "cell_type": "code",
      "execution_count": 20,
      "metadata": {
        "id": "b3d296c7"
      },
      "outputs": [],
      "source": [
        "result_cv_avg.to_csv(\"filename\", index=False)"
      ],
      "id": "b3d296c7"
    },
    {
      "cell_type": "code",
      "execution_count": 21,
      "metadata": {
        "colab": {
          "base_uri": "https://localhost:8080/"
        },
        "id": "d737dfcb",
        "outputId": "f06e71e7-4ab8-479c-f1d5-18680faa7f98"
      },
      "outputs": [
        {
          "output_type": "execute_result",
          "data": {
            "text/plain": [
              "[0.99837710869101,\n",
              " 0.9982062780269059,\n",
              " 0.9981635703608798,\n",
              " 0.9978219090326713,\n",
              " 0.9976937860345932]"
            ]
          },
          "metadata": {},
          "execution_count": 21
        }
      ],
      "source": [
        "acc_train"
      ],
      "id": "d737dfcb"
    },
    {
      "cell_type": "code",
      "execution_count": 22,
      "metadata": {
        "colab": {
          "base_uri": "https://localhost:8080/"
        },
        "id": "5601cc70",
        "outputId": "3bc1d021-de68-4868-f431-590c5b0e6fa5"
      },
      "outputs": [
        {
          "output_type": "execute_result",
          "data": {
            "text/plain": [
              "[0.9350416399743754,\n",
              " 0.9345291479820628,\n",
              " 0.9352978859705318,\n",
              " 0.934657270980141,\n",
              " 0.9369634849455477]"
            ]
          },
          "metadata": {},
          "execution_count": 22
        }
      ],
      "source": [
        "acc_test"
      ],
      "id": "5601cc70"
    },
    {
      "cell_type": "code",
      "execution_count": 23,
      "metadata": {
        "colab": {
          "base_uri": "https://localhost:8080/"
        },
        "id": "a183e93a",
        "outputId": "6fa5f6df-7e43-4d76-c3fd-4050b631afec"
      },
      "outputs": [
        {
          "output_type": "execute_result",
          "data": {
            "text/plain": [
              "[0.9350230928743206,\n",
              " 0.9351665055019526,\n",
              " 0.9357726166925895,\n",
              " 0.9341803663463363,\n",
              " 0.9334708848231805]"
            ]
          },
          "metadata": {},
          "execution_count": 23
        }
      ],
      "source": [
        "Precision_macro"
      ],
      "id": "a183e93a"
    },
    {
      "cell_type": "code",
      "execution_count": 24,
      "metadata": {
        "colab": {
          "base_uri": "https://localhost:8080/"
        },
        "id": "919cba03",
        "outputId": "a48475f5-a5ff-4a04-f430-f1f95c8fd619"
      },
      "outputs": [
        {
          "output_type": "execute_result",
          "data": {
            "text/plain": [
              "[0.9350416399743754,\n",
              " 0.9345291479820628,\n",
              " 0.9352978859705318,\n",
              " 0.934657270980141,\n",
              " 0.9369634849455477]"
            ]
          },
          "metadata": {},
          "execution_count": 24
        }
      ],
      "source": [
        "Precision_micro"
      ],
      "id": "919cba03"
    },
    {
      "cell_type": "code",
      "execution_count": 25,
      "metadata": {
        "colab": {
          "base_uri": "https://localhost:8080/"
        },
        "id": "da5922e3",
        "outputId": "e37f43e8-2ce9-44d7-e79b-8a11c87933ed"
      },
      "outputs": [
        {
          "output_type": "execute_result",
          "data": {
            "text/plain": [
              "[0.9354751974777253,\n",
              " 0.9360204160858707,\n",
              " 0.9354965572868207,\n",
              " 0.9346905649019124,\n",
              " 0.9346515138568977]"
            ]
          },
          "metadata": {},
          "execution_count": 25
        }
      ],
      "source": [
        "Recall_macro"
      ],
      "id": "da5922e3"
    },
    {
      "cell_type": "code",
      "execution_count": 26,
      "metadata": {
        "colab": {
          "base_uri": "https://localhost:8080/"
        },
        "id": "9da08914",
        "outputId": "e7563f49-e32d-442e-9840-b2de9f9819a1"
      },
      "outputs": [
        {
          "output_type": "execute_result",
          "data": {
            "text/plain": [
              "[0.9350416399743754,\n",
              " 0.9345291479820628,\n",
              " 0.9352978859705318,\n",
              " 0.934657270980141,\n",
              " 0.9369634849455477]"
            ]
          },
          "metadata": {},
          "execution_count": 26
        }
      ],
      "source": [
        "Recall_micro"
      ],
      "id": "9da08914"
    },
    {
      "cell_type": "code",
      "execution_count": 27,
      "metadata": {
        "colab": {
          "base_uri": "https://localhost:8080/"
        },
        "id": "d06098bb",
        "outputId": "2025890b-60df-4381-e552-4c5a25b736be"
      },
      "outputs": [
        {
          "output_type": "execute_result",
          "data": {
            "text/plain": [
              "[0.934524266344619,\n",
              " 0.9353613549174197,\n",
              " 0.9354625991455701,\n",
              " 0.9342498790020258,\n",
              " 0.9339096992155741]"
            ]
          },
          "metadata": {},
          "execution_count": 27
        }
      ],
      "source": [
        "F1_macro"
      ],
      "id": "d06098bb"
    },
    {
      "cell_type": "code",
      "execution_count": 28,
      "metadata": {
        "colab": {
          "base_uri": "https://localhost:8080/"
        },
        "id": "c98a6d5f",
        "outputId": "04c3c898-4245-42ec-d12a-048dbc32e0c9"
      },
      "outputs": [
        {
          "output_type": "execute_result",
          "data": {
            "text/plain": [
              "[0.9350416399743754,\n",
              " 0.9345291479820628,\n",
              " 0.9352978859705318,\n",
              " 0.934657270980141,\n",
              " 0.9369634849455477]"
            ]
          },
          "metadata": {},
          "execution_count": 28
        }
      ],
      "source": [
        "F1_micro"
      ],
      "id": "c98a6d5f"
    },
    {
      "cell_type": "code",
      "execution_count": 29,
      "metadata": {
        "colab": {
          "base_uri": "https://localhost:8080/"
        },
        "id": "ae3f919c",
        "outputId": "a6f2a3f6-0422-4f3d-fd75-60e6f81cf5f4"
      },
      "outputs": [
        {
          "output_type": "execute_result",
          "data": {
            "text/plain": [
              "[0.9949233738561264,\n",
              " 0.9946896042109166,\n",
              " 0.9948484121909474,\n",
              " 0.9944845193834171,\n",
              " 0.9944303500763975]"
            ]
          },
          "metadata": {},
          "execution_count": 29
        }
      ],
      "source": [
        "AUC_ovo"
      ],
      "id": "ae3f919c"
    },
    {
      "cell_type": "code",
      "execution_count": 30,
      "metadata": {
        "colab": {
          "base_uri": "https://localhost:8080/"
        },
        "id": "9bc6fd04",
        "outputId": "4744e699-694d-453b-bc8c-765ffa577cc7"
      },
      "outputs": [
        {
          "output_type": "stream",
          "name": "stdout",
          "text": [
            "0\n"
          ]
        }
      ],
      "source": [
        "index = np.argmax(AUC_ovo)\n",
        "print(index)"
      ],
      "id": "9bc6fd04"
    },
    {
      "cell_type": "code",
      "execution_count": 31,
      "metadata": {
        "colab": {
          "base_uri": "https://localhost:8080/"
        },
        "id": "a85635c8",
        "outputId": "a8d1f832-4394-436a-cdf1-8a5d59d407bd"
      },
      "outputs": [
        {
          "output_type": "execute_result",
          "data": {
            "text/plain": [
              "[0.9949045075035671,\n",
              " 0.9946220624392389,\n",
              " 0.9948474720714175,\n",
              " 0.9944999491624571,\n",
              " 0.99456258178551]"
            ]
          },
          "metadata": {},
          "execution_count": 31
        }
      ],
      "source": [
        "AUC_ovr"
      ],
      "id": "a85635c8"
    },
    {
      "cell_type": "code",
      "execution_count": 32,
      "metadata": {
        "colab": {
          "base_uri": "https://localhost:8080/"
        },
        "id": "005129c3",
        "outputId": "3eaffb9e-3c71-46df-ad47-09ca51ce51a4"
      },
      "outputs": [
        {
          "output_type": "stream",
          "name": "stdout",
          "text": [
            "Accuracy(Train): 99.81 %\n",
            "Accuracy(Test): 93.53 %\n",
            "Standard Deviation: 0.09%\n",
            "Precision (macro): 0.935\n",
            "Precision (micro): 0.935\n",
            "Recall (macro): 0.935\n",
            "Recall (micro): 0.935\n",
            "F1 (macro): 0.935\n",
            "F1 (micro): 0.935\n",
            "AUC (ovo): 0.995\n",
            "AUC (ovr): 0.995\n"
          ]
        }
      ],
      "source": [
        "print(\"Accuracy(Train): {:.2f} %\".format(mean(acc_train)*100))\n",
        "print(\"Accuracy(Test): {:.2f} %\".format(mean(acc_test)*100))\n",
        "print(\"Standard Deviation: {:.2f}%\".format(np.std(acc_test)*100))\n",
        "print(\"Precision (macro): %.3f\" %mean(Precision_macro))\n",
        "print(\"Precision (micro): %.3f\" %mean(Precision_micro))\n",
        "print(\"Recall (macro): %.3f\" %mean(Recall_macro))\n",
        "print(\"Recall (micro): %.3f\" %mean(Recall_micro))\n",
        "print(\"F1 (macro): %.3f\" %mean(F1_macro))\n",
        "print(\"F1 (micro): %.3f\" %mean(F1_micro))\n",
        "print(\"AUC (ovo): %.3f\" %mean(AUC_ovo))\n",
        "print(\"AUC (ovr): %.3f\" %mean(AUC_ovr))"
      ],
      "id": "005129c3"
    },
    {
      "cell_type": "code",
      "execution_count": 33,
      "metadata": {
        "id": "c4760cea"
      },
      "outputs": [],
      "source": [
        "from numpy import interp"
      ],
      "id": "c4760cea"
    },
    {
      "cell_type": "code",
      "execution_count": 34,
      "metadata": {
        "colab": {
          "base_uri": "https://localhost:8080/"
        },
        "id": "804ffd5e",
        "outputId": "c0117533-039e-4a8c-fc2e-265872df6648"
      },
      "outputs": [
        {
          "output_type": "stream",
          "name": "stdout",
          "text": [
            "all_fpr:  [0.00000000e+00 1.37362637e-04 1.37419266e-04 1.37494844e-04\n",
            " 1.37646249e-04 1.37760022e-04 1.37931034e-04 1.38677021e-04\n",
            " 2.74725275e-04 2.74989688e-04 2.75520044e-04 2.75862069e-04\n",
            " 2.77354042e-04 4.12087912e-04 4.12257799e-04 4.12484532e-04\n",
            " 4.13280066e-04 4.13793103e-04 4.16031064e-04 5.49450549e-04\n",
            " 5.49979376e-04 5.51040088e-04 5.54708085e-04 6.86813187e-04\n",
            " 6.87096331e-04 6.87474220e-04 6.88800110e-04 6.89655172e-04\n",
            " 8.24175824e-04 8.24515597e-04 8.24969064e-04 8.26560132e-04\n",
            " 8.27586207e-04 9.61538462e-04 9.61934863e-04 9.62463908e-04\n",
            " 9.65517241e-04 1.09935413e-03 1.09995875e-03 1.10208018e-03\n",
            " 1.10344828e-03 1.23626374e-03 1.23984020e-03 1.24137931e-03\n",
            " 1.37362637e-03 1.37419266e-03 1.37494844e-03 1.37931034e-03\n",
            " 1.51098901e-03 1.51161193e-03 1.51244328e-03 1.51536024e-03\n",
            " 1.51724138e-03 1.64835165e-03 1.64903119e-03 1.64993813e-03\n",
            " 1.65312026e-03 1.65517241e-03 1.78571429e-03 1.78645046e-03\n",
            " 1.78743297e-03 1.79088029e-03 1.79310345e-03 1.92307692e-03\n",
            " 1.92492782e-03 1.93103448e-03 2.06043956e-03 2.06128899e-03\n",
            " 2.06242266e-03 2.19780220e-03 2.19991750e-03 2.20416035e-03\n",
            " 2.20689655e-03 2.33516484e-03 2.33612753e-03 2.33741235e-03\n",
            " 2.34192037e-03 2.34482759e-03 2.47354679e-03 2.47490719e-03\n",
            " 2.47968040e-03 2.48275862e-03 2.61240203e-03 2.62068966e-03\n",
            " 2.74725275e-03 2.74838532e-03 2.75520044e-03 2.75862069e-03\n",
            " 2.88461538e-03 2.88580459e-03 2.89296046e-03 2.89655172e-03\n",
            " 3.03072048e-03 3.03448276e-03 3.16848051e-03 3.17241379e-03\n",
            " 3.29806239e-03 3.29987625e-03 3.44400055e-03 3.44827586e-03\n",
            " 3.57142857e-03 3.57290092e-03 3.70879121e-03 3.71032019e-03\n",
            " 3.71236079e-03 3.72413793e-03 3.84773945e-03 3.86206897e-03\n",
            " 3.99504064e-03 4.00000000e-03 4.12257799e-03 4.13793103e-03\n",
            " 4.25824176e-03 4.25999725e-03 4.27056068e-03 4.27586207e-03\n",
            " 4.39560440e-03 4.39983501e-03 4.40832071e-03 4.53296703e-03\n",
            " 4.53483578e-03 4.53732985e-03 4.54608073e-03 4.55172414e-03\n",
            " 4.67225505e-03 4.68384075e-03 4.68965517e-03 4.80967432e-03\n",
            " 4.81231954e-03 4.82758621e-03 4.94505495e-03 4.96551724e-03\n",
            " 5.08241758e-03 5.08451285e-03 5.10344828e-03 5.22193211e-03\n",
            " 5.22480407e-03 5.24137931e-03 5.35935138e-03 5.49450549e-03\n",
            " 5.49677065e-03 5.79310345e-03 5.93103448e-03 6.06896552e-03\n",
            " 6.18386698e-03 6.19920099e-03 6.20689655e-03 6.32128624e-03\n",
            " 6.32476282e-03 6.34482759e-03 6.45604396e-03 6.45870551e-03\n",
            " 6.48275862e-03 6.59340659e-03 6.59612478e-03 6.62068966e-03\n",
            " 6.73724735e-03 6.75862069e-03 6.86813187e-03 6.87096331e-03\n",
            " 6.88800110e-03 6.89655172e-03 7.00838258e-03 7.03448276e-03\n",
            " 7.14973189e-03 7.17241379e-03 7.28322111e-03 7.28722673e-03\n",
            " 7.31034483e-03 7.41758242e-03 7.42064037e-03 7.42472157e-03\n",
            " 7.58620690e-03 7.69230769e-03 7.69547891e-03 7.83289817e-03\n",
            " 7.85232126e-03 7.96703297e-03 7.97031744e-03 8.10773670e-03\n",
            " 8.24175824e-03 8.37912088e-03 8.38718548e-03 8.51648352e-03\n",
            " 8.55172414e-03 8.65384615e-03 8.67888139e-03 8.68965517e-03\n",
            " 8.79483304e-03 8.79967001e-03 8.93225230e-03 8.95440143e-03\n",
            " 9.06967157e-03 9.20329670e-03 9.20709083e-03 9.34065934e-03\n",
            " 9.37931034e-03 9.47802198e-03 9.48192937e-03 9.48714423e-03\n",
            " 9.51724138e-03 9.61538462e-03 9.65517241e-03 9.75676790e-03\n",
            " 9.78096156e-03 9.79310345e-03 9.89418717e-03 9.93103448e-03\n",
            " 1.01690257e-02 1.03064450e-02 1.03448276e-02 1.05812835e-02\n",
            " 1.05871030e-02 1.06206897e-02 1.07142857e-02 1.07187028e-02\n",
            " 1.07586207e-02 1.08561220e-02 1.08965517e-02 1.09935413e-02\n",
            " 1.10344828e-02 1.11263736e-02 1.11309606e-02 1.11370824e-02\n",
            " 1.11724138e-02 1.12683798e-02 1.14010989e-02 1.14057991e-02\n",
            " 1.15432184e-02 1.15495669e-02 1.16806376e-02 1.16870617e-02\n",
            " 1.17241379e-02 1.18131868e-02 1.18180569e-02 1.18620690e-02\n",
            " 1.19554762e-02 1.22303147e-02 1.22606420e-02 1.22758621e-02\n",
            " 1.23745360e-02 1.25051532e-02 1.25517241e-02 1.26425725e-02\n",
            " 1.26896552e-02 1.27799918e-02 1.27870205e-02 1.29120879e-02\n",
            " 1.29174110e-02 1.30548303e-02 1.32413793e-02 1.33296688e-02\n",
            " 1.34670881e-02 1.35172414e-02 1.36045074e-02 1.36551724e-02\n",
            " 1.37419266e-02 1.37494844e-02 1.38793459e-02 1.40167652e-02\n",
            " 1.41483516e-02 1.41619689e-02 1.42857143e-02 1.42916037e-02\n",
            " 1.44230769e-02 1.44369586e-02 1.45604396e-02 1.47038615e-02\n",
            " 1.47119483e-02 1.47586207e-02 1.49725275e-02 1.49787000e-02\n",
            " 1.51161193e-02 1.51244328e-02 1.51724138e-02 1.52472527e-02\n",
            " 1.52535385e-02 1.53103448e-02 1.55283771e-02 1.58032156e-02\n",
            " 1.59406349e-02 1.60000000e-02 1.60714286e-02 1.63461538e-02\n",
            " 1.63528927e-02 1.66277312e-02 1.66896552e-02 1.67582418e-02\n",
            " 1.67651505e-02 1.69025697e-02 1.69655172e-02 1.70399890e-02\n",
            " 1.71774083e-02 1.72413793e-02 1.73243503e-02 1.74522468e-02\n",
            " 1.74618452e-02 1.77197802e-02 1.77270853e-02 1.77931034e-02\n",
            " 1.78645046e-02 1.79186768e-02 1.79310345e-02 1.80019239e-02\n",
            " 1.80316586e-02 1.81943487e-02 1.82068966e-02 1.82767624e-02\n",
            " 1.82868142e-02 1.83069511e-02 1.85439560e-02 1.85516009e-02\n",
            " 1.86206897e-02 1.86335404e-02 1.86813187e-02 1.86890202e-02\n",
            " 1.88264395e-02 1.88367936e-02 1.88965517e-02 1.89095928e-02\n",
            " 1.89638587e-02 1.91012780e-02 1.93986421e-02 1.94241631e-02\n",
            " 1.95135358e-02 1.95862069e-02 1.96509551e-02 1.96757656e-02\n",
            " 1.97377502e-02 2.00138026e-02 2.00632129e-02 2.01923077e-02\n",
            " 2.02758621e-02 2.03380514e-02 2.04754707e-02 2.06128899e-02\n",
            " 2.06896552e-02 2.08791209e-02 2.11625670e-02 2.13562613e-02\n",
            " 2.13793103e-02 2.14374055e-02 2.15748248e-02 2.16006646e-02\n",
            " 2.16336153e-02 2.16551724e-02 2.17032967e-02 2.17122441e-02\n",
            " 2.18775962e-02 2.19870826e-02 2.21245019e-02 2.21366699e-02\n",
            " 2.22619211e-02 2.23993404e-02 2.24827586e-02 2.25367597e-02\n",
            " 2.26206897e-02 2.27272727e-02 2.28115982e-02 2.29490175e-02\n",
            " 2.30044346e-02 2.31436837e-02 2.32238560e-02 2.33103448e-02\n",
            " 2.33612753e-02 2.34986945e-02 2.36361138e-02 2.37735330e-02\n",
            " 2.39109523e-02 2.42758621e-02 2.43232101e-02 2.44137931e-02\n",
            " 2.44505495e-02 2.44606294e-02 2.45980486e-02 2.46896552e-02\n",
            " 2.47252747e-02 2.51034483e-02 2.51477257e-02 2.52851450e-02\n",
            " 2.53793103e-02 2.54225642e-02 2.55172414e-02 2.55599835e-02\n",
            " 2.56974028e-02 2.59722413e-02 2.60689655e-02 2.63121642e-02\n",
            " 2.63844991e-02 2.64827586e-02 2.65219184e-02 2.66206897e-02\n",
            " 2.67967569e-02 2.69341762e-02 2.70344828e-02 2.71724138e-02\n",
            " 2.73464340e-02 2.74725275e-02 2.76212725e-02 2.77586918e-02\n",
            " 2.78961110e-02 2.81709496e-02 2.82758621e-02 2.85517241e-02\n",
            " 2.88275862e-02 2.88580459e-02 2.89954652e-02 2.92413793e-02\n",
            " 2.94806447e-02 2.95451422e-02 2.96825615e-02 2.96988863e-02\n",
            " 2.97931034e-02 2.99310345e-02 3.00689655e-02 3.00948193e-02\n",
            " 3.02068966e-02 3.03696578e-02 3.04945055e-02 3.05070771e-02\n",
            " 3.07586207e-02 3.07819156e-02 3.08965517e-02 3.09193349e-02\n",
            " 3.10567542e-02 3.15934066e-02 3.17241379e-02 3.18620690e-02\n",
            " 3.18812698e-02 3.20000000e-02 3.20186890e-02 3.22758621e-02\n",
            " 3.22935276e-02 3.25683661e-02 3.27057854e-02 3.28432046e-02\n",
            " 3.29806239e-02 3.30624053e-02 3.31180431e-02 3.35303009e-02\n",
            " 3.36677202e-02 3.43548165e-02 3.44922358e-02 3.46206897e-02\n",
            " 3.49044936e-02 3.49910456e-02 3.54482759e-02 3.55862069e-02\n",
            " 3.56798457e-02 3.58516484e-02 3.60000000e-02 3.60038477e-02\n",
            " 3.61263736e-02 3.62637363e-02 3.62758621e-02 3.62786863e-02\n",
            " 3.64137931e-02 3.65517241e-02 3.68131868e-02 3.69655172e-02\n",
            " 3.71032019e-02 3.72406211e-02 3.76551724e-02 3.80651367e-02\n",
            " 3.83241758e-02 3.83399753e-02 3.84773945e-02 3.87522331e-02\n",
            " 3.88896523e-02 3.95767487e-02 3.97141679e-02 4.06761028e-02\n",
            " 4.06896552e-02 4.08135221e-02 4.09655172e-02 4.11034483e-02\n",
            " 4.15006184e-02 4.17754569e-02 4.21877147e-02 4.22109171e-02\n",
            " 4.24859068e-02 4.28965517e-02 4.30122303e-02 4.34482759e-02\n",
            " 4.35619074e-02 4.38367459e-02 4.38620690e-02 4.39741652e-02\n",
            " 4.41379310e-02 4.42758621e-02 4.43864230e-02 4.46612615e-02\n",
            " 4.49361000e-02 4.50549451e-02 4.50735193e-02 4.53483578e-02\n",
            " 4.55172414e-02 4.56231964e-02 4.57606156e-02 4.67225505e-02\n",
            " 4.68599698e-02 4.69973890e-02 4.72722276e-02 4.73901099e-02\n",
            " 4.74096468e-02 4.85090010e-02 4.89481644e-02 4.89655172e-02\n",
            " 4.94505495e-02 4.97252747e-02 4.97931034e-02 4.99106284e-02\n",
            " 5.06206897e-02 5.08965517e-02 5.09825478e-02 5.19444826e-02\n",
            " 5.21379310e-02 5.33186753e-02 5.33793103e-02 5.39310345e-02\n",
            " 5.42068966e-02 5.42582418e-02 5.42806101e-02 5.45329670e-02\n",
            " 5.54482759e-02 5.56548028e-02 5.62044799e-02 5.63418991e-02\n",
            " 5.66167377e-02 5.68915762e-02 5.70289955e-02 5.81603190e-02\n",
            " 5.83448276e-02 5.85406074e-02 5.87102984e-02 5.87586207e-02\n",
            " 5.88154459e-02 5.91724138e-02 5.93103448e-02 5.96399615e-02\n",
            " 6.00000000e-02 6.01896386e-02 6.03270579e-02 6.07393157e-02\n",
            " 6.10141542e-02 6.15638312e-02 6.25257661e-02 6.26631854e-02\n",
            " 6.31724138e-02 6.32128624e-02 6.37241379e-02 6.37828902e-02\n",
            " 6.40373780e-02 6.45517241e-02 6.45870551e-02 6.48275862e-02\n",
            " 6.52741514e-02 6.53793103e-02 6.55489900e-02 6.58238285e-02\n",
            " 6.62068966e-02 6.67586207e-02 6.67857634e-02 6.71724138e-02\n",
            " 6.73103448e-02 6.81379310e-02 6.82758621e-02 6.93967294e-02\n",
            " 6.95341487e-02 6.96715680e-02 6.97931034e-02 7.03586643e-02\n",
            " 7.04827586e-02 7.05331313e-02 7.18702762e-02 7.20000000e-02\n",
            " 7.22758621e-02 7.25573725e-02 7.26896552e-02 7.35172414e-02\n",
            " 7.35597415e-02 7.50344828e-02 7.61302735e-02 7.62758621e-02\n",
            " 7.69655172e-02 7.72413793e-02 7.84827586e-02 7.86038203e-02\n",
            " 8.02758621e-02 8.02969889e-02 8.03571429e-02 8.15172414e-02\n",
            " 8.19310345e-02 8.22068966e-02 8.32417582e-02 8.34134946e-02\n",
            " 8.35509138e-02 8.38620690e-02 8.47876872e-02 8.53793103e-02\n",
            " 8.60244606e-02 8.65741377e-02 8.68131868e-02 8.75862069e-02\n",
            " 8.78109111e-02 8.78620690e-02 8.81379310e-02 8.83241758e-02\n",
            " 8.84980074e-02 8.88736264e-02 8.90476845e-02 8.92413793e-02\n",
            " 8.99310345e-02 9.10344828e-02 9.12965764e-02 9.14835165e-02\n",
            " 9.36768150e-02 9.42068966e-02 9.42696166e-02 9.53103448e-02\n",
            " 9.57432153e-02 9.66057441e-02 9.69655172e-02 9.71034483e-02\n",
            " 9.76551724e-02 9.79310345e-02 9.82547753e-02 9.84827586e-02\n",
            " 9.90344828e-02 9.92167102e-02 1.00827586e-01 1.01241379e-01\n",
            " 1.01517241e-01 1.03172414e-01 1.03448276e-01 1.04576062e-01\n",
            " 1.04827586e-01 1.08895916e-01 1.09033411e-01 1.09793103e-01\n",
            " 1.09794738e-01 1.11172338e-01 1.11309606e-01 1.13927538e-01\n",
            " 1.16806376e-01 1.18206897e-01 1.18818681e-01 1.19093407e-01\n",
            " 1.20827586e-01 1.22115385e-01 1.22527473e-01 1.23448276e-01\n",
            " 1.24000000e-01 1.25931034e-01 1.26013467e-01 1.28624433e-01\n",
            " 1.29517241e-01 1.31318681e-01 1.38206897e-01 1.42582418e-01\n",
            " 1.42857143e-01 1.50000000e-01 1.50748935e-01 1.55586207e-01\n",
            " 1.58837305e-01 1.63586207e-01 1.64078604e-01 1.69230769e-01\n",
            " 1.72413793e-01 2.01405152e-01 2.01680672e-01 2.20509291e-01\n",
            " 2.20784584e-01 2.26728998e-01 2.27003987e-01 2.44137931e-01\n",
            " 2.44413793e-01 2.51862069e-01 2.55266075e-01 2.55543237e-01\n",
            " 2.61007591e-01 2.61283644e-01 2.64093728e-01 2.64369400e-01\n",
            " 2.72135236e-01 2.72412360e-01 2.79310345e-01 2.83221108e-01\n",
            " 3.16044931e-01 3.16322285e-01 4.43616287e-01 4.43892340e-01\n",
            " 5.14560440e-01 5.57241379e-01 7.20689655e-01 8.56826364e-01\n",
            " 8.57103295e-01 8.94324584e-01 9.05318126e-01 9.06758621e-01\n",
            " 9.08000000e-01 9.15624571e-01 9.26618112e-01 9.36237460e-01\n",
            " 9.72551724e-01 9.76551724e-01 9.98896552e-01 9.99724138e-01\n",
            " 1.00000000e+00]\n",
            "mean_tpr:  [0.75762446 0.75884895 0.75884895 0.75898321 0.76572924 0.76638335\n",
            " 0.76689815 0.77194866 0.77643845 0.77845242 0.78119967 0.78506067\n",
            " 0.78542142 0.79140782 0.79194894 0.7981251  0.79943331 0.80586832\n",
            " 0.80598857 0.81796136 0.81822989 0.81927646 0.81999796 0.82475987\n",
            " 0.82543627 0.82704744 0.82783237 0.83246558 0.84049279 0.84130448\n",
            " 0.84157301 0.84170383 0.84234733 0.84289155 0.84302683 0.84316109\n",
            " 0.84522029 0.84616726 0.84643579 0.84669743 0.84695483 0.84709089\n",
            " 0.84722171 0.84760781 0.84801597 0.84842182 0.84855608 0.84997178\n",
            " 0.85010784 0.85159593 0.85226725 0.85265972 0.85549112 0.85603534\n",
            " 0.85657647 0.85711352 0.85737517 0.85788997 0.8589784  0.85979009\n",
            " 0.86032715 0.86045797 0.86135887 0.86149492 0.86162919 0.86355969\n",
            " 0.86451207 0.86532376 0.86680067 0.86707277 0.86720704 0.86733786\n",
            " 0.86785526 0.86852128 0.86879276 0.86892825 0.86893253 0.86996213\n",
            " 0.87023269 0.87050122 0.87076286 0.87166376 0.87193229 0.87373409\n",
            " 0.87387015 0.87522296 0.87535378 0.87651208 0.87678419 0.87691947\n",
            " 0.8770503  0.8776938  0.87782462 0.87872552 0.87937963 0.87950833\n",
            " 0.87991417 0.88004844 0.88017926 0.88056536 0.88124563 0.88138091\n",
            " 0.88178907 0.88219492 0.88246345 0.88259215 0.88380968 0.88406708\n",
            " 0.88432872 0.88458612 0.8847214  0.8851075  0.88537961 0.88592074\n",
            " 0.88605156 0.88682376 0.88695982 0.88749687 0.88762769 0.88776375\n",
            " 0.88898128 0.88951834 0.88964916 0.89003526 0.89017054 0.89030136\n",
            " 0.89043006 0.89097119 0.89137398 0.89163138 0.89190349 0.89203219\n",
            " 0.89216825 0.89230353 0.89243223 0.89324392 0.89337818 0.89363558\n",
            " 0.89390614 0.8940422  0.89485389 0.89498259 0.89549739 0.89562609\n",
            " 0.89603193 0.89616275 0.89629145 0.8966973  0.89696582 0.89709452\n",
            " 0.89723058 0.89736586 0.89749456 0.89763061 0.8977659  0.8978946\n",
            " 0.89802886 0.89815756 0.89842967 0.8989708  0.89910162 0.89987382\n",
            " 0.90014438 0.90065918 0.90092771 0.90157121 0.90211234 0.9022466\n",
            " 0.902504   0.90264005 0.90318118 0.90331544 0.90344414 0.90371625\n",
            " 0.9041221  0.90425738 0.9043882  0.90466031 0.90520143 0.9061484\n",
            " 0.90628446 0.90655657 0.90669083 0.90682689 0.90695559 0.9072277\n",
            " 0.90735852 0.90761592 0.90869817 0.90883243 0.90896771 0.90909854\n",
            " 0.90963966 0.90977572 0.909911   0.91004705 0.91017575 0.91044786\n",
            " 0.91058314 0.91071741 0.91123221 0.91136826 0.91201176 0.91228232\n",
            " 0.91241315 0.91254185 0.91267713 0.91344933 0.91358461 0.91412573\n",
            " 0.91425443 0.914525   0.91465926 0.91478796 0.91506007 0.91546591\n",
            " 0.91572332 0.91612916 0.91638656 0.91665712 0.91691452 0.91705058\n",
            " 0.91772698 0.91799551 0.91825291 0.91960573 0.91974178 0.91987706\n",
            " 0.92028291 0.92041717 0.92082301 0.92095728 0.92108598 0.92122203\n",
            " 0.9214926  0.9216213  0.92175658 0.92189186 0.92202268 0.92240878\n",
            " 0.92254305 0.92294889 0.92333499 0.92360555 0.92373425 0.9241401\n",
            " 0.92427436 0.92441042 0.92508682 0.92549267 0.92562137 0.92575665\n",
            " 0.92589193 0.92602063 0.92656176 0.92669046 0.92682574 0.92696\n",
            " 0.92709528 0.92831281 0.92844887 0.92858313 0.92871919 0.92898975\n",
            " 0.92912581 0.92926007 0.92939612 0.92953141 0.92966567 0.92979437\n",
            " 0.92993042 0.93006571 0.93074211 0.93087638 0.93100508 0.93114113\n",
            " 0.93181754 0.93207494 0.93302191 0.93315719 0.93342775 0.93355645\n",
            " 0.93369251 0.93382856 0.93396384 0.93409912 0.93409912 0.93423518\n",
            " 0.93450574 0.93464102 0.93464102 0.9347763  0.93558799 0.93571669\n",
            " 0.93585096 0.93598624 0.9361205  0.93625656 0.93639184 0.93677794\n",
            " 0.93691322 0.93691322 0.93717062 0.9373059  0.9373059  0.9373059\n",
            " 0.9374346  0.93784045 0.93797471 0.93797471 0.93811076 0.93824605\n",
            " 0.93850345 0.93850345 0.9386395  0.93877478 0.93891006 0.93904433\n",
            " 0.93917303 0.93917303 0.93930831 0.93957887 0.93957887 0.93970969\n",
            " 0.93998026 0.94036636 0.94090748 0.94090748 0.94090748 0.94090748\n",
            " 0.94144861 0.94158466 0.94171336 0.94184864 0.94198392 0.94211921\n",
            " 0.94224791 0.94238396 0.9427898  0.9427898  0.9429185  0.94305379\n",
            " 0.94359491 0.94359491 0.94359491 0.94385231 0.94398837 0.94439421\n",
            " 0.94439421 0.94466477 0.94493534 0.9450696  0.94520488 0.94561073\n",
            " 0.94573943 0.94587471 0.94600341 0.94600341 0.94627397 0.94640925\n",
            " 0.94640925 0.94654007 0.94721648 0.94734518 0.94748046 0.94775102\n",
            " 0.94802159 0.94829215 0.94842743 0.94855613 0.94869141 0.94882011\n",
            " 0.94895617 0.94909145 0.94936201 0.94961941 0.94975547 0.94988417\n",
            " 0.95001945 0.95015473 0.95028343 0.95041871 0.95067611 0.95094667\n",
            " 0.95121724 0.95135252 0.95148122 0.95161204 0.95174732 0.95200472\n",
            " 0.95214    0.9522687  0.95240398 0.95253927 0.95292537 0.95331147\n",
            " 0.95344675 0.9535828  0.95371808 0.95385337 0.95398865 0.95452977\n",
            " 0.95491587 0.95504457 0.95517327 0.95530855 0.95557912 0.95570782\n",
            " 0.95583864 0.95597392 0.9561092  0.95624347 0.95637217 0.95650087\n",
            " 0.95662957 0.95690013 0.95728623 0.95742151 0.95755756 0.95769285\n",
            " 0.95782155 0.95795683 0.95808553 0.95822081 0.95835609 0.95849215\n",
            " 0.95887825 0.95900695 0.95941279 0.95979889 0.95993417 0.96006287\n",
            " 0.96033343 0.96073928 0.96100984 0.96114512 0.9612804  0.96141123\n",
            " 0.96154651 0.96222291 0.96276404 0.96289932 0.9630346  0.9631633\n",
            " 0.96329858 0.96342941 0.96355811 0.96368681 0.96381763 0.96395368\n",
            " 0.96395368 0.96408896 0.96422502 0.96449713 0.96449713 0.96463241\n",
            " 0.96476111 0.96501851 0.96515456 0.96528326 0.96541854 0.96555383\n",
            " 0.96568253 0.96581781 0.96595386 0.96622442 0.96635971 0.96663027\n",
            " 0.96730668 0.96771252 0.96811836 0.96825364 0.96838234 0.96878819\n",
            " 0.96891689 0.96917429 0.96944485 0.96998598 0.97012126 0.97012126\n",
            " 0.97012126 0.97024996 0.97038524 0.97064264 0.97077792 0.9709132\n",
            " 0.9710419  0.97117719 0.97130589 0.97143459 0.97170515 0.97184043\n",
            " 0.97197571 0.97211177 0.97224705 0.97238233 0.97263973 0.97277501\n",
            " 0.97291029 0.97304557 0.97331614 0.9735867  0.97372198 0.97385803\n",
            " 0.97399332 0.9741286  0.97426286 0.97439156 0.97466367 0.97479972\n",
            " 0.97492842 0.97506269 0.97519139 0.97532009 0.97559065 0.97572593\n",
            " 0.97585463 0.97598991 0.97611861 0.97624731 0.97637602 0.97637602\n",
            " 0.9765113  0.9765113  0.97664    0.97677528 0.97691056 0.97704584\n",
            " 0.9773164  0.97745168 0.97758697 0.97772123 0.97784993 0.97798521\n",
            " 0.97811948 0.97824818 0.97851874 0.97864744 0.97877614 0.9790467\n",
            " 0.9791754  0.97931068 0.97944597 0.97958125 0.97971653 0.97985181\n",
            " 0.97998709 0.98012237 0.98025107 0.98052163 0.98065033 0.98078116\n",
            " 0.98091644 0.98104514 0.98118042 0.98130912 0.9814444  0.9817018\n",
            " 0.98183708 0.98197236 0.98210106 0.98222976 0.98236505 0.98249375\n",
            " 0.98262245 0.98275115 0.98287985 0.98301513 0.98315041 0.98328569\n",
            " 0.98341439 0.98354967 0.98367837 0.98380919 0.98394447 0.98420188\n",
            " 0.98433058 0.98473642 0.98499382 0.98512252 0.98525678 0.98538548\n",
            " 0.98552077 0.98564947 0.98577817 0.98590687 0.98603557 0.98617085\n",
            " 0.98642825 0.98656251 0.98669857 0.98682727 0.98708467 0.98747077\n",
            " 0.98760682 0.9877421  0.98801267 0.98814137 0.98841193 0.98854063\n",
            " 0.98867591 0.98881119 0.98894725 0.98907595 0.98921123 0.98933993\n",
            " 0.98946863 0.98960468 0.98973996 0.98987602 0.9900113  0.99014\n",
            " 0.9903974  0.9906548  0.99078906 0.99092512 0.99105594 0.99118464\n",
            " 0.99131992 0.99144862 0.99157944 0.99171472 0.99197213 0.99210083\n",
            " 0.99210083 0.99210083 0.99223611 0.99236481 0.99249351 0.99262879\n",
            " 0.99288619 0.99301489 0.99314359 0.99327229 0.99352969 0.99366497\n",
            " 0.99379367 0.99392793 0.9940622  0.9941909  0.99432172 0.99445254\n",
            " 0.99458782 0.99471865 0.99485393 0.99498263 0.99498263 0.99498263\n",
            " 0.99511133 0.99524738 0.99538344 0.99551214 0.99564084 0.99576954\n",
            " 0.99590482 0.9960401  0.9961688  0.99630485 0.99643355 0.99656961\n",
            " 0.99670566 0.99684172 0.996977   0.9971057  0.99723652 0.99736522\n",
            " 0.9975005  0.99763656 0.99776526 0.99776526 0.99776526 0.99776526\n",
            " 0.99776526 0.99776526 0.99776526 0.99776526 0.99776526 0.99789396\n",
            " 0.99789396 0.99789396 0.99789396 0.99789396 0.99789396 0.99789396\n",
            " 0.99789396 0.99789396 0.99802266 0.99815794 0.99815794 0.99815794\n",
            " 0.99815794 0.99815794 0.99829399 0.99842269 0.99855139 0.99855139\n",
            " 0.99855139 0.99868667 0.99882196 0.99895066 0.99907936 0.99921464\n",
            " 0.99934992 0.9994852  0.9996139  0.9997426  0.9998713  1.\n",
            " 1.        ]\n",
            "AUC =  0.994607897407747\n"
          ]
        }
      ],
      "source": [
        "actual_classes = y_test_cv\n",
        "predicted_proba = y_test_prob\n",
        "\n",
        "fpr = dict()\n",
        "tpr = dict()\n",
        "roc_auc = dict()\n",
        "n_classes=14\n",
        "for i in range(n_classes):\n",
        "    fpr[i], tpr[i], _ = roc_curve(np.array(pd.get_dummies(actual_classes))[:, i], np.array(predicted_proba)[:, i])\n",
        "    roc_auc[i] = auc(fpr[i], tpr[i])\n",
        "#     print(\"fpr: \",fpr[i])\n",
        "#     print(\"tpr: \",tpr[i])\n",
        "#     print(\"roc_auc: \",roc_auc[i])\n",
        "\n",
        "all_fpr = np.unique(np.concatenate([fpr[i] for i in range(n_classes)]))\n",
        "print(\"all_fpr: \",all_fpr)\n",
        "mean_tpr = np.zeros_like(all_fpr)\n",
        "for i in range(n_classes):\n",
        "    mean_tpr += interp(all_fpr, fpr[i], tpr[i])\n",
        "mean_tpr /= n_classes\n",
        "\n",
        "fpr[\"macro\"] = all_fpr\n",
        "tpr[\"macro\"] = mean_tpr\n",
        "roc_auc[\"macro\"] = auc(fpr[\"macro\"], tpr[\"macro\"])\n",
        "print(\"mean_tpr: \",mean_tpr)\n",
        "print(\"AUC = \",roc_auc['macro'])"
      ],
      "id": "804ffd5e"
    },
    {
      "cell_type": "code",
      "execution_count": 35,
      "metadata": {
        "id": "f028e956"
      },
      "outputs": [],
      "source": [
        "roc_csv = pd.DataFrame()\n",
        "roc_csv[\"FPR(Macro)\"] = all_fpr\n",
        "roc_csv[\"TPR(Macro)\"] = mean_tpr"
      ],
      "id": "f028e956"
    },
    {
      "cell_type": "code",
      "execution_count": 36,
      "metadata": {
        "id": "769b9265"
      },
      "outputs": [],
      "source": [
        "roc_csv.to_csv(\"filename\", index=False)"
      ],
      "id": "769b9265"
    },
    {
      "cell_type": "code",
      "execution_count": 37,
      "metadata": {
        "colab": {
          "base_uri": "https://localhost:8080/",
          "height": 487
        },
        "id": "4okoIVD-OLTe",
        "outputId": "84a72ae2-b4a3-45a3-f996-c34214a60419"
      },
      "outputs": [
        {
          "output_type": "display_data",
          "data": {
            "text/plain": [
              "<Figure size 700x500 with 2 Axes>"
            ],
            "image/png": "[encoded data removed]"
          },
          "metadata": {}
        }
      ],
      "source": [
        "import matplotlib.pyplot as plt\n",
        "import seaborn as sns\n",
        "from sklearn.metrics import confusion_matrix\n",
        "from sklearn.metrics import ConfusionMatrixDisplay\n",
        "import numpy as np\n",
        "\n",
        "\n",
        "# Normalize the confusion matrix\n",
        "cm_normalized = cm.astype('float') / cm.sum(axis=1)[:, np.newaxis]\n",
        "\n",
        "# Plot the normalized confusion matrix heatmap\n",
        "plt.figure(figsize=(7, 5))\n",
        "sns.heatmap(cm_normalized, annot=True, fmt='.2f', cmap='Blues', xticklabels=range(14), yticklabels=range(14))\n",
        "plt.xlabel('Predicted Labels')\n",
        "plt.ylabel('True Labels')\n",
        "plt.title('Normalized Confusion Matrix Heatmap')\n",
        "plt.show()\n"
      ],
      "id": "4okoIVD-OLTe"
    }
  ],
  "metadata": {
    "colab": {
      "provenance": [],
      "include_colab_link": true
    },
    "kernelspec": {
      "display_name": "Python 3",
      "language": "python",
      "name": "python3"
    },
    "language_info": {
      "codemirror_mode": {
        "name": "ipython",
        "version": 3
      },
      "file_extension": ".py",
      "mimetype": "text/x-python",
      "name": "python",
      "nbconvert_exporter": "python",
      "pygments_lexer": "ipython3",
      "version": "3.8.8"
    }
  },
  "nbformat": 4,
  "nbformat_minor": 5
}