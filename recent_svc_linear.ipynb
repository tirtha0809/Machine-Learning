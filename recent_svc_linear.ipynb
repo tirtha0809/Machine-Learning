{
  "cells": [
    {
      "cell_type": "markdown",
      "metadata": {
        "id": "view-in-github",
        "colab_type": "text"
      },
      "source": [
        "<a href=\"https://colab.research.google.com/github/tirtha0809/Machine-Learning/blob/main/recent_svc_linear.ipynb\" target=\"_parent\"><img src=\"https://colab.research.google.com/assets/colab-badge.svg\" alt=\"Open In Colab\"/></a>"
      ]
    },
    {
      "cell_type": "markdown",
      "metadata": {
        "id": "d23c76a2"
      },
      "source": [
        "# Importing Libraries"
      ],
      "id": "d23c76a2"
    },
    {
      "cell_type": "code",
      "execution_count": null,
      "metadata": {
        "id": "5b2cef0e"
      },
      "outputs": [],
      "source": [
        "import numpy as np\n",
        "import pandas as pd\n",
        "import tensorflow as tf\n",
        "import keras as kf\n",
        "from keras.models import Sequential\n",
        "from keras.layers import Dense\n",
        "from matplotlib import pyplot\n",
        "from os import makedirs\n",
        "from numpy import dstack\n",
        "from sklearn.linear_model import LogisticRegression\n",
        "from sklearn.neighbors import KNeighborsClassifier\n",
        "from sklearn.ensemble import GradientBoostingClassifier\n",
        "from sklearn.ensemble import RandomForestClassifier\n",
        "from sklearn.tree import DecisionTreeClassifier\n",
        "from xgboost import XGBClassifier\n",
        "from sklearn.svm import SVC\n",
        "from sklearn.naive_bayes import GaussianNB\n",
        "from sklearn.ensemble import AdaBoostClassifier\n",
        "from sklearn.preprocessing import StandardScaler\n",
        "from sklearn.model_selection import train_test_split\n",
        "from imblearn.over_sampling import SMOTE\n",
        "from sklearn.metrics import confusion_matrix, accuracy_score\n",
        "from sklearn.metrics import precision_score, recall_score, f1_score, accuracy_score,roc_auc_score,roc_curve,auc\n",
        "from statistics import mean\n",
        "import time"
      ],
      "id": "5b2cef0e"
    },
    {
      "cell_type": "code",
      "execution_count": null,
      "metadata": {
        "colab": {
          "base_uri": "https://localhost:8080/"
        },
        "id": "obp1lLW3UQLZ",
        "outputId": "51e7b775-8899-4a61-825d-fc2dbe48c0ca"
      },
      "outputs": [
        {
          "name": "stdout",
          "output_type": "stream",
          "text": [
            "Mounted at /content/drive\n"
          ]
        }
      ],
      "source": [
        "from google.colab import drive\n",
        "drive.mount('/content/drive')"
      ],
      "id": "obp1lLW3UQLZ"
    },
    {
      "cell_type": "markdown",
      "metadata": {
        "id": "78ab07f7"
      },
      "source": [
        "# Importing DataSet"
      ],
      "id": "78ab07f7"
    },
    {
      "cell_type": "code",
      "execution_count": null,
      "metadata": {
        "colab": {
          "base_uri": "https://localhost:8080/"
        },
        "id": "9309e06d",
        "outputId": "61c977dd-4b03-4a30-a5db-9c8c1b0548a8"
      },
      "outputs": [
        {
          "name": "stdout",
          "output_type": "stream",
          "text": [
            "4378\n"
          ]
        }
      ],
      "source": [
        "data = pd.read_csv('/content/drive/MyDrive/LANDSLIDE/Merged_World_LandslideData.csv') # 20 features\n",
        "dataset = data.dropna(axis = 0, how ='any')\n",
        "X =  dataset.iloc[:,1:-1].values\n",
        "y = dataset.iloc[:, -1].values\n",
        "print(len(dataset))"
      ],
      "id": "9309e06d"
    },
    {
      "cell_type": "code",
      "execution_count": null,
      "metadata": {
        "id": "588acb2f"
      },
      "outputs": [],
      "source": [
        "#smote = SMOTE()"
      ],
      "id": "588acb2f"
    },
    {
      "cell_type": "code",
      "execution_count": null,
      "metadata": {
        "id": "363487ad"
      },
      "outputs": [],
      "source": [
        "#x_smote, y_smote = smote.fit_resample(X, y)\n",
        "smote= SMOTE(k_neighbors = 3)\n",
        "x_smote,y_smote = smote.fit_resample(X,y)"
      ],
      "id": "363487ad"
    },
    {
      "cell_type": "code",
      "execution_count": null,
      "metadata": {
        "id": "654f6958"
      },
      "outputs": [],
      "source": [
        "from keras.models import load_model"
      ],
      "id": "654f6958"
    },
    {
      "cell_type": "code",
      "execution_count": null,
      "metadata": {
        "id": "67861b3e"
      },
      "outputs": [],
      "source": [
        "# create a custom function to load model\n",
        "def load_all_models(n_models):\n",
        "    all_models = list()\n",
        "    for i in range(n_models):\n",
        "        # filename\n",
        "        filename = 'north/model' + str(i + 1) + '.h5'\n",
        "        # load model\n",
        "        model = load_model(filename)\n",
        "        # Add a list of all the weaker learners\n",
        "        all_models.append(model)\n",
        "        #print('>loaded %s' % filename)\n",
        "    return all_models"
      ],
      "id": "67861b3e"
    },
    {
      "cell_type": "markdown",
      "metadata": {
        "id": "0c4c39db"
      },
      "source": [
        "## Stacking models"
      ],
      "id": "0c4c39db"
    },
    {
      "cell_type": "code",
      "execution_count": null,
      "metadata": {
        "id": "db0754d0"
      },
      "outputs": [],
      "source": [
        "# create stacked model input dataset as outputs from the ensemble\n",
        "def stacked_dataset(members, inputX):\n",
        "    stackX = None\n",
        "    for model in members:\n",
        "        # make prediction\n",
        "        yhat = model.predict(inputX, verbose=0)\n",
        "        # stack predictions into [rows, members, probabilities]\n",
        "        if stackX is None:\n",
        "            stackX = yhat #\n",
        "        else:\n",
        "            stackX = dstack((stackX, yhat))\n",
        "    # flatten predictions to [rows, members x probabilities]\n",
        "    stackX = stackX.reshape((stackX.shape[0], stackX.shape[1]*stackX.shape[2]))\n",
        "    return stackX"
      ],
      "id": "db0754d0"
    },
    {
      "cell_type": "markdown",
      "metadata": {
        "id": "c1de75a1"
      },
      "source": [
        "## Fit meta-learner"
      ],
      "id": "c1de75a1"
    },
    {
      "cell_type": "code",
      "execution_count": null,
      "metadata": {
        "id": "620c3aa9"
      },
      "outputs": [],
      "source": [
        "# fit a model based on the outputs from the ensemble members\n",
        "def fit_stacked_model(members, inputX, inputy):\n",
        "    # create dataset using ensemble\n",
        "    stackedX = stacked_dataset(members, inputX)\n",
        "    #print(\"Models Test time: \",(end-start) * 10**3, \"ms\")\n",
        "    # fit the meta learner\n",
        "    #model = LogisticRegression() #meta learner\n",
        "    #model = SVC(kernel = 'rbf',random_state = 0,probability= True)\n",
        "    model = SVC(kernel = 'linear', random_state = 0,probability=True)\n",
        "    #model = GaussianNB()\n",
        "    #model = KNeighborsClassifier(n_neighbors = 3, metric = 'minkowski', p = 2)\n",
        "    #model = GradientBoostingClassifier(n_estimators=50,learning_rate=0.5, max_depth=6, random_state=0)\n",
        "    #model = RandomForestClassifier(criterion = 'entropy', random_state = 0)\n",
        "    #model = DecisionTreeClassifier(max_depth=7,criterion = 'entropy', random_state = 0)\n",
        "    #model = XGBClassifier(n_estimators=50,learning_rate=0.5,max_depth=3)\n",
        "    #model = AdaBoostClassifier(n_estimators = 100, learning_rate = 1,random_state = 0)\n",
        "    #model.fit(X_train, y_train)\n",
        "    model.fit(stackedX, inputy)\n",
        "    return model"
      ],
      "id": "620c3aa9"
    },
    {
      "cell_type": "code",
      "execution_count": null,
      "metadata": {
        "id": "46d953ea"
      },
      "outputs": [],
      "source": [
        "def stacked_prediction(members, model, inputX):\n",
        "    # create dataset using ensemble\n",
        "    stackedX = stacked_dataset(members, inputX)\n",
        "    # make a prediction\n",
        "    yhat = model.predict(stackedX)\n",
        "    return yhat"
      ],
      "id": "46d953ea"
    },
    {
      "cell_type": "code",
      "execution_count": null,
      "metadata": {
        "id": "1bd5b4f1"
      },
      "outputs": [],
      "source": [
        "def stacked_prediction_proba(members,model,inputX):\n",
        "    # create dataset using ensemble\n",
        "    stackedX = stacked_dataset(members,inputX)\n",
        "    # make a prediction\n",
        "    yhatProb = model.predict_proba(stackedX)\n",
        "    return yhatProb"
      ],
      "id": "1bd5b4f1"
    },
    {
      "cell_type": "code",
      "execution_count": null,
      "metadata": {
        "id": "86c41c29"
      },
      "outputs": [],
      "source": [
        "acc_train = []\n",
        "acc_test = []\n",
        "Precision_macro = []\n",
        "Precision_micro = []\n",
        "Recall_macro = []\n",
        "Recall_micro = []\n",
        "F1_macro = []\n",
        "F1_micro = []\n",
        "AUC_ovo = []\n",
        "AUC_ovr = []\n",
        "train_time = []\n",
        "test_time = []"
      ],
      "id": "86c41c29"
    },
    {
      "cell_type": "code",
      "execution_count": null,
      "metadata": {
        "id": "--nkGullVeMc"
      },
      "outputs": [],
      "source": [
        "num_classes = 15"
      ],
      "id": "--nkGullVeMc"
    },
    {
      "cell_type": "code",
      "execution_count": null,
      "metadata": {
        "colab": {
          "background_save": true,
          "base_uri": "https://localhost:8080/"
        },
        "id": "426c21a7",
        "outputId": "cae74583-aedc-4fdb-eacc-fb70465b1987"
      },
      "outputs": [
        {
          "name": "stdout",
          "output_type": "stream",
          "text": [
            "[ 0.  1.  3.  4.  5.  6.  7.  8.  9. 10. 11. 12. 13. 14.]\n"
          ]
        },
        {
          "name": "stderr",
          "output_type": "stream",
          "text": [
            "/usr/local/lib/python3.10/dist-packages/keras/src/engine/training.py:3103: UserWarning: You are saving your model as an HDF5 file via `model.save()`. This file format is considered legacy. We recommend using instead the native Keras format, e.g. `model.save('my_model.keras')`.\n",
            "  saving_api.save_model(\n"
          ]
        },
        {
          "name": "stdout",
          "output_type": "stream",
          "text": [
            "Cross validation Train time:  1961592.4875736237 ms\n",
            "Cross validation Test time:  9745.219945907593 ms\n",
            "[ 0.  1.  3.  4.  5.  6.  7.  8.  9. 10. 11. 12. 13. 14.]\n"
          ]
        },
        {
          "name": "stderr",
          "output_type": "stream",
          "text": [
            "/usr/local/lib/python3.10/dist-packages/keras/src/engine/training.py:3103: UserWarning: You are saving your model as an HDF5 file via `model.save()`. This file format is considered legacy. We recommend using instead the native Keras format, e.g. `model.save('my_model.keras')`.\n",
            "  saving_api.save_model(\n"
          ]
        },
        {
          "name": "stdout",
          "output_type": "stream",
          "text": [
            "Cross validation Train time:  1896903.980255127 ms\n",
            "Cross validation Test time:  9369.597911834717 ms\n",
            "[ 0.  1.  3.  4.  5.  6.  7.  8.  9. 10. 11. 12. 13. 14.]\n"
          ]
        },
        {
          "name": "stderr",
          "output_type": "stream",
          "text": [
            "/usr/local/lib/python3.10/dist-packages/keras/src/engine/training.py:3103: UserWarning: You are saving your model as an HDF5 file via `model.save()`. This file format is considered legacy. We recommend using instead the native Keras format, e.g. `model.save('my_model.keras')`.\n",
            "  saving_api.save_model(\n"
          ]
        },
        {
          "name": "stdout",
          "output_type": "stream",
          "text": [
            "Cross validation Train time:  1949490.2229309082 ms\n",
            "Cross validation Test time:  9705.512046813965 ms\n",
            "[ 0.  1.  3.  4.  5.  6.  7.  8.  9. 10. 11. 12. 13. 14.]\n"
          ]
        },
        {
          "name": "stderr",
          "output_type": "stream",
          "text": [
            "/usr/local/lib/python3.10/dist-packages/keras/src/engine/training.py:3103: UserWarning: You are saving your model as an HDF5 file via `model.save()`. This file format is considered legacy. We recommend using instead the native Keras format, e.g. `model.save('my_model.keras')`.\n",
            "  saving_api.save_model(\n"
          ]
        },
        {
          "name": "stdout",
          "output_type": "stream",
          "text": [
            "Cross validation Train time:  1975016.1786079407 ms\n",
            "Cross validation Test time:  10680.09614944458 ms\n",
            "[ 0.  1.  3.  4.  5.  6.  7.  8.  9. 10. 11. 12. 13. 14.]\n"
          ]
        },
        {
          "name": "stderr",
          "output_type": "stream",
          "text": [
            "/usr/local/lib/python3.10/dist-packages/keras/src/engine/training.py:3103: UserWarning: You are saving your model as an HDF5 file via `model.save()`. This file format is considered legacy. We recommend using instead the native Keras format, e.g. `model.save('my_model.keras')`.\n",
            "  saving_api.save_model(\n"
          ]
        },
        {
          "name": "stdout",
          "output_type": "stream",
          "text": [
            "Cross validation Train time:  1992258.9695453644 ms\n",
            "Cross validation Test time:  9791.815757751465 ms\n"
          ]
        }
      ],
      "source": [
        "for i in range(0,5):\n",
        "\n",
        "    X_train_cv, X_test_cv, y_train_cv, y_test_cv = train_test_split(x_smote, y_smote, test_size = 0.25,random_state = i)\n",
        "    y_train_cv = y_train_cv - 1\n",
        "    y_test_cv = y_test_cv - 1\n",
        "\n",
        "    sc = StandardScaler()\n",
        "    X_train_cv = sc.fit_transform(X_train_cv)\n",
        "    X_test_cv = sc.transform(X_test_cv)\n",
        "    unique_labels = np.unique(y_train_cv)\n",
        "    print(unique_labels)\n",
        "\n",
        "    start = time.time()\n",
        "    # Model 1\n",
        "    ann1 = Sequential()\n",
        "    ann1.add(tf.keras.layers.Dense(units=15, activation='relu'))\n",
        "    ann1.add(tf.keras.layers.Dense(units=20, activation='relu'))\n",
        "    ann1.add(tf.keras.layers.Dense(units=num_classes, activation='softmax'))\n",
        "    ann1.compile(optimizer = 'adam', loss = kf.losses.SparseCategoricalCrossentropy(), metrics = [kf.metrics.CategoricalAccuracy()])\n",
        "    ann1.fit(X_train_cv, y_train_cv, batch_size = 128, epochs = 100,verbose=0)\n",
        "\n",
        "    # Model 2\n",
        "    ann2 = Sequential()\n",
        "    ann2.add(tf.keras.layers.Dense(units=10, activation='relu'))\n",
        "    ann2.add(tf.keras.layers.Dense(units=15, activation='relu'))\n",
        "    ann2.add(tf.keras.layers.Dense(units=25, activation='relu'))\n",
        "    ann2.add(tf.keras.layers.Dense(units=num_classes, activation='softmax'))\n",
        "    ann2.compile(optimizer = 'adam', loss = kf.losses.SparseCategoricalCrossentropy(), metrics = [kf.metrics.CategoricalAccuracy()])\n",
        "    ann2.fit(X_train_cv, y_train_cv, batch_size = 128, epochs = 150,verbose=0)\n",
        "\n",
        "    # Model 3\n",
        "    ann3 = Sequential()\n",
        "    ann3.add(tf.keras.layers.Dense(units=20, activation='relu'))\n",
        "    ann3.add(tf.keras.layers.Dense(units=25, activation='relu'))\n",
        "    ann3.add(tf.keras.layers.Dense(units=30, activation='relu'))\n",
        "    ann3.add(tf.keras.layers.Dense(units=num_classes, activation='softmax'))\n",
        "    ann3.compile(optimizer = 'adam', loss = kf.losses.SparseCategoricalCrossentropy(), metrics = [kf.metrics.CategoricalAccuracy()])\n",
        "    ann3.fit(X_train_cv, y_train_cv, batch_size = 128, epochs = 180,verbose=0)\n",
        "\n",
        "    # Model 4\n",
        "\n",
        "    ann4 = Sequential()\n",
        "    ann4.add(tf.keras.layers.Dense(units=30, activation='relu'))\n",
        "    ann4.add(tf.keras.layers.Dense(units=35, activation='relu'))\n",
        "    ann4.add(tf.keras.layers.Dense(units=40, activation='relu'))\n",
        "    ann4.add(tf.keras.layers.Dense(units=num_classes, activation='softmax'))\n",
        "    ann4.compile(optimizer = 'adam', loss = kf.losses.SparseCategoricalCrossentropy(), metrics = [kf.metrics.CategoricalAccuracy()])\n",
        "    ann4.fit(X_train_cv, y_train_cv, batch_size = 128, epochs = 200,verbose=0)\n",
        "\n",
        "    # Model 5\n",
        "\n",
        "    ann5 = Sequential()\n",
        "    ann5.add(tf.keras.layers.Dense(units=40, activation='relu'))\n",
        "    ann5.add(tf.keras.layers.Dense(units=50, activation='relu'))\n",
        "    ann5.add(tf.keras.layers.Dense(units=55, activation='relu'))\n",
        "    ann5.add(tf.keras.layers.Dense(units=num_classes, activation='softmax'))\n",
        "    ann5.compile(optimizer = 'adam', loss = kf.losses.SparseCategoricalCrossentropy(), metrics = [kf.metrics.CategoricalAccuracy()])\n",
        "    ann5.fit(X_train_cv, y_train_cv, batch_size = 128, epochs = 250,verbose=0)\n",
        "\n",
        "    # Model 6\n",
        "\n",
        "    ann6 = Sequential()\n",
        "    ann6.add(tf.keras.layers.Dense(units=35, activation='relu'))\n",
        "    ann6.add(tf.keras.layers.Dense(units=45, activation='relu'))\n",
        "    ann6.add(tf.keras.layers.Dense(units=50, activation='relu'))\n",
        "    ann6.add(tf.keras.layers.Dense(units=num_classes, activation='softmax'))\n",
        "    ann6.compile(optimizer = 'adam', loss = kf.losses.SparseCategoricalCrossentropy(), metrics = [kf.metrics.CategoricalAccuracy()])\n",
        "    ann6.fit(X_train_cv, y_train_cv, batch_size = 128, epochs = 300,verbose=0)\n",
        "\n",
        "    # Model 7\n",
        "\n",
        "    ann7 = Sequential()\n",
        "    ann7.add(tf.keras.layers.Dense(units=35, activation='relu'))\n",
        "    ann7.add(tf.keras.layers.Dense(units=45, activation='relu'))\n",
        "    ann7.add(tf.keras.layers.Dense(units=50, activation='relu'))\n",
        "    ann7.add(tf.keras.layers.Dense(units=num_classes, activation='softmax'))\n",
        "    ann7.compile(optimizer = 'adam', loss = kf.losses.SparseCategoricalCrossentropy(), metrics = [kf.metrics.CategoricalAccuracy()])\n",
        "    ann7.fit(X_train_cv, y_train_cv, batch_size = 128, epochs = 300,verbose=0)\n",
        "\n",
        "    # Model 8\n",
        "\n",
        "    ann8 = Sequential()\n",
        "    ann8.add(tf.keras.layers.Dense(units=35, activation='relu'))\n",
        "    ann8.add(tf.keras.layers.Dense(units=45, activation='relu'))\n",
        "    ann8.add(tf.keras.layers.Dense(units=50, activation='relu'))\n",
        "    ann8.add(tf.keras.layers.Dense(units=num_classes, activation='softmax'))\n",
        "    ann8.compile(optimizer = 'adam', loss = kf.losses.SparseCategoricalCrossentropy(), metrics = [kf.metrics.CategoricalAccuracy()])\n",
        "    ann8.fit(X_train_cv, y_train_cv, batch_size = 128, epochs = 300,verbose=0)\n",
        "\n",
        "    # Model 9\n",
        "\n",
        "    ann9 = Sequential()\n",
        "    ann9.add(tf.keras.layers.Dense(units=35, activation='relu'))\n",
        "    ann9.add(tf.keras.layers.Dense(units=45, activation='relu'))\n",
        "    ann9.add(tf.keras.layers.Dense(units=50, activation='relu'))\n",
        "    ann9.add(tf.keras.layers.Dense(units=num_classes, activation='softmax'))\n",
        "    ann9.compile(optimizer = 'adam', loss = kf.losses.SparseCategoricalCrossentropy(), metrics = [kf.metrics.CategoricalAccuracy()])\n",
        "    ann9.fit(X_train_cv, y_train_cv, batch_size = 128, epochs = 300,verbose=0)\n",
        "\n",
        "    # Model 10\n",
        "\n",
        "    ann10 = Sequential()\n",
        "    ann10.add(tf.keras.layers.Dense(units=35, activation='relu'))\n",
        "    ann10.add(tf.keras.layers.Dense(units=45, activation='relu'))\n",
        "    ann10.add(tf.keras.layers.Dense(units=50, activation='relu'))\n",
        "    ann10.add(tf.keras.layers.Dense(units=num_classes, activation='softmax'))\n",
        "    ann10.compile(optimizer = 'adam', loss = kf.losses.SparseCategoricalCrossentropy(), metrics = [kf.metrics.CategoricalAccuracy()])\n",
        "    ann10.fit(X_train_cv, y_train_cv, batch_size = 128, epochs = 300,verbose=0)\n",
        "    # Model 11\n",
        "\n",
        "    ann11 = Sequential()\n",
        "    ann11.add(tf.keras.layers.Dense(units=35, activation='relu'))\n",
        "    ann11.add(tf.keras.layers.Dense(units=45, activation='relu'))\n",
        "    ann11.add(tf.keras.layers.Dense(units=50, activation='relu'))\n",
        "    ann11.add(tf.keras.layers.Dense(units=num_classes, activation='softmax'))\n",
        "    ann11.compile(optimizer = 'adam', loss = kf.losses.SparseCategoricalCrossentropy(), metrics = [kf.metrics.CategoricalAccuracy()])\n",
        "    ann11.fit(X_train_cv, y_train_cv, batch_size = 128, epochs = 300,verbose=0)\n",
        "\n",
        "    # Model 12\n",
        "\n",
        "    ann12 = Sequential()\n",
        "    ann12.add(tf.keras.layers.Dense(units=35, activation='relu'))\n",
        "    ann12.add(tf.keras.layers.Dense(units=45, activation='relu'))\n",
        "    ann12.add(tf.keras.layers.Dense(units=50, activation='relu'))\n",
        "    ann12.add(tf.keras.layers.Dense(units=num_classes, activation='softmax'))\n",
        "    ann12.compile(optimizer = 'adam', loss = kf.losses.SparseCategoricalCrossentropy(), metrics = [kf.metrics.CategoricalAccuracy()])\n",
        "    ann12.fit(X_train_cv, y_train_cv, batch_size = 128, epochs = 300,verbose=0)\n",
        "\n",
        "    # Model 13\n",
        "\n",
        "    ann13 = Sequential()\n",
        "    ann13.add(tf.keras.layers.Dense(units=35, activation='relu'))\n",
        "    ann13.add(tf.keras.layers.Dense(units=45, activation='relu'))\n",
        "    ann13.add(tf.keras.layers.Dense(units=50, activation='relu'))\n",
        "    ann13.add(tf.keras.layers.Dense(units=num_classes, activation='softmax'))\n",
        "    ann13.compile(optimizer = 'adam', loss = kf.losses.SparseCategoricalCrossentropy(), metrics = [kf.metrics.CategoricalAccuracy()])\n",
        "    ann13.fit(X_train_cv, y_train_cv, batch_size = 128, epochs = 300,verbose=0)\n",
        "\n",
        "    # Model 14\n",
        "\n",
        "    ann14 = Sequential()\n",
        "    ann14.add(tf.keras.layers.Dense(units=35, activation='relu'))\n",
        "    ann14.add(tf.keras.layers.Dense(units=45, activation='relu'))\n",
        "    ann14.add(tf.keras.layers.Dense(units=50, activation='relu'))\n",
        "    ann14.add(tf.keras.layers.Dense(units=num_classes, activation='softmax'))\n",
        "    ann14.compile(optimizer = 'adam', loss = kf.losses.SparseCategoricalCrossentropy(), metrics = [kf.metrics.CategoricalAccuracy()])\n",
        "    ann14.fit(X_train_cv, y_train_cv, batch_size = 128, epochs = 300,verbose=0)\n",
        "\n",
        "    # Model 15\n",
        "\n",
        "    ann15 = Sequential()\n",
        "    ann15.add(tf.keras.layers.Dense(units=35, activation='relu'))\n",
        "    ann15.add(tf.keras.layers.Dense(units=45, activation='relu'))\n",
        "    ann15.add(tf.keras.layers.Dense(units=50, activation='relu'))\n",
        "    ann15.add(tf.keras.layers.Dense(units=num_classes, activation='softmax'))\n",
        "    ann15.compile(optimizer = 'adam', loss = kf.losses.SparseCategoricalCrossentropy(), metrics = [kf.metrics.CategoricalAccuracy()])\n",
        "    ann15.fit(X_train_cv, y_train_cv, batch_size = 128, epochs = 300,verbose=0)\n",
        "\n",
        "    # Model 16\n",
        "\n",
        "    ann16 = Sequential()\n",
        "    ann16.add(tf.keras.layers.Dense(units=35, activation='relu'))\n",
        "    ann16.add(tf.keras.layers.Dense(units=45, activation= 'sigmoid'))\n",
        "    ann16.add(tf.keras.layers.Dense(units=50, activation='relu'))\n",
        "    ann16.add(tf.keras.layers.Dense(units=num_classes, activation='softmax'))\n",
        "    ann16.compile(optimizer = 'adam', loss = kf.losses.SparseCategoricalCrossentropy(), metrics = [kf.metrics.CategoricalAccuracy()])\n",
        "    ann16.fit(X_train_cv, y_train_cv, batch_size = 128, epochs = 300,verbose=0)\n",
        "\n",
        "    ann1.save('north/model1.h5')\n",
        "    ann2.save('north/model2.h5')\n",
        "    ann3.save('north/model3.h5')\n",
        "    ann4.save('north/model4.h5')\n",
        "    ann5.save('north/model5.h5')\n",
        "    ann6.save('north/model6.h5')\n",
        "    ann7.save('north/model7.h5')\n",
        "    ann8.save('north/model8.h5')\n",
        "    ann9.save('north/model9.h5')\n",
        "    ann10.save('north/model10.h5')\n",
        "    ann11.save('north/model11.h5')\n",
        "    ann12.save('north/model12.h5')\n",
        "    ann13.save('north/model13.h5')\n",
        "    ann14.save('north/model14.h5')\n",
        "    ann15.save('north/model15.h5')\n",
        "    ann16.save('north/model16.h5')\n",
        "\n",
        "    members = load_all_models(16)\n",
        "    model = fit_stacked_model(members, X_train_cv,y_train_cv)\n",
        "    end = time.time()\n",
        "    print(\"Cross validation Train time: \",(end-start) * 10**3, \"ms\")\n",
        "    t = (end-start)*1000\n",
        "    train_time.append(t)\n",
        "\n",
        "    start = time.time()\n",
        "    y_pred = stacked_prediction(members, model, X_test_cv)\n",
        "    end = time.time()\n",
        "\n",
        "    t = (end - start)*1000\n",
        "    test_time.append(t)\n",
        "\n",
        "    print(\"Cross validation Test time: \",(end-start) * 10**3, \"ms\")\n",
        "    y_test_prob = stacked_prediction_proba(members,model,X_test_cv)\n",
        "    y_train_pred = stacked_prediction(members, model, X_train_cv)\n",
        "\n",
        "    cm = confusion_matrix(y_test_cv, y_pred)\n",
        "\n",
        "\n",
        "    accuracy = accuracy_score(y_test_cv, y_pred)\n",
        "    acc_test.append(accuracy)\n",
        "    accuracy_train = accuracy_score(y_train_cv, y_train_pred)\n",
        "    acc_train.append(accuracy_train)\n",
        "\n",
        "    pre_macro = precision_score(y_test_cv, y_pred,average='macro')\n",
        "    Precision_macro.append(pre_macro)\n",
        "    pre_micro = precision_score(y_test_cv, y_pred,average='micro')\n",
        "    Precision_micro.append(pre_micro)\n",
        "\n",
        "    re_macro = recall_score(y_test_cv, y_pred,average='macro')\n",
        "    Recall_macro.append(re_macro)\n",
        "    re_micro = recall_score(y_test_cv, y_pred,average='micro')\n",
        "    Recall_micro.append(re_micro)\n",
        "\n",
        "    f1_macro = f1_score(y_test_cv, y_pred,average='macro')\n",
        "    F1_macro.append(f1_macro)\n",
        "    f1_micro = f1_score(y_test_cv, y_pred,average='micro')\n",
        "    F1_micro.append(f1_micro)\n",
        "\n",
        "    auc_ovo = roc_auc_score(y_test_cv,y_test_prob,multi_class='ovo')\n",
        "    AUC_ovo.append(auc_ovo)\n",
        "    auc_ovr = roc_auc_score(y_test_cv,y_test_prob,multi_class='ovr')\n",
        "    AUC_ovr.append(auc_ovr)\n"
      ],
      "id": "426c21a7"
    },
    {
      "cell_type": "code",
      "execution_count": null,
      "metadata": {
        "colab": {
          "background_save": true
        },
        "id": "4631b43e"
      },
      "outputs": [],
      "source": [
        "result_cv = pd.DataFrame()\n",
        "result_cv[\"Train_acc\"] = acc_train\n",
        "result_cv[\"Test_acc\"] = acc_test\n",
        "result_cv[\"Precision(macro)\"] = Precision_macro\n",
        "result_cv[\"Precision(micro)\"] = Precision_micro\n",
        "result_cv[\"Recall(macro)\"] = Recall_macro\n",
        "result_cv[\"Recall(micro)\"] = Recall_micro\n",
        "result_cv[\"F1(macro)\"] = F1_macro\n",
        "result_cv[\"F1(micro)\"] = F1_micro\n",
        "result_cv[\"AUC(ovo)\"] = AUC_ovo\n",
        "result_cv[\"AUC(ovr)\"] = AUC_ovr\n",
        "result_cv[\"Train Time\"] = train_time\n",
        "result_cv[\"Test Time\"] = test_time"
      ],
      "id": "4631b43e"
    },
    {
      "cell_type": "code",
      "execution_count": null,
      "metadata": {
        "colab": {
          "background_save": true
        },
        "id": "6bf66a36",
        "outputId": "1a42e4bc-a440-4a62-ac64-3fa92ed01d03"
      },
      "outputs": [
        {
          "data": {
            "text/plain": [
              "[1961592.4875736237,\n",
              " 1896903.980255127,\n",
              " 1949490.2229309082,\n",
              " 1975016.1786079407,\n",
              " 1992258.9695453644]"
            ]
          },
          "execution_count": 16,
          "metadata": {},
          "output_type": "execute_result"
        }
      ],
      "source": [
        "train_time"
      ],
      "id": "6bf66a36"
    },
    {
      "cell_type": "code",
      "execution_count": null,
      "metadata": {
        "colab": {
          "background_save": true
        },
        "id": "105fd285",
        "outputId": "eb164a1b-4b13-4b51-97ee-6a77e93bb59c"
      },
      "outputs": [
        {
          "data": {
            "text/plain": [
              "[9745.219945907593,\n",
              " 9369.597911834717,\n",
              " 9705.512046813965,\n",
              " 10680.09614944458,\n",
              " 9791.815757751465]"
            ]
          },
          "execution_count": 17,
          "metadata": {},
          "output_type": "execute_result"
        }
      ],
      "source": [
        "test_time"
      ],
      "id": "105fd285"
    },
    {
      "cell_type": "code",
      "execution_count": null,
      "metadata": {
        "colab": {
          "background_save": true
        },
        "id": "b92aa6da"
      },
      "outputs": [],
      "source": [
        "result_cv.to_csv(\"filename\", index=False)"
      ],
      "id": "b92aa6da"
    },
    {
      "cell_type": "code",
      "execution_count": null,
      "metadata": {
        "colab": {
          "background_save": true
        },
        "id": "0663ab50"
      },
      "outputs": [],
      "source": [
        "result_cv_avg = pd.DataFrame()\n",
        "lst = []\n",
        "x = mean(acc_train)*100\n",
        "lst.append(x)\n",
        "result_cv_avg[\"Train_acc\"] = lst\n",
        "result_cv_avg[\"Test_acc\"] = mean(acc_test)*100\n",
        "result_cv_avg[\"SD\"] = np.std(acc_test)*100\n",
        "result_cv_avg[\"Precision(macro)\"] = mean(Precision_macro)\n",
        "result_cv_avg[\"Precision(micro)\"] = mean(Precision_micro)\n",
        "result_cv_avg[\"Recall(macro)\"] = mean(Recall_macro)\n",
        "result_cv_avg[\"Recall(micro)\"] = mean(Recall_micro)\n",
        "result_cv_avg[\"F1(macro)\"] = mean(F1_macro)\n",
        "result_cv_avg[\"F1(micro)\"] = mean(F1_micro)\n",
        "result_cv_avg[\"AUC(ovo)\"] = mean(AUC_ovo)\n",
        "result_cv_avg[\"AUC(ovr)\"] = mean(AUC_ovr)"
      ],
      "id": "0663ab50"
    },
    {
      "cell_type": "code",
      "execution_count": null,
      "metadata": {
        "colab": {
          "background_save": true
        },
        "id": "b3d296c7"
      },
      "outputs": [],
      "source": [
        "result_cv_avg.to_csv(\"filename\", index=False)"
      ],
      "id": "b3d296c7"
    },
    {
      "cell_type": "code",
      "execution_count": null,
      "metadata": {
        "colab": {
          "background_save": true
        },
        "id": "d737dfcb",
        "outputId": "a9a53b7b-8aa7-47c6-cca0-72146bc1e9d2"
      },
      "outputs": [
        {
          "data": {
            "text/plain": [
              "[0.9978646166986974,\n",
              " 0.9979927396967756,\n",
              " 0.9976937860345932,\n",
              " 0.9979500320307495,\n",
              " 0.9979500320307495]"
            ]
          },
          "execution_count": 21,
          "metadata": {},
          "output_type": "execute_result"
        }
      ],
      "source": [
        "acc_train"
      ],
      "id": "d737dfcb"
    },
    {
      "cell_type": "code",
      "execution_count": null,
      "metadata": {
        "colab": {
          "background_save": true
        },
        "id": "5601cc70",
        "outputId": "768c86d1-4e0a-4bbf-e515-32b19bdecec7"
      },
      "outputs": [
        {
          "data": {
            "text/plain": [
              "[0.9402946828955797,\n",
              " 0.9311979500320308,\n",
              " 0.9373478539397821,\n",
              " 0.9364509929532351,\n",
              " 0.93888532991672]"
            ]
          },
          "execution_count": 22,
          "metadata": {},
          "output_type": "execute_result"
        }
      ],
      "source": [
        "acc_test"
      ],
      "id": "5601cc70"
    },
    {
      "cell_type": "code",
      "execution_count": null,
      "metadata": {
        "colab": {
          "background_save": true
        },
        "id": "a183e93a",
        "outputId": "2289d4db-aa5c-4025-db15-2edaeaa1bcfe"
      },
      "outputs": [
        {
          "data": {
            "text/plain": [
              "[0.9405192183564456,\n",
              " 0.9355122329644864,\n",
              " 0.9386846585285031,\n",
              " 0.936644220080779,\n",
              " 0.9379665495997055]"
            ]
          },
          "execution_count": 23,
          "metadata": {},
          "output_type": "execute_result"
        }
      ],
      "source": [
        "Precision_macro"
      ],
      "id": "a183e93a"
    },
    {
      "cell_type": "code",
      "execution_count": null,
      "metadata": {
        "colab": {
          "background_save": true
        },
        "id": "919cba03",
        "outputId": "660fbdda-22c4-439b-ade1-211421137b69"
      },
      "outputs": [
        {
          "data": {
            "text/plain": [
              "[0.9402946828955797,\n",
              " 0.9311979500320308,\n",
              " 0.9373478539397821,\n",
              " 0.9364509929532351,\n",
              " 0.93888532991672]"
            ]
          },
          "execution_count": 24,
          "metadata": {},
          "output_type": "execute_result"
        }
      ],
      "source": [
        "Precision_micro"
      ],
      "id": "919cba03"
    },
    {
      "cell_type": "code",
      "execution_count": null,
      "metadata": {
        "colab": {
          "background_save": true
        },
        "id": "da5922e3",
        "outputId": "4863cc59-5783-4ccc-a41c-7f6f5410bc4e"
      },
      "outputs": [
        {
          "data": {
            "text/plain": [
              "[0.9404005224411097,\n",
              " 0.9324404141641706,\n",
              " 0.9371587857642015,\n",
              " 0.9365549060871093,\n",
              " 0.9368086819778549]"
            ]
          },
          "execution_count": 25,
          "metadata": {},
          "output_type": "execute_result"
        }
      ],
      "source": [
        "Recall_macro"
      ],
      "id": "da5922e3"
    },
    {
      "cell_type": "code",
      "execution_count": null,
      "metadata": {
        "colab": {
          "background_save": true
        },
        "id": "9da08914",
        "outputId": "22a7600f-7bbb-4c76-ccd1-0840551c419c"
      },
      "outputs": [
        {
          "data": {
            "text/plain": [
              "[0.9402946828955797,\n",
              " 0.9311979500320308,\n",
              " 0.9373478539397821,\n",
              " 0.9364509929532351,\n",
              " 0.93888532991672]"
            ]
          },
          "execution_count": 26,
          "metadata": {},
          "output_type": "execute_result"
        }
      ],
      "source": [
        "Recall_micro"
      ],
      "id": "9da08914"
    },
    {
      "cell_type": "code",
      "execution_count": null,
      "metadata": {
        "colab": {
          "background_save": true
        },
        "id": "d06098bb",
        "outputId": "5ffa1d17-f1b9-44b7-cb48-24d716c98a03"
      },
      "outputs": [
        {
          "data": {
            "text/plain": [
              "[0.9404319422617508,\n",
              " 0.9336744512641293,\n",
              " 0.9375636108143127,\n",
              " 0.9356209004465165,\n",
              " 0.9372658170114079]"
            ]
          },
          "execution_count": 27,
          "metadata": {},
          "output_type": "execute_result"
        }
      ],
      "source": [
        "F1_macro"
      ],
      "id": "d06098bb"
    },
    {
      "cell_type": "code",
      "execution_count": null,
      "metadata": {
        "colab": {
          "background_save": true
        },
        "id": "c98a6d5f",
        "outputId": "c1873185-ba9f-4ba4-cffd-bed0dd712857"
      },
      "outputs": [
        {
          "data": {
            "text/plain": [
              "[0.9402946828955797,\n",
              " 0.9311979500320308,\n",
              " 0.9373478539397821,\n",
              " 0.9364509929532351,\n",
              " 0.93888532991672]"
            ]
          },
          "execution_count": 28,
          "metadata": {},
          "output_type": "execute_result"
        }
      ],
      "source": [
        "F1_micro"
      ],
      "id": "c98a6d5f"
    },
    {
      "cell_type": "code",
      "execution_count": null,
      "metadata": {
        "colab": {
          "background_save": true
        },
        "id": "ae3f919c",
        "outputId": "e0a512af-3eaf-4bda-daba-28a67b7ea0b3"
      },
      "outputs": [
        {
          "data": {
            "text/plain": [
              "[0.9949407659722027,\n",
              " 0.9946214692461288,\n",
              " 0.9950521581781336,\n",
              " 0.9944450903480784,\n",
              " 0.9933127610883031]"
            ]
          },
          "execution_count": 29,
          "metadata": {},
          "output_type": "execute_result"
        }
      ],
      "source": [
        "AUC_ovo"
      ],
      "id": "ae3f919c"
    },
    {
      "cell_type": "code",
      "execution_count": null,
      "metadata": {
        "colab": {
          "background_save": true
        },
        "id": "9bc6fd04",
        "outputId": "14affac1-80ef-4f3a-91a9-b840d9e62f55"
      },
      "outputs": [
        {
          "name": "stdout",
          "output_type": "stream",
          "text": [
            "2\n"
          ]
        }
      ],
      "source": [
        "index = np.argmax(AUC_ovo)\n",
        "print(index)"
      ],
      "id": "9bc6fd04"
    },
    {
      "cell_type": "code",
      "execution_count": null,
      "metadata": {
        "colab": {
          "background_save": true
        },
        "id": "a85635c8",
        "outputId": "6c42444d-ce4d-412f-f6e0-221503046a1d"
      },
      "outputs": [
        {
          "data": {
            "text/plain": [
              "[0.9949340964809366,\n",
              " 0.9945352233306616,\n",
              " 0.9950517365568572,\n",
              " 0.9944571864710217,\n",
              " 0.993455300799271]"
            ]
          },
          "execution_count": 31,
          "metadata": {},
          "output_type": "execute_result"
        }
      ],
      "source": [
        "AUC_ovr"
      ],
      "id": "a85635c8"
    },
    {
      "cell_type": "code",
      "execution_count": null,
      "metadata": {
        "colab": {
          "background_save": true
        },
        "id": "005129c3",
        "outputId": "1e54a043-9504-4f47-cb40-38b0c74b6730"
      },
      "outputs": [
        {
          "name": "stdout",
          "output_type": "stream",
          "text": [
            "Accuracy(Train): 99.79 %\n",
            "Accuracy(Test): 93.68 %\n",
            "Standard Deviation: 0.31%\n",
            "Precision (macro): 0.938\n",
            "Precision (micro): 0.937\n",
            "Recall (macro): 0.937\n",
            "Recall (micro): 0.937\n",
            "F1 (macro): 0.937\n",
            "F1 (micro): 0.937\n",
            "AUC (ovo): 0.994\n",
            "AUC (ovr): 0.994\n"
          ]
        }
      ],
      "source": [
        "print(\"Accuracy(Train): {:.2f} %\".format(mean(acc_train)*100))\n",
        "print(\"Accuracy(Test): {:.2f} %\".format(mean(acc_test)*100))\n",
        "print(\"Standard Deviation: {:.2f}%\".format(np.std(acc_test)*100))\n",
        "print(\"Precision (macro): %.3f\" %mean(Precision_macro))\n",
        "print(\"Precision (micro): %.3f\" %mean(Precision_micro))\n",
        "print(\"Recall (macro): %.3f\" %mean(Recall_macro))\n",
        "print(\"Recall (micro): %.3f\" %mean(Recall_micro))\n",
        "print(\"F1 (macro): %.3f\" %mean(F1_macro))\n",
        "print(\"F1 (micro): %.3f\" %mean(F1_micro))\n",
        "print(\"AUC (ovo): %.3f\" %mean(AUC_ovo))\n",
        "print(\"AUC (ovr): %.3f\" %mean(AUC_ovr))"
      ],
      "id": "005129c3"
    },
    {
      "cell_type": "code",
      "execution_count": null,
      "metadata": {
        "colab": {
          "background_save": true
        },
        "id": "c4760cea"
      },
      "outputs": [],
      "source": [
        "from numpy import interp"
      ],
      "id": "c4760cea"
    },
    {
      "cell_type": "code",
      "execution_count": null,
      "metadata": {
        "colab": {
          "background_save": true
        },
        "id": "804ffd5e",
        "outputId": "e5a32db4-9504-4202-aa8e-21e8adf28566"
      },
      "outputs": [
        {
          "name": "stdout",
          "output_type": "stream",
          "text": [
            "all_fpr:  [0.00000000e+00 1.37362637e-04 1.37494844e-04 1.37760022e-04\n",
            " 1.37931034e-04 1.38677021e-04 2.74725275e-04 2.74989688e-04\n",
            " 2.75520044e-04 2.75862069e-04 2.77354042e-04 4.12087912e-04\n",
            " 4.12257799e-04 4.12484532e-04 4.13280066e-04 4.13793103e-04\n",
            " 4.16031064e-04 5.49450549e-04 5.49979376e-04 5.51040088e-04\n",
            " 5.51724138e-04 5.54708085e-04 6.86813187e-04 6.87474220e-04\n",
            " 6.88800110e-04 6.89655172e-04 6.93385106e-04 8.24175824e-04\n",
            " 8.24515597e-04 8.24969064e-04 8.26560132e-04 8.27586207e-04\n",
            " 8.32062127e-04 9.61538462e-04 9.62463908e-04 9.64320154e-04\n",
            " 9.65517241e-04 1.09890110e-03 1.10208018e-03 1.10344828e-03\n",
            " 1.23626374e-03 1.23677340e-03 1.23984020e-03 1.24137931e-03\n",
            " 1.37362637e-03 1.37419266e-03 1.37494844e-03 1.37760022e-03\n",
            " 1.37931034e-03 1.51098901e-03 1.51161193e-03 1.51244328e-03\n",
            " 1.51536024e-03 1.51724138e-03 1.64835165e-03 1.64903119e-03\n",
            " 1.64993813e-03 1.65312026e-03 1.65517241e-03 1.78571429e-03\n",
            " 1.78645046e-03 1.78743297e-03 1.92307692e-03 1.92386973e-03\n",
            " 1.92492782e-03 1.92864031e-03 1.93103448e-03 2.06043956e-03\n",
            " 2.06128899e-03 2.06242266e-03 2.06640033e-03 2.06896552e-03\n",
            " 2.19780220e-03 2.19870826e-03 2.19991750e-03 2.20416035e-03\n",
            " 2.20689655e-03 2.33516484e-03 2.33612753e-03 2.33741235e-03\n",
            " 2.34192037e-03 2.47354679e-03 2.47968040e-03 2.61096606e-03\n",
            " 2.61744042e-03 2.62068966e-03 2.74725275e-03 2.74838532e-03\n",
            " 2.74989688e-03 2.75520044e-03 2.75862069e-03 2.88461538e-03\n",
            " 2.88580459e-03 2.88739172e-03 2.89296046e-03 2.89655172e-03\n",
            " 3.02197802e-03 3.02322386e-03 3.03072048e-03 3.03448276e-03\n",
            " 3.16064312e-03 3.16238141e-03 3.17241379e-03 3.29670330e-03\n",
            " 3.29806239e-03 3.29987625e-03 3.30624053e-03 3.31034483e-03\n",
            " 3.43406593e-03 3.44400055e-03 3.44827586e-03 3.57142857e-03\n",
            " 3.57290092e-03 3.58176057e-03 3.58620690e-03 3.70879121e-03\n",
            " 3.71032019e-03 3.71236079e-03 3.71952060e-03 3.72413793e-03\n",
            " 3.84773945e-03 3.84985563e-03 3.86206897e-03 3.99504064e-03\n",
            " 4.12087912e-03 4.12257799e-03 4.13793103e-03 4.25824176e-03\n",
            " 4.25999725e-03 4.27586207e-03 4.39741652e-03 4.39983501e-03\n",
            " 4.40832071e-03 4.53296703e-03 4.53483578e-03 4.55172414e-03\n",
            " 4.67225505e-03 4.67482469e-03 4.80769231e-03 4.80967432e-03\n",
            " 4.82758621e-03 5.08451285e-03 5.08730923e-03 5.22193211e-03\n",
            " 5.24137931e-03 5.35714286e-03 5.35935138e-03 5.36229891e-03\n",
            " 5.37931034e-03 5.49677065e-03 5.51724138e-03 5.63418991e-03\n",
            " 5.76923077e-03 5.77160918e-03 5.77478345e-03 5.79310345e-03\n",
            " 5.90659341e-03 5.90902845e-03 5.91227829e-03 5.93103448e-03\n",
            " 6.04644771e-03 6.06896552e-03 6.18131868e-03 6.18726798e-03\n",
            " 6.20689655e-03 6.31868132e-03 6.32128624e-03 6.34482759e-03\n",
            " 6.45870551e-03 6.59340659e-03 6.62068966e-03 6.73724735e-03\n",
            " 6.75862069e-03 6.87096331e-03 6.89655172e-03 7.00549451e-03\n",
            " 7.03448276e-03 7.14580184e-03 7.14973189e-03 7.28322111e-03\n",
            " 7.31034483e-03 7.44827586e-03 7.58620690e-03 7.69230769e-03\n",
            " 7.69547891e-03 7.83289817e-03 7.86206897e-03 7.96703297e-03\n",
            " 7.97031744e-03 8.00000000e-03 8.11219579e-03 8.27586207e-03\n",
            " 8.38257524e-03 8.51999450e-03 8.55172414e-03 8.79483304e-03\n",
            " 8.93225230e-03 8.96551724e-03 9.06593407e-03 9.06967157e-03\n",
            " 9.10344828e-03 9.20709083e-03 9.24137931e-03 9.34451010e-03\n",
            " 9.48192937e-03 9.61934863e-03 9.62463908e-03 9.75274725e-03\n",
            " 9.79310345e-03 9.89418717e-03 1.00316064e-02 1.01690257e-02\n",
            " 1.01942416e-02 1.03121133e-02 1.03448276e-02 1.04395604e-02\n",
            " 1.04438642e-02 1.04827586e-02 1.05812835e-02 1.07187028e-02\n",
            " 1.07586207e-02 1.08516484e-02 1.08561220e-02 1.09890110e-02\n",
            " 1.10208018e-02 1.10344828e-02 1.11263736e-02 1.11309606e-02\n",
            " 1.11585618e-02 1.12637363e-02 1.12683798e-02 1.13103448e-02\n",
            " 1.14057991e-02 1.14482759e-02 1.15432184e-02 1.15495669e-02\n",
            " 1.15862069e-02 1.18245566e-02 1.19554762e-02 1.20000000e-02\n",
            " 1.20928954e-02 1.22252747e-02 1.23626374e-02 1.23677340e-02\n",
            " 1.25051532e-02 1.26425725e-02 1.26739220e-02 1.27799918e-02\n",
            " 1.28275862e-02 1.29174110e-02 1.30548303e-02 1.31922496e-02\n",
            " 1.32249621e-02 1.33296688e-02 1.33793103e-02 1.37931034e-02\n",
            " 1.38793459e-02 1.40167652e-02 1.41541844e-02 1.46025623e-02\n",
            " 1.46206897e-02 1.47586207e-02 1.48351648e-02 1.50344828e-02\n",
            " 1.52535385e-02 1.53103448e-02 1.53994225e-02 1.54482759e-02\n",
            " 1.55283771e-02 1.55862069e-02 1.56657963e-02 1.57241379e-02\n",
            " 1.58032156e-02 1.58620690e-02 1.59406349e-02 1.60000000e-02\n",
            " 1.62154734e-02 1.63528927e-02 1.64903119e-02 1.66277312e-02\n",
            " 1.66896552e-02 1.68275862e-02 1.69025697e-02 1.71774083e-02\n",
            " 1.72413793e-02 1.73793103e-02 1.74522468e-02 1.77931034e-02\n",
            " 1.78645046e-02 1.80019239e-02 1.80689655e-02 1.81318681e-02\n",
            " 1.81393431e-02 1.83448276e-02 1.85439560e-02 1.86890202e-02\n",
            " 1.87586207e-02 1.89638587e-02 1.90344828e-02 1.91012780e-02\n",
            " 1.91724138e-02 1.92307692e-02 1.92386973e-02 1.95135358e-02\n",
            " 1.95242678e-02 1.95619231e-02 1.95862069e-02 1.97883743e-02\n",
            " 1.99257936e-02 2.00000000e-02 2.02006321e-02 2.02758621e-02\n",
            " 2.04754707e-02 2.06043956e-02 2.06128899e-02 2.06242266e-02\n",
            " 2.06896552e-02 2.07417582e-02 2.10251477e-02 2.11625670e-02\n",
            " 2.12413793e-02 2.14374055e-02 2.15748248e-02 2.16551724e-02\n",
            " 2.20689655e-02 2.23993404e-02 2.24827586e-02 2.25367597e-02\n",
            " 2.26741789e-02 2.29490175e-02 2.30864367e-02 2.32238560e-02\n",
            " 2.33612753e-02 2.33741235e-02 2.34890110e-02 2.36361138e-02\n",
            " 2.38620690e-02 2.40483716e-02 2.41857908e-02 2.42758621e-02\n",
            " 2.43232101e-02 2.43835239e-02 2.44137931e-02 2.45980486e-02\n",
            " 2.47354679e-02 2.48275862e-02 2.48728872e-02 2.51034483e-02\n",
            " 2.51615564e-02 2.56974028e-02 2.59310345e-02 2.59865255e-02\n",
            " 2.62068966e-02 2.62470798e-02 2.67967569e-02 2.69341762e-02\n",
            " 2.70344828e-02 2.70604396e-02 2.70715954e-02 2.71724138e-02\n",
            " 2.73103448e-02 2.73464340e-02 2.74482759e-02 2.74838532e-02\n",
            " 2.76212725e-02 2.77241379e-02 2.80335303e-02 2.81709496e-02\n",
            " 2.83083688e-02 2.84137931e-02 2.85517241e-02 2.85832074e-02\n",
            " 2.88580459e-02 2.94806447e-02 2.95172414e-02 2.95451422e-02\n",
            " 3.02322386e-02 3.03863605e-02 3.07819156e-02 3.09193349e-02\n",
            " 3.11941734e-02 3.12113296e-02 3.13315927e-02 3.14482759e-02\n",
            " 3.14690120e-02 3.16064312e-02 3.17438505e-02 3.21379310e-02\n",
            " 3.22802198e-02 3.24309468e-02 3.27057854e-02 3.28296703e-02\n",
            " 3.28432046e-02 3.29806239e-02 3.31034483e-02 3.32554624e-02\n",
            " 3.36134454e-02 3.36551724e-02 3.38051395e-02 3.39310345e-02\n",
            " 3.40689655e-02 3.42173973e-02 3.43448276e-02 3.44827586e-02\n",
            " 3.44922358e-02 3.46296551e-02 3.49044936e-02 3.51724138e-02\n",
            " 3.53103448e-02 3.53167514e-02 3.54541707e-02 3.55915899e-02\n",
            " 3.56111646e-02 3.60038477e-02 3.64010989e-02 3.66909441e-02\n",
            " 3.68275862e-02 3.68283633e-02 3.71032019e-02 3.79277175e-02\n",
            " 3.83399753e-02 3.86148138e-02 3.87522331e-02 3.87586207e-02\n",
            " 3.87735460e-02 3.88896523e-02 3.95767487e-02 3.95862069e-02\n",
            " 3.97141679e-02 3.98620690e-02 4.04012643e-02 4.06761028e-02\n",
            " 4.12413793e-02 4.13631991e-02 4.15172414e-02 4.16551724e-02\n",
            " 4.17931034e-02 4.19128762e-02 4.21703297e-02 4.23076923e-02\n",
            " 4.26206897e-02 4.27373918e-02 4.27608965e-02 4.31496496e-02\n",
            " 4.34244881e-02 4.34482759e-02 4.41379310e-02 4.43864230e-02\n",
            " 4.55172414e-02 4.56231964e-02 4.60689655e-02 4.64477120e-02\n",
            " 4.68406593e-02 4.71724138e-02 4.72722276e-02 4.74482759e-02\n",
            " 4.81379310e-02 4.88275862e-02 4.89010989e-02 4.89212588e-02\n",
            " 4.91960973e-02 4.92413793e-02 4.94709358e-02 4.95936079e-02\n",
            " 4.96551724e-02 4.98831936e-02 4.99310345e-02 5.01580322e-02\n",
            " 5.02068966e-02 5.03448276e-02 5.04328707e-02 5.11724138e-02\n",
            " 5.13948056e-02 5.15222482e-02 5.15322248e-02 5.18620690e-02\n",
            " 5.20604396e-02 5.23567404e-02 5.26896552e-02 5.29655172e-02\n",
            " 5.30438367e-02 5.31593407e-02 5.33186753e-02 5.35714286e-02\n",
            " 5.41431909e-02 5.45554487e-02 5.46206897e-02 5.49677065e-02\n",
            " 5.51051257e-02 5.52425450e-02 5.53103448e-02 5.57922221e-02\n",
            " 5.64137931e-02 5.65517241e-02 5.68915762e-02 5.70289955e-02\n",
            " 5.71428571e-02 5.73793103e-02 5.74412533e-02 5.75172414e-02\n",
            " 5.77931034e-02 5.79310345e-02 5.82068966e-02 5.83448276e-02\n",
            " 5.84827586e-02 5.87586207e-02 5.90902845e-02 5.91724138e-02\n",
            " 6.00000000e-02 6.03602365e-02 6.18726798e-02 6.25000000e-02\n",
            " 6.26631854e-02 6.27586207e-02 6.29380239e-02 6.32128624e-02\n",
            " 6.37625395e-02 6.38999588e-02 6.40373780e-02 6.47244744e-02\n",
            " 6.51098901e-02 6.52741514e-02 6.62360863e-02 6.70344828e-02\n",
            " 6.71980212e-02 6.75862069e-02 6.77241379e-02 6.99464065e-02\n",
            " 6.99848756e-02 7.01923077e-02 7.02068966e-02 7.04827586e-02\n",
            " 7.09083413e-02 7.10457606e-02 7.20000000e-02 7.20484915e-02\n",
            " 7.21379310e-02 7.30097621e-02 7.31034483e-02 7.33818881e-02\n",
            " 7.47560808e-02 7.53103448e-02 7.54482759e-02 7.55862069e-02\n",
            " 7.57180157e-02 7.76418854e-02 7.79167239e-02 7.80689655e-02\n",
            " 7.83448276e-02 8.01154322e-02 8.03902707e-02 8.14161730e-02\n",
            " 8.22068966e-02 8.25889790e-02 8.34482759e-02 8.35862069e-02\n",
            " 8.37241379e-02 8.40000000e-02 8.50274725e-02 8.53793103e-02\n",
            " 8.56122028e-02 8.57931034e-02 8.60244606e-02 8.61618799e-02\n",
            " 8.86354267e-02 8.95172414e-02 8.99310345e-02 9.01470386e-02\n",
            " 9.02068966e-02 9.02844579e-02 9.04218771e-02 9.04827586e-02\n",
            " 9.08341349e-02 9.12489615e-02 9.12965764e-02 9.15212313e-02\n",
            " 9.15258931e-02 9.19334891e-02 9.20709083e-02 9.22083276e-02\n",
            " 9.24831661e-02 9.31702625e-02 9.32413793e-02 9.33076817e-02\n",
            " 9.39947781e-02 9.46818744e-02 9.53296703e-02 9.54482759e-02\n",
            " 9.56043956e-02 9.62758621e-02 9.65517241e-02 9.67032967e-02\n",
            " 9.68275862e-02 9.68805827e-02 9.78021978e-02 9.81173561e-02\n",
            " 9.83921946e-02 9.89962876e-02 1.00013776e-01 1.00275862e-01\n",
            " 1.02514773e-01 1.04026384e-01 1.04341833e-01 1.04617505e-01\n",
            " 1.04891229e-01 1.04988319e-01 1.05168353e-01 1.05675416e-01\n",
            " 1.05931034e-01 1.06206897e-01 1.06280193e-01 1.06499931e-01\n",
            " 1.06556246e-01 1.06675843e-01 1.06951136e-01 1.07245978e-01\n",
            " 1.09103448e-01 1.09416170e-01 1.09454796e-01 1.09693524e-01\n",
            " 1.09730849e-01 1.11834812e-01 1.12111973e-01 1.13655172e-01\n",
            " 1.14470249e-01 1.15442898e-01 1.16137931e-01 1.16682739e-01\n",
            " 1.18543956e-01 1.18818681e-01 1.19172414e-01 1.21203793e-01\n",
            " 1.21655172e-01 1.22095421e-01 1.22370411e-01 1.23265082e-01\n",
            " 1.24364436e-01 1.25517241e-01 1.26068966e-01 1.27250240e-01\n",
            " 1.29793103e-01 1.29907701e-01 1.30960561e-01 1.32000000e-01\n",
            " 1.33379310e-01 1.35989011e-01 1.37103448e-01 1.39835165e-01\n",
            " 1.41071429e-01 1.42032967e-01 1.45252164e-01 1.58719252e-01\n",
            " 1.60413793e-01 1.60439560e-01 1.60714286e-01 1.63448276e-01\n",
            " 1.64209946e-01 1.65931034e-01 1.69575374e-01 1.77505844e-01\n",
            " 1.81103448e-01 1.83005637e-01 1.91724138e-01 1.91837296e-01\n",
            " 2.16696515e-01 2.25241379e-01 2.62333379e-01 2.92877807e-01\n",
            " 2.94896552e-01 3.55906593e-01 5.71862069e-01 5.85655172e-01\n",
            " 5.98790045e-01 5.99065035e-01 6.07448276e-01 6.07724138e-01\n",
            " 7.82042400e-01 7.82319523e-01 8.03907982e-01 8.04185144e-01\n",
            " 8.50310131e-01 8.50585803e-01 8.80523056e-01 8.80798348e-01\n",
            " 8.93581781e-01 8.93857833e-01 8.98763736e-01 9.00686813e-01\n",
            " 9.01098901e-01 9.18620690e-01 9.26068966e-01 9.42758621e-01\n",
            " 9.48330356e-01 9.49587912e-01 9.58499382e-01 9.80689655e-01\n",
            " 9.80965517e-01 9.93788820e-01 9.94064872e-01 9.94482759e-01\n",
            " 9.96418239e-01 9.96693759e-01 9.97087783e-01 9.97230684e-01\n",
            " 9.97365137e-01 9.97507616e-01 9.98076130e-01 9.99586207e-01\n",
            " 9.99724138e-01 9.99862069e-01 1.00000000e+00]\n",
            "mean_tpr:  [0.71212857 0.71525782 0.76413001 0.77171766 0.77429166 0.77705741\n",
            " 0.78209142 0.78383686 0.78462179 0.78706709 0.78959234 0.79394609\n",
            " 0.79408137 0.79690092 0.80108721 0.81073972 0.81085997 0.81222051\n",
            " 0.81383168 0.81566318 0.81592123 0.81604432 0.82419698 0.82567451\n",
            " 0.82672234 0.82878155 0.8289018  0.83162288 0.83216401 0.83511782\n",
            " 0.83577193 0.83680153 0.83704203 0.83785836 0.83839542 0.83944199\n",
            " 0.84008549 0.84090182 0.84155592 0.84168462 0.84182068 0.84209124\n",
            " 0.84235288 0.84312508 0.84353325 0.84380381 0.84541498 0.84567662\n",
            " 0.84580532 0.84716587 0.84730115 0.84770394 0.84809641 0.84925471\n",
            " 0.84979893 0.84993421 0.85047126 0.85073291 0.85124771 0.85138376\n",
            " 0.85233073 0.852465   0.85273711 0.85354879 0.85422012 0.85461258\n",
            " 0.85589958 0.85617169 0.85657753 0.85684606 0.85763099 0.85969019\n",
            " 0.86023441 0.8610461  0.86144889 0.86171054 0.86196794 0.86455297\n",
            " 0.86468825 0.86509104 0.86522187 0.86549243 0.86601571 0.866151\n",
            " 0.86641264 0.86769964 0.86783569 0.86810626 0.86824052 0.86837134\n",
            " 0.86978704 0.8699231  0.87087007 0.87100433 0.8713968  0.8717829\n",
            " 0.87219106 0.87259691 0.87298937 0.87414767 0.87441823 0.87482103\n",
            " 0.87520713 0.87534318 0.87547846 0.87561273 0.87574355 0.87625835\n",
            " 0.87680257 0.87706421 0.87822251 0.87849462 0.87876518 0.878896\n",
            " 0.87928211 0.88009843 0.88077484 0.8813119  0.88157354 0.88183094\n",
            " 0.88196622 0.88210048 0.88261528 0.88274611 0.88301822 0.88396519\n",
            " 0.88409389 0.88436599 0.88490712 0.88529322 0.88596963 0.88623816\n",
            " 0.8864998  0.88677191 0.88785416 0.88798286 0.88825342 0.88838769\n",
            " 0.88852374 0.8887943  0.888923   0.89014054 0.8902748  0.89135705\n",
            " 0.89174315 0.89215131 0.8922866  0.89242086 0.89357916 0.89425557\n",
            " 0.89541387 0.89581971 0.89609182 0.89703879 0.89717306 0.89730176\n",
            " 0.89743781 0.89757309 0.89770736 0.89783606 0.89810662 0.89823532\n",
            " 0.89891559 0.89904986 0.89930726 0.89944331 0.900255   0.9005124\n",
            " 0.90145937 0.90159542 0.90185282 0.90225562 0.90238432 0.90265488\n",
            " 0.90291228 0.90304833 0.90330573 0.90344102 0.90357528 0.90425169\n",
            " 0.90489519 0.90515259 0.90553869 0.9058108  0.90608136 0.9064872\n",
            " 0.9067446  0.90688066 0.90701594 0.90765944 0.9077937  0.9080511\n",
            " 0.90818639 0.90845695 0.90858565 0.9096679  0.91047959 0.91060829\n",
            " 0.91074434 0.91101491 0.91127231 0.91154287 0.91192897 0.91206425\n",
            " 0.91219953 0.91287594 0.91327873 0.91341479 0.91367219 0.91394275\n",
            " 0.91434859 0.91461916 0.91474998 0.91488424 0.91514164 0.9152777\n",
            " 0.91581882 0.91633362 0.9164689  0.91660419 0.91699029 0.91712634\n",
            " 0.91726162 0.91739768 0.9175285  0.9176572  0.91779325 0.91806381\n",
            " 0.91819464 0.91833069 0.91846597 0.91859467 0.91927108 0.91939978\n",
            " 0.91953506 0.91966932 0.91979802 0.91993229 0.92047341 0.92073081\n",
            " 0.9208661  0.92100215 0.92127426 0.92140954 0.92154482 0.9216801\n",
            " 0.92181093 0.92194621 0.92207491 0.9228866  0.92315716 0.92329244\n",
            " 0.92342326 0.92396439 0.92409309 0.92460789 0.92514901 0.92528429\n",
            " 0.92541958 0.9255504  0.9258078  0.9260652  0.92620125 0.92632995\n",
            " 0.92727692 0.92740562 0.92753989 0.92766859 0.92793915 0.92806785\n",
            " 0.92820313 0.92858923 0.92913036 0.92925906 0.92952962 0.92991572\n",
            " 0.93045685 0.93086269 0.93099797 0.93113325 0.93126195 0.93139065\n",
            " 0.93152593 0.93166122 0.93178992 0.93191862 0.9320539  0.9321826\n",
            " 0.93245316 0.932859   0.9331164  0.93325246 0.93338774 0.93364514\n",
            " 0.93378119 0.93391648 0.93430258 0.93457314 0.93470184 0.93483712\n",
            " 0.93496582 0.93510188 0.93550772 0.93591356 0.93604783 0.93617865\n",
            " 0.93643605 0.93684189 0.93724774 0.93750514 0.9377757  0.9379044\n",
            " 0.93844553 0.93858158 0.93885214 0.93898641 0.93924381 0.93937986\n",
            " 0.93951514 0.93978571 0.93991441 0.94004969 0.94059081 0.94071951\n",
            " 0.94084821 0.9409835  0.9411122  0.94165332 0.94232973 0.94287085\n",
            " 0.94300613 0.94381782 0.9439531  0.94408737 0.94422342 0.9443587\n",
            " 0.9444874  0.94462269 0.94475797 0.94488667 0.94529251 0.94555415\n",
            " 0.94594026 0.94621082 0.9463461  0.9464748  0.94674536 0.94687406\n",
            " 0.94714259 0.94754844 0.94793454 0.9480688  0.9481975  0.94833278\n",
            " 0.94846806 0.94900919 0.94913789 0.94941    0.94968056 0.94980926\n",
            " 0.94993796 0.95007324 0.95033064 0.95087177 0.95127761 0.95140631\n",
            " 0.95181216 0.95248856 0.95262384 0.95275254 0.95288124 0.95369293\n",
            " 0.95423406 0.95436488 0.95449358 0.95516999 0.95530527 0.95543953\n",
            " 0.9557101  0.95584538 0.95598066 0.95611492 0.9562502  0.9563789\n",
            " 0.95664947 0.95692003 0.95705531 0.95731271 0.95744877 0.95771933\n",
            " 0.95785461 0.95799066 0.95812595 0.95853179 0.95891789 0.95905317\n",
            " 0.95918399 0.95931269 0.95971854 0.95984724 0.95997594 0.96011122\n",
            " 0.96023992 0.96036862 0.9605039  0.96090974 0.96118031 0.96130901\n",
            " 0.96143771 0.96157299 0.96170827 0.96184355 0.96197782 0.96224838\n",
            " 0.96238443 0.96319612 0.96332482 0.9634601  0.96373067 0.96386595\n",
            " 0.96400123 0.96427179 0.96454235 0.96479975 0.96493402 0.9650693\n",
            " 0.96520458 0.96533328 0.96546856 0.96559726 0.96573254 0.96586783\n",
            " 0.96612523 0.96653107 0.96665977 0.96678847 0.96704587 0.96772228\n",
            " 0.96785833 0.96799439 0.96825179 0.96865763 0.9687919  0.96892718\n",
            " 0.96906246 0.96919116 0.96931986 0.96945514 0.96958384 0.96971912\n",
            " 0.97010522 0.9702405  0.97037656 0.97050526 0.97064054 0.97076924\n",
            " 0.97089794 0.97102664 0.97116269 0.97129797 0.97143326 0.97156196\n",
            " 0.97169724 0.97182806 0.97195676 0.97209204 0.97222074 0.97235602\n",
            " 0.97248472 0.97274212 0.97301269 0.97314139 0.97327667 0.97340749\n",
            " 0.97354277 0.97367147 0.97380752 0.97394281 0.97407151 0.97432891\n",
            " 0.97446419 0.97460024 0.97473552 0.97487158 0.97500686 0.97514214\n",
            " 0.97539954 0.97553482 0.9756701  0.97580539 0.97606279 0.97619807\n",
            " 0.97632677 0.97645547 0.97659075 0.97672603 0.97686208 0.97699078\n",
            " 0.97712607 0.97725477 0.97738347 0.97764087 0.97776957 0.97789827\n",
            " 0.97802697 0.97815567 0.97829095 0.97841965 0.97854835 0.97868261\n",
            " 0.97881688 0.97895293 0.97908821 0.97921691 0.97935219 0.97948748\n",
            " 0.97975804 0.9800286  0.98016388 0.98029916 0.98043522 0.9805705\n",
            " 0.98070578 0.98096318 0.98109846 0.98122716 0.98135586 0.98149114\n",
            " 0.98162541 0.98176146 0.98189016 0.98201886 0.98215414 0.98228943\n",
            " 0.98241813 0.98254895 0.98267765 0.98281191 0.98294061 0.98307589\n",
            " 0.98321118 0.98333988 0.98346858 0.98359728 0.98373256 0.98386784\n",
            " 0.98400312 0.98413182 0.98413182 0.9842671  0.98440238 0.9845332\n",
            " 0.9846619  0.98479719 0.98492589 0.98505459 0.98518329 0.98531199\n",
            " 0.98544804 0.98570544 0.98584072 0.98596942 0.9861047  0.98623999\n",
            " 0.98637527 0.98650397 0.98676137 0.98689665 0.98702535 0.98716063\n",
            " 0.98729591 0.98742461 0.98755989 0.98755989 0.98769416 0.98782944\n",
            " 0.98782944 0.98796472 0.9881     0.98823528 0.98837056 0.98837056\n",
            " 0.98856927 0.98863455 0.98876983 0.98890511 0.98904116 0.98916986\n",
            " 0.98930592 0.98943462 0.98956332 0.98969937 0.98982807 0.98996335\n",
            " 0.99009941 0.99036997 0.99050525 0.99063952 0.99077034 0.99102774\n",
            " 0.99116302 0.9912983  0.9912983  0.9912983  0.9912983  0.99143358\n",
            " 0.99143358 0.99156886 0.99156886 0.99156886 0.99156886 0.99170414\n",
            " 0.99170414 0.99170414 0.99170414 0.99183841 0.99196711 0.99196711\n",
            " 0.99196711 0.99196711 0.99196711 0.99196711 0.99196711 0.99209581\n",
            " 0.99223109 0.99236191 0.99249061 0.99262143 0.99262143 0.99262143\n",
            " 0.99275013 0.99288542 0.99301412 0.99301412 0.99301412 0.9931494\n",
            " 0.99328468 0.99341338 0.99354208 0.99367736 0.99380606 0.99393688\n",
            " 0.99407216 0.99420086 0.99432956 0.99446562 0.99459432 0.99473037\n",
            " 0.99486643 0.99500248 0.99513776 0.99527304 0.99540174 0.99540174\n",
            " 0.99540174 0.99553044 0.99566127 0.99578997 0.99592525 0.99605951\n",
            " 0.99618821 0.99632248 0.99645118 0.99658646 0.99671728 0.99684598\n",
            " 0.99698126 0.99711208 0.99724078 0.99737684 0.99750554 0.99763424\n",
            " 0.99763424 0.99763424 0.99763424 0.99763424 0.99763424 0.99763424\n",
            " 0.99763424 0.99763424 0.99763424 0.99763424 0.99763424 0.99763424\n",
            " 0.99763424 0.99763424 0.99777029 0.99790635 0.9980424  0.9981711\n",
            " 0.9982998  0.9984285  0.99856378 0.99869984 0.99883512 0.99883512\n",
            " 0.99883512 0.99883512 0.99883512 0.99896382 0.99896382 0.99896382\n",
            " 0.99896382 0.99896382 0.99896382 0.99896382 0.9990991  0.9992278\n",
            " 0.9993565  0.9996139  1.        ]\n",
            "AUC =  0.993502597314317\n"
          ]
        }
      ],
      "source": [
        "actual_classes = y_test_cv\n",
        "predicted_proba = y_test_prob\n",
        "\n",
        "fpr = dict()\n",
        "tpr = dict()\n",
        "roc_auc = dict()\n",
        "n_classes=14\n",
        "for i in range(n_classes):\n",
        "    fpr[i], tpr[i], _ = roc_curve(np.array(pd.get_dummies(actual_classes))[:, i], np.array(predicted_proba)[:, i])\n",
        "    roc_auc[i] = auc(fpr[i], tpr[i])\n",
        "#     print(\"fpr: \",fpr[i])\n",
        "#     print(\"tpr: \",tpr[i])\n",
        "#     print(\"roc_auc: \",roc_auc[i])\n",
        "\n",
        "all_fpr = np.unique(np.concatenate([fpr[i] for i in range(n_classes)]))\n",
        "print(\"all_fpr: \",all_fpr)\n",
        "mean_tpr = np.zeros_like(all_fpr)\n",
        "for i in range(n_classes):\n",
        "    mean_tpr += interp(all_fpr, fpr[i], tpr[i])\n",
        "mean_tpr /= n_classes\n",
        "\n",
        "fpr[\"macro\"] = all_fpr\n",
        "tpr[\"macro\"] = mean_tpr\n",
        "roc_auc[\"macro\"] = auc(fpr[\"macro\"], tpr[\"macro\"])\n",
        "print(\"mean_tpr: \",mean_tpr)\n",
        "print(\"AUC = \",roc_auc['macro'])"
      ],
      "id": "804ffd5e"
    },
    {
      "cell_type": "code",
      "execution_count": null,
      "metadata": {
        "colab": {
          "background_save": true
        },
        "id": "f028e956"
      },
      "outputs": [],
      "source": [
        "roc_csv = pd.DataFrame()\n",
        "roc_csv[\"FPR(Macro)\"] = all_fpr\n",
        "roc_csv[\"TPR(Macro)\"] = mean_tpr"
      ],
      "id": "f028e956"
    },
    {
      "cell_type": "code",
      "execution_count": null,
      "metadata": {
        "colab": {
          "background_save": true
        },
        "id": "769b9265"
      },
      "outputs": [],
      "source": [
        "roc_csv.to_csv(\"filename\", index=False)"
      ],
      "id": "769b9265"
    },
    {
      "cell_type": "code",
      "execution_count": null,
      "metadata": {
        "colab": {
          "background_save": true
        },
        "id": "4okoIVD-OLTe",
        "outputId": "75314303-cf87-4be4-f118-874c980b450c"
      },
      "outputs": [
        {
          "data": {
            "image/png": "[encoded data removed]",
            "text/plain": [
              "<Figure size 700x500 with 2 Axes>"
            ]
          },
          "metadata": {},
          "output_type": "display_data"
        }
      ],
      "source": [
        "import matplotlib.pyplot as plt\n",
        "import seaborn as sns\n",
        "from sklearn.metrics import confusion_matrix\n",
        "from sklearn.metrics import ConfusionMatrixDisplay\n",
        "import numpy as np\n",
        "\n",
        "\n",
        "# Normalize the confusion matrix\n",
        "cm_normalized = cm.astype('float') / cm.sum(axis=1)[:, np.newaxis]\n",
        "\n",
        "# Plot the normalized confusion matrix heatmap\n",
        "plt.figure(figsize=(7, 5))\n",
        "sns.heatmap(cm_normalized, annot=True, fmt='.2f', cmap='Blues', xticklabels=range(14), yticklabels=range(14))\n",
        "plt.xlabel('Predicted Labels')\n",
        "plt.ylabel('True Labels')\n",
        "plt.title('Normalized Confusion Matrix Heatmap')\n",
        "plt.show()\n"
      ],
      "id": "4okoIVD-OLTe"
    }
  ],
  "metadata": {
    "colab": {
      "provenance": [],
      "include_colab_link": true
    },
    "kernelspec": {
      "display_name": "Python 3",
      "language": "python",
      "name": "python3"
    },
    "language_info": {
      "codemirror_mode": {
        "name": "ipython",
        "version": 3
      },
      "file_extension": ".py",
      "mimetype": "text/x-python",
      "name": "python",
      "nbconvert_exporter": "python",
      "pygments_lexer": "ipython3",
      "version": "3.8.8"
    }
  },
  "nbformat": 4,
  "nbformat_minor": 5
}