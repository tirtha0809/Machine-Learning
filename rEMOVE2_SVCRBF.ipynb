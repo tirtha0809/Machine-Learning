{
  "cells": [
    {
      "cell_type": "markdown",
      "metadata": {
        "id": "view-in-github",
        "colab_type": "text"
      },
      "source": [
        "<a href=\"https://colab.research.google.com/github/tirtha0809/Machine-Learning/blob/main/rEMOVE2_SVCRBF.ipynb\" target=\"_parent\"><img src=\"https://colab.research.google.com/assets/colab-badge.svg\" alt=\"Open In Colab\"/></a>"
      ]
    },
    {
      "cell_type": "markdown",
      "metadata": {
        "id": "d23c76a2"
      },
      "source": [
        "# Importing Libraries"
      ],
      "id": "d23c76a2"
    },
    {
      "cell_type": "code",
      "execution_count": 1,
      "metadata": {
        "id": "5b2cef0e"
      },
      "outputs": [],
      "source": [
        "import numpy as np\n",
        "import pandas as pd\n",
        "import tensorflow as tf\n",
        "import keras as kf\n",
        "from keras.models import Sequential\n",
        "from keras.layers import Dense\n",
        "from matplotlib import pyplot\n",
        "from os import makedirs\n",
        "from numpy import dstack\n",
        "from sklearn.linear_model import LogisticRegression\n",
        "from sklearn.neighbors import KNeighborsClassifier\n",
        "from sklearn.ensemble import GradientBoostingClassifier\n",
        "from sklearn.ensemble import RandomForestClassifier\n",
        "from sklearn.tree import DecisionTreeClassifier\n",
        "from xgboost import XGBClassifier\n",
        "from sklearn.svm import SVC\n",
        "from sklearn.naive_bayes import GaussianNB\n",
        "from sklearn.ensemble import AdaBoostClassifier\n",
        "from lightgbm import LGBMClassifier\n",
        "from sklearn.preprocessing import StandardScaler\n",
        "from sklearn.model_selection import train_test_split\n",
        "from imblearn.over_sampling import SMOTE\n",
        "from sklearn.metrics import confusion_matrix, accuracy_score\n",
        "from sklearn.metrics import precision_score, recall_score, f1_score, accuracy_score,roc_auc_score,roc_curve,auc\n",
        "from statistics import mean\n",
        "import time"
      ],
      "id": "5b2cef0e"
    },
    {
      "cell_type": "code",
      "execution_count": 2,
      "metadata": {
        "colab": {
          "base_uri": "https://localhost:8080/"
        },
        "id": "obp1lLW3UQLZ",
        "outputId": "21334593-f654-48bb-ddbf-2a875e2b8e08"
      },
      "outputs": [
        {
          "output_type": "stream",
          "name": "stdout",
          "text": [
            "Mounted at /content/drive\n"
          ]
        }
      ],
      "source": [
        "from google.colab import drive\n",
        "drive.mount('/content/drive')"
      ],
      "id": "obp1lLW3UQLZ"
    },
    {
      "cell_type": "markdown",
      "metadata": {
        "id": "78ab07f7"
      },
      "source": [
        "# Importing DataSet"
      ],
      "id": "78ab07f7"
    },
    {
      "cell_type": "code",
      "execution_count": 3,
      "metadata": {
        "colab": {
          "base_uri": "https://localhost:8080/"
        },
        "id": "9309e06d",
        "outputId": "59e5008e-5d2b-4b93-8dad-d70a835f551e"
      },
      "outputs": [
        {
          "output_type": "stream",
          "name": "stdout",
          "text": [
            "3991\n"
          ]
        }
      ],
      "source": [
        "data = pd.read_csv('/content/drive/MyDrive/LANDSLIDE/LandslideData .csv') # 20 features\n",
        "dataset = data.dropna(axis = 0, how ='any')\n",
        "X =  dataset.iloc[:,1:-1].values\n",
        "y = dataset.iloc[:, -1].values\n",
        "print(len(dataset))"
      ],
      "id": "9309e06d"
    },
    {
      "cell_type": "code",
      "execution_count": 4,
      "metadata": {
        "id": "588acb2f"
      },
      "outputs": [],
      "source": [
        "#smote = SMOTE()"
      ],
      "id": "588acb2f"
    },
    {
      "cell_type": "code",
      "execution_count": 5,
      "metadata": {
        "id": "363487ad"
      },
      "outputs": [],
      "source": [
        "#x_smote, y_smote = smote.fit_resample(X, y)\n",
        "smote= SMOTE(k_neighbors = 3)\n",
        "x_smote,y_smote = smote.fit_resample(X,y)"
      ],
      "id": "363487ad"
    },
    {
      "cell_type": "code",
      "execution_count": 6,
      "metadata": {
        "id": "654f6958"
      },
      "outputs": [],
      "source": [
        "from keras.models import load_model"
      ],
      "id": "654f6958"
    },
    {
      "cell_type": "code",
      "execution_count": 7,
      "metadata": {
        "id": "67861b3e"
      },
      "outputs": [],
      "source": [
        "# create a custom function to load model\n",
        "def load_all_models(n_models):\n",
        "    all_models = list()\n",
        "    for i in range(n_models):\n",
        "        # filename\n",
        "        filename = 'north/model' + str(i + 1) + '.h5'\n",
        "        # load model\n",
        "        model = load_model(filename)\n",
        "        # Add a list of all the weaker learners\n",
        "        all_models.append(model)\n",
        "        #print('>loaded %s' % filename)\n",
        "    return all_models"
      ],
      "id": "67861b3e"
    },
    {
      "cell_type": "markdown",
      "metadata": {
        "id": "0c4c39db"
      },
      "source": [
        "## Stacking models"
      ],
      "id": "0c4c39db"
    },
    {
      "cell_type": "code",
      "execution_count": 8,
      "metadata": {
        "id": "db0754d0"
      },
      "outputs": [],
      "source": [
        "# create stacked model input dataset as outputs from the ensemble\n",
        "def stacked_dataset(members, inputX):\n",
        "    stackX = None\n",
        "    for model in members:\n",
        "        # make prediction\n",
        "        yhat = model.predict(inputX, verbose=0)\n",
        "        # stack predictions into [rows, members, probabilities]\n",
        "        if stackX is None:\n",
        "            stackX = yhat #\n",
        "        else:\n",
        "            stackX = dstack((stackX, yhat))\n",
        "    # flatten predictions to [rows, members x probabilities]\n",
        "    stackX = stackX.reshape((stackX.shape[0], stackX.shape[1]*stackX.shape[2]))\n",
        "    return stackX"
      ],
      "id": "db0754d0"
    },
    {
      "cell_type": "markdown",
      "metadata": {
        "id": "c1de75a1"
      },
      "source": [
        "## Fit meta-learner"
      ],
      "id": "c1de75a1"
    },
    {
      "cell_type": "code",
      "execution_count": 9,
      "metadata": {
        "id": "620c3aa9"
      },
      "outputs": [],
      "source": [
        "# fit a model based on the outputs from the ensemble members\n",
        "def fit_stacked_model(members, inputX, inputy):\n",
        "    # create dataset using ensemble\n",
        "    stackedX = stacked_dataset(members, inputX)\n",
        "    #print(\"Models Test time: \",(end-start) * 10**3, \"ms\")\n",
        "    # fit the meta learner\n",
        "    #model = LogisticRegression() #meta learner\n",
        "    model = SVC(kernel = 'rbf',random_state = 0,probability= True)\n",
        "    # model = SVC(kernel = 'linear', random_state = 0,probability=True)\n",
        "    #model = GaussianNB()\n",
        "    #model = KNeighborsClassifier(n_neighbors = 3, metric = 'minkowski', p = 2)\n",
        "    # model = GradientBoostingClassifier(n_estimators=50,learning_rate=0.5, max_depth=6, random_state=0)\n",
        "    #model = RandomForestClassifier(criterion = 'entropy', random_state = 0)\n",
        "    # model = LGBMClassifier(random_state=0)\n",
        "    # model = DecisionTreeClassifier(max_depth=7,criterion = 'entropy', random_state = 0)\n",
        "    # model = XGBClassifier(n_estimators=50,learning_rate=0.5,max_depth=3)\n",
        "    #model = AdaBoostClassifier(n_estimators = 100, learning_rate = 1,random_state = 0)\n",
        "    #model.fit(X_train, y_train)\n",
        "    model.fit(stackedX, inputy)\n",
        "    return model"
      ],
      "id": "620c3aa9"
    },
    {
      "cell_type": "code",
      "execution_count": 10,
      "metadata": {
        "id": "46d953ea"
      },
      "outputs": [],
      "source": [
        "def stacked_prediction(members, model, inputX):\n",
        "    # create dataset using ensemble\n",
        "    stackedX = stacked_dataset(members, inputX)\n",
        "    # make a prediction\n",
        "    yhat = model.predict(stackedX)\n",
        "    return yhat"
      ],
      "id": "46d953ea"
    },
    {
      "cell_type": "code",
      "execution_count": 11,
      "metadata": {
        "id": "1bd5b4f1"
      },
      "outputs": [],
      "source": [
        "def stacked_prediction_proba(members,model,inputX):\n",
        "    # create dataset using ensemble\n",
        "    stackedX = stacked_dataset(members,inputX)\n",
        "    # make a prediction\n",
        "    yhatProb = model.predict_proba(stackedX)\n",
        "    return yhatProb"
      ],
      "id": "1bd5b4f1"
    },
    {
      "cell_type": "code",
      "execution_count": 12,
      "metadata": {
        "id": "86c41c29"
      },
      "outputs": [],
      "source": [
        "acc_train = []\n",
        "acc_test = []\n",
        "Precision_macro = []\n",
        "Precision_micro = []\n",
        "Recall_macro = []\n",
        "Recall_micro = []\n",
        "F1_macro = []\n",
        "F1_micro = []\n",
        "AUC_ovo = []\n",
        "AUC_ovr = []\n",
        "train_time = []\n",
        "test_time = []"
      ],
      "id": "86c41c29"
    },
    {
      "cell_type": "code",
      "execution_count": 13,
      "metadata": {
        "id": "--nkGullVeMc"
      },
      "outputs": [],
      "source": [
        "num_classes = 13"
      ],
      "id": "--nkGullVeMc"
    },
    {
      "cell_type": "code",
      "execution_count": 14,
      "metadata": {
        "colab": {
          "base_uri": "https://localhost:8080/"
        },
        "id": "426c21a7",
        "outputId": "4b79088f-a980-4bc5-b090-85634dafe50d"
      },
      "outputs": [
        {
          "output_type": "stream",
          "name": "stdout",
          "text": [
            "[ 0.  1.  2.  3.  4.  5.  6.  7.  8.  9. 10. 11.]\n"
          ]
        },
        {
          "output_type": "stream",
          "name": "stderr",
          "text": [
            "/usr/local/lib/python3.10/dist-packages/keras/src/engine/training.py:3103: UserWarning: You are saving your model as an HDF5 file via `model.save()`. This file format is considered legacy. We recommend using instead the native Keras format, e.g. `model.save('my_model.keras')`.\n",
            "  saving_api.save_model(\n"
          ]
        },
        {
          "output_type": "stream",
          "name": "stdout",
          "text": [
            "Cross validation Train time:  1578303.9536476135 ms\n",
            "Cross validation Test time:  6037.687063217163 ms\n",
            "[ 0.  1.  2.  3.  4.  5.  6.  7.  8.  9. 10. 11.]\n"
          ]
        },
        {
          "output_type": "stream",
          "name": "stderr",
          "text": [
            "/usr/local/lib/python3.10/dist-packages/keras/src/engine/training.py:3103: UserWarning: You are saving your model as an HDF5 file via `model.save()`. This file format is considered legacy. We recommend using instead the native Keras format, e.g. `model.save('my_model.keras')`.\n",
            "  saving_api.save_model(\n"
          ]
        },
        {
          "output_type": "stream",
          "name": "stdout",
          "text": [
            "Cross validation Train time:  1492596.3246822357 ms\n",
            "Cross validation Test time:  8184.410572052002 ms\n",
            "[ 0.  1.  2.  3.  4.  5.  6.  7.  8.  9. 10. 11.]\n"
          ]
        },
        {
          "output_type": "stream",
          "name": "stderr",
          "text": [
            "/usr/local/lib/python3.10/dist-packages/keras/src/engine/training.py:3103: UserWarning: You are saving your model as an HDF5 file via `model.save()`. This file format is considered legacy. We recommend using instead the native Keras format, e.g. `model.save('my_model.keras')`.\n",
            "  saving_api.save_model(\n"
          ]
        },
        {
          "output_type": "stream",
          "name": "stdout",
          "text": [
            "Cross validation Train time:  1666575.0875473022 ms\n",
            "Cross validation Test time:  6621.671199798584 ms\n",
            "[ 0.  1.  2.  3.  4.  5.  6.  7.  8.  9. 10. 11.]\n"
          ]
        },
        {
          "output_type": "stream",
          "name": "stderr",
          "text": [
            "/usr/local/lib/python3.10/dist-packages/keras/src/engine/training.py:3103: UserWarning: You are saving your model as an HDF5 file via `model.save()`. This file format is considered legacy. We recommend using instead the native Keras format, e.g. `model.save('my_model.keras')`.\n",
            "  saving_api.save_model(\n"
          ]
        },
        {
          "output_type": "stream",
          "name": "stdout",
          "text": [
            "Cross validation Train time:  1647028.3269882202 ms\n",
            "Cross validation Test time:  6083.802938461304 ms\n",
            "[ 0.  1.  2.  3.  4.  5.  6.  7.  8.  9. 10. 11.]\n"
          ]
        },
        {
          "output_type": "stream",
          "name": "stderr",
          "text": [
            "/usr/local/lib/python3.10/dist-packages/keras/src/engine/training.py:3103: UserWarning: You are saving your model as an HDF5 file via `model.save()`. This file format is considered legacy. We recommend using instead the native Keras format, e.g. `model.save('my_model.keras')`.\n",
            "  saving_api.save_model(\n"
          ]
        },
        {
          "output_type": "stream",
          "name": "stdout",
          "text": [
            "Cross validation Train time:  1609661.1442565918 ms\n",
            "Cross validation Test time:  6088.055849075317 ms\n"
          ]
        }
      ],
      "source": [
        "for i in range(0,5):\n",
        "\n",
        "    X_train_cv, X_test_cv, y_train_cv, y_test_cv = train_test_split(x_smote, y_smote, test_size = 0.25,random_state = i)\n",
        "    y_train_cv = y_train_cv - 1\n",
        "    y_test_cv = y_test_cv - 1\n",
        "\n",
        "    sc = StandardScaler()\n",
        "    X_train_cv = sc.fit_transform(X_train_cv)\n",
        "    X_test_cv = sc.transform(X_test_cv)\n",
        "    unique_labels = np.unique(y_train_cv)\n",
        "    print(unique_labels)\n",
        "\n",
        "    start = time.time()\n",
        "    # Model 1\n",
        "    ann1 = Sequential()\n",
        "    ann1.add(tf.keras.layers.Dense(units=15, activation='relu'))\n",
        "    ann1.add(tf.keras.layers.Dense(units=20, activation='relu'))\n",
        "    ann1.add(tf.keras.layers.Dense(units=num_classes, activation='softmax'))\n",
        "    ann1.compile(optimizer = 'adam', loss = kf.losses.SparseCategoricalCrossentropy(), metrics = [kf.metrics.CategoricalAccuracy()])\n",
        "    ann1.fit(X_train_cv, y_train_cv, batch_size = 128, epochs = 100,verbose=0)\n",
        "\n",
        "    # Model 2\n",
        "    ann2 = Sequential()\n",
        "    ann2.add(tf.keras.layers.Dense(units=10, activation='relu'))\n",
        "    ann2.add(tf.keras.layers.Dense(units=15, activation='relu'))\n",
        "    ann2.add(tf.keras.layers.Dense(units=25, activation='relu'))\n",
        "    ann2.add(tf.keras.layers.Dense(units=num_classes, activation='softmax'))\n",
        "    ann2.compile(optimizer = 'adam', loss = kf.losses.SparseCategoricalCrossentropy(), metrics = [kf.metrics.CategoricalAccuracy()])\n",
        "    ann2.fit(X_train_cv, y_train_cv, batch_size = 128, epochs = 150,verbose=0)\n",
        "\n",
        "    # Model 3\n",
        "    ann3 = Sequential()\n",
        "    ann3.add(tf.keras.layers.Dense(units=20, activation='relu'))\n",
        "    ann3.add(tf.keras.layers.Dense(units=25, activation='relu'))\n",
        "    ann3.add(tf.keras.layers.Dense(units=30, activation='relu'))\n",
        "    ann3.add(tf.keras.layers.Dense(units=num_classes, activation='softmax'))\n",
        "    ann3.compile(optimizer = 'adam', loss = kf.losses.SparseCategoricalCrossentropy(), metrics = [kf.metrics.CategoricalAccuracy()])\n",
        "    ann3.fit(X_train_cv, y_train_cv, batch_size = 128, epochs = 180,verbose=0)\n",
        "\n",
        "    # Model 4\n",
        "\n",
        "    ann4 = Sequential()\n",
        "    ann4.add(tf.keras.layers.Dense(units=30, activation='relu'))\n",
        "    ann4.add(tf.keras.layers.Dense(units=35, activation='relu'))\n",
        "    ann4.add(tf.keras.layers.Dense(units=40, activation='relu'))\n",
        "    ann4.add(tf.keras.layers.Dense(units=num_classes, activation='softmax'))\n",
        "    ann4.compile(optimizer = 'adam', loss = kf.losses.SparseCategoricalCrossentropy(), metrics = [kf.metrics.CategoricalAccuracy()])\n",
        "    ann4.fit(X_train_cv, y_train_cv, batch_size = 128, epochs = 200,verbose=0)\n",
        "\n",
        "    # Model 5\n",
        "\n",
        "    ann5 = Sequential()\n",
        "    ann5.add(tf.keras.layers.Dense(units=40, activation='relu'))\n",
        "    ann5.add(tf.keras.layers.Dense(units=50, activation='relu'))\n",
        "    ann5.add(tf.keras.layers.Dense(units=55, activation='relu'))\n",
        "    ann5.add(tf.keras.layers.Dense(units=num_classes, activation='softmax'))\n",
        "    ann5.compile(optimizer = 'adam', loss = kf.losses.SparseCategoricalCrossentropy(), metrics = [kf.metrics.CategoricalAccuracy()])\n",
        "    ann5.fit(X_train_cv, y_train_cv, batch_size = 128, epochs = 250,verbose=0)\n",
        "\n",
        "    # Model 6\n",
        "\n",
        "    ann6 = Sequential()\n",
        "    ann6.add(tf.keras.layers.Dense(units=35, activation='relu'))\n",
        "    ann6.add(tf.keras.layers.Dense(units=45, activation='relu'))\n",
        "    ann6.add(tf.keras.layers.Dense(units=50, activation='relu'))\n",
        "    ann6.add(tf.keras.layers.Dense(units=num_classes, activation='softmax'))\n",
        "    ann6.compile(optimizer = 'adam', loss = kf.losses.SparseCategoricalCrossentropy(), metrics = [kf.metrics.CategoricalAccuracy()])\n",
        "    ann6.fit(X_train_cv, y_train_cv, batch_size = 128, epochs = 300,verbose=0)\n",
        "\n",
        "    # Model 7\n",
        "\n",
        "    ann7 = Sequential()\n",
        "    ann7.add(tf.keras.layers.Dense(units=35, activation='relu'))\n",
        "    ann7.add(tf.keras.layers.Dense(units=45, activation='relu'))\n",
        "    ann7.add(tf.keras.layers.Dense(units=50, activation='relu'))\n",
        "    ann7.add(tf.keras.layers.Dense(units=num_classes, activation='softmax'))\n",
        "    ann7.compile(optimizer = 'adam', loss = kf.losses.SparseCategoricalCrossentropy(), metrics = [kf.metrics.CategoricalAccuracy()])\n",
        "    ann7.fit(X_train_cv, y_train_cv, batch_size = 128, epochs = 300,verbose=0)\n",
        "\n",
        "    # Model 8\n",
        "\n",
        "    ann8 = Sequential()\n",
        "    ann8.add(tf.keras.layers.Dense(units=35, activation='relu'))\n",
        "    ann8.add(tf.keras.layers.Dense(units=45, activation='relu'))\n",
        "    ann8.add(tf.keras.layers.Dense(units=50, activation='relu'))\n",
        "    ann8.add(tf.keras.layers.Dense(units=num_classes, activation='softmax'))\n",
        "    ann8.compile(optimizer = 'adam', loss = kf.losses.SparseCategoricalCrossentropy(), metrics = [kf.metrics.CategoricalAccuracy()])\n",
        "    ann8.fit(X_train_cv, y_train_cv, batch_size = 128, epochs = 300,verbose=0)\n",
        "\n",
        "    # Model 9\n",
        "\n",
        "    ann9 = Sequential()\n",
        "    ann9.add(tf.keras.layers.Dense(units=35, activation='relu'))\n",
        "    ann9.add(tf.keras.layers.Dense(units=45, activation='relu'))\n",
        "    ann9.add(tf.keras.layers.Dense(units=50, activation='relu'))\n",
        "    ann9.add(tf.keras.layers.Dense(units=num_classes, activation='softmax'))\n",
        "    ann9.compile(optimizer = 'adam', loss = kf.losses.SparseCategoricalCrossentropy(), metrics = [kf.metrics.CategoricalAccuracy()])\n",
        "    ann9.fit(X_train_cv, y_train_cv, batch_size = 128, epochs = 300,verbose=0)\n",
        "\n",
        "    # Model 10\n",
        "\n",
        "    ann10 = Sequential()\n",
        "    ann10.add(tf.keras.layers.Dense(units=35, activation='relu'))\n",
        "    ann10.add(tf.keras.layers.Dense(units=45, activation='relu'))\n",
        "    ann10.add(tf.keras.layers.Dense(units=50, activation='relu'))\n",
        "    ann10.add(tf.keras.layers.Dense(units=num_classes, activation='softmax'))\n",
        "    ann10.compile(optimizer = 'adam', loss = kf.losses.SparseCategoricalCrossentropy(), metrics = [kf.metrics.CategoricalAccuracy()])\n",
        "    ann10.fit(X_train_cv, y_train_cv, batch_size = 128, epochs = 300,verbose=0)\n",
        "    # Model 11\n",
        "\n",
        "    ann11 = Sequential()\n",
        "    ann11.add(tf.keras.layers.Dense(units=35, activation='relu'))\n",
        "    ann11.add(tf.keras.layers.Dense(units=45, activation='relu'))\n",
        "    ann11.add(tf.keras.layers.Dense(units=50, activation='relu'))\n",
        "    ann11.add(tf.keras.layers.Dense(units=num_classes, activation='softmax'))\n",
        "    ann11.compile(optimizer = 'adam', loss = kf.losses.SparseCategoricalCrossentropy(), metrics = [kf.metrics.CategoricalAccuracy()])\n",
        "    ann11.fit(X_train_cv, y_train_cv, batch_size = 128, epochs = 300,verbose=0)\n",
        "\n",
        "    # Model 12\n",
        "\n",
        "    ann12 = Sequential()\n",
        "    ann12.add(tf.keras.layers.Dense(units=35, activation='relu'))\n",
        "    ann12.add(tf.keras.layers.Dense(units=45, activation='relu'))\n",
        "    ann12.add(tf.keras.layers.Dense(units=50, activation='relu'))\n",
        "    ann12.add(tf.keras.layers.Dense(units=num_classes, activation='softmax'))\n",
        "    ann12.compile(optimizer = 'adam', loss = kf.losses.SparseCategoricalCrossentropy(), metrics = [kf.metrics.CategoricalAccuracy()])\n",
        "    ann12.fit(X_train_cv, y_train_cv, batch_size = 128, epochs = 300,verbose=0)\n",
        "\n",
        "    # Model 13\n",
        "\n",
        "    ann13 = Sequential()\n",
        "    ann13.add(tf.keras.layers.Dense(units=35, activation='relu'))\n",
        "    ann13.add(tf.keras.layers.Dense(units=45, activation='relu'))\n",
        "    ann13.add(tf.keras.layers.Dense(units=50, activation='relu'))\n",
        "    ann13.add(tf.keras.layers.Dense(units=num_classes, activation='softmax'))\n",
        "    ann13.compile(optimizer = 'adam', loss = kf.losses.SparseCategoricalCrossentropy(), metrics = [kf.metrics.CategoricalAccuracy()])\n",
        "    ann13.fit(X_train_cv, y_train_cv, batch_size = 128, epochs = 300,verbose=0)\n",
        "\n",
        "    # Model 14\n",
        "\n",
        "    ann14 = Sequential()\n",
        "    ann14.add(tf.keras.layers.Dense(units=35, activation='relu'))\n",
        "    ann14.add(tf.keras.layers.Dense(units=45, activation='relu'))\n",
        "    ann14.add(tf.keras.layers.Dense(units=50, activation='relu'))\n",
        "    ann14.add(tf.keras.layers.Dense(units=num_classes, activation='softmax'))\n",
        "    ann14.compile(optimizer = 'adam', loss = kf.losses.SparseCategoricalCrossentropy(), metrics = [kf.metrics.CategoricalAccuracy()])\n",
        "    ann14.fit(X_train_cv, y_train_cv, batch_size = 128, epochs = 300,verbose=0)\n",
        "\n",
        "    # Model 15\n",
        "\n",
        "    ann15 = Sequential()\n",
        "    ann15.add(tf.keras.layers.Dense(units=35, activation='relu'))\n",
        "    ann15.add(tf.keras.layers.Dense(units=45, activation='sigmoid'))\n",
        "    ann15.add(tf.keras.layers.Dense(units=50, activation='relu'))\n",
        "    ann15.add(tf.keras.layers.Dense(units=num_classes, activation='softmax'))\n",
        "    ann15.compile(optimizer = 'adam', loss = kf.losses.SparseCategoricalCrossentropy(), metrics = [kf.metrics.CategoricalAccuracy()])\n",
        "    ann15.fit(X_train_cv, y_train_cv, batch_size = 128, epochs = 300,verbose=0)\n",
        "\n",
        "    # Model 16\n",
        "\n",
        "    ann16 = Sequential()\n",
        "    ann16.add(tf.keras.layers.Dense(units=35, activation='relu'))\n",
        "    ann16.add(tf.keras.layers.Dense(units=45, activation='sigmoid'))\n",
        "    ann16.add(tf.keras.layers.Dense(units=50, activation='relu'))\n",
        "    ann16.add(tf.keras.layers.Dense(units=num_classes, activation='softmax'))\n",
        "    ann16.compile(optimizer = 'adam', loss = kf.losses.SparseCategoricalCrossentropy(), metrics = [kf.metrics.CategoricalAccuracy()])\n",
        "    ann16.fit(X_train_cv, y_train_cv, batch_size = 128, epochs = 300,verbose=0)\n",
        "\n",
        "    ann1.save('north/model1.h5')\n",
        "    ann2.save('north/model2.h5')\n",
        "    ann3.save('north/model3.h5')\n",
        "    ann4.save('north/model4.h5')\n",
        "    ann5.save('north/model5.h5')\n",
        "    ann6.save('north/model6.h5')\n",
        "    ann7.save('north/model7.h5')\n",
        "    ann8.save('north/model8.h5')\n",
        "    ann9.save('north/model9.h5')\n",
        "    ann10.save('north/model10.h5')\n",
        "    ann11.save('north/model11.h5')\n",
        "    ann12.save('north/model12.h5')\n",
        "    ann13.save('north/model13.h5')\n",
        "    ann14.save('north/model14.h5')\n",
        "    ann15.save('north/model15.h5')\n",
        "    ann16.save('north/model16.h5')\n",
        "\n",
        "    members = load_all_models(16)\n",
        "    model = fit_stacked_model(members, X_train_cv,y_train_cv)\n",
        "    end = time.time()\n",
        "    print(\"Cross validation Train time: \",(end-start) * 10**3, \"ms\")\n",
        "    t = (end-start)*1000\n",
        "    train_time.append(t)\n",
        "\n",
        "    start = time.time()\n",
        "    y_pred = stacked_prediction(members, model, X_test_cv)\n",
        "    end = time.time()\n",
        "\n",
        "    t = (end - start)*1000\n",
        "    test_time.append(t)\n",
        "\n",
        "    print(\"Cross validation Test time: \",(end-start) * 10**3, \"ms\")\n",
        "    y_test_prob = stacked_prediction_proba(members,model,X_test_cv)\n",
        "    y_train_pred = stacked_prediction(members, model, X_train_cv)\n",
        "\n",
        "    cm = confusion_matrix(y_test_cv, y_pred)\n",
        "\n",
        "\n",
        "    accuracy = accuracy_score(y_test_cv, y_pred)\n",
        "    acc_test.append(accuracy)\n",
        "    accuracy_train = accuracy_score(y_train_cv, y_train_pred)\n",
        "    acc_train.append(accuracy_train)\n",
        "\n",
        "    pre_macro = precision_score(y_test_cv, y_pred,average='macro')\n",
        "    Precision_macro.append(pre_macro)\n",
        "    pre_micro = precision_score(y_test_cv, y_pred,average='micro')\n",
        "    Precision_micro.append(pre_micro)\n",
        "\n",
        "    re_macro = recall_score(y_test_cv, y_pred,average='macro')\n",
        "    Recall_macro.append(re_macro)\n",
        "    re_micro = recall_score(y_test_cv, y_pred,average='micro')\n",
        "    Recall_micro.append(re_micro)\n",
        "\n",
        "    f1_macro = f1_score(y_test_cv, y_pred,average='macro')\n",
        "    F1_macro.append(f1_macro)\n",
        "    f1_micro = f1_score(y_test_cv, y_pred,average='micro')\n",
        "    F1_micro.append(f1_micro)\n",
        "\n",
        "    auc_ovo = roc_auc_score(y_test_cv,y_test_prob,multi_class='ovo')\n",
        "    AUC_ovo.append(auc_ovo)\n",
        "    auc_ovr = roc_auc_score(y_test_cv,y_test_prob,multi_class='ovr')\n",
        "    AUC_ovr.append(auc_ovr)\n"
      ],
      "id": "426c21a7"
    },
    {
      "cell_type": "code",
      "execution_count": 15,
      "metadata": {
        "id": "4631b43e"
      },
      "outputs": [],
      "source": [
        "result_cv = pd.DataFrame()\n",
        "result_cv[\"Train_acc\"] = acc_train\n",
        "result_cv[\"Test_acc\"] = acc_test\n",
        "result_cv[\"Precision(macro)\"] = Precision_macro\n",
        "result_cv[\"Precision(micro)\"] = Precision_micro\n",
        "result_cv[\"Recall(macro)\"] = Recall_macro\n",
        "result_cv[\"Recall(micro)\"] = Recall_micro\n",
        "result_cv[\"F1(macro)\"] = F1_macro\n",
        "result_cv[\"F1(micro)\"] = F1_micro\n",
        "result_cv[\"AUC(ovo)\"] = AUC_ovo\n",
        "result_cv[\"AUC(ovr)\"] = AUC_ovr\n",
        "result_cv[\"Train Time\"] = train_time\n",
        "result_cv[\"Test Time\"] = test_time"
      ],
      "id": "4631b43e"
    },
    {
      "cell_type": "code",
      "execution_count": 16,
      "metadata": {
        "colab": {
          "base_uri": "https://localhost:8080/"
        },
        "id": "6bf66a36",
        "outputId": "55fff64b-a734-43ad-a31c-f71db7d893dd"
      },
      "outputs": [
        {
          "output_type": "execute_result",
          "data": {
            "text/plain": [
              "[1578303.9536476135,\n",
              " 1492596.3246822357,\n",
              " 1666575.0875473022,\n",
              " 1647028.3269882202,\n",
              " 1609661.1442565918]"
            ]
          },
          "metadata": {},
          "execution_count": 16
        }
      ],
      "source": [
        "train_time"
      ],
      "id": "6bf66a36"
    },
    {
      "cell_type": "code",
      "execution_count": 17,
      "metadata": {
        "colab": {
          "base_uri": "https://localhost:8080/"
        },
        "id": "105fd285",
        "outputId": "614bfbc6-0b3f-4e62-fcda-1c212ad70821"
      },
      "outputs": [
        {
          "output_type": "execute_result",
          "data": {
            "text/plain": [
              "[6037.687063217163,\n",
              " 8184.410572052002,\n",
              " 6621.671199798584,\n",
              " 6083.802938461304,\n",
              " 6088.055849075317]"
            ]
          },
          "metadata": {},
          "execution_count": 17
        }
      ],
      "source": [
        "test_time"
      ],
      "id": "105fd285"
    },
    {
      "cell_type": "code",
      "execution_count": 18,
      "metadata": {
        "id": "b92aa6da"
      },
      "outputs": [],
      "source": [
        "result_cv.to_csv(\"filename\", index=False)"
      ],
      "id": "b92aa6da"
    },
    {
      "cell_type": "code",
      "execution_count": 19,
      "metadata": {
        "id": "0663ab50"
      },
      "outputs": [],
      "source": [
        "result_cv_avg = pd.DataFrame()\n",
        "lst = []\n",
        "x = mean(acc_train)*100\n",
        "lst.append(x)\n",
        "result_cv_avg[\"Train_acc\"] = lst\n",
        "result_cv_avg[\"Test_acc\"] = mean(acc_test)*100\n",
        "result_cv_avg[\"SD\"] = np.std(acc_test)*100\n",
        "result_cv_avg[\"Precision(macro)\"] = mean(Precision_macro)\n",
        "result_cv_avg[\"Precision(micro)\"] = mean(Precision_micro)\n",
        "result_cv_avg[\"Recall(macro)\"] = mean(Recall_macro)\n",
        "result_cv_avg[\"Recall(micro)\"] = mean(Recall_micro)\n",
        "result_cv_avg[\"F1(macro)\"] = mean(F1_macro)\n",
        "result_cv_avg[\"F1(micro)\"] = mean(F1_micro)\n",
        "result_cv_avg[\"AUC(ovo)\"] = mean(AUC_ovo)\n",
        "result_cv_avg[\"AUC(ovr)\"] = mean(AUC_ovr)"
      ],
      "id": "0663ab50"
    },
    {
      "cell_type": "code",
      "execution_count": 20,
      "metadata": {
        "id": "b3d296c7"
      },
      "outputs": [],
      "source": [
        "result_cv_avg.to_csv(\"filename\", index=False)"
      ],
      "id": "b3d296c7"
    },
    {
      "cell_type": "code",
      "execution_count": 21,
      "metadata": {
        "colab": {
          "base_uri": "https://localhost:8080/"
        },
        "id": "d737dfcb",
        "outputId": "600e39bb-efcb-4b2e-b07c-2267708ce3e1"
      },
      "outputs": [
        {
          "output_type": "execute_result",
          "data": {
            "text/plain": [
              "[0.9991525846169184,\n",
              " 0.9990030407257864,\n",
              " 0.998903344798365,\n",
              " 0.9989531927620756,\n",
              " 0.9991027366532077]"
            ]
          },
          "metadata": {},
          "execution_count": 21
        }
      ],
      "source": [
        "acc_train"
      ],
      "id": "d737dfcb"
    },
    {
      "cell_type": "code",
      "execution_count": 22,
      "metadata": {
        "colab": {
          "base_uri": "https://localhost:8080/"
        },
        "id": "5601cc70",
        "outputId": "908a4b96-5110-4942-becc-d68001d6c217"
      },
      "outputs": [
        {
          "output_type": "execute_result",
          "data": {
            "text/plain": [
              "[0.949454164797368,\n",
              " 0.9433228652609541,\n",
              " 0.9479587258860476,\n",
              " 0.949304620906236,\n",
              " 0.9470614625392553]"
            ]
          },
          "metadata": {},
          "execution_count": 22
        }
      ],
      "source": [
        "acc_test"
      ],
      "id": "5601cc70"
    },
    {
      "cell_type": "code",
      "execution_count": 23,
      "metadata": {
        "colab": {
          "base_uri": "https://localhost:8080/"
        },
        "id": "a183e93a",
        "outputId": "647d354e-3330-4aec-dc47-74d606d92d84"
      },
      "outputs": [
        {
          "output_type": "execute_result",
          "data": {
            "text/plain": [
              "[0.9501037455513076,\n",
              " 0.9435539855543779,\n",
              " 0.946087657382053,\n",
              " 0.9494970277247817,\n",
              " 0.9464792861897583]"
            ]
          },
          "metadata": {},
          "execution_count": 23
        }
      ],
      "source": [
        "Precision_macro"
      ],
      "id": "a183e93a"
    },
    {
      "cell_type": "code",
      "execution_count": 24,
      "metadata": {
        "colab": {
          "base_uri": "https://localhost:8080/"
        },
        "id": "919cba03",
        "outputId": "bd1a30a7-da78-4d5a-c60e-3e31ec5721be"
      },
      "outputs": [
        {
          "output_type": "execute_result",
          "data": {
            "text/plain": [
              "[0.949454164797368,\n",
              " 0.9433228652609541,\n",
              " 0.9479587258860476,\n",
              " 0.949304620906236,\n",
              " 0.9470614625392553]"
            ]
          },
          "metadata": {},
          "execution_count": 24
        }
      ],
      "source": [
        "Precision_micro"
      ],
      "id": "919cba03"
    },
    {
      "cell_type": "code",
      "execution_count": 25,
      "metadata": {
        "colab": {
          "base_uri": "https://localhost:8080/"
        },
        "id": "da5922e3",
        "outputId": "7c563106-55c7-4b8d-c374-5e7efa207220"
      },
      "outputs": [
        {
          "output_type": "execute_result",
          "data": {
            "text/plain": [
              "[0.9490392668048523,\n",
              " 0.9436878378642904,\n",
              " 0.9462761607044111,\n",
              " 0.9503941623269031,\n",
              " 0.9464380897586917]"
            ]
          },
          "metadata": {},
          "execution_count": 25
        }
      ],
      "source": [
        "Recall_macro"
      ],
      "id": "da5922e3"
    },
    {
      "cell_type": "code",
      "execution_count": 26,
      "metadata": {
        "colab": {
          "base_uri": "https://localhost:8080/"
        },
        "id": "9da08914",
        "outputId": "94faa93c-1c72-4824-ab8d-323758307813"
      },
      "outputs": [
        {
          "output_type": "execute_result",
          "data": {
            "text/plain": [
              "[0.949454164797368,\n",
              " 0.9433228652609541,\n",
              " 0.9479587258860476,\n",
              " 0.949304620906236,\n",
              " 0.9470614625392553]"
            ]
          },
          "metadata": {},
          "execution_count": 26
        }
      ],
      "source": [
        "Recall_micro"
      ],
      "id": "9da08914"
    },
    {
      "cell_type": "code",
      "execution_count": 27,
      "metadata": {
        "colab": {
          "base_uri": "https://localhost:8080/"
        },
        "id": "d06098bb",
        "outputId": "242d5131-448b-42c5-bdc3-4d133b104c18"
      },
      "outputs": [
        {
          "output_type": "execute_result",
          "data": {
            "text/plain": [
              "[0.9495039252079257,\n",
              " 0.9432560093801768,\n",
              " 0.9461052752760768,\n",
              " 0.9499128905189186,\n",
              " 0.9463872841945126]"
            ]
          },
          "metadata": {},
          "execution_count": 27
        }
      ],
      "source": [
        "F1_macro"
      ],
      "id": "d06098bb"
    },
    {
      "cell_type": "code",
      "execution_count": 28,
      "metadata": {
        "colab": {
          "base_uri": "https://localhost:8080/"
        },
        "id": "c98a6d5f",
        "outputId": "fb596d6c-a350-47d4-da46-ad5bdb311820"
      },
      "outputs": [
        {
          "output_type": "execute_result",
          "data": {
            "text/plain": [
              "[0.949454164797368,\n",
              " 0.9433228652609541,\n",
              " 0.9479587258860476,\n",
              " 0.949304620906236,\n",
              " 0.9470614625392553]"
            ]
          },
          "metadata": {},
          "execution_count": 28
        }
      ],
      "source": [
        "F1_micro"
      ],
      "id": "c98a6d5f"
    },
    {
      "cell_type": "code",
      "execution_count": 29,
      "metadata": {
        "colab": {
          "base_uri": "https://localhost:8080/"
        },
        "id": "ae3f919c",
        "outputId": "21c2b761-e1f6-442c-b10a-613e889f0206"
      },
      "outputs": [
        {
          "output_type": "execute_result",
          "data": {
            "text/plain": [
              "[0.9956283848174492,\n",
              " 0.9957582742735054,\n",
              " 0.9958655138333088,\n",
              " 0.9961391238757024,\n",
              " 0.9955403207811427]"
            ]
          },
          "metadata": {},
          "execution_count": 29
        }
      ],
      "source": [
        "AUC_ovo"
      ],
      "id": "ae3f919c"
    },
    {
      "cell_type": "code",
      "execution_count": 30,
      "metadata": {
        "colab": {
          "base_uri": "https://localhost:8080/"
        },
        "id": "9bc6fd04",
        "outputId": "47654dc4-7da5-494f-863c-33450a478f98"
      },
      "outputs": [
        {
          "output_type": "stream",
          "name": "stdout",
          "text": [
            "3\n"
          ]
        }
      ],
      "source": [
        "index = np.argmax(AUC_ovo)\n",
        "print(index)"
      ],
      "id": "9bc6fd04"
    },
    {
      "cell_type": "code",
      "execution_count": 31,
      "metadata": {
        "colab": {
          "base_uri": "https://localhost:8080/"
        },
        "id": "a85635c8",
        "outputId": "7c68151f-085f-4f56-e664-422034f8412b"
      },
      "outputs": [
        {
          "output_type": "execute_result",
          "data": {
            "text/plain": [
              "[0.9956607261654683,\n",
              " 0.9957555617584947,\n",
              " 0.9959993874737485,\n",
              " 0.9960674213705052,\n",
              " 0.9955949688156777]"
            ]
          },
          "metadata": {},
          "execution_count": 31
        }
      ],
      "source": [
        "AUC_ovr"
      ],
      "id": "a85635c8"
    },
    {
      "cell_type": "code",
      "execution_count": 32,
      "metadata": {
        "colab": {
          "base_uri": "https://localhost:8080/"
        },
        "id": "005129c3",
        "outputId": "c2af622a-94e0-4bcb-9b1d-d4aa05d75387"
      },
      "outputs": [
        {
          "output_type": "stream",
          "name": "stdout",
          "text": [
            "Accuracy(Train): 99.90 %\n",
            "Accuracy(Test): 94.74 %\n",
            "Standard Deviation: 0.22%\n",
            "Precision (macro): 0.947\n",
            "Precision (micro): 0.947\n",
            "Recall (macro): 0.947\n",
            "Recall (micro): 0.947\n",
            "F1 (macro): 0.947\n",
            "F1 (micro): 0.947\n",
            "AUC (ovo): 0.996\n",
            "AUC (ovr): 0.996\n"
          ]
        }
      ],
      "source": [
        "print(\"Accuracy(Train): {:.2f} %\".format(mean(acc_train)*100))\n",
        "print(\"Accuracy(Test): {:.2f} %\".format(mean(acc_test)*100))\n",
        "print(\"Standard Deviation: {:.2f}%\".format(np.std(acc_test)*100))\n",
        "print(\"Precision (macro): %.3f\" %mean(Precision_macro))\n",
        "print(\"Precision (micro): %.3f\" %mean(Precision_micro))\n",
        "print(\"Recall (macro): %.3f\" %mean(Recall_macro))\n",
        "print(\"Recall (micro): %.3f\" %mean(Recall_micro))\n",
        "print(\"F1 (macro): %.3f\" %mean(F1_macro))\n",
        "print(\"F1 (micro): %.3f\" %mean(F1_micro))\n",
        "print(\"AUC (ovo): %.3f\" %mean(AUC_ovo))\n",
        "print(\"AUC (ovr): %.3f\" %mean(AUC_ovr))"
      ],
      "id": "005129c3"
    },
    {
      "cell_type": "code",
      "execution_count": 33,
      "metadata": {
        "id": "c4760cea"
      },
      "outputs": [],
      "source": [
        "from numpy import interp"
      ],
      "id": "c4760cea"
    },
    {
      "cell_type": "code",
      "execution_count": 34,
      "metadata": {
        "colab": {
          "base_uri": "https://localhost:8080/"
        },
        "id": "804ffd5e",
        "outputId": "196c7357-7592-4655-d0f3-51bd9dfef3da"
      },
      "outputs": [
        {
          "output_type": "stream",
          "name": "stdout",
          "text": [
            "all_fpr:  [0.00000000e+00 1.62654522e-04 1.62760417e-04 1.62786912e-04\n",
            " 1.63132137e-04 1.63212012e-04 1.63371998e-04 3.25309044e-04\n",
            " 3.25520833e-04 3.25573824e-04 3.26424025e-04 3.26743996e-04\n",
            " 4.87963565e-04 4.88281250e-04 4.89396411e-04 4.89636037e-04\n",
            " 4.90115994e-04 6.50618087e-04 6.52528548e-04 6.52848050e-04\n",
            " 8.13272609e-04 8.13802083e-04 8.15660685e-04 8.16060062e-04\n",
            " 9.75927131e-04 9.76562500e-04 9.78792822e-04 9.79272074e-04\n",
            " 1.14192496e-03 1.14248409e-03 1.30208333e-03 1.30505710e-03\n",
            " 1.46818923e-03 1.46890811e-03 1.62760417e-03 1.63132137e-03\n",
            " 1.78919974e-03 1.79445351e-03 1.79533214e-03 1.95185426e-03\n",
            " 1.95312500e-03 1.95758564e-03 1.95854415e-03 2.11588542e-03\n",
            " 2.12071778e-03 2.12175616e-03 2.27716331e-03 2.27864583e-03\n",
            " 2.28384992e-03 2.28496817e-03 2.43981783e-03 2.44698206e-03\n",
            " 2.44818019e-03 2.60416667e-03 2.61011419e-03 2.61139220e-03\n",
            " 2.76692708e-03 2.77324633e-03 2.92968750e-03 2.93637847e-03\n",
            " 2.93781622e-03 3.09244792e-03 3.09951060e-03 3.25520833e-03\n",
            " 3.41796875e-03 3.42745226e-03 3.58072917e-03 3.58890701e-03\n",
            " 3.59066427e-03 3.74348958e-03 3.75203915e-03 3.90625000e-03\n",
            " 3.91517129e-03 3.91708830e-03 4.06901042e-03 4.07830343e-03\n",
            " 4.22901757e-03 4.24143556e-03 4.24351232e-03 4.39453125e-03\n",
            " 4.40456770e-03 4.40672433e-03 4.55729167e-03 4.71698113e-03\n",
            " 4.72005208e-03 4.73083197e-03 4.73314836e-03 4.88281250e-03\n",
            " 4.89396411e-03 5.04229018e-03 5.04557292e-03 5.05709625e-03\n",
            " 5.05957238e-03 5.20833333e-03 5.22022838e-03 5.37109375e-03\n",
            " 5.38336052e-03 5.53385417e-03 5.70962480e-03 5.85937500e-03\n",
            " 6.02213542e-03 6.03588907e-03 6.19902121e-03 6.20205647e-03\n",
            " 6.34765625e-03 6.36526848e-03 6.51041667e-03 6.52848050e-03\n",
            " 6.67317708e-03 6.68841762e-03 6.69169251e-03 6.99869792e-03\n",
            " 7.01468189e-03 7.16145833e-03 7.34094617e-03 7.48697917e-03\n",
            " 7.50407830e-03 7.50775257e-03 7.66721044e-03 7.81250000e-03\n",
            " 7.83034258e-03 7.99347471e-03 7.99738861e-03 8.13802083e-03\n",
            " 8.15660685e-03 8.16060062e-03 8.30078125e-03 8.31973899e-03\n",
            " 8.32381263e-03 8.46354167e-03 8.62630208e-03 8.64600326e-03\n",
            " 8.78334418e-03 8.80913540e-03 8.81344867e-03 8.94599870e-03\n",
            " 8.95182292e-03 9.13987269e-03 9.27734375e-03 9.29853181e-03\n",
            " 9.44010417e-03 9.46166395e-03 9.60286458e-03 9.62479608e-03\n",
            " 9.78792822e-03 9.92838542e-03 9.95106036e-03 1.00911458e-02\n",
            " 1.02539062e-02 1.02773246e-02 1.04166667e-02 1.05794271e-02\n",
            " 1.07421875e-02 1.07667210e-02 1.09049479e-02 1.10677083e-02\n",
            " 1.10929853e-02 1.12304688e-02 1.12561175e-02 1.13932292e-02\n",
            " 1.14192496e-02 1.15559896e-02 1.17187500e-02 1.18815104e-02\n",
            " 1.19086460e-02 1.20717781e-02 1.22070312e-02 1.23697917e-02\n",
            " 1.23980424e-02 1.25325521e-02 1.25611746e-02 1.28580729e-02\n",
            " 1.28874388e-02 1.30208333e-02 1.32137031e-02 1.33463542e-02\n",
            " 1.33768352e-02 1.33833850e-02 1.35091146e-02 1.36718750e-02\n",
            " 1.38346354e-02 1.38730211e-02 1.41601562e-02 1.43229167e-02\n",
            " 1.43556281e-02 1.44856771e-02 1.45187602e-02 1.46484375e-02\n",
            " 1.48111979e-02 1.51367188e-02 1.52994792e-02 1.54622396e-02\n",
            " 1.54975530e-02 1.56250000e-02 1.56606852e-02 1.57877604e-02\n",
            " 1.59505208e-02 1.59869494e-02 1.61027977e-02 1.61132812e-02\n",
            " 1.61500816e-02 1.63132137e-02 1.63212012e-02 1.64388021e-02\n",
            " 1.64763458e-02 1.67643229e-02 1.69270833e-02 1.72526042e-02\n",
            " 1.76182708e-02 1.77814029e-02 1.79533214e-02 1.82291667e-02\n",
            " 1.83799610e-02 1.83919271e-02 1.84339315e-02 1.85546875e-02\n",
            " 1.85970636e-02 1.87174479e-02 1.87693814e-02 1.88802083e-02\n",
            " 1.89233279e-02 1.91932336e-02 1.92495922e-02 1.93684896e-02\n",
            " 1.95758564e-02 1.96940104e-02 1.99021207e-02 2.00652529e-02\n",
            " 2.01822917e-02 2.03450521e-02 2.03915171e-02 2.05078125e-02\n",
            " 2.06705729e-02 2.08809135e-02 2.09960938e-02 2.11588542e-02\n",
            " 2.13703100e-02 2.14843750e-02 2.15334421e-02 2.16965742e-02\n",
            " 2.18098958e-02 2.18597064e-02 2.19726562e-02 2.22981771e-02\n",
            " 2.24609375e-02 2.26236979e-02 2.26753670e-02 2.28384992e-02\n",
            " 2.30016313e-02 2.32747396e-02 2.34375000e-02 2.36541599e-02\n",
            " 2.37630208e-02 2.38172920e-02 2.39257812e-02 2.39921658e-02\n",
            " 2.40885417e-02 2.44140625e-02 2.44698206e-02 2.47395833e-02\n",
            " 2.47960848e-02 2.48861418e-02 2.49023438e-02 2.49592170e-02\n",
            " 2.51223491e-02 2.52278646e-02 2.53906250e-02 2.54486134e-02\n",
            " 2.55533854e-02 2.56117455e-02 2.58789062e-02 2.59380098e-02\n",
            " 2.60416667e-02 2.62044271e-02 2.64403460e-02 2.65299479e-02\n",
            " 2.66927083e-02 2.70182292e-02 2.70799347e-02 2.72430669e-02\n",
            " 2.75065104e-02 2.75693312e-02 2.76692708e-02 2.77324633e-02\n",
            " 2.79092541e-02 2.79947917e-02 2.81575521e-02 2.82218597e-02\n",
            " 2.83203125e-02 2.83849918e-02 2.86458333e-02 2.87112561e-02\n",
            " 2.89713542e-02 2.91341146e-02 2.92006525e-02 2.92968750e-02\n",
            " 2.94596354e-02 2.95269168e-02 2.96223958e-02 3.00310103e-02\n",
            " 3.03425775e-02 3.04361979e-02 3.05989583e-02 3.06688418e-02\n",
            " 3.07617188e-02 3.09951060e-02 3.11582382e-02 3.12296682e-02\n",
            " 3.12500000e-02 3.14127604e-02 3.15755208e-02 3.17382812e-02\n",
            " 3.20638021e-02 3.23893229e-02 3.24632953e-02 3.25520833e-02\n",
            " 3.27895595e-02 3.28776042e-02 3.30403646e-02 3.31158238e-02\n",
            " 3.33658854e-02 3.35286458e-02 3.38541667e-02 3.40169271e-02\n",
            " 3.41796875e-02 3.42577488e-02 3.43424479e-02 3.45052083e-02\n",
            " 3.46679688e-02 3.49934896e-02 3.57259380e-02 3.58072917e-02\n",
            " 3.59700521e-02 3.61328125e-02 3.67227028e-02 3.67838542e-02\n",
            " 3.69466146e-02 3.73755508e-02 3.75203915e-02 3.75976562e-02\n",
            " 3.79231771e-02 3.83360522e-02 3.85742188e-02 3.86623165e-02\n",
            " 3.88997396e-02 3.93880208e-02 3.94779772e-02 3.96411093e-02\n",
            " 3.97135417e-02 3.98763021e-02 3.99673736e-02 4.02018229e-02\n",
            " 4.02936378e-02 4.05273438e-02 4.06901042e-02 4.10156250e-02\n",
            " 4.13411458e-02 4.16666667e-02 4.22719112e-02 4.27406199e-02\n",
            " 4.30668842e-02 4.32942708e-02 4.38825449e-02 4.45963542e-02\n",
            " 4.49218750e-02 4.61663948e-02 4.62239583e-02 4.65494792e-02\n",
            " 4.67122396e-02 4.73632812e-02 4.80143229e-02 4.84502447e-02\n",
            " 4.85026042e-02 4.87765090e-02 4.92659054e-02 4.93164062e-02\n",
            " 4.97553018e-02 4.98046875e-02 4.99184339e-02 5.01302083e-02\n",
            " 5.02446982e-02 5.05709625e-02 5.06184896e-02 5.09108653e-02\n",
            " 5.09440104e-02 5.12695312e-02 5.19205729e-02 5.20833333e-02\n",
            " 5.24088542e-02 5.27000651e-02 5.31810767e-02 5.32226562e-02\n",
            " 5.33854167e-02 5.35073409e-02 5.36704731e-02 5.43619792e-02\n",
            " 5.46875000e-02 5.48123980e-02 5.51757812e-02 5.53017945e-02\n",
            " 5.55013021e-02 5.57911909e-02 5.59895833e-02 5.67699837e-02\n",
            " 5.70962480e-02 5.87275693e-02 5.88907015e-02 5.90820312e-02\n",
            " 5.95432300e-02 5.97330729e-02 6.03841146e-02 6.05220228e-02\n",
            " 6.05468750e-02 6.13376835e-02 6.20117188e-02 6.21533442e-02\n",
            " 6.22966818e-02 6.25000000e-02 6.26427406e-02 6.29690049e-02\n",
            " 6.33138021e-02 6.39477977e-02 6.41276042e-02 6.52528548e-02\n",
            " 6.59053834e-02 6.59376530e-02 6.62434896e-02 6.64062500e-02\n",
            " 6.65579119e-02 6.67317708e-02 6.72200521e-02 6.73735726e-02\n",
            " 6.75367047e-02 6.78629690e-02 6.85154976e-02 6.86848958e-02\n",
            " 6.90048940e-02 6.94942904e-02 6.98205546e-02 7.06362153e-02\n",
            " 7.11256117e-02 7.13236494e-02 7.14518760e-02 7.21044046e-02\n",
            " 7.25938010e-02 7.29200653e-02 7.38988581e-02 7.45513866e-02\n",
            " 7.46584255e-02 7.53670473e-02 7.64973958e-02 7.66721044e-02\n",
            " 7.78140294e-02 7.79771615e-02 7.86132812e-02 8.12795822e-02\n",
            " 8.18923328e-02 8.20554649e-02 8.27079935e-02 8.28711256e-02\n",
            " 8.33605220e-02 8.34960938e-02 8.40130506e-02 8.41761827e-02\n",
            " 8.43393148e-02 8.45438224e-02 8.61759425e-02 8.64600326e-02\n",
            " 8.65885417e-02 8.74388254e-02 8.80913540e-02 8.85416667e-02\n",
            " 8.87438825e-02 8.91927083e-02 9.01692708e-02 9.02120718e-02\n",
            " 9.03752039e-02 9.22851562e-02 9.24479167e-02 9.26590538e-02\n",
            " 9.49429038e-02 9.64110930e-02 9.82055465e-02 9.95106036e-02\n",
            " 1.01468189e-01 1.01631321e-01 1.01725260e-01 1.02446982e-01\n",
            " 1.02936378e-01 1.05546493e-01 1.06035889e-01 1.08156607e-01\n",
            " 1.09049479e-01 1.09624796e-01 1.09951060e-01 1.10114192e-01\n",
            " 1.12398042e-01 1.14746094e-01 1.16373698e-01 1.16802610e-01\n",
            " 1.16965742e-01 1.17455139e-01 1.17513021e-01 1.17781403e-01\n",
            " 1.18923328e-01 1.19412724e-01 1.19738989e-01 1.20880914e-01\n",
            " 1.21533442e-01 1.22022838e-01 1.22558594e-01 1.24593364e-01\n",
            " 1.24918673e-01 1.30505710e-01 1.34873812e-01 1.35201573e-01\n",
            " 1.37369792e-01 1.37757586e-01 1.38082103e-01 1.39641109e-01\n",
            " 1.39853301e-01 1.40179299e-01 1.41497045e-01 1.41624613e-01\n",
            " 1.41825345e-01 1.41950187e-01 1.42181640e-01 1.42507745e-01\n",
            " 1.43324073e-01 1.43650923e-01 1.44045677e-01 1.44116207e-01\n",
            " 1.44910962e-01 1.45237706e-01 1.50390625e-01 1.51855469e-01\n",
            " 1.59869494e-01 1.69983687e-01 1.72593801e-01 1.84828711e-01\n",
            " 2.19683369e-01 2.19846581e-01 2.23817292e-01 2.69368490e-01\n",
            " 2.74576823e-01 2.74739583e-01 2.79296875e-01 2.81250000e-01\n",
            " 2.84267277e-01 2.84594021e-01 2.96771053e-01 2.97095570e-01\n",
            " 3.11864962e-01 3.12192724e-01 3.62640954e-01 3.62967805e-01\n",
            " 3.72942135e-01 3.73268134e-01 3.83988260e-01 3.84314365e-01\n",
            " 4.67198437e-01 4.67524011e-01 6.41332896e-01 6.41661195e-01\n",
            " 7.11588542e-01 8.52528548e-01 9.32952692e-01 9.63890696e-01\n",
            " 9.64216005e-01 1.00000000e+00]\n",
            "mean_tpr:  [0.6949441  0.69571714 0.69663795 0.69709751 0.70023934 0.70306672\n",
            " 0.75548133 0.76630384 0.76645731 0.76829554 0.78734316 0.79882726\n",
            " 0.80222862 0.80268902 0.80717736 0.81000474 0.81103536 0.81227222\n",
            " 0.81541405 0.82270572 0.82455267 0.82700864 0.82910489 0.83505764\n",
            " 0.842788   0.84294147 0.84309108 0.84398394 0.84577927 0.84682094\n",
            " 0.8469744  0.85221079 0.8523604  0.85250921 0.85296962 0.85311923\n",
            " 0.85373766 0.85553299 0.85627704 0.85674086 0.85766167 0.85900817\n",
            " 0.85915698 0.85961738 0.86036544 0.86051425 0.86113268 0.86205349\n",
            " 0.86325037 0.86488728 0.8653511  0.86789449 0.86863854 0.86894547\n",
            " 0.8693943  0.86954311 0.87000352 0.87045235 0.87075929 0.8709089\n",
            " 0.87105771 0.87121118 0.87240807 0.87394275 0.87455662 0.87470543\n",
            " 0.87531931 0.87561853 0.87576734 0.87622774 0.87637735 0.87883285\n",
            " 0.87943129 0.87987772 0.88033813 0.88063735 0.88079196 0.88183923\n",
            " 0.88228566 0.8825926  0.88289182 0.88304063 0.8831941  0.88334871\n",
            " 0.88457645 0.88472606 0.88487487 0.88518181 0.88563064 0.88578525\n",
            " 0.88716647 0.88746569 0.8876145  0.88792143 0.88822066 0.88852759\n",
            " 0.88927565 0.88973605 0.88988566 0.89003913 0.8901926  0.89064143\n",
            " 0.89079104 0.89093985 0.89186066 0.89215828 0.89231175 0.89260937\n",
            " 0.89322324 0.89337286 0.89352167 0.89444248 0.8947417  0.89581598\n",
            " 0.8961152  0.89703601 0.89718562 0.89733443 0.89748404 0.89763751\n",
            " 0.89808634 0.89838556 0.89853437 0.89884131 0.89914053 0.89928934\n",
            " 0.89974975 0.90064741 0.90079622 0.90094969 0.90202397 0.90292164\n",
            " 0.90307624 0.90352508 0.90367389 0.90382849 0.90398196 0.90413077\n",
            " 0.90459118 0.9048904  0.90504387 0.90534309 0.90549656 0.90624461\n",
            " 0.90654383 0.90685077 0.90700038 0.90730732 0.90776772 0.90851578\n",
            " 0.90866925 0.90943659 0.91020393 0.91035354 0.91173476 0.91188823\n",
            " 0.91203784 0.91280518 0.91325401 0.91356095 0.91400978 0.91462365\n",
            " 0.91493059 0.9158514  0.91615062 0.91674907 0.91720947 0.91766988\n",
            " 0.91841793 0.91903181 0.91918142 0.91948835 0.91963797 0.92025184\n",
            " 0.92040145 0.92116879 0.9213184  0.92146721 0.92254149 0.92330883\n",
            " 0.92361577 0.92376458 0.92437845 0.92514579 0.92529541 0.92544887\n",
            " 0.92559849 0.9269797  0.92713317 0.92728664 0.92759357 0.92805398\n",
            " 0.92820359 0.92927787 0.92942748 0.93004135 0.93019482 0.93034443\n",
            " 0.93049904 0.93141985 0.93156946 0.93186868 0.93201749 0.93232443\n",
            " 0.93247404 0.93262751 0.93293445 0.93308791 0.93323753 0.93368636\n",
            " 0.93383517 0.93444904 0.93460365 0.93475712 0.93490673 0.93536713\n",
            " 0.93566636 0.93581982 0.93596863 0.93627557 0.93642518 0.93657979\n",
            " 0.9367294  0.93703634 0.93733556 0.93933065 0.93948026 0.93962987\n",
            " 0.93993681 0.94085762 0.94115684 0.94161724 0.94192418 0.94207379\n",
            " 0.94222726 0.94238073 0.94253034 0.94268381 0.94298303 0.94343186\n",
            " 0.9437388  0.94433724 0.94495112 0.94556499 0.94571846 0.94587193\n",
            " 0.94617115 0.94632076 0.9469192  0.94722614 0.94737961 0.94752922\n",
            " 0.94768269 0.94798191 0.94828885 0.94843766 0.94874459 0.94889806\n",
            " 0.94919728 0.94935075 0.94950036 0.94965497 0.94980844 0.94995805\n",
            " 0.95010766 0.95026113 0.9504146  0.95056421 0.95087115 0.95117037\n",
            " 0.95132384 0.95147345 0.95193385 0.95208732 0.95223613 0.95300347\n",
            " 0.95315694 0.95361735 0.95376696 0.95391657 0.95407004 0.95421965\n",
            " 0.95437312 0.95467234 0.95482115 0.95512808 0.95528155 0.95543116\n",
            " 0.95604504 0.95619465 0.95650158 0.9566512  0.95680466 0.95695813\n",
            " 0.95710774 0.95741468 0.95756815 0.95771776 0.9580247  0.95817351\n",
            " 0.95832312 0.95863005 0.95893699 0.9590866  0.95939354 0.95954315\n",
            " 0.95969276 0.95984737 0.96046124 0.96061471 0.96076818 0.96092165\n",
            " 0.96138205 0.96168899 0.96198821 0.96214168 0.9624409  0.96274784\n",
            " 0.96290131 0.96320053 0.96350746 0.9638144  0.96412134 0.96442828\n",
            " 0.96504215 0.96519176 0.9654987  0.96565216 0.96580563 0.96611257\n",
            " 0.96641179 0.96671873 0.9668722  0.96702567 0.96717448 0.96748141\n",
            " 0.96763488 0.96778369 0.9679333  0.96808677 0.96824024 0.96838985\n",
            " 0.96869679 0.9688464  0.96899986 0.96915333 0.96960217 0.96975178\n",
            " 0.96990525 0.97005871 0.97020832 0.97036179 0.9705114  0.97066487\n",
            " 0.97081834 0.97097181 0.97143221 0.97158568 0.97173449 0.9718841\n",
            " 0.97203371 0.97218718 0.97233679 0.97249026 0.97264373 0.97279334\n",
            " 0.97310028 0.97340722 0.97356068 0.97371415 0.97386762 0.97401723\n",
            " 0.9741707  0.97432031 0.97461953 0.974773   0.97507222 0.97522569\n",
            " 0.9753753  0.97583571 0.97598532 0.97613493 0.9762884  0.97644301\n",
            " 0.97659647 0.97674994 0.97705688 0.97721035 0.97736382 0.97751842\n",
            " 0.97766803 0.9778215  0.97797497 0.97812458 0.97827419 0.97842766\n",
            " 0.9787346  0.97888421 0.97903768 0.97918729 0.97949423 0.97964384\n",
            " 0.9797973  0.98009653 0.98024614 0.98039575 0.98069497 0.98084844\n",
            " 0.98099805 0.98130499 0.98145846 0.98160807 0.98176153 0.98191115\n",
            " 0.98206461 0.98221423 0.98236883 0.98267577 0.98282538 0.98297499\n",
            " 0.98312846 0.98327807 0.98343154 0.98358115 0.98373076 0.98387957\n",
            " 0.98403304 0.98418651 0.98433612 0.98448959 0.98479652 0.98494613\n",
            " 0.98524536 0.98539497 0.98554458 0.98569805 0.98584766 0.98599727\n",
            " 0.98614688 0.98629649 0.9864461  0.98659491 0.98674452 0.98689413\n",
            " 0.98704374 0.98719336 0.98734297 0.98749258 0.98764718 0.9877968\n",
            " 0.98810373 0.98840295 0.98855257 0.98870218 0.98885565 0.98900445\n",
            " 0.98915407 0.98930368 0.98945329 0.9896029  0.98975251 0.98990598\n",
            " 0.99005559 0.9902052  0.99035481 0.99050362 0.99065243 0.99080204\n",
            " 0.99095551 0.99110512 0.99140434 0.99155781 0.99170742 0.99186089\n",
            " 0.99201436 0.99216397 0.99231358 0.99231358 0.99246705 0.99261666\n",
            " 0.99276627 0.99291588 0.99306549 0.9932151  0.99336472 0.99351433\n",
            " 0.99366779 0.99381741 0.99396702 0.99411663 0.99426624 0.99441585\n",
            " 0.99456932 0.99471893 0.99486854 0.99501815 0.99516776 0.99532123\n",
            " 0.9954747  0.99562431 0.99577392 0.99592353 0.996077   0.99622661\n",
            " 0.99637622 0.99637622 0.99637622 0.99652583 0.99667544 0.99682506\n",
            " 0.99697852 0.99697852 0.99697852 0.99712813 0.99712813 0.99712813\n",
            " 0.9972816  0.9972816  0.9972816  0.99743121 0.99743121 0.99743121\n",
            " 0.99743121 0.99743121 0.99743121 0.99743121 0.99743121 0.99743121\n",
            " 0.99743121 0.99743121 0.99758083 0.99772963 0.99772963 0.99772963\n",
            " 0.9978831  0.99803657 0.99818618 0.99833579 0.9984854  0.99863502\n",
            " 0.99863502 0.99878383 0.99893344 0.9990869  0.9990869  0.99924037\n",
            " 0.99939384 0.99954731 0.99954731 0.99954731 0.99954731 0.99954731\n",
            " 0.99954731 0.99954731 0.99954731 0.99954731 0.99954731 0.99954731\n",
            " 0.99954731 0.99954731 0.99954731 0.99954731 0.99954731 0.99954731\n",
            " 0.99970078 0.99985039 1.         1.         1.         1.        ]\n",
            "AUC =  0.9956401942564742\n"
          ]
        }
      ],
      "source": [
        "actual_classes = y_test_cv\n",
        "predicted_proba = y_test_prob\n",
        "\n",
        "fpr = dict()\n",
        "tpr = dict()\n",
        "roc_auc = dict()\n",
        "n_classes=12\n",
        "for i in range(n_classes):\n",
        "    fpr[i], tpr[i], _ = roc_curve(np.array(pd.get_dummies(actual_classes))[:, i], np.array(predicted_proba)[:, i])\n",
        "    roc_auc[i] = auc(fpr[i], tpr[i])\n",
        "#     print(\"fpr: \",fpr[i])\n",
        "#     print(\"tpr: \",tpr[i])\n",
        "#     print(\"roc_auc: \",roc_auc[i])\n",
        "\n",
        "all_fpr = np.unique(np.concatenate([fpr[i] for i in range(n_classes)]))\n",
        "print(\"all_fpr: \",all_fpr)\n",
        "mean_tpr = np.zeros_like(all_fpr)\n",
        "for i in range(n_classes):\n",
        "    mean_tpr += interp(all_fpr, fpr[i], tpr[i])\n",
        "mean_tpr /= n_classes\n",
        "\n",
        "fpr[\"macro\"] = all_fpr\n",
        "tpr[\"macro\"] = mean_tpr\n",
        "roc_auc[\"macro\"] = auc(fpr[\"macro\"], tpr[\"macro\"])\n",
        "print(\"mean_tpr: \",mean_tpr)\n",
        "print(\"AUC = \",roc_auc['macro'])"
      ],
      "id": "804ffd5e"
    },
    {
      "cell_type": "code",
      "execution_count": 35,
      "metadata": {
        "id": "f028e956"
      },
      "outputs": [],
      "source": [
        "roc_csv = pd.DataFrame()\n",
        "roc_csv[\"FPR(Macro)\"] = all_fpr\n",
        "roc_csv[\"TPR(Macro)\"] = mean_tpr"
      ],
      "id": "f028e956"
    },
    {
      "cell_type": "code",
      "execution_count": 36,
      "metadata": {
        "id": "769b9265"
      },
      "outputs": [],
      "source": [
        "roc_csv.to_csv(\"filename\", index=False)"
      ],
      "id": "769b9265"
    },
    {
      "cell_type": "code",
      "execution_count": 37,
      "metadata": {
        "colab": {
          "base_uri": "https://localhost:8080/",
          "height": 484
        },
        "id": "4okoIVD-OLTe",
        "outputId": "4edd76d5-ec46-4386-b8ec-a076d5688a04"
      },
      "outputs": [
        {
          "output_type": "display_data",
          "data": {
            "text/plain": [
              "<Figure size 1100x500 with 2 Axes>"
            ],
            "image/png": "[encoded data removed]"
          },
          "metadata": {}
        }
      ],
      "source": [
        "import matplotlib.pyplot as plt\n",
        "import seaborn as sns\n",
        "from sklearn.metrics import confusion_matrix\n",
        "from sklearn.metrics import ConfusionMatrixDisplay\n",
        "import numpy as np\n",
        "\n",
        "# Assuming you have already calculated the confusion matrix 'cm' for 12 classes\n",
        "\n",
        "# Normalize the confusion matrix\n",
        "cm_normalized = cm.astype('float') / cm.sum(axis=1)[:, np.newaxis]\n",
        "sns.set(font_scale=1.2)\n",
        "# Plot the normalized confusion matrix heatmap\n",
        "fig=plt.figure(figsize=(11, 5))\n",
        "sns.heatmap(cm_normalized, annot=True, fmt='.1f', cmap='Blues', xticklabels=range(12), yticklabels=range(12))\n",
        "plt.xlabel('Predicted Labels')\n",
        "plt.ylabel('True Labels')\n",
        "fig.savefig('RRR',dpi=300, bbox_inches = 'tight')\n",
        "# plt.title('Normalized Confusion Matrix Heatmap')\n",
        "plt.show()"
      ],
      "id": "4okoIVD-OLTe"
    }
  ],
  "metadata": {
    "colab": {
      "provenance": [],
      "include_colab_link": true
    },
    "kernelspec": {
      "display_name": "Python 3",
      "name": "python3"
    },
    "language_info": {
      "codemirror_mode": {
        "name": "ipython",
        "version": 3
      },
      "file_extension": ".py",
      "mimetype": "text/x-python",
      "name": "python",
      "nbconvert_exporter": "python",
      "pygments_lexer": "ipython3",
      "version": "3.8.8"
    },
    "accelerator": "TPU"
  },
  "nbformat": 4,
  "nbformat_minor": 5
}