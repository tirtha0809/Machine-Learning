{
  "cells": [
    {
      "cell_type": "markdown",
      "metadata": {
        "id": "view-in-github",
        "colab_type": "text"
      },
      "source": [
        "<a href=\"https://colab.research.google.com/github/tirtha0809/Machine-Learning/blob/main/Remove_svclinear.ipynb\" target=\"_parent\"><img src=\"https://colab.research.google.com/assets/colab-badge.svg\" alt=\"Open In Colab\"/></a>"
      ]
    },
    {
      "cell_type": "markdown",
      "metadata": {
        "id": "d23c76a2"
      },
      "source": [
        "# Importing Libraries"
      ],
      "id": "d23c76a2"
    },
    {
      "cell_type": "code",
      "execution_count": 3,
      "metadata": {
        "id": "5b2cef0e"
      },
      "outputs": [],
      "source": [
        "import numpy as np\n",
        "import pandas as pd\n",
        "import tensorflow as tf\n",
        "import keras as kf\n",
        "from keras.models import Sequential\n",
        "from keras.layers import Dense\n",
        "from matplotlib import pyplot\n",
        "from os import makedirs\n",
        "from numpy import dstack\n",
        "from sklearn.linear_model import LogisticRegression\n",
        "from sklearn.neighbors import KNeighborsClassifier\n",
        "from sklearn.ensemble import GradientBoostingClassifier\n",
        "from sklearn.ensemble import RandomForestClassifier\n",
        "from sklearn.tree import DecisionTreeClassifier\n",
        "from xgboost import XGBClassifier\n",
        "from sklearn.svm import SVC\n",
        "from sklearn.naive_bayes import GaussianNB\n",
        "from sklearn.ensemble import AdaBoostClassifier\n",
        "from lightgbm import LGBMClassifier\n",
        "from sklearn.preprocessing import StandardScaler\n",
        "from sklearn.model_selection import train_test_split\n",
        "from imblearn.over_sampling import SMOTE\n",
        "from sklearn.metrics import confusion_matrix, accuracy_score\n",
        "from sklearn.metrics import precision_score, recall_score, f1_score, accuracy_score,roc_auc_score,roc_curve,auc\n",
        "from statistics import mean\n",
        "import time"
      ],
      "id": "5b2cef0e"
    },
    {
      "cell_type": "code",
      "execution_count": 4,
      "metadata": {
        "colab": {
          "base_uri": "https://localhost:8080/"
        },
        "id": "obp1lLW3UQLZ",
        "outputId": "721bb510-0a75-41ca-e445-980b08ea9f1d"
      },
      "outputs": [
        {
          "output_type": "stream",
          "name": "stdout",
          "text": [
            "Mounted at /content/drive\n"
          ]
        }
      ],
      "source": [
        "from google.colab import drive\n",
        "drive.mount('/content/drive')"
      ],
      "id": "obp1lLW3UQLZ"
    },
    {
      "cell_type": "markdown",
      "metadata": {
        "id": "78ab07f7"
      },
      "source": [
        "# Importing DataSet"
      ],
      "id": "78ab07f7"
    },
    {
      "cell_type": "code",
      "execution_count": 5,
      "metadata": {
        "colab": {
          "base_uri": "https://localhost:8080/"
        },
        "id": "9309e06d",
        "outputId": "4c00e325-46dd-4f9b-a949-bba284b3f146"
      },
      "outputs": [
        {
          "output_type": "stream",
          "name": "stdout",
          "text": [
            "3991\n"
          ]
        }
      ],
      "source": [
        "data = pd.read_csv('/content/drive/MyDrive/LANDSLIDE/LandslideData .csv') # 20 features\n",
        "dataset = data.dropna(axis = 0, how ='any')\n",
        "X =  dataset.iloc[:,1:-1].values\n",
        "y = dataset.iloc[:, -1].values\n",
        "print(len(dataset))"
      ],
      "id": "9309e06d"
    },
    {
      "cell_type": "code",
      "execution_count": 6,
      "metadata": {
        "id": "588acb2f"
      },
      "outputs": [],
      "source": [
        "#smote = SMOTE()"
      ],
      "id": "588acb2f"
    },
    {
      "cell_type": "code",
      "execution_count": 7,
      "metadata": {
        "id": "363487ad"
      },
      "outputs": [],
      "source": [
        "#x_smote, y_smote = smote.fit_resample(X, y)\n",
        "smote= SMOTE(k_neighbors = 3)\n",
        "x_smote,y_smote = smote.fit_resample(X,y)"
      ],
      "id": "363487ad"
    },
    {
      "cell_type": "code",
      "execution_count": 8,
      "metadata": {
        "id": "654f6958"
      },
      "outputs": [],
      "source": [
        "from keras.models import load_model"
      ],
      "id": "654f6958"
    },
    {
      "cell_type": "code",
      "execution_count": 9,
      "metadata": {
        "id": "67861b3e"
      },
      "outputs": [],
      "source": [
        "# create a custom function to load model\n",
        "def load_all_models(n_models):\n",
        "    all_models = list()\n",
        "    for i in range(n_models):\n",
        "        # filename\n",
        "        filename = 'north/model' + str(i + 1) + '.h5'\n",
        "        # load model\n",
        "        model = load_model(filename)\n",
        "        # Add a list of all the weaker learners\n",
        "        all_models.append(model)\n",
        "        #print('>loaded %s' % filename)\n",
        "    return all_models"
      ],
      "id": "67861b3e"
    },
    {
      "cell_type": "markdown",
      "metadata": {
        "id": "0c4c39db"
      },
      "source": [
        "## Stacking models"
      ],
      "id": "0c4c39db"
    },
    {
      "cell_type": "code",
      "execution_count": 10,
      "metadata": {
        "id": "db0754d0"
      },
      "outputs": [],
      "source": [
        "# create stacked model input dataset as outputs from the ensemble\n",
        "def stacked_dataset(members, inputX):\n",
        "    stackX = None\n",
        "    for model in members:\n",
        "        # make prediction\n",
        "        yhat = model.predict(inputX, verbose=0)\n",
        "        # stack predictions into [rows, members, probabilities]\n",
        "        if stackX is None:\n",
        "            stackX = yhat #\n",
        "        else:\n",
        "            stackX = dstack((stackX, yhat))\n",
        "    # flatten predictions to [rows, members x probabilities]\n",
        "    stackX = stackX.reshape((stackX.shape[0], stackX.shape[1]*stackX.shape[2]))\n",
        "    return stackX"
      ],
      "id": "db0754d0"
    },
    {
      "cell_type": "markdown",
      "metadata": {
        "id": "c1de75a1"
      },
      "source": [
        "## Fit meta-learner"
      ],
      "id": "c1de75a1"
    },
    {
      "cell_type": "code",
      "execution_count": 11,
      "metadata": {
        "id": "620c3aa9"
      },
      "outputs": [],
      "source": [
        "# fit a model based on the outputs from the ensemble members\n",
        "def fit_stacked_model(members, inputX, inputy):\n",
        "    # create dataset using ensemble\n",
        "    stackedX = stacked_dataset(members, inputX)\n",
        "    #print(\"Models Test time: \",(end-start) * 10**3, \"ms\")\n",
        "    # fit the meta learner\n",
        "    #model = LogisticRegression() #meta learner\n",
        "    #model = SVC(kernel = 'rbf',random_state = 0,probability= True)\n",
        "    model = SVC(kernel = 'linear', random_state = 0,probability=True)\n",
        "    #model = GaussianNB()\n",
        "    # model = KNeighborsClassifier(n_neighbors = 3, metric = 'minkowski', p = 2)\n",
        "    # model = GradientBoostingClassifier(n_estimators=50,learning_rate=0.5, max_depth=6, random_state=0)\n",
        "    # model = RandomForestClassifier(criterion = 'entropy', random_state = 0)\n",
        "    # model = LGBMClassifier(random_state=0)\n",
        "    # model = DecisionTreeClassifier(max_depth=7,criterion = 'entropy', random_state = 0)\n",
        "    # model = XGBClassifier(n_estimators=50,learning_rate=0.5,max_depth=3)\n",
        "    # model = AdaBoostClassifier(n_estimators = 100, learning_rate = 1,random_state = 0)\n",
        "    #model.fit(X_train, y_train)\n",
        "    model.fit(stackedX, inputy)\n",
        "    return model"
      ],
      "id": "620c3aa9"
    },
    {
      "cell_type": "code",
      "execution_count": 12,
      "metadata": {
        "id": "46d953ea"
      },
      "outputs": [],
      "source": [
        "def stacked_prediction(members, model, inputX):\n",
        "    # create dataset using ensemble\n",
        "    stackedX = stacked_dataset(members, inputX)\n",
        "    # make a prediction\n",
        "    yhat = model.predict(stackedX)\n",
        "    return yhat"
      ],
      "id": "46d953ea"
    },
    {
      "cell_type": "code",
      "execution_count": 13,
      "metadata": {
        "id": "1bd5b4f1"
      },
      "outputs": [],
      "source": [
        "def stacked_prediction_proba(members,model,inputX):\n",
        "    # create dataset using ensemble\n",
        "    stackedX = stacked_dataset(members,inputX)\n",
        "    # make a prediction\n",
        "    yhatProb = model.predict_proba(stackedX)\n",
        "    return yhatProb"
      ],
      "id": "1bd5b4f1"
    },
    {
      "cell_type": "code",
      "execution_count": 14,
      "metadata": {
        "id": "86c41c29"
      },
      "outputs": [],
      "source": [
        "acc_train = []\n",
        "acc_test = []\n",
        "Precision_macro = []\n",
        "Precision_micro = []\n",
        "Recall_macro = []\n",
        "Recall_micro = []\n",
        "F1_macro = []\n",
        "F1_micro = []\n",
        "AUC_ovo = []\n",
        "AUC_ovr = []\n",
        "train_time = []\n",
        "test_time = []"
      ],
      "id": "86c41c29"
    },
    {
      "cell_type": "code",
      "execution_count": 15,
      "metadata": {
        "id": "--nkGullVeMc"
      },
      "outputs": [],
      "source": [
        "num_classes = 13"
      ],
      "id": "--nkGullVeMc"
    },
    {
      "cell_type": "code",
      "execution_count": 16,
      "metadata": {
        "colab": {
          "base_uri": "https://localhost:8080/"
        },
        "id": "426c21a7",
        "outputId": "b75dea56-3882-4be7-f85f-edc0ef331ee3"
      },
      "outputs": [
        {
          "output_type": "stream",
          "name": "stdout",
          "text": [
            "[ 0.  1.  2.  3.  4.  5.  6.  7.  8.  9. 10. 11.]\n"
          ]
        },
        {
          "output_type": "stream",
          "name": "stderr",
          "text": [
            "/usr/local/lib/python3.10/dist-packages/keras/src/engine/training.py:3103: UserWarning: You are saving your model as an HDF5 file via `model.save()`. This file format is considered legacy. We recommend using instead the native Keras format, e.g. `model.save('my_model.keras')`.\n",
            "  saving_api.save_model(\n"
          ]
        },
        {
          "output_type": "stream",
          "name": "stdout",
          "text": [
            "Cross validation Train time:  1652549.861907959 ms\n",
            "Cross validation Test time:  9239.468812942505 ms\n",
            "[ 0.  1.  2.  3.  4.  5.  6.  7.  8.  9. 10. 11.]\n"
          ]
        },
        {
          "output_type": "stream",
          "name": "stderr",
          "text": [
            "/usr/local/lib/python3.10/dist-packages/keras/src/engine/training.py:3103: UserWarning: You are saving your model as an HDF5 file via `model.save()`. This file format is considered legacy. We recommend using instead the native Keras format, e.g. `model.save('my_model.keras')`.\n",
            "  saving_api.save_model(\n"
          ]
        },
        {
          "output_type": "stream",
          "name": "stdout",
          "text": [
            "Cross validation Train time:  1809981.00399971 ms\n",
            "Cross validation Test time:  6796.602725982666 ms\n",
            "[ 0.  1.  2.  3.  4.  5.  6.  7.  8.  9. 10. 11.]\n"
          ]
        },
        {
          "output_type": "stream",
          "name": "stderr",
          "text": [
            "/usr/local/lib/python3.10/dist-packages/keras/src/engine/training.py:3103: UserWarning: You are saving your model as an HDF5 file via `model.save()`. This file format is considered legacy. We recommend using instead the native Keras format, e.g. `model.save('my_model.keras')`.\n",
            "  saving_api.save_model(\n"
          ]
        },
        {
          "output_type": "stream",
          "name": "stdout",
          "text": [
            "Cross validation Train time:  1700236.2742424011 ms\n",
            "Cross validation Test time:  8122.222661972046 ms\n",
            "[ 0.  1.  2.  3.  4.  5.  6.  7.  8.  9. 10. 11.]\n"
          ]
        },
        {
          "output_type": "stream",
          "name": "stderr",
          "text": [
            "/usr/local/lib/python3.10/dist-packages/keras/src/engine/training.py:3103: UserWarning: You are saving your model as an HDF5 file via `model.save()`. This file format is considered legacy. We recommend using instead the native Keras format, e.g. `model.save('my_model.keras')`.\n",
            "  saving_api.save_model(\n"
          ]
        },
        {
          "output_type": "stream",
          "name": "stdout",
          "text": [
            "Cross validation Train time:  1900876.8157958984 ms\n",
            "Cross validation Test time:  8432.882308959961 ms\n",
            "[ 0.  1.  2.  3.  4.  5.  6.  7.  8.  9. 10. 11.]\n"
          ]
        },
        {
          "output_type": "stream",
          "name": "stderr",
          "text": [
            "/usr/local/lib/python3.10/dist-packages/keras/src/engine/training.py:3103: UserWarning: You are saving your model as an HDF5 file via `model.save()`. This file format is considered legacy. We recommend using instead the native Keras format, e.g. `model.save('my_model.keras')`.\n",
            "  saving_api.save_model(\n"
          ]
        },
        {
          "output_type": "stream",
          "name": "stdout",
          "text": [
            "Cross validation Train time:  1730072.5231170654 ms\n",
            "Cross validation Test time:  8837.428569793701 ms\n"
          ]
        }
      ],
      "source": [
        "for i in range(0,5):\n",
        "\n",
        "    X_train_cv, X_test_cv, y_train_cv, y_test_cv = train_test_split(x_smote, y_smote, test_size = 0.25,random_state = i)\n",
        "    y_train_cv = y_train_cv - 1\n",
        "    y_test_cv = y_test_cv - 1\n",
        "\n",
        "    sc = StandardScaler()\n",
        "    X_train_cv = sc.fit_transform(X_train_cv)\n",
        "    X_test_cv = sc.transform(X_test_cv)\n",
        "    unique_labels = np.unique(y_train_cv)\n",
        "    print(unique_labels)\n",
        "\n",
        "    start = time.time()\n",
        "    # Model 1\n",
        "    ann1 = Sequential()\n",
        "    ann1.add(tf.keras.layers.Dense(units=15, activation='relu'))\n",
        "    ann1.add(tf.keras.layers.Dense(units=20, activation='relu'))\n",
        "    ann1.add(tf.keras.layers.Dense(units=num_classes, activation='softmax'))\n",
        "    ann1.compile(optimizer = 'adam', loss = kf.losses.SparseCategoricalCrossentropy(), metrics = [kf.metrics.CategoricalAccuracy()])\n",
        "    ann1.fit(X_train_cv, y_train_cv, batch_size = 128, epochs = 100,verbose=0)\n",
        "\n",
        "    # Model 2\n",
        "    ann2 = Sequential()\n",
        "    ann2.add(tf.keras.layers.Dense(units=10, activation='relu'))\n",
        "    ann2.add(tf.keras.layers.Dense(units=15, activation='relu'))\n",
        "    ann2.add(tf.keras.layers.Dense(units=25, activation='relu'))\n",
        "    ann2.add(tf.keras.layers.Dense(units=num_classes, activation='softmax'))\n",
        "    ann2.compile(optimizer = 'adam', loss = kf.losses.SparseCategoricalCrossentropy(), metrics = [kf.metrics.CategoricalAccuracy()])\n",
        "    ann2.fit(X_train_cv, y_train_cv, batch_size = 128, epochs = 150,verbose=0)\n",
        "\n",
        "    # Model 3\n",
        "    ann3 = Sequential()\n",
        "    ann3.add(tf.keras.layers.Dense(units=20, activation='relu'))\n",
        "    ann3.add(tf.keras.layers.Dense(units=25, activation='relu'))\n",
        "    ann3.add(tf.keras.layers.Dense(units=30, activation='relu'))\n",
        "    ann3.add(tf.keras.layers.Dense(units=num_classes, activation='softmax'))\n",
        "    ann3.compile(optimizer = 'adam', loss = kf.losses.SparseCategoricalCrossentropy(), metrics = [kf.metrics.CategoricalAccuracy()])\n",
        "    ann3.fit(X_train_cv, y_train_cv, batch_size = 128, epochs = 180,verbose=0)\n",
        "\n",
        "    # Model 4\n",
        "\n",
        "    ann4 = Sequential()\n",
        "    ann4.add(tf.keras.layers.Dense(units=30, activation='relu'))\n",
        "    ann4.add(tf.keras.layers.Dense(units=35, activation='relu'))\n",
        "    ann4.add(tf.keras.layers.Dense(units=40, activation='relu'))\n",
        "    ann4.add(tf.keras.layers.Dense(units=num_classes, activation='softmax'))\n",
        "    ann4.compile(optimizer = 'adam', loss = kf.losses.SparseCategoricalCrossentropy(), metrics = [kf.metrics.CategoricalAccuracy()])\n",
        "    ann4.fit(X_train_cv, y_train_cv, batch_size = 128, epochs = 200,verbose=0)\n",
        "\n",
        "    # Model 5\n",
        "\n",
        "    ann5 = Sequential()\n",
        "    ann5.add(tf.keras.layers.Dense(units=40, activation='relu'))\n",
        "    ann5.add(tf.keras.layers.Dense(units=50, activation='relu'))\n",
        "    ann5.add(tf.keras.layers.Dense(units=55, activation='relu'))\n",
        "    ann5.add(tf.keras.layers.Dense(units=num_classes, activation='softmax'))\n",
        "    ann5.compile(optimizer = 'adam', loss = kf.losses.SparseCategoricalCrossentropy(), metrics = [kf.metrics.CategoricalAccuracy()])\n",
        "    ann5.fit(X_train_cv, y_train_cv, batch_size = 128, epochs = 250,verbose=0)\n",
        "\n",
        "    # Model 6\n",
        "\n",
        "    ann6 = Sequential()\n",
        "    ann6.add(tf.keras.layers.Dense(units=35, activation='relu'))\n",
        "    ann6.add(tf.keras.layers.Dense(units=45, activation='relu'))\n",
        "    ann6.add(tf.keras.layers.Dense(units=50, activation='relu'))\n",
        "    ann6.add(tf.keras.layers.Dense(units=num_classes, activation='softmax'))\n",
        "    ann6.compile(optimizer = 'adam', loss = kf.losses.SparseCategoricalCrossentropy(), metrics = [kf.metrics.CategoricalAccuracy()])\n",
        "    ann6.fit(X_train_cv, y_train_cv, batch_size = 128, epochs = 300,verbose=0)\n",
        "\n",
        "    # Model 7\n",
        "\n",
        "    ann7 = Sequential()\n",
        "    ann7.add(tf.keras.layers.Dense(units=35, activation='relu'))\n",
        "    ann7.add(tf.keras.layers.Dense(units=45, activation='relu'))\n",
        "    ann7.add(tf.keras.layers.Dense(units=50, activation='relu'))\n",
        "    ann7.add(tf.keras.layers.Dense(units=num_classes, activation='softmax'))\n",
        "    ann7.compile(optimizer = 'adam', loss = kf.losses.SparseCategoricalCrossentropy(), metrics = [kf.metrics.CategoricalAccuracy()])\n",
        "    ann7.fit(X_train_cv, y_train_cv, batch_size = 128, epochs = 300,verbose=0)\n",
        "\n",
        "    # Model 8\n",
        "\n",
        "    ann8 = Sequential()\n",
        "    ann8.add(tf.keras.layers.Dense(units=35, activation='relu'))\n",
        "    ann8.add(tf.keras.layers.Dense(units=45, activation='relu'))\n",
        "    ann8.add(tf.keras.layers.Dense(units=50, activation='relu'))\n",
        "    ann8.add(tf.keras.layers.Dense(units=num_classes, activation='softmax'))\n",
        "    ann8.compile(optimizer = 'adam', loss = kf.losses.SparseCategoricalCrossentropy(), metrics = [kf.metrics.CategoricalAccuracy()])\n",
        "    ann8.fit(X_train_cv, y_train_cv, batch_size = 128, epochs = 300,verbose=0)\n",
        "\n",
        "    # Model 9\n",
        "\n",
        "    ann9 = Sequential()\n",
        "    ann9.add(tf.keras.layers.Dense(units=35, activation='relu'))\n",
        "    ann9.add(tf.keras.layers.Dense(units=45, activation='relu'))\n",
        "    ann9.add(tf.keras.layers.Dense(units=50, activation='relu'))\n",
        "    ann9.add(tf.keras.layers.Dense(units=num_classes, activation='softmax'))\n",
        "    ann9.compile(optimizer = 'adam', loss = kf.losses.SparseCategoricalCrossentropy(), metrics = [kf.metrics.CategoricalAccuracy()])\n",
        "    ann9.fit(X_train_cv, y_train_cv, batch_size = 128, epochs = 300,verbose=0)\n",
        "\n",
        "    # Model 10\n",
        "\n",
        "    ann10 = Sequential()\n",
        "    ann10.add(tf.keras.layers.Dense(units=35, activation='relu'))\n",
        "    ann10.add(tf.keras.layers.Dense(units=45, activation='relu'))\n",
        "    ann10.add(tf.keras.layers.Dense(units=50, activation='relu'))\n",
        "    ann10.add(tf.keras.layers.Dense(units=num_classes, activation='softmax'))\n",
        "    ann10.compile(optimizer = 'adam', loss = kf.losses.SparseCategoricalCrossentropy(), metrics = [kf.metrics.CategoricalAccuracy()])\n",
        "    ann10.fit(X_train_cv, y_train_cv, batch_size = 128, epochs = 300,verbose=0)\n",
        "    # Model 11\n",
        "\n",
        "    ann11 = Sequential()\n",
        "    ann11.add(tf.keras.layers.Dense(units=35, activation='relu'))\n",
        "    ann11.add(tf.keras.layers.Dense(units=45, activation='relu'))\n",
        "    ann11.add(tf.keras.layers.Dense(units=50, activation='relu'))\n",
        "    ann11.add(tf.keras.layers.Dense(units=num_classes, activation='softmax'))\n",
        "    ann11.compile(optimizer = 'adam', loss = kf.losses.SparseCategoricalCrossentropy(), metrics = [kf.metrics.CategoricalAccuracy()])\n",
        "    ann11.fit(X_train_cv, y_train_cv, batch_size = 128, epochs = 300,verbose=0)\n",
        "\n",
        "    # Model 12\n",
        "\n",
        "    ann12 = Sequential()\n",
        "    ann12.add(tf.keras.layers.Dense(units=35, activation='relu'))\n",
        "    ann12.add(tf.keras.layers.Dense(units=45, activation='relu'))\n",
        "    ann12.add(tf.keras.layers.Dense(units=50, activation='relu'))\n",
        "    ann12.add(tf.keras.layers.Dense(units=num_classes, activation='softmax'))\n",
        "    ann12.compile(optimizer = 'adam', loss = kf.losses.SparseCategoricalCrossentropy(), metrics = [kf.metrics.CategoricalAccuracy()])\n",
        "    ann12.fit(X_train_cv, y_train_cv, batch_size = 128, epochs = 300,verbose=0)\n",
        "\n",
        "    # Model 13\n",
        "\n",
        "    ann13 = Sequential()\n",
        "    ann13.add(tf.keras.layers.Dense(units=35, activation='relu'))\n",
        "    ann13.add(tf.keras.layers.Dense(units=45, activation='relu'))\n",
        "    ann13.add(tf.keras.layers.Dense(units=50, activation='relu'))\n",
        "    ann13.add(tf.keras.layers.Dense(units=num_classes, activation='softmax'))\n",
        "    ann13.compile(optimizer = 'adam', loss = kf.losses.SparseCategoricalCrossentropy(), metrics = [kf.metrics.CategoricalAccuracy()])\n",
        "    ann13.fit(X_train_cv, y_train_cv, batch_size = 128, epochs = 300,verbose=0)\n",
        "\n",
        "    # Model 14\n",
        "\n",
        "    ann14 = Sequential()\n",
        "    ann14.add(tf.keras.layers.Dense(units=35, activation='relu'))\n",
        "    ann14.add(tf.keras.layers.Dense(units=45, activation='relu'))\n",
        "    ann14.add(tf.keras.layers.Dense(units=50, activation='relu'))\n",
        "    ann14.add(tf.keras.layers.Dense(units=num_classes, activation='softmax'))\n",
        "    ann14.compile(optimizer = 'adam', loss = kf.losses.SparseCategoricalCrossentropy(), metrics = [kf.metrics.CategoricalAccuracy()])\n",
        "    ann14.fit(X_train_cv, y_train_cv, batch_size = 128, epochs = 300,verbose=0)\n",
        "\n",
        "    # Model 15\n",
        "\n",
        "    ann15 = Sequential()\n",
        "    ann15.add(tf.keras.layers.Dense(units=35, activation='relu'))\n",
        "    ann15.add(tf.keras.layers.Dense(units=45, activation='sigmoid'))\n",
        "    ann15.add(tf.keras.layers.Dense(units=50, activation='relu'))\n",
        "    ann15.add(tf.keras.layers.Dense(units=num_classes, activation='softmax'))\n",
        "    ann15.compile(optimizer = 'adam', loss = kf.losses.SparseCategoricalCrossentropy(), metrics = [kf.metrics.CategoricalAccuracy()])\n",
        "    ann15.fit(X_train_cv, y_train_cv, batch_size = 128, epochs = 300,verbose=0)\n",
        "\n",
        "    # Model 16\n",
        "\n",
        "    ann16 = Sequential()\n",
        "    ann16.add(tf.keras.layers.Dense(units=35, activation='relu'))\n",
        "    ann16.add(tf.keras.layers.Dense(units=45, activation='sigmoid'))\n",
        "    ann16.add(tf.keras.layers.Dense(units=50, activation='relu'))\n",
        "    ann16.add(tf.keras.layers.Dense(units=num_classes, activation='softmax'))\n",
        "    ann16.compile(optimizer = 'adam', loss = kf.losses.SparseCategoricalCrossentropy(), metrics = [kf.metrics.CategoricalAccuracy()])\n",
        "    ann16.fit(X_train_cv, y_train_cv, batch_size = 128, epochs = 300,verbose=0)\n",
        "\n",
        "    ann1.save('north/model1.h5')\n",
        "    ann2.save('north/model2.h5')\n",
        "    ann3.save('north/model3.h5')\n",
        "    ann4.save('north/model4.h5')\n",
        "    ann5.save('north/model5.h5')\n",
        "    ann6.save('north/model6.h5')\n",
        "    ann7.save('north/model7.h5')\n",
        "    ann8.save('north/model8.h5')\n",
        "    ann9.save('north/model9.h5')\n",
        "    ann10.save('north/model10.h5')\n",
        "    ann11.save('north/model11.h5')\n",
        "    ann12.save('north/model12.h5')\n",
        "    ann13.save('north/model13.h5')\n",
        "    ann14.save('north/model14.h5')\n",
        "    ann15.save('north/model15.h5')\n",
        "    ann16.save('north/model16.h5')\n",
        "\n",
        "    members = load_all_models(16)\n",
        "    model = fit_stacked_model(members, X_train_cv,y_train_cv)\n",
        "    end = time.time()\n",
        "    print(\"Cross validation Train time: \",(end-start) * 10**3, \"ms\")\n",
        "    t = (end-start)*1000\n",
        "    train_time.append(t)\n",
        "\n",
        "    start = time.time()\n",
        "    y_pred = stacked_prediction(members, model, X_test_cv)\n",
        "    end = time.time()\n",
        "\n",
        "    t = (end - start)*1000\n",
        "    test_time.append(t)\n",
        "\n",
        "    print(\"Cross validation Test time: \",(end-start) * 10**3, \"ms\")\n",
        "    y_test_prob = stacked_prediction_proba(members,model,X_test_cv)\n",
        "    y_train_pred = stacked_prediction(members, model, X_train_cv)\n",
        "\n",
        "    cm = confusion_matrix(y_test_cv, y_pred)\n",
        "\n",
        "\n",
        "    accuracy = accuracy_score(y_test_cv, y_pred)\n",
        "    acc_test.append(accuracy)\n",
        "    accuracy_train = accuracy_score(y_train_cv, y_train_pred)\n",
        "    acc_train.append(accuracy_train)\n",
        "\n",
        "    pre_macro = precision_score(y_test_cv, y_pred,average='macro')\n",
        "    Precision_macro.append(pre_macro)\n",
        "    pre_micro = precision_score(y_test_cv, y_pred,average='micro')\n",
        "    Precision_micro.append(pre_micro)\n",
        "\n",
        "    re_macro = recall_score(y_test_cv, y_pred,average='macro')\n",
        "    Recall_macro.append(re_macro)\n",
        "    re_micro = recall_score(y_test_cv, y_pred,average='micro')\n",
        "    Recall_micro.append(re_micro)\n",
        "\n",
        "    f1_macro = f1_score(y_test_cv, y_pred,average='macro')\n",
        "    F1_macro.append(f1_macro)\n",
        "    f1_micro = f1_score(y_test_cv, y_pred,average='micro')\n",
        "    F1_micro.append(f1_micro)\n",
        "\n",
        "    auc_ovo = roc_auc_score(y_test_cv,y_test_prob,multi_class='ovo')\n",
        "    AUC_ovo.append(auc_ovo)\n",
        "    auc_ovr = roc_auc_score(y_test_cv,y_test_prob,multi_class='ovr')\n",
        "    AUC_ovr.append(auc_ovr)\n"
      ],
      "id": "426c21a7"
    },
    {
      "cell_type": "code",
      "execution_count": 17,
      "metadata": {
        "id": "4631b43e"
      },
      "outputs": [],
      "source": [
        "result_cv = pd.DataFrame()\n",
        "result_cv[\"Train_acc\"] = acc_train\n",
        "result_cv[\"Test_acc\"] = acc_test\n",
        "result_cv[\"Precision(macro)\"] = Precision_macro\n",
        "result_cv[\"Precision(micro)\"] = Precision_micro\n",
        "result_cv[\"Recall(macro)\"] = Recall_macro\n",
        "result_cv[\"Recall(micro)\"] = Recall_micro\n",
        "result_cv[\"F1(macro)\"] = F1_macro\n",
        "result_cv[\"F1(micro)\"] = F1_micro\n",
        "result_cv[\"AUC(ovo)\"] = AUC_ovo\n",
        "result_cv[\"AUC(ovr)\"] = AUC_ovr\n",
        "result_cv[\"Train Time\"] = train_time\n",
        "result_cv[\"Test Time\"] = test_time"
      ],
      "id": "4631b43e"
    },
    {
      "cell_type": "code",
      "execution_count": 18,
      "metadata": {
        "colab": {
          "base_uri": "https://localhost:8080/"
        },
        "id": "6bf66a36",
        "outputId": "36ea9c50-f2b4-4bd9-afe6-5c037f34185f"
      },
      "outputs": [
        {
          "output_type": "execute_result",
          "data": {
            "text/plain": [
              "[1652549.861907959,\n",
              " 1809981.00399971,\n",
              " 1700236.2742424011,\n",
              " 1900876.8157958984,\n",
              " 1730072.5231170654]"
            ]
          },
          "metadata": {},
          "execution_count": 18
        }
      ],
      "source": [
        "train_time"
      ],
      "id": "6bf66a36"
    },
    {
      "cell_type": "code",
      "execution_count": 19,
      "metadata": {
        "colab": {
          "base_uri": "https://localhost:8080/"
        },
        "id": "105fd285",
        "outputId": "e6c5c2be-b692-4ce3-8622-ea860bf34e07"
      },
      "outputs": [
        {
          "output_type": "execute_result",
          "data": {
            "text/plain": [
              "[9239.468812942505,\n",
              " 6796.602725982666,\n",
              " 8122.222661972046,\n",
              " 8432.882308959961,\n",
              " 8837.428569793701]"
            ]
          },
          "metadata": {},
          "execution_count": 19
        }
      ],
      "source": [
        "test_time"
      ],
      "id": "105fd285"
    },
    {
      "cell_type": "code",
      "execution_count": 20,
      "metadata": {
        "id": "b92aa6da"
      },
      "outputs": [],
      "source": [
        "result_cv.to_csv(\"filename\", index=False)"
      ],
      "id": "b92aa6da"
    },
    {
      "cell_type": "code",
      "execution_count": 21,
      "metadata": {
        "id": "0663ab50"
      },
      "outputs": [],
      "source": [
        "result_cv_avg = pd.DataFrame()\n",
        "lst = []\n",
        "x = mean(acc_train)*100\n",
        "lst.append(x)\n",
        "result_cv_avg[\"Train_acc\"] = lst\n",
        "result_cv_avg[\"Test_acc\"] = mean(acc_test)*100\n",
        "result_cv_avg[\"SD\"] = np.std(acc_test)*100\n",
        "result_cv_avg[\"Precision(macro)\"] = mean(Precision_macro)\n",
        "result_cv_avg[\"Precision(micro)\"] = mean(Precision_micro)\n",
        "result_cv_avg[\"Recall(macro)\"] = mean(Recall_macro)\n",
        "result_cv_avg[\"Recall(micro)\"] = mean(Recall_micro)\n",
        "result_cv_avg[\"F1(macro)\"] = mean(F1_macro)\n",
        "result_cv_avg[\"F1(micro)\"] = mean(F1_micro)\n",
        "result_cv_avg[\"AUC(ovo)\"] = mean(AUC_ovo)\n",
        "result_cv_avg[\"AUC(ovr)\"] = mean(AUC_ovr)"
      ],
      "id": "0663ab50"
    },
    {
      "cell_type": "code",
      "execution_count": 22,
      "metadata": {
        "id": "b3d296c7"
      },
      "outputs": [],
      "source": [
        "result_cv_avg.to_csv(\"filename\", index=False)"
      ],
      "id": "b3d296c7"
    },
    {
      "cell_type": "code",
      "execution_count": 23,
      "metadata": {
        "colab": {
          "base_uri": "https://localhost:8080/"
        },
        "id": "d737dfcb",
        "outputId": "c1e3d582-1c49-40ec-ad4c-5d7df5d9acd7"
      },
      "outputs": [
        {
          "output_type": "execute_result",
          "data": {
            "text/plain": [
              "[0.9992522805443398,\n",
              " 0.9991525846169184,\n",
              " 0.9992522805443398,\n",
              " 0.9988534968346543,\n",
              " 0.9991525846169184]"
            ]
          },
          "metadata": {},
          "execution_count": 23
        }
      ],
      "source": [
        "acc_train"
      ],
      "id": "d737dfcb"
    },
    {
      "cell_type": "code",
      "execution_count": 24,
      "metadata": {
        "colab": {
          "base_uri": "https://localhost:8080/"
        },
        "id": "5601cc70",
        "outputId": "c0808929-2268-4bb1-ddc8-b91505cb7356"
      },
      "outputs": [
        {
          "output_type": "execute_result",
          "data": {
            "text/plain": [
              "[0.9406310752205772,\n",
              " 0.94302377747869,\n",
              " 0.9392851802003889,\n",
              " 0.9446687602811425,\n",
              " 0.9449678480634066]"
            ]
          },
          "metadata": {},
          "execution_count": 24
        }
      ],
      "source": [
        "acc_test"
      ],
      "id": "5601cc70"
    },
    {
      "cell_type": "code",
      "execution_count": 25,
      "metadata": {
        "colab": {
          "base_uri": "https://localhost:8080/"
        },
        "id": "a183e93a",
        "outputId": "189bcd73-88c7-49db-fbd3-60c0804da07f"
      },
      "outputs": [
        {
          "output_type": "execute_result",
          "data": {
            "text/plain": [
              "[0.9403735662538232,\n",
              " 0.9418103173836546,\n",
              " 0.9382777209144647,\n",
              " 0.9452200138542342,\n",
              " 0.9430210820771153]"
            ]
          },
          "metadata": {},
          "execution_count": 25
        }
      ],
      "source": [
        "Precision_macro"
      ],
      "id": "a183e93a"
    },
    {
      "cell_type": "code",
      "execution_count": 26,
      "metadata": {
        "colab": {
          "base_uri": "https://localhost:8080/"
        },
        "id": "919cba03",
        "outputId": "af06acf8-4502-43c8-860b-4f37816c6ef9"
      },
      "outputs": [
        {
          "output_type": "execute_result",
          "data": {
            "text/plain": [
              "[0.9406310752205772,\n",
              " 0.94302377747869,\n",
              " 0.9392851802003889,\n",
              " 0.9446687602811425,\n",
              " 0.9449678480634066]"
            ]
          },
          "metadata": {},
          "execution_count": 26
        }
      ],
      "source": [
        "Precision_micro"
      ],
      "id": "919cba03"
    },
    {
      "cell_type": "code",
      "execution_count": 27,
      "metadata": {
        "colab": {
          "base_uri": "https://localhost:8080/"
        },
        "id": "da5922e3",
        "outputId": "83bedb7c-292d-4c75-cb1f-95fee39e9bbf"
      },
      "outputs": [
        {
          "output_type": "execute_result",
          "data": {
            "text/plain": [
              "[0.9408759345931613,\n",
              " 0.94326789870328,\n",
              " 0.9375618867760457,\n",
              " 0.9458325452879836,\n",
              " 0.9442293375230122]"
            ]
          },
          "metadata": {},
          "execution_count": 27
        }
      ],
      "source": [
        "Recall_macro"
      ],
      "id": "da5922e3"
    },
    {
      "cell_type": "code",
      "execution_count": 28,
      "metadata": {
        "colab": {
          "base_uri": "https://localhost:8080/"
        },
        "id": "9da08914",
        "outputId": "e474d2cb-e60c-425c-8ced-3b57916b6599"
      },
      "outputs": [
        {
          "output_type": "execute_result",
          "data": {
            "text/plain": [
              "[0.9406310752205772,\n",
              " 0.94302377747869,\n",
              " 0.9392851802003889,\n",
              " 0.9446687602811425,\n",
              " 0.9449678480634066]"
            ]
          },
          "metadata": {},
          "execution_count": 28
        }
      ],
      "source": [
        "Recall_micro"
      ],
      "id": "9da08914"
    },
    {
      "cell_type": "code",
      "execution_count": 29,
      "metadata": {
        "colab": {
          "base_uri": "https://localhost:8080/"
        },
        "id": "d06098bb",
        "outputId": "8e6b1868-fb49-4536-a303-ccc8a138d06e"
      },
      "outputs": [
        {
          "output_type": "execute_result",
          "data": {
            "text/plain": [
              "[0.9385284824446422,\n",
              " 0.9422960406906222,\n",
              " 0.9365100554907245,\n",
              " 0.9454350244074562,\n",
              " 0.9433967721496276]"
            ]
          },
          "metadata": {},
          "execution_count": 29
        }
      ],
      "source": [
        "F1_macro"
      ],
      "id": "d06098bb"
    },
    {
      "cell_type": "code",
      "execution_count": 30,
      "metadata": {
        "colab": {
          "base_uri": "https://localhost:8080/"
        },
        "id": "c98a6d5f",
        "outputId": "4f3f0f92-10ed-42b8-a0f8-775b9d6a9f12"
      },
      "outputs": [
        {
          "output_type": "execute_result",
          "data": {
            "text/plain": [
              "[0.9406310752205773,\n",
              " 0.94302377747869,\n",
              " 0.9392851802003889,\n",
              " 0.9446687602811425,\n",
              " 0.9449678480634066]"
            ]
          },
          "metadata": {},
          "execution_count": 30
        }
      ],
      "source": [
        "F1_micro"
      ],
      "id": "c98a6d5f"
    },
    {
      "cell_type": "code",
      "execution_count": 31,
      "metadata": {
        "colab": {
          "base_uri": "https://localhost:8080/"
        },
        "id": "ae3f919c",
        "outputId": "bea6d017-0596-4be4-96ac-f4a83d025889"
      },
      "outputs": [
        {
          "output_type": "execute_result",
          "data": {
            "text/plain": [
              "[0.9945950312905383,\n",
              " 0.9958760289440362,\n",
              " 0.9951002808606981,\n",
              " 0.9959878420916783,\n",
              " 0.9952492702146585]"
            ]
          },
          "metadata": {},
          "execution_count": 31
        }
      ],
      "source": [
        "AUC_ovo"
      ],
      "id": "ae3f919c"
    },
    {
      "cell_type": "code",
      "execution_count": 32,
      "metadata": {
        "colab": {
          "base_uri": "https://localhost:8080/"
        },
        "id": "9bc6fd04",
        "outputId": "a5cfca9f-38a7-4159-ed50-1c66f99ba47a"
      },
      "outputs": [
        {
          "output_type": "stream",
          "name": "stdout",
          "text": [
            "3\n"
          ]
        }
      ],
      "source": [
        "index = np.argmax(AUC_ovo)\n",
        "print(index)"
      ],
      "id": "9bc6fd04"
    },
    {
      "cell_type": "code",
      "execution_count": 33,
      "metadata": {
        "colab": {
          "base_uri": "https://localhost:8080/"
        },
        "id": "a85635c8",
        "outputId": "f2a0a3d6-3315-4e4e-dc9d-922ecd99651f"
      },
      "outputs": [
        {
          "output_type": "execute_result",
          "data": {
            "text/plain": [
              "[0.9946211119868532,\n",
              " 0.9958735998778162,\n",
              " 0.9952506963011994,\n",
              " 0.9959129663463031,\n",
              " 0.995300506512082]"
            ]
          },
          "metadata": {},
          "execution_count": 33
        }
      ],
      "source": [
        "AUC_ovr"
      ],
      "id": "a85635c8"
    },
    {
      "cell_type": "code",
      "execution_count": 34,
      "metadata": {
        "colab": {
          "base_uri": "https://localhost:8080/"
        },
        "id": "005129c3",
        "outputId": "3150f999-77f7-4a9c-d0f8-d607b2ace6ee"
      },
      "outputs": [
        {
          "output_type": "stream",
          "name": "stdout",
          "text": [
            "Accuracy(Train): 99.91 %\n",
            "Accuracy(Test): 94.25 %\n",
            "Standard Deviation: 0.22%\n",
            "Precision (macro): 0.942\n",
            "Precision (micro): 0.943\n",
            "Recall (macro): 0.942\n",
            "Recall (micro): 0.943\n",
            "F1 (macro): 0.941\n",
            "F1 (micro): 0.943\n",
            "AUC (ovo): 0.995\n",
            "AUC (ovr): 0.995\n"
          ]
        }
      ],
      "source": [
        "print(\"Accuracy(Train): {:.2f} %\".format(mean(acc_train)*100))\n",
        "print(\"Accuracy(Test): {:.2f} %\".format(mean(acc_test)*100))\n",
        "print(\"Standard Deviation: {:.2f}%\".format(np.std(acc_test)*100))\n",
        "print(\"Precision (macro): %.3f\" %mean(Precision_macro))\n",
        "print(\"Precision (micro): %.3f\" %mean(Precision_micro))\n",
        "print(\"Recall (macro): %.3f\" %mean(Recall_macro))\n",
        "print(\"Recall (micro): %.3f\" %mean(Recall_micro))\n",
        "print(\"F1 (macro): %.3f\" %mean(F1_macro))\n",
        "print(\"F1 (micro): %.3f\" %mean(F1_micro))\n",
        "print(\"AUC (ovo): %.3f\" %mean(AUC_ovo))\n",
        "print(\"AUC (ovr): %.3f\" %mean(AUC_ovr))"
      ],
      "id": "005129c3"
    },
    {
      "cell_type": "code",
      "execution_count": 35,
      "metadata": {
        "id": "c4760cea"
      },
      "outputs": [],
      "source": [
        "from numpy import interp"
      ],
      "id": "c4760cea"
    },
    {
      "cell_type": "code",
      "execution_count": 36,
      "metadata": {
        "colab": {
          "base_uri": "https://localhost:8080/"
        },
        "id": "804ffd5e",
        "outputId": "52d19ef9-f92e-4e4f-d8a5-c847905a6a1c"
      },
      "outputs": [
        {
          "output_type": "stream",
          "name": "stdout",
          "text": [
            "all_fpr:  [0.00000000e+00 1.62654522e-04 1.62760417e-04 1.62786912e-04\n",
            " 1.63132137e-04 1.63212012e-04 1.63371998e-04 3.25309044e-04\n",
            " 3.25520833e-04 3.25573824e-04 3.26264274e-04 3.26424025e-04\n",
            " 3.26743996e-04 4.87963565e-04 4.88281250e-04 4.89396411e-04\n",
            " 4.89636037e-04 6.50618087e-04 6.51041667e-04 6.52528548e-04\n",
            " 6.52848050e-04 8.13272609e-04 8.13802083e-04 8.15660685e-04\n",
            " 8.16060062e-04 9.75927131e-04 9.78792822e-04 9.79272074e-04\n",
            " 1.13858165e-03 1.13932292e-03 1.14192496e-03 1.14248409e-03\n",
            " 1.30123617e-03 1.30505710e-03 1.30569610e-03 1.46389070e-03\n",
            " 1.46484375e-03 1.46818923e-03 1.46890811e-03 1.62654522e-03\n",
            " 1.62760417e-03 1.63132137e-03 1.79036458e-03 1.79445351e-03\n",
            " 1.79533214e-03 1.95312500e-03 1.95758564e-03 1.95854415e-03\n",
            " 2.11450878e-03 2.12071778e-03 2.12175616e-03 2.27716331e-03\n",
            " 2.27864583e-03 2.28384992e-03 2.28496817e-03 2.44140625e-03\n",
            " 2.60416667e-03 2.61011419e-03 2.61139220e-03 2.76512687e-03\n",
            " 2.76692708e-03 2.77324633e-03 2.77460421e-03 2.92778139e-03\n",
            " 2.93637847e-03 3.09043591e-03 3.09244792e-03 3.10102824e-03\n",
            " 3.25520833e-03 3.26264274e-03 3.41574496e-03 3.41796875e-03\n",
            " 3.42577488e-03 3.57839948e-03 3.58072917e-03 3.58890701e-03\n",
            " 3.74348958e-03 3.75203915e-03 3.90370852e-03 3.90625000e-03\n",
            " 3.91517129e-03 4.06636304e-03 4.08030031e-03 4.22901757e-03\n",
            " 4.23177083e-03 4.24143556e-03 4.24351232e-03 4.40456770e-03\n",
            " 4.40672433e-03 4.55432661e-03 4.55729167e-03 4.56769984e-03\n",
            " 4.72005208e-03 4.73083197e-03 4.87963565e-03 4.88281250e-03\n",
            " 4.89396411e-03 5.04229018e-03 5.04557292e-03 5.05709625e-03\n",
            " 5.20494470e-03 5.20833333e-03 5.37109375e-03 5.38599641e-03\n",
            " 5.53025374e-03 5.53385417e-03 5.54649266e-03 5.69290826e-03\n",
            " 5.70962480e-03 5.85937500e-03 5.87275693e-03 6.01821731e-03\n",
            " 6.02213542e-03 6.18087183e-03 6.18489583e-03 6.19902121e-03\n",
            " 6.34352635e-03 6.34765625e-03 6.51041667e-03 6.52528548e-03\n",
            " 6.52848050e-03 6.67317708e-03 6.68841762e-03 6.69169251e-03\n",
            " 6.83593750e-03 6.85154976e-03 6.99414444e-03 7.01468189e-03\n",
            " 7.16145833e-03 7.17781403e-03 7.31945348e-03 7.32421875e-03\n",
            " 7.34094617e-03 7.48210800e-03 7.50407830e-03 7.66721044e-03\n",
            " 7.83034258e-03 7.83417660e-03 7.97526042e-03 7.99347471e-03\n",
            " 8.13802083e-03 8.15660685e-03 8.30078125e-03 8.46354167e-03\n",
            " 8.62630208e-03 8.64600326e-03 8.78334418e-03 9.11458333e-03\n",
            " 9.13539967e-03 9.27734375e-03 9.29853181e-03 9.30308471e-03\n",
            " 9.43396226e-03 9.46629672e-03 9.76562500e-03 9.78792822e-03\n",
            " 9.95106036e-03 1.00911458e-02 1.02539062e-02 1.02773246e-02\n",
            " 1.04166667e-02 1.05725439e-02 1.05794271e-02 1.07421875e-02\n",
            " 1.09049479e-02 1.09352048e-02 1.10929853e-02 1.13932292e-02\n",
            " 1.15823817e-02 1.17187500e-02 1.17455139e-02 1.20442708e-02\n",
            " 1.20717781e-02 1.21990891e-02 1.23697917e-02 1.25325521e-02\n",
            " 1.26870527e-02 1.26953125e-02 1.28580729e-02 1.30505710e-02\n",
            " 1.33463542e-02 1.33768352e-02 1.35091146e-02 1.36718750e-02\n",
            " 1.38346354e-02 1.39973958e-02 1.41601562e-02 1.43229167e-02\n",
            " 1.44856771e-02 1.46484375e-02 1.48450245e-02 1.49739583e-02\n",
            " 1.51367188e-02 1.51712887e-02 1.52994792e-02 1.56250000e-02\n",
            " 1.57877604e-02 1.59505208e-02 1.59869494e-02 1.61132812e-02\n",
            " 1.62760417e-02 1.63132137e-02 1.64763458e-02 1.66015625e-02\n",
            " 1.67643229e-02 1.69160703e-02 1.69270833e-02 1.70787248e-02\n",
            " 1.71288744e-02 1.74153646e-02 1.74551387e-02 1.75781250e-02\n",
            " 1.76182708e-02 1.77408854e-02 1.79036458e-02 1.80664062e-02\n",
            " 1.81076672e-02 1.82291667e-02 1.85546875e-02 1.93684896e-02\n",
            " 1.96940104e-02 1.97389886e-02 1.99021207e-02 2.03450521e-02\n",
            " 2.05078125e-02 2.09960938e-02 2.10440457e-02 2.11588542e-02\n",
            " 2.16471354e-02 2.16965742e-02 2.18098958e-02 2.19726562e-02\n",
            " 2.20228385e-02 2.21354167e-02 2.21859706e-02 2.21968337e-02\n",
            " 2.22981771e-02 2.25122349e-02 2.26236979e-02 2.27864583e-02\n",
            " 2.28384992e-02 2.29492188e-02 2.32747396e-02 2.33278956e-02\n",
            " 2.34375000e-02 2.36002604e-02 2.37630208e-02 2.38172920e-02\n",
            " 2.39804241e-02 2.40885417e-02 2.42513021e-02 2.44698206e-02\n",
            " 2.47395833e-02 2.49023438e-02 2.55533854e-02 2.56117455e-02\n",
            " 2.60416667e-02 2.61139220e-02 2.63671875e-02 2.66927083e-02\n",
            " 2.67536705e-02 2.68554688e-02 2.70182292e-02 2.71809896e-02\n",
            " 2.72430669e-02 2.75693312e-02 2.76512687e-02 2.78320312e-02\n",
            " 2.78955954e-02 2.79947917e-02 2.84830729e-02 2.89713542e-02\n",
            " 2.91341146e-02 2.92968750e-02 2.94596354e-02 2.96223958e-02\n",
            " 3.01106771e-02 3.01794454e-02 3.04361979e-02 3.05057096e-02\n",
            " 3.05206463e-02 3.06688418e-02 3.07617188e-02 3.14127604e-02\n",
            " 3.16476346e-02 3.19010417e-02 3.19738989e-02 3.22265625e-02\n",
            " 3.23001631e-02 3.24632953e-02 3.27148438e-02 3.30403646e-02\n",
            " 3.32031250e-02 3.32789560e-02 3.33658854e-02 3.34420881e-02\n",
            " 3.40169271e-02 3.41796875e-02 3.45052083e-02 3.47471452e-02\n",
            " 3.50734095e-02 3.53996737e-02 3.56445312e-02 3.60522023e-02\n",
            " 3.62955729e-02 3.66210938e-02 3.67838542e-02 3.72721354e-02\n",
            " 3.75203915e-02 3.78466558e-02 3.79231771e-02 3.84114583e-02\n",
            " 3.85742188e-02 3.88254486e-02 3.88997396e-02 3.97135417e-02\n",
            " 4.02018229e-02 4.05273438e-02 4.07830343e-02 4.08528646e-02\n",
            " 4.11783854e-02 4.17822752e-02 4.18294271e-02 4.19454872e-02\n",
            " 4.23177083e-02 4.24804688e-02 4.25774878e-02 4.26432292e-02\n",
            " 4.28059896e-02 4.29037520e-02 4.29687500e-02 4.30668842e-02\n",
            " 4.34143953e-02 4.34570312e-02 4.35562806e-02 4.43719413e-02\n",
            " 4.47591146e-02 4.48613377e-02 4.48833034e-02 4.50244698e-02\n",
            " 4.50846354e-02 4.51876020e-02 4.55138662e-02 4.61663948e-02\n",
            " 4.73632812e-02 4.76888021e-02 4.84739677e-02 4.86653646e-02\n",
            " 4.91536458e-02 4.95921697e-02 5.00815661e-02 5.04557292e-02\n",
            " 5.05709625e-02 5.10603589e-02 5.12234910e-02 5.12695312e-02\n",
            " 5.14322917e-02 5.17128874e-02 5.20391517e-02 5.33442088e-02\n",
            " 5.39967374e-02 5.40364583e-02 5.43619792e-02 5.45247396e-02\n",
            " 5.46875000e-02 5.48123980e-02 5.50130208e-02 5.51386623e-02\n",
            " 5.51757812e-02 5.53017945e-02 5.58268229e-02 5.59895833e-02\n",
            " 5.61174551e-02 5.63151042e-02 5.64778646e-02 5.66068515e-02\n",
            " 5.74544271e-02 5.76171875e-02 5.79119086e-02 5.82381729e-02\n",
            " 5.95432300e-02 5.95723845e-02 6.07096354e-02 6.08482871e-02\n",
            " 6.10114192e-02 6.13376835e-02 6.15234375e-02 6.16639478e-02\n",
            " 6.18270799e-02 6.23164763e-02 6.23372396e-02 6.41109299e-02\n",
            " 6.44531250e-02 6.51041667e-02 6.55924479e-02 6.59053834e-02\n",
            " 6.64062500e-02 6.68945312e-02 6.80338542e-02 6.85154976e-02\n",
            " 6.91731771e-02 7.01468189e-02 7.06362153e-02 7.06380208e-02\n",
            " 7.12890625e-02 7.21028646e-02 7.24306688e-02 7.29200653e-02\n",
            " 7.38988581e-02 7.48697917e-02 7.52039152e-02 7.53670473e-02\n",
            " 7.65089723e-02 7.68352365e-02 7.74739583e-02 7.74877651e-02\n",
            " 7.83034258e-02 7.91578260e-02 7.96474621e-02 7.99738861e-02\n",
            " 8.04241436e-02 8.05139883e-02 8.05872757e-02 8.09135400e-02\n",
            " 8.14029364e-02 8.15660685e-02 8.27079935e-02 8.28450521e-02\n",
            " 8.34960938e-02 8.46354167e-02 8.56443719e-02 8.57747396e-02\n",
            " 8.58075041e-02 8.59375000e-02 8.90299479e-02 8.98858075e-02\n",
            " 9.02120718e-02 9.04947917e-02 9.21696574e-02 9.30308471e-02\n",
            " 9.35872396e-02 9.37500000e-02 9.38009788e-02 9.69004894e-02\n",
            " 9.92329035e-02 9.96737357e-02 1.00652529e-01 1.02446982e-01\n",
            " 1.03915171e-01 1.04404568e-01 1.06117151e-01 1.06362153e-01\n",
            " 1.06441668e-01 1.07014682e-01 1.08482871e-01 1.09141184e-01\n",
            " 1.09466493e-01 1.09624796e-01 1.12586037e-01 1.12913799e-01\n",
            " 1.13932292e-01 1.14192496e-01 1.17944535e-01 1.18597064e-01\n",
            " 1.20650033e-01 1.20717781e-01 1.20978332e-01 1.21271714e-01\n",
            " 1.21599476e-01 1.22185971e-01 1.22512235e-01 1.23654160e-01\n",
            " 1.23860677e-01 1.28022067e-01 1.28058728e-01 1.28346584e-01\n",
            " 1.28974401e-01 1.29300505e-01 1.29584352e-01 1.29910350e-01\n",
            " 1.31647635e-01 1.32374571e-01 1.32701422e-01 1.33300781e-01\n",
            " 1.34257749e-01 1.36541599e-01 1.37721602e-01 1.37885966e-01\n",
            " 1.38049902e-01 1.38212710e-01 1.38748161e-01 1.38857236e-01\n",
            " 1.38875306e-01 1.39075012e-01 1.39182810e-01 1.39201304e-01\n",
            " 1.39477977e-01 1.40990034e-01 1.41316778e-01 1.41346779e-01\n",
            " 1.41672088e-01 1.42740620e-01 1.42833850e-01 1.43159954e-01\n",
            " 1.43230016e-01 1.47135417e-01 1.49926746e-01 1.50252320e-01\n",
            " 1.52528548e-01 1.60807292e-01 1.61174551e-01 1.66992188e-01\n",
            " 1.68678630e-01 1.71875000e-01 1.75618490e-01 1.85644372e-01\n",
            " 2.29037520e-01 3.31647635e-01 5.34179688e-01 7.82063802e-01\n",
            " 8.90212072e-01 9.42251223e-01 9.55954323e-01 9.56280587e-01\n",
            " 9.59543230e-01 1.00000000e+00]\n",
            "mean_tpr:  [0.65048405 0.66146116 0.66222851 0.67019419 0.67124147 0.70725337\n",
            " 0.76040414 0.76968058 0.77044792 0.77243934 0.77453389 0.78212318\n",
            " 0.7835955  0.78916136 0.78992871 0.7939682  0.81227177 0.81736598\n",
            " 0.81844065 0.82891478 0.83070078 0.83425675 0.83441022 0.83500866\n",
            " 0.83634795 0.83990391 0.8411008  0.84139842 0.84170764 0.84293538\n",
            " 0.84308499 0.84368023 0.84816384 0.85040801 0.85100325 0.8520855\n",
            " 0.85362018 0.8552659  0.85541471 0.85680618 0.85711312 0.85771156\n",
            " 0.85863237 0.86072692 0.86161978 0.86223365 0.86358015 0.86402658\n",
            " 0.86510883 0.86525844 0.86719297 0.86750218 0.86765565 0.86810448\n",
            " 0.8684021  0.86855557 0.86870904 0.86870904 0.86915547 0.86931008\n",
            " 0.86992395 0.87052239 0.87096882 0.87127804 0.87382142 0.87428525\n",
            " 0.87505259 0.87564783 0.87580129 0.87595091 0.87610551 0.87687285\n",
            " 0.87717208 0.87732668 0.87809403 0.88018858 0.88049552 0.88139318\n",
            " 0.88154779 0.88185473 0.88200434 0.88215894 0.88260537 0.88353302\n",
            " 0.8850677  0.88551653 0.88596296 0.88671102 0.88715745 0.88731205\n",
            " 0.8880794  0.88822901 0.88976369 0.89066136 0.89081596 0.89127637\n",
            " 0.89157559 0.89188481 0.89265215 0.89280176 0.89295637 0.89341677\n",
            " 0.89418411 0.89448173 0.89463634 0.89494328 0.89509289 0.89524749\n",
            " 0.89569633 0.89646367 0.89661328 0.89692249 0.89753637 0.89769098\n",
            " 0.89815138 0.8984506  0.89860521 0.89921908 0.89937255 0.89982139\n",
            " 0.89997019 0.90104447 0.90119408 0.90134289 0.90164983 0.90194905\n",
            " 0.90225827 0.9027071  0.90347444 0.90362405 0.90377866 0.9040856\n",
            " 0.90468404 0.90483865 0.90498826 0.90528748 0.9055867  0.90573551\n",
            " 0.90634939 0.90664861 0.90680208 0.9071013  0.90863598 0.90971026\n",
            " 0.90986373 0.91001334 0.91016795 0.91032142 0.91077025 0.91138412\n",
            " 0.91168335 0.91183215 0.91198676 0.91213557 0.91274945 0.91304867\n",
            " 0.91319828 0.91335175 0.91442603 0.91472525 0.91487872 0.91503332\n",
            " 0.91549373 0.9156472  0.91580067 0.91594947 0.91654792 0.91716179\n",
            " 0.91790985 0.91806332 0.91821293 0.92051495 0.92066456 0.92081917\n",
            " 0.92127958 0.92204692 0.92220153 0.92235499 0.92358274 0.92418118\n",
            " 0.92464159 0.9247912  0.92509814 0.92571201 0.92601895 0.92632588\n",
            " 0.92647935 0.92740016 0.92755363 0.9277071  0.92800632 0.92831326\n",
            " 0.92938754 0.92953715 0.92984409 0.9307649  0.93107183 0.93153224\n",
            " 0.9324299  0.93258337 0.93304378 0.93319339 0.933343   0.93349647\n",
            " 0.93441728 0.93457189 0.93487882 0.93503343 0.93518304 0.93533651\n",
            " 0.93548612 0.93609999 0.93639922 0.93732003 0.93747349 0.93762696\n",
            " 0.93777657 0.93808351 0.93823698 0.93854392 0.93900432 0.93915393\n",
            " 0.93930354 0.94007088 0.94053129 0.94068476 0.94113359 0.94128706\n",
            " 0.9420544  0.94220401 0.94235748 0.94312482 0.94342404 0.94403792\n",
            " 0.94418753 0.94433634 0.94448981 0.94523786 0.9455448  0.94585174\n",
            " 0.94630057 0.94645404 0.94676097 0.94691058 0.94737099 0.94752446\n",
            " 0.94767793 0.94782754 0.94797715 0.94889796 0.94905143 0.94935065\n",
            " 0.94965759 0.94996452 0.95042493 0.95057454 0.95118841 0.95133722\n",
            " 0.95164416 0.9519511  0.95225032 0.95255725 0.95271072 0.95286419\n",
            " 0.95331302 0.95361225 0.95376685 0.95530154 0.95545115 0.95560462\n",
            " 0.95606502 0.9566789  0.95683236 0.9571393  0.95744624 0.95775317\n",
            " 0.95806011 0.95835933 0.95881974 0.95896935 0.95911816 0.95926777\n",
            " 0.95942124 0.95988164 0.96003125 0.96018472 0.96048394 0.96063741\n",
            " 0.96078702 0.96093664 0.96155051 0.96216438 0.96231785 0.96246746\n",
            " 0.96262093 0.96277054 0.96292401 0.96399829 0.96445869 0.9646083\n",
            " 0.96475792 0.96505714 0.96536407 0.96581291 0.96596638 0.96611984\n",
            " 0.96642678 0.96688719 0.9670368  0.96748563 0.9676391  0.96779257\n",
            " 0.96794604 0.96839487 0.96854834 0.96870181 0.96962262 0.96992955\n",
            " 0.97007916 0.97023263 0.97069304 0.97069304 0.97104296 0.97114878\n",
            " 0.97145572 0.97191612 0.97206574 0.97252614 0.97267961 0.97282922\n",
            " 0.97298269 0.9731323  0.97328111 0.97358805 0.97373766 0.97388727\n",
            " 0.9741942  0.97434382 0.97449263 0.97464224 0.9747957  0.97524454\n",
            " 0.97539415 0.97554376 0.97569723 0.97600417 0.97615297 0.97630644\n",
            " 0.97645991 0.97660952 0.97690874 0.97721568 0.97766451 0.97811335\n",
            " 0.97826296 0.97841643 0.9785699  0.97871951 0.97886912 0.97901873\n",
            " 0.97931795 0.97947142 0.97962489 0.97977836 0.97993182 0.98008143\n",
            " 0.9802349  0.98053413 0.98068759 0.9808372  0.98099067 0.98114414\n",
            " 0.98144336 0.98159683 0.9817503  0.98219913 0.9823526  0.98250607\n",
            " 0.98280529 0.9829549  0.98310451 0.98325332 0.9838672  0.98401681\n",
            " 0.98416642 0.98431603 0.9844695  0.98461911 0.98476872 0.98491833\n",
            " 0.9850718  0.98522141 0.98537488 0.98552835 0.98568182 0.98583143\n",
            " 0.9859849  0.98613836 0.98629183 0.98659105 0.98674452 0.98689413\n",
            " 0.98704374 0.98719721 0.98735068 0.98765762 0.98780723 0.98795684\n",
            " 0.98825606 0.98840953 0.98855914 0.98870875 0.98885836 0.98900797\n",
            " 0.98916144 0.98946066 0.98961028 0.98975909 0.9899079  0.9900567\n",
            " 0.99020632 0.99036092 0.99051053 0.99066014 0.99080976 0.99095937\n",
            " 0.99110898 0.99126245 0.99141591 0.99156938 0.99171899 0.99171899\n",
            " 0.9918995  0.99202207 0.99217554 0.99217554 0.99217554 0.99232901\n",
            " 0.99247862 0.99262743 0.99262743 0.9927809  0.99293051 0.99308012\n",
            " 0.99322893 0.99337854 0.99352815 0.99367776 0.99382737 0.99397699\n",
            " 0.99397699 0.9941266  0.9941266  0.99427621 0.99442582 0.99442582\n",
            " 0.99442582 0.99457543 0.99457543 0.99457543 0.9947289  0.99487851\n",
            " 0.99502812 0.99517773 0.99517773 0.99547695 0.99547695 0.99547695\n",
            " 0.99547695 0.99562656 0.99577618 0.99592579 0.99607925 0.99607925\n",
            " 0.99622887 0.99622887 0.99622887 0.99622887 0.99622887 0.99622887\n",
            " 0.99637848 0.99637848 0.99637848 0.99653195 0.99668156 0.99683117\n",
            " 0.99683117 0.99683117 0.99683117 0.99683117 0.99683117 0.99683117\n",
            " 0.99683117 0.99683117 0.99683117 0.99683117 0.99698078 0.99698078\n",
            " 0.99698078 0.99698078 0.99698078 0.99713039 0.99713039 0.99713039\n",
            " 0.99728    0.99743347 0.99743347 0.99743347 0.99758308 0.99773655\n",
            " 0.99788616 0.99803963 0.99818924 0.99834271 0.99849618 0.99864579\n",
            " 0.9987954  0.99894501 0.99909848 0.99925194 0.99940156 0.99955117\n",
            " 0.99970078 0.99985039 1.         1.        ]\n",
            "AUC =  0.9953805274601155\n"
          ]
        }
      ],
      "source": [
        "actual_classes = y_test_cv\n",
        "predicted_proba = y_test_prob\n",
        "\n",
        "fpr = dict()\n",
        "tpr = dict()\n",
        "roc_auc = dict()\n",
        "n_classes=12\n",
        "for i in range(n_classes):\n",
        "    fpr[i], tpr[i], _ = roc_curve(np.array(pd.get_dummies(actual_classes))[:, i], np.array(predicted_proba)[:, i])\n",
        "    roc_auc[i] = auc(fpr[i], tpr[i])\n",
        "#     print(\"fpr: \",fpr[i])\n",
        "#     print(\"tpr: \",tpr[i])\n",
        "#     print(\"roc_auc: \",roc_auc[i])\n",
        "\n",
        "all_fpr = np.unique(np.concatenate([fpr[i] for i in range(n_classes)]))\n",
        "print(\"all_fpr: \",all_fpr)\n",
        "mean_tpr = np.zeros_like(all_fpr)\n",
        "for i in range(n_classes):\n",
        "    mean_tpr += interp(all_fpr, fpr[i], tpr[i])\n",
        "mean_tpr /= n_classes\n",
        "\n",
        "fpr[\"macro\"] = all_fpr\n",
        "tpr[\"macro\"] = mean_tpr\n",
        "roc_auc[\"macro\"] = auc(fpr[\"macro\"], tpr[\"macro\"])\n",
        "print(\"mean_tpr: \",mean_tpr)\n",
        "print(\"AUC = \",roc_auc['macro'])"
      ],
      "id": "804ffd5e"
    },
    {
      "cell_type": "code",
      "execution_count": 37,
      "metadata": {
        "id": "f028e956"
      },
      "outputs": [],
      "source": [
        "roc_csv = pd.DataFrame()\n",
        "roc_csv[\"FPR(Macro)\"] = all_fpr\n",
        "roc_csv[\"TPR(Macro)\"] = mean_tpr"
      ],
      "id": "f028e956"
    },
    {
      "cell_type": "code",
      "execution_count": 38,
      "metadata": {
        "id": "769b9265"
      },
      "outputs": [],
      "source": [
        "roc_csv.to_csv(\"filename\", index=False)"
      ],
      "id": "769b9265"
    },
    {
      "cell_type": "code",
      "execution_count": 39,
      "metadata": {
        "colab": {
          "base_uri": "https://localhost:8080/",
          "height": 484
        },
        "id": "4okoIVD-OLTe",
        "outputId": "3d93a608-0cce-4d98-c183-ba95074c30d0"
      },
      "outputs": [
        {
          "output_type": "display_data",
          "data": {
            "text/plain": [
              "<Figure size 1100x500 with 2 Axes>"
            ],
            "image/png": "[encoded data removed]"
          },
          "metadata": {}
        }
      ],
      "source": [
        "import matplotlib.pyplot as plt\n",
        "import seaborn as sns\n",
        "from sklearn.metrics import confusion_matrix\n",
        "from sklearn.metrics import ConfusionMatrixDisplay\n",
        "import numpy as np\n",
        "\n",
        "# Assuming you have already calculated the confusion matrix 'cm' for 14 classes\n",
        "\n",
        "# Normalize the confusion matrix\n",
        "cm_normalized = cm.astype('float') / cm.sum(axis=1)[:, np.newaxis]\n",
        "sns.set(font_scale=1.2)\n",
        "# Plot the normalized confusion matrix heatmap\n",
        "fig=plt.figure(figsize=(11, 5))\n",
        "sns.heatmap(cm_normalized, annot=True, fmt='.1f', cmap='Blues', xticklabels=range(12), yticklabels=range(12))\n",
        "plt.xlabel('Predicted Labels')\n",
        "plt.ylabel('True Labels')\n",
        "fig.savefig('RRR',dpi=300, bbox_inches = 'tight')\n",
        "# plt.title('Normalized Confusion Matrix Heatmap')\n",
        "plt.show()"
      ],
      "id": "4okoIVD-OLTe"
    }
  ],
  "metadata": {
    "colab": {
      "provenance": [],
      "include_colab_link": true
    },
    "kernelspec": {
      "display_name": "Python 3",
      "name": "python3"
    },
    "language_info": {
      "codemirror_mode": {
        "name": "ipython",
        "version": 3
      },
      "file_extension": ".py",
      "mimetype": "text/x-python",
      "name": "python",
      "nbconvert_exporter": "python",
      "pygments_lexer": "ipython3",
      "version": "3.8.8"
    },
    "accelerator": "TPU"
  },
  "nbformat": 4,
  "nbformat_minor": 5
}